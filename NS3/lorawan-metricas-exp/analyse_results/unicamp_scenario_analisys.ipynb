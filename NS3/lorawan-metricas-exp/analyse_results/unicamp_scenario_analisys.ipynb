{
 "cells": [
  {
   "cell_type": "code",
   "execution_count": 1,
   "metadata": {},
   "outputs": [],
   "source": [
    "# ----- LIBS\n",
    "\n",
    "# systems access\n",
    "import os \n",
    "\n",
    "# data analysis\n",
    "import numpy as np\n",
    "import pandas as pd\n",
    "\n",
    "# charts\n",
    "import matplotlib.pyplot as plt\n",
    "import matplotlib.patches as patches\n",
    "import matplotlib.lines as mlines\n",
    "\n",
    "# geoprocessing\n",
    "import folium\n",
    "from folium import plugins\n",
    "import geopandas as gpd\n",
    "from shapely.geometry import Point"
   ]
  },
  {
   "cell_type": "markdown",
   "metadata": {},
   "source": [
    "# Roteiro\n",
    "\n",
    "- Análise de simulação\n",
    "    - Posicionamento e SF\n",
    "    - Métricas da camada PHY\n",
    "    - Cobertura/Alcance Lora\n",
    "    - Métricas de performance da rede completa (Mac Layer)\n",
    "    - Métricas de Consumo\\\n",
    "    \n",
    "    \n",
    "- Análise entre simulações\n",
    "    - variação de Payload\n",
    "    - variação de appPeriod\n",
    "    - variação de nº de nós"
   ]
  },
  {
   "cell_type": "markdown",
   "metadata": {},
   "source": [
    "# Análise de simulação"
   ]
  },
  {
   "cell_type": "code",
   "execution_count": 3,
   "metadata": {},
   "outputs": [],
   "source": [
    "current_path = os.getcwd()\n",
    "current_path = '/home/wasp/Desktop/Mestrado/ns3-bmap/NS3/lorawan-metricas-exp/'"
   ]
  },
  {
   "cell_type": "code",
   "execution_count": 43,
   "metadata": {},
   "outputs": [],
   "source": [
    "# SET NUMBER OF SIMULATION REPEAT\n",
    "NUM_SIM_REPEAT = 10\n",
    "\n",
    "# SET NUMBER OF NODES\n",
    "NUM_NODES = 222\n",
    "\n",
    "# SET simulation_folder path and simulation_id\n",
    "simulation_folder = current_path + \"/simulations\"\n",
    "simulation_id = \"/05-cor/\"\n",
    "\n",
    "# SET FILES TO BE ANALYSE\n",
    "sf_distribution_on_network = \"network_position.txt\"\n",
    "phy_layer_packet_outcome = \"phy_results.txt\"\n",
    "phy_layer_rssi_coverage = \"rssi_results.txt\"\n",
    "mac_layer_performance_metrics = \"net_results.txt\"\n",
    "mac_layer_power_consumption = \"energy_results.txt\""
   ]
  },
  {
   "cell_type": "markdown",
   "metadata": {},
   "source": [
    "## Posicionamento x SF"
   ]
  },
  {
   "cell_type": "code",
   "execution_count": 44,
   "metadata": {},
   "outputs": [
    {
     "name": "stdout",
     "output_type": "stream",
     "text": [
      "\n",
      "SHAPE: (222, 10)\n"
     ]
    },
    {
     "data": {
      "text/html": [
       "<div>\n",
       "<style scoped>\n",
       "    .dataframe tbody tr th:only-of-type {\n",
       "        vertical-align: middle;\n",
       "    }\n",
       "\n",
       "    .dataframe tbody tr th {\n",
       "        vertical-align: top;\n",
       "    }\n",
       "\n",
       "    .dataframe thead th {\n",
       "        text-align: right;\n",
       "    }\n",
       "</style>\n",
       "<table border=\"1\" class=\"dataframe\">\n",
       "  <thead>\n",
       "    <tr style=\"text-align: right;\">\n",
       "      <th></th>\n",
       "      <th>nodeId</th>\n",
       "      <th>posX</th>\n",
       "      <th>posY</th>\n",
       "      <th>posZ</th>\n",
       "      <th>sf</th>\n",
       "      <th>gwId</th>\n",
       "      <th>gw_posX</th>\n",
       "      <th>gw_posY</th>\n",
       "      <th>gw_posZ</th>\n",
       "      <th>distance</th>\n",
       "    </tr>\n",
       "  </thead>\n",
       "  <tbody>\n",
       "    <tr>\n",
       "      <th>0</th>\n",
       "      <td>0</td>\n",
       "      <td>1527.410</td>\n",
       "      <td>2180.210</td>\n",
       "      <td>1.5</td>\n",
       "      <td>7</td>\n",
       "      <td>222</td>\n",
       "      <td>1694.97</td>\n",
       "      <td>2141.47</td>\n",
       "      <td>44.9188</td>\n",
       "      <td>177.386</td>\n",
       "    </tr>\n",
       "    <tr>\n",
       "      <th>1</th>\n",
       "      <td>1</td>\n",
       "      <td>297.312</td>\n",
       "      <td>1965.810</td>\n",
       "      <td>1.5</td>\n",
       "      <td>7</td>\n",
       "      <td>222</td>\n",
       "      <td>1694.97</td>\n",
       "      <td>2141.47</td>\n",
       "      <td>44.9188</td>\n",
       "      <td>1409.330</td>\n",
       "    </tr>\n",
       "    <tr>\n",
       "      <th>2</th>\n",
       "      <td>2</td>\n",
       "      <td>1535.550</td>\n",
       "      <td>1646.180</td>\n",
       "      <td>1.5</td>\n",
       "      <td>7</td>\n",
       "      <td>222</td>\n",
       "      <td>1694.97</td>\n",
       "      <td>2141.47</td>\n",
       "      <td>44.9188</td>\n",
       "      <td>522.123</td>\n",
       "    </tr>\n",
       "    <tr>\n",
       "      <th>3</th>\n",
       "      <td>3</td>\n",
       "      <td>1149.490</td>\n",
       "      <td>1831.090</td>\n",
       "      <td>1.5</td>\n",
       "      <td>7</td>\n",
       "      <td>222</td>\n",
       "      <td>1694.97</td>\n",
       "      <td>2141.47</td>\n",
       "      <td>44.9188</td>\n",
       "      <td>629.109</td>\n",
       "    </tr>\n",
       "    <tr>\n",
       "      <th>4</th>\n",
       "      <td>4</td>\n",
       "      <td>1186.800</td>\n",
       "      <td>667.866</td>\n",
       "      <td>1.5</td>\n",
       "      <td>7</td>\n",
       "      <td>222</td>\n",
       "      <td>1694.97</td>\n",
       "      <td>2141.47</td>\n",
       "      <td>44.9188</td>\n",
       "      <td>1559.370</td>\n",
       "    </tr>\n",
       "  </tbody>\n",
       "</table>\n",
       "</div>"
      ],
      "text/plain": [
       "   nodeId      posX      posY  posZ  sf  gwId  gw_posX  gw_posY  gw_posZ  \\\n",
       "0       0  1527.410  2180.210   1.5   7   222  1694.97  2141.47  44.9188   \n",
       "1       1   297.312  1965.810   1.5   7   222  1694.97  2141.47  44.9188   \n",
       "2       2  1535.550  1646.180   1.5   7   222  1694.97  2141.47  44.9188   \n",
       "3       3  1149.490  1831.090   1.5   7   222  1694.97  2141.47  44.9188   \n",
       "4       4  1186.800   667.866   1.5   7   222  1694.97  2141.47  44.9188   \n",
       "\n",
       "   distance  \n",
       "0   177.386  \n",
       "1  1409.330  \n",
       "2   522.123  \n",
       "3   629.109  \n",
       "4  1559.370  "
      ]
     },
     "execution_count": 44,
     "metadata": {},
     "output_type": "execute_result"
    }
   ],
   "source": [
    "# ----- DATASET\n",
    "file_to_be_analysed = sf_distribution_on_network\n",
    "path_to_simulation = simulation_folder + simulation_id + file_to_be_analysed\n",
    "\n",
    "net_position_df = pd.read_csv(path_to_simulation, header=None) \n",
    "net_position_df.columns = [\"nodeId\", \"posX\", \"posY\", \"posZ\",\n",
    "                           \"sf\", \"gwId\", \"gw_posX\", \"gw_posY\", \"gw_posZ\", \"distance\"]\n",
    "\n",
    "print(\"\\nSHAPE:\", net_position_df.shape)\n",
    "net_position_df.head()"
   ]
  },
  {
   "cell_type": "code",
   "execution_count": 45,
   "metadata": {},
   "outputs": [],
   "source": [
    "# ----- PLOT SIZE SETTINGS\n",
    "\n",
    "# chart bounds\n",
    "xMin_bound, xMax_bound = -500, 2000\n",
    "yMin_bound, yMax_bound = 0, 2500 \n",
    "\n",
    "# chart figsize\n",
    "x_figsize, y_figsize = 5, 5\n",
    "\n",
    "\n",
    "# ----- LEGEND SETTINGS PER PLOT\n",
    "def set_plots_legends():\n",
    "   \n",
    "    # legend list settings\n",
    "    plots_legends = []\n",
    "       \n",
    "    # ED points\n",
    "    colors = ['y','orange', 'green', 'blue', 'purple', 'black']\n",
    "    for sf in range(len(colors)):\n",
    "        scatter_lgd = mlines.Line2D([], [], color = 'white', marker = 'o',  markeredgecolor = colors[sf],\n",
    "                                  markeredgewidth = 0.5, markerfacecolor = colors[sf], markersize = 7, \n",
    "                                  label = 'SF' + str(sf + 7))\n",
    "        plots_legends.append(scatter_lgd)\n",
    "    \n",
    "    \n",
    "    # GW points\n",
    "    scatter_lgd = mlines.Line2D([], [], color = 'white', marker = (5,2), markeredgecolor = 'red',\n",
    "                                  markeredgewidth = 0.5, markerfacecolor = 'red', markersize = 15, \n",
    "                                  label = 'GW')\n",
    "    plots_legends.append(scatter_lgd)\n",
    "    \n",
    "    return plots_legends"
   ]
  },
  {
   "cell_type": "code",
   "execution_count": 46,
   "metadata": {},
   "outputs": [],
   "source": [
    "# ----- EDs LISTS per SF\n",
    "\n",
    "# to initialize multiple lists\n",
    "eds_x_sf7, eds_y_sf7, eds_x_sf8, eds_y_sf8 = ([] for i in range(4))\n",
    "eds_x_sf9, eds_y_sf9, eds_x_sf10, eds_y_sf10 = ([] for i in range(4))\n",
    "eds_x_sf11, eds_y_sf11, eds_x_sf12, eds_y_sf12 = ([] for i in range(4))\n",
    "\n",
    "\n",
    "for i in range (len(net_position_df)):\n",
    "    if net_position_df.iloc[i].sf == 7.0:\n",
    "        eds_x_sf7.append(net_position_df.iloc[i].posX)\n",
    "        eds_y_sf7.append(net_position_df.iloc[i].posY)\n",
    "    if net_position_df.iloc[i].sf == 8.0:\n",
    "        eds_x_sf8.append(net_position_df.iloc[i].posX)\n",
    "        eds_y_sf8.append(net_position_df.iloc[i].posY)\n",
    "    if net_position_df.iloc[i].sf == 9.0:\n",
    "        eds_x_sf9.append(net_position_df.iloc[i].posX)\n",
    "        eds_y_sf9.append(net_position_df.iloc[i].posY)\n",
    "    if net_position_df.iloc[i].sf == 10.0:\n",
    "        eds_x_sf10.append(net_position_df.iloc[i].posX)\n",
    "        eds_y_sf10.append(net_position_df.iloc[i].posY)\n",
    "    if net_position_df.iloc[i].sf == 11.0:\n",
    "        eds_x_sf11.append(net_position_df.iloc[i].posX)\n",
    "        eds_y_sf11.append(net_position_df.iloc[i].posY)\n",
    "    if net_position_df.iloc[i].sf == 12.0:\n",
    "        eds_x_sf12.append(net_position_df.iloc[i].posX)\n",
    "        eds_y_sf12.append(net_position_df.iloc[i].posY)"
   ]
  },
  {
   "cell_type": "code",
   "execution_count": 47,
   "metadata": {},
   "outputs": [
    {
     "data": {
      "image/png": "[encoded data removed]",
      "text/plain": [
       "<Figure size 360x360 with 1 Axes>"
      ]
     },
     "metadata": {
      "needs_background": "light"
     },
     "output_type": "display_data"
    }
   ],
   "source": [
    "# ----- PLOT ED E GW\n",
    "\n",
    "# plot initialize\n",
    "fig, ax = plt.subplots(figsize=(x_figsize, y_figsize))\n",
    "\n",
    "# draw ED posxy per SF \n",
    "ax.scatter(eds_x_sf7, eds_y_sf7, color='y', label ='SF7')\n",
    "ax.scatter(eds_x_sf8, eds_y_sf8, color='orange', label ='SF8')\n",
    "ax.scatter(eds_x_sf9, eds_y_sf9, color='green', label ='SF9')\n",
    "ax.scatter(eds_x_sf10, eds_y_sf10, color='blue', label ='SF10')\n",
    "ax.scatter(eds_x_sf11, eds_y_sf11, color='purple', label ='SF11')\n",
    "ax.scatter(eds_x_sf12, eds_y_sf12, color='black', label ='SF10')\n",
    "\n",
    "# draw GW\n",
    "ax.scatter(net_position_df.iloc[0].gw_posX, net_position_df.iloc[0].gw_posY, color='red', label ='GW', marker = (5,2), s = 200)\n",
    "        \n",
    "# legend settings\n",
    "legends_list = set_plots_legends()\n",
    "ax.legend(handles=[line for line in legends_list], loc=\"upper right\", bbox_to_anchor=(1.4, 1.01), prop={'size': 14})\n",
    "\n",
    "# chart bounds\n",
    "ax.set(xlim=(xMin_bound, xMax_bound), ylim = (yMin_bound, yMax_bound))\n",
    "\n",
    "# Title\n",
    "ax.set_title('Distribuição randômica de EDs em torno de GW.', fontweight='bold', fontsize=14, y=1.1)\n",
    "plt.show()\n",
    "fig.savefig('dist_rand_ed_gw.png',bbox_inches='tight')"
   ]
  },
  {
   "cell_type": "code",
   "execution_count": null,
   "metadata": {},
   "outputs": [],
   "source": []
  },
  {
   "cell_type": "code",
   "execution_count": null,
   "metadata": {},
   "outputs": [],
   "source": []
  },
  {
   "cell_type": "markdown",
   "metadata": {},
   "source": [
    "## Métricas da camada PHY"
   ]
  },
  {
   "cell_type": "code",
   "execution_count": 8,
   "metadata": {},
   "outputs": [
    {
     "name": "stdout",
     "output_type": "stream",
     "text": [
      "\n",
      "SHAPE: (10, 6)\n"
     ]
    },
    {
     "data": {
      "text/html": [
       "<div>\n",
       "<style scoped>\n",
       "    .dataframe tbody tr th:only-of-type {\n",
       "        vertical-align: middle;\n",
       "    }\n",
       "\n",
       "    .dataframe tbody tr th {\n",
       "        vertical-align: top;\n",
       "    }\n",
       "\n",
       "    .dataframe thead th {\n",
       "        text-align: right;\n",
       "    }\n",
       "</style>\n",
       "<table border=\"1\" class=\"dataframe\">\n",
       "  <thead>\n",
       "    <tr style=\"text-align: right;\">\n",
       "      <th></th>\n",
       "      <th>gwID</th>\n",
       "      <th>received</th>\n",
       "      <th>interfered</th>\n",
       "      <th>noMoreReceivers</th>\n",
       "      <th>underSensitivity</th>\n",
       "      <th>lost</th>\n",
       "    </tr>\n",
       "  </thead>\n",
       "  <tbody>\n",
       "    <tr>\n",
       "      <th>0</th>\n",
       "      <td>0</td>\n",
       "      <td>4388</td>\n",
       "      <td>0</td>\n",
       "      <td>0</td>\n",
       "      <td>0</td>\n",
       "      <td>0</td>\n",
       "    </tr>\n",
       "    <tr>\n",
       "      <th>1</th>\n",
       "      <td>0</td>\n",
       "      <td>131629</td>\n",
       "      <td>11</td>\n",
       "      <td>0</td>\n",
       "      <td>0</td>\n",
       "      <td>0</td>\n",
       "    </tr>\n",
       "    <tr>\n",
       "      <th>2</th>\n",
       "      <td>0</td>\n",
       "      <td>131549</td>\n",
       "      <td>91</td>\n",
       "      <td>0</td>\n",
       "      <td>0</td>\n",
       "      <td>0</td>\n",
       "    </tr>\n",
       "    <tr>\n",
       "      <th>3</th>\n",
       "      <td>0</td>\n",
       "      <td>131640</td>\n",
       "      <td>0</td>\n",
       "      <td>0</td>\n",
       "      <td>0</td>\n",
       "      <td>0</td>\n",
       "    </tr>\n",
       "    <tr>\n",
       "      <th>4</th>\n",
       "      <td>0</td>\n",
       "      <td>131640</td>\n",
       "      <td>0</td>\n",
       "      <td>0</td>\n",
       "      <td>0</td>\n",
       "      <td>0</td>\n",
       "    </tr>\n",
       "    <tr>\n",
       "      <th>5</th>\n",
       "      <td>0</td>\n",
       "      <td>131538</td>\n",
       "      <td>102</td>\n",
       "      <td>0</td>\n",
       "      <td>0</td>\n",
       "      <td>0</td>\n",
       "    </tr>\n",
       "    <tr>\n",
       "      <th>6</th>\n",
       "      <td>0</td>\n",
       "      <td>131553</td>\n",
       "      <td>87</td>\n",
       "      <td>0</td>\n",
       "      <td>0</td>\n",
       "      <td>0</td>\n",
       "    </tr>\n",
       "    <tr>\n",
       "      <th>7</th>\n",
       "      <td>0</td>\n",
       "      <td>131640</td>\n",
       "      <td>0</td>\n",
       "      <td>0</td>\n",
       "      <td>0</td>\n",
       "      <td>0</td>\n",
       "    </tr>\n",
       "    <tr>\n",
       "      <th>8</th>\n",
       "      <td>0</td>\n",
       "      <td>131426</td>\n",
       "      <td>214</td>\n",
       "      <td>0</td>\n",
       "      <td>0</td>\n",
       "      <td>0</td>\n",
       "    </tr>\n",
       "    <tr>\n",
       "      <th>9</th>\n",
       "      <td>0</td>\n",
       "      <td>131640</td>\n",
       "      <td>0</td>\n",
       "      <td>0</td>\n",
       "      <td>0</td>\n",
       "      <td>0</td>\n",
       "    </tr>\n",
       "  </tbody>\n",
       "</table>\n",
       "</div>"
      ],
      "text/plain": [
       "   gwID  received  interfered  noMoreReceivers  underSensitivity  lost\n",
       "0     0      4388           0                0                 0     0\n",
       "1     0    131629          11                0                 0     0\n",
       "2     0    131549          91                0                 0     0\n",
       "3     0    131640           0                0                 0     0\n",
       "4     0    131640           0                0                 0     0\n",
       "5     0    131538         102                0                 0     0\n",
       "6     0    131553          87                0                 0     0\n",
       "7     0    131640           0                0                 0     0\n",
       "8     0    131426         214                0                 0     0\n",
       "9     0    131640           0                0                 0     0"
      ]
     },
     "execution_count": 8,
     "metadata": {},
     "output_type": "execute_result"
    }
   ],
   "source": [
    "# ----- DATASET\n",
    "file_to_be_analysed = phy_layer_packet_outcome\n",
    "path_to_simulation = simulation_folder + simulation_id + file_to_be_analysed\n",
    "\n",
    "phy_df = pd.read_csv(path_to_simulation, header=None) \n",
    "phy_df.columns = [\"gwID\", \"received\", \"interfered\", \"noMoreReceivers\", \"underSensitivity\", \"lost\"]\n",
    "\n",
    "print(\"\\nSHAPE:\", phy_df.shape)\n",
    "phy_df.head(10)"
   ]
  },
  {
   "cell_type": "code",
   "execution_count": 9,
   "metadata": {},
   "outputs": [
    {
     "name": "stdout",
     "output_type": "stream",
     "text": [
      "PHY LAYER - Packet Outcome METRICS:\n",
      "\n",
      "received: 118864.3\n",
      "interfered: 50.5\n",
      "noMoreReceivers: 0.0\n",
      "underSensitivity: 0.0\n",
      "lost: 0.0\n"
     ]
    }
   ],
   "source": [
    "# Valores médios de cada coluna\n",
    "print(\"PHY LAYER - Packet Outcome METRICS:\\n\")\n",
    "print(\"received:\", phy_df['received'].mean())\n",
    "print(\"interfered:\", phy_df['interfered'].mean())\n",
    "print(\"noMoreReceivers:\", phy_df['noMoreReceivers'].mean())\n",
    "print(\"underSensitivity:\", phy_df['underSensitivity'].mean())\n",
    "print(\"lost:\", phy_df['lost'].mean())"
   ]
  },
  {
   "cell_type": "code",
   "execution_count": null,
   "metadata": {},
   "outputs": [],
   "source": []
  },
  {
   "cell_type": "code",
   "execution_count": null,
   "metadata": {},
   "outputs": [],
   "source": []
  },
  {
   "cell_type": "markdown",
   "metadata": {},
   "source": [
    "## Cobertura/Alcance LoRa"
   ]
  },
  {
   "cell_type": "code",
   "execution_count": 12,
   "metadata": {},
   "outputs": [
    {
     "name": "stdout",
     "output_type": "stream",
     "text": [
      "\n",
      "SHAPE: (2220, 4)\n",
      "\n",
      "SHAPE: (47, 4)\n"
     ]
    },
    {
     "data": {
      "text/html": [
       "<div>\n",
       "<style scoped>\n",
       "    .dataframe tbody tr th:only-of-type {\n",
       "        vertical-align: middle;\n",
       "    }\n",
       "\n",
       "    .dataframe tbody tr th {\n",
       "        vertical-align: top;\n",
       "    }\n",
       "\n",
       "    .dataframe thead th {\n",
       "        text-align: right;\n",
       "    }\n",
       "</style>\n",
       "<table border=\"1\" class=\"dataframe\">\n",
       "  <thead>\n",
       "    <tr style=\"text-align: right;\">\n",
       "      <th></th>\n",
       "      <th>gwId</th>\n",
       "      <th>nodeId</th>\n",
       "      <th>RSSI_Sim</th>\n",
       "      <th>distance_between</th>\n",
       "    </tr>\n",
       "  </thead>\n",
       "  <tbody>\n",
       "    <tr>\n",
       "      <th>0</th>\n",
       "      <td>222</td>\n",
       "      <td>0</td>\n",
       "      <td>-67.3581</td>\n",
       "      <td>177.386</td>\n",
       "    </tr>\n",
       "    <tr>\n",
       "      <th>1</th>\n",
       "      <td>222</td>\n",
       "      <td>1</td>\n",
       "      <td>-97.6443</td>\n",
       "      <td>1409.330</td>\n",
       "    </tr>\n",
       "    <tr>\n",
       "      <th>2</th>\n",
       "      <td>222</td>\n",
       "      <td>2</td>\n",
       "      <td>-86.6351</td>\n",
       "      <td>522.123</td>\n",
       "    </tr>\n",
       "    <tr>\n",
       "      <th>3</th>\n",
       "      <td>222</td>\n",
       "      <td>3</td>\n",
       "      <td>-84.7404</td>\n",
       "      <td>629.109</td>\n",
       "    </tr>\n",
       "    <tr>\n",
       "      <th>4</th>\n",
       "      <td>222</td>\n",
       "      <td>4</td>\n",
       "      <td>-96.3774</td>\n",
       "      <td>1559.370</td>\n",
       "    </tr>\n",
       "  </tbody>\n",
       "</table>\n",
       "</div>"
      ],
      "text/plain": [
       "   gwId  nodeId  RSSI_Sim  distance_between\n",
       "0   222       0  -67.3581           177.386\n",
       "1   222       1  -97.6443          1409.330\n",
       "2   222       2  -86.6351           522.123\n",
       "3   222       3  -84.7404           629.109\n",
       "4   222       4  -96.3774          1559.370"
      ]
     },
     "execution_count": 12,
     "metadata": {},
     "output_type": "execute_result"
    }
   ],
   "source": [
    "# ----- DATASET\n",
    "file_to_be_analysed = phy_layer_rssi_coverage\n",
    "path_to_simulation = simulation_folder + simulation_id + file_to_be_analysed\n",
    "\n",
    "rssi_df = pd.read_csv(path_to_simulation, header=None) \n",
    "rssi_df.columns = [\"gwId\", \"nodeId\", \"RSSI_Sim\", \"distance_between\"]\n",
    "\n",
    "# print(path)\n",
    "print(\"\\nSHAPE:\", rssi_df.shape)\n",
    "rssi_df = rssi_df.iloc[0:47]\n",
    "print(\"\\nSHAPE:\", rssi_df.shape)\n",
    "rssi_df.head()\n",
    "\n",
    "# TO BE DONE - TIRAR RSSI MEDIO REFERENTE A CADA POSIÇÃO DO DATASET, OBTENDO A COBERTURA MÉDIA TOTAL DE RSSI"
   ]
  },
  {
   "cell_type": "code",
   "execution_count": 13,
   "metadata": {},
   "outputs": [
    {
     "name": "stdout",
     "output_type": "stream",
     "text": [
      "DATASET SHAPE: (47, 9)\n"
     ]
    },
    {
     "data": {
      "text/html": [
       "<div>\n",
       "<style scoped>\n",
       "    .dataframe tbody tr th:only-of-type {\n",
       "        vertical-align: middle;\n",
       "    }\n",
       "\n",
       "    .dataframe tbody tr th {\n",
       "        vertical-align: top;\n",
       "    }\n",
       "\n",
       "    .dataframe thead th {\n",
       "        text-align: right;\n",
       "    }\n",
       "</style>\n",
       "<table border=\"1\" class=\"dataframe\">\n",
       "  <thead>\n",
       "    <tr style=\"text-align: right;\">\n",
       "      <th></th>\n",
       "      <th>Unnamed: 0</th>\n",
       "      <th>id</th>\n",
       "      <th>name</th>\n",
       "      <th>x</th>\n",
       "      <th>y</th>\n",
       "      <th>z</th>\n",
       "      <th>elevation</th>\n",
       "      <th>latitude</th>\n",
       "      <th>longitude</th>\n",
       "    </tr>\n",
       "  </thead>\n",
       "  <tbody>\n",
       "    <tr>\n",
       "      <th>0</th>\n",
       "      <td>0</td>\n",
       "      <td>1321.0</td>\n",
       "      <td>INOVA</td>\n",
       "      <td>1527.405075</td>\n",
       "      <td>2180.212233</td>\n",
       "      <td>1.5</td>\n",
       "      <td>644.458740</td>\n",
       "      <td>-22.814543</td>\n",
       "      <td>-47.059340</td>\n",
       "    </tr>\n",
       "    <tr>\n",
       "      <th>1</th>\n",
       "      <td>1</td>\n",
       "      <td>535.0</td>\n",
       "      <td>BC</td>\n",
       "      <td>297.311734</td>\n",
       "      <td>1965.812273</td>\n",
       "      <td>1.5</td>\n",
       "      <td>602.154968</td>\n",
       "      <td>-22.816324</td>\n",
       "      <td>-47.071348</td>\n",
       "    </tr>\n",
       "    <tr>\n",
       "      <th>2</th>\n",
       "      <td>2</td>\n",
       "      <td>802.0</td>\n",
       "      <td>CBMEG</td>\n",
       "      <td>1535.553550</td>\n",
       "      <td>1646.180816</td>\n",
       "      <td>1.5</td>\n",
       "      <td>652.513123</td>\n",
       "      <td>-22.819365</td>\n",
       "      <td>-47.059333</td>\n",
       "    </tr>\n",
       "    <tr>\n",
       "      <th>3</th>\n",
       "      <td>3</td>\n",
       "      <td>845.0</td>\n",
       "      <td>CCUEC</td>\n",
       "      <td>1149.489906</td>\n",
       "      <td>1831.086023</td>\n",
       "      <td>1.5</td>\n",
       "      <td>616.788940</td>\n",
       "      <td>-22.817648</td>\n",
       "      <td>-47.063068</td>\n",
       "    </tr>\n",
       "    <tr>\n",
       "      <th>4</th>\n",
       "      <td>4</td>\n",
       "      <td>1037.0</td>\n",
       "      <td>GASTROCENTRO</td>\n",
       "      <td>1186.795533</td>\n",
       "      <td>667.866479</td>\n",
       "      <td>1.5</td>\n",
       "      <td>635.025085</td>\n",
       "      <td>-22.828153</td>\n",
       "      <td>-47.062863</td>\n",
       "    </tr>\n",
       "  </tbody>\n",
       "</table>\n",
       "</div>"
      ],
      "text/plain": [
       "   Unnamed: 0      id          name            x            y    z  \\\n",
       "0           0  1321.0         INOVA  1527.405075  2180.212233  1.5   \n",
       "1           1   535.0            BC   297.311734  1965.812273  1.5   \n",
       "2           2   802.0         CBMEG  1535.553550  1646.180816  1.5   \n",
       "3           3   845.0         CCUEC  1149.489906  1831.086023  1.5   \n",
       "4           4  1037.0  GASTROCENTRO  1186.795533   667.866479  1.5   \n",
       "\n",
       "    elevation   latitude  longitude  \n",
       "0  644.458740 -22.814543 -47.059340  \n",
       "1  602.154968 -22.816324 -47.071348  \n",
       "2  652.513123 -22.819365 -47.059333  \n",
       "3  616.788940 -22.817648 -47.063068  \n",
       "4  635.025085 -22.828153 -47.062863  "
      ]
     },
     "execution_count": 13,
     "metadata": {},
     "output_type": "execute_result"
    }
   ],
   "source": [
    "# Visualizando dataset criado\n",
    "coletores_df = pd.read_csv(\"coletores_pos_dataset_elev.csv\") \n",
    "print(\"DATASET SHAPE:\", coletores_df.shape)\n",
    "coletores_df.head()"
   ]
  },
  {
   "cell_type": "code",
   "execution_count": 14,
   "metadata": {},
   "outputs": [
    {
     "name": "stdout",
     "output_type": "stream",
     "text": [
      "DATASET SHAPE: (47, 6)\n"
     ]
    },
    {
     "data": {
      "text/html": [
       "<div>\n",
       "<style scoped>\n",
       "    .dataframe tbody tr th:only-of-type {\n",
       "        vertical-align: middle;\n",
       "    }\n",
       "\n",
       "    .dataframe tbody tr th {\n",
       "        vertical-align: top;\n",
       "    }\n",
       "\n",
       "    .dataframe thead th {\n",
       "        text-align: right;\n",
       "    }\n",
       "</style>\n",
       "<table border=\"1\" class=\"dataframe\">\n",
       "  <thead>\n",
       "    <tr style=\"text-align: right;\">\n",
       "      <th></th>\n",
       "      <th>gwId</th>\n",
       "      <th>nodeId</th>\n",
       "      <th>RSSI_Sim</th>\n",
       "      <th>distance_between</th>\n",
       "      <th>latitude</th>\n",
       "      <th>longitude</th>\n",
       "    </tr>\n",
       "  </thead>\n",
       "  <tbody>\n",
       "    <tr>\n",
       "      <th>0</th>\n",
       "      <td>222</td>\n",
       "      <td>0</td>\n",
       "      <td>-67.3581</td>\n",
       "      <td>177.386</td>\n",
       "      <td>-22.814543</td>\n",
       "      <td>-47.059340</td>\n",
       "    </tr>\n",
       "    <tr>\n",
       "      <th>1</th>\n",
       "      <td>222</td>\n",
       "      <td>1</td>\n",
       "      <td>-97.6443</td>\n",
       "      <td>1409.330</td>\n",
       "      <td>-22.816324</td>\n",
       "      <td>-47.071348</td>\n",
       "    </tr>\n",
       "    <tr>\n",
       "      <th>2</th>\n",
       "      <td>222</td>\n",
       "      <td>2</td>\n",
       "      <td>-86.6351</td>\n",
       "      <td>522.123</td>\n",
       "      <td>-22.819365</td>\n",
       "      <td>-47.059333</td>\n",
       "    </tr>\n",
       "    <tr>\n",
       "      <th>3</th>\n",
       "      <td>222</td>\n",
       "      <td>3</td>\n",
       "      <td>-84.7404</td>\n",
       "      <td>629.109</td>\n",
       "      <td>-22.817648</td>\n",
       "      <td>-47.063068</td>\n",
       "    </tr>\n",
       "    <tr>\n",
       "      <th>4</th>\n",
       "      <td>222</td>\n",
       "      <td>4</td>\n",
       "      <td>-96.3774</td>\n",
       "      <td>1559.370</td>\n",
       "      <td>-22.828153</td>\n",
       "      <td>-47.062863</td>\n",
       "    </tr>\n",
       "  </tbody>\n",
       "</table>\n",
       "</div>"
      ],
      "text/plain": [
       "   gwId  nodeId  RSSI_Sim  distance_between   latitude  longitude\n",
       "0   222       0  -67.3581           177.386 -22.814543 -47.059340\n",
       "1   222       1  -97.6443          1409.330 -22.816324 -47.071348\n",
       "2   222       2  -86.6351           522.123 -22.819365 -47.059333\n",
       "3   222       3  -84.7404           629.109 -22.817648 -47.063068\n",
       "4   222       4  -96.3774          1559.370 -22.828153 -47.062863"
      ]
     },
     "execution_count": 14,
     "metadata": {},
     "output_type": "execute_result"
    }
   ],
   "source": [
    "rssi_df['latitude'] = coletores_df['latitude']\n",
    "rssi_df['longitude'] = coletores_df['longitude']\n",
    "print(\"DATASET SHAPE:\", rssi_df.shape)\n",
    "rssi_df.head(5)"
   ]
  },
  {
   "cell_type": "code",
   "execution_count": 23,
   "metadata": {},
   "outputs": [],
   "source": [
    "# rssi_df['latitude'].iloc[0:1].values[0]"
   ]
  },
  {
   "cell_type": "code",
   "execution_count": 15,
   "metadata": {},
   "outputs": [],
   "source": [
    "heat_data = []\n",
    "for i in range(rssi_df.shape[0]):\n",
    "    heat_data.append([\n",
    "        rssi_df['latitude'].iloc[i:i+1].values[0],\n",
    "        rssi_df['longitude'].iloc[i:i+1].values[0],\n",
    "        rssi_df['RSSI_Sim'].iloc[i:i+1].values[0]\n",
    "    ])\n",
    "\n",
    "# print(heat_data)"
   ]
  },
  {
   "cell_type": "code",
   "execution_count": 16,
   "metadata": {},
   "outputs": [],
   "source": [
    "#LEGENDA\n",
    "import branca\n",
    "\n",
    "legend_html = '''\n",
    "{% macro html(this, kwargs) %}\n",
    "<div style=\"\n",
    "    position: fixed; \n",
    "    bottom: 80px;\n",
    "    left: 20px;\n",
    "    width: 150px;\n",
    "    height: 80px;\n",
    "    top: 425px;\n",
    "    z-index:9999;\n",
    "    font-size:13px;\n",
    "    \">\n",
    "    <p><a style=\"margin-left:10px;\"><b>RSSI (Dbm)</a></b></p>\n",
    "    <p><a style=\"color:#2652ca;font-size:150%;margin-left:20px;\">&diams;</a>&emsp;<b>[0, -80]</b></p>\n",
    "    <p><a style=\"color:#338dff;font-size:150%;margin-left:20px;\">&diams;</a>&emsp;<b>[-81, -100]</b></p>\n",
    "    <p><a style=\"color:#33c1ff;font-size:150%;margin-left:20px;\">&diams;</a>&emsp;<b>[-101, -150]</b></p>\n",
    "</div>\n",
    "<div style=\"\n",
    "    position: fixed; \n",
    "    bottom: 30px;\n",
    "    left: 20px;\n",
    "    width: 150px;\n",
    "    height: 140px; \n",
    "    z-index:9998;\n",
    "    font-size:14px;\n",
    "    background-color: #ffffff;\n",
    "    border:2px solid grey;\n",
    "    opacity: 0.9;\n",
    "    \">\n",
    "</div>\n",
    "{% endmacro %}\n",
    "'''\n",
    "legend = branca.element.MacroElement()\n",
    "legend._template = branca.element.Template(legend_html)"
   ]
  },
  {
   "cell_type": "code",
   "execution_count": 17,
   "metadata": {},
   "outputs": [
    {
     "data": {
      "text/html": [
       "<div style=\"width:100%;\"><div style=\"position:relative;width:100%;height:0;padding-bottom:60%;\"><span style=\"color:#565656\">Make this Notebook Trusted to load map: File -> Trust Notebook</span><iframe src=\"about:blank\" style=\"position:absolute;width:100%;height:100%;left:0;top:0;border:none !important;\" data-html=%3C%21DOCTYPE%20html%3E%0A%3Chead%3E%20%20%20%20%0A%20%20%20%20%3Cmeta%20http-equiv%3D%22content-type%22%20content%3D%22text/html%3B%20charset%3DUTF-8%22%20/%3E%0A%20%20%20%20%0A%20%20%20%20%20%20%20%20%3Cscript%3E%0A%20%20%20%20%20%20%20%20%20%20%20%20L_NO_TOUCH%20%3D%20false%3B%0A%20%20%20%20%20%20%20%20%20%20%20%20L_DISABLE_3D%20%3D%20false%3B%0A%20%20%20%20%20%20%20%20%3C/script%3E%0A%20%20%20%20%0A%20%20%20%20%3Cstyle%3Ehtml%2C%20body%20%7Bwidth%3A%20100%25%3Bheight%3A%20100%25%3Bmargin%3A%200%3Bpadding%3A%200%3B%7D%3C/style%3E%0A%20%20%20%20%3Cstyle%3E%23map%20%7Bposition%3Aabsolute%3Btop%3A0%3Bbottom%3A0%3Bright%3A0%3Bleft%3A0%3B%7D%3C/style%3E%0A%20%20%20%20%3Cscript%20src%3D%22https%3A//cdn.jsdelivr.net/npm/leaflet%401.6.0/dist/leaflet.js%22%3E%3C/script%3E%0A%20%20%20%20%3Cscript%20src%3D%22https%3A//code.jquery.com/jquery-1.12.4.min.js%22%3E%3C/script%3E%0A%20%20%20%20%3Cscript%20src%3D%22https%3A//maxcdn.bootstrapcdn.com/bootstrap/3.2.0/js/bootstrap.min.js%22%3E%3C/script%3E%0A%20%20%20%20%3Cscript%20src%3D%22https%3A//cdnjs.cloudflare.com/ajax/libs/Leaflet.awesome-markers/2.0.2/leaflet.awesome-markers.js%22%3E%3C/script%3E%0A%20%20%20%20%3Clink%20rel%3D%22stylesheet%22%20href%3D%22https%3A//cdn.jsdelivr.net/npm/leaflet%401.6.0/dist/leaflet.css%22/%3E%0A%20%20%20%20%3Clink%20rel%3D%22stylesheet%22%20href%3D%22https%3A//maxcdn.bootstrapcdn.com/bootstrap/3.2.0/css/bootstrap.min.css%22/%3E%0A%20%20%20%20%3Clink%20rel%3D%22stylesheet%22%20href%3D%22https%3A//maxcdn.bootstrapcdn.com/bootstrap/3.2.0/css/bootstrap-theme.min.css%22/%3E%0A%20%20%20%20%3Clink%20rel%3D%22stylesheet%22%20href%3D%22https%3A//maxcdn.bootstrapcdn.com/font-awesome/4.6.3/css/font-awesome.min.css%22/%3E%0A%20%20%20%20%3Clink%20rel%3D%22stylesheet%22%20href%3D%22https%3A//cdnjs.cloudflare.com/ajax/libs/Leaflet.awesome-markers/2.0.2/leaflet.awesome-markers.css%22/%3E%0A%20%20%20%20%3Clink%20rel%3D%22stylesheet%22%20href%3D%22https%3A//cdn.jsdelivr.net/gh/python-visualization/folium/folium/templates/leaflet.awesome.rotate.min.css%22/%3E%0A%20%20%20%20%0A%20%20%20%20%20%20%20%20%20%20%20%20%3Cmeta%20name%3D%22viewport%22%20content%3D%22width%3Ddevice-width%2C%0A%20%20%20%20%20%20%20%20%20%20%20%20%20%20%20%20initial-scale%3D1.0%2C%20maximum-scale%3D1.0%2C%20user-scalable%3Dno%22%20/%3E%0A%20%20%20%20%20%20%20%20%20%20%20%20%3Cstyle%3E%0A%20%20%20%20%20%20%20%20%20%20%20%20%20%20%20%20%23map_0c7dff20ec5247e8912eb0a15fdcdf21%20%7B%0A%20%20%20%20%20%20%20%20%20%20%20%20%20%20%20%20%20%20%20%20position%3A%20relative%3B%0A%20%20%20%20%20%20%20%20%20%20%20%20%20%20%20%20%20%20%20%20width%3A%20500.0px%3B%0A%20%20%20%20%20%20%20%20%20%20%20%20%20%20%20%20%20%20%20%20height%3A%20600.0px%3B%0A%20%20%20%20%20%20%20%20%20%20%20%20%20%20%20%20%20%20%20%20left%3A%200.0%25%3B%0A%20%20%20%20%20%20%20%20%20%20%20%20%20%20%20%20%20%20%20%20top%3A%200.0%25%3B%0A%20%20%20%20%20%20%20%20%20%20%20%20%20%20%20%20%7D%0A%20%20%20%20%20%20%20%20%20%20%20%20%3C/style%3E%0A%20%20%20%20%20%20%20%20%0A%3C/head%3E%0A%3Cbody%3E%20%20%20%20%0A%20%20%20%20%0A%20%20%20%20%20%20%20%20%20%20%20%20%3Cdiv%20class%3D%22folium-map%22%20id%3D%22map_0c7dff20ec5247e8912eb0a15fdcdf21%22%20%3E%3C/div%3E%0A%20%20%20%20%20%20%20%20%0A%20%20%20%20%0A%3Cdiv%20style%3D%22%0A%20%20%20%20position%3A%20fixed%3B%20%0A%20%20%20%20bottom%3A%2080px%3B%0A%20%20%20%20left%3A%2020px%3B%0A%20%20%20%20width%3A%20150px%3B%0A%20%20%20%20height%3A%2080px%3B%0A%20%20%20%20top%3A%20425px%3B%0A%20%20%20%20z-index%3A9999%3B%0A%20%20%20%20font-size%3A13px%3B%0A%20%20%20%20%22%3E%0A%20%20%20%20%3Cp%3E%3Ca%20style%3D%22margin-left%3A10px%3B%22%3E%3Cb%3ERSSI%20%28Dbm%29%3C/a%3E%3C/b%3E%3C/p%3E%0A%20%20%20%20%3Cp%3E%3Ca%20style%3D%22color%3A%232652ca%3Bfont-size%3A150%25%3Bmargin-left%3A20px%3B%22%3E%26diams%3B%3C/a%3E%26emsp%3B%3Cb%3E%5B0%2C%20-80%5D%3C/b%3E%3C/p%3E%0A%20%20%20%20%3Cp%3E%3Ca%20style%3D%22color%3A%23338dff%3Bfont-size%3A150%25%3Bmargin-left%3A20px%3B%22%3E%26diams%3B%3C/a%3E%26emsp%3B%3Cb%3E%5B-81%2C%20-100%5D%3C/b%3E%3C/p%3E%0A%20%20%20%20%3Cp%3E%3Ca%20style%3D%22color%3A%2333c1ff%3Bfont-size%3A150%25%3Bmargin-left%3A20px%3B%22%3E%26diams%3B%3C/a%3E%26emsp%3B%3Cb%3E%5B-101%2C%20-150%5D%3C/b%3E%3C/p%3E%0A%3C/div%3E%0A%3Cdiv%20style%3D%22%0A%20%20%20%20position%3A%20fixed%3B%20%0A%20%20%20%20bottom%3A%2030px%3B%0A%20%20%20%20left%3A%2020px%3B%0A%20%20%20%20width%3A%20150px%3B%0A%20%20%20%20height%3A%20140px%3B%20%0A%20%20%20%20z-index%3A9998%3B%0A%20%20%20%20font-size%3A14px%3B%0A%20%20%20%20background-color%3A%20%23ffffff%3B%0A%20%20%20%20border%3A2px%20solid%20grey%3B%0A%20%20%20%20opacity%3A%200.9%3B%0A%20%20%20%20%22%3E%0A%3C/div%3E%0A%3C/body%3E%0A%3Cscript%3E%20%20%20%20%0A%20%20%20%20%0A%20%20%20%20%20%20%20%20%20%20%20%20var%20map_0c7dff20ec5247e8912eb0a15fdcdf21%20%3D%20L.map%28%0A%20%20%20%20%20%20%20%20%20%20%20%20%20%20%20%20%22map_0c7dff20ec5247e8912eb0a15fdcdf21%22%2C%0A%20%20%20%20%20%20%20%20%20%20%20%20%20%20%20%20%7B%0A%20%20%20%20%20%20%20%20%20%20%20%20%20%20%20%20%20%20%20%20center%3A%20%5B-22.822617%2C%20-47.067%5D%2C%0A%20%20%20%20%20%20%20%20%20%20%20%20%20%20%20%20%20%20%20%20crs%3A%20L.CRS.EPSG3857%2C%0A%20%20%20%20%20%20%20%20%20%20%20%20%20%20%20%20%20%20%20%20zoom%3A%2015%2C%0A%20%20%20%20%20%20%20%20%20%20%20%20%20%20%20%20%20%20%20%20zoomControl%3A%20true%2C%0A%20%20%20%20%20%20%20%20%20%20%20%20%20%20%20%20%20%20%20%20preferCanvas%3A%20false%2C%0A%20%20%20%20%20%20%20%20%20%20%20%20%20%20%20%20%7D%0A%20%20%20%20%20%20%20%20%20%20%20%20%29%3B%0A%0A%20%20%20%20%20%20%20%20%20%20%20%20%0A%0A%20%20%20%20%20%20%20%20%0A%20%20%20%20%0A%20%20%20%20%20%20%20%20%20%20%20%20var%20tile_layer_acbac2255cbb4c66ac2ab1f0701d9417%20%3D%20L.tileLayer%28%0A%20%20%20%20%20%20%20%20%20%20%20%20%20%20%20%20%22https%3A//%7Bs%7D.tile.openstreetmap.org/%7Bz%7D/%7Bx%7D/%7By%7D.png%22%2C%0A%20%20%20%20%20%20%20%20%20%20%20%20%20%20%20%20%7B%22attribution%22%3A%20%22Data%20by%20%5Cu0026copy%3B%20%5Cu003ca%20href%3D%5C%22http%3A//openstreetmap.org%5C%22%5Cu003eOpenStreetMap%5Cu003c/a%5Cu003e%2C%20under%20%5Cu003ca%20href%3D%5C%22http%3A//www.openstreetmap.org/copyright%5C%22%5Cu003eODbL%5Cu003c/a%5Cu003e.%22%2C%20%22detectRetina%22%3A%20false%2C%20%22maxNativeZoom%22%3A%2018%2C%20%22maxZoom%22%3A%2018%2C%20%22minZoom%22%3A%200%2C%20%22noWrap%22%3A%20false%2C%20%22opacity%22%3A%201%2C%20%22subdomains%22%3A%20%22abc%22%2C%20%22tms%22%3A%20false%7D%0A%20%20%20%20%20%20%20%20%20%20%20%20%29.addTo%28map_0c7dff20ec5247e8912eb0a15fdcdf21%29%3B%0A%20%20%20%20%20%20%20%20%0A%20%20%20%20%0A%20%20%20%20%20%20%20%20%20%20%20%20var%20marker_70121d6d3701428d95a0c2f66b252984%20%3D%20L.marker%28%0A%20%20%20%20%20%20%20%20%20%20%20%20%20%20%20%20%5B-22.81454328691809%2C%20-47.05934014724517%5D%2C%0A%20%20%20%20%20%20%20%20%20%20%20%20%20%20%20%20%7B%7D%0A%20%20%20%20%20%20%20%20%20%20%20%20%29.addTo%28map_0c7dff20ec5247e8912eb0a15fdcdf21%29%3B%0A%20%20%20%20%20%20%20%20%0A%20%20%20%20%0A%20%20%20%20%20%20%20%20%20%20%20%20var%20icon_e6687ef4b037445796871f95e74d5b4f%20%3D%20L.AwesomeMarkers.icon%28%0A%20%20%20%20%20%20%20%20%20%20%20%20%20%20%20%20%7B%22extraClasses%22%3A%20%22fa-rotate-0%22%2C%20%22icon%22%3A%20%22info-sign%22%2C%20%22iconColor%22%3A%20%22white%22%2C%20%22markerColor%22%3A%20%22darkblue%22%2C%20%22prefix%22%3A%20%22glyphicon%22%7D%0A%20%20%20%20%20%20%20%20%20%20%20%20%29%3B%0A%20%20%20%20%20%20%20%20%20%20%20%20marker_70121d6d3701428d95a0c2f66b252984.setIcon%28icon_e6687ef4b037445796871f95e74d5b4f%29%3B%0A%20%20%20%20%20%20%20%20%0A%20%20%20%20%0A%20%20%20%20%20%20%20%20var%20popup_9a0be5842623426ea11bf7259acc39f4%20%3D%20L.popup%28%7B%22maxWidth%22%3A%20%22100%25%22%7D%29%3B%0A%0A%20%20%20%20%20%20%20%20%0A%20%20%20%20%20%20%20%20%20%20%20%20var%20html_774e6564e78c41d1907accc999f874ac%20%3D%20%24%28%60%3Cdiv%20id%3D%22html_774e6564e78c41d1907accc999f874ac%22%20style%3D%22width%3A%20100.0%25%3B%20height%3A%20100.0%25%3B%22%3ELat%3A%20-22.81454328691809%2C%20Lng%3A%20-47.05934014724517%2C%20Rssi%3A%20-67.3581%3C/div%3E%60%29%5B0%5D%3B%0A%20%20%20%20%20%20%20%20%20%20%20%20popup_9a0be5842623426ea11bf7259acc39f4.setContent%28html_774e6564e78c41d1907accc999f874ac%29%3B%0A%20%20%20%20%20%20%20%20%0A%0A%20%20%20%20%20%20%20%20marker_70121d6d3701428d95a0c2f66b252984.bindPopup%28popup_9a0be5842623426ea11bf7259acc39f4%29%0A%20%20%20%20%20%20%20%20%3B%0A%0A%20%20%20%20%20%20%20%20%0A%20%20%20%20%0A%20%20%20%20%0A%20%20%20%20%20%20%20%20%20%20%20%20var%20marker_21302a7a380d4f049b4e627a445b972a%20%3D%20L.marker%28%0A%20%20%20%20%20%20%20%20%20%20%20%20%20%20%20%20%5B-22.81632354744989%2C%20-47.07134835810497%5D%2C%0A%20%20%20%20%20%20%20%20%20%20%20%20%20%20%20%20%7B%7D%0A%20%20%20%20%20%20%20%20%20%20%20%20%29.addTo%28map_0c7dff20ec5247e8912eb0a15fdcdf21%29%3B%0A%20%20%20%20%20%20%20%20%0A%20%20%20%20%0A%20%20%20%20%20%20%20%20%20%20%20%20var%20icon_0aa69af5234044b3ab7ed43d33f457e6%20%3D%20L.AwesomeMarkers.icon%28%0A%20%20%20%20%20%20%20%20%20%20%20%20%20%20%20%20%7B%22extraClasses%22%3A%20%22fa-rotate-0%22%2C%20%22icon%22%3A%20%22info-sign%22%2C%20%22iconColor%22%3A%20%22white%22%2C%20%22markerColor%22%3A%20%22blue%22%2C%20%22prefix%22%3A%20%22glyphicon%22%7D%0A%20%20%20%20%20%20%20%20%20%20%20%20%29%3B%0A%20%20%20%20%20%20%20%20%20%20%20%20marker_21302a7a380d4f049b4e627a445b972a.setIcon%28icon_0aa69af5234044b3ab7ed43d33f457e6%29%3B%0A%20%20%20%20%20%20%20%20%0A%20%20%20%20%0A%20%20%20%20%20%20%20%20var%20popup_426ac16b3f1b41f2b2528a0b01bc7761%20%3D%20L.popup%28%7B%22maxWidth%22%3A%20%22100%25%22%7D%29%3B%0A%0A%20%20%20%20%20%20%20%20%0A%20%20%20%20%20%20%20%20%20%20%20%20var%20html_63e92c78f1644f159dd516dc23695400%20%3D%20%24%28%60%3Cdiv%20id%3D%22html_63e92c78f1644f159dd516dc23695400%22%20style%3D%22width%3A%20100.0%25%3B%20height%3A%20100.0%25%3B%22%3ELat%3A%20-22.81632354744989%2C%20Lng%3A%20-47.07134835810497%2C%20Rssi%3A%20-97.6443%3C/div%3E%60%29%5B0%5D%3B%0A%20%20%20%20%20%20%20%20%20%20%20%20popup_426ac16b3f1b41f2b2528a0b01bc7761.setContent%28html_63e92c78f1644f159dd516dc23695400%29%3B%0A%20%20%20%20%20%20%20%20%0A%0A%20%20%20%20%20%20%20%20marker_21302a7a380d4f049b4e627a445b972a.bindPopup%28popup_426ac16b3f1b41f2b2528a0b01bc7761%29%0A%20%20%20%20%20%20%20%20%3B%0A%0A%20%20%20%20%20%20%20%20%0A%20%20%20%20%0A%20%20%20%20%0A%20%20%20%20%20%20%20%20%20%20%20%20var%20marker_b174b5fb3edd4d398c08264f901ff5d4%20%3D%20L.marker%28%0A%20%20%20%20%20%20%20%20%20%20%20%20%20%20%20%20%5B-22.81936543754744%2C%20-47.05933331168868%5D%2C%0A%20%20%20%20%20%20%20%20%20%20%20%20%20%20%20%20%7B%7D%0A%20%20%20%20%20%20%20%20%20%20%20%20%29.addTo%28map_0c7dff20ec5247e8912eb0a15fdcdf21%29%3B%0A%20%20%20%20%20%20%20%20%0A%20%20%20%20%0A%20%20%20%20%20%20%20%20%20%20%20%20var%20icon_af6aa7c7a2224b1fbf00fbc2aeb48d7c%20%3D%20L.AwesomeMarkers.icon%28%0A%20%20%20%20%20%20%20%20%20%20%20%20%20%20%20%20%7B%22extraClasses%22%3A%20%22fa-rotate-0%22%2C%20%22icon%22%3A%20%22info-sign%22%2C%20%22iconColor%22%3A%20%22white%22%2C%20%22markerColor%22%3A%20%22blue%22%2C%20%22prefix%22%3A%20%22glyphicon%22%7D%0A%20%20%20%20%20%20%20%20%20%20%20%20%29%3B%0A%20%20%20%20%20%20%20%20%20%20%20%20marker_b174b5fb3edd4d398c08264f901ff5d4.setIcon%28icon_af6aa7c7a2224b1fbf00fbc2aeb48d7c%29%3B%0A%20%20%20%20%20%20%20%20%0A%20%20%20%20%0A%20%20%20%20%20%20%20%20var%20popup_8871af5ba91f4155b4ed9a1954bebb23%20%3D%20L.popup%28%7B%22maxWidth%22%3A%20%22100%25%22%7D%29%3B%0A%0A%20%20%20%20%20%20%20%20%0A%20%20%20%20%20%20%20%20%20%20%20%20var%20html_adc615658f6c4c1991d470cb115afd2b%20%3D%20%24%28%60%3Cdiv%20id%3D%22html_adc615658f6c4c1991d470cb115afd2b%22%20style%3D%22width%3A%20100.0%25%3B%20height%3A%20100.0%25%3B%22%3ELat%3A%20-22.81936543754744%2C%20Lng%3A%20-47.05933331168868%2C%20Rssi%3A%20-86.6351%3C/div%3E%60%29%5B0%5D%3B%0A%20%20%20%20%20%20%20%20%20%20%20%20popup_8871af5ba91f4155b4ed9a1954bebb23.setContent%28html_adc615658f6c4c1991d470cb115afd2b%29%3B%0A%20%20%20%20%20%20%20%20%0A%0A%20%20%20%20%20%20%20%20marker_b174b5fb3edd4d398c08264f901ff5d4.bindPopup%28popup_8871af5ba91f4155b4ed9a1954bebb23%29%0A%20%20%20%20%20%20%20%20%3B%0A%0A%20%20%20%20%20%20%20%20%0A%20%20%20%20%0A%20%20%20%20%0A%20%20%20%20%20%20%20%20%20%20%20%20var%20marker_d6e6bc32fbdf4923a2f79f715a3d36d4%20%3D%20L.marker%28%0A%20%20%20%20%20%20%20%20%20%20%20%20%20%20%20%20%5B-22.81764750753982%2C%20-47.06306787459784%5D%2C%0A%20%20%20%20%20%20%20%20%20%20%20%20%20%20%20%20%7B%7D%0A%20%20%20%20%20%20%20%20%20%20%20%20%29.addTo%28map_0c7dff20ec5247e8912eb0a15fdcdf21%29%3B%0A%20%20%20%20%20%20%20%20%0A%20%20%20%20%0A%20%20%20%20%20%20%20%20%20%20%20%20var%20icon_6e3f6385fe5c444eaff7cea135db30b0%20%3D%20L.AwesomeMarkers.icon%28%0A%20%20%20%20%20%20%20%20%20%20%20%20%20%20%20%20%7B%22extraClasses%22%3A%20%22fa-rotate-0%22%2C%20%22icon%22%3A%20%22info-sign%22%2C%20%22iconColor%22%3A%20%22white%22%2C%20%22markerColor%22%3A%20%22blue%22%2C%20%22prefix%22%3A%20%22glyphicon%22%7D%0A%20%20%20%20%20%20%20%20%20%20%20%20%29%3B%0A%20%20%20%20%20%20%20%20%20%20%20%20marker_d6e6bc32fbdf4923a2f79f715a3d36d4.setIcon%28icon_6e3f6385fe5c444eaff7cea135db30b0%29%3B%0A%20%20%20%20%20%20%20%20%0A%20%20%20%20%0A%20%20%20%20%20%20%20%20var%20popup_6a97c2e512bb485880ceac7c716f5a54%20%3D%20L.popup%28%7B%22maxWidth%22%3A%20%22100%25%22%7D%29%3B%0A%0A%20%20%20%20%20%20%20%20%0A%20%20%20%20%20%20%20%20%20%20%20%20var%20html_0f9945a7c0aa4e4cbac4489b61106665%20%3D%20%24%28%60%3Cdiv%20id%3D%22html_0f9945a7c0aa4e4cbac4489b61106665%22%20style%3D%22width%3A%20100.0%25%3B%20height%3A%20100.0%25%3B%22%3ELat%3A%20-22.81764750753982%2C%20Lng%3A%20-47.06306787459784%2C%20Rssi%3A%20-84.7404%3C/div%3E%60%29%5B0%5D%3B%0A%20%20%20%20%20%20%20%20%20%20%20%20popup_6a97c2e512bb485880ceac7c716f5a54.setContent%28html_0f9945a7c0aa4e4cbac4489b61106665%29%3B%0A%20%20%20%20%20%20%20%20%0A%0A%20%20%20%20%20%20%20%20marker_d6e6bc32fbdf4923a2f79f715a3d36d4.bindPopup%28popup_6a97c2e512bb485880ceac7c716f5a54%29%0A%20%20%20%20%20%20%20%20%3B%0A%0A%20%20%20%20%20%20%20%20%0A%20%20%20%20%0A%20%20%20%20%0A%20%20%20%20%20%20%20%20%20%20%20%20var%20marker_20af2ce34a304ddc8cf7c56f9281c7ac%20%3D%20L.marker%28%0A%20%20%20%20%20%20%20%20%20%20%20%20%20%20%20%20%5B-22.82815348592649%2C%20-47.06286284264447%5D%2C%0A%20%20%20%20%20%20%20%20%20%20%20%20%20%20%20%20%7B%7D%0A%20%20%20%20%20%20%20%20%20%20%20%20%29.addTo%28map_0c7dff20ec5247e8912eb0a15fdcdf21%29%3B%0A%20%20%20%20%20%20%20%20%0A%20%20%20%20%0A%20%20%20%20%20%20%20%20%20%20%20%20var%20icon_7ea4946a6da448a5aaff5e4379115dc1%20%3D%20L.AwesomeMarkers.icon%28%0A%20%20%20%20%20%20%20%20%20%20%20%20%20%20%20%20%7B%22extraClasses%22%3A%20%22fa-rotate-0%22%2C%20%22icon%22%3A%20%22info-sign%22%2C%20%22iconColor%22%3A%20%22white%22%2C%20%22markerColor%22%3A%20%22blue%22%2C%20%22prefix%22%3A%20%22glyphicon%22%7D%0A%20%20%20%20%20%20%20%20%20%20%20%20%29%3B%0A%20%20%20%20%20%20%20%20%20%20%20%20marker_20af2ce34a304ddc8cf7c56f9281c7ac.setIcon%28icon_7ea4946a6da448a5aaff5e4379115dc1%29%3B%0A%20%20%20%20%20%20%20%20%0A%20%20%20%20%0A%20%20%20%20%20%20%20%20var%20popup_83a025fc631342c49c1565603cf94689%20%3D%20L.popup%28%7B%22maxWidth%22%3A%20%22100%25%22%7D%29%3B%0A%0A%20%20%20%20%20%20%20%20%0A%20%20%20%20%20%20%20%20%20%20%20%20var%20html_1724a28b2e3140b48dff74bb6e57b405%20%3D%20%24%28%60%3Cdiv%20id%3D%22html_1724a28b2e3140b48dff74bb6e57b405%22%20style%3D%22width%3A%20100.0%25%3B%20height%3A%20100.0%25%3B%22%3ELat%3A%20-22.82815348592649%2C%20Lng%3A%20-47.06286284264447%2C%20Rssi%3A%20-96.3774%3C/div%3E%60%29%5B0%5D%3B%0A%20%20%20%20%20%20%20%20%20%20%20%20popup_83a025fc631342c49c1565603cf94689.setContent%28html_1724a28b2e3140b48dff74bb6e57b405%29%3B%0A%20%20%20%20%20%20%20%20%0A%0A%20%20%20%20%20%20%20%20marker_20af2ce34a304ddc8cf7c56f9281c7ac.bindPopup%28popup_83a025fc631342c49c1565603cf94689%29%0A%20%20%20%20%20%20%20%20%3B%0A%0A%20%20%20%20%20%20%20%20%0A%20%20%20%20%0A%20%20%20%20%0A%20%20%20%20%20%20%20%20%20%20%20%20var%20marker_975e5d197b894bd9a976c27af56bbfc8%20%3D%20L.marker%28%0A%20%20%20%20%20%20%20%20%20%20%20%20%20%20%20%20%5B-22.81291555313213%2C%20-47.06756122474079%5D%2C%0A%20%20%20%20%20%20%20%20%20%20%20%20%20%20%20%20%7B%7D%0A%20%20%20%20%20%20%20%20%20%20%20%20%29.addTo%28map_0c7dff20ec5247e8912eb0a15fdcdf21%29%3B%0A%20%20%20%20%20%20%20%20%0A%20%20%20%20%0A%20%20%20%20%20%20%20%20%20%20%20%20var%20icon_e48b6f90b40141f28ef46636d00ec8c8%20%3D%20L.AwesomeMarkers.icon%28%0A%20%20%20%20%20%20%20%20%20%20%20%20%20%20%20%20%7B%22extraClasses%22%3A%20%22fa-rotate-0%22%2C%20%22icon%22%3A%20%22info-sign%22%2C%20%22iconColor%22%3A%20%22white%22%2C%20%22markerColor%22%3A%20%22blue%22%2C%20%22prefix%22%3A%20%22glyphicon%22%7D%0A%20%20%20%20%20%20%20%20%20%20%20%20%29%3B%0A%20%20%20%20%20%20%20%20%20%20%20%20marker_975e5d197b894bd9a976c27af56bbfc8.setIcon%28icon_e48b6f90b40141f28ef46636d00ec8c8%29%3B%0A%20%20%20%20%20%20%20%20%0A%20%20%20%20%0A%20%20%20%20%20%20%20%20var%20popup_44b0e8e9fa9a47469b76b59508ddf8b4%20%3D%20L.popup%28%7B%22maxWidth%22%3A%20%22100%25%22%7D%29%3B%0A%0A%20%20%20%20%20%20%20%20%0A%20%20%20%20%20%20%20%20%20%20%20%20var%20html_4691ec8139694df5b4cd51e4b2e345f4%20%3D%20%24%28%60%3Cdiv%20id%3D%22html_4691ec8139694df5b4cd51e4b2e345f4%22%20style%3D%22width%3A%20100.0%25%3B%20height%3A%20100.0%25%3B%22%3ELat%3A%20-22.81291555313213%2C%20Lng%3A%20-47.06756122474079%2C%20Rssi%3A%20-88.6292%3C/div%3E%60%29%5B0%5D%3B%0A%20%20%20%20%20%20%20%20%20%20%20%20popup_44b0e8e9fa9a47469b76b59508ddf8b4.setContent%28html_4691ec8139694df5b4cd51e4b2e345f4%29%3B%0A%20%20%20%20%20%20%20%20%0A%0A%20%20%20%20%20%20%20%20marker_975e5d197b894bd9a976c27af56bbfc8.bindPopup%28popup_44b0e8e9fa9a47469b76b59508ddf8b4%29%0A%20%20%20%20%20%20%20%20%3B%0A%0A%20%20%20%20%20%20%20%20%0A%20%20%20%20%0A%20%20%20%20%0A%20%20%20%20%20%20%20%20%20%20%20%20var%20marker_3162113c5be44ac8a8e7112ec586c3a9%20%3D%20L.marker%28%0A%20%20%20%20%20%20%20%20%20%20%20%20%20%20%20%20%5B-22.82878860225261%2C%20-47.06269560670362%5D%2C%0A%20%20%20%20%20%20%20%20%20%20%20%20%20%20%20%20%7B%7D%0A%20%20%20%20%20%20%20%20%20%20%20%20%29.addTo%28map_0c7dff20ec5247e8912eb0a15fdcdf21%29%3B%0A%20%20%20%20%20%20%20%20%0A%20%20%20%20%0A%20%20%20%20%20%20%20%20%20%20%20%20var%20icon_bd693e7476754629a5de191479163c3b%20%3D%20L.AwesomeMarkers.icon%28%0A%20%20%20%20%20%20%20%20%20%20%20%20%20%20%20%20%7B%22extraClasses%22%3A%20%22fa-rotate-0%22%2C%20%22icon%22%3A%20%22info-sign%22%2C%20%22iconColor%22%3A%20%22white%22%2C%20%22markerColor%22%3A%20%22blue%22%2C%20%22prefix%22%3A%20%22glyphicon%22%7D%0A%20%20%20%20%20%20%20%20%20%20%20%20%29%3B%0A%20%20%20%20%20%20%20%20%20%20%20%20marker_3162113c5be44ac8a8e7112ec586c3a9.setIcon%28icon_bd693e7476754629a5de191479163c3b%29%3B%0A%20%20%20%20%20%20%20%20%0A%20%20%20%20%0A%20%20%20%20%20%20%20%20var%20popup_c6ca5503722e49c798191aa21053578b%20%3D%20L.popup%28%7B%22maxWidth%22%3A%20%22100%25%22%7D%29%3B%0A%0A%20%20%20%20%20%20%20%20%0A%20%20%20%20%20%20%20%20%20%20%20%20var%20html_b7df8c0ed3c14a5d96f7dc2eecfb8210%20%3D%20%24%28%60%3Cdiv%20id%3D%22html_b7df8c0ed3c14a5d96f7dc2eecfb8210%22%20style%3D%22width%3A%20100.0%25%3B%20height%3A%20100.0%25%3B%22%3ELat%3A%20-22.82878860225261%2C%20Lng%3A%20-47.06269560670362%2C%20Rssi%3A%20-97.4209%3C/div%3E%60%29%5B0%5D%3B%0A%20%20%20%20%20%20%20%20%20%20%20%20popup_c6ca5503722e49c798191aa21053578b.setContent%28html_b7df8c0ed3c14a5d96f7dc2eecfb8210%29%3B%0A%20%20%20%20%20%20%20%20%0A%0A%20%20%20%20%20%20%20%20marker_3162113c5be44ac8a8e7112ec586c3a9.bindPopup%28popup_c6ca5503722e49c798191aa21053578b%29%0A%20%20%20%20%20%20%20%20%3B%0A%0A%20%20%20%20%20%20%20%20%0A%20%20%20%20%0A%20%20%20%20%0A%20%20%20%20%20%20%20%20%20%20%20%20var%20marker_e21e8aa196fb4a1ca3702e594a7d41c7%20%3D%20L.marker%28%0A%20%20%20%20%20%20%20%20%20%20%20%20%20%20%20%20%5B-22.82331920947462%2C%20-47.06321597438829%5D%2C%0A%20%20%20%20%20%20%20%20%20%20%20%20%20%20%20%20%7B%7D%0A%20%20%20%20%20%20%20%20%20%20%20%20%29.addTo%28map_0c7dff20ec5247e8912eb0a15fdcdf21%29%3B%0A%20%20%20%20%20%20%20%20%0A%20%20%20%20%0A%20%20%20%20%20%20%20%20%20%20%20%20var%20icon_9ce27547d6ba4ff7bcf0710ffbd5b999%20%3D%20L.AwesomeMarkers.icon%28%0A%20%20%20%20%20%20%20%20%20%20%20%20%20%20%20%20%7B%22extraClasses%22%3A%20%22fa-rotate-0%22%2C%20%22icon%22%3A%20%22info-sign%22%2C%20%22iconColor%22%3A%20%22white%22%2C%20%22markerColor%22%3A%20%22blue%22%2C%20%22prefix%22%3A%20%22glyphicon%22%7D%0A%20%20%20%20%20%20%20%20%20%20%20%20%29%3B%0A%20%20%20%20%20%20%20%20%20%20%20%20marker_e21e8aa196fb4a1ca3702e594a7d41c7.setIcon%28icon_9ce27547d6ba4ff7bcf0710ffbd5b999%29%3B%0A%20%20%20%20%20%20%20%20%0A%20%20%20%20%0A%20%20%20%20%20%20%20%20var%20popup_ce56cbf850fe4771bfce7b7c26b2b3bb%20%3D%20L.popup%28%7B%22maxWidth%22%3A%20%22100%25%22%7D%29%3B%0A%0A%20%20%20%20%20%20%20%20%0A%20%20%20%20%20%20%20%20%20%20%20%20var%20html_6883c3a2639a4e1dbd5d9bbbdeb0765a%20%3D%20%24%28%60%3Cdiv%20id%3D%22html_6883c3a2639a4e1dbd5d9bbbdeb0765a%22%20style%3D%22width%3A%20100.0%25%3B%20height%3A%20100.0%25%3B%22%3ELat%3A%20-22.82331920947462%2C%20Lng%3A%20-47.06321597438829%2C%20Rssi%3A%20-99.9769%3C/div%3E%60%29%5B0%5D%3B%0A%20%20%20%20%20%20%20%20%20%20%20%20popup_ce56cbf850fe4771bfce7b7c26b2b3bb.setContent%28html_6883c3a2639a4e1dbd5d9bbbdeb0765a%29%3B%0A%20%20%20%20%20%20%20%20%0A%0A%20%20%20%20%20%20%20%20marker_e21e8aa196fb4a1ca3702e594a7d41c7.bindPopup%28popup_ce56cbf850fe4771bfce7b7c26b2b3bb%29%0A%20%20%20%20%20%20%20%20%3B%0A%0A%20%20%20%20%20%20%20%20%0A%20%20%20%20%0A%20%20%20%20%0A%20%20%20%20%20%20%20%20%20%20%20%20var%20marker_cc97e7200428440d8d4550dbee78f720%20%3D%20L.marker%28%0A%20%20%20%20%20%20%20%20%20%20%20%20%20%20%20%20%5B-22.8175901258988%2C%20-47.07083432138436%5D%2C%0A%20%20%20%20%20%20%20%20%20%20%20%20%20%20%20%20%7B%7D%0A%20%20%20%20%20%20%20%20%20%20%20%20%29.addTo%28map_0c7dff20ec5247e8912eb0a15fdcdf21%29%3B%0A%20%20%20%20%20%20%20%20%0A%20%20%20%20%0A%20%20%20%20%20%20%20%20%20%20%20%20var%20icon_ab67a1217077427d9ae2ae1aa9bc8c7a%20%3D%20L.AwesomeMarkers.icon%28%0A%20%20%20%20%20%20%20%20%20%20%20%20%20%20%20%20%7B%22extraClasses%22%3A%20%22fa-rotate-0%22%2C%20%22icon%22%3A%20%22info-sign%22%2C%20%22iconColor%22%3A%20%22white%22%2C%20%22markerColor%22%3A%20%22lightblue%22%2C%20%22prefix%22%3A%20%22glyphicon%22%7D%0A%20%20%20%20%20%20%20%20%20%20%20%20%29%3B%0A%20%20%20%20%20%20%20%20%20%20%20%20marker_cc97e7200428440d8d4550dbee78f720.setIcon%28icon_ab67a1217077427d9ae2ae1aa9bc8c7a%29%3B%0A%20%20%20%20%20%20%20%20%0A%20%20%20%20%0A%20%20%20%20%20%20%20%20var%20popup_194827676dea489984f0b1ffb43baaf1%20%3D%20L.popup%28%7B%22maxWidth%22%3A%20%22100%25%22%7D%29%3B%0A%0A%20%20%20%20%20%20%20%20%0A%20%20%20%20%20%20%20%20%20%20%20%20var%20html_afe2921d52934fa2a614176f1e95c72b%20%3D%20%24%28%60%3Cdiv%20id%3D%22html_afe2921d52934fa2a614176f1e95c72b%22%20style%3D%22width%3A%20100.0%25%3B%20height%3A%20100.0%25%3B%22%3ELat%3A%20-22.8175901258988%2C%20Lng%3A%20-47.07083432138436%2C%20Rssi%3A%20-100.04%3C/div%3E%60%29%5B0%5D%3B%0A%20%20%20%20%20%20%20%20%20%20%20%20popup_194827676dea489984f0b1ffb43baaf1.setContent%28html_afe2921d52934fa2a614176f1e95c72b%29%3B%0A%20%20%20%20%20%20%20%20%0A%0A%20%20%20%20%20%20%20%20marker_cc97e7200428440d8d4550dbee78f720.bindPopup%28popup_194827676dea489984f0b1ffb43baaf1%29%0A%20%20%20%20%20%20%20%20%3B%0A%0A%20%20%20%20%20%20%20%20%0A%20%20%20%20%0A%20%20%20%20%0A%20%20%20%20%20%20%20%20%20%20%20%20var%20marker_41ca8f7bd27f47519fba675b28429447%20%3D%20L.marker%28%0A%20%20%20%20%20%20%20%20%20%20%20%20%20%20%20%20%5B-22.8176456501308%2C%20-47.06884615405668%5D%2C%0A%20%20%20%20%20%20%20%20%20%20%20%20%20%20%20%20%7B%7D%0A%20%20%20%20%20%20%20%20%20%20%20%20%29.addTo%28map_0c7dff20ec5247e8912eb0a15fdcdf21%29%3B%0A%20%20%20%20%20%20%20%20%0A%20%20%20%20%0A%20%20%20%20%20%20%20%20%20%20%20%20var%20icon_9f7345a0f03945e48218572715fa99cc%20%3D%20L.AwesomeMarkers.icon%28%0A%20%20%20%20%20%20%20%20%20%20%20%20%20%20%20%20%7B%22extraClasses%22%3A%20%22fa-rotate-0%22%2C%20%22icon%22%3A%20%22info-sign%22%2C%20%22iconColor%22%3A%20%22white%22%2C%20%22markerColor%22%3A%20%22blue%22%2C%20%22prefix%22%3A%20%22glyphicon%22%7D%0A%20%20%20%20%20%20%20%20%20%20%20%20%29%3B%0A%20%20%20%20%20%20%20%20%20%20%20%20marker_41ca8f7bd27f47519fba675b28429447.setIcon%28icon_9f7345a0f03945e48218572715fa99cc%29%3B%0A%20%20%20%20%20%20%20%20%0A%20%20%20%20%0A%20%20%20%20%20%20%20%20var%20popup_d5ba262b0d6a4453b81bbf67e2f76784%20%3D%20L.popup%28%7B%22maxWidth%22%3A%20%22100%25%22%7D%29%3B%0A%0A%20%20%20%20%20%20%20%20%0A%20%20%20%20%20%20%20%20%20%20%20%20var%20html_c40e4fc0d41e437ea436c3749222e416%20%3D%20%24%28%60%3Cdiv%20id%3D%22html_c40e4fc0d41e437ea436c3749222e416%22%20style%3D%22width%3A%20100.0%25%3B%20height%3A%20100.0%25%3B%22%3ELat%3A%20-22.8176456501308%2C%20Lng%3A%20-47.06884615405668%2C%20Rssi%3A%20-96.2699%3C/div%3E%60%29%5B0%5D%3B%0A%20%20%20%20%20%20%20%20%20%20%20%20popup_d5ba262b0d6a4453b81bbf67e2f76784.setContent%28html_c40e4fc0d41e437ea436c3749222e416%29%3B%0A%20%20%20%20%20%20%20%20%0A%0A%20%20%20%20%20%20%20%20marker_41ca8f7bd27f47519fba675b28429447.bindPopup%28popup_d5ba262b0d6a4453b81bbf67e2f76784%29%0A%20%20%20%20%20%20%20%20%3B%0A%0A%20%20%20%20%20%20%20%20%0A%20%20%20%20%0A%20%20%20%20%0A%20%20%20%20%20%20%20%20%20%20%20%20var%20marker_1615c20020854353bb7cdb5ad133e337%20%3D%20L.marker%28%0A%20%20%20%20%20%20%20%20%20%20%20%20%20%20%20%20%5B-22.81506817323086%2C%20-47.07122280371313%5D%2C%0A%20%20%20%20%20%20%20%20%20%20%20%20%20%20%20%20%7B%7D%0A%20%20%20%20%20%20%20%20%20%20%20%20%29.addTo%28map_0c7dff20ec5247e8912eb0a15fdcdf21%29%3B%0A%20%20%20%20%20%20%20%20%0A%20%20%20%20%0A%20%20%20%20%20%20%20%20%20%20%20%20var%20icon_b626e52393714e89885996dfb908b00c%20%3D%20L.AwesomeMarkers.icon%28%0A%20%20%20%20%20%20%20%20%20%20%20%20%20%20%20%20%7B%22extraClasses%22%3A%20%22fa-rotate-0%22%2C%20%22icon%22%3A%20%22info-sign%22%2C%20%22iconColor%22%3A%20%22white%22%2C%20%22markerColor%22%3A%20%22lightblue%22%2C%20%22prefix%22%3A%20%22glyphicon%22%7D%0A%20%20%20%20%20%20%20%20%20%20%20%20%29%3B%0A%20%20%20%20%20%20%20%20%20%20%20%20marker_1615c20020854353bb7cdb5ad133e337.setIcon%28icon_b626e52393714e89885996dfb908b00c%29%3B%0A%20%20%20%20%20%20%20%20%0A%20%20%20%20%0A%20%20%20%20%20%20%20%20var%20popup_be0489f8ea584dc9b09ddb9b98d4c8b2%20%3D%20L.popup%28%7B%22maxWidth%22%3A%20%22100%25%22%7D%29%3B%0A%0A%20%20%20%20%20%20%20%20%0A%20%20%20%20%20%20%20%20%20%20%20%20var%20html_d3a4d00aba4644ca8b7f0acf200bf567%20%3D%20%24%28%60%3Cdiv%20id%3D%22html_d3a4d00aba4644ca8b7f0acf200bf567%22%20style%3D%22width%3A%20100.0%25%3B%20height%3A%20100.0%25%3B%22%3ELat%3A%20-22.81506817323086%2C%20Lng%3A%20-47.07122280371313%2C%20Rssi%3A%20-102.724%3C/div%3E%60%29%5B0%5D%3B%0A%20%20%20%20%20%20%20%20%20%20%20%20popup_be0489f8ea584dc9b09ddb9b98d4c8b2.setContent%28html_d3a4d00aba4644ca8b7f0acf200bf567%29%3B%0A%20%20%20%20%20%20%20%20%0A%0A%20%20%20%20%20%20%20%20marker_1615c20020854353bb7cdb5ad133e337.bindPopup%28popup_be0489f8ea584dc9b09ddb9b98d4c8b2%29%0A%20%20%20%20%20%20%20%20%3B%0A%0A%20%20%20%20%20%20%20%20%0A%20%20%20%20%0A%20%20%20%20%0A%20%20%20%20%20%20%20%20%20%20%20%20var%20marker_46f0b331ee804f97af88d5df7ca0bb65%20%3D%20L.marker%28%0A%20%20%20%20%20%20%20%20%20%20%20%20%20%20%20%20%5B-22.82393493173468%2C%20-47.06617092032558%5D%2C%0A%20%20%20%20%20%20%20%20%20%20%20%20%20%20%20%20%7B%7D%0A%20%20%20%20%20%20%20%20%20%20%20%20%29.addTo%28map_0c7dff20ec5247e8912eb0a15fdcdf21%29%3B%0A%20%20%20%20%20%20%20%20%0A%20%20%20%20%0A%20%20%20%20%20%20%20%20%20%20%20%20var%20icon_8b948d507d594afcaf088cca82b6ce68%20%3D%20L.AwesomeMarkers.icon%28%0A%20%20%20%20%20%20%20%20%20%20%20%20%20%20%20%20%7B%22extraClasses%22%3A%20%22fa-rotate-0%22%2C%20%22icon%22%3A%20%22info-sign%22%2C%20%22iconColor%22%3A%20%22white%22%2C%20%22markerColor%22%3A%20%22blue%22%2C%20%22prefix%22%3A%20%22glyphicon%22%7D%0A%20%20%20%20%20%20%20%20%20%20%20%20%29%3B%0A%20%20%20%20%20%20%20%20%20%20%20%20marker_46f0b331ee804f97af88d5df7ca0bb65.setIcon%28icon_8b948d507d594afcaf088cca82b6ce68%29%3B%0A%20%20%20%20%20%20%20%20%0A%20%20%20%20%0A%20%20%20%20%20%20%20%20var%20popup_59419c6eff004d5db9f2505d75cc5a2c%20%3D%20L.popup%28%7B%22maxWidth%22%3A%20%22100%25%22%7D%29%3B%0A%0A%20%20%20%20%20%20%20%20%0A%20%20%20%20%20%20%20%20%20%20%20%20var%20html_52319a9f61c5480e851da23c44c2af1a%20%3D%20%24%28%60%3Cdiv%20id%3D%22html_52319a9f61c5480e851da23c44c2af1a%22%20style%3D%22width%3A%20100.0%25%3B%20height%3A%20100.0%25%3B%22%3ELat%3A%20-22.82393493173468%2C%20Lng%3A%20-47.06617092032558%2C%20Rssi%3A%20-96.6212%3C/div%3E%60%29%5B0%5D%3B%0A%20%20%20%20%20%20%20%20%20%20%20%20popup_59419c6eff004d5db9f2505d75cc5a2c.setContent%28html_52319a9f61c5480e851da23c44c2af1a%29%3B%0A%20%20%20%20%20%20%20%20%0A%0A%20%20%20%20%20%20%20%20marker_46f0b331ee804f97af88d5df7ca0bb65.bindPopup%28popup_59419c6eff004d5db9f2505d75cc5a2c%29%0A%20%20%20%20%20%20%20%20%3B%0A%0A%20%20%20%20%20%20%20%20%0A%20%20%20%20%0A%20%20%20%20%0A%20%20%20%20%20%20%20%20%20%20%20%20var%20marker_8dba3b6aa1954f83bb804a020a07960a%20%3D%20L.marker%28%0A%20%20%20%20%20%20%20%20%20%20%20%20%20%20%20%20%5B-22.82386108264907%2C%20-47.06753773030155%5D%2C%0A%20%20%20%20%20%20%20%20%20%20%20%20%20%20%20%20%7B%7D%0A%20%20%20%20%20%20%20%20%20%20%20%20%29.addTo%28map_0c7dff20ec5247e8912eb0a15fdcdf21%29%3B%0A%20%20%20%20%20%20%20%20%0A%20%20%20%20%0A%20%20%20%20%20%20%20%20%20%20%20%20var%20icon_912ace79a3bb496a8879516e18194f0f%20%3D%20L.AwesomeMarkers.icon%28%0A%20%20%20%20%20%20%20%20%20%20%20%20%20%20%20%20%7B%22extraClasses%22%3A%20%22fa-rotate-0%22%2C%20%22icon%22%3A%20%22info-sign%22%2C%20%22iconColor%22%3A%20%22white%22%2C%20%22markerColor%22%3A%20%22blue%22%2C%20%22prefix%22%3A%20%22glyphicon%22%7D%0A%20%20%20%20%20%20%20%20%20%20%20%20%29%3B%0A%20%20%20%20%20%20%20%20%20%20%20%20marker_8dba3b6aa1954f83bb804a020a07960a.setIcon%28icon_912ace79a3bb496a8879516e18194f0f%29%3B%0A%20%20%20%20%20%20%20%20%0A%20%20%20%20%0A%20%20%20%20%20%20%20%20var%20popup_6b1bea0d8f9643db9d34c071636b6acf%20%3D%20L.popup%28%7B%22maxWidth%22%3A%20%22100%25%22%7D%29%3B%0A%0A%20%20%20%20%20%20%20%20%0A%20%20%20%20%20%20%20%20%20%20%20%20var%20html_40dda1f52f834f6a8867072cec8d4c24%20%3D%20%24%28%60%3Cdiv%20id%3D%22html_40dda1f52f834f6a8867072cec8d4c24%22%20style%3D%22width%3A%20100.0%25%3B%20height%3A%20100.0%25%3B%22%3ELat%3A%20-22.82386108264907%2C%20Lng%3A%20-47.06753773030155%2C%20Rssi%3A%20-99.0879%3C/div%3E%60%29%5B0%5D%3B%0A%20%20%20%20%20%20%20%20%20%20%20%20popup_6b1bea0d8f9643db9d34c071636b6acf.setContent%28html_40dda1f52f834f6a8867072cec8d4c24%29%3B%0A%20%20%20%20%20%20%20%20%0A%0A%20%20%20%20%20%20%20%20marker_8dba3b6aa1954f83bb804a020a07960a.bindPopup%28popup_6b1bea0d8f9643db9d34c071636b6acf%29%0A%20%20%20%20%20%20%20%20%3B%0A%0A%20%20%20%20%20%20%20%20%0A%20%20%20%20%0A%20%20%20%20%0A%20%20%20%20%20%20%20%20%20%20%20%20var%20marker_af3f0b0ea37c44ca82d1c860f9266068%20%3D%20L.marker%28%0A%20%20%20%20%20%20%20%20%20%20%20%20%20%20%20%20%5B-22.82840759241185%2C%20-47.06186747418447%5D%2C%0A%20%20%20%20%20%20%20%20%20%20%20%20%20%20%20%20%7B%7D%0A%20%20%20%20%20%20%20%20%20%20%20%20%29.addTo%28map_0c7dff20ec5247e8912eb0a15fdcdf21%29%3B%0A%20%20%20%20%20%20%20%20%0A%20%20%20%20%0A%20%20%20%20%20%20%20%20%20%20%20%20var%20icon_f26d863ad8cf4d4b936652915ef3dade%20%3D%20L.AwesomeMarkers.icon%28%0A%20%20%20%20%20%20%20%20%20%20%20%20%20%20%20%20%7B%22extraClasses%22%3A%20%22fa-rotate-0%22%2C%20%22icon%22%3A%20%22info-sign%22%2C%20%22iconColor%22%3A%20%22white%22%2C%20%22markerColor%22%3A%20%22blue%22%2C%20%22prefix%22%3A%20%22glyphicon%22%7D%0A%20%20%20%20%20%20%20%20%20%20%20%20%29%3B%0A%20%20%20%20%20%20%20%20%20%20%20%20marker_af3f0b0ea37c44ca82d1c860f9266068.setIcon%28icon_f26d863ad8cf4d4b936652915ef3dade%29%3B%0A%20%20%20%20%20%20%20%20%0A%20%20%20%20%0A%20%20%20%20%20%20%20%20var%20popup_dadbe10e35934f41a4bf7d035ea94581%20%3D%20L.popup%28%7B%22maxWidth%22%3A%20%22100%25%22%7D%29%3B%0A%0A%20%20%20%20%20%20%20%20%0A%20%20%20%20%20%20%20%20%20%20%20%20var%20html_ca29b68dc82c4eddbb6d8ae0a0af66a2%20%3D%20%24%28%60%3Cdiv%20id%3D%22html_ca29b68dc82c4eddbb6d8ae0a0af66a2%22%20style%3D%22width%3A%20100.0%25%3B%20height%3A%20100.0%25%3B%22%3ELat%3A%20-22.82840759241185%2C%20Lng%3A%20-47.06186747418447%2C%20Rssi%3A%20-95.5951%3C/div%3E%60%29%5B0%5D%3B%0A%20%20%20%20%20%20%20%20%20%20%20%20popup_dadbe10e35934f41a4bf7d035ea94581.setContent%28html_ca29b68dc82c4eddbb6d8ae0a0af66a2%29%3B%0A%20%20%20%20%20%20%20%20%0A%0A%20%20%20%20%20%20%20%20marker_af3f0b0ea37c44ca82d1c860f9266068.bindPopup%28popup_dadbe10e35934f41a4bf7d035ea94581%29%0A%20%20%20%20%20%20%20%20%3B%0A%0A%20%20%20%20%20%20%20%20%0A%20%20%20%20%0A%20%20%20%20%0A%20%20%20%20%20%20%20%20%20%20%20%20var%20marker_1b14449e8b4c4884bf2ec09dd29642a1%20%3D%20L.marker%28%0A%20%20%20%20%20%20%20%20%20%20%20%20%20%20%20%20%5B-22.8273396767669%2C%20-47.06144872987941%5D%2C%0A%20%20%20%20%20%20%20%20%20%20%20%20%20%20%20%20%7B%7D%0A%20%20%20%20%20%20%20%20%20%20%20%20%29.addTo%28map_0c7dff20ec5247e8912eb0a15fdcdf21%29%3B%0A%20%20%20%20%20%20%20%20%0A%20%20%20%20%0A%20%20%20%20%20%20%20%20%20%20%20%20var%20icon_f999c32bb8db431183f72e0086000367%20%3D%20L.AwesomeMarkers.icon%28%0A%20%20%20%20%20%20%20%20%20%20%20%20%20%20%20%20%7B%22extraClasses%22%3A%20%22fa-rotate-0%22%2C%20%22icon%22%3A%20%22info-sign%22%2C%20%22iconColor%22%3A%20%22white%22%2C%20%22markerColor%22%3A%20%22blue%22%2C%20%22prefix%22%3A%20%22glyphicon%22%7D%0A%20%20%20%20%20%20%20%20%20%20%20%20%29%3B%0A%20%20%20%20%20%20%20%20%20%20%20%20marker_1b14449e8b4c4884bf2ec09dd29642a1.setIcon%28icon_f999c32bb8db431183f72e0086000367%29%3B%0A%20%20%20%20%20%20%20%20%0A%20%20%20%20%0A%20%20%20%20%20%20%20%20var%20popup_a96b8c94677f4ebcb1cdbae63a5f5b46%20%3D%20L.popup%28%7B%22maxWidth%22%3A%20%22100%25%22%7D%29%3B%0A%0A%20%20%20%20%20%20%20%20%0A%20%20%20%20%20%20%20%20%20%20%20%20var%20html_5f3ead8018fd486b873855fc271739bd%20%3D%20%24%28%60%3Cdiv%20id%3D%22html_5f3ead8018fd486b873855fc271739bd%22%20style%3D%22width%3A%20100.0%25%3B%20height%3A%20100.0%25%3B%22%3ELat%3A%20-22.8273396767669%2C%20Lng%3A%20-47.06144872987941%2C%20Rssi%3A%20-96.1651%3C/div%3E%60%29%5B0%5D%3B%0A%20%20%20%20%20%20%20%20%20%20%20%20popup_a96b8c94677f4ebcb1cdbae63a5f5b46.setContent%28html_5f3ead8018fd486b873855fc271739bd%29%3B%0A%20%20%20%20%20%20%20%20%0A%0A%20%20%20%20%20%20%20%20marker_1b14449e8b4c4884bf2ec09dd29642a1.bindPopup%28popup_a96b8c94677f4ebcb1cdbae63a5f5b46%29%0A%20%20%20%20%20%20%20%20%3B%0A%0A%20%20%20%20%20%20%20%20%0A%20%20%20%20%0A%20%20%20%20%0A%20%20%20%20%20%20%20%20%20%20%20%20var%20marker_6595d7ca44b147ff8c93f83701b5456a%20%3D%20L.marker%28%0A%20%20%20%20%20%20%20%20%20%20%20%20%20%20%20%20%5B-22.82996331426923%2C%20-47.06404772458724%5D%2C%0A%20%20%20%20%20%20%20%20%20%20%20%20%20%20%20%20%7B%7D%0A%20%20%20%20%20%20%20%20%20%20%20%20%29.addTo%28map_0c7dff20ec5247e8912eb0a15fdcdf21%29%3B%0A%20%20%20%20%20%20%20%20%0A%20%20%20%20%0A%20%20%20%20%20%20%20%20%20%20%20%20var%20icon_38258ce2b0dd471dac22f6079906af53%20%3D%20L.AwesomeMarkers.icon%28%0A%20%20%20%20%20%20%20%20%20%20%20%20%20%20%20%20%7B%22extraClasses%22%3A%20%22fa-rotate-0%22%2C%20%22icon%22%3A%20%22info-sign%22%2C%20%22iconColor%22%3A%20%22white%22%2C%20%22markerColor%22%3A%20%22lightblue%22%2C%20%22prefix%22%3A%20%22glyphicon%22%7D%0A%20%20%20%20%20%20%20%20%20%20%20%20%29%3B%0A%20%20%20%20%20%20%20%20%20%20%20%20marker_6595d7ca44b147ff8c93f83701b5456a.setIcon%28icon_38258ce2b0dd471dac22f6079906af53%29%3B%0A%20%20%20%20%20%20%20%20%0A%20%20%20%20%0A%20%20%20%20%20%20%20%20var%20popup_8fb35f09255949f4a7b22136e12984a7%20%3D%20L.popup%28%7B%22maxWidth%22%3A%20%22100%25%22%7D%29%3B%0A%0A%20%20%20%20%20%20%20%20%0A%20%20%20%20%20%20%20%20%20%20%20%20var%20html_336bd8d1c5d64519a96c3726a1fbea57%20%3D%20%24%28%60%3Cdiv%20id%3D%22html_336bd8d1c5d64519a96c3726a1fbea57%22%20style%3D%22width%3A%20100.0%25%3B%20height%3A%20100.0%25%3B%22%3ELat%3A%20-22.82996331426923%2C%20Lng%3A%20-47.06404772458724%2C%20Rssi%3A%20-104.584%3C/div%3E%60%29%5B0%5D%3B%0A%20%20%20%20%20%20%20%20%20%20%20%20popup_8fb35f09255949f4a7b22136e12984a7.setContent%28html_336bd8d1c5d64519a96c3726a1fbea57%29%3B%0A%20%20%20%20%20%20%20%20%0A%0A%20%20%20%20%20%20%20%20marker_6595d7ca44b147ff8c93f83701b5456a.bindPopup%28popup_8fb35f09255949f4a7b22136e12984a7%29%0A%20%20%20%20%20%20%20%20%3B%0A%0A%20%20%20%20%20%20%20%20%0A%20%20%20%20%0A%20%20%20%20%0A%20%20%20%20%20%20%20%20%20%20%20%20var%20marker_228e8eda6b9d4179a17f9c52a8765e14%20%3D%20L.marker%28%0A%20%20%20%20%20%20%20%20%20%20%20%20%20%20%20%20%5B-22.81536258272692%2C%20-47.0728795528978%5D%2C%0A%20%20%20%20%20%20%20%20%20%20%20%20%20%20%20%20%7B%7D%0A%20%20%20%20%20%20%20%20%20%20%20%20%29.addTo%28map_0c7dff20ec5247e8912eb0a15fdcdf21%29%3B%0A%20%20%20%20%20%20%20%20%0A%20%20%20%20%0A%20%20%20%20%20%20%20%20%20%20%20%20var%20icon_fa2f2852d95e4e368b936564d368f8ff%20%3D%20L.AwesomeMarkers.icon%28%0A%20%20%20%20%20%20%20%20%20%20%20%20%20%20%20%20%7B%22extraClasses%22%3A%20%22fa-rotate-0%22%2C%20%22icon%22%3A%20%22info-sign%22%2C%20%22iconColor%22%3A%20%22white%22%2C%20%22markerColor%22%3A%20%22blue%22%2C%20%22prefix%22%3A%20%22glyphicon%22%7D%0A%20%20%20%20%20%20%20%20%20%20%20%20%29%3B%0A%20%20%20%20%20%20%20%20%20%20%20%20marker_228e8eda6b9d4179a17f9c52a8765e14.setIcon%28icon_fa2f2852d95e4e368b936564d368f8ff%29%3B%0A%20%20%20%20%20%20%20%20%0A%20%20%20%20%0A%20%20%20%20%20%20%20%20var%20popup_6f3b61e1ffb046a3bcfd963d8e91154e%20%3D%20L.popup%28%7B%22maxWidth%22%3A%20%22100%25%22%7D%29%3B%0A%0A%20%20%20%20%20%20%20%20%0A%20%20%20%20%20%20%20%20%20%20%20%20var%20html_50c775807ef9426193ffcd2f4a1ad9c2%20%3D%20%24%28%60%3Cdiv%20id%3D%22html_50c775807ef9426193ffcd2f4a1ad9c2%22%20style%3D%22width%3A%20100.0%25%3B%20height%3A%20100.0%25%3B%22%3ELat%3A%20-22.81536258272692%2C%20Lng%3A%20-47.0728795528978%2C%20Rssi%3A%20-98.2758%3C/div%3E%60%29%5B0%5D%3B%0A%20%20%20%20%20%20%20%20%20%20%20%20popup_6f3b61e1ffb046a3bcfd963d8e91154e.setContent%28html_50c775807ef9426193ffcd2f4a1ad9c2%29%3B%0A%20%20%20%20%20%20%20%20%0A%0A%20%20%20%20%20%20%20%20marker_228e8eda6b9d4179a17f9c52a8765e14.bindPopup%28popup_6f3b61e1ffb046a3bcfd963d8e91154e%29%0A%20%20%20%20%20%20%20%20%3B%0A%0A%20%20%20%20%20%20%20%20%0A%20%20%20%20%0A%20%20%20%20%0A%20%20%20%20%20%20%20%20%20%20%20%20var%20marker_c3fe814682b4451aac124c1b1565ea1b%20%3D%20L.marker%28%0A%20%20%20%20%20%20%20%20%20%20%20%20%20%20%20%20%5B-22.83096072883751%2C%20-47.06335017986552%5D%2C%0A%20%20%20%20%20%20%20%20%20%20%20%20%20%20%20%20%7B%7D%0A%20%20%20%20%20%20%20%20%20%20%20%20%29.addTo%28map_0c7dff20ec5247e8912eb0a15fdcdf21%29%3B%0A%20%20%20%20%20%20%20%20%0A%20%20%20%20%0A%20%20%20%20%20%20%20%20%20%20%20%20var%20icon_d807f7f3942d41c28bdd8aab5c22a9de%20%3D%20L.AwesomeMarkers.icon%28%0A%20%20%20%20%20%20%20%20%20%20%20%20%20%20%20%20%7B%22extraClasses%22%3A%20%22fa-rotate-0%22%2C%20%22icon%22%3A%20%22info-sign%22%2C%20%22iconColor%22%3A%20%22white%22%2C%20%22markerColor%22%3A%20%22lightblue%22%2C%20%22prefix%22%3A%20%22glyphicon%22%7D%0A%20%20%20%20%20%20%20%20%20%20%20%20%29%3B%0A%20%20%20%20%20%20%20%20%20%20%20%20marker_c3fe814682b4451aac124c1b1565ea1b.setIcon%28icon_d807f7f3942d41c28bdd8aab5c22a9de%29%3B%0A%20%20%20%20%20%20%20%20%0A%20%20%20%20%0A%20%20%20%20%20%20%20%20var%20popup_0d7459dab286430a9cf1753909c92018%20%3D%20L.popup%28%7B%22maxWidth%22%3A%20%22100%25%22%7D%29%3B%0A%0A%20%20%20%20%20%20%20%20%0A%20%20%20%20%20%20%20%20%20%20%20%20var%20html_6599d9e74dad44e5b6d77b928bd5eb7e%20%3D%20%24%28%60%3Cdiv%20id%3D%22html_6599d9e74dad44e5b6d77b928bd5eb7e%22%20style%3D%22width%3A%20100.0%25%3B%20height%3A%20100.0%25%3B%22%3ELat%3A%20-22.83096072883751%2C%20Lng%3A%20-47.06335017986552%2C%20Rssi%3A%20-105.053%3C/div%3E%60%29%5B0%5D%3B%0A%20%20%20%20%20%20%20%20%20%20%20%20popup_0d7459dab286430a9cf1753909c92018.setContent%28html_6599d9e74dad44e5b6d77b928bd5eb7e%29%3B%0A%20%20%20%20%20%20%20%20%0A%0A%20%20%20%20%20%20%20%20marker_c3fe814682b4451aac124c1b1565ea1b.bindPopup%28popup_0d7459dab286430a9cf1753909c92018%29%0A%20%20%20%20%20%20%20%20%3B%0A%0A%20%20%20%20%20%20%20%20%0A%20%20%20%20%0A%20%20%20%20%0A%20%20%20%20%20%20%20%20%20%20%20%20var%20marker_06eeba223bd34bfc8b547f83b6ff0377%20%3D%20L.marker%28%0A%20%20%20%20%20%20%20%20%20%20%20%20%20%20%20%20%5B-22.81883627792137%2C%20-47.06061555601061%5D%2C%0A%20%20%20%20%20%20%20%20%20%20%20%20%20%20%20%20%7B%7D%0A%20%20%20%20%20%20%20%20%20%20%20%20%29.addTo%28map_0c7dff20ec5247e8912eb0a15fdcdf21%29%3B%0A%20%20%20%20%20%20%20%20%0A%20%20%20%20%0A%20%20%20%20%20%20%20%20%20%20%20%20var%20icon_060a4caae22e4a0a9ce2777cac8782a0%20%3D%20L.AwesomeMarkers.icon%28%0A%20%20%20%20%20%20%20%20%20%20%20%20%20%20%20%20%7B%22extraClasses%22%3A%20%22fa-rotate-0%22%2C%20%22icon%22%3A%20%22info-sign%22%2C%20%22iconColor%22%3A%20%22white%22%2C%20%22markerColor%22%3A%20%22blue%22%2C%20%22prefix%22%3A%20%22glyphicon%22%7D%0A%20%20%20%20%20%20%20%20%20%20%20%20%29%3B%0A%20%20%20%20%20%20%20%20%20%20%20%20marker_06eeba223bd34bfc8b547f83b6ff0377.setIcon%28icon_060a4caae22e4a0a9ce2777cac8782a0%29%3B%0A%20%20%20%20%20%20%20%20%0A%20%20%20%20%0A%20%20%20%20%20%20%20%20var%20popup_546743fbec184ca188fc8797d7be212c%20%3D%20L.popup%28%7B%22maxWidth%22%3A%20%22100%25%22%7D%29%3B%0A%0A%20%20%20%20%20%20%20%20%0A%20%20%20%20%20%20%20%20%20%20%20%20var%20html_13d1ac37436949999a07ce87bdd14d46%20%3D%20%24%28%60%3Cdiv%20id%3D%22html_13d1ac37436949999a07ce87bdd14d46%22%20style%3D%22width%3A%20100.0%25%3B%20height%3A%20100.0%25%3B%22%3ELat%3A%20-22.81883627792137%2C%20Lng%3A%20-47.06061555601061%2C%20Rssi%3A%20-82.1159%3C/div%3E%60%29%5B0%5D%3B%0A%20%20%20%20%20%20%20%20%20%20%20%20popup_546743fbec184ca188fc8797d7be212c.setContent%28html_13d1ac37436949999a07ce87bdd14d46%29%3B%0A%20%20%20%20%20%20%20%20%0A%0A%20%20%20%20%20%20%20%20marker_06eeba223bd34bfc8b547f83b6ff0377.bindPopup%28popup_546743fbec184ca188fc8797d7be212c%29%0A%20%20%20%20%20%20%20%20%3B%0A%0A%20%20%20%20%20%20%20%20%0A%20%20%20%20%0A%20%20%20%20%0A%20%20%20%20%20%20%20%20%20%20%20%20var%20marker_361d8456e6f84bf1aa6dcf9788424873%20%3D%20L.marker%28%0A%20%20%20%20%20%20%20%20%20%20%20%20%20%20%20%20%5B-22.81642866763006%2C%20-47.06200737084524%5D%2C%0A%20%20%20%20%20%20%20%20%20%20%20%20%20%20%20%20%7B%7D%0A%20%20%20%20%20%20%20%20%20%20%20%20%29.addTo%28map_0c7dff20ec5247e8912eb0a15fdcdf21%29%3B%0A%20%20%20%20%20%20%20%20%0A%20%20%20%20%0A%20%20%20%20%20%20%20%20%20%20%20%20var%20icon_039cd0e4abe244ada5454d92cb6ae657%20%3D%20L.AwesomeMarkers.icon%28%0A%20%20%20%20%20%20%20%20%20%20%20%20%20%20%20%20%7B%22extraClasses%22%3A%20%22fa-rotate-0%22%2C%20%22icon%22%3A%20%22info-sign%22%2C%20%22iconColor%22%3A%20%22white%22%2C%20%22markerColor%22%3A%20%22darkblue%22%2C%20%22prefix%22%3A%20%22glyphicon%22%7D%0A%20%20%20%20%20%20%20%20%20%20%20%20%29%3B%0A%20%20%20%20%20%20%20%20%20%20%20%20marker_361d8456e6f84bf1aa6dcf9788424873.setIcon%28icon_039cd0e4abe244ada5454d92cb6ae657%29%3B%0A%20%20%20%20%20%20%20%20%0A%20%20%20%20%0A%20%20%20%20%20%20%20%20var%20popup_a71f8eeec1fd4d5a93cdf29ea54d236a%20%3D%20L.popup%28%7B%22maxWidth%22%3A%20%22100%25%22%7D%29%3B%0A%0A%20%20%20%20%20%20%20%20%0A%20%20%20%20%20%20%20%20%20%20%20%20var%20html_50ba8d9431c04d65af506aff18de0f33%20%3D%20%24%28%60%3Cdiv%20id%3D%22html_50ba8d9431c04d65af506aff18de0f33%22%20style%3D%22width%3A%20100.0%25%3B%20height%3A%20100.0%25%3B%22%3ELat%3A%20-22.81642866763006%2C%20Lng%3A%20-47.06200737084524%2C%20Rssi%3A%20-77.0539%3C/div%3E%60%29%5B0%5D%3B%0A%20%20%20%20%20%20%20%20%20%20%20%20popup_a71f8eeec1fd4d5a93cdf29ea54d236a.setContent%28html_50ba8d9431c04d65af506aff18de0f33%29%3B%0A%20%20%20%20%20%20%20%20%0A%0A%20%20%20%20%20%20%20%20marker_361d8456e6f84bf1aa6dcf9788424873.bindPopup%28popup_a71f8eeec1fd4d5a93cdf29ea54d236a%29%0A%20%20%20%20%20%20%20%20%3B%0A%0A%20%20%20%20%20%20%20%20%0A%20%20%20%20%0A%20%20%20%20%0A%20%20%20%20%20%20%20%20%20%20%20%20var%20marker_52a312ed094d4717918ea1c6e24d9f92%20%3D%20L.marker%28%0A%20%20%20%20%20%20%20%20%20%20%20%20%20%20%20%20%5B-22.82041670721943%2C%20-47.06747962546312%5D%2C%0A%20%20%20%20%20%20%20%20%20%20%20%20%20%20%20%20%7B%7D%0A%20%20%20%20%20%20%20%20%20%20%20%20%29.addTo%28map_0c7dff20ec5247e8912eb0a15fdcdf21%29%3B%0A%20%20%20%20%20%20%20%20%0A%20%20%20%20%0A%20%20%20%20%20%20%20%20%20%20%20%20var%20icon_a616eb212a3b454d8a4f4f4b938a0b6b%20%3D%20L.AwesomeMarkers.icon%28%0A%20%20%20%20%20%20%20%20%20%20%20%20%20%20%20%20%7B%22extraClasses%22%3A%20%22fa-rotate-0%22%2C%20%22icon%22%3A%20%22info-sign%22%2C%20%22iconColor%22%3A%20%22white%22%2C%20%22markerColor%22%3A%20%22lightblue%22%2C%20%22prefix%22%3A%20%22glyphicon%22%7D%0A%20%20%20%20%20%20%20%20%20%20%20%20%29%3B%0A%20%20%20%20%20%20%20%20%20%20%20%20marker_52a312ed094d4717918ea1c6e24d9f92.setIcon%28icon_a616eb212a3b454d8a4f4f4b938a0b6b%29%3B%0A%20%20%20%20%20%20%20%20%0A%20%20%20%20%0A%20%20%20%20%20%20%20%20var%20popup_f209faaceddc478096c27e32739ccc1a%20%3D%20L.popup%28%7B%22maxWidth%22%3A%20%22100%25%22%7D%29%3B%0A%0A%20%20%20%20%20%20%20%20%0A%20%20%20%20%20%20%20%20%20%20%20%20var%20html_04a9195879c241a1af128960b3e02ebb%20%3D%20%24%28%60%3Cdiv%20id%3D%22html_04a9195879c241a1af128960b3e02ebb%22%20style%3D%22width%3A%20100.0%25%3B%20height%3A%20100.0%25%3B%22%3ELat%3A%20-22.82041670721943%2C%20Lng%3A%20-47.06747962546312%2C%20Rssi%3A%20-101.664%3C/div%3E%60%29%5B0%5D%3B%0A%20%20%20%20%20%20%20%20%20%20%20%20popup_f209faaceddc478096c27e32739ccc1a.setContent%28html_04a9195879c241a1af128960b3e02ebb%29%3B%0A%20%20%20%20%20%20%20%20%0A%0A%20%20%20%20%20%20%20%20marker_52a312ed094d4717918ea1c6e24d9f92.bindPopup%28popup_f209faaceddc478096c27e32739ccc1a%29%0A%20%20%20%20%20%20%20%20%3B%0A%0A%20%20%20%20%20%20%20%20%0A%20%20%20%20%0A%20%20%20%20%0A%20%20%20%20%20%20%20%20%20%20%20%20var%20marker_fd9cb14c496749abb72305d6e4da1b65%20%3D%20L.marker%28%0A%20%20%20%20%20%20%20%20%20%20%20%20%20%20%20%20%5B-22.82119794279166%2C%20-47.06623375692565%5D%2C%0A%20%20%20%20%20%20%20%20%20%20%20%20%20%20%20%20%7B%7D%0A%20%20%20%20%20%20%20%20%20%20%20%20%29.addTo%28map_0c7dff20ec5247e8912eb0a15fdcdf21%29%3B%0A%20%20%20%20%20%20%20%20%0A%20%20%20%20%0A%20%20%20%20%20%20%20%20%20%20%20%20var%20icon_b78198b4a0524941a47f048b4c05bbfc%20%3D%20L.AwesomeMarkers.icon%28%0A%20%20%20%20%20%20%20%20%20%20%20%20%20%20%20%20%7B%22extraClasses%22%3A%20%22fa-rotate-0%22%2C%20%22icon%22%3A%20%22info-sign%22%2C%20%22iconColor%22%3A%20%22white%22%2C%20%22markerColor%22%3A%20%22lightblue%22%2C%20%22prefix%22%3A%20%22glyphicon%22%7D%0A%20%20%20%20%20%20%20%20%20%20%20%20%29%3B%0A%20%20%20%20%20%20%20%20%20%20%20%20marker_fd9cb14c496749abb72305d6e4da1b65.setIcon%28icon_b78198b4a0524941a47f048b4c05bbfc%29%3B%0A%20%20%20%20%20%20%20%20%0A%20%20%20%20%0A%20%20%20%20%20%20%20%20var%20popup_5046d8a36523499ba0828625be279b2b%20%3D%20L.popup%28%7B%22maxWidth%22%3A%20%22100%25%22%7D%29%3B%0A%0A%20%20%20%20%20%20%20%20%0A%20%20%20%20%20%20%20%20%20%20%20%20var%20html_decdf0586d2c4af289b7f50c898c3ca0%20%3D%20%24%28%60%3Cdiv%20id%3D%22html_decdf0586d2c4af289b7f50c898c3ca0%22%20style%3D%22width%3A%20100.0%25%3B%20height%3A%20100.0%25%3B%22%3ELat%3A%20-22.82119794279166%2C%20Lng%3A%20-47.06623375692565%2C%20Rssi%3A%20-101.666%3C/div%3E%60%29%5B0%5D%3B%0A%20%20%20%20%20%20%20%20%20%20%20%20popup_5046d8a36523499ba0828625be279b2b.setContent%28html_decdf0586d2c4af289b7f50c898c3ca0%29%3B%0A%20%20%20%20%20%20%20%20%0A%0A%20%20%20%20%20%20%20%20marker_fd9cb14c496749abb72305d6e4da1b65.bindPopup%28popup_5046d8a36523499ba0828625be279b2b%29%0A%20%20%20%20%20%20%20%20%3B%0A%0A%20%20%20%20%20%20%20%20%0A%20%20%20%20%0A%20%20%20%20%0A%20%20%20%20%20%20%20%20%20%20%20%20var%20marker_2b204c4b318e4e7381b598604a6adedc%20%3D%20L.marker%28%0A%20%20%20%20%20%20%20%20%20%20%20%20%20%20%20%20%5B-22.81946357242083%2C%20-47.06594370942929%5D%2C%0A%20%20%20%20%20%20%20%20%20%20%20%20%20%20%20%20%7B%7D%0A%20%20%20%20%20%20%20%20%20%20%20%20%29.addTo%28map_0c7dff20ec5247e8912eb0a15fdcdf21%29%3B%0A%20%20%20%20%20%20%20%20%0A%20%20%20%20%0A%20%20%20%20%20%20%20%20%20%20%20%20var%20icon_9f7ff99704ed410d82e18a89545f646b%20%3D%20L.AwesomeMarkers.icon%28%0A%20%20%20%20%20%20%20%20%20%20%20%20%20%20%20%20%7B%22extraClasses%22%3A%20%22fa-rotate-0%22%2C%20%22icon%22%3A%20%22info-sign%22%2C%20%22iconColor%22%3A%20%22white%22%2C%20%22markerColor%22%3A%20%22blue%22%2C%20%22prefix%22%3A%20%22glyphicon%22%7D%0A%20%20%20%20%20%20%20%20%20%20%20%20%29%3B%0A%20%20%20%20%20%20%20%20%20%20%20%20marker_2b204c4b318e4e7381b598604a6adedc.setIcon%28icon_9f7ff99704ed410d82e18a89545f646b%29%3B%0A%20%20%20%20%20%20%20%20%0A%20%20%20%20%0A%20%20%20%20%20%20%20%20var%20popup_1d1def0a9b0848cd96f7e934361b4657%20%3D%20L.popup%28%7B%22maxWidth%22%3A%20%22100%25%22%7D%29%3B%0A%0A%20%20%20%20%20%20%20%20%0A%20%20%20%20%20%20%20%20%20%20%20%20var%20html_5efceb8e4ba84e6d831f61accf40ddb8%20%3D%20%24%28%60%3Cdiv%20id%3D%22html_5efceb8e4ba84e6d831f61accf40ddb8%22%20style%3D%22width%3A%20100.0%25%3B%20height%3A%20100.0%25%3B%22%3ELat%3A%20-22.81946357242083%2C%20Lng%3A%20-47.06594370942929%2C%20Rssi%3A%20-90.8127%3C/div%3E%60%29%5B0%5D%3B%0A%20%20%20%20%20%20%20%20%20%20%20%20popup_1d1def0a9b0848cd96f7e934361b4657.setContent%28html_5efceb8e4ba84e6d831f61accf40ddb8%29%3B%0A%20%20%20%20%20%20%20%20%0A%0A%20%20%20%20%20%20%20%20marker_2b204c4b318e4e7381b598604a6adedc.bindPopup%28popup_1d1def0a9b0848cd96f7e934361b4657%29%0A%20%20%20%20%20%20%20%20%3B%0A%0A%20%20%20%20%20%20%20%20%0A%20%20%20%20%0A%20%20%20%20%0A%20%20%20%20%20%20%20%20%20%20%20%20var%20marker_e41d0a2480c64688baa4c24c0083a522%20%3D%20L.marker%28%0A%20%20%20%20%20%20%20%20%20%20%20%20%20%20%20%20%5B-22.82058803039477%2C%20-47.06490757596987%5D%2C%0A%20%20%20%20%20%20%20%20%20%20%20%20%20%20%20%20%7B%7D%0A%20%20%20%20%20%20%20%20%20%20%20%20%29.addTo%28map_0c7dff20ec5247e8912eb0a15fdcdf21%29%3B%0A%20%20%20%20%20%20%20%20%0A%20%20%20%20%0A%20%20%20%20%20%20%20%20%20%20%20%20var%20icon_e6694d7e2cde4dac978b91d0fc5360c3%20%3D%20L.AwesomeMarkers.icon%28%0A%20%20%20%20%20%20%20%20%20%20%20%20%20%20%20%20%7B%22extraClasses%22%3A%20%22fa-rotate-0%22%2C%20%22icon%22%3A%20%22info-sign%22%2C%20%22iconColor%22%3A%20%22white%22%2C%20%22markerColor%22%3A%20%22blue%22%2C%20%22prefix%22%3A%20%22glyphicon%22%7D%0A%20%20%20%20%20%20%20%20%20%20%20%20%29%3B%0A%20%20%20%20%20%20%20%20%20%20%20%20marker_e41d0a2480c64688baa4c24c0083a522.setIcon%28icon_e6694d7e2cde4dac978b91d0fc5360c3%29%3B%0A%20%20%20%20%20%20%20%20%0A%20%20%20%20%0A%20%20%20%20%20%20%20%20var%20popup_79822edca87d4a968a0f54fc572330a5%20%3D%20L.popup%28%7B%22maxWidth%22%3A%20%22100%25%22%7D%29%3B%0A%0A%20%20%20%20%20%20%20%20%0A%20%20%20%20%20%20%20%20%20%20%20%20var%20html_c59b4bc5653b46658717e0ce4c9bc4c5%20%3D%20%24%28%60%3Cdiv%20id%3D%22html_c59b4bc5653b46658717e0ce4c9bc4c5%22%20style%3D%22width%3A%20100.0%25%3B%20height%3A%20100.0%25%3B%22%3ELat%3A%20-22.82058803039477%2C%20Lng%3A%20-47.06490757596987%2C%20Rssi%3A%20-95.2347%3C/div%3E%60%29%5B0%5D%3B%0A%20%20%20%20%20%20%20%20%20%20%20%20popup_79822edca87d4a968a0f54fc572330a5.setContent%28html_c59b4bc5653b46658717e0ce4c9bc4c5%29%3B%0A%20%20%20%20%20%20%20%20%0A%0A%20%20%20%20%20%20%20%20marker_e41d0a2480c64688baa4c24c0083a522.bindPopup%28popup_79822edca87d4a968a0f54fc572330a5%29%0A%20%20%20%20%20%20%20%20%3B%0A%0A%20%20%20%20%20%20%20%20%0A%20%20%20%20%0A%20%20%20%20%0A%20%20%20%20%20%20%20%20%20%20%20%20var%20marker_ee57934db7d846f4a1429fa45b14ddcf%20%3D%20L.marker%28%0A%20%20%20%20%20%20%20%20%20%20%20%20%20%20%20%20%5B-22.81187430269656%2C%20-47.06667391119723%5D%2C%0A%20%20%20%20%20%20%20%20%20%20%20%20%20%20%20%20%7B%7D%0A%20%20%20%20%20%20%20%20%20%20%20%20%29.addTo%28map_0c7dff20ec5247e8912eb0a15fdcdf21%29%3B%0A%20%20%20%20%20%20%20%20%0A%20%20%20%20%0A%20%20%20%20%20%20%20%20%20%20%20%20var%20icon_d3abd61871a847a1bfeb7cdbc99cb546%20%3D%20L.AwesomeMarkers.icon%28%0A%20%20%20%20%20%20%20%20%20%20%20%20%20%20%20%20%7B%22extraClasses%22%3A%20%22fa-rotate-0%22%2C%20%22icon%22%3A%20%22info-sign%22%2C%20%22iconColor%22%3A%20%22white%22%2C%20%22markerColor%22%3A%20%22lightblue%22%2C%20%22prefix%22%3A%20%22glyphicon%22%7D%0A%20%20%20%20%20%20%20%20%20%20%20%20%29%3B%0A%20%20%20%20%20%20%20%20%20%20%20%20marker_ee57934db7d846f4a1429fa45b14ddcf.setIcon%28icon_d3abd61871a847a1bfeb7cdbc99cb546%29%3B%0A%20%20%20%20%20%20%20%20%0A%20%20%20%20%0A%20%20%20%20%20%20%20%20var%20popup_90de55e22db649f18ac280df30605a97%20%3D%20L.popup%28%7B%22maxWidth%22%3A%20%22100%25%22%7D%29%3B%0A%0A%20%20%20%20%20%20%20%20%0A%20%20%20%20%20%20%20%20%20%20%20%20var%20html_117c2a3ac70043ad9e9bd190e77d43a4%20%3D%20%24%28%60%3Cdiv%20id%3D%22html_117c2a3ac70043ad9e9bd190e77d43a4%22%20style%3D%22width%3A%20100.0%25%3B%20height%3A%20100.0%25%3B%22%3ELat%3A%20-22.81187430269656%2C%20Lng%3A%20-47.06667391119723%2C%20Rssi%3A%20-100.116%3C/div%3E%60%29%5B0%5D%3B%0A%20%20%20%20%20%20%20%20%20%20%20%20popup_90de55e22db649f18ac280df30605a97.setContent%28html_117c2a3ac70043ad9e9bd190e77d43a4%29%3B%0A%20%20%20%20%20%20%20%20%0A%0A%20%20%20%20%20%20%20%20marker_ee57934db7d846f4a1429fa45b14ddcf.bindPopup%28popup_90de55e22db649f18ac280df30605a97%29%0A%20%20%20%20%20%20%20%20%3B%0A%0A%20%20%20%20%20%20%20%20%0A%20%20%20%20%0A%20%20%20%20%0A%20%20%20%20%20%20%20%20%20%20%20%20var%20marker_2a272de038e24c4f9e41d11bd4c32502%20%3D%20L.marker%28%0A%20%20%20%20%20%20%20%20%20%20%20%20%20%20%20%20%5B-22.82428622451636%2C%20-47.06705183968418%5D%2C%0A%20%20%20%20%20%20%20%20%20%20%20%20%20%20%20%20%7B%7D%0A%20%20%20%20%20%20%20%20%20%20%20%20%29.addTo%28map_0c7dff20ec5247e8912eb0a15fdcdf21%29%3B%0A%20%20%20%20%20%20%20%20%0A%20%20%20%20%0A%20%20%20%20%20%20%20%20%20%20%20%20var%20icon_8d36d6a154da40bd97d01dd6d005e46f%20%3D%20L.AwesomeMarkers.icon%28%0A%20%20%20%20%20%20%20%20%20%20%20%20%20%20%20%20%7B%22extraClasses%22%3A%20%22fa-rotate-0%22%2C%20%22icon%22%3A%20%22info-sign%22%2C%20%22iconColor%22%3A%20%22white%22%2C%20%22markerColor%22%3A%20%22blue%22%2C%20%22prefix%22%3A%20%22glyphicon%22%7D%0A%20%20%20%20%20%20%20%20%20%20%20%20%29%3B%0A%20%20%20%20%20%20%20%20%20%20%20%20marker_2a272de038e24c4f9e41d11bd4c32502.setIcon%28icon_8d36d6a154da40bd97d01dd6d005e46f%29%3B%0A%20%20%20%20%20%20%20%20%0A%20%20%20%20%0A%20%20%20%20%20%20%20%20var%20popup_2c5d10fa6c9b4250b1b6a91574e5995a%20%3D%20L.popup%28%7B%22maxWidth%22%3A%20%22100%25%22%7D%29%3B%0A%0A%20%20%20%20%20%20%20%20%0A%20%20%20%20%20%20%20%20%20%20%20%20var%20html_786278f1cfc34c76a0ac866c33e497a7%20%3D%20%24%28%60%3Cdiv%20id%3D%22html_786278f1cfc34c76a0ac866c33e497a7%22%20style%3D%22width%3A%20100.0%25%3B%20height%3A%20100.0%25%3B%22%3ELat%3A%20-22.82428622451636%2C%20Lng%3A%20-47.06705183968418%2C%20Rssi%3A%20-90.3444%3C/div%3E%60%29%5B0%5D%3B%0A%20%20%20%20%20%20%20%20%20%20%20%20popup_2c5d10fa6c9b4250b1b6a91574e5995a.setContent%28html_786278f1cfc34c76a0ac866c33e497a7%29%3B%0A%20%20%20%20%20%20%20%20%0A%0A%20%20%20%20%20%20%20%20marker_2a272de038e24c4f9e41d11bd4c32502.bindPopup%28popup_2c5d10fa6c9b4250b1b6a91574e5995a%29%0A%20%20%20%20%20%20%20%20%3B%0A%0A%20%20%20%20%20%20%20%20%0A%20%20%20%20%0A%20%20%20%20%0A%20%20%20%20%20%20%20%20%20%20%20%20var%20marker_6cf802b9fe784ecaa7ae0db2bd928374%20%3D%20L.marker%28%0A%20%20%20%20%20%20%20%20%20%20%20%20%20%20%20%20%5B-22.82384365773027%2C%20-47.06400728650969%5D%2C%0A%20%20%20%20%20%20%20%20%20%20%20%20%20%20%20%20%7B%7D%0A%20%20%20%20%20%20%20%20%20%20%20%20%29.addTo%28map_0c7dff20ec5247e8912eb0a15fdcdf21%29%3B%0A%20%20%20%20%20%20%20%20%0A%20%20%20%20%0A%20%20%20%20%20%20%20%20%20%20%20%20var%20icon_806d8791f3114f7eb81d97f9644a94ef%20%3D%20L.AwesomeMarkers.icon%28%0A%20%20%20%20%20%20%20%20%20%20%20%20%20%20%20%20%7B%22extraClasses%22%3A%20%22fa-rotate-0%22%2C%20%22icon%22%3A%20%22info-sign%22%2C%20%22iconColor%22%3A%20%22white%22%2C%20%22markerColor%22%3A%20%22blue%22%2C%20%22prefix%22%3A%20%22glyphicon%22%7D%0A%20%20%20%20%20%20%20%20%20%20%20%20%29%3B%0A%20%20%20%20%20%20%20%20%20%20%20%20marker_6cf802b9fe784ecaa7ae0db2bd928374.setIcon%28icon_806d8791f3114f7eb81d97f9644a94ef%29%3B%0A%20%20%20%20%20%20%20%20%0A%20%20%20%20%0A%20%20%20%20%20%20%20%20var%20popup_41c962db48814f858e501b959e50acaa%20%3D%20L.popup%28%7B%22maxWidth%22%3A%20%22100%25%22%7D%29%3B%0A%0A%20%20%20%20%20%20%20%20%0A%20%20%20%20%20%20%20%20%20%20%20%20var%20html_a06482ce9aec40a79fed62eb4de7d2fa%20%3D%20%24%28%60%3Cdiv%20id%3D%22html_a06482ce9aec40a79fed62eb4de7d2fa%22%20style%3D%22width%3A%20100.0%25%3B%20height%3A%20100.0%25%3B%22%3ELat%3A%20-22.82384365773027%2C%20Lng%3A%20-47.06400728650969%2C%20Rssi%3A%20-91.5886%3C/div%3E%60%29%5B0%5D%3B%0A%20%20%20%20%20%20%20%20%20%20%20%20popup_41c962db48814f858e501b959e50acaa.setContent%28html_a06482ce9aec40a79fed62eb4de7d2fa%29%3B%0A%20%20%20%20%20%20%20%20%0A%0A%20%20%20%20%20%20%20%20marker_6cf802b9fe784ecaa7ae0db2bd928374.bindPopup%28popup_41c962db48814f858e501b959e50acaa%29%0A%20%20%20%20%20%20%20%20%3B%0A%0A%20%20%20%20%20%20%20%20%0A%20%20%20%20%0A%20%20%20%20%0A%20%20%20%20%20%20%20%20%20%20%20%20var%20marker_9688f2f081624fa9842e3ee38559605d%20%3D%20L.marker%28%0A%20%20%20%20%20%20%20%20%20%20%20%20%20%20%20%20%5B-22.82640533371841%2C%20-47.06430825896828%5D%2C%0A%20%20%20%20%20%20%20%20%20%20%20%20%20%20%20%20%7B%7D%0A%20%20%20%20%20%20%20%20%20%20%20%20%29.addTo%28map_0c7dff20ec5247e8912eb0a15fdcdf21%29%3B%0A%20%20%20%20%20%20%20%20%0A%20%20%20%20%0A%20%20%20%20%20%20%20%20%20%20%20%20var%20icon_a34cbbf2ef664ff382a5293aba3d5287%20%3D%20L.AwesomeMarkers.icon%28%0A%20%20%20%20%20%20%20%20%20%20%20%20%20%20%20%20%7B%22extraClasses%22%3A%20%22fa-rotate-0%22%2C%20%22icon%22%3A%20%22info-sign%22%2C%20%22iconColor%22%3A%20%22white%22%2C%20%22markerColor%22%3A%20%22lightblue%22%2C%20%22prefix%22%3A%20%22glyphicon%22%7D%0A%20%20%20%20%20%20%20%20%20%20%20%20%29%3B%0A%20%20%20%20%20%20%20%20%20%20%20%20marker_9688f2f081624fa9842e3ee38559605d.setIcon%28icon_a34cbbf2ef664ff382a5293aba3d5287%29%3B%0A%20%20%20%20%20%20%20%20%0A%20%20%20%20%0A%20%20%20%20%20%20%20%20var%20popup_830d51edb4234b49bbebccc3264fce78%20%3D%20L.popup%28%7B%22maxWidth%22%3A%20%22100%25%22%7D%29%3B%0A%0A%20%20%20%20%20%20%20%20%0A%20%20%20%20%20%20%20%20%20%20%20%20var%20html_302cceac0dcc4b79b573c2f4f5188048%20%3D%20%24%28%60%3Cdiv%20id%3D%22html_302cceac0dcc4b79b573c2f4f5188048%22%20style%3D%22width%3A%20100.0%25%3B%20height%3A%20100.0%25%3B%22%3ELat%3A%20-22.82640533371841%2C%20Lng%3A%20-47.06430825896828%2C%20Rssi%3A%20-102.147%3C/div%3E%60%29%5B0%5D%3B%0A%20%20%20%20%20%20%20%20%20%20%20%20popup_830d51edb4234b49bbebccc3264fce78.setContent%28html_302cceac0dcc4b79b573c2f4f5188048%29%3B%0A%20%20%20%20%20%20%20%20%0A%0A%20%20%20%20%20%20%20%20marker_9688f2f081624fa9842e3ee38559605d.bindPopup%28popup_830d51edb4234b49bbebccc3264fce78%29%0A%20%20%20%20%20%20%20%20%3B%0A%0A%20%20%20%20%20%20%20%20%0A%20%20%20%20%0A%20%20%20%20%0A%20%20%20%20%20%20%20%20%20%20%20%20var%20marker_7fe34cadd6c440348db602f9ea7dcc70%20%3D%20L.marker%28%0A%20%20%20%20%20%20%20%20%20%20%20%20%20%20%20%20%5B-22.81528722423836%2C%20-47.07010821668231%5D%2C%0A%20%20%20%20%20%20%20%20%20%20%20%20%20%20%20%20%7B%7D%0A%20%20%20%20%20%20%20%20%20%20%20%20%29.addTo%28map_0c7dff20ec5247e8912eb0a15fdcdf21%29%3B%0A%20%20%20%20%20%20%20%20%0A%20%20%20%20%0A%20%20%20%20%20%20%20%20%20%20%20%20var%20icon_59798e0048594889873c59f853c9a28c%20%3D%20L.AwesomeMarkers.icon%28%0A%20%20%20%20%20%20%20%20%20%20%20%20%20%20%20%20%7B%22extraClasses%22%3A%20%22fa-rotate-0%22%2C%20%22icon%22%3A%20%22info-sign%22%2C%20%22iconColor%22%3A%20%22white%22%2C%20%22markerColor%22%3A%20%22blue%22%2C%20%22prefix%22%3A%20%22glyphicon%22%7D%0A%20%20%20%20%20%20%20%20%20%20%20%20%29%3B%0A%20%20%20%20%20%20%20%20%20%20%20%20marker_7fe34cadd6c440348db602f9ea7dcc70.setIcon%28icon_59798e0048594889873c59f853c9a28c%29%3B%0A%20%20%20%20%20%20%20%20%0A%20%20%20%20%0A%20%20%20%20%20%20%20%20var%20popup_06a7ed3b06634d64a506c249c77b7054%20%3D%20L.popup%28%7B%22maxWidth%22%3A%20%22100%25%22%7D%29%3B%0A%0A%20%20%20%20%20%20%20%20%0A%20%20%20%20%20%20%20%20%20%20%20%20var%20html_72f8acac537d4de2b063c0552ab0dcf7%20%3D%20%24%28%60%3Cdiv%20id%3D%22html_72f8acac537d4de2b063c0552ab0dcf7%22%20style%3D%22width%3A%20100.0%25%3B%20height%3A%20100.0%25%3B%22%3ELat%3A%20-22.81528722423836%2C%20Lng%3A%20-47.07010821668231%2C%20Rssi%3A%20-91.0449%3C/div%3E%60%29%5B0%5D%3B%0A%20%20%20%20%20%20%20%20%20%20%20%20popup_06a7ed3b06634d64a506c249c77b7054.setContent%28html_72f8acac537d4de2b063c0552ab0dcf7%29%3B%0A%20%20%20%20%20%20%20%20%0A%0A%20%20%20%20%20%20%20%20marker_7fe34cadd6c440348db602f9ea7dcc70.bindPopup%28popup_06a7ed3b06634d64a506c249c77b7054%29%0A%20%20%20%20%20%20%20%20%3B%0A%0A%20%20%20%20%20%20%20%20%0A%20%20%20%20%0A%20%20%20%20%0A%20%20%20%20%20%20%20%20%20%20%20%20var%20marker_412bb1130a8a4353b1751049a4194443%20%3D%20L.marker%28%0A%20%20%20%20%20%20%20%20%20%20%20%20%20%20%20%20%5B-22.81903955890325%2C%20-47.07010962092847%5D%2C%0A%20%20%20%20%20%20%20%20%20%20%20%20%20%20%20%20%7B%7D%0A%20%20%20%20%20%20%20%20%20%20%20%20%29.addTo%28map_0c7dff20ec5247e8912eb0a15fdcdf21%29%3B%0A%20%20%20%20%20%20%20%20%0A%20%20%20%20%0A%20%20%20%20%20%20%20%20%20%20%20%20var%20icon_0b36882ea7414e47b3729a8824570ee6%20%3D%20L.AwesomeMarkers.icon%28%0A%20%20%20%20%20%20%20%20%20%20%20%20%20%20%20%20%7B%22extraClasses%22%3A%20%22fa-rotate-0%22%2C%20%22icon%22%3A%20%22info-sign%22%2C%20%22iconColor%22%3A%20%22white%22%2C%20%22markerColor%22%3A%20%22lightblue%22%2C%20%22prefix%22%3A%20%22glyphicon%22%7D%0A%20%20%20%20%20%20%20%20%20%20%20%20%29%3B%0A%20%20%20%20%20%20%20%20%20%20%20%20marker_412bb1130a8a4353b1751049a4194443.setIcon%28icon_0b36882ea7414e47b3729a8824570ee6%29%3B%0A%20%20%20%20%20%20%20%20%0A%20%20%20%20%0A%20%20%20%20%20%20%20%20var%20popup_fe71677ebde44dc69586ed5365209907%20%3D%20L.popup%28%7B%22maxWidth%22%3A%20%22100%25%22%7D%29%3B%0A%0A%20%20%20%20%20%20%20%20%0A%20%20%20%20%20%20%20%20%20%20%20%20var%20html_d597dc893bba49188ce1d5ab291610ed%20%3D%20%24%28%60%3Cdiv%20id%3D%22html_d597dc893bba49188ce1d5ab291610ed%22%20style%3D%22width%3A%20100.0%25%3B%20height%3A%20100.0%25%3B%22%3ELat%3A%20-22.81903955890325%2C%20Lng%3A%20-47.07010962092847%2C%20Rssi%3A%20-102.969%3C/div%3E%60%29%5B0%5D%3B%0A%20%20%20%20%20%20%20%20%20%20%20%20popup_fe71677ebde44dc69586ed5365209907.setContent%28html_d597dc893bba49188ce1d5ab291610ed%29%3B%0A%20%20%20%20%20%20%20%20%0A%0A%20%20%20%20%20%20%20%20marker_412bb1130a8a4353b1751049a4194443.bindPopup%28popup_fe71677ebde44dc69586ed5365209907%29%0A%20%20%20%20%20%20%20%20%3B%0A%0A%20%20%20%20%20%20%20%20%0A%20%20%20%20%0A%20%20%20%20%0A%20%20%20%20%20%20%20%20%20%20%20%20var%20marker_108ffce57c6c4205a94e3fe1e41dc605%20%3D%20L.marker%28%0A%20%20%20%20%20%20%20%20%20%20%20%20%20%20%20%20%5B-22.81475094222973%2C%20-47.06482074503554%5D%2C%0A%20%20%20%20%20%20%20%20%20%20%20%20%20%20%20%20%7B%7D%0A%20%20%20%20%20%20%20%20%20%20%20%20%29.addTo%28map_0c7dff20ec5247e8912eb0a15fdcdf21%29%3B%0A%20%20%20%20%20%20%20%20%0A%20%20%20%20%0A%20%20%20%20%20%20%20%20%20%20%20%20var%20icon_b3c15bde9d0f4e37bf9f420a1cea477e%20%3D%20L.AwesomeMarkers.icon%28%0A%20%20%20%20%20%20%20%20%20%20%20%20%20%20%20%20%7B%22extraClasses%22%3A%20%22fa-rotate-0%22%2C%20%22icon%22%3A%20%22info-sign%22%2C%20%22iconColor%22%3A%20%22white%22%2C%20%22markerColor%22%3A%20%22blue%22%2C%20%22prefix%22%3A%20%22glyphicon%22%7D%0A%20%20%20%20%20%20%20%20%20%20%20%20%29%3B%0A%20%20%20%20%20%20%20%20%20%20%20%20marker_108ffce57c6c4205a94e3fe1e41dc605.setIcon%28icon_b3c15bde9d0f4e37bf9f420a1cea477e%29%3B%0A%20%20%20%20%20%20%20%20%0A%20%20%20%20%0A%20%20%20%20%20%20%20%20var%20popup_18d9d578902845eba6bbadd02339e60d%20%3D%20L.popup%28%7B%22maxWidth%22%3A%20%22100%25%22%7D%29%3B%0A%0A%20%20%20%20%20%20%20%20%0A%20%20%20%20%20%20%20%20%20%20%20%20var%20html_82b2b3660d7d462b82fd4e840988920f%20%3D%20%24%28%60%3Cdiv%20id%3D%22html_82b2b3660d7d462b82fd4e840988920f%22%20style%3D%22width%3A%20100.0%25%3B%20height%3A%20100.0%25%3B%22%3ELat%3A%20-22.81475094222973%2C%20Lng%3A%20-47.06482074503554%2C%20Rssi%3A%20-88.7644%3C/div%3E%60%29%5B0%5D%3B%0A%20%20%20%20%20%20%20%20%20%20%20%20popup_18d9d578902845eba6bbadd02339e60d.setContent%28html_82b2b3660d7d462b82fd4e840988920f%29%3B%0A%20%20%20%20%20%20%20%20%0A%0A%20%20%20%20%20%20%20%20marker_108ffce57c6c4205a94e3fe1e41dc605.bindPopup%28popup_18d9d578902845eba6bbadd02339e60d%29%0A%20%20%20%20%20%20%20%20%3B%0A%0A%20%20%20%20%20%20%20%20%0A%20%20%20%20%0A%20%20%20%20%0A%20%20%20%20%20%20%20%20%20%20%20%20var%20marker_ab0334af8bf049b68b3dd9686ec930af%20%3D%20L.marker%28%0A%20%20%20%20%20%20%20%20%20%20%20%20%20%20%20%20%5B-22.814680826242%2C%20-47.0691606458217%5D%2C%0A%20%20%20%20%20%20%20%20%20%20%20%20%20%20%20%20%7B%7D%0A%20%20%20%20%20%20%20%20%20%20%20%20%29.addTo%28map_0c7dff20ec5247e8912eb0a15fdcdf21%29%3B%0A%20%20%20%20%20%20%20%20%0A%20%20%20%20%0A%20%20%20%20%20%20%20%20%20%20%20%20var%20icon_78996e32fe964ee1ac69636fe00a280f%20%3D%20L.AwesomeMarkers.icon%28%0A%20%20%20%20%20%20%20%20%20%20%20%20%20%20%20%20%7B%22extraClasses%22%3A%20%22fa-rotate-0%22%2C%20%22icon%22%3A%20%22info-sign%22%2C%20%22iconColor%22%3A%20%22white%22%2C%20%22markerColor%22%3A%20%22blue%22%2C%20%22prefix%22%3A%20%22glyphicon%22%7D%0A%20%20%20%20%20%20%20%20%20%20%20%20%29%3B%0A%20%20%20%20%20%20%20%20%20%20%20%20marker_ab0334af8bf049b68b3dd9686ec930af.setIcon%28icon_78996e32fe964ee1ac69636fe00a280f%29%3B%0A%20%20%20%20%20%20%20%20%0A%20%20%20%20%0A%20%20%20%20%20%20%20%20var%20popup_a4cfb4cb84164c5497572840308a09c5%20%3D%20L.popup%28%7B%22maxWidth%22%3A%20%22100%25%22%7D%29%3B%0A%0A%20%20%20%20%20%20%20%20%0A%20%20%20%20%20%20%20%20%20%20%20%20var%20html_6832d2251df74c8cb8a4eee1ed9303c3%20%3D%20%24%28%60%3Cdiv%20id%3D%22html_6832d2251df74c8cb8a4eee1ed9303c3%22%20style%3D%22width%3A%20100.0%25%3B%20height%3A%20100.0%25%3B%22%3ELat%3A%20-22.814680826242%2C%20Lng%3A%20-47.0691606458217%2C%20Rssi%3A%20-93.6989%3C/div%3E%60%29%5B0%5D%3B%0A%20%20%20%20%20%20%20%20%20%20%20%20popup_a4cfb4cb84164c5497572840308a09c5.setContent%28html_6832d2251df74c8cb8a4eee1ed9303c3%29%3B%0A%20%20%20%20%20%20%20%20%0A%0A%20%20%20%20%20%20%20%20marker_ab0334af8bf049b68b3dd9686ec930af.bindPopup%28popup_a4cfb4cb84164c5497572840308a09c5%29%0A%20%20%20%20%20%20%20%20%3B%0A%0A%20%20%20%20%20%20%20%20%0A%20%20%20%20%0A%20%20%20%20%0A%20%20%20%20%20%20%20%20%20%20%20%20var%20marker_b504767296d64697812ab18a5bd31536%20%3D%20L.marker%28%0A%20%20%20%20%20%20%20%20%20%20%20%20%20%20%20%20%5B-22.81296061384064%2C%20-47.06628771818721%5D%2C%0A%20%20%20%20%20%20%20%20%20%20%20%20%20%20%20%20%7B%7D%0A%20%20%20%20%20%20%20%20%20%20%20%20%29.addTo%28map_0c7dff20ec5247e8912eb0a15fdcdf21%29%3B%0A%20%20%20%20%20%20%20%20%0A%20%20%20%20%0A%20%20%20%20%20%20%20%20%20%20%20%20var%20icon_2e3602c55e7a46ee97af4d9f0442c8f4%20%3D%20L.AwesomeMarkers.icon%28%0A%20%20%20%20%20%20%20%20%20%20%20%20%20%20%20%20%7B%22extraClasses%22%3A%20%22fa-rotate-0%22%2C%20%22icon%22%3A%20%22info-sign%22%2C%20%22iconColor%22%3A%20%22white%22%2C%20%22markerColor%22%3A%20%22blue%22%2C%20%22prefix%22%3A%20%22glyphicon%22%7D%0A%20%20%20%20%20%20%20%20%20%20%20%20%29%3B%0A%20%20%20%20%20%20%20%20%20%20%20%20marker_b504767296d64697812ab18a5bd31536.setIcon%28icon_2e3602c55e7a46ee97af4d9f0442c8f4%29%3B%0A%20%20%20%20%20%20%20%20%0A%20%20%20%20%0A%20%20%20%20%20%20%20%20var%20popup_6a8b022893c24aeaa6407b05188c3893%20%3D%20L.popup%28%7B%22maxWidth%22%3A%20%22100%25%22%7D%29%3B%0A%0A%20%20%20%20%20%20%20%20%0A%20%20%20%20%20%20%20%20%20%20%20%20var%20html_6a0c51a046044748b41c644c6624babe%20%3D%20%24%28%60%3Cdiv%20id%3D%22html_6a0c51a046044748b41c644c6624babe%22%20style%3D%22width%3A%20100.0%25%3B%20height%3A%20100.0%25%3B%22%3ELat%3A%20-22.81296061384064%2C%20Lng%3A%20-47.06628771818721%2C%20Rssi%3A%20-94.0111%3C/div%3E%60%29%5B0%5D%3B%0A%20%20%20%20%20%20%20%20%20%20%20%20popup_6a8b022893c24aeaa6407b05188c3893.setContent%28html_6a0c51a046044748b41c644c6624babe%29%3B%0A%20%20%20%20%20%20%20%20%0A%0A%20%20%20%20%20%20%20%20marker_b504767296d64697812ab18a5bd31536.bindPopup%28popup_6a8b022893c24aeaa6407b05188c3893%29%0A%20%20%20%20%20%20%20%20%3B%0A%0A%20%20%20%20%20%20%20%20%0A%20%20%20%20%0A%20%20%20%20%0A%20%20%20%20%20%20%20%20%20%20%20%20var%20marker_f7457b2fd8454817b8da6659c35fab20%20%3D%20L.marker%28%0A%20%20%20%20%20%20%20%20%20%20%20%20%20%20%20%20%5B-22.81628204801213%2C%20-47.06718684060307%5D%2C%0A%20%20%20%20%20%20%20%20%20%20%20%20%20%20%20%20%7B%7D%0A%20%20%20%20%20%20%20%20%20%20%20%20%29.addTo%28map_0c7dff20ec5247e8912eb0a15fdcdf21%29%3B%0A%20%20%20%20%20%20%20%20%0A%20%20%20%20%0A%20%20%20%20%20%20%20%20%20%20%20%20var%20icon_71e7945c13e949aca54007ac87452fbf%20%3D%20L.AwesomeMarkers.icon%28%0A%20%20%20%20%20%20%20%20%20%20%20%20%20%20%20%20%7B%22extraClasses%22%3A%20%22fa-rotate-0%22%2C%20%22icon%22%3A%20%22info-sign%22%2C%20%22iconColor%22%3A%20%22white%22%2C%20%22markerColor%22%3A%20%22lightblue%22%2C%20%22prefix%22%3A%20%22glyphicon%22%7D%0A%20%20%20%20%20%20%20%20%20%20%20%20%29%3B%0A%20%20%20%20%20%20%20%20%20%20%20%20marker_f7457b2fd8454817b8da6659c35fab20.setIcon%28icon_71e7945c13e949aca54007ac87452fbf%29%3B%0A%20%20%20%20%20%20%20%20%0A%20%20%20%20%0A%20%20%20%20%20%20%20%20var%20popup_04672681086a46d9bcc36cd508a1a37e%20%3D%20L.popup%28%7B%22maxWidth%22%3A%20%22100%25%22%7D%29%3B%0A%0A%20%20%20%20%20%20%20%20%0A%20%20%20%20%20%20%20%20%20%20%20%20var%20html_d104dbbf79c44641849aef20fbcbce47%20%3D%20%24%28%60%3Cdiv%20id%3D%22html_d104dbbf79c44641849aef20fbcbce47%22%20style%3D%22width%3A%20100.0%25%3B%20height%3A%20100.0%25%3B%22%3ELat%3A%20-22.81628204801213%2C%20Lng%3A%20-47.06718684060307%2C%20Rssi%3A%20-100.245%3C/div%3E%60%29%5B0%5D%3B%0A%20%20%20%20%20%20%20%20%20%20%20%20popup_04672681086a46d9bcc36cd508a1a37e.setContent%28html_d104dbbf79c44641849aef20fbcbce47%29%3B%0A%20%20%20%20%20%20%20%20%0A%0A%20%20%20%20%20%20%20%20marker_f7457b2fd8454817b8da6659c35fab20.bindPopup%28popup_04672681086a46d9bcc36cd508a1a37e%29%0A%20%20%20%20%20%20%20%20%3B%0A%0A%20%20%20%20%20%20%20%20%0A%20%20%20%20%0A%20%20%20%20%0A%20%20%20%20%20%20%20%20%20%20%20%20var%20marker_ff7ea45134c441c284ef43b85f0c5c27%20%3D%20L.marker%28%0A%20%20%20%20%20%20%20%20%20%20%20%20%20%20%20%20%5B-22.82401506632456%2C%20-47.06493091959375%5D%2C%0A%20%20%20%20%20%20%20%20%20%20%20%20%20%20%20%20%7B%7D%0A%20%20%20%20%20%20%20%20%20%20%20%20%29.addTo%28map_0c7dff20ec5247e8912eb0a15fdcdf21%29%3B%0A%20%20%20%20%20%20%20%20%0A%20%20%20%20%0A%20%20%20%20%20%20%20%20%20%20%20%20var%20icon_e8418ad0758e451f8897df618144b54b%20%3D%20L.AwesomeMarkers.icon%28%0A%20%20%20%20%20%20%20%20%20%20%20%20%20%20%20%20%7B%22extraClasses%22%3A%20%22fa-rotate-0%22%2C%20%22icon%22%3A%20%22info-sign%22%2C%20%22iconColor%22%3A%20%22white%22%2C%20%22markerColor%22%3A%20%22blue%22%2C%20%22prefix%22%3A%20%22glyphicon%22%7D%0A%20%20%20%20%20%20%20%20%20%20%20%20%29%3B%0A%20%20%20%20%20%20%20%20%20%20%20%20marker_ff7ea45134c441c284ef43b85f0c5c27.setIcon%28icon_e8418ad0758e451f8897df618144b54b%29%3B%0A%20%20%20%20%20%20%20%20%0A%20%20%20%20%0A%20%20%20%20%20%20%20%20var%20popup_a66b6d55b1114e1cb1a576cc661fc1bb%20%3D%20L.popup%28%7B%22maxWidth%22%3A%20%22100%25%22%7D%29%3B%0A%0A%20%20%20%20%20%20%20%20%0A%20%20%20%20%20%20%20%20%20%20%20%20var%20html_94656937c4f642ac9ed0c12ff5b132cb%20%3D%20%24%28%60%3Cdiv%20id%3D%22html_94656937c4f642ac9ed0c12ff5b132cb%22%20style%3D%22width%3A%20100.0%25%3B%20height%3A%20100.0%25%3B%22%3ELat%3A%20-22.82401506632456%2C%20Lng%3A%20-47.06493091959375%2C%20Rssi%3A%20-98.0936%3C/div%3E%60%29%5B0%5D%3B%0A%20%20%20%20%20%20%20%20%20%20%20%20popup_a66b6d55b1114e1cb1a576cc661fc1bb.setContent%28html_94656937c4f642ac9ed0c12ff5b132cb%29%3B%0A%20%20%20%20%20%20%20%20%0A%0A%20%20%20%20%20%20%20%20marker_ff7ea45134c441c284ef43b85f0c5c27.bindPopup%28popup_a66b6d55b1114e1cb1a576cc661fc1bb%29%0A%20%20%20%20%20%20%20%20%3B%0A%0A%20%20%20%20%20%20%20%20%0A%20%20%20%20%0A%20%20%20%20%0A%20%20%20%20%20%20%20%20%20%20%20%20var%20marker_a18dd2e1daaa4ccfb1e01a9c4160b466%20%3D%20L.marker%28%0A%20%20%20%20%20%20%20%20%20%20%20%20%20%20%20%20%5B-22.81323878624107%2C%20-47.06887155087497%5D%2C%0A%20%20%20%20%20%20%20%20%20%20%20%20%20%20%20%20%7B%7D%0A%20%20%20%20%20%20%20%20%20%20%20%20%29.addTo%28map_0c7dff20ec5247e8912eb0a15fdcdf21%29%3B%0A%20%20%20%20%20%20%20%20%0A%20%20%20%20%0A%20%20%20%20%20%20%20%20%20%20%20%20var%20icon_e5e6695accc0471594c53bd2be2b8745%20%3D%20L.AwesomeMarkers.icon%28%0A%20%20%20%20%20%20%20%20%20%20%20%20%20%20%20%20%7B%22extraClasses%22%3A%20%22fa-rotate-0%22%2C%20%22icon%22%3A%20%22info-sign%22%2C%20%22iconColor%22%3A%20%22white%22%2C%20%22markerColor%22%3A%20%22blue%22%2C%20%22prefix%22%3A%20%22glyphicon%22%7D%0A%20%20%20%20%20%20%20%20%20%20%20%20%29%3B%0A%20%20%20%20%20%20%20%20%20%20%20%20marker_a18dd2e1daaa4ccfb1e01a9c4160b466.setIcon%28icon_e5e6695accc0471594c53bd2be2b8745%29%3B%0A%20%20%20%20%20%20%20%20%0A%20%20%20%20%0A%20%20%20%20%20%20%20%20var%20popup_5473bb060bc347a38e16c0dbde1415c0%20%3D%20L.popup%28%7B%22maxWidth%22%3A%20%22100%25%22%7D%29%3B%0A%0A%20%20%20%20%20%20%20%20%0A%20%20%20%20%20%20%20%20%20%20%20%20var%20html_b6ef56c2388d41bc864abcbf6d805cd4%20%3D%20%24%28%60%3Cdiv%20id%3D%22html_b6ef56c2388d41bc864abcbf6d805cd4%22%20style%3D%22width%3A%20100.0%25%3B%20height%3A%20100.0%25%3B%22%3ELat%3A%20-22.81323878624107%2C%20Lng%3A%20-47.06887155087497%2C%20Rssi%3A%20-92.5478%3C/div%3E%60%29%5B0%5D%3B%0A%20%20%20%20%20%20%20%20%20%20%20%20popup_5473bb060bc347a38e16c0dbde1415c0.setContent%28html_b6ef56c2388d41bc864abcbf6d805cd4%29%3B%0A%20%20%20%20%20%20%20%20%0A%0A%20%20%20%20%20%20%20%20marker_a18dd2e1daaa4ccfb1e01a9c4160b466.bindPopup%28popup_5473bb060bc347a38e16c0dbde1415c0%29%0A%20%20%20%20%20%20%20%20%3B%0A%0A%20%20%20%20%20%20%20%20%0A%20%20%20%20%0A%20%20%20%20%0A%20%20%20%20%20%20%20%20%20%20%20%20var%20marker_e782191e49c844399d8b7625f8f5d9dc%20%3D%20L.marker%28%0A%20%20%20%20%20%20%20%20%20%20%20%20%20%20%20%20%5B-22.81579185317482%2C%20-47.06774224481084%5D%2C%0A%20%20%20%20%20%20%20%20%20%20%20%20%20%20%20%20%7B%7D%0A%20%20%20%20%20%20%20%20%20%20%20%20%29.addTo%28map_0c7dff20ec5247e8912eb0a15fdcdf21%29%3B%0A%20%20%20%20%20%20%20%20%0A%20%20%20%20%0A%20%20%20%20%20%20%20%20%20%20%20%20var%20icon_661062bf4ac0412d915ccf23dc85f5b1%20%3D%20L.AwesomeMarkers.icon%28%0A%20%20%20%20%20%20%20%20%20%20%20%20%20%20%20%20%7B%22extraClasses%22%3A%20%22fa-rotate-0%22%2C%20%22icon%22%3A%20%22info-sign%22%2C%20%22iconColor%22%3A%20%22white%22%2C%20%22markerColor%22%3A%20%22blue%22%2C%20%22prefix%22%3A%20%22glyphicon%22%7D%0A%20%20%20%20%20%20%20%20%20%20%20%20%29%3B%0A%20%20%20%20%20%20%20%20%20%20%20%20marker_e782191e49c844399d8b7625f8f5d9dc.setIcon%28icon_661062bf4ac0412d915ccf23dc85f5b1%29%3B%0A%20%20%20%20%20%20%20%20%0A%20%20%20%20%0A%20%20%20%20%20%20%20%20var%20popup_9113e9f57ac54330af37284b79f6f1e3%20%3D%20L.popup%28%7B%22maxWidth%22%3A%20%22100%25%22%7D%29%3B%0A%0A%20%20%20%20%20%20%20%20%0A%20%20%20%20%20%20%20%20%20%20%20%20var%20html_0b344a4c25ba4ae38aef7aab192d60dd%20%3D%20%24%28%60%3Cdiv%20id%3D%22html_0b344a4c25ba4ae38aef7aab192d60dd%22%20style%3D%22width%3A%20100.0%25%3B%20height%3A%20100.0%25%3B%22%3ELat%3A%20-22.81579185317482%2C%20Lng%3A%20-47.06774224481084%2C%20Rssi%3A%20-97.3299%3C/div%3E%60%29%5B0%5D%3B%0A%20%20%20%20%20%20%20%20%20%20%20%20popup_9113e9f57ac54330af37284b79f6f1e3.setContent%28html_0b344a4c25ba4ae38aef7aab192d60dd%29%3B%0A%20%20%20%20%20%20%20%20%0A%0A%20%20%20%20%20%20%20%20marker_e782191e49c844399d8b7625f8f5d9dc.bindPopup%28popup_9113e9f57ac54330af37284b79f6f1e3%29%0A%20%20%20%20%20%20%20%20%3B%0A%0A%20%20%20%20%20%20%20%20%0A%20%20%20%20%0A%20%20%20%20%0A%20%20%20%20%20%20%20%20%20%20%20%20var%20marker_58166a47d03e4487af64e263fa45e5d7%20%3D%20L.marker%28%0A%20%20%20%20%20%20%20%20%20%20%20%20%20%20%20%20%5B-22.81878334059293%2C%20-47.06775349849438%5D%2C%0A%20%20%20%20%20%20%20%20%20%20%20%20%20%20%20%20%7B%7D%0A%20%20%20%20%20%20%20%20%20%20%20%20%29.addTo%28map_0c7dff20ec5247e8912eb0a15fdcdf21%29%3B%0A%20%20%20%20%20%20%20%20%0A%20%20%20%20%0A%20%20%20%20%20%20%20%20%20%20%20%20var%20icon_95e08548ad6943a59fdaf0f0a31e5446%20%3D%20L.AwesomeMarkers.icon%28%0A%20%20%20%20%20%20%20%20%20%20%20%20%20%20%20%20%7B%22extraClasses%22%3A%20%22fa-rotate-0%22%2C%20%22icon%22%3A%20%22info-sign%22%2C%20%22iconColor%22%3A%20%22white%22%2C%20%22markerColor%22%3A%20%22blue%22%2C%20%22prefix%22%3A%20%22glyphicon%22%7D%0A%20%20%20%20%20%20%20%20%20%20%20%20%29%3B%0A%20%20%20%20%20%20%20%20%20%20%20%20marker_58166a47d03e4487af64e263fa45e5d7.setIcon%28icon_95e08548ad6943a59fdaf0f0a31e5446%29%3B%0A%20%20%20%20%20%20%20%20%0A%20%20%20%20%0A%20%20%20%20%20%20%20%20var%20popup_e815f0823e56431d8b55e0c2f6e7898b%20%3D%20L.popup%28%7B%22maxWidth%22%3A%20%22100%25%22%7D%29%3B%0A%0A%20%20%20%20%20%20%20%20%0A%20%20%20%20%20%20%20%20%20%20%20%20var%20html_e394675d518e4ffca43791dc8d358bbf%20%3D%20%24%28%60%3Cdiv%20id%3D%22html_e394675d518e4ffca43791dc8d358bbf%22%20style%3D%22width%3A%20100.0%25%3B%20height%3A%20100.0%25%3B%22%3ELat%3A%20-22.81878334059293%2C%20Lng%3A%20-47.06775349849438%2C%20Rssi%3A%20-96.644%3C/div%3E%60%29%5B0%5D%3B%0A%20%20%20%20%20%20%20%20%20%20%20%20popup_e815f0823e56431d8b55e0c2f6e7898b.setContent%28html_e394675d518e4ffca43791dc8d358bbf%29%3B%0A%20%20%20%20%20%20%20%20%0A%0A%20%20%20%20%20%20%20%20marker_58166a47d03e4487af64e263fa45e5d7.bindPopup%28popup_e815f0823e56431d8b55e0c2f6e7898b%29%0A%20%20%20%20%20%20%20%20%3B%0A%0A%20%20%20%20%20%20%20%20%0A%20%20%20%20%0A%20%20%20%20%0A%20%20%20%20%20%20%20%20%20%20%20%20var%20marker_970bfbd0c8cc4292b45e392e0f21f5ef%20%3D%20L.marker%28%0A%20%20%20%20%20%20%20%20%20%20%20%20%20%20%20%20%5B-22.82505900758947%2C%20-47.06680135052657%5D%2C%0A%20%20%20%20%20%20%20%20%20%20%20%20%20%20%20%20%7B%7D%0A%20%20%20%20%20%20%20%20%20%20%20%20%29.addTo%28map_0c7dff20ec5247e8912eb0a15fdcdf21%29%3B%0A%20%20%20%20%20%20%20%20%0A%20%20%20%20%0A%20%20%20%20%20%20%20%20%20%20%20%20var%20icon_1bae519ccd384a1cb2f059266543d343%20%3D%20L.AwesomeMarkers.icon%28%0A%20%20%20%20%20%20%20%20%20%20%20%20%20%20%20%20%7B%22extraClasses%22%3A%20%22fa-rotate-0%22%2C%20%22icon%22%3A%20%22info-sign%22%2C%20%22iconColor%22%3A%20%22white%22%2C%20%22markerColor%22%3A%20%22blue%22%2C%20%22prefix%22%3A%20%22glyphicon%22%7D%0A%20%20%20%20%20%20%20%20%20%20%20%20%29%3B%0A%20%20%20%20%20%20%20%20%20%20%20%20marker_970bfbd0c8cc4292b45e392e0f21f5ef.setIcon%28icon_1bae519ccd384a1cb2f059266543d343%29%3B%0A%20%20%20%20%20%20%20%20%0A%20%20%20%20%0A%20%20%20%20%20%20%20%20var%20popup_32f71dbc144e47888538e7495ee006fc%20%3D%20L.popup%28%7B%22maxWidth%22%3A%20%22100%25%22%7D%29%3B%0A%0A%20%20%20%20%20%20%20%20%0A%20%20%20%20%20%20%20%20%20%20%20%20var%20html_d124e37dba5045cc96140ad3e3742dc4%20%3D%20%24%28%60%3Cdiv%20id%3D%22html_d124e37dba5045cc96140ad3e3742dc4%22%20style%3D%22width%3A%20100.0%25%3B%20height%3A%20100.0%25%3B%22%3ELat%3A%20-22.82505900758947%2C%20Lng%3A%20-47.06680135052657%2C%20Rssi%3A%20-96.8784%3C/div%3E%60%29%5B0%5D%3B%0A%20%20%20%20%20%20%20%20%20%20%20%20popup_32f71dbc144e47888538e7495ee006fc.setContent%28html_d124e37dba5045cc96140ad3e3742dc4%29%3B%0A%20%20%20%20%20%20%20%20%0A%0A%20%20%20%20%20%20%20%20marker_970bfbd0c8cc4292b45e392e0f21f5ef.bindPopup%28popup_32f71dbc144e47888538e7495ee006fc%29%0A%20%20%20%20%20%20%20%20%3B%0A%0A%20%20%20%20%20%20%20%20%0A%20%20%20%20%0A%20%20%20%20%0A%20%20%20%20%20%20%20%20%20%20%20%20var%20marker_2fd086ee4cd84da7be7703a4c2694789%20%3D%20L.marker%28%0A%20%20%20%20%20%20%20%20%20%20%20%20%20%20%20%20%5B-22.8224340663403%2C%20-47.06501889875863%5D%2C%0A%20%20%20%20%20%20%20%20%20%20%20%20%20%20%20%20%7B%7D%0A%20%20%20%20%20%20%20%20%20%20%20%20%29.addTo%28map_0c7dff20ec5247e8912eb0a15fdcdf21%29%3B%0A%20%20%20%20%20%20%20%20%0A%20%20%20%20%0A%20%20%20%20%20%20%20%20%20%20%20%20var%20icon_b49df16b127243a6b4addbc8f439f2b1%20%3D%20L.AwesomeMarkers.icon%28%0A%20%20%20%20%20%20%20%20%20%20%20%20%20%20%20%20%7B%22extraClasses%22%3A%20%22fa-rotate-0%22%2C%20%22icon%22%3A%20%22info-sign%22%2C%20%22iconColor%22%3A%20%22white%22%2C%20%22markerColor%22%3A%20%22blue%22%2C%20%22prefix%22%3A%20%22glyphicon%22%7D%0A%20%20%20%20%20%20%20%20%20%20%20%20%29%3B%0A%20%20%20%20%20%20%20%20%20%20%20%20marker_2fd086ee4cd84da7be7703a4c2694789.setIcon%28icon_b49df16b127243a6b4addbc8f439f2b1%29%3B%0A%20%20%20%20%20%20%20%20%0A%20%20%20%20%0A%20%20%20%20%20%20%20%20var%20popup_3cb698354899431fb71f6554b20ba982%20%3D%20L.popup%28%7B%22maxWidth%22%3A%20%22100%25%22%7D%29%3B%0A%0A%20%20%20%20%20%20%20%20%0A%20%20%20%20%20%20%20%20%20%20%20%20var%20html_d1d64da38a9d44fab3b41e7efc7cee00%20%3D%20%24%28%60%3Cdiv%20id%3D%22html_d1d64da38a9d44fab3b41e7efc7cee00%22%20style%3D%22width%3A%20100.0%25%3B%20height%3A%20100.0%25%3B%22%3ELat%3A%20-22.8224340663403%2C%20Lng%3A%20-47.06501889875863%2C%20Rssi%3A%20-96.0643%3C/div%3E%60%29%5B0%5D%3B%0A%20%20%20%20%20%20%20%20%20%20%20%20popup_3cb698354899431fb71f6554b20ba982.setContent%28html_d1d64da38a9d44fab3b41e7efc7cee00%29%3B%0A%20%20%20%20%20%20%20%20%0A%0A%20%20%20%20%20%20%20%20marker_2fd086ee4cd84da7be7703a4c2694789.bindPopup%28popup_3cb698354899431fb71f6554b20ba982%29%0A%20%20%20%20%20%20%20%20%3B%0A%0A%20%20%20%20%20%20%20%20%0A%20%20%20%20%0A%20%20%20%20%0A%20%20%20%20%20%20%20%20%20%20%20%20var%20marker_f8fb812200a74a97b4f5044c158a5dd7%20%3D%20L.marker%28%0A%20%20%20%20%20%20%20%20%20%20%20%20%20%20%20%20%5B-22.81525861935553%2C%20-47.06236265226889%5D%2C%0A%20%20%20%20%20%20%20%20%20%20%20%20%20%20%20%20%7B%7D%0A%20%20%20%20%20%20%20%20%20%20%20%20%29.addTo%28map_0c7dff20ec5247e8912eb0a15fdcdf21%29%3B%0A%20%20%20%20%20%20%20%20%0A%20%20%20%20%0A%20%20%20%20%20%20%20%20%20%20%20%20var%20icon_156ca04faebb480fa6cb63f9c556d2a4%20%3D%20L.AwesomeMarkers.icon%28%0A%20%20%20%20%20%20%20%20%20%20%20%20%20%20%20%20%7B%22extraClasses%22%3A%20%22fa-rotate-0%22%2C%20%22icon%22%3A%20%22info-sign%22%2C%20%22iconColor%22%3A%20%22white%22%2C%20%22markerColor%22%3A%20%22darkblue%22%2C%20%22prefix%22%3A%20%22glyphicon%22%7D%0A%20%20%20%20%20%20%20%20%20%20%20%20%29%3B%0A%20%20%20%20%20%20%20%20%20%20%20%20marker_f8fb812200a74a97b4f5044c158a5dd7.setIcon%28icon_156ca04faebb480fa6cb63f9c556d2a4%29%3B%0A%20%20%20%20%20%20%20%20%0A%20%20%20%20%0A%20%20%20%20%20%20%20%20var%20popup_22f27ddcb65942618cc098e765122f67%20%3D%20L.popup%28%7B%22maxWidth%22%3A%20%22100%25%22%7D%29%3B%0A%0A%20%20%20%20%20%20%20%20%0A%20%20%20%20%20%20%20%20%20%20%20%20var%20html_d0a8db125aee4251ac5abe1945641331%20%3D%20%24%28%60%3Cdiv%20id%3D%22html_d0a8db125aee4251ac5abe1945641331%22%20style%3D%22width%3A%20100.0%25%3B%20height%3A%20100.0%25%3B%22%3ELat%3A%20-22.81525861935553%2C%20Lng%3A%20-47.06236265226889%2C%20Rssi%3A%20-77.4675%3C/div%3E%60%29%5B0%5D%3B%0A%20%20%20%20%20%20%20%20%20%20%20%20popup_22f27ddcb65942618cc098e765122f67.setContent%28html_d0a8db125aee4251ac5abe1945641331%29%3B%0A%20%20%20%20%20%20%20%20%0A%0A%20%20%20%20%20%20%20%20marker_f8fb812200a74a97b4f5044c158a5dd7.bindPopup%28popup_22f27ddcb65942618cc098e765122f67%29%0A%20%20%20%20%20%20%20%20%3B%0A%0A%20%20%20%20%20%20%20%20%0A%20%20%20%20%0A%20%20%20%20%0A%20%20%20%20%20%20%20%20%20%20%20%20var%20marker_13b03a45cdaa4fd48256f187a2882bcd%20%3D%20L.marker%28%0A%20%20%20%20%20%20%20%20%20%20%20%20%20%20%20%20%5B-22.81756246607184%2C%20-47.07217876933861%5D%2C%0A%20%20%20%20%20%20%20%20%20%20%20%20%20%20%20%20%7B%7D%0A%20%20%20%20%20%20%20%20%20%20%20%20%29.addTo%28map_0c7dff20ec5247e8912eb0a15fdcdf21%29%3B%0A%20%20%20%20%20%20%20%20%0A%20%20%20%20%0A%20%20%20%20%20%20%20%20%20%20%20%20var%20icon_38e88fcd23e149c7bfbba0e72387bb12%20%3D%20L.AwesomeMarkers.icon%28%0A%20%20%20%20%20%20%20%20%20%20%20%20%20%20%20%20%7B%22extraClasses%22%3A%20%22fa-rotate-0%22%2C%20%22icon%22%3A%20%22info-sign%22%2C%20%22iconColor%22%3A%20%22white%22%2C%20%22markerColor%22%3A%20%22blue%22%2C%20%22prefix%22%3A%20%22glyphicon%22%7D%0A%20%20%20%20%20%20%20%20%20%20%20%20%29%3B%0A%20%20%20%20%20%20%20%20%20%20%20%20marker_13b03a45cdaa4fd48256f187a2882bcd.setIcon%28icon_38e88fcd23e149c7bfbba0e72387bb12%29%3B%0A%20%20%20%20%20%20%20%20%0A%20%20%20%20%0A%20%20%20%20%20%20%20%20var%20popup_692d74e825674b84b70180faccff1055%20%3D%20L.popup%28%7B%22maxWidth%22%3A%20%22100%25%22%7D%29%3B%0A%0A%20%20%20%20%20%20%20%20%0A%20%20%20%20%20%20%20%20%20%20%20%20var%20html_195794584c884c829b99c3e436df13c7%20%3D%20%24%28%60%3Cdiv%20id%3D%22html_195794584c884c829b99c3e436df13c7%22%20style%3D%22width%3A%20100.0%25%3B%20height%3A%20100.0%25%3B%22%3ELat%3A%20-22.81756246607184%2C%20Lng%3A%20-47.07217876933861%2C%20Rssi%3A%20-98.9401%3C/div%3E%60%29%5B0%5D%3B%0A%20%20%20%20%20%20%20%20%20%20%20%20popup_692d74e825674b84b70180faccff1055.setContent%28html_195794584c884c829b99c3e436df13c7%29%3B%0A%20%20%20%20%20%20%20%20%0A%0A%20%20%20%20%20%20%20%20marker_13b03a45cdaa4fd48256f187a2882bcd.bindPopup%28popup_692d74e825674b84b70180faccff1055%29%0A%20%20%20%20%20%20%20%20%3B%0A%0A%20%20%20%20%20%20%20%20%0A%20%20%20%20%0A%20%20%20%20%0A%20%20%20%20%20%20%20%20%20%20%20%20var%20marker_7783a2c1103a4c2aa723692b6e839672%20%3D%20L.marker%28%0A%20%20%20%20%20%20%20%20%20%20%20%20%20%20%20%20%5B-22.82337627543984%2C%20-47.06519670796302%5D%2C%0A%20%20%20%20%20%20%20%20%20%20%20%20%20%20%20%20%7B%7D%0A%20%20%20%20%20%20%20%20%20%20%20%20%29.addTo%28map_0c7dff20ec5247e8912eb0a15fdcdf21%29%3B%0A%20%20%20%20%20%20%20%20%0A%20%20%20%20%0A%20%20%20%20%20%20%20%20%20%20%20%20var%20icon_94fa65a8c65549b0813ce76c3a474923%20%3D%20L.AwesomeMarkers.icon%28%0A%20%20%20%20%20%20%20%20%20%20%20%20%20%20%20%20%7B%22extraClasses%22%3A%20%22fa-rotate-0%22%2C%20%22icon%22%3A%20%22info-sign%22%2C%20%22iconColor%22%3A%20%22white%22%2C%20%22markerColor%22%3A%20%22blue%22%2C%20%22prefix%22%3A%20%22glyphicon%22%7D%0A%20%20%20%20%20%20%20%20%20%20%20%20%29%3B%0A%20%20%20%20%20%20%20%20%20%20%20%20marker_7783a2c1103a4c2aa723692b6e839672.setIcon%28icon_94fa65a8c65549b0813ce76c3a474923%29%3B%0A%20%20%20%20%20%20%20%20%0A%20%20%20%20%0A%20%20%20%20%20%20%20%20var%20popup_48acd34e0b074d57af24fbf80368361d%20%3D%20L.popup%28%7B%22maxWidth%22%3A%20%22100%25%22%7D%29%3B%0A%0A%20%20%20%20%20%20%20%20%0A%20%20%20%20%20%20%20%20%20%20%20%20var%20html_56c155acff3d43e08742e0825e7af645%20%3D%20%24%28%60%3Cdiv%20id%3D%22html_56c155acff3d43e08742e0825e7af645%22%20style%3D%22width%3A%20100.0%25%3B%20height%3A%20100.0%25%3B%22%3ELat%3A%20-22.82337627543984%2C%20Lng%3A%20-47.06519670796302%2C%20Rssi%3A%20-97.9234%3C/div%3E%60%29%5B0%5D%3B%0A%20%20%20%20%20%20%20%20%20%20%20%20popup_48acd34e0b074d57af24fbf80368361d.setContent%28html_56c155acff3d43e08742e0825e7af645%29%3B%0A%20%20%20%20%20%20%20%20%0A%0A%20%20%20%20%20%20%20%20marker_7783a2c1103a4c2aa723692b6e839672.bindPopup%28popup_48acd34e0b074d57af24fbf80368361d%29%0A%20%20%20%20%20%20%20%20%3B%0A%0A%20%20%20%20%20%20%20%20%0A%20%20%20%20%0A%20%20%20%20%0A%20%20%20%20%20%20%20%20%20%20%20%20var%20marker_b96c9d318bfa4fcf8e98f5f7649980bb%20%3D%20L.marker%28%0A%20%20%20%20%20%20%20%20%20%20%20%20%20%20%20%20%5B-22.82337627543984%2C%20-47.06519670796302%5D%2C%0A%20%20%20%20%20%20%20%20%20%20%20%20%20%20%20%20%7B%7D%0A%20%20%20%20%20%20%20%20%20%20%20%20%29.addTo%28map_0c7dff20ec5247e8912eb0a15fdcdf21%29%3B%0A%20%20%20%20%20%20%20%20%0A%20%20%20%20%0A%20%20%20%20%20%20%20%20%20%20%20%20var%20icon_ece9d74557d44d86aed21354db3a97b8%20%3D%20L.AwesomeMarkers.icon%28%0A%20%20%20%20%20%20%20%20%20%20%20%20%20%20%20%20%7B%22extraClasses%22%3A%20%22fa-rotate-0%22%2C%20%22icon%22%3A%20%22info-sign%22%2C%20%22iconColor%22%3A%20%22white%22%2C%20%22markerColor%22%3A%20%22lightblue%22%2C%20%22prefix%22%3A%20%22glyphicon%22%7D%0A%20%20%20%20%20%20%20%20%20%20%20%20%29%3B%0A%20%20%20%20%20%20%20%20%20%20%20%20marker_b96c9d318bfa4fcf8e98f5f7649980bb.setIcon%28icon_ece9d74557d44d86aed21354db3a97b8%29%3B%0A%20%20%20%20%20%20%20%20%0A%20%20%20%20%0A%20%20%20%20%20%20%20%20var%20popup_f154af48d57444819598163d9ca700c6%20%3D%20L.popup%28%7B%22maxWidth%22%3A%20%22100%25%22%7D%29%3B%0A%0A%20%20%20%20%20%20%20%20%0A%20%20%20%20%20%20%20%20%20%20%20%20var%20html_065bea3355ec4768aab3eca98cd3e555%20%3D%20%24%28%60%3Cdiv%20id%3D%22html_065bea3355ec4768aab3eca98cd3e555%22%20style%3D%22width%3A%20100.0%25%3B%20height%3A%20100.0%25%3B%22%3ELat%3A%20-22.82337627543984%2C%20Lng%3A%20-47.06519670796302%2C%20Rssi%3A%20-100.896%3C/div%3E%60%29%5B0%5D%3B%0A%20%20%20%20%20%20%20%20%20%20%20%20popup_f154af48d57444819598163d9ca700c6.setContent%28html_065bea3355ec4768aab3eca98cd3e555%29%3B%0A%20%20%20%20%20%20%20%20%0A%0A%20%20%20%20%20%20%20%20marker_b96c9d318bfa4fcf8e98f5f7649980bb.bindPopup%28popup_f154af48d57444819598163d9ca700c6%29%0A%20%20%20%20%20%20%20%20%3B%0A%0A%20%20%20%20%20%20%20%20%0A%20%20%20%20%0A%20%20%20%20%0A%20%20%20%20%20%20%20%20%20%20%20%20var%20marker_5e9522fc3697462da19d376e959f4925%20%3D%20L.marker%28%0A%20%20%20%20%20%20%20%20%20%20%20%20%20%20%20%20%5B-22.8242%2C%20-47.0677%5D%2C%0A%20%20%20%20%20%20%20%20%20%20%20%20%20%20%20%20%7B%7D%0A%20%20%20%20%20%20%20%20%20%20%20%20%29.addTo%28map_0c7dff20ec5247e8912eb0a15fdcdf21%29%3B%0A%20%20%20%20%20%20%20%20%0A%20%20%20%20%0A%20%20%20%20%20%20%20%20%20%20%20%20var%20icon_ac41ed67b3fb4e9f82f21c5a7b6a94f2%20%3D%20L.AwesomeMarkers.icon%28%0A%20%20%20%20%20%20%20%20%20%20%20%20%20%20%20%20%7B%22extraClasses%22%3A%20%22fa-rotate-0%22%2C%20%22icon%22%3A%20%22info-sign%22%2C%20%22iconColor%22%3A%20%22white%22%2C%20%22markerColor%22%3A%20%22blue%22%2C%20%22prefix%22%3A%20%22glyphicon%22%7D%0A%20%20%20%20%20%20%20%20%20%20%20%20%29%3B%0A%20%20%20%20%20%20%20%20%20%20%20%20marker_5e9522fc3697462da19d376e959f4925.setIcon%28icon_ac41ed67b3fb4e9f82f21c5a7b6a94f2%29%3B%0A%20%20%20%20%20%20%20%20%0A%20%20%20%20%0A%20%20%20%20%20%20%20%20var%20popup_212e59d3ad9d4259905d150a68fedef2%20%3D%20L.popup%28%7B%22maxWidth%22%3A%20%22100%25%22%7D%29%3B%0A%0A%20%20%20%20%20%20%20%20%0A%20%20%20%20%20%20%20%20%20%20%20%20var%20html_4fc9025d8a2c4a1d912f2d7baa6e2959%20%3D%20%24%28%60%3Cdiv%20id%3D%22html_4fc9025d8a2c4a1d912f2d7baa6e2959%22%20style%3D%22width%3A%20100.0%25%3B%20height%3A%20100.0%25%3B%22%3ELat%3A%20-22.8242%2C%20Lng%3A%20-47.0677%2C%20Rssi%3A%20-99.4681%3C/div%3E%60%29%5B0%5D%3B%0A%20%20%20%20%20%20%20%20%20%20%20%20popup_212e59d3ad9d4259905d150a68fedef2.setContent%28html_4fc9025d8a2c4a1d912f2d7baa6e2959%29%3B%0A%20%20%20%20%20%20%20%20%0A%0A%20%20%20%20%20%20%20%20marker_5e9522fc3697462da19d376e959f4925.bindPopup%28popup_212e59d3ad9d4259905d150a68fedef2%29%0A%20%20%20%20%20%20%20%20%3B%0A%0A%20%20%20%20%20%20%20%20%0A%20%20%20%20%0A%20%20%20%20%0A%20%20%20%20%20%20%20%20%20%20%20%20var%20marker_0ee31288613841a289ab9eca6c8cdf49%20%3D%20L.marker%28%0A%20%20%20%20%20%20%20%20%20%20%20%20%20%20%20%20%5B-22.8319%2C%20-47.0629%5D%2C%0A%20%20%20%20%20%20%20%20%20%20%20%20%20%20%20%20%7B%7D%0A%20%20%20%20%20%20%20%20%20%20%20%20%29.addTo%28map_0c7dff20ec5247e8912eb0a15fdcdf21%29%3B%0A%20%20%20%20%20%20%20%20%0A%20%20%20%20%0A%20%20%20%20%20%20%20%20%20%20%20%20var%20icon_119e77a33d61408baa54cf758cc94755%20%3D%20L.AwesomeMarkers.icon%28%0A%20%20%20%20%20%20%20%20%20%20%20%20%20%20%20%20%7B%22extraClasses%22%3A%20%22fa-rotate-0%22%2C%20%22icon%22%3A%20%22info-sign%22%2C%20%22iconColor%22%3A%20%22white%22%2C%20%22markerColor%22%3A%20%22lightblue%22%2C%20%22prefix%22%3A%20%22glyphicon%22%7D%0A%20%20%20%20%20%20%20%20%20%20%20%20%29%3B%0A%20%20%20%20%20%20%20%20%20%20%20%20marker_0ee31288613841a289ab9eca6c8cdf49.setIcon%28icon_119e77a33d61408baa54cf758cc94755%29%3B%0A%20%20%20%20%20%20%20%20%0A%20%20%20%20%0A%20%20%20%20%20%20%20%20var%20popup_9ba8343c8aa844bbb437efefdcb4072a%20%3D%20L.popup%28%7B%22maxWidth%22%3A%20%22100%25%22%7D%29%3B%0A%0A%20%20%20%20%20%20%20%20%0A%20%20%20%20%20%20%20%20%20%20%20%20var%20html_719c52321a664b61b8a26ce29e93bd71%20%3D%20%24%28%60%3Cdiv%20id%3D%22html_719c52321a664b61b8a26ce29e93bd71%22%20style%3D%22width%3A%20100.0%25%3B%20height%3A%20100.0%25%3B%22%3ELat%3A%20-22.8319%2C%20Lng%3A%20-47.0629%2C%20Rssi%3A%20-104.955%3C/div%3E%60%29%5B0%5D%3B%0A%20%20%20%20%20%20%20%20%20%20%20%20popup_9ba8343c8aa844bbb437efefdcb4072a.setContent%28html_719c52321a664b61b8a26ce29e93bd71%29%3B%0A%20%20%20%20%20%20%20%20%0A%0A%20%20%20%20%20%20%20%20marker_0ee31288613841a289ab9eca6c8cdf49.bindPopup%28popup_9ba8343c8aa844bbb437efefdcb4072a%29%0A%20%20%20%20%20%20%20%20%3B%0A%0A%20%20%20%20%20%20%20%20%0A%20%20%20%20%0A%20%20%20%20%0A%20%20%20%20%20%20%20%20%20%20%20%20var%20marker_2be2f4d7fe784fc7979a03c44828b185%20%3D%20L.marker%28%0A%20%20%20%20%20%20%20%20%20%20%20%20%20%20%20%20%5B-22.8275%2C%20-47.0628%5D%2C%0A%20%20%20%20%20%20%20%20%20%20%20%20%20%20%20%20%7B%7D%0A%20%20%20%20%20%20%20%20%20%20%20%20%29.addTo%28map_0c7dff20ec5247e8912eb0a15fdcdf21%29%3B%0A%20%20%20%20%20%20%20%20%0A%20%20%20%20%0A%20%20%20%20%20%20%20%20%20%20%20%20var%20icon_fb94824331834908ab1cb4846a913e5a%20%3D%20L.AwesomeMarkers.icon%28%0A%20%20%20%20%20%20%20%20%20%20%20%20%20%20%20%20%7B%22extraClasses%22%3A%20%22fa-rotate-0%22%2C%20%22icon%22%3A%20%22info-sign%22%2C%20%22iconColor%22%3A%20%22white%22%2C%20%22markerColor%22%3A%20%22lightblue%22%2C%20%22prefix%22%3A%20%22glyphicon%22%7D%0A%20%20%20%20%20%20%20%20%20%20%20%20%29%3B%0A%20%20%20%20%20%20%20%20%20%20%20%20marker_2be2f4d7fe784fc7979a03c44828b185.setIcon%28icon_fb94824331834908ab1cb4846a913e5a%29%3B%0A%20%20%20%20%20%20%20%20%0A%20%20%20%20%0A%20%20%20%20%20%20%20%20var%20popup_ec39a5a0385c449294700162b240fe89%20%3D%20L.popup%28%7B%22maxWidth%22%3A%20%22100%25%22%7D%29%3B%0A%0A%20%20%20%20%20%20%20%20%0A%20%20%20%20%20%20%20%20%20%20%20%20var%20html_4d585d1e5f2247348cabc3a7f6d9ddce%20%3D%20%24%28%60%3Cdiv%20id%3D%22html_4d585d1e5f2247348cabc3a7f6d9ddce%22%20style%3D%22width%3A%20100.0%25%3B%20height%3A%20100.0%25%3B%22%3ELat%3A%20-22.8275%2C%20Lng%3A%20-47.0628%2C%20Rssi%3A%20-100.069%3C/div%3E%60%29%5B0%5D%3B%0A%20%20%20%20%20%20%20%20%20%20%20%20popup_ec39a5a0385c449294700162b240fe89.setContent%28html_4d585d1e5f2247348cabc3a7f6d9ddce%29%3B%0A%20%20%20%20%20%20%20%20%0A%0A%20%20%20%20%20%20%20%20marker_2be2f4d7fe784fc7979a03c44828b185.bindPopup%28popup_ec39a5a0385c449294700162b240fe89%29%0A%20%20%20%20%20%20%20%20%3B%0A%0A%20%20%20%20%20%20%20%20%0A%20%20%20%20%0A%3C/script%3E onload=\"this.contentDocument.open();this.contentDocument.write(    decodeURIComponent(this.getAttribute('data-html')));this.contentDocument.close();\" allowfullscreen webkitallowfullscreen mozallowfullscreen></iframe></div></div>"
      ],
      "text/plain": [
       "<folium.folium.Map at 0x7fc42a1ed280>"
      ]
     },
     "execution_count": 17,
     "metadata": {},
     "output_type": "execute_result"
    }
   ],
   "source": [
    "# # ---- UNICAMP DYNAMIC PLOT MAP & MARKERS OF POSITIONS THAT PACKET WERE RECEIVE\n",
    "\n",
    "# create folium map\n",
    "fmap = folium.Map(width= 500,height=600,location=[-22.822617, -47.067], zoom_start=15, tiles='OpenStreetMap')\n",
    "\n",
    "# add markers\n",
    "for data in heat_data:\n",
    "  lat, lng, rssi = data[0], data[1], data[2]\n",
    "#   print(lat, lng)\n",
    "#   print('RSSI', rssi)\n",
    "  if rssi >= -80:\n",
    "        color_rssi = 'darkblue'\n",
    "  elif rssi < -80 and rssi >= -100:\n",
    "        color_rssi = 'blue'\n",
    "  elif rssi < -100:\n",
    "        color_rssi = \"lightblue\"\n",
    "\n",
    "  folium.Marker(\n",
    "      location=[float(lat), float(lng)],\n",
    "      popup=\"Lat: \" + str(lat) + \", Lng: \" + str(lng)+ \", Rssi: \" + str(rssi),\n",
    "      icon=folium.Icon(color=color_rssi),\n",
    "  ).add_to(fmap)\n",
    "\n",
    "fmap.get_root().add_child(legend)\n",
    "\n",
    "fmap"
   ]
  },
  {
   "cell_type": "code",
   "execution_count": 17,
   "metadata": {},
   "outputs": [],
   "source": [
    "# # salve map\n",
    "# fn=\"okumura_elev.html\"\n",
    "# fmap.save(fn)"
   ]
  },
  {
   "cell_type": "code",
   "execution_count": null,
   "metadata": {},
   "outputs": [],
   "source": []
  },
  {
   "cell_type": "markdown",
   "metadata": {},
   "source": [
    "## Métricas de performance da rede completa (Mac Layer)"
   ]
  },
  {
   "cell_type": "code",
   "execution_count": 62,
   "metadata": {},
   "outputs": [
    {
     "name": "stdout",
     "output_type": "stream",
     "text": [
      "\n",
      "SHAPE: (1, 5)\n"
     ]
    },
    {
     "data": {
      "text/html": [
       "<div>\n",
       "<style scoped>\n",
       "    .dataframe tbody tr th:only-of-type {\n",
       "        vertical-align: middle;\n",
       "    }\n",
       "\n",
       "    .dataframe tbody tr th {\n",
       "        vertical-align: top;\n",
       "    }\n",
       "\n",
       "    .dataframe thead th {\n",
       "        text-align: right;\n",
       "    }\n",
       "</style>\n",
       "<table border=\"1\" class=\"dataframe\">\n",
       "  <thead>\n",
       "    <tr style=\"text-align: right;\">\n",
       "      <th></th>\n",
       "      <th>nSent</th>\n",
       "      <th>nReceiv</th>\n",
       "      <th>PER</th>\n",
       "      <th>PLR</th>\n",
       "      <th>PDR</th>\n",
       "    </tr>\n",
       "  </thead>\n",
       "  <tbody>\n",
       "    <tr>\n",
       "      <th>0</th>\n",
       "      <td>126000</td>\n",
       "      <td>125906</td>\n",
       "      <td>0.000747</td>\n",
       "      <td>0.000746</td>\n",
       "      <td>0.999254</td>\n",
       "    </tr>\n",
       "  </tbody>\n",
       "</table>\n",
       "</div>"
      ],
      "text/plain": [
       "    nSent  nReceiv       PER       PLR       PDR\n",
       "0  126000   125906  0.000747  0.000746  0.999254"
      ]
     },
     "execution_count": 62,
     "metadata": {},
     "output_type": "execute_result"
    }
   ],
   "source": [
    "# ----- DATASET\n",
    "file_to_be_analysed = mac_layer_performance_metrics\n",
    "path_to_simulation = simulation_folder + simulation_id + file_to_be_analysed\n",
    "\n",
    "net_df = pd.read_csv(path_to_simulation, header=None) \n",
    "net_df.columns = [\"nSent\", \"nReceiv\", \"PER\", \"PLR\", \"PDR\"]\n",
    "\n",
    "print(\"\\nSHAPE:\", net_df.shape)\n",
    "net_df.head()"
   ]
  },
  {
   "cell_type": "code",
   "execution_count": 63,
   "metadata": {},
   "outputs": [
    {
     "name": "stdout",
     "output_type": "stream",
     "text": [
      "NETWORK PERFORMANCE METRICS:\n",
      "\n",
      "nSent: 126000.0\n",
      "nReceiv: 125906.0\n",
      "\n",
      "PER: 0.000746589\n",
      "PLR: 0.000746032\n",
      "PDR: 0.999254\n"
     ]
    }
   ],
   "source": [
    "# Valores médios de cada coluna\n",
    "print(\"NETWORK PERFORMANCE METRICS:\\n\")\n",
    "print(\"nSent:\", net_df['nSent'].mean())\n",
    "print(\"nReceiv:\", net_df['nReceiv'].mean())\n",
    "print(\"\\nPER:\", net_df['PER'].mean())\n",
    "print(\"PLR:\", net_df['PLR'].mean())\n",
    "print(\"PDR:\", net_df['PDR'].mean())"
   ]
  },
  {
   "cell_type": "code",
   "execution_count": null,
   "metadata": {},
   "outputs": [],
   "source": []
  },
  {
   "cell_type": "markdown",
   "metadata": {},
   "source": [
    "## Métricas de Consumo"
   ]
  },
  {
   "cell_type": "code",
   "execution_count": 34,
   "metadata": {},
   "outputs": [
    {
     "name": "stdout",
     "output_type": "stream",
     "text": [
      "\n",
      "SHAPE: (24, 2)\n"
     ]
    },
    {
     "data": {
      "text/html": [
       "<div>\n",
       "<style scoped>\n",
       "    .dataframe tbody tr th:only-of-type {\n",
       "        vertical-align: middle;\n",
       "    }\n",
       "\n",
       "    .dataframe tbody tr th {\n",
       "        vertical-align: top;\n",
       "    }\n",
       "\n",
       "    .dataframe thead th {\n",
       "        text-align: right;\n",
       "    }\n",
       "</style>\n",
       "<table border=\"1\" class=\"dataframe\">\n",
       "  <thead>\n",
       "    <tr style=\"text-align: right;\">\n",
       "      <th></th>\n",
       "      <th>time</th>\n",
       "      <th>energyRemaining</th>\n",
       "    </tr>\n",
       "  </thead>\n",
       "  <tbody>\n",
       "    <tr>\n",
       "      <th>0</th>\n",
       "      <td>0</td>\n",
       "      <td>10000.00</td>\n",
       "    </tr>\n",
       "    <tr>\n",
       "      <th>1</th>\n",
       "      <td>3600</td>\n",
       "      <td>6083.19</td>\n",
       "    </tr>\n",
       "    <tr>\n",
       "      <th>2</th>\n",
       "      <td>7200</td>\n",
       "      <td>2167.18</td>\n",
       "    </tr>\n",
       "    <tr>\n",
       "      <th>3</th>\n",
       "      <td>10800</td>\n",
       "      <td>0.00</td>\n",
       "    </tr>\n",
       "    <tr>\n",
       "      <th>4</th>\n",
       "      <td>14400</td>\n",
       "      <td>0.00</td>\n",
       "    </tr>\n",
       "  </tbody>\n",
       "</table>\n",
       "</div>"
      ],
      "text/plain": [
       "    time  energyRemaining\n",
       "0      0         10000.00\n",
       "1   3600          6083.19\n",
       "2   7200          2167.18\n",
       "3  10800             0.00\n",
       "4  14400             0.00"
      ]
     },
     "execution_count": 34,
     "metadata": {},
     "output_type": "execute_result"
    }
   ],
   "source": [
    "# ----- DATASET\n",
    "file_to_be_analysed = mac_layer_power_consumption\n",
    "path_to_simulation = simulation_folder + simulation_id + file_to_be_analysed\n",
    "\n",
    "energy_df = pd.read_csv(path_to_simulation, header=None) \n",
    "energy_df.columns = [\"time\", \"energyRemaining\"]\n",
    "\n",
    "# energy_df = energy_df.iloc[0:720]\n",
    "print(\"\\nSHAPE:\", energy_df.shape)\n",
    "energy_df.head()"
   ]
  },
  {
   "cell_type": "code",
   "execution_count": 35,
   "metadata": {},
   "outputs": [
    {
     "name": "stdout",
     "output_type": "stream",
     "text": [
      "\n",
      "SHAPE: (24, 3)\n",
      "\n",
      "SHAPE: (24, 4)\n"
     ]
    },
    {
     "data": {
      "text/html": [
       "<div>\n",
       "<style scoped>\n",
       "    .dataframe tbody tr th:only-of-type {\n",
       "        vertical-align: middle;\n",
       "    }\n",
       "\n",
       "    .dataframe tbody tr th {\n",
       "        vertical-align: top;\n",
       "    }\n",
       "\n",
       "    .dataframe thead th {\n",
       "        text-align: right;\n",
       "    }\n",
       "</style>\n",
       "<table border=\"1\" class=\"dataframe\">\n",
       "  <thead>\n",
       "    <tr style=\"text-align: right;\">\n",
       "      <th></th>\n",
       "      <th>time</th>\n",
       "      <th>energyRemaining</th>\n",
       "      <th>time_h</th>\n",
       "      <th>time_mes</th>\n",
       "      <th>energyRemainingPercentual</th>\n",
       "    </tr>\n",
       "  </thead>\n",
       "  <tbody>\n",
       "    <tr>\n",
       "      <th>0</th>\n",
       "      <td>0</td>\n",
       "      <td>10000.00</td>\n",
       "      <td>0.0</td>\n",
       "      <td>0.000000</td>\n",
       "      <td>100.0000</td>\n",
       "    </tr>\n",
       "    <tr>\n",
       "      <th>1</th>\n",
       "      <td>3600</td>\n",
       "      <td>6083.19</td>\n",
       "      <td>1.0</td>\n",
       "      <td>0.001370</td>\n",
       "      <td>60.8319</td>\n",
       "    </tr>\n",
       "    <tr>\n",
       "      <th>2</th>\n",
       "      <td>7200</td>\n",
       "      <td>2167.18</td>\n",
       "      <td>2.0</td>\n",
       "      <td>0.002740</td>\n",
       "      <td>21.6718</td>\n",
       "    </tr>\n",
       "    <tr>\n",
       "      <th>3</th>\n",
       "      <td>10800</td>\n",
       "      <td>0.00</td>\n",
       "      <td>3.0</td>\n",
       "      <td>0.004110</td>\n",
       "      <td>0.0000</td>\n",
       "    </tr>\n",
       "    <tr>\n",
       "      <th>4</th>\n",
       "      <td>14400</td>\n",
       "      <td>0.00</td>\n",
       "      <td>4.0</td>\n",
       "      <td>0.005479</td>\n",
       "      <td>0.0000</td>\n",
       "    </tr>\n",
       "  </tbody>\n",
       "</table>\n",
       "</div>"
      ],
      "text/plain": [
       "    time  energyRemaining  time_h  time_mes  energyRemainingPercentual\n",
       "0      0         10000.00     0.0  0.000000                   100.0000\n",
       "1   3600          6083.19     1.0  0.001370                    60.8319\n",
       "2   7200          2167.18     2.0  0.002740                    21.6718\n",
       "3  10800             0.00     3.0  0.004110                     0.0000\n",
       "4  14400             0.00     4.0  0.005479                     0.0000"
      ]
     },
     "execution_count": 35,
     "metadata": {},
     "output_type": "execute_result"
    }
   ],
   "source": [
    "# tempo para hora\n",
    "energy_df['time_h'] = energy_df['time'] / 3600.0\n",
    "print(\"\\nSHAPE:\", energy_df.shape)\n",
    "\n",
    "# hora para mês\n",
    "energy_df['time_mes'] = energy_df['time_h'] / 730\n",
    "print(\"\\nSHAPE:\", energy_df.shape)\n",
    "\n",
    "# Joules p 100%\n",
    "total = 10000.0\n",
    "energy_df['energyRemainingPercentual'] = (energy_df['energyRemaining'] / total) *100\n",
    "energy_df.head()"
   ]
  },
  {
   "cell_type": "code",
   "execution_count": 123,
   "metadata": {},
   "outputs": [],
   "source": [
    "# energy_df.duplicated()"
   ]
  },
  {
   "cell_type": "code",
   "execution_count": 36,
   "metadata": {},
   "outputs": [
    {
     "data": {
      "image/png": "[encoded data removed]",
      "text/plain": [
       "<Figure size 720x360 with 1 Axes>"
      ]
     },
     "metadata": {
      "needs_background": "light"
     },
     "output_type": "display_data"
    }
   ],
   "source": [
    "# graph measures x time (h)\n",
    "\n",
    "fig, ax = plt.subplots(figsize=(10,5))\n",
    "# plt.figure(figsize=(10,5))\n",
    "ax = plt.gca()\n",
    "\n",
    "energy_df.plot(kind='line',x=\"time_h\", y='energyRemainingPercentual',label='Energia Remanescente', color = 'blue', ax=ax)\n",
    "\n",
    "plt.xlabel('Período de Teste (hora)', fontweight='bold', fontsize=14,labelpad=5)\n",
    "plt.ylabel('Energia (100%)', fontweight='bold', fontsize=14, labelpad=5)\n",
    "\n",
    "ttl = ax.title\n",
    "ttl.set_position([.5, 1.3])\n",
    "\n",
    "plt.title('Energia x Tempo',fontweight='bold',fontsize=14)\n",
    "\n",
    "from matplotlib.ticker import FormatStrFormatter\n",
    "ax.yaxis.set_major_formatter(FormatStrFormatter('%.2f'))\n",
    "\n",
    "plt.show()\n",
    "fig.savefig('energy_result.png',bbox_inches='tight')"
   ]
  },
  {
   "cell_type": "code",
   "execution_count": 51,
   "metadata": {},
   "outputs": [],
   "source": [
    "# energy_df.describe()"
   ]
  },
  {
   "cell_type": "code",
   "execution_count": 34,
   "metadata": {},
   "outputs": [],
   "source": [
    "# totalEnergy = energy_df['energyRemaining'].max()\n",
    "# energyRemain = energy_df['energyRemaining'].min()\n",
    "# totalReceivePkts = 94\n",
    "# print(\"Total Energy:\", totalEnergy)\n",
    "# print(\"Energy Remain:\", energyRemain)\n",
    "# print(\"Total Receive Pkts:\", totalReceivePkts)\n",
    "\n",
    "# NEC = (totalEnergy - energyRemain)/totalReceivePkts\n",
    "# NEC"
   ]
  },
  {
   "cell_type": "code",
   "execution_count": null,
   "metadata": {},
   "outputs": [],
   "source": []
  },
  {
   "cell_type": "code",
   "execution_count": null,
   "metadata": {},
   "outputs": [],
   "source": []
  },
  {
   "cell_type": "markdown",
   "metadata": {},
   "source": [
    "# Análise entre simulações"
   ]
  },
  {
   "cell_type": "code",
   "execution_count": 19,
   "metadata": {},
   "outputs": [],
   "source": [
    "current_path = os.getcwd()\n",
    "current_path = '/home/wasp/Desktop/Mestrado/ns3-bmap/NS3/lorawan-metricas-exp/'"
   ]
  },
  {
   "cell_type": "markdown",
   "metadata": {},
   "source": [
    "###  Métricas da camada PHY"
   ]
  },
  {
   "cell_type": "code",
   "execution_count": 36,
   "metadata": {},
   "outputs": [
    {
     "name": "stdout",
     "output_type": "stream",
     "text": [
      "\n",
      "SHAPE: (10, 6)\n",
      "SHAPE: (10, 6)\n",
      "SHAPE: (10, 6)\n"
     ]
    }
   ],
   "source": [
    "# Open Datasets - Camada phy\n",
    "path_cenario_0 = current_path + \"/simulations/05/phy_results.txt\"\n",
    "path_cenario_1 = current_path + \"/simulations/05-log/phy_results.txt\"\n",
    "path_cenario_2 = current_path + \"/simulations/05-cor/phy_results.txt\"\n",
    "# path_cenario_3 = current_path + \"/simulations/05/phy_results.txt\"\n",
    "\n",
    "cenario_0_df = pd.read_csv(path_cenario_0, header=None) \n",
    "cenario_0_df.columns = [\"gwID\", \"received\", \"interfered\", \"noMoreReceivers\", \"underSensitivity\", \"lost\"]\n",
    "print(\"\\nSHAPE:\", cenario_0_df.shape)\n",
    "# cenario_0_df.head()\n",
    "\n",
    "cenario_1_df = pd.read_csv(path_cenario_1, header=None) \n",
    "cenario_1_df.columns = [\"gwID\", \"received\", \"interfered\", \"noMoreReceivers\", \"underSensitivity\", \"lost\"]\n",
    "print(\"SHAPE:\", cenario_1_df.shape)\n",
    "# cenario_1_df.head()\n",
    "\n",
    "cenario_2_df = pd.read_csv(path_cenario_2, header=None) \n",
    "cenario_2_df.columns = [\"gwID\", \"received\", \"interfered\", \"noMoreReceivers\", \"underSensitivity\", \"lost\"]\n",
    "print(\"SHAPE:\", cenario_2_df.shape)\n",
    "# cenario_2_df.head()\n",
    "\n",
    "# cenario_3_df = pd.read_csv(path_cenario_3, header=None) \n",
    "# cenario_3_df.columns = [\"gwID\", \"received\", \"interfered\", \"noMoreReceivers\", \"underSensitivity\", \"lost\"]\n",
    "# print(\"SHAPE:\", cenario_3_df.shape)"
   ]
  },
  {
   "cell_type": "code",
   "execution_count": 30,
   "metadata": {},
   "outputs": [
    {
     "data": {
      "text/plain": [
       "131625.4"
      ]
     },
     "execution_count": 30,
     "metadata": {},
     "output_type": "execute_result"
    }
   ],
   "source": [
    "cenario_0_df['received'].mean()"
   ]
  },
  {
   "cell_type": "code",
   "execution_count": 77,
   "metadata": {},
   "outputs": [],
   "source": [
    "# # REMOVE OUTLIERS\n",
    "# cenario_2_df = cenario_2_df.iloc[1:].head()"
   ]
  },
  {
   "cell_type": "code",
   "execution_count": 37,
   "metadata": {},
   "outputs": [],
   "source": [
    "def percent_conversion (total_pkg_expected, number):\n",
    "    percent = (100 * number)/total_pkg_expected\n",
    "    return percent"
   ]
  },
  {
   "cell_type": "code",
   "execution_count": 38,
   "metadata": {
    "scrolled": true
   },
   "outputs": [
    {
     "data": {
      "image/png": "[encoded data removed]",
      "text/plain": [
       "<Figure size 432x288 with 1 Axes>"
      ]
     },
     "metadata": {
      "needs_background": "light"
     },
     "output_type": "display_data"
    }
   ],
   "source": [
    "# labels = ['1 ano', '30d - 30min', '30d -10min'] \n",
    "labels = ['II-O', 'II-log', 'II-Corr'] \n",
    "\n",
    "# total de pacotes esperados\n",
    "total_pkg_01 = 823680\n",
    "total_pkg_02 = 823680\n",
    "total_pkg_03 = 823680\n",
    "\n",
    "\n",
    "received = [percent_conversion(total_pkg_01, cenario_0_df['received'].mean()),\n",
    "            percent_conversion(total_pkg_02, cenario_1_df['received'].mean()),\n",
    "            percent_conversion(total_pkg_03, cenario_2_df['received'].mean())]\n",
    "\n",
    "interfered = [percent_conversion(total_pkg_01, cenario_0_df['interfered'].mean()),\n",
    "              percent_conversion(total_pkg_02, cenario_1_df['interfered'].mean()),\n",
    "              percent_conversion(total_pkg_03, cenario_2_df['interfered'].mean())]\n",
    "\n",
    "noMoreReceivers = [percent_conversion(total_pkg_01, cenario_0_df['noMoreReceivers'].mean()),\n",
    "                   percent_conversion(total_pkg_02, cenario_1_df['noMoreReceivers'].mean()),\n",
    "                   percent_conversion(total_pkg_03, cenario_2_df['noMoreReceivers'].mean())]\n",
    "\n",
    "underSensitivity = [percent_conversion(total_pkg_01, cenario_0_df['underSensitivity'].mean()),\n",
    "            percent_conversion(total_pkg_01, cenario_1_df['underSensitivity'].mean()),\n",
    "            percent_conversion(total_pkg_02, cenario_2_df['underSensitivity'].mean())]\n",
    "\n",
    "\n",
    "x = np.arange(len(labels))  # the label locations\n",
    "width = 0.4  # the width of the bars\n",
    "\n",
    "fig, ax = plt.subplots()\n",
    "rects1 = ax.bar(x, received, width, label='Received')\n",
    "rects2 = ax.bar(x + width, interfered, width, label='Interfered')\n",
    "rects3 = ax.bar(x + width*2, noMoreReceivers, width, label='NoMoreReceivers')\n",
    "rects4 = ax.bar(x + width*3, underSensitivity, width, label='UnderSensitivity')\n",
    "\n",
    "\n",
    "# Add some text for labels, title and custom x-axis tick labels, etc.\n",
    "ax.set_ylabel('Nº of Packets sent (%)')\n",
    "ax.set_xlabel('Payload size')\n",
    "ax.set_title(' Performance at PHY level of a specific gateway \\n- SF7, 222 nodes', fontweight='bold', fontsize=12, y=1.05)\n",
    "ax.set_xticks(x)\n",
    "ax.set_xticklabels(labels)\n",
    "ax.set_ylim([0, 110]) \n",
    "ax.legend(bbox_to_anchor=(1.01, 1.01), prop={'size': 10})\n",
    "\n",
    "\n",
    "def autolabel(rects):\n",
    "    \"\"\"Attach a text label above each bar in *rects*, displaying its height.\"\"\"\n",
    "    for rect in rects:\n",
    "        height = rect.get_height()\n",
    "        ax.annotate('{}'.format(round(height,2)),\n",
    "                    xy=(rect.get_x() + rect.get_width() / 2, height),\n",
    "                    xytext=(0, 3),  # 3 points vertical offset\n",
    "                    textcoords=\"offset points\",\n",
    "                    ha='center', va='bottom')\n",
    "\n",
    "autolabel(rects1)\n",
    "autolabel(rects2)\n",
    "\n",
    "\n",
    "plt.show()\n",
    "fig.savefig('phy_performance.png',bbox_inches='tight')"
   ]
  },
  {
   "cell_type": "code",
   "execution_count": null,
   "metadata": {},
   "outputs": [],
   "source": []
  },
  {
   "cell_type": "markdown",
   "metadata": {},
   "source": [
    "## Métricas de performance da rede completa (Mac Layer)"
   ]
  },
  {
   "cell_type": "code",
   "execution_count": 39,
   "metadata": {},
   "outputs": [
    {
     "name": "stdout",
     "output_type": "stream",
     "text": [
      "\n",
      "SHAPE: (10, 5)\n",
      "SHAPE: (10, 5)\n",
      "SHAPE: (10, 5)\n"
     ]
    },
    {
     "data": {
      "text/html": [
       "<div>\n",
       "<style scoped>\n",
       "    .dataframe tbody tr th:only-of-type {\n",
       "        vertical-align: middle;\n",
       "    }\n",
       "\n",
       "    .dataframe tbody tr th {\n",
       "        vertical-align: top;\n",
       "    }\n",
       "\n",
       "    .dataframe thead th {\n",
       "        text-align: right;\n",
       "    }\n",
       "</style>\n",
       "<table border=\"1\" class=\"dataframe\">\n",
       "  <thead>\n",
       "    <tr style=\"text-align: right;\">\n",
       "      <th></th>\n",
       "      <th>nSent</th>\n",
       "      <th>nReceiv</th>\n",
       "      <th>PER</th>\n",
       "      <th>PLR</th>\n",
       "      <th>PDR</th>\n",
       "    </tr>\n",
       "  </thead>\n",
       "  <tbody>\n",
       "    <tr>\n",
       "      <th>0</th>\n",
       "      <td>823680</td>\n",
       "      <td>823517</td>\n",
       "      <td>0.000198</td>\n",
       "      <td>0.000198</td>\n",
       "      <td>0.999802</td>\n",
       "    </tr>\n",
       "    <tr>\n",
       "      <th>1</th>\n",
       "      <td>823680</td>\n",
       "      <td>819478</td>\n",
       "      <td>0.005128</td>\n",
       "      <td>0.005102</td>\n",
       "      <td>0.994899</td>\n",
       "    </tr>\n",
       "    <tr>\n",
       "      <th>2</th>\n",
       "      <td>823680</td>\n",
       "      <td>820951</td>\n",
       "      <td>0.003324</td>\n",
       "      <td>0.003313</td>\n",
       "      <td>0.996687</td>\n",
       "    </tr>\n",
       "    <tr>\n",
       "      <th>3</th>\n",
       "      <td>823680</td>\n",
       "      <td>820893</td>\n",
       "      <td>0.003395</td>\n",
       "      <td>0.003384</td>\n",
       "      <td>0.996616</td>\n",
       "    </tr>\n",
       "    <tr>\n",
       "      <th>4</th>\n",
       "      <td>823680</td>\n",
       "      <td>820946</td>\n",
       "      <td>0.003330</td>\n",
       "      <td>0.003319</td>\n",
       "      <td>0.996681</td>\n",
       "    </tr>\n",
       "  </tbody>\n",
       "</table>\n",
       "</div>"
      ],
      "text/plain": [
       "    nSent  nReceiv       PER       PLR       PDR\n",
       "0  823680   823517  0.000198  0.000198  0.999802\n",
       "1  823680   819478  0.005128  0.005102  0.994899\n",
       "2  823680   820951  0.003324  0.003313  0.996687\n",
       "3  823680   820893  0.003395  0.003384  0.996616\n",
       "4  823680   820946  0.003330  0.003319  0.996681"
      ]
     },
     "execution_count": 39,
     "metadata": {},
     "output_type": "execute_result"
    }
   ],
   "source": [
    "# ----- Open Datasets - Camada MAC\n",
    "\n",
    "file = \"net_results.txt\"\n",
    "path_cenario_0 = current_path + \"/simulations/05/\" + file\n",
    "path_cenario_1 = current_path + \"/simulations/05-log/\" + file\n",
    "path_cenario_2 = current_path + \"/simulations/05-cor/\" + file\n",
    "# path_cenario_3 = current_path + \"/simulations/05/\" + file\n",
    "\n",
    "net_0_df = pd.read_csv(path_cenario_0, header=None) \n",
    "net_0_df.columns = [\"nSent\", \"nReceiv\", \"PER\", \"PLR\", \"PDR\"]\n",
    "print(\"\\nSHAPE:\", net_0_df.shape)\n",
    "# net_0_df.head()\n",
    "\n",
    "net_1_df = pd.read_csv(path_cenario_1, header=None) \n",
    "net_1_df.columns = [\"nSent\", \"nReceiv\", \"PER\", \"PLR\", \"PDR\"]\n",
    "print(\"SHAPE:\", net_1_df.shape)\n",
    "net_1_df.head()\n",
    "\n",
    "net_2_df = pd.read_csv(path_cenario_2, header=None) \n",
    "net_2_df.columns = [\"nSent\", \"nReceiv\", \"PER\", \"PLR\", \"PDR\"]\n",
    "print(\"SHAPE:\", net_2_df.shape)\n",
    "net_2_df.head()\n",
    "\n",
    "# net_3_df = pd.read_csv(path_cenario_3, header=None) \n",
    "# net_3_df.columns = [\"nSent\", \"nReceiv\", \"PER\", \"PLR\", \"PDR\"]\n",
    "# print(\"SHAPE:\", net_3_df.shape)\n",
    "# net_3_df.head()"
   ]
  },
  {
   "cell_type": "code",
   "execution_count": 99,
   "metadata": {},
   "outputs": [],
   "source": [
    "#REMOVE OUTLIERS\n",
    "# net_2_df = net_2_df.iloc[1:].head()"
   ]
  },
  {
   "cell_type": "code",
   "execution_count": 40,
   "metadata": {},
   "outputs": [
    {
     "data": {
      "image/png": "[encoded data removed]",
      "text/plain": [
       "<Figure size 432x288 with 1 Axes>"
      ]
     },
     "metadata": {
      "needs_background": "light"
     },
     "output_type": "display_data"
    }
   ],
   "source": [
    "# labels = ['1 ano', '30d - 30min', '30d -10min'] \n",
    "labels = ['II-O', 'II-Log', 'II-Cor'] \n",
    "\n",
    "pdr = [net_0_df['PDR'].mean(), net_1_df['PDR'].mean(), net_2_df['PDR'].mean()]\n",
    "\n",
    "x = np.arange(len(labels))  # the label locations\n",
    "width = 0.5  # the width of the bars\n",
    "\n",
    "fig, ax = plt.subplots()\n",
    "rects1 = ax.bar(x, pdr, width, label='PDR')\n",
    "\n",
    "\n",
    "# Add some text for labels, title and custom x-axis tick labels, etc.\n",
    "ax.set_ylabel('PDR')\n",
    "ax.set_title('Global performance at MAC level of the whole network \\n- SF7, 222 nodes', fontweight='bold', fontsize=12, y=1.05)\n",
    "ax.set_xticks(x)\n",
    "ax.set_xticklabels(labels)\n",
    "# ax.set_xlim([0, 1]) \n",
    "ax.set_ylim([0, max(pdr) + max(pdr)/3]) \n",
    "ax.legend()\n",
    "\n",
    "\n",
    "def autolabel(rects):\n",
    "    \"\"\"Attach a text label above each bar in *rects*, displaying its height.\"\"\"\n",
    "    for rect in rects:\n",
    "        height = rect.get_height()\n",
    "        ax.annotate('{}'.format(round(height,4)),\n",
    "                    xy=(rect.get_x() + rect.get_width() / 2, height),\n",
    "                    xytext=(0, 3),  # 3 points vertical offset\n",
    "                    textcoords=\"offset points\",\n",
    "                    ha='center', va='bottom')\n",
    "\n",
    "\n",
    "autolabel(rects1)\n",
    "\n",
    "\n",
    "fig.tight_layout()\n",
    "\n",
    "plt.show()\n",
    "fig.savefig('mac_performance.png',bbox_inches='tight')"
   ]
  },
  {
   "cell_type": "code",
   "execution_count": null,
   "metadata": {},
   "outputs": [],
   "source": []
  },
  {
   "cell_type": "code",
   "execution_count": null,
   "metadata": {},
   "outputs": [],
   "source": []
  },
  {
   "cell_type": "code",
   "execution_count": 41,
   "metadata": {},
   "outputs": [
    {
     "name": "stdout",
     "output_type": "stream",
     "text": [
      "\n",
      "SHAPE: (10, 5)\n",
      "SHAPE: (10, 5)\n",
      "SHAPE: (10, 5)\n"
     ]
    }
   ],
   "source": [
    "# ----- Open Datasets - Camada Delay\n",
    "\n",
    "file = \"delay_results.txt\"\n",
    "path_cenario_0 = current_path + \"/simulations/05/\" + file\n",
    "path_cenario_1 = current_path + \"/simulations/05-log/\" + file\n",
    "path_cenario_2 = current_path + \"/simulations/05-cor/\" + file\n",
    "# path_cenario_3 = current_path + \"/simulations/05/\" + file\n",
    "\n",
    "delay_0_df = pd.read_csv(path_cenario_0, header=None) \n",
    "# Average delay (ms),  Average delay (ns) per SF, soma dos Delays per SF (ns):\n",
    "delay_0_df.columns = [\"sent\", \"receive\", \"average_delay_s\", \"average_delay_ns\", \"delay_p_sf_ns\"]\n",
    "print(\"\\nSHAPE:\", net_0_df.shape)\n",
    "# delay_0_df.head()\n",
    "\n",
    "delay_1_df = pd.read_csv(path_cenario_1, header=None) \n",
    "delay_1_df.columns = [\"sent\", \"receive\", \"average_delay_s\", \"average_delay_ns\", \"delay_p_sf_ns\"]\n",
    "print(\"SHAPE:\", delay_1_df.shape)\n",
    "# delay_1_df.head()\n",
    "\n",
    "delay_2_df = pd.read_csv(path_cenario_2, header=None) \n",
    "delay_2_df.columns = [\"sent\", \"receive\", \"average_delay_s\", \"average_delay_ns\", \"delay_p_sf_ns\"]\n",
    "print(\"SHAPE:\", delay_2_df.shape)\n",
    "# delay_2_df.head()\n",
    "\n",
    "# delay_3_df = pd.read_csv(path_cenario_3, header=None) \n",
    "# delay_3_df.columns = [\"sent\", \"receive\", \"average_delay_s\", \"average_delay_ns\", \"delay_p_sf_ns\"]\n",
    "# print(\"SHAPE:\", delay_3_df.shape)"
   ]
  },
  {
   "cell_type": "code",
   "execution_count": 40,
   "metadata": {},
   "outputs": [],
   "source": [
    "# delay_2_df['average_delay_s'].mean()"
   ]
  },
  {
   "cell_type": "code",
   "execution_count": 32,
   "metadata": {},
   "outputs": [],
   "source": [
    "# # REMOVE OUTLIERS\n",
    "# net_2_df = net_2_df.iloc[1:]\n",
    "# net_2_df.head()"
   ]
  },
  {
   "cell_type": "code",
   "execution_count": 42,
   "metadata": {},
   "outputs": [
    {
     "data": {
      "image/png": "[encoded data removed]",
      "text/plain": [
       "<Figure size 432x288 with 1 Axes>"
      ]
     },
     "metadata": {
      "needs_background": "light"
     },
     "output_type": "display_data"
    }
   ],
   "source": [
    "# labels = ['11 bytes', '51 bytes', '222 bytes']\n",
    "# labels = ['Cenario I', 'Cenario II'] \n",
    "labels = ['II-O', 'II-Log', 'II-Cor'] \n",
    "\n",
    "delay = [delay_0_df['average_delay_s'].mean(), delay_1_df['average_delay_s'].mean(),\n",
    "         delay_2_df['average_delay_s'].mean()]\n",
    "\n",
    "x = np.arange(len(labels))  # the label locations\n",
    "width = 0.5  # the width of the bars\n",
    "\n",
    "fig, ax = plt.subplots()\n",
    "rects1 = ax.bar(x, delay, width, label='Average Delay (ms)', color='green')\n",
    "\n",
    "\n",
    "# Add some text for labels, title and custom x-axis tick labels, etc.\n",
    "ax.set_ylabel('Average Delay (ms)')\n",
    "ax.set_title('Average Delay (ms) - SF7, 222 nodes', fontweight='bold', fontsize=12, y=1.05)\n",
    "ax.set_xticks(x)\n",
    "ax.set_xticklabels(labels)\n",
    "ax.set_ylim([0, max(delay) + max(delay)/3]) \n",
    "ax.legend()\n",
    "\n",
    "\n",
    "def autolabel(rects):\n",
    "    \"\"\"Attach a text label above each bar in *rects*, displaying its height.\"\"\"\n",
    "    for rect in rects:\n",
    "        height = rect.get_height()\n",
    "        ax.annotate('{}'.format(round(height,4)),\n",
    "                    xy=(rect.get_x() + rect.get_width() / 2, height),\n",
    "                    xytext=(0, 3),  # 3 points vertical offset\n",
    "                    textcoords=\"offset points\",\n",
    "                    ha='center', va='bottom')\n",
    "\n",
    "\n",
    "autolabel(rects1)\n",
    "\n",
    "\n",
    "fig.tight_layout()\n",
    "\n",
    "plt.show()\n",
    "fig.savefig('delay_performance.png',bbox_inches='tight')"
   ]
  },
  {
   "cell_type": "code",
   "execution_count": null,
   "metadata": {},
   "outputs": [],
   "source": []
  },
  {
   "cell_type": "markdown",
   "metadata": {},
   "source": [
    "# Modelo de Energia"
   ]
  },
  {
   "cell_type": "code",
   "execution_count": 38,
   "metadata": {},
   "outputs": [
    {
     "name": "stdout",
     "output_type": "stream",
     "text": [
      "\n",
      "SHAPE: (24, 2)\n"
     ]
    },
    {
     "data": {
      "text/html": [
       "<div>\n",
       "<style scoped>\n",
       "    .dataframe tbody tr th:only-of-type {\n",
       "        vertical-align: middle;\n",
       "    }\n",
       "\n",
       "    .dataframe tbody tr th {\n",
       "        vertical-align: top;\n",
       "    }\n",
       "\n",
       "    .dataframe thead th {\n",
       "        text-align: right;\n",
       "    }\n",
       "</style>\n",
       "<table border=\"1\" class=\"dataframe\">\n",
       "  <thead>\n",
       "    <tr style=\"text-align: right;\">\n",
       "      <th></th>\n",
       "      <th>time</th>\n",
       "      <th>energyRemaining</th>\n",
       "    </tr>\n",
       "  </thead>\n",
       "  <tbody>\n",
       "    <tr>\n",
       "      <th>0</th>\n",
       "      <td>0</td>\n",
       "      <td>10000.00</td>\n",
       "    </tr>\n",
       "    <tr>\n",
       "      <th>1</th>\n",
       "      <td>3600</td>\n",
       "      <td>5905.11</td>\n",
       "    </tr>\n",
       "    <tr>\n",
       "      <th>2</th>\n",
       "      <td>7200</td>\n",
       "      <td>1810.22</td>\n",
       "    </tr>\n",
       "    <tr>\n",
       "      <th>3</th>\n",
       "      <td>10800</td>\n",
       "      <td>0.00</td>\n",
       "    </tr>\n",
       "    <tr>\n",
       "      <th>4</th>\n",
       "      <td>14400</td>\n",
       "      <td>0.00</td>\n",
       "    </tr>\n",
       "  </tbody>\n",
       "</table>\n",
       "</div>"
      ],
      "text/plain": [
       "    time  energyRemaining\n",
       "0      0         10000.00\n",
       "1   3600          5905.11\n",
       "2   7200          1810.22\n",
       "3  10800             0.00\n",
       "4  14400             0.00"
      ]
     },
     "execution_count": 38,
     "metadata": {},
     "output_type": "execute_result"
    }
   ],
   "source": [
    "# ----- Open Datasets - Consumo\n",
    "\n",
    "file = \"energy_results.txt\"\n",
    "path_cenario_1 = current_path + \"/simulations/04/\" + file\n",
    "path_cenario_2 = current_path + \"/simulations/04-log/\" + file\n",
    "# path_cenario_3 = current_path + \"/simulations/04/\" + file\n",
    "# path_cenario_4 = current_path + \"/simulations/05/\" + file\n",
    "\n",
    "energy_df_1 = pd.read_csv(path_cenario_1, header=None) \n",
    "energy_df_1.columns = [\"time\", \"energyRemaining\"]\n",
    "\n",
    "energy_df_2 = pd.read_csv(path_cenario_2, header=None) \n",
    "energy_df_2.columns = [\"time\", \"energyRemaining\"]\n",
    "\n",
    "# energy_df_3 = pd.read_csv(path_cenario_3, header=None) \n",
    "# energy_df_3.columns = [\"time\", \"energyRemaining\"]\n",
    "\n",
    "# energy_df_4 = pd.read_csv(path_cenario_4, header=None) \n",
    "# energy_df_4.columns = [\"time\", \"energyRemaining\"]\n",
    "\n",
    "# energy_df_1 = energy_df_1.iloc[0:720]\n",
    "# energy_df_2 = energy_df_2.iloc[0:720]\n",
    "# energy_df_3 = energy_df_3.iloc[0:720]\n",
    "# energy_df_4 = energy_df_4.iloc[0:720]\n",
    "print(\"\\nSHAPE:\", energy_df_1.shape)\n",
    "energy_df_1.head()"
   ]
  },
  {
   "cell_type": "code",
   "execution_count": 39,
   "metadata": {},
   "outputs": [
    {
     "name": "stdout",
     "output_type": "stream",
     "text": [
      "\n",
      "SHAPE: (24, 3)\n",
      "\n",
      "SHAPE: (24, 4)\n",
      "\n",
      "SHAPE: (24, 3)\n",
      "\n",
      "SHAPE: (24, 4)\n"
     ]
    },
    {
     "data": {
      "text/html": [
       "<div>\n",
       "<style scoped>\n",
       "    .dataframe tbody tr th:only-of-type {\n",
       "        vertical-align: middle;\n",
       "    }\n",
       "\n",
       "    .dataframe tbody tr th {\n",
       "        vertical-align: top;\n",
       "    }\n",
       "\n",
       "    .dataframe thead th {\n",
       "        text-align: right;\n",
       "    }\n",
       "</style>\n",
       "<table border=\"1\" class=\"dataframe\">\n",
       "  <thead>\n",
       "    <tr style=\"text-align: right;\">\n",
       "      <th></th>\n",
       "      <th>time</th>\n",
       "      <th>energyRemaining</th>\n",
       "      <th>time_h</th>\n",
       "      <th>time_mes</th>\n",
       "      <th>energyRemainingPercentual</th>\n",
       "    </tr>\n",
       "  </thead>\n",
       "  <tbody>\n",
       "    <tr>\n",
       "      <th>0</th>\n",
       "      <td>0</td>\n",
       "      <td>10000.00</td>\n",
       "      <td>0.0</td>\n",
       "      <td>0.000000</td>\n",
       "      <td>100.0000</td>\n",
       "    </tr>\n",
       "    <tr>\n",
       "      <th>1</th>\n",
       "      <td>3600</td>\n",
       "      <td>5904.94</td>\n",
       "      <td>1.0</td>\n",
       "      <td>0.001370</td>\n",
       "      <td>59.0494</td>\n",
       "    </tr>\n",
       "    <tr>\n",
       "      <th>2</th>\n",
       "      <td>7200</td>\n",
       "      <td>1809.88</td>\n",
       "      <td>2.0</td>\n",
       "      <td>0.002740</td>\n",
       "      <td>18.0988</td>\n",
       "    </tr>\n",
       "    <tr>\n",
       "      <th>3</th>\n",
       "      <td>10800</td>\n",
       "      <td>0.00</td>\n",
       "      <td>3.0</td>\n",
       "      <td>0.004110</td>\n",
       "      <td>0.0000</td>\n",
       "    </tr>\n",
       "    <tr>\n",
       "      <th>4</th>\n",
       "      <td>14400</td>\n",
       "      <td>0.00</td>\n",
       "      <td>4.0</td>\n",
       "      <td>0.005479</td>\n",
       "      <td>0.0000</td>\n",
       "    </tr>\n",
       "  </tbody>\n",
       "</table>\n",
       "</div>"
      ],
      "text/plain": [
       "    time  energyRemaining  time_h  time_mes  energyRemainingPercentual\n",
       "0      0         10000.00     0.0  0.000000                   100.0000\n",
       "1   3600          5904.94     1.0  0.001370                    59.0494\n",
       "2   7200          1809.88     2.0  0.002740                    18.0988\n",
       "3  10800             0.00     3.0  0.004110                     0.0000\n",
       "4  14400             0.00     4.0  0.005479                     0.0000"
      ]
     },
     "execution_count": 39,
     "metadata": {},
     "output_type": "execute_result"
    }
   ],
   "source": [
    "# tempo para hora\n",
    "energy_df_1['time_h'] = energy_df_1['time'] / 3600.0\n",
    "print(\"\\nSHAPE:\", energy_df_1.shape)\n",
    "\n",
    "# hora para mês\n",
    "energy_df_1['time_mes'] = energy_df_1['time_h'] / 730\n",
    "print(\"\\nSHAPE:\", energy_df_1.shape)\n",
    "\n",
    "# Joules p 100%\n",
    "total = 10000.0\n",
    "energy_df_1['energyRemainingPercentual'] = (energy_df_1['energyRemaining'] / total) *100\n",
    "energy_df_1.head()\n",
    "\n",
    "# tempo para hora\n",
    "energy_df_2['time_h'] = energy_df_2['time'] / 3600.0\n",
    "print(\"\\nSHAPE:\", energy_df_2.shape)\n",
    "\n",
    "# hora para mês\n",
    "energy_df_2['time_mes'] = energy_df_2['time_h'] / 730\n",
    "print(\"\\nSHAPE:\", energy_df_2.shape)\n",
    "\n",
    "# Joules p 100%\n",
    "total = 10000.0\n",
    "energy_df_2['energyRemainingPercentual'] = (energy_df_2['energyRemaining'] / total) *100\n",
    "energy_df_2.head()\n",
    "\n",
    "# # tempo para hora\n",
    "# energy_df_3['time_h'] = energy_df_3['time'] / 3600.0\n",
    "# print(\"\\nSHAPE:\", energy_df_3.shape)\n",
    "\n",
    "# # hora para mês\n",
    "# energy_df_3['time_mes'] = energy_df_3['time_h'] / 730\n",
    "# print(\"\\nSHAPE:\", energy_df_3.shape)\n",
    "\n",
    "# # Joules p 100%\n",
    "# total = 10000.0\n",
    "# energy_df_3['energyRemainingPercentual'] = (energy_df_3['energyRemaining'] / total) *100\n",
    "# energy_df_3.head()\n",
    "\n",
    "# # tempo para hora\n",
    "# energy_df_4['time_h'] = energy_df_4['time'] / 3600.0\n",
    "# print(\"\\nSHAPE:\", energy_df_4.shape)\n",
    "\n",
    "# # hora para mês\n",
    "# energy_df_4['time_mes'] = energy_df_4['time_h'] / 730\n",
    "# print(\"\\nSHAPE:\", energy_df_4.shape)\n",
    "\n",
    "# # Joules p 100%\n",
    "# total = 10000.0\n",
    "# energy_df_4['energyRemainingPercentual'] = (energy_df_4['energyRemaining'] / total) *100\n",
    "# energy_df_4.head()"
   ]
  },
  {
   "cell_type": "code",
   "execution_count": 108,
   "metadata": {},
   "outputs": [],
   "source": [
    "#REMOVE OUTLIERS\n",
    "energy_df_2 = energy_df_2.iloc[:720]\n",
    "# energy_df_2.head(50)"
   ]
  },
  {
   "cell_type": "code",
   "execution_count": 41,
   "metadata": {},
   "outputs": [
    {
     "data": {
      "image/png": "[encoded data removed]",
      "text/plain": [
       "<Figure size 720x360 with 1 Axes>"
      ]
     },
     "metadata": {
      "needs_background": "light"
     },
     "output_type": "display_data"
    }
   ],
   "source": [
    "# graph measures x time (h)\n",
    "\n",
    "fig, ax = plt.subplots(figsize=(10,5))\n",
    "# plt.figure(figsize=(10,5))\n",
    "ax = plt.gca()\n",
    "\n",
    "energy_df_1.plot(kind='line',x=\"time_h\", y='energyRemainingPercentual',label='+ Sleep mode', color = 'green', ax=ax)\n",
    "energy_df_2.plot(kind='line',x=\"time_h\", y='energyRemainingPercentual',label='+ All modes', color = 'blue', ax=ax)\n",
    "# energy_df_3.plot(kind='line',x=\"time_mes\", y='energyRemainingPercentual',label='Cenario I-okumura', color = 'red', ax=ax)\n",
    "# energy_df_4.plot(kind='line',x=\"time_mes\", y='energyRemainingPercentual',label='Cenario II-okumura', color = 'red', ax=ax)\n",
    "\n",
    "\n",
    "plt.xlabel('Período de Teste (h)', fontweight='bold', fontsize=14,labelpad=5)\n",
    "plt.ylabel('Energia (100%)', fontweight='bold', fontsize=14, labelpad=5)\n",
    "\n",
    "ttl = ax.title\n",
    "ttl.set_position([.5, 1.3])\n",
    "\n",
    "plt.title('Energia x Tempo (h)',fontweight='bold',fontsize=14)\n",
    "\n",
    "from matplotlib.ticker import FormatStrFormatter\n",
    "ax.yaxis.set_major_formatter(FormatStrFormatter('%.2f'))\n",
    "\n",
    "plt.show()\n",
    "fig.savefig('energy_performance.png',bbox_inches='tight')"
   ]
  }
 ],
 "metadata": {
  "kernelspec": {
   "display_name": "Python 3",
   "language": "python",
   "name": "python3"
  },
  "language_info": {
   "codemirror_mode": {
    "name": "ipython",
    "version": 3
   },
   "file_extension": ".py",
   "mimetype": "text/x-python",
   "name": "python",
   "nbconvert_exporter": "python",
   "pygments_lexer": "ipython3",
   "version": "3.8.11"
  }
 },
 "nbformat": 4,
 "nbformat_minor": 4
}
