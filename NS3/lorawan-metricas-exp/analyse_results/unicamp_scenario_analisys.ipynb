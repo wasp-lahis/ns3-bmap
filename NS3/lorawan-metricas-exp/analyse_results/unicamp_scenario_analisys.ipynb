{
 "cells": [
  {
   "cell_type": "code",
   "execution_count": 1,
   "metadata": {},
   "outputs": [],
   "source": [
    "# ----- LIBS\n",
    "\n",
    "# systems access\n",
    "import os \n",
    "\n",
    "# data analysis\n",
    "import numpy as np\n",
    "import pandas as pd\n",
    "\n",
    "# charts\n",
    "import matplotlib.pyplot as plt\n",
    "import matplotlib.patches as patches\n",
    "import matplotlib.lines as mlines\n",
    "\n",
    "# geoprocessing\n",
    "import folium\n",
    "from folium import plugins\n",
    "import geopandas as gpd\n",
    "from shapely.geometry import Point"
   ]
  },
  {
   "cell_type": "markdown",
   "metadata": {},
   "source": [
    "# Roteiro\n",
    "\n",
    "- Análise de simulação\n",
    "    - Posicionamento e SF\n",
    "    - Métricas da camada PHY\n",
    "    - Cobertura/Alcance Lora\n",
    "    - Métricas de performance da rede completa (Mac Layer)\n",
    "    - Métricas de Consumo\\\n",
    "    \n",
    "    \n",
    "- Análise entre simulações\n",
    "    - variação de Payload\n",
    "    - variação de appPeriod\n",
    "    - variação de nº de nós"
   ]
  },
  {
   "cell_type": "markdown",
   "metadata": {},
   "source": [
    "# Análise de simulação"
   ]
  },
  {
   "cell_type": "code",
   "execution_count": 2,
   "metadata": {},
   "outputs": [],
   "source": [
    "current_path = os.getcwd()\n",
    "current_path = '/home/wasp/Desktop/Mestrado/ns3-bmap/NS3/lorawan-metricas-exp/'"
   ]
  },
  {
   "cell_type": "code",
   "execution_count": 3,
   "metadata": {},
   "outputs": [],
   "source": [
    "# SET NUMBER OF SIMULATION REPEAT\n",
    "NUM_SIM_REPEAT = 10\n",
    "\n",
    "# SET NUMBER OF NODES\n",
    "NUM_NODES = 222\n",
    "\n",
    "# SET simulation_folder path and simulation_id\n",
    "simulation_folder = current_path + \"/simulations\"\n",
    "simulation_id = \"/04/\"\n",
    "\n",
    "# SET FILES TO BE ANALYSE\n",
    "sf_distribution_on_network = \"network_position.txt\"\n",
    "phy_layer_packet_outcome = \"phy_results.txt\"\n",
    "phy_layer_rssi_coverage = \"rssi_results.txt\"\n",
    "mac_layer_performance_metrics = \"net_results.txt\"\n",
    "mac_layer_power_consumption = \"energy_results.txt\""
   ]
  },
  {
   "cell_type": "markdown",
   "metadata": {},
   "source": [
    "## Posicionamento x SF"
   ]
  },
  {
   "cell_type": "code",
   "execution_count": 5,
   "metadata": {},
   "outputs": [
    {
     "name": "stdout",
     "output_type": "stream",
     "text": [
      "\n",
      "SHAPE: (444, 10)\n"
     ]
    },
    {
     "data": {
      "text/html": [
       "<div>\n",
       "<style scoped>\n",
       "    .dataframe tbody tr th:only-of-type {\n",
       "        vertical-align: middle;\n",
       "    }\n",
       "\n",
       "    .dataframe tbody tr th {\n",
       "        vertical-align: top;\n",
       "    }\n",
       "\n",
       "    .dataframe thead th {\n",
       "        text-align: right;\n",
       "    }\n",
       "</style>\n",
       "<table border=\"1\" class=\"dataframe\">\n",
       "  <thead>\n",
       "    <tr style=\"text-align: right;\">\n",
       "      <th></th>\n",
       "      <th>nodeId</th>\n",
       "      <th>posX</th>\n",
       "      <th>posY</th>\n",
       "      <th>posZ</th>\n",
       "      <th>sf</th>\n",
       "      <th>gwId</th>\n",
       "      <th>gw_posX</th>\n",
       "      <th>gw_posY</th>\n",
       "      <th>gw_posZ</th>\n",
       "      <th>distance</th>\n",
       "    </tr>\n",
       "  </thead>\n",
       "  <tbody>\n",
       "    <tr>\n",
       "      <th>0</th>\n",
       "      <td>0</td>\n",
       "      <td>0.0</td>\n",
       "      <td>1527.410</td>\n",
       "      <td>1.5</td>\n",
       "      <td>7</td>\n",
       "      <td>222</td>\n",
       "      <td>1694.97</td>\n",
       "      <td>2141.47</td>\n",
       "      <td>44.9188</td>\n",
       "      <td>1803.30</td>\n",
       "    </tr>\n",
       "    <tr>\n",
       "      <th>1</th>\n",
       "      <td>1</td>\n",
       "      <td>0.0</td>\n",
       "      <td>297.312</td>\n",
       "      <td>1.5</td>\n",
       "      <td>7</td>\n",
       "      <td>222</td>\n",
       "      <td>1694.97</td>\n",
       "      <td>2141.47</td>\n",
       "      <td>44.9188</td>\n",
       "      <td>2505.14</td>\n",
       "    </tr>\n",
       "    <tr>\n",
       "      <th>2</th>\n",
       "      <td>2</td>\n",
       "      <td>0.0</td>\n",
       "      <td>1535.550</td>\n",
       "      <td>1.5</td>\n",
       "      <td>7</td>\n",
       "      <td>222</td>\n",
       "      <td>1694.97</td>\n",
       "      <td>2141.47</td>\n",
       "      <td>44.9188</td>\n",
       "      <td>1800.54</td>\n",
       "    </tr>\n",
       "    <tr>\n",
       "      <th>3</th>\n",
       "      <td>3</td>\n",
       "      <td>0.0</td>\n",
       "      <td>1149.490</td>\n",
       "      <td>1.5</td>\n",
       "      <td>7</td>\n",
       "      <td>222</td>\n",
       "      <td>1694.97</td>\n",
       "      <td>2141.47</td>\n",
       "      <td>44.9188</td>\n",
       "      <td>1964.40</td>\n",
       "    </tr>\n",
       "    <tr>\n",
       "      <th>4</th>\n",
       "      <td>4</td>\n",
       "      <td>0.0</td>\n",
       "      <td>1186.800</td>\n",
       "      <td>1.5</td>\n",
       "      <td>7</td>\n",
       "      <td>222</td>\n",
       "      <td>1694.97</td>\n",
       "      <td>2141.47</td>\n",
       "      <td>44.9188</td>\n",
       "      <td>1945.82</td>\n",
       "    </tr>\n",
       "  </tbody>\n",
       "</table>\n",
       "</div>"
      ],
      "text/plain": [
       "   nodeId  posX      posY  posZ  sf  gwId  gw_posX  gw_posY  gw_posZ  distance\n",
       "0       0   0.0  1527.410   1.5   7   222  1694.97  2141.47  44.9188   1803.30\n",
       "1       1   0.0   297.312   1.5   7   222  1694.97  2141.47  44.9188   2505.14\n",
       "2       2   0.0  1535.550   1.5   7   222  1694.97  2141.47  44.9188   1800.54\n",
       "3       3   0.0  1149.490   1.5   7   222  1694.97  2141.47  44.9188   1964.40\n",
       "4       4   0.0  1186.800   1.5   7   222  1694.97  2141.47  44.9188   1945.82"
      ]
     },
     "execution_count": 5,
     "metadata": {},
     "output_type": "execute_result"
    }
   ],
   "source": [
    "# ----- DATASET\n",
    "file_to_be_analysed = sf_distribution_on_network\n",
    "path_to_simulation = simulation_folder + simulation_id + file_to_be_analysed\n",
    "\n",
    "net_position_df = pd.read_csv(path_to_simulation, header=None) \n",
    "net_position_df.columns = [\"nodeId\", \"posX\", \"posY\", \"posZ\",\n",
    "                           \"sf\", \"gwId\", \"gw_posX\", \"gw_posY\", \"gw_posZ\", \"distance\"]\n",
    "\n",
    "print(\"\\nSHAPE:\", net_position_df.shape)\n",
    "net_position_df.head()"
   ]
  },
  {
   "cell_type": "code",
   "execution_count": 38,
   "metadata": {},
   "outputs": [],
   "source": [
    "# ----- PLOT SIZE SETTINGS\n",
    "\n",
    "# chart bounds\n",
    "xMin_bound, xMax_bound = -500, 2000\n",
    "yMin_bound, yMax_bound = 0, 2500 \n",
    "\n",
    "# chart figsize\n",
    "x_figsize, y_figsize = 5, 5\n",
    "\n",
    "\n",
    "# ----- LEGEND SETTINGS PER PLOT\n",
    "def set_plots_legends():\n",
    "   \n",
    "    # legend list settings\n",
    "    plots_legends = []\n",
    "       \n",
    "    # ED points\n",
    "    colors = ['y','orange', 'green', 'blue', 'purple', 'black']\n",
    "    for sf in range(len(colors)):\n",
    "        scatter_lgd = mlines.Line2D([], [], color = 'white', marker = 'o',  markeredgecolor = colors[sf],\n",
    "                                  markeredgewidth = 0.5, markerfacecolor = colors[sf], markersize = 7, \n",
    "                                  label = 'SF' + str(sf + 7))\n",
    "        plots_legends.append(scatter_lgd)\n",
    "    \n",
    "    \n",
    "    # GW points\n",
    "    scatter_lgd = mlines.Line2D([], [], color = 'white', marker = (5,2), markeredgecolor = 'red',\n",
    "                                  markeredgewidth = 0.5, markerfacecolor = 'red', markersize = 15, \n",
    "                                  label = 'GW')\n",
    "    plots_legends.append(scatter_lgd)\n",
    "    \n",
    "    return plots_legends"
   ]
  },
  {
   "cell_type": "code",
   "execution_count": 39,
   "metadata": {},
   "outputs": [],
   "source": [
    "# ----- EDs LISTS per SF\n",
    "\n",
    "# to initialize multiple lists\n",
    "eds_x_sf7, eds_y_sf7, eds_x_sf8, eds_y_sf8 = ([] for i in range(4))\n",
    "eds_x_sf9, eds_y_sf9, eds_x_sf10, eds_y_sf10 = ([] for i in range(4))\n",
    "eds_x_sf11, eds_y_sf11, eds_x_sf12, eds_y_sf12 = ([] for i in range(4))\n",
    "\n",
    "\n",
    "for i in range (len(net_pos)):\n",
    "    if net_pos.iloc[i].sf == 7.0:\n",
    "        eds_x_sf7.append(net_pos.iloc[i].posX)\n",
    "        eds_y_sf7.append(net_pos.iloc[i].posY)\n",
    "    if net_pos.iloc[i].sf == 8.0:\n",
    "        eds_x_sf8.append(net_pos.iloc[i].posX)\n",
    "        eds_y_sf8.append(net_pos.iloc[i].posY)\n",
    "    if net_pos.iloc[i].sf == 9.0:\n",
    "        eds_x_sf9.append(net_pos.iloc[i].posX)\n",
    "        eds_y_sf9.append(net_pos.iloc[i].posY)\n",
    "    if net_pos.iloc[i].sf == 10.0:\n",
    "        eds_x_sf10.append(net_pos.iloc[i].posX)\n",
    "        eds_y_sf10.append(net_pos.iloc[i].posY)\n",
    "    if net_pos.iloc[i].sf == 11.0:\n",
    "        eds_x_sf11.append(net_pos.iloc[i].posX)\n",
    "        eds_y_sf11.append(net_pos.iloc[i].posY)\n",
    "    if net_pos.iloc[i].sf == 12.0:\n",
    "        eds_x_sf12.append(net_pos.iloc[i].posX)\n",
    "        eds_y_sf12.append(net_pos.iloc[i].posY)"
   ]
  },
  {
   "cell_type": "code",
   "execution_count": 40,
   "metadata": {},
   "outputs": [
    {
     "data": {
      "image/png": "[encoded data removed]",
      "text/plain": [
       "<Figure size 360x360 with 1 Axes>"
      ]
     },
     "metadata": {
      "needs_background": "light"
     },
     "output_type": "display_data"
    }
   ],
   "source": [
    "# ----- PLOT ED E GW\n",
    "\n",
    "# plot initialize\n",
    "fig, ax = plt.subplots(figsize=(x_figsize, y_figsize))\n",
    "\n",
    "# draw ED posxy per SF \n",
    "ax.scatter(eds_x_sf7, eds_y_sf7, color='y', label ='SF7')\n",
    "ax.scatter(eds_x_sf8, eds_y_sf8, color='orange', label ='SF8')\n",
    "ax.scatter(eds_x_sf9, eds_y_sf9, color='green', label ='SF9')\n",
    "ax.scatter(eds_x_sf10, eds_y_sf10, color='blue', label ='SF10')\n",
    "ax.scatter(eds_x_sf11, eds_y_sf11, color='purple', label ='SF11')\n",
    "ax.scatter(eds_x_sf12, eds_y_sf12, color='black', label ='SF10')\n",
    "\n",
    "# draw GW\n",
    "ax.scatter(net_pos.iloc[0].gw_posX, net_pos.iloc[0].gw_posY, color='red', label ='GW', marker = (5,2), s = 200)\n",
    "        \n",
    "# legend settings\n",
    "legends_list = set_plots_legends()\n",
    "ax.legend(handles=[line for line in legends_list], loc=\"upper right\", bbox_to_anchor=(1.4, 1.01), prop={'size': 14})\n",
    "\n",
    "# chart bounds\n",
    "ax.set(xlim=(xMin_bound, xMax_bound), ylim = (yMin_bound, yMax_bound))\n",
    "\n",
    "# Title\n",
    "ax.set_title('Distribuição randômica de EDs em torno de GW.', fontweight='bold', fontsize=14, y=1.1)\n",
    "plt.show()\n",
    "# fig.savefig('dist_rand_ed_gw.png',bbox_inches='tight')"
   ]
  },
  {
   "cell_type": "code",
   "execution_count": null,
   "metadata": {},
   "outputs": [],
   "source": []
  },
  {
   "cell_type": "code",
   "execution_count": null,
   "metadata": {},
   "outputs": [],
   "source": []
  },
  {
   "cell_type": "markdown",
   "metadata": {},
   "source": [
    "## Métricas da camada PHY"
   ]
  },
  {
   "cell_type": "code",
   "execution_count": 8,
   "metadata": {},
   "outputs": [
    {
     "name": "stdout",
     "output_type": "stream",
     "text": [
      "\n",
      "SHAPE: (10, 6)\n"
     ]
    },
    {
     "data": {
      "text/html": [
       "<div>\n",
       "<style scoped>\n",
       "    .dataframe tbody tr th:only-of-type {\n",
       "        vertical-align: middle;\n",
       "    }\n",
       "\n",
       "    .dataframe tbody tr th {\n",
       "        vertical-align: top;\n",
       "    }\n",
       "\n",
       "    .dataframe thead th {\n",
       "        text-align: right;\n",
       "    }\n",
       "</style>\n",
       "<table border=\"1\" class=\"dataframe\">\n",
       "  <thead>\n",
       "    <tr style=\"text-align: right;\">\n",
       "      <th></th>\n",
       "      <th>gwID</th>\n",
       "      <th>received</th>\n",
       "      <th>interfered</th>\n",
       "      <th>noMoreReceivers</th>\n",
       "      <th>underSensitivity</th>\n",
       "      <th>lost</th>\n",
       "    </tr>\n",
       "  </thead>\n",
       "  <tbody>\n",
       "    <tr>\n",
       "      <th>0</th>\n",
       "      <td>0</td>\n",
       "      <td>4388</td>\n",
       "      <td>0</td>\n",
       "      <td>0</td>\n",
       "      <td>0</td>\n",
       "      <td>0</td>\n",
       "    </tr>\n",
       "    <tr>\n",
       "      <th>1</th>\n",
       "      <td>0</td>\n",
       "      <td>131629</td>\n",
       "      <td>11</td>\n",
       "      <td>0</td>\n",
       "      <td>0</td>\n",
       "      <td>0</td>\n",
       "    </tr>\n",
       "    <tr>\n",
       "      <th>2</th>\n",
       "      <td>0</td>\n",
       "      <td>131549</td>\n",
       "      <td>91</td>\n",
       "      <td>0</td>\n",
       "      <td>0</td>\n",
       "      <td>0</td>\n",
       "    </tr>\n",
       "    <tr>\n",
       "      <th>3</th>\n",
       "      <td>0</td>\n",
       "      <td>131640</td>\n",
       "      <td>0</td>\n",
       "      <td>0</td>\n",
       "      <td>0</td>\n",
       "      <td>0</td>\n",
       "    </tr>\n",
       "    <tr>\n",
       "      <th>4</th>\n",
       "      <td>0</td>\n",
       "      <td>131640</td>\n",
       "      <td>0</td>\n",
       "      <td>0</td>\n",
       "      <td>0</td>\n",
       "      <td>0</td>\n",
       "    </tr>\n",
       "    <tr>\n",
       "      <th>5</th>\n",
       "      <td>0</td>\n",
       "      <td>131538</td>\n",
       "      <td>102</td>\n",
       "      <td>0</td>\n",
       "      <td>0</td>\n",
       "      <td>0</td>\n",
       "    </tr>\n",
       "    <tr>\n",
       "      <th>6</th>\n",
       "      <td>0</td>\n",
       "      <td>131553</td>\n",
       "      <td>87</td>\n",
       "      <td>0</td>\n",
       "      <td>0</td>\n",
       "      <td>0</td>\n",
       "    </tr>\n",
       "    <tr>\n",
       "      <th>7</th>\n",
       "      <td>0</td>\n",
       "      <td>131640</td>\n",
       "      <td>0</td>\n",
       "      <td>0</td>\n",
       "      <td>0</td>\n",
       "      <td>0</td>\n",
       "    </tr>\n",
       "    <tr>\n",
       "      <th>8</th>\n",
       "      <td>0</td>\n",
       "      <td>131426</td>\n",
       "      <td>214</td>\n",
       "      <td>0</td>\n",
       "      <td>0</td>\n",
       "      <td>0</td>\n",
       "    </tr>\n",
       "    <tr>\n",
       "      <th>9</th>\n",
       "      <td>0</td>\n",
       "      <td>131640</td>\n",
       "      <td>0</td>\n",
       "      <td>0</td>\n",
       "      <td>0</td>\n",
       "      <td>0</td>\n",
       "    </tr>\n",
       "  </tbody>\n",
       "</table>\n",
       "</div>"
      ],
      "text/plain": [
       "   gwID  received  interfered  noMoreReceivers  underSensitivity  lost\n",
       "0     0      4388           0                0                 0     0\n",
       "1     0    131629          11                0                 0     0\n",
       "2     0    131549          91                0                 0     0\n",
       "3     0    131640           0                0                 0     0\n",
       "4     0    131640           0                0                 0     0\n",
       "5     0    131538         102                0                 0     0\n",
       "6     0    131553          87                0                 0     0\n",
       "7     0    131640           0                0                 0     0\n",
       "8     0    131426         214                0                 0     0\n",
       "9     0    131640           0                0                 0     0"
      ]
     },
     "execution_count": 8,
     "metadata": {},
     "output_type": "execute_result"
    }
   ],
   "source": [
    "# ----- DATASET\n",
    "file_to_be_analysed = phy_layer_packet_outcome\n",
    "path_to_simulation = simulation_folder + simulation_id + file_to_be_analysed\n",
    "\n",
    "phy_df = pd.read_csv(path_to_simulation, header=None) \n",
    "phy_df.columns = [\"gwID\", \"received\", \"interfered\", \"noMoreReceivers\", \"underSensitivity\", \"lost\"]\n",
    "\n",
    "print(\"\\nSHAPE:\", phy_df.shape)\n",
    "phy_df.head(10)"
   ]
  },
  {
   "cell_type": "code",
   "execution_count": 7,
   "metadata": {},
   "outputs": [
    {
     "name": "stdout",
     "output_type": "stream",
     "text": [
      "PHY LAYER - Packet Outcome METRICS:\n",
      "\n",
      "received: 118864.3\n",
      "interfered: 50.5\n",
      "noMoreReceivers: 0.0\n",
      "underSensitivity: 0.0\n",
      "lost: 0.0\n"
     ]
    }
   ],
   "source": [
    "# Valores médios de cada coluna\n",
    "print(\"PHY LAYER - Packet Outcome METRICS:\\n\")\n",
    "print(\"received:\", phy_df['received'].mean())\n",
    "print(\"interfered:\", phy_df['interfered'].mean())\n",
    "print(\"noMoreReceivers:\", phy_df['noMoreReceivers'].mean())\n",
    "print(\"underSensitivity:\", phy_df['underSensitivity'].mean())\n",
    "print(\"lost:\", phy_df['lost'].mean())"
   ]
  },
  {
   "cell_type": "code",
   "execution_count": null,
   "metadata": {},
   "outputs": [],
   "source": []
  },
  {
   "cell_type": "code",
   "execution_count": null,
   "metadata": {},
   "outputs": [],
   "source": []
  },
  {
   "cell_type": "markdown",
   "metadata": {},
   "source": [
    "## Cobertura/Alcance LoRa"
   ]
  },
  {
   "cell_type": "code",
   "execution_count": 19,
   "metadata": {},
   "outputs": [
    {
     "name": "stdout",
     "output_type": "stream",
     "text": [
      "\n",
      "SHAPE: (444, 4)\n",
      "\n",
      "SHAPE: (47, 4)\n"
     ]
    },
    {
     "data": {
      "text/html": [
       "<div>\n",
       "<style scoped>\n",
       "    .dataframe tbody tr th:only-of-type {\n",
       "        vertical-align: middle;\n",
       "    }\n",
       "\n",
       "    .dataframe tbody tr th {\n",
       "        vertical-align: top;\n",
       "    }\n",
       "\n",
       "    .dataframe thead th {\n",
       "        text-align: right;\n",
       "    }\n",
       "</style>\n",
       "<table border=\"1\" class=\"dataframe\">\n",
       "  <thead>\n",
       "    <tr style=\"text-align: right;\">\n",
       "      <th></th>\n",
       "      <th>gwId</th>\n",
       "      <th>nodeId</th>\n",
       "      <th>RSSI_Sim</th>\n",
       "      <th>distance_between</th>\n",
       "    </tr>\n",
       "  </thead>\n",
       "  <tbody>\n",
       "    <tr>\n",
       "      <th>0</th>\n",
       "      <td>222</td>\n",
       "      <td>0</td>\n",
       "      <td>-68.5874</td>\n",
       "      <td>177.386</td>\n",
       "    </tr>\n",
       "    <tr>\n",
       "      <th>1</th>\n",
       "      <td>222</td>\n",
       "      <td>1</td>\n",
       "      <td>-99.2595</td>\n",
       "      <td>1409.330</td>\n",
       "    </tr>\n",
       "    <tr>\n",
       "      <th>2</th>\n",
       "      <td>222</td>\n",
       "      <td>2</td>\n",
       "      <td>-84.5644</td>\n",
       "      <td>522.123</td>\n",
       "    </tr>\n",
       "    <tr>\n",
       "      <th>3</th>\n",
       "      <td>222</td>\n",
       "      <td>3</td>\n",
       "      <td>-87.3230</td>\n",
       "      <td>629.109</td>\n",
       "    </tr>\n",
       "    <tr>\n",
       "      <th>4</th>\n",
       "      <td>222</td>\n",
       "      <td>4</td>\n",
       "      <td>-100.7570</td>\n",
       "      <td>1559.370</td>\n",
       "    </tr>\n",
       "  </tbody>\n",
       "</table>\n",
       "</div>"
      ],
      "text/plain": [
       "   gwId  nodeId  RSSI_Sim  distance_between\n",
       "0   222       0  -68.5874           177.386\n",
       "1   222       1  -99.2595          1409.330\n",
       "2   222       2  -84.5644           522.123\n",
       "3   222       3  -87.3230           629.109\n",
       "4   222       4 -100.7570          1559.370"
      ]
     },
     "execution_count": 19,
     "metadata": {},
     "output_type": "execute_result"
    }
   ],
   "source": [
    "# ----- DATASET\n",
    "file_to_be_analysed = phy_layer_rssi_coverage\n",
    "path_to_simulation = simulation_folder + simulation_id + file_to_be_analysed\n",
    "\n",
    "rssi_df = pd.read_csv(path_to_simulation, header=None) \n",
    "rssi_df.columns = [\"gwId\", \"nodeId\", \"RSSI_Sim\", \"distance_between\"]\n",
    "\n",
    "# print(path)\n",
    "print(\"\\nSHAPE:\", rssi_df.shape)\n",
    "rssi_df = rssi_df.iloc[0:47]\n",
    "print(\"\\nSHAPE:\", rssi_df.shape)\n",
    "rssi_df.head()\n",
    "\n",
    "# TO BE DONE - TIRAR RSSI MEDIO REFERENTE A CADA POSIÇÃO DO DATASET, OBTENDO A COBERTURA MÉDIA TOTAL DE RSSI"
   ]
  },
  {
   "cell_type": "code",
   "execution_count": 21,
   "metadata": {},
   "outputs": [],
   "source": [
    "# # Visualizando dataset criado\n",
    "# coletores_df = pd.read_csv(\"coletores_pos_dataset_elev.csv\") \n",
    "# print(\"DATASET SHAPE:\", coletores_df.shape)\n",
    "# coletores_df.head()"
   ]
  },
  {
   "cell_type": "code",
   "execution_count": 22,
   "metadata": {},
   "outputs": [],
   "source": [
    "# rssi_df['latitude'] = coletores_df['latitude']\n",
    "# rssi_df['longitude'] = coletores_df['longitude']\n",
    "# print(\"DATASET SHAPE:\", rssi_df.shape)\n",
    "# rssi_df.head(5)"
   ]
  },
  {
   "cell_type": "code",
   "execution_count": 23,
   "metadata": {},
   "outputs": [],
   "source": [
    "# rssi_df['latitude'].iloc[0:1].values[0]"
   ]
  },
  {
   "cell_type": "code",
   "execution_count": 33,
   "metadata": {},
   "outputs": [],
   "source": [
    "# heat_data = []\n",
    "# for i in range(rssi_df.shape[0]):\n",
    "#     heat_data.append([\n",
    "#         rssi_df['latitude'].iloc[i:i+1].values[0],\n",
    "#         rssi_df['longitude'].iloc[i:i+1].values[0],\n",
    "#         rssi_df['RSSI_Sim'].iloc[i:i+1].values[0]\n",
    "#     ])\n",
    "\n",
    "# print(heat_data)"
   ]
  },
  {
   "cell_type": "code",
   "execution_count": 34,
   "metadata": {},
   "outputs": [],
   "source": [
    "# LEGENDA\n",
    "# import branca\n",
    "\n",
    "# legend_html = '''\n",
    "# {% macro html(this, kwargs) %}\n",
    "# <div style=\"\n",
    "#     position: fixed; \n",
    "#     bottom: 80px;\n",
    "#     left: 20px;\n",
    "#     width: 150px;\n",
    "#     height: 80px;\n",
    "#     top: 425px;\n",
    "#     z-index:9999;\n",
    "#     font-size:13px;\n",
    "#     \">\n",
    "#     <p><a style=\"margin-left:10px;\"><b>RSSI (Dbm)</a></b></p>\n",
    "#     <p><a style=\"color:#2652ca;font-size:150%;margin-left:20px;\">&diams;</a>&emsp;<b>[0, -80]</b></p>\n",
    "#     <p><a style=\"color:#338dff;font-size:150%;margin-left:20px;\">&diams;</a>&emsp;<b>[-81, -100]</b></p>\n",
    "#     <p><a style=\"color:#33c1ff;font-size:150%;margin-left:20px;\">&diams;</a>&emsp;<b>[-101, -150]</b></p>\n",
    "# </div>\n",
    "# <div style=\"\n",
    "#     position: fixed; \n",
    "#     bottom: 30px;\n",
    "#     left: 20px;\n",
    "#     width: 150px;\n",
    "#     height: 140px; \n",
    "#     z-index:9998;\n",
    "#     font-size:14px;\n",
    "#     background-color: #ffffff;\n",
    "#     border:2px solid grey;\n",
    "#     opacity: 0.9;\n",
    "#     \">\n",
    "# </div>\n",
    "# {% endmacro %}\n",
    "# '''\n",
    "# legend = branca.element.MacroElement()\n",
    "# legend._template = branca.element.Template(legend_html)"
   ]
  },
  {
   "cell_type": "code",
   "execution_count": 24,
   "metadata": {},
   "outputs": [],
   "source": [
    "# # ---- UNICAMP DYNAMIC PLOT MAP & MARKERS OF POSITIONS THAT PACKET WERE RECEIVE\n",
    "\n",
    "# # create folium map\n",
    "# fmap = folium.Map(width= 500,height=600,location=[-22.822617, -47.067], zoom_start=15, tiles='OpenStreetMap')\n",
    "\n",
    "# # add markers\n",
    "# for data in heat_data:\n",
    "#   lat, lng, rssi = data[0], data[1], data[2]\n",
    "# #   print(lat, lng)\n",
    "# #   print('RSSI', rssi)\n",
    "#   if rssi >= -80:\n",
    "#         color_rssi = 'darkblue'\n",
    "#   elif rssi < -80 and rssi >= -100:\n",
    "#         color_rssi = 'blue'\n",
    "#   elif rssi < -100:\n",
    "#         color_rssi = \"lightblue\"\n",
    "\n",
    "#   folium.Marker(\n",
    "#       location=[float(lat), float(lng)],\n",
    "#       popup=\"Lat: \" + str(lat) + \", Lng: \" + str(lng)+ \", Rssi: \" + str(rssi),\n",
    "#       icon=folium.Icon(color=color_rssi),\n",
    "#   ).add_to(fmap)\n",
    "\n",
    "# fmap.get_root().add_child(legend)\n",
    "\n",
    "# fmap"
   ]
  },
  {
   "cell_type": "code",
   "execution_count": 17,
   "metadata": {},
   "outputs": [],
   "source": [
    "# # salve map\n",
    "# fn=\"okumura_elev.html\"\n",
    "# fmap.save(fn)"
   ]
  },
  {
   "cell_type": "code",
   "execution_count": null,
   "metadata": {},
   "outputs": [],
   "source": []
  },
  {
   "cell_type": "markdown",
   "metadata": {},
   "source": [
    "## Métricas de performance da rede completa (Mac Layer)"
   ]
  },
  {
   "cell_type": "code",
   "execution_count": 65,
   "metadata": {},
   "outputs": [
    {
     "name": "stdout",
     "output_type": "stream",
     "text": [
      "\n",
      "SHAPE: (1, 5)\n"
     ]
    },
    {
     "data": {
      "text/html": [
       "<div>\n",
       "<style scoped>\n",
       "    .dataframe tbody tr th:only-of-type {\n",
       "        vertical-align: middle;\n",
       "    }\n",
       "\n",
       "    .dataframe tbody tr th {\n",
       "        vertical-align: top;\n",
       "    }\n",
       "\n",
       "    .dataframe thead th {\n",
       "        text-align: right;\n",
       "    }\n",
       "</style>\n",
       "<table border=\"1\" class=\"dataframe\">\n",
       "  <thead>\n",
       "    <tr style=\"text-align: right;\">\n",
       "      <th></th>\n",
       "      <th>nSent</th>\n",
       "      <th>nReceiv</th>\n",
       "      <th>PER</th>\n",
       "      <th>PLR</th>\n",
       "      <th>PDR</th>\n",
       "    </tr>\n",
       "  </thead>\n",
       "  <tbody>\n",
       "    <tr>\n",
       "      <th>0</th>\n",
       "      <td>959040</td>\n",
       "      <td>956244</td>\n",
       "      <td>0.002924</td>\n",
       "      <td>0.002915</td>\n",
       "      <td>0.997085</td>\n",
       "    </tr>\n",
       "  </tbody>\n",
       "</table>\n",
       "</div>"
      ],
      "text/plain": [
       "    nSent  nReceiv       PER       PLR       PDR\n",
       "0  959040   956244  0.002924  0.002915  0.997085"
      ]
     },
     "execution_count": 65,
     "metadata": {},
     "output_type": "execute_result"
    }
   ],
   "source": [
    "# ----- DATASET\n",
    "file_to_be_analysed = mac_layer_performance_metrics\n",
    "path_to_simulation = simulation_folder + simulation_id + file_to_be_analysed\n",
    "\n",
    "net_df = pd.read_csv(path_to_simulation, header=None) \n",
    "net_df.columns = [\"nSent\", \"nReceiv\", \"PER\", \"PLR\", \"PDR\"]\n",
    "\n",
    "print(\"\\nSHAPE:\", net_df.shape)\n",
    "net_df.head()"
   ]
  },
  {
   "cell_type": "code",
   "execution_count": 66,
   "metadata": {},
   "outputs": [
    {
     "name": "stdout",
     "output_type": "stream",
     "text": [
      "NETWORK PERFORMANCE METRICS:\n",
      "\n",
      "nSent: 959040.0\n",
      "nReceiv: 956244.0\n",
      "\n",
      "PER: 0.00292394\n",
      "PLR: 0.00291542\n",
      "PDR: 0.997085\n"
     ]
    }
   ],
   "source": [
    "# Valores médios de cada coluna\n",
    "print(\"NETWORK PERFORMANCE METRICS:\\n\")\n",
    "print(\"nSent:\", net_df['nSent'].mean())\n",
    "print(\"nReceiv:\", net_df['nReceiv'].mean())\n",
    "print(\"\\nPER:\", net_df['PER'].mean())\n",
    "print(\"PLR:\", net_df['PLR'].mean())\n",
    "print(\"PDR:\", net_df['PDR'].mean())"
   ]
  },
  {
   "cell_type": "code",
   "execution_count": null,
   "metadata": {},
   "outputs": [],
   "source": []
  },
  {
   "cell_type": "markdown",
   "metadata": {},
   "source": [
    "## Métricas de Consumo"
   ]
  },
  {
   "cell_type": "code",
   "execution_count": 67,
   "metadata": {},
   "outputs": [
    {
     "name": "stdout",
     "output_type": "stream",
     "text": [
      "\n",
      "SHAPE: (720, 2)\n"
     ]
    },
    {
     "data": {
      "text/html": [
       "<div>\n",
       "<style scoped>\n",
       "    .dataframe tbody tr th:only-of-type {\n",
       "        vertical-align: middle;\n",
       "    }\n",
       "\n",
       "    .dataframe tbody tr th {\n",
       "        vertical-align: top;\n",
       "    }\n",
       "\n",
       "    .dataframe thead th {\n",
       "        text-align: right;\n",
       "    }\n",
       "</style>\n",
       "<table border=\"1\" class=\"dataframe\">\n",
       "  <thead>\n",
       "    <tr style=\"text-align: right;\">\n",
       "      <th></th>\n",
       "      <th>time</th>\n",
       "      <th>energyRemaining</th>\n",
       "    </tr>\n",
       "  </thead>\n",
       "  <tbody>\n",
       "    <tr>\n",
       "      <th>0</th>\n",
       "      <td>0.0</td>\n",
       "      <td>10000.00</td>\n",
       "    </tr>\n",
       "    <tr>\n",
       "      <th>1</th>\n",
       "      <td>3600.0</td>\n",
       "      <td>9999.95</td>\n",
       "    </tr>\n",
       "    <tr>\n",
       "      <th>2</th>\n",
       "      <td>7200.0</td>\n",
       "      <td>9999.90</td>\n",
       "    </tr>\n",
       "    <tr>\n",
       "      <th>3</th>\n",
       "      <td>10800.0</td>\n",
       "      <td>9999.85</td>\n",
       "    </tr>\n",
       "    <tr>\n",
       "      <th>4</th>\n",
       "      <td>14400.0</td>\n",
       "      <td>9999.80</td>\n",
       "    </tr>\n",
       "  </tbody>\n",
       "</table>\n",
       "</div>"
      ],
      "text/plain": [
       "      time  energyRemaining\n",
       "0      0.0         10000.00\n",
       "1   3600.0          9999.95\n",
       "2   7200.0          9999.90\n",
       "3  10800.0          9999.85\n",
       "4  14400.0          9999.80"
      ]
     },
     "execution_count": 67,
     "metadata": {},
     "output_type": "execute_result"
    }
   ],
   "source": [
    "# ----- DATASET\n",
    "file_to_be_analysed = mac_layer_power_consumption\n",
    "path_to_simulation = simulation_folder + simulation_id + file_to_be_analysed\n",
    "\n",
    "energy_df = pd.read_csv(path_to_simulation, header=None) \n",
    "energy_df.columns = [\"time\", \"energyRemaining\"]\n",
    "\n",
    "print(\"\\nSHAPE:\", energy_df.shape)\n",
    "energy_df.head()"
   ]
  },
  {
   "cell_type": "code",
   "execution_count": 68,
   "metadata": {},
   "outputs": [
    {
     "name": "stdout",
     "output_type": "stream",
     "text": [
      "\n",
      "SHAPE: (720, 3)\n",
      "\n",
      "SHAPE: (720, 4)\n"
     ]
    },
    {
     "data": {
      "text/html": [
       "<div>\n",
       "<style scoped>\n",
       "    .dataframe tbody tr th:only-of-type {\n",
       "        vertical-align: middle;\n",
       "    }\n",
       "\n",
       "    .dataframe tbody tr th {\n",
       "        vertical-align: top;\n",
       "    }\n",
       "\n",
       "    .dataframe thead th {\n",
       "        text-align: right;\n",
       "    }\n",
       "</style>\n",
       "<table border=\"1\" class=\"dataframe\">\n",
       "  <thead>\n",
       "    <tr style=\"text-align: right;\">\n",
       "      <th></th>\n",
       "      <th>time</th>\n",
       "      <th>energyRemaining</th>\n",
       "      <th>time_h</th>\n",
       "      <th>time_mes</th>\n",
       "      <th>energyRemainingPercentual</th>\n",
       "    </tr>\n",
       "  </thead>\n",
       "  <tbody>\n",
       "    <tr>\n",
       "      <th>0</th>\n",
       "      <td>0.0</td>\n",
       "      <td>10000.00</td>\n",
       "      <td>0.0</td>\n",
       "      <td>0.000000</td>\n",
       "      <td>100.0000</td>\n",
       "    </tr>\n",
       "    <tr>\n",
       "      <th>1</th>\n",
       "      <td>3600.0</td>\n",
       "      <td>9999.95</td>\n",
       "      <td>1.0</td>\n",
       "      <td>0.001370</td>\n",
       "      <td>99.9995</td>\n",
       "    </tr>\n",
       "    <tr>\n",
       "      <th>2</th>\n",
       "      <td>7200.0</td>\n",
       "      <td>9999.90</td>\n",
       "      <td>2.0</td>\n",
       "      <td>0.002740</td>\n",
       "      <td>99.9990</td>\n",
       "    </tr>\n",
       "    <tr>\n",
       "      <th>3</th>\n",
       "      <td>10800.0</td>\n",
       "      <td>9999.85</td>\n",
       "      <td>3.0</td>\n",
       "      <td>0.004110</td>\n",
       "      <td>99.9985</td>\n",
       "    </tr>\n",
       "    <tr>\n",
       "      <th>4</th>\n",
       "      <td>14400.0</td>\n",
       "      <td>9999.80</td>\n",
       "      <td>4.0</td>\n",
       "      <td>0.005479</td>\n",
       "      <td>99.9980</td>\n",
       "    </tr>\n",
       "  </tbody>\n",
       "</table>\n",
       "</div>"
      ],
      "text/plain": [
       "      time  energyRemaining  time_h  time_mes  energyRemainingPercentual\n",
       "0      0.0         10000.00     0.0  0.000000                   100.0000\n",
       "1   3600.0          9999.95     1.0  0.001370                    99.9995\n",
       "2   7200.0          9999.90     2.0  0.002740                    99.9990\n",
       "3  10800.0          9999.85     3.0  0.004110                    99.9985\n",
       "4  14400.0          9999.80     4.0  0.005479                    99.9980"
      ]
     },
     "execution_count": 68,
     "metadata": {},
     "output_type": "execute_result"
    }
   ],
   "source": [
    "# tempo para hora\n",
    "energy_df['time_h'] = energy_df['time'] / 3600.0\n",
    "print(\"\\nSHAPE:\", energy_df.shape)\n",
    "\n",
    "# hora para mês\n",
    "energy_df['time_mes'] = energy_df['time_h'] / 730\n",
    "print(\"\\nSHAPE:\", energy_df.shape)\n",
    "\n",
    "# Joules p 100%\n",
    "total = 10000.0\n",
    "energy_df['energyRemainingPercentual'] = (energy_df['energyRemaining'] / total) *100\n",
    "energy_df.head()"
   ]
  },
  {
   "cell_type": "code",
   "execution_count": 69,
   "metadata": {},
   "outputs": [
    {
     "data": {
      "image/png": "[encoded data removed]",
      "text/plain": [
       "<Figure size 720x360 with 1 Axes>"
      ]
     },
     "metadata": {
      "needs_background": "light"
     },
     "output_type": "display_data"
    }
   ],
   "source": [
    "# graph measures x time (h)\n",
    "\n",
    "fig, ax = plt.subplots(figsize=(10,5))\n",
    "# plt.figure(figsize=(10,5))\n",
    "ax = plt.gca()\n",
    "\n",
    "energy_df.plot(kind='line',x=\"time_mes\", y='energyRemainingPercentual',label='SX1272', color = 'blue', ax=ax)\n",
    "\n",
    "\n",
    "plt.xlabel('Período de Teste (mês)', fontweight='bold', fontsize=14,labelpad=5)\n",
    "plt.ylabel('Energia (100%)', fontweight='bold', fontsize=14, labelpad=5)\n",
    "\n",
    "ttl = ax.title\n",
    "ttl.set_position([.5, 1.3])\n",
    "\n",
    "plt.title('Energia Remanescente x Tempo (mês)',fontweight='bold',fontsize=14)\n",
    "\n",
    "from matplotlib.ticker import FormatStrFormatter\n",
    "ax.yaxis.set_major_formatter(FormatStrFormatter('%.1f'))\n",
    "\n",
    "plt.show()\n",
    "fig.savefig('energy_result.png',bbox_inches='tight')"
   ]
  },
  {
   "cell_type": "code",
   "execution_count": 51,
   "metadata": {},
   "outputs": [],
   "source": [
    "# energy_df.describe()"
   ]
  },
  {
   "cell_type": "code",
   "execution_count": 34,
   "metadata": {},
   "outputs": [],
   "source": [
    "# totalEnergy = energy_df['energyRemaining'].max()\n",
    "# energyRemain = energy_df['energyRemaining'].min()\n",
    "# totalReceivePkts = 94\n",
    "# print(\"Total Energy:\", totalEnergy)\n",
    "# print(\"Energy Remain:\", energyRemain)\n",
    "# print(\"Total Receive Pkts:\", totalReceivePkts)\n",
    "\n",
    "# NEC = (totalEnergy - energyRemain)/totalReceivePkts\n",
    "# NEC"
   ]
  },
  {
   "cell_type": "code",
   "execution_count": null,
   "metadata": {},
   "outputs": [],
   "source": []
  },
  {
   "cell_type": "code",
   "execution_count": null,
   "metadata": {},
   "outputs": [],
   "source": []
  },
  {
   "cell_type": "markdown",
   "metadata": {},
   "source": [
    "# Análise entre simulações"
   ]
  },
  {
   "cell_type": "markdown",
   "metadata": {},
   "source": [
    "###  Métricas da camada PHY"
   ]
  },
  {
   "cell_type": "code",
   "execution_count": 71,
   "metadata": {},
   "outputs": [],
   "source": [
    "current_path = os.getcwd()\n",
    "current_path = '/home/wasp/Desktop/Mestrado/ns3-bmap/NS3/lorawan-metricas-exp/'"
   ]
  },
  {
   "cell_type": "code",
   "execution_count": 73,
   "metadata": {},
   "outputs": [
    {
     "name": "stdout",
     "output_type": "stream",
     "text": [
      "\n",
      "SHAPE: (2, 6)\n",
      "SHAPE: (1, 6)\n",
      "SHAPE: (1, 6)\n"
     ]
    },
    {
     "data": {
      "text/html": [
       "<div>\n",
       "<style scoped>\n",
       "    .dataframe tbody tr th:only-of-type {\n",
       "        vertical-align: middle;\n",
       "    }\n",
       "\n",
       "    .dataframe tbody tr th {\n",
       "        vertical-align: top;\n",
       "    }\n",
       "\n",
       "    .dataframe thead th {\n",
       "        text-align: right;\n",
       "    }\n",
       "</style>\n",
       "<table border=\"1\" class=\"dataframe\">\n",
       "  <thead>\n",
       "    <tr style=\"text-align: right;\">\n",
       "      <th></th>\n",
       "      <th>gwID</th>\n",
       "      <th>received</th>\n",
       "      <th>interfered</th>\n",
       "      <th>noMoreReceivers</th>\n",
       "      <th>underSensitivity</th>\n",
       "      <th>lost</th>\n",
       "    </tr>\n",
       "  </thead>\n",
       "  <tbody>\n",
       "    <tr>\n",
       "      <th>0</th>\n",
       "      <td>0</td>\n",
       "      <td>956244</td>\n",
       "      <td>2796</td>\n",
       "      <td>0</td>\n",
       "      <td>0</td>\n",
       "      <td>0</td>\n",
       "    </tr>\n",
       "  </tbody>\n",
       "</table>\n",
       "</div>"
      ],
      "text/plain": [
       "   gwID  received  interfered  noMoreReceivers  underSensitivity  lost\n",
       "0     0    956244        2796                0                 0     0"
      ]
     },
     "execution_count": 73,
     "metadata": {},
     "output_type": "execute_result"
    }
   ],
   "source": [
    "# Open Datasets - Camada phy\n",
    "\n",
    "path_cenario_0 = current_path + \"/simulations/01/phy_results.txt\"\n",
    "path_cenario_1 = current_path + \"/simulations/02/phy_results.txt\"\n",
    "path_cenario_2 = current_path + \"/simulations/03/phy_results.txt\"\n",
    "\n",
    "cenario_0_df = pd.read_csv(path_cenario_0, header=None) \n",
    "cenario_0_df.columns = [\"gwID\", \"received\", \"interfered\", \"noMoreReceivers\", \"underSensitivity\", \"lost\"]\n",
    "print(\"\\nSHAPE:\", cenario_0_df.shape)\n",
    "# cenario_0_df.head()\n",
    "\n",
    "cenario_1_df = pd.read_csv(path_cenario_1, header=None) \n",
    "cenario_1_df.columns = [\"gwID\", \"received\", \"interfered\", \"noMoreReceivers\", \"underSensitivity\", \"lost\"]\n",
    "print(\"SHAPE:\", cenario_1_df.shape)\n",
    "# cenario_1_df.head()\n",
    "\n",
    "cenario_2_df = pd.read_csv(path_cenario_2, header=None) \n",
    "cenario_2_df.columns = [\"gwID\", \"received\", \"interfered\", \"noMoreReceivers\", \"underSensitivity\", \"lost\"]\n",
    "print(\"SHAPE:\", cenario_2_df.shape)\n",
    "cenario_2_df.head()"
   ]
  },
  {
   "cell_type": "code",
   "execution_count": null,
   "metadata": {},
   "outputs": [],
   "source": [
    "cenario_0_df['received'].mean()"
   ]
  },
  {
   "cell_type": "code",
   "execution_count": 75,
   "metadata": {},
   "outputs": [],
   "source": [
    "def percent_conversion (total_pkg_expected, number):\n",
    "    percent = (100 * number)/total_pkg_expected\n",
    "    return percent"
   ]
  },
  {
   "cell_type": "code",
   "execution_count": 78,
   "metadata": {
    "scrolled": true
   },
   "outputs": [
    {
     "data": {
      "image/png": "[encoded data removed]",
      "text/plain": [
       "<Figure size 432x288 with 1 Axes>"
      ]
     },
     "metadata": {
      "needs_background": "light"
     },
     "output_type": "display_data"
    }
   ],
   "source": [
    "labels = ['1 ano', '30d - 30min', '30d -10min'] \n",
    "\n",
    "total_pkg_01 = 324120\n",
    "total_pkg_02 = 319680\n",
    "total_pkg_03 = 959040\n",
    "\n",
    "received = [percent_conversion(total_pkg_01, cenario_0_df['received'].mean()),\n",
    "            percent_conversion(total_pkg_02, cenario_1_df['received'].mean()),\n",
    "            percent_conversion(total_pkg_03, cenario_2_df['received'].mean())]\n",
    "\n",
    "interfered = [percent_conversion(total_pkg_01, cenario_0_df['interfered'].mean()),\n",
    "            percent_conversion(total_pkg_02, cenario_1_df['interfered'].mean()),\n",
    "            percent_conversion(total_pkg_03, cenario_2_df['interfered'].mean())]\n",
    "\n",
    "noMoreReceivers = [percent_conversion(total_pkg_01, cenario_0_df['noMoreReceivers'].mean()),\n",
    "            percent_conversion(total_pkg_02, cenario_1_df['noMoreReceivers'].mean()),\n",
    "            percent_conversion(total_pkg_03, cenario_2_df['noMoreReceivers'].mean())]\n",
    "\n",
    "underSensitivity = [percent_conversion(total_pkg_01, cenario_0_df['underSensitivity'].mean()),\n",
    "            percent_conversion(total_pkg_02, cenario_1_df['underSensitivity'].mean()),\n",
    "            percent_conversion(total_pkg_03, cenario_2_df['underSensitivity'].mean())]\n",
    "\n",
    "\n",
    "x = np.arange(len(labels))  # the label locations\n",
    "width = 0.2  # the width of the bars\n",
    "\n",
    "fig, ax = plt.subplots()\n",
    "rects1 = ax.bar(x - 2*width, received, width, label='Received')\n",
    "rects2 = ax.bar(x - width, interfered, width, label='Interfered')\n",
    "rects3 = ax.bar(x , noMoreReceivers, width, label='NoMoreReceivers')\n",
    "rects4 = ax.bar(x + width, underSensitivity, width, label='UnderSensitivity')\n",
    "\n",
    "\n",
    "# Add some text for labels, title and custom x-axis tick labels, etc.\n",
    "ax.set_ylabel('Nº of Packets sent (%)')\n",
    "ax.set_xlabel('Payload size')\n",
    "ax.set_title(' Performance at PHY level of a specific gateway \\n- SF7, 222 nodes', fontweight='bold', fontsize=12, y=1.05)\n",
    "ax.set_xticks(x)\n",
    "ax.set_xticklabels(labels)\n",
    "ax.set_ylim([0, 110]) \n",
    "ax.legend(bbox_to_anchor=(1.01, 1.01), prop={'size': 10})\n",
    "\n",
    "\n",
    "def autolabel(rects):\n",
    "    \"\"\"Attach a text label above each bar in *rects*, displaying its height.\"\"\"\n",
    "    for rect in rects:\n",
    "        height = rect.get_height()\n",
    "        ax.annotate('{}'.format(height),\n",
    "                    xy=(rect.get_x() + rect.get_width() / 2, height),\n",
    "                    xytext=(0, 3),  # 3 points vertical offset\n",
    "                    textcoords=\"offset points\",\n",
    "                    ha='center', va='bottom')\n",
    "\n",
    "fig.tight_layout()\n",
    "\n",
    "plt.show()\n",
    "# fig.savefig('phy_performance.png',bbox_inches='tight')"
   ]
  },
  {
   "cell_type": "code",
   "execution_count": null,
   "metadata": {},
   "outputs": [],
   "source": []
  },
  {
   "cell_type": "markdown",
   "metadata": {},
   "source": [
    "## Métricas de performance da rede completa (Mac Layer)"
   ]
  },
  {
   "cell_type": "code",
   "execution_count": 79,
   "metadata": {},
   "outputs": [
    {
     "name": "stdout",
     "output_type": "stream",
     "text": [
      "\n",
      "SHAPE: (2, 5)\n",
      "SHAPE: (1, 6)\n",
      "SHAPE: (1, 5)\n"
     ]
    },
    {
     "data": {
      "text/html": [
       "<div>\n",
       "<style scoped>\n",
       "    .dataframe tbody tr th:only-of-type {\n",
       "        vertical-align: middle;\n",
       "    }\n",
       "\n",
       "    .dataframe tbody tr th {\n",
       "        vertical-align: top;\n",
       "    }\n",
       "\n",
       "    .dataframe thead th {\n",
       "        text-align: right;\n",
       "    }\n",
       "</style>\n",
       "<table border=\"1\" class=\"dataframe\">\n",
       "  <thead>\n",
       "    <tr style=\"text-align: right;\">\n",
       "      <th></th>\n",
       "      <th>nSent</th>\n",
       "      <th>nReceiv</th>\n",
       "      <th>PER</th>\n",
       "      <th>PLR</th>\n",
       "      <th>PDR</th>\n",
       "    </tr>\n",
       "  </thead>\n",
       "  <tbody>\n",
       "    <tr>\n",
       "      <th>0</th>\n",
       "      <td>959040</td>\n",
       "      <td>956244</td>\n",
       "      <td>0.002924</td>\n",
       "      <td>0.002915</td>\n",
       "      <td>0.997085</td>\n",
       "    </tr>\n",
       "  </tbody>\n",
       "</table>\n",
       "</div>"
      ],
      "text/plain": [
       "    nSent  nReceiv       PER       PLR       PDR\n",
       "0  959040   956244  0.002924  0.002915  0.997085"
      ]
     },
     "execution_count": 79,
     "metadata": {},
     "output_type": "execute_result"
    }
   ],
   "source": [
    "# ----- Open Datasets - Camada MAC\n",
    "\n",
    "file = \"net_results.txt\"\n",
    "path_cenario_0 = current_path + \"/simulations/01/\" + file\n",
    "path_cenario_1 = current_path + \"/simulations/02/\" + file\n",
    "path_cenario_2 = current_path + \"/simulations/03/\" + file\n",
    "\n",
    "net_0_df = pd.read_csv(path_cenario_0, header=None) \n",
    "net_0_df.columns = [\"nSent\", \"nReceiv\", \"PER\", \"PLR\", \"PDR\"]\n",
    "print(\"\\nSHAPE:\", net_0_df.shape)\n",
    "# net_0_df.head()\n",
    "\n",
    "net_1_df = pd.read_csv(path_cenario_1, header=None) \n",
    "net_1_df.columns = [\"nSent\", \"nReceiv\", \"PER\", \"PLR\", \"PDR\"]\n",
    "print(\"SHAPE:\", cenario_1_df.shape)\n",
    "# net_1_df.head()\n",
    "\n",
    "net_2_df = pd.read_csv(path_cenario_2, header=None) \n",
    "net_2_df.columns = [\"nSent\", \"nReceiv\", \"PER\", \"PLR\", \"PDR\"]\n",
    "print(\"SHAPE:\", net_2_df.shape)\n",
    "net_2_df.head()"
   ]
  },
  {
   "cell_type": "code",
   "execution_count": 87,
   "metadata": {},
   "outputs": [
    {
     "data": {
      "image/png": "[encoded data removed]",
      "text/plain": [
       "<Figure size 432x288 with 1 Axes>"
      ]
     },
     "metadata": {
      "needs_background": "light"
     },
     "output_type": "display_data"
    }
   ],
   "source": [
    "labels = ['1 ano', '30d - 30min', '30d -10min'] \n",
    "\n",
    "pdr = [net_0_df['PDR'].mean(), net_1_df['PDR'].mean(), net_2_df['PDR'].mean()]\n",
    "\n",
    "x = np.arange(len(labels))  # the label locations\n",
    "width = 0.5  # the width of the bars\n",
    "\n",
    "fig, ax = plt.subplots()\n",
    "rects1 = ax.bar(x, pdr, width, label='PDR')\n",
    "\n",
    "\n",
    "# Add some text for labels, title and custom x-axis tick labels, etc.\n",
    "ax.set_ylabel('PDR')\n",
    "ax.set_title('Global performance at MAC level of the whole network \\n- SF7, 222 nodes', fontweight='bold', fontsize=12, y=1.05)\n",
    "ax.set_xticks(x)\n",
    "ax.set_xticklabels(labels)\n",
    "ax.set_ylim([0, max(pdr) + max(pdr)/3]) \n",
    "ax.legend()\n",
    "\n",
    "\n",
    "def autolabel(rects):\n",
    "    \"\"\"Attach a text label above each bar in *rects*, displaying its height.\"\"\"\n",
    "    for rect in rects:\n",
    "        height = rect.get_height()\n",
    "        ax.annotate('{}'.format(height),\n",
    "                    xy=(rect.get_x() + rect.get_width() / 2, height),\n",
    "                    xytext=(0, 3),  # 3 points vertical offset\n",
    "                    textcoords=\"offset points\",\n",
    "                    ha='center', va='bottom')\n",
    "\n",
    "\n",
    "autolabel(rects1)\n",
    "\n",
    "\n",
    "fig.tight_layout()\n",
    "\n",
    "plt.show()\n",
    "fig.savefig('pdr.png',bbox_inches='tight')"
   ]
  },
  {
   "cell_type": "code",
   "execution_count": null,
   "metadata": {},
   "outputs": [],
   "source": [
    "# Delay"
   ]
  },
  {
   "cell_type": "code",
   "execution_count": null,
   "metadata": {},
   "outputs": [],
   "source": []
  },
  {
   "cell_type": "code",
   "execution_count": null,
   "metadata": {},
   "outputs": [],
   "source": [
    "# ----- Open Datasets - Camada MAC\n",
    "\n",
    "file = \"delay_results_coletores_unicamp.txt\"\n",
    "path_cenario_0 = current_path + \"/simulations/00/\" + file\n",
    "path_cenario_1 = current_path + \"/simulations/01/\" + file\n",
    "path_cenario_2 = current_path + \"/simulations/02/\" + file\n",
    "\n",
    "delay_0_df = pd.read_csv(path_cenario_0, header=None) \n",
    "# Average delay (ms),  Average delay (ns) per SF, soma dos Delays per SF (ns):\n",
    "delay_0_df.columns = [\"sent\", \"receive\", \"average_delay_s\", \"average_delay_ns\", \"delay_p_sf_ns\"]\n",
    "print(\"\\nSHAPE:\", net_0_df.shape)\n",
    "# delay_0_df.head()\n",
    "\n",
    "delay_1_df = pd.read_csv(path_cenario_1, header=None) \n",
    "delay_1_df.columns = [\"sent\", \"receive\", \"average_delay_s\", \"average_delay_ns\", \"delay_p_sf_ns\"]\n",
    "print(\"SHAPE:\", delay_1_df.shape)\n",
    "# delay_1_df.head()\n",
    "\n",
    "delay_2_df = pd.read_csv(path_cenario_2, header=None) \n",
    "delay_2_df.columns = [\"sent\", \"receive\", \"average_delay_s\", \"average_delay_ns\", \"delay_p_sf_ns\"]\n",
    "print(\"SHAPE:\", delay_2_df.shape)\n",
    "delay_2_df.head()"
   ]
  },
  {
   "cell_type": "code",
   "execution_count": null,
   "metadata": {},
   "outputs": [],
   "source": [
    "delay_2_df['average_delay_s'].mean()"
   ]
  },
  {
   "cell_type": "code",
   "execution_count": null,
   "metadata": {},
   "outputs": [],
   "source": [
    "labels = ['11 bytes', '51 bytes', '222 bytes']\n",
    "\n",
    "delay = [delay_0_df['average_delay_s'].mean(), delay_1_df['average_delay_s'].mean(),\n",
    "       delay_2_df['average_delay_s'].mean()]\n",
    "\n",
    "x = np.arange(len(labels))  # the label locations\n",
    "width = 0.5  # the width of the bars\n",
    "\n",
    "fig, ax = plt.subplots()\n",
    "rects1 = ax.bar(x, delay, width, label='Average Delay (ms)')\n",
    "\n",
    "\n",
    "# Add some text for labels, title and custom x-axis tick labels, etc.\n",
    "ax.set_ylabel('Average Delay (ms)')\n",
    "ax.set_title('Average Delay (ms) - 1 day, SF7, 47 nodes', fontweight='bold', fontsize=12, y=1.05)\n",
    "ax.set_xticks(x)\n",
    "ax.set_xticklabels(labels)\n",
    "ax.set_ylim([0, 400]) \n",
    "ax.legend()\n",
    "\n",
    "\n",
    "def autolabel(rects):\n",
    "    \"\"\"Attach a text label above each bar in *rects*, displaying its height.\"\"\"\n",
    "    for rect in rects:\n",
    "        height = rect.get_height()\n",
    "        ax.annotate('{}'.format(height),\n",
    "                    xy=(rect.get_x() + rect.get_width() / 2, height),\n",
    "                    xytext=(0, 3),  # 3 points vertical offset\n",
    "                    textcoords=\"offset points\",\n",
    "                    ha='center', va='bottom')\n",
    "\n",
    "\n",
    "autolabel(rects1)\n",
    "\n",
    "\n",
    "fig.tight_layout()\n",
    "\n",
    "plt.show()\n",
    "# fig.savefig('pdr.png',bbox_inches='tight')"
   ]
  },
  {
   "cell_type": "code",
   "execution_count": null,
   "metadata": {},
   "outputs": [],
   "source": []
  },
  {
   "cell_type": "code",
   "execution_count": null,
   "metadata": {},
   "outputs": [],
   "source": []
  },
  {
   "cell_type": "code",
   "execution_count": 82,
   "metadata": {},
   "outputs": [
    {
     "name": "stdout",
     "output_type": "stream",
     "text": [
      "\n",
      "SHAPE: (720, 5)\n"
     ]
    },
    {
     "data": {
      "text/html": [
       "<div>\n",
       "<style scoped>\n",
       "    .dataframe tbody tr th:only-of-type {\n",
       "        vertical-align: middle;\n",
       "    }\n",
       "\n",
       "    .dataframe tbody tr th {\n",
       "        vertical-align: top;\n",
       "    }\n",
       "\n",
       "    .dataframe thead th {\n",
       "        text-align: right;\n",
       "    }\n",
       "</style>\n",
       "<table border=\"1\" class=\"dataframe\">\n",
       "  <thead>\n",
       "    <tr style=\"text-align: right;\">\n",
       "      <th></th>\n",
       "      <th>time</th>\n",
       "      <th>energyRemaining</th>\n",
       "      <th>time_h</th>\n",
       "      <th>time_mes</th>\n",
       "      <th>energyRemainingPercentual</th>\n",
       "    </tr>\n",
       "  </thead>\n",
       "  <tbody>\n",
       "    <tr>\n",
       "      <th>0</th>\n",
       "      <td>0.0</td>\n",
       "      <td>10000.00</td>\n",
       "      <td>0.0</td>\n",
       "      <td>0.000000</td>\n",
       "      <td>100.0000</td>\n",
       "    </tr>\n",
       "    <tr>\n",
       "      <th>1</th>\n",
       "      <td>3600.0</td>\n",
       "      <td>9999.95</td>\n",
       "      <td>1.0</td>\n",
       "      <td>0.001370</td>\n",
       "      <td>99.9995</td>\n",
       "    </tr>\n",
       "    <tr>\n",
       "      <th>2</th>\n",
       "      <td>7200.0</td>\n",
       "      <td>9999.90</td>\n",
       "      <td>2.0</td>\n",
       "      <td>0.002740</td>\n",
       "      <td>99.9990</td>\n",
       "    </tr>\n",
       "    <tr>\n",
       "      <th>3</th>\n",
       "      <td>10800.0</td>\n",
       "      <td>9999.85</td>\n",
       "      <td>3.0</td>\n",
       "      <td>0.004110</td>\n",
       "      <td>99.9985</td>\n",
       "    </tr>\n",
       "    <tr>\n",
       "      <th>4</th>\n",
       "      <td>14400.0</td>\n",
       "      <td>9999.80</td>\n",
       "      <td>4.0</td>\n",
       "      <td>0.005479</td>\n",
       "      <td>99.9980</td>\n",
       "    </tr>\n",
       "  </tbody>\n",
       "</table>\n",
       "</div>"
      ],
      "text/plain": [
       "      time  energyRemaining  time_h  time_mes  energyRemainingPercentual\n",
       "0      0.0         10000.00     0.0  0.000000                   100.0000\n",
       "1   3600.0          9999.95     1.0  0.001370                    99.9995\n",
       "2   7200.0          9999.90     2.0  0.002740                    99.9990\n",
       "3  10800.0          9999.85     3.0  0.004110                    99.9985\n",
       "4  14400.0          9999.80     4.0  0.005479                    99.9980"
      ]
     },
     "execution_count": 82,
     "metadata": {},
     "output_type": "execute_result"
    }
   ],
   "source": [
    "# ----- Open Datasets - Consumo\n",
    "\n",
    "file = \"energy_results.txt\"\n",
    "path_cenario_1 = current_path + \"/simulations/01/\" + file\n",
    "path_cenario_2 = current_path + \"/simulations/02/\" + file\n",
    "path_cenario_3 = current_path + \"/simulations/03/\" + file\n",
    "\n",
    "energy_df_1 = pd.read_csv(path_cenario_1, header=None) \n",
    "energy_df_1.columns = [\"time\", \"energyRemaining\"]\n",
    "\n",
    "energy_df_2 = pd.read_csv(path_cenario_2, header=None) \n",
    "energy_df_2.columns = [\"time\", \"energyRemaining\"]\n",
    "\n",
    "energy_df_3 = pd.read_csv(path_cenario_3, header=None) \n",
    "energy_df_3.columns = [\"time\", \"energyRemaining\"]\n",
    "\n",
    "print(\"\\nSHAPE:\", energy_df.shape)\n",
    "energy_df.head()"
   ]
  },
  {
   "cell_type": "code",
   "execution_count": 83,
   "metadata": {},
   "outputs": [
    {
     "name": "stdout",
     "output_type": "stream",
     "text": [
      "\n",
      "SHAPE: (17520, 3)\n",
      "\n",
      "SHAPE: (17520, 4)\n",
      "\n",
      "SHAPE: (720, 3)\n",
      "\n",
      "SHAPE: (720, 4)\n",
      "\n",
      "SHAPE: (720, 3)\n",
      "\n",
      "SHAPE: (720, 4)\n"
     ]
    },
    {
     "data": {
      "text/html": [
       "<div>\n",
       "<style scoped>\n",
       "    .dataframe tbody tr th:only-of-type {\n",
       "        vertical-align: middle;\n",
       "    }\n",
       "\n",
       "    .dataframe tbody tr th {\n",
       "        vertical-align: top;\n",
       "    }\n",
       "\n",
       "    .dataframe thead th {\n",
       "        text-align: right;\n",
       "    }\n",
       "</style>\n",
       "<table border=\"1\" class=\"dataframe\">\n",
       "  <thead>\n",
       "    <tr style=\"text-align: right;\">\n",
       "      <th></th>\n",
       "      <th>time</th>\n",
       "      <th>energyRemaining</th>\n",
       "      <th>time_h</th>\n",
       "      <th>time_mes</th>\n",
       "      <th>energyRemainingPercentual</th>\n",
       "    </tr>\n",
       "  </thead>\n",
       "  <tbody>\n",
       "    <tr>\n",
       "      <th>0</th>\n",
       "      <td>0.0</td>\n",
       "      <td>10000.00</td>\n",
       "      <td>0.0</td>\n",
       "      <td>0.000000</td>\n",
       "      <td>100.0000</td>\n",
       "    </tr>\n",
       "    <tr>\n",
       "      <th>1</th>\n",
       "      <td>3600.0</td>\n",
       "      <td>9999.95</td>\n",
       "      <td>1.0</td>\n",
       "      <td>0.001370</td>\n",
       "      <td>99.9995</td>\n",
       "    </tr>\n",
       "    <tr>\n",
       "      <th>2</th>\n",
       "      <td>7200.0</td>\n",
       "      <td>9999.90</td>\n",
       "      <td>2.0</td>\n",
       "      <td>0.002740</td>\n",
       "      <td>99.9990</td>\n",
       "    </tr>\n",
       "    <tr>\n",
       "      <th>3</th>\n",
       "      <td>10800.0</td>\n",
       "      <td>9999.85</td>\n",
       "      <td>3.0</td>\n",
       "      <td>0.004110</td>\n",
       "      <td>99.9985</td>\n",
       "    </tr>\n",
       "    <tr>\n",
       "      <th>4</th>\n",
       "      <td>14400.0</td>\n",
       "      <td>9999.80</td>\n",
       "      <td>4.0</td>\n",
       "      <td>0.005479</td>\n",
       "      <td>99.9980</td>\n",
       "    </tr>\n",
       "  </tbody>\n",
       "</table>\n",
       "</div>"
      ],
      "text/plain": [
       "      time  energyRemaining  time_h  time_mes  energyRemainingPercentual\n",
       "0      0.0         10000.00     0.0  0.000000                   100.0000\n",
       "1   3600.0          9999.95     1.0  0.001370                    99.9995\n",
       "2   7200.0          9999.90     2.0  0.002740                    99.9990\n",
       "3  10800.0          9999.85     3.0  0.004110                    99.9985\n",
       "4  14400.0          9999.80     4.0  0.005479                    99.9980"
      ]
     },
     "execution_count": 83,
     "metadata": {},
     "output_type": "execute_result"
    }
   ],
   "source": [
    "# tempo para hora\n",
    "energy_df_1['time_h'] = energy_df_1['time'] / 3600.0\n",
    "print(\"\\nSHAPE:\", energy_df_1.shape)\n",
    "\n",
    "# hora para mês\n",
    "energy_df_1['time_mes'] = energy_df_1['time_h'] / 730\n",
    "print(\"\\nSHAPE:\", energy_df_1.shape)\n",
    "\n",
    "# Joules p 100%\n",
    "total = 10000.0\n",
    "energy_df_1['energyRemainingPercentual'] = (energy_df_1['energyRemaining'] / total) *100\n",
    "energy_df_1.head()\n",
    "\n",
    "# tempo para hora\n",
    "energy_df_2['time_h'] = energy_df_2['time'] / 3600.0\n",
    "print(\"\\nSHAPE:\", energy_df_2.shape)\n",
    "\n",
    "# hora para mês\n",
    "energy_df_2['time_mes'] = energy_df_2['time_h'] / 730\n",
    "print(\"\\nSHAPE:\", energy_df_2.shape)\n",
    "\n",
    "# Joules p 100%\n",
    "total = 10000.0\n",
    "energy_df_2['energyRemainingPercentual'] = (energy_df_2['energyRemaining'] / total) *100\n",
    "energy_df_2.head()\n",
    "\n",
    "\n",
    "# tempo para hora\n",
    "energy_df_3['time_h'] = energy_df_3['time'] / 3600.0\n",
    "print(\"\\nSHAPE:\", energy_df_3.shape)\n",
    "\n",
    "# hora para mês\n",
    "energy_df_3['time_mes'] = energy_df_3['time_h'] / 730\n",
    "print(\"\\nSHAPE:\", energy_df_3.shape)\n",
    "\n",
    "# Joules p 100%\n",
    "total = 10000.0\n",
    "energy_df_3['energyRemainingPercentual'] = (energy_df_3['energyRemaining'] / total) *100\n",
    "energy_df_3.head()"
   ]
  },
  {
   "cell_type": "code",
   "execution_count": 86,
   "metadata": {},
   "outputs": [
    {
     "data": {
      "image/png": "[encoded data removed]",
      "text/plain": [
       "<Figure size 720x360 with 1 Axes>"
      ]
     },
     "metadata": {
      "needs_background": "light"
     },
     "output_type": "display_data"
    }
   ],
   "source": [
    "# graph measures x time (h)\n",
    "\n",
    "fig, ax = plt.subplots(figsize=(10,5))\n",
    "# plt.figure(figsize=(10,5))\n",
    "ax = plt.gca()\n",
    "\n",
    "# energy_df_1.plot(kind='line',x=\"time_mes\", y='energyRemainingPercentual',label='SX1272', color = 'blue', ax=ax)\n",
    "energy_df_2.plot(kind='line',x=\"time_mes\", y='energyRemainingPercentual',label='30min', color = 'blue', ax=ax)\n",
    "energy_df_3.plot(kind='line',x=\"time_mes\", y='energyRemainingPercentual',label='10min', color = 'red', ax=ax)\n",
    "\n",
    "\n",
    "plt.xlabel('Período de Teste (mês)', fontweight='bold', fontsize=14,labelpad=5)\n",
    "plt.ylabel('Energia (100%)', fontweight='bold', fontsize=14, labelpad=5)\n",
    "\n",
    "ttl = ax.title\n",
    "ttl.set_position([.5, 1.3])\n",
    "\n",
    "plt.title('Energia Remanescente x Tempo (mês)',fontweight='bold',fontsize=14)\n",
    "\n",
    "from matplotlib.ticker import FormatStrFormatter\n",
    "ax.yaxis.set_major_formatter(FormatStrFormatter('%.1f'))\n",
    "\n",
    "plt.show()\n",
    "fig.savefig('energy_result.png',bbox_inches='tight')"
   ]
  }
 ],
 "metadata": {
  "kernelspec": {
   "display_name": "Python 3",
   "language": "python",
   "name": "python3"
  },
  "language_info": {
   "codemirror_mode": {
    "name": "ipython",
    "version": 3
   },
   "file_extension": ".py",
   "mimetype": "text/x-python",
   "name": "python",
   "nbconvert_exporter": "python",
   "pygments_lexer": "ipython3",
   "version": "3.8.11"
  }
 },
 "nbformat": 4,
 "nbformat_minor": 4
}
