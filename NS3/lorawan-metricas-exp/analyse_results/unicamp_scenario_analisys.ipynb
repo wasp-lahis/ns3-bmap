{
 "cells": [
  {
   "cell_type": "code",
   "execution_count": 1,
   "metadata": {},
   "outputs": [],
   "source": [
    "# ----- LIBS\n",
    "\n",
    "# systems access\n",
    "import os \n",
    "\n",
    "# data analysis\n",
    "import numpy as np\n",
    "import pandas as pd\n",
    "\n",
    "# charts\n",
    "import matplotlib.pyplot as plt\n",
    "import matplotlib.patches as patches\n",
    "import matplotlib.lines as mlines\n",
    "\n",
    "# geoprocessing\n",
    "import folium\n",
    "from folium import plugins\n",
    "import geopandas as gpd\n",
    "from shapely.geometry import Point"
   ]
  },
  {
   "cell_type": "markdown",
   "metadata": {},
   "source": [
    "# Roteiro\n",
    "\n",
    "- Análise de simulação\n",
    "    - Posicionamento e SF\n",
    "    - Métricas da camada PHY\n",
    "    - Cobertura/Alcance Lora\n",
    "    - Métricas de performance da rede completa (Mac Layer)\n",
    "    - Métricas de Consumo\\\n",
    "    \n",
    "    \n",
    "- Análise entre simulações\n",
    "    - variação de Payload\n",
    "    - variação de appPeriod\n",
    "    - variação de nº de nós"
   ]
  },
  {
   "cell_type": "markdown",
   "metadata": {},
   "source": [
    "# Análise de simulação"
   ]
  },
  {
   "cell_type": "code",
   "execution_count": 2,
   "metadata": {},
   "outputs": [],
   "source": [
    "current_path = os.getcwd()\n",
    "current_path = '/home/wasp/Desktop/Mestrado/ns3-bmap/NS3/lorawan-metricas-exp/'"
   ]
  },
  {
   "cell_type": "code",
   "execution_count": 54,
   "metadata": {},
   "outputs": [],
   "source": [
    "# SET NUMBER OF SIMULATION REPEAT\n",
    "NUM_SIM_REPEAT = 10\n",
    "\n",
    "# SET NUMBER OF NODES\n",
    "NUM_NODES = 222\n",
    "\n",
    "# SET simulation_folder path and simulation_id\n",
    "simulation_folder = current_path + \"/simulations\"\n",
    "simulation_id = \"/07/\"\n",
    "\n",
    "# SET FILES TO BE ANALYSE\n",
    "sf_distribution_on_network = \"network_position.txt\"\n",
    "phy_layer_packet_outcome = \"phy_results.txt\"\n",
    "phy_layer_rssi_coverage = \"rssi_results.txt\"\n",
    "mac_layer_performance_metrics = \"net_results.txt\"\n",
    "mac_layer_power_consumption = \"energy_results.txt\""
   ]
  },
  {
   "cell_type": "markdown",
   "metadata": {},
   "source": [
    "## Posicionamento x SF"
   ]
  },
  {
   "cell_type": "code",
   "execution_count": 55,
   "metadata": {},
   "outputs": [
    {
     "name": "stdout",
     "output_type": "stream",
     "text": [
      "\n",
      "SHAPE: (175, 10)\n"
     ]
    },
    {
     "data": {
      "text/html": [
       "<div>\n",
       "<style scoped>\n",
       "    .dataframe tbody tr th:only-of-type {\n",
       "        vertical-align: middle;\n",
       "    }\n",
       "\n",
       "    .dataframe tbody tr th {\n",
       "        vertical-align: top;\n",
       "    }\n",
       "\n",
       "    .dataframe thead th {\n",
       "        text-align: right;\n",
       "    }\n",
       "</style>\n",
       "<table border=\"1\" class=\"dataframe\">\n",
       "  <thead>\n",
       "    <tr style=\"text-align: right;\">\n",
       "      <th></th>\n",
       "      <th>nodeId</th>\n",
       "      <th>posX</th>\n",
       "      <th>posY</th>\n",
       "      <th>posZ</th>\n",
       "      <th>sf</th>\n",
       "      <th>gwId</th>\n",
       "      <th>gw_posX</th>\n",
       "      <th>gw_posY</th>\n",
       "      <th>gw_posZ</th>\n",
       "      <th>distance</th>\n",
       "    </tr>\n",
       "  </thead>\n",
       "  <tbody>\n",
       "    <tr>\n",
       "      <th>0</th>\n",
       "      <td>0</td>\n",
       "      <td>1527.410</td>\n",
       "      <td>2180.210</td>\n",
       "      <td>1.5</td>\n",
       "      <td>7</td>\n",
       "      <td>175</td>\n",
       "      <td>1694.97</td>\n",
       "      <td>2141.47</td>\n",
       "      <td>44.9188</td>\n",
       "      <td>177.386</td>\n",
       "    </tr>\n",
       "    <tr>\n",
       "      <th>1</th>\n",
       "      <td>1</td>\n",
       "      <td>297.312</td>\n",
       "      <td>1965.810</td>\n",
       "      <td>1.5</td>\n",
       "      <td>7</td>\n",
       "      <td>175</td>\n",
       "      <td>1694.97</td>\n",
       "      <td>2141.47</td>\n",
       "      <td>44.9188</td>\n",
       "      <td>1409.330</td>\n",
       "    </tr>\n",
       "    <tr>\n",
       "      <th>2</th>\n",
       "      <td>2</td>\n",
       "      <td>1535.550</td>\n",
       "      <td>1646.180</td>\n",
       "      <td>1.5</td>\n",
       "      <td>7</td>\n",
       "      <td>175</td>\n",
       "      <td>1694.97</td>\n",
       "      <td>2141.47</td>\n",
       "      <td>44.9188</td>\n",
       "      <td>522.123</td>\n",
       "    </tr>\n",
       "    <tr>\n",
       "      <th>3</th>\n",
       "      <td>3</td>\n",
       "      <td>1149.490</td>\n",
       "      <td>1831.090</td>\n",
       "      <td>1.5</td>\n",
       "      <td>7</td>\n",
       "      <td>175</td>\n",
       "      <td>1694.97</td>\n",
       "      <td>2141.47</td>\n",
       "      <td>44.9188</td>\n",
       "      <td>629.109</td>\n",
       "    </tr>\n",
       "    <tr>\n",
       "      <th>4</th>\n",
       "      <td>4</td>\n",
       "      <td>1186.800</td>\n",
       "      <td>667.866</td>\n",
       "      <td>1.5</td>\n",
       "      <td>7</td>\n",
       "      <td>175</td>\n",
       "      <td>1694.97</td>\n",
       "      <td>2141.47</td>\n",
       "      <td>44.9188</td>\n",
       "      <td>1559.370</td>\n",
       "    </tr>\n",
       "  </tbody>\n",
       "</table>\n",
       "</div>"
      ],
      "text/plain": [
       "   nodeId      posX      posY  posZ  sf  gwId  gw_posX  gw_posY  gw_posZ  \\\n",
       "0       0  1527.410  2180.210   1.5   7   175  1694.97  2141.47  44.9188   \n",
       "1       1   297.312  1965.810   1.5   7   175  1694.97  2141.47  44.9188   \n",
       "2       2  1535.550  1646.180   1.5   7   175  1694.97  2141.47  44.9188   \n",
       "3       3  1149.490  1831.090   1.5   7   175  1694.97  2141.47  44.9188   \n",
       "4       4  1186.800   667.866   1.5   7   175  1694.97  2141.47  44.9188   \n",
       "\n",
       "   distance  \n",
       "0   177.386  \n",
       "1  1409.330  \n",
       "2   522.123  \n",
       "3   629.109  \n",
       "4  1559.370  "
      ]
     },
     "execution_count": 55,
     "metadata": {},
     "output_type": "execute_result"
    }
   ],
   "source": [
    "# ----- DATASET\n",
    "file_to_be_analysed = sf_distribution_on_network\n",
    "path_to_simulation = simulation_folder + simulation_id + file_to_be_analysed\n",
    "\n",
    "net_position_df = pd.read_csv(path_to_simulation, header=None) \n",
    "net_position_df.columns = [\"nodeId\", \"posX\", \"posY\", \"posZ\",\n",
    "                           \"sf\", \"gwId\", \"gw_posX\", \"gw_posY\", \"gw_posZ\", \"distance\"]\n",
    "\n",
    "print(\"\\nSHAPE:\", net_position_df.shape)\n",
    "net_position_df.head()"
   ]
  },
  {
   "cell_type": "code",
   "execution_count": 5,
   "metadata": {},
   "outputs": [],
   "source": [
    "# ----- PLOT SIZE SETTINGS\n",
    "\n",
    "# chart bounds\n",
    "xMin_bound, xMax_bound = -500, 2000\n",
    "yMin_bound, yMax_bound = 0, 2500 \n",
    "\n",
    "# chart figsize\n",
    "x_figsize, y_figsize = 5, 5\n",
    "\n",
    "\n",
    "# ----- LEGEND SETTINGS PER PLOT\n",
    "def set_plots_legends():\n",
    "   \n",
    "    # legend list settings\n",
    "    plots_legends = []\n",
    "       \n",
    "    # ED points\n",
    "    colors = ['y','orange', 'green', 'blue', 'purple', 'black']\n",
    "    for sf in range(len(colors)):\n",
    "        scatter_lgd = mlines.Line2D([], [], color = 'white', marker = 'o',  markeredgecolor = colors[sf],\n",
    "                                  markeredgewidth = 0.5, markerfacecolor = colors[sf], markersize = 7, \n",
    "                                  label = 'SF' + str(sf + 7))\n",
    "        plots_legends.append(scatter_lgd)\n",
    "    \n",
    "    \n",
    "    # GW points\n",
    "    scatter_lgd = mlines.Line2D([], [], color = 'white', marker = (5,2), markeredgecolor = 'red',\n",
    "                                  markeredgewidth = 0.5, markerfacecolor = 'red', markersize = 15, \n",
    "                                  label = 'GW')\n",
    "    plots_legends.append(scatter_lgd)\n",
    "    \n",
    "    return plots_legends"
   ]
  },
  {
   "cell_type": "code",
   "execution_count": 6,
   "metadata": {},
   "outputs": [],
   "source": [
    "# ----- EDs LISTS per SF\n",
    "\n",
    "# to initialize multiple lists\n",
    "eds_x_sf7, eds_y_sf7, eds_x_sf8, eds_y_sf8 = ([] for i in range(4))\n",
    "eds_x_sf9, eds_y_sf9, eds_x_sf10, eds_y_sf10 = ([] for i in range(4))\n",
    "eds_x_sf11, eds_y_sf11, eds_x_sf12, eds_y_sf12 = ([] for i in range(4))\n",
    "\n",
    "\n",
    "for i in range (len(net_position_df)):\n",
    "    if net_position_df.iloc[i].sf == 7.0:\n",
    "        eds_x_sf7.append(net_position_df.iloc[i].posX)\n",
    "        eds_y_sf7.append(net_position_df.iloc[i].posY)\n",
    "    if net_position_df.iloc[i].sf == 8.0:\n",
    "        eds_x_sf8.append(net_position_df.iloc[i].posX)\n",
    "        eds_y_sf8.append(net_position_df.iloc[i].posY)\n",
    "    if net_position_df.iloc[i].sf == 9.0:\n",
    "        eds_x_sf9.append(net_position_df.iloc[i].posX)\n",
    "        eds_y_sf9.append(net_position_df.iloc[i].posY)\n",
    "    if net_position_df.iloc[i].sf == 10.0:\n",
    "        eds_x_sf10.append(net_position_df.iloc[i].posX)\n",
    "        eds_y_sf10.append(net_position_df.iloc[i].posY)\n",
    "    if net_position_df.iloc[i].sf == 11.0:\n",
    "        eds_x_sf11.append(net_position_df.iloc[i].posX)\n",
    "        eds_y_sf11.append(net_position_df.iloc[i].posY)\n",
    "    if net_position_df.iloc[i].sf == 12.0:\n",
    "        eds_x_sf12.append(net_position_df.iloc[i].posX)\n",
    "        eds_y_sf12.append(net_position_df.iloc[i].posY)"
   ]
  },
  {
   "cell_type": "code",
   "execution_count": 7,
   "metadata": {},
   "outputs": [
    {
     "data": {
      "image/png": "[encoded data removed]",
      "text/plain": [
       "<Figure size 360x360 with 1 Axes>"
      ]
     },
     "metadata": {
      "needs_background": "light"
     },
     "output_type": "display_data"
    }
   ],
   "source": [
    "# ----- PLOT ED E GW\n",
    "\n",
    "# plot initialize\n",
    "fig, ax = plt.subplots(figsize=(x_figsize, y_figsize))\n",
    "\n",
    "# draw ED posxy per SF \n",
    "ax.scatter(eds_x_sf7, eds_y_sf7, color='y', label ='SF7')\n",
    "ax.scatter(eds_x_sf8, eds_y_sf8, color='orange', label ='SF8')\n",
    "ax.scatter(eds_x_sf9, eds_y_sf9, color='green', label ='SF9')\n",
    "ax.scatter(eds_x_sf10, eds_y_sf10, color='blue', label ='SF10')\n",
    "ax.scatter(eds_x_sf11, eds_y_sf11, color='purple', label ='SF11')\n",
    "ax.scatter(eds_x_sf12, eds_y_sf12, color='black', label ='SF10')\n",
    "\n",
    "# draw GW\n",
    "ax.scatter(net_position_df.iloc[0].gw_posX, net_position_df.iloc[0].gw_posY, color='red', label ='GW', marker = (5,2), s = 200)\n",
    "        \n",
    "# legend settings\n",
    "legends_list = set_plots_legends()\n",
    "ax.legend(handles=[line for line in legends_list], loc=\"upper right\", bbox_to_anchor=(1.4, 1.01), prop={'size': 14})\n",
    "\n",
    "# chart bounds\n",
    "ax.set(xlim=(xMin_bound, xMax_bound), ylim = (yMin_bound, yMax_bound))\n",
    "\n",
    "# Title\n",
    "ax.set_title('Distribuição randômica de EDs em torno de GW.', fontweight='bold', fontsize=14, y=1.1)\n",
    "plt.show()\n",
    "fig.savefig('dist_rand_ed_gw.png',bbox_inches='tight')"
   ]
  },
  {
   "cell_type": "code",
   "execution_count": null,
   "metadata": {},
   "outputs": [],
   "source": []
  },
  {
   "cell_type": "code",
   "execution_count": null,
   "metadata": {},
   "outputs": [],
   "source": []
  },
  {
   "cell_type": "markdown",
   "metadata": {},
   "source": [
    "## Métricas da camada PHY"
   ]
  },
  {
   "cell_type": "code",
   "execution_count": 8,
   "metadata": {},
   "outputs": [
    {
     "name": "stdout",
     "output_type": "stream",
     "text": [
      "\n",
      "SHAPE: (10, 6)\n"
     ]
    },
    {
     "data": {
      "text/html": [
       "<div>\n",
       "<style scoped>\n",
       "    .dataframe tbody tr th:only-of-type {\n",
       "        vertical-align: middle;\n",
       "    }\n",
       "\n",
       "    .dataframe tbody tr th {\n",
       "        vertical-align: top;\n",
       "    }\n",
       "\n",
       "    .dataframe thead th {\n",
       "        text-align: right;\n",
       "    }\n",
       "</style>\n",
       "<table border=\"1\" class=\"dataframe\">\n",
       "  <thead>\n",
       "    <tr style=\"text-align: right;\">\n",
       "      <th></th>\n",
       "      <th>gwID</th>\n",
       "      <th>received</th>\n",
       "      <th>interfered</th>\n",
       "      <th>noMoreReceivers</th>\n",
       "      <th>underSensitivity</th>\n",
       "      <th>lost</th>\n",
       "    </tr>\n",
       "  </thead>\n",
       "  <tbody>\n",
       "    <tr>\n",
       "      <th>0</th>\n",
       "      <td>0</td>\n",
       "      <td>4388</td>\n",
       "      <td>0</td>\n",
       "      <td>0</td>\n",
       "      <td>0</td>\n",
       "      <td>0</td>\n",
       "    </tr>\n",
       "    <tr>\n",
       "      <th>1</th>\n",
       "      <td>0</td>\n",
       "      <td>131629</td>\n",
       "      <td>11</td>\n",
       "      <td>0</td>\n",
       "      <td>0</td>\n",
       "      <td>0</td>\n",
       "    </tr>\n",
       "    <tr>\n",
       "      <th>2</th>\n",
       "      <td>0</td>\n",
       "      <td>131549</td>\n",
       "      <td>91</td>\n",
       "      <td>0</td>\n",
       "      <td>0</td>\n",
       "      <td>0</td>\n",
       "    </tr>\n",
       "    <tr>\n",
       "      <th>3</th>\n",
       "      <td>0</td>\n",
       "      <td>131640</td>\n",
       "      <td>0</td>\n",
       "      <td>0</td>\n",
       "      <td>0</td>\n",
       "      <td>0</td>\n",
       "    </tr>\n",
       "    <tr>\n",
       "      <th>4</th>\n",
       "      <td>0</td>\n",
       "      <td>131640</td>\n",
       "      <td>0</td>\n",
       "      <td>0</td>\n",
       "      <td>0</td>\n",
       "      <td>0</td>\n",
       "    </tr>\n",
       "    <tr>\n",
       "      <th>5</th>\n",
       "      <td>0</td>\n",
       "      <td>131538</td>\n",
       "      <td>102</td>\n",
       "      <td>0</td>\n",
       "      <td>0</td>\n",
       "      <td>0</td>\n",
       "    </tr>\n",
       "    <tr>\n",
       "      <th>6</th>\n",
       "      <td>0</td>\n",
       "      <td>131553</td>\n",
       "      <td>87</td>\n",
       "      <td>0</td>\n",
       "      <td>0</td>\n",
       "      <td>0</td>\n",
       "    </tr>\n",
       "    <tr>\n",
       "      <th>7</th>\n",
       "      <td>0</td>\n",
       "      <td>131640</td>\n",
       "      <td>0</td>\n",
       "      <td>0</td>\n",
       "      <td>0</td>\n",
       "      <td>0</td>\n",
       "    </tr>\n",
       "    <tr>\n",
       "      <th>8</th>\n",
       "      <td>0</td>\n",
       "      <td>131426</td>\n",
       "      <td>214</td>\n",
       "      <td>0</td>\n",
       "      <td>0</td>\n",
       "      <td>0</td>\n",
       "    </tr>\n",
       "    <tr>\n",
       "      <th>9</th>\n",
       "      <td>0</td>\n",
       "      <td>131640</td>\n",
       "      <td>0</td>\n",
       "      <td>0</td>\n",
       "      <td>0</td>\n",
       "      <td>0</td>\n",
       "    </tr>\n",
       "  </tbody>\n",
       "</table>\n",
       "</div>"
      ],
      "text/plain": [
       "   gwID  received  interfered  noMoreReceivers  underSensitivity  lost\n",
       "0     0      4388           0                0                 0     0\n",
       "1     0    131629          11                0                 0     0\n",
       "2     0    131549          91                0                 0     0\n",
       "3     0    131640           0                0                 0     0\n",
       "4     0    131640           0                0                 0     0\n",
       "5     0    131538         102                0                 0     0\n",
       "6     0    131553          87                0                 0     0\n",
       "7     0    131640           0                0                 0     0\n",
       "8     0    131426         214                0                 0     0\n",
       "9     0    131640           0                0                 0     0"
      ]
     },
     "execution_count": 8,
     "metadata": {},
     "output_type": "execute_result"
    }
   ],
   "source": [
    "# ----- DATASET\n",
    "file_to_be_analysed = phy_layer_packet_outcome\n",
    "path_to_simulation = simulation_folder + simulation_id + file_to_be_analysed\n",
    "\n",
    "phy_df = pd.read_csv(path_to_simulation, header=None) \n",
    "phy_df.columns = [\"gwID\", \"received\", \"interfered\", \"noMoreReceivers\", \"underSensitivity\", \"lost\"]\n",
    "\n",
    "print(\"\\nSHAPE:\", phy_df.shape)\n",
    "phy_df.head(10)"
   ]
  },
  {
   "cell_type": "code",
   "execution_count": 9,
   "metadata": {},
   "outputs": [
    {
     "name": "stdout",
     "output_type": "stream",
     "text": [
      "PHY LAYER - Packet Outcome METRICS:\n",
      "\n",
      "received: 118864.3\n",
      "interfered: 50.5\n",
      "noMoreReceivers: 0.0\n",
      "underSensitivity: 0.0\n",
      "lost: 0.0\n"
     ]
    }
   ],
   "source": [
    "# Valores médios de cada coluna\n",
    "print(\"PHY LAYER - Packet Outcome METRICS:\\n\")\n",
    "print(\"received:\", phy_df['received'].mean())\n",
    "print(\"interfered:\", phy_df['interfered'].mean())\n",
    "print(\"noMoreReceivers:\", phy_df['noMoreReceivers'].mean())\n",
    "print(\"underSensitivity:\", phy_df['underSensitivity'].mean())\n",
    "print(\"lost:\", phy_df['lost'].mean())"
   ]
  },
  {
   "cell_type": "code",
   "execution_count": null,
   "metadata": {},
   "outputs": [],
   "source": []
  },
  {
   "cell_type": "code",
   "execution_count": null,
   "metadata": {},
   "outputs": [],
   "source": []
  },
  {
   "cell_type": "markdown",
   "metadata": {},
   "source": [
    "## Cobertura/Alcance LoRa"
   ]
  },
  {
   "cell_type": "code",
   "execution_count": 56,
   "metadata": {},
   "outputs": [
    {
     "name": "stdout",
     "output_type": "stream",
     "text": [
      "\n",
      "SHAPE: (175, 4)\n",
      "\n",
      "SHAPE: (47, 4)\n"
     ]
    },
    {
     "data": {
      "text/html": [
       "<div>\n",
       "<style scoped>\n",
       "    .dataframe tbody tr th:only-of-type {\n",
       "        vertical-align: middle;\n",
       "    }\n",
       "\n",
       "    .dataframe tbody tr th {\n",
       "        vertical-align: top;\n",
       "    }\n",
       "\n",
       "    .dataframe thead th {\n",
       "        text-align: right;\n",
       "    }\n",
       "</style>\n",
       "<table border=\"1\" class=\"dataframe\">\n",
       "  <thead>\n",
       "    <tr style=\"text-align: right;\">\n",
       "      <th></th>\n",
       "      <th>gwId</th>\n",
       "      <th>nodeId</th>\n",
       "      <th>RSSI_Sim</th>\n",
       "      <th>distance_between</th>\n",
       "    </tr>\n",
       "  </thead>\n",
       "  <tbody>\n",
       "    <tr>\n",
       "      <th>0</th>\n",
       "      <td>175</td>\n",
       "      <td>0</td>\n",
       "      <td>-67.8049</td>\n",
       "      <td>177.386</td>\n",
       "    </tr>\n",
       "    <tr>\n",
       "      <th>1</th>\n",
       "      <td>175</td>\n",
       "      <td>1</td>\n",
       "      <td>-97.3395</td>\n",
       "      <td>1409.330</td>\n",
       "    </tr>\n",
       "    <tr>\n",
       "      <th>2</th>\n",
       "      <td>175</td>\n",
       "      <td>2</td>\n",
       "      <td>-83.1893</td>\n",
       "      <td>522.123</td>\n",
       "    </tr>\n",
       "    <tr>\n",
       "      <th>3</th>\n",
       "      <td>175</td>\n",
       "      <td>3</td>\n",
       "      <td>-85.8456</td>\n",
       "      <td>629.109</td>\n",
       "    </tr>\n",
       "    <tr>\n",
       "      <th>4</th>\n",
       "      <td>175</td>\n",
       "      <td>4</td>\n",
       "      <td>-98.7812</td>\n",
       "      <td>1559.370</td>\n",
       "    </tr>\n",
       "  </tbody>\n",
       "</table>\n",
       "</div>"
      ],
      "text/plain": [
       "   gwId  nodeId  RSSI_Sim  distance_between\n",
       "0   175       0  -67.8049           177.386\n",
       "1   175       1  -97.3395          1409.330\n",
       "2   175       2  -83.1893           522.123\n",
       "3   175       3  -85.8456           629.109\n",
       "4   175       4  -98.7812          1559.370"
      ]
     },
     "execution_count": 56,
     "metadata": {},
     "output_type": "execute_result"
    }
   ],
   "source": [
    "# ----- DATASET\n",
    "file_to_be_analysed = phy_layer_rssi_coverage\n",
    "path_to_simulation = simulation_folder + simulation_id + file_to_be_analysed\n",
    "\n",
    "rssi_df = pd.read_csv(path_to_simulation, header=None) \n",
    "rssi_df.columns = [\"gwId\", \"nodeId\", \"RSSI_Sim\", \"distance_between\"]\n",
    "\n",
    "# print(path)\n",
    "print(\"\\nSHAPE:\", rssi_df.shape)\n",
    "rssi_df = rssi_df.iloc[0:47]\n",
    "print(\"\\nSHAPE:\", rssi_df.shape)\n",
    "rssi_df.head()\n",
    "\n",
    "# TO BE DONE - TIRAR RSSI MEDIO REFERENTE A CADA POSIÇÃO DO DATASET, OBTENDO A COBERTURA MÉDIA TOTAL DE RSSI"
   ]
  },
  {
   "cell_type": "code",
   "execution_count": 57,
   "metadata": {},
   "outputs": [
    {
     "name": "stdout",
     "output_type": "stream",
     "text": [
      "DATASET SHAPE: (47, 9)\n"
     ]
    },
    {
     "data": {
      "text/html": [
       "<div>\n",
       "<style scoped>\n",
       "    .dataframe tbody tr th:only-of-type {\n",
       "        vertical-align: middle;\n",
       "    }\n",
       "\n",
       "    .dataframe tbody tr th {\n",
       "        vertical-align: top;\n",
       "    }\n",
       "\n",
       "    .dataframe thead th {\n",
       "        text-align: right;\n",
       "    }\n",
       "</style>\n",
       "<table border=\"1\" class=\"dataframe\">\n",
       "  <thead>\n",
       "    <tr style=\"text-align: right;\">\n",
       "      <th></th>\n",
       "      <th>Unnamed: 0</th>\n",
       "      <th>id</th>\n",
       "      <th>name</th>\n",
       "      <th>x</th>\n",
       "      <th>y</th>\n",
       "      <th>z</th>\n",
       "      <th>elevation</th>\n",
       "      <th>latitude</th>\n",
       "      <th>longitude</th>\n",
       "    </tr>\n",
       "  </thead>\n",
       "  <tbody>\n",
       "    <tr>\n",
       "      <th>0</th>\n",
       "      <td>0</td>\n",
       "      <td>1321.0</td>\n",
       "      <td>INOVA</td>\n",
       "      <td>1527.405075</td>\n",
       "      <td>2180.212233</td>\n",
       "      <td>1.5</td>\n",
       "      <td>644.458740</td>\n",
       "      <td>-22.814543</td>\n",
       "      <td>-47.059340</td>\n",
       "    </tr>\n",
       "    <tr>\n",
       "      <th>1</th>\n",
       "      <td>1</td>\n",
       "      <td>535.0</td>\n",
       "      <td>BC</td>\n",
       "      <td>297.311734</td>\n",
       "      <td>1965.812273</td>\n",
       "      <td>1.5</td>\n",
       "      <td>602.154968</td>\n",
       "      <td>-22.816324</td>\n",
       "      <td>-47.071348</td>\n",
       "    </tr>\n",
       "    <tr>\n",
       "      <th>2</th>\n",
       "      <td>2</td>\n",
       "      <td>802.0</td>\n",
       "      <td>CBMEG</td>\n",
       "      <td>1535.553550</td>\n",
       "      <td>1646.180816</td>\n",
       "      <td>1.5</td>\n",
       "      <td>652.513123</td>\n",
       "      <td>-22.819365</td>\n",
       "      <td>-47.059333</td>\n",
       "    </tr>\n",
       "    <tr>\n",
       "      <th>3</th>\n",
       "      <td>3</td>\n",
       "      <td>845.0</td>\n",
       "      <td>CCUEC</td>\n",
       "      <td>1149.489906</td>\n",
       "      <td>1831.086023</td>\n",
       "      <td>1.5</td>\n",
       "      <td>616.788940</td>\n",
       "      <td>-22.817648</td>\n",
       "      <td>-47.063068</td>\n",
       "    </tr>\n",
       "    <tr>\n",
       "      <th>4</th>\n",
       "      <td>4</td>\n",
       "      <td>1037.0</td>\n",
       "      <td>GASTROCENTRO</td>\n",
       "      <td>1186.795533</td>\n",
       "      <td>667.866479</td>\n",
       "      <td>1.5</td>\n",
       "      <td>635.025085</td>\n",
       "      <td>-22.828153</td>\n",
       "      <td>-47.062863</td>\n",
       "    </tr>\n",
       "  </tbody>\n",
       "</table>\n",
       "</div>"
      ],
      "text/plain": [
       "   Unnamed: 0      id          name            x            y    z  \\\n",
       "0           0  1321.0         INOVA  1527.405075  2180.212233  1.5   \n",
       "1           1   535.0            BC   297.311734  1965.812273  1.5   \n",
       "2           2   802.0         CBMEG  1535.553550  1646.180816  1.5   \n",
       "3           3   845.0         CCUEC  1149.489906  1831.086023  1.5   \n",
       "4           4  1037.0  GASTROCENTRO  1186.795533   667.866479  1.5   \n",
       "\n",
       "    elevation   latitude  longitude  \n",
       "0  644.458740 -22.814543 -47.059340  \n",
       "1  602.154968 -22.816324 -47.071348  \n",
       "2  652.513123 -22.819365 -47.059333  \n",
       "3  616.788940 -22.817648 -47.063068  \n",
       "4  635.025085 -22.828153 -47.062863  "
      ]
     },
     "execution_count": 57,
     "metadata": {},
     "output_type": "execute_result"
    }
   ],
   "source": [
    "# Visualizando dataset criado\n",
    "coletores_df = pd.read_csv(\"coletores_pos_dataset_elev.csv\") \n",
    "print(\"DATASET SHAPE:\", coletores_df.shape)\n",
    "coletores_df.head()"
   ]
  },
  {
   "cell_type": "code",
   "execution_count": 58,
   "metadata": {},
   "outputs": [
    {
     "name": "stdout",
     "output_type": "stream",
     "text": [
      "DATASET SHAPE: (47, 6)\n"
     ]
    },
    {
     "data": {
      "text/html": [
       "<div>\n",
       "<style scoped>\n",
       "    .dataframe tbody tr th:only-of-type {\n",
       "        vertical-align: middle;\n",
       "    }\n",
       "\n",
       "    .dataframe tbody tr th {\n",
       "        vertical-align: top;\n",
       "    }\n",
       "\n",
       "    .dataframe thead th {\n",
       "        text-align: right;\n",
       "    }\n",
       "</style>\n",
       "<table border=\"1\" class=\"dataframe\">\n",
       "  <thead>\n",
       "    <tr style=\"text-align: right;\">\n",
       "      <th></th>\n",
       "      <th>gwId</th>\n",
       "      <th>nodeId</th>\n",
       "      <th>RSSI_Sim</th>\n",
       "      <th>distance_between</th>\n",
       "      <th>latitude</th>\n",
       "      <th>longitude</th>\n",
       "    </tr>\n",
       "  </thead>\n",
       "  <tbody>\n",
       "    <tr>\n",
       "      <th>0</th>\n",
       "      <td>175</td>\n",
       "      <td>0</td>\n",
       "      <td>-67.8049</td>\n",
       "      <td>177.386</td>\n",
       "      <td>-22.814543</td>\n",
       "      <td>-47.059340</td>\n",
       "    </tr>\n",
       "    <tr>\n",
       "      <th>1</th>\n",
       "      <td>175</td>\n",
       "      <td>1</td>\n",
       "      <td>-97.3395</td>\n",
       "      <td>1409.330</td>\n",
       "      <td>-22.816324</td>\n",
       "      <td>-47.071348</td>\n",
       "    </tr>\n",
       "    <tr>\n",
       "      <th>2</th>\n",
       "      <td>175</td>\n",
       "      <td>2</td>\n",
       "      <td>-83.1893</td>\n",
       "      <td>522.123</td>\n",
       "      <td>-22.819365</td>\n",
       "      <td>-47.059333</td>\n",
       "    </tr>\n",
       "    <tr>\n",
       "      <th>3</th>\n",
       "      <td>175</td>\n",
       "      <td>3</td>\n",
       "      <td>-85.8456</td>\n",
       "      <td>629.109</td>\n",
       "      <td>-22.817648</td>\n",
       "      <td>-47.063068</td>\n",
       "    </tr>\n",
       "    <tr>\n",
       "      <th>4</th>\n",
       "      <td>175</td>\n",
       "      <td>4</td>\n",
       "      <td>-98.7812</td>\n",
       "      <td>1559.370</td>\n",
       "      <td>-22.828153</td>\n",
       "      <td>-47.062863</td>\n",
       "    </tr>\n",
       "  </tbody>\n",
       "</table>\n",
       "</div>"
      ],
      "text/plain": [
       "   gwId  nodeId  RSSI_Sim  distance_between   latitude  longitude\n",
       "0   175       0  -67.8049           177.386 -22.814543 -47.059340\n",
       "1   175       1  -97.3395          1409.330 -22.816324 -47.071348\n",
       "2   175       2  -83.1893           522.123 -22.819365 -47.059333\n",
       "3   175       3  -85.8456           629.109 -22.817648 -47.063068\n",
       "4   175       4  -98.7812          1559.370 -22.828153 -47.062863"
      ]
     },
     "execution_count": 58,
     "metadata": {},
     "output_type": "execute_result"
    }
   ],
   "source": [
    "rssi_df['latitude'] = coletores_df['latitude']\n",
    "rssi_df['longitude'] = coletores_df['longitude']\n",
    "print(\"DATASET SHAPE:\", rssi_df.shape)\n",
    "rssi_df.head(5)"
   ]
  },
  {
   "cell_type": "code",
   "execution_count": 23,
   "metadata": {},
   "outputs": [],
   "source": [
    "# rssi_df['latitude'].iloc[0:1].values[0]"
   ]
  },
  {
   "cell_type": "code",
   "execution_count": 59,
   "metadata": {},
   "outputs": [],
   "source": [
    "heat_data = []\n",
    "for i in range(rssi_df.shape[0]):\n",
    "    heat_data.append([\n",
    "        rssi_df['latitude'].iloc[i:i+1].values[0],\n",
    "        rssi_df['longitude'].iloc[i:i+1].values[0],\n",
    "        rssi_df['RSSI_Sim'].iloc[i:i+1].values[0]\n",
    "    ])\n",
    "\n",
    "# print(heat_data)"
   ]
  },
  {
   "cell_type": "code",
   "execution_count": 60,
   "metadata": {},
   "outputs": [],
   "source": [
    "#LEGENDA\n",
    "import branca\n",
    "\n",
    "legend_html = '''\n",
    "{% macro html(this, kwargs) %}\n",
    "<div style=\"\n",
    "    position: fixed; \n",
    "    bottom: 80px;\n",
    "    left: 20px;\n",
    "    width: 150px;\n",
    "    height: 80px;\n",
    "    top: 425px;\n",
    "    z-index:9999;\n",
    "    font-size:13px;\n",
    "    \">\n",
    "    <p><a style=\"margin-left:10px;\"><b>RSSI (Dbm)</a></b></p>\n",
    "    <p><a style=\"color:#2652ca;font-size:150%;margin-left:20px;\">&diams;</a>&emsp;<b>[0, -80]</b></p>\n",
    "    <p><a style=\"color:#338dff;font-size:150%;margin-left:20px;\">&diams;</a>&emsp;<b>[-81, -100]</b></p>\n",
    "    <p><a style=\"color:#33c1ff;font-size:150%;margin-left:20px;\">&diams;</a>&emsp;<b>[-101, -150]</b></p>\n",
    "</div>\n",
    "<div style=\"\n",
    "    position: fixed; \n",
    "    bottom: 30px;\n",
    "    left: 20px;\n",
    "    width: 150px;\n",
    "    height: 140px; \n",
    "    z-index:9998;\n",
    "    font-size:14px;\n",
    "    background-color: #ffffff;\n",
    "    border:2px solid grey;\n",
    "    opacity: 0.9;\n",
    "    \">\n",
    "</div>\n",
    "{% endmacro %}\n",
    "'''\n",
    "legend = branca.element.MacroElement()\n",
    "legend._template = branca.element.Template(legend_html)"
   ]
  },
  {
   "cell_type": "code",
   "execution_count": 61,
   "metadata": {},
   "outputs": [
    {
     "data": {
      "text/html": [
       "<div style=\"width:100%;\"><div style=\"position:relative;width:100%;height:0;padding-bottom:60%;\"><span style=\"color:#565656\">Make this Notebook Trusted to load map: File -> Trust Notebook</span><iframe src=\"about:blank\" style=\"position:absolute;width:100%;height:100%;left:0;top:0;border:none !important;\" data-html=%3C%21DOCTYPE%20html%3E%0A%3Chead%3E%20%20%20%20%0A%20%20%20%20%3Cmeta%20http-equiv%3D%22content-type%22%20content%3D%22text/html%3B%20charset%3DUTF-8%22%20/%3E%0A%20%20%20%20%0A%20%20%20%20%20%20%20%20%3Cscript%3E%0A%20%20%20%20%20%20%20%20%20%20%20%20L_NO_TOUCH%20%3D%20false%3B%0A%20%20%20%20%20%20%20%20%20%20%20%20L_DISABLE_3D%20%3D%20false%3B%0A%20%20%20%20%20%20%20%20%3C/script%3E%0A%20%20%20%20%0A%20%20%20%20%3Cstyle%3Ehtml%2C%20body%20%7Bwidth%3A%20100%25%3Bheight%3A%20100%25%3Bmargin%3A%200%3Bpadding%3A%200%3B%7D%3C/style%3E%0A%20%20%20%20%3Cstyle%3E%23map%20%7Bposition%3Aabsolute%3Btop%3A0%3Bbottom%3A0%3Bright%3A0%3Bleft%3A0%3B%7D%3C/style%3E%0A%20%20%20%20%3Cscript%20src%3D%22https%3A//cdn.jsdelivr.net/npm/leaflet%401.6.0/dist/leaflet.js%22%3E%3C/script%3E%0A%20%20%20%20%3Cscript%20src%3D%22https%3A//code.jquery.com/jquery-1.12.4.min.js%22%3E%3C/script%3E%0A%20%20%20%20%3Cscript%20src%3D%22https%3A//maxcdn.bootstrapcdn.com/bootstrap/3.2.0/js/bootstrap.min.js%22%3E%3C/script%3E%0A%20%20%20%20%3Cscript%20src%3D%22https%3A//cdnjs.cloudflare.com/ajax/libs/Leaflet.awesome-markers/2.0.2/leaflet.awesome-markers.js%22%3E%3C/script%3E%0A%20%20%20%20%3Clink%20rel%3D%22stylesheet%22%20href%3D%22https%3A//cdn.jsdelivr.net/npm/leaflet%401.6.0/dist/leaflet.css%22/%3E%0A%20%20%20%20%3Clink%20rel%3D%22stylesheet%22%20href%3D%22https%3A//maxcdn.bootstrapcdn.com/bootstrap/3.2.0/css/bootstrap.min.css%22/%3E%0A%20%20%20%20%3Clink%20rel%3D%22stylesheet%22%20href%3D%22https%3A//maxcdn.bootstrapcdn.com/bootstrap/3.2.0/css/bootstrap-theme.min.css%22/%3E%0A%20%20%20%20%3Clink%20rel%3D%22stylesheet%22%20href%3D%22https%3A//maxcdn.bootstrapcdn.com/font-awesome/4.6.3/css/font-awesome.min.css%22/%3E%0A%20%20%20%20%3Clink%20rel%3D%22stylesheet%22%20href%3D%22https%3A//cdnjs.cloudflare.com/ajax/libs/Leaflet.awesome-markers/2.0.2/leaflet.awesome-markers.css%22/%3E%0A%20%20%20%20%3Clink%20rel%3D%22stylesheet%22%20href%3D%22https%3A//cdn.jsdelivr.net/gh/python-visualization/folium/folium/templates/leaflet.awesome.rotate.min.css%22/%3E%0A%20%20%20%20%0A%20%20%20%20%20%20%20%20%20%20%20%20%3Cmeta%20name%3D%22viewport%22%20content%3D%22width%3Ddevice-width%2C%0A%20%20%20%20%20%20%20%20%20%20%20%20%20%20%20%20initial-scale%3D1.0%2C%20maximum-scale%3D1.0%2C%20user-scalable%3Dno%22%20/%3E%0A%20%20%20%20%20%20%20%20%20%20%20%20%3Cstyle%3E%0A%20%20%20%20%20%20%20%20%20%20%20%20%20%20%20%20%23map_65424cca01d146e7902ed2d89004c48f%20%7B%0A%20%20%20%20%20%20%20%20%20%20%20%20%20%20%20%20%20%20%20%20position%3A%20relative%3B%0A%20%20%20%20%20%20%20%20%20%20%20%20%20%20%20%20%20%20%20%20width%3A%20500.0px%3B%0A%20%20%20%20%20%20%20%20%20%20%20%20%20%20%20%20%20%20%20%20height%3A%20600.0px%3B%0A%20%20%20%20%20%20%20%20%20%20%20%20%20%20%20%20%20%20%20%20left%3A%200.0%25%3B%0A%20%20%20%20%20%20%20%20%20%20%20%20%20%20%20%20%20%20%20%20top%3A%200.0%25%3B%0A%20%20%20%20%20%20%20%20%20%20%20%20%20%20%20%20%7D%0A%20%20%20%20%20%20%20%20%20%20%20%20%3C/style%3E%0A%20%20%20%20%20%20%20%20%0A%3C/head%3E%0A%3Cbody%3E%20%20%20%20%0A%20%20%20%20%0A%20%20%20%20%20%20%20%20%20%20%20%20%3Cdiv%20class%3D%22folium-map%22%20id%3D%22map_65424cca01d146e7902ed2d89004c48f%22%20%3E%3C/div%3E%0A%20%20%20%20%20%20%20%20%0A%20%20%20%20%0A%3Cdiv%20style%3D%22%0A%20%20%20%20position%3A%20fixed%3B%20%0A%20%20%20%20bottom%3A%2080px%3B%0A%20%20%20%20left%3A%2020px%3B%0A%20%20%20%20width%3A%20150px%3B%0A%20%20%20%20height%3A%2080px%3B%0A%20%20%20%20top%3A%20425px%3B%0A%20%20%20%20z-index%3A9999%3B%0A%20%20%20%20font-size%3A13px%3B%0A%20%20%20%20%22%3E%0A%20%20%20%20%3Cp%3E%3Ca%20style%3D%22margin-left%3A10px%3B%22%3E%3Cb%3ERSSI%20%28Dbm%29%3C/a%3E%3C/b%3E%3C/p%3E%0A%20%20%20%20%3Cp%3E%3Ca%20style%3D%22color%3A%232652ca%3Bfont-size%3A150%25%3Bmargin-left%3A20px%3B%22%3E%26diams%3B%3C/a%3E%26emsp%3B%3Cb%3E%5B0%2C%20-80%5D%3C/b%3E%3C/p%3E%0A%20%20%20%20%3Cp%3E%3Ca%20style%3D%22color%3A%23338dff%3Bfont-size%3A150%25%3Bmargin-left%3A20px%3B%22%3E%26diams%3B%3C/a%3E%26emsp%3B%3Cb%3E%5B-81%2C%20-100%5D%3C/b%3E%3C/p%3E%0A%20%20%20%20%3Cp%3E%3Ca%20style%3D%22color%3A%2333c1ff%3Bfont-size%3A150%25%3Bmargin-left%3A20px%3B%22%3E%26diams%3B%3C/a%3E%26emsp%3B%3Cb%3E%5B-101%2C%20-150%5D%3C/b%3E%3C/p%3E%0A%3C/div%3E%0A%3Cdiv%20style%3D%22%0A%20%20%20%20position%3A%20fixed%3B%20%0A%20%20%20%20bottom%3A%2030px%3B%0A%20%20%20%20left%3A%2020px%3B%0A%20%20%20%20width%3A%20150px%3B%0A%20%20%20%20height%3A%20140px%3B%20%0A%20%20%20%20z-index%3A9998%3B%0A%20%20%20%20font-size%3A14px%3B%0A%20%20%20%20background-color%3A%20%23ffffff%3B%0A%20%20%20%20border%3A2px%20solid%20grey%3B%0A%20%20%20%20opacity%3A%200.9%3B%0A%20%20%20%20%22%3E%0A%3C/div%3E%0A%3C/body%3E%0A%3Cscript%3E%20%20%20%20%0A%20%20%20%20%0A%20%20%20%20%20%20%20%20%20%20%20%20var%20map_65424cca01d146e7902ed2d89004c48f%20%3D%20L.map%28%0A%20%20%20%20%20%20%20%20%20%20%20%20%20%20%20%20%22map_65424cca01d146e7902ed2d89004c48f%22%2C%0A%20%20%20%20%20%20%20%20%20%20%20%20%20%20%20%20%7B%0A%20%20%20%20%20%20%20%20%20%20%20%20%20%20%20%20%20%20%20%20center%3A%20%5B-22.822617%2C%20-47.067%5D%2C%0A%20%20%20%20%20%20%20%20%20%20%20%20%20%20%20%20%20%20%20%20crs%3A%20L.CRS.EPSG3857%2C%0A%20%20%20%20%20%20%20%20%20%20%20%20%20%20%20%20%20%20%20%20zoom%3A%2015%2C%0A%20%20%20%20%20%20%20%20%20%20%20%20%20%20%20%20%20%20%20%20zoomControl%3A%20true%2C%0A%20%20%20%20%20%20%20%20%20%20%20%20%20%20%20%20%20%20%20%20preferCanvas%3A%20false%2C%0A%20%20%20%20%20%20%20%20%20%20%20%20%20%20%20%20%7D%0A%20%20%20%20%20%20%20%20%20%20%20%20%29%3B%0A%0A%20%20%20%20%20%20%20%20%20%20%20%20%0A%0A%20%20%20%20%20%20%20%20%0A%20%20%20%20%0A%20%20%20%20%20%20%20%20%20%20%20%20var%20tile_layer_01723e7c1f2e4b9084b150181bd1499f%20%3D%20L.tileLayer%28%0A%20%20%20%20%20%20%20%20%20%20%20%20%20%20%20%20%22https%3A//%7Bs%7D.tile.openstreetmap.org/%7Bz%7D/%7Bx%7D/%7By%7D.png%22%2C%0A%20%20%20%20%20%20%20%20%20%20%20%20%20%20%20%20%7B%22attribution%22%3A%20%22Data%20by%20%5Cu0026copy%3B%20%5Cu003ca%20href%3D%5C%22http%3A//openstreetmap.org%5C%22%5Cu003eOpenStreetMap%5Cu003c/a%5Cu003e%2C%20under%20%5Cu003ca%20href%3D%5C%22http%3A//www.openstreetmap.org/copyright%5C%22%5Cu003eODbL%5Cu003c/a%5Cu003e.%22%2C%20%22detectRetina%22%3A%20false%2C%20%22maxNativeZoom%22%3A%2018%2C%20%22maxZoom%22%3A%2018%2C%20%22minZoom%22%3A%200%2C%20%22noWrap%22%3A%20false%2C%20%22opacity%22%3A%201%2C%20%22subdomains%22%3A%20%22abc%22%2C%20%22tms%22%3A%20false%7D%0A%20%20%20%20%20%20%20%20%20%20%20%20%29.addTo%28map_65424cca01d146e7902ed2d89004c48f%29%3B%0A%20%20%20%20%20%20%20%20%0A%20%20%20%20%0A%20%20%20%20%20%20%20%20%20%20%20%20var%20marker_87eea0f303534bcf85f92e725e0a5778%20%3D%20L.marker%28%0A%20%20%20%20%20%20%20%20%20%20%20%20%20%20%20%20%5B-22.81454328691809%2C%20-47.05934014724517%5D%2C%0A%20%20%20%20%20%20%20%20%20%20%20%20%20%20%20%20%7B%7D%0A%20%20%20%20%20%20%20%20%20%20%20%20%29.addTo%28map_65424cca01d146e7902ed2d89004c48f%29%3B%0A%20%20%20%20%20%20%20%20%0A%20%20%20%20%0A%20%20%20%20%20%20%20%20%20%20%20%20var%20icon_9e52b0c4ba4f414a9b60dedc8839bf7a%20%3D%20L.AwesomeMarkers.icon%28%0A%20%20%20%20%20%20%20%20%20%20%20%20%20%20%20%20%7B%22extraClasses%22%3A%20%22fa-rotate-0%22%2C%20%22icon%22%3A%20%22info-sign%22%2C%20%22iconColor%22%3A%20%22white%22%2C%20%22markerColor%22%3A%20%22darkblue%22%2C%20%22prefix%22%3A%20%22glyphicon%22%7D%0A%20%20%20%20%20%20%20%20%20%20%20%20%29%3B%0A%20%20%20%20%20%20%20%20%20%20%20%20marker_87eea0f303534bcf85f92e725e0a5778.setIcon%28icon_9e52b0c4ba4f414a9b60dedc8839bf7a%29%3B%0A%20%20%20%20%20%20%20%20%0A%20%20%20%20%0A%20%20%20%20%20%20%20%20var%20popup_50ffce716b77462b80033b9afb521984%20%3D%20L.popup%28%7B%22maxWidth%22%3A%20%22100%25%22%7D%29%3B%0A%0A%20%20%20%20%20%20%20%20%0A%20%20%20%20%20%20%20%20%20%20%20%20var%20html_b91af740511d45609ffb7e47dd45b17c%20%3D%20%24%28%60%3Cdiv%20id%3D%22html_b91af740511d45609ffb7e47dd45b17c%22%20style%3D%22width%3A%20100.0%25%3B%20height%3A%20100.0%25%3B%22%3ELat%3A%20-22.81454328691809%2C%20Lng%3A%20-47.05934014724517%2C%20Rssi%3A%20-67.8049%3C/div%3E%60%29%5B0%5D%3B%0A%20%20%20%20%20%20%20%20%20%20%20%20popup_50ffce716b77462b80033b9afb521984.setContent%28html_b91af740511d45609ffb7e47dd45b17c%29%3B%0A%20%20%20%20%20%20%20%20%0A%0A%20%20%20%20%20%20%20%20marker_87eea0f303534bcf85f92e725e0a5778.bindPopup%28popup_50ffce716b77462b80033b9afb521984%29%0A%20%20%20%20%20%20%20%20%3B%0A%0A%20%20%20%20%20%20%20%20%0A%20%20%20%20%0A%20%20%20%20%0A%20%20%20%20%20%20%20%20%20%20%20%20var%20marker_a9a61ae3677a4506aba2ffcdf058a641%20%3D%20L.marker%28%0A%20%20%20%20%20%20%20%20%20%20%20%20%20%20%20%20%5B-22.81632354744989%2C%20-47.07134835810497%5D%2C%0A%20%20%20%20%20%20%20%20%20%20%20%20%20%20%20%20%7B%7D%0A%20%20%20%20%20%20%20%20%20%20%20%20%29.addTo%28map_65424cca01d146e7902ed2d89004c48f%29%3B%0A%20%20%20%20%20%20%20%20%0A%20%20%20%20%0A%20%20%20%20%20%20%20%20%20%20%20%20var%20icon_1c5905e7aa204ec9bd78f996b714b9a5%20%3D%20L.AwesomeMarkers.icon%28%0A%20%20%20%20%20%20%20%20%20%20%20%20%20%20%20%20%7B%22extraClasses%22%3A%20%22fa-rotate-0%22%2C%20%22icon%22%3A%20%22info-sign%22%2C%20%22iconColor%22%3A%20%22white%22%2C%20%22markerColor%22%3A%20%22blue%22%2C%20%22prefix%22%3A%20%22glyphicon%22%7D%0A%20%20%20%20%20%20%20%20%20%20%20%20%29%3B%0A%20%20%20%20%20%20%20%20%20%20%20%20marker_a9a61ae3677a4506aba2ffcdf058a641.setIcon%28icon_1c5905e7aa204ec9bd78f996b714b9a5%29%3B%0A%20%20%20%20%20%20%20%20%0A%20%20%20%20%0A%20%20%20%20%20%20%20%20var%20popup_4e08a6c35cb0465189795e1eb9c1cef8%20%3D%20L.popup%28%7B%22maxWidth%22%3A%20%22100%25%22%7D%29%3B%0A%0A%20%20%20%20%20%20%20%20%0A%20%20%20%20%20%20%20%20%20%20%20%20var%20html_ef96d7b8ea844747a0aca9c5e4060bb9%20%3D%20%24%28%60%3Cdiv%20id%3D%22html_ef96d7b8ea844747a0aca9c5e4060bb9%22%20style%3D%22width%3A%20100.0%25%3B%20height%3A%20100.0%25%3B%22%3ELat%3A%20-22.81632354744989%2C%20Lng%3A%20-47.07134835810497%2C%20Rssi%3A%20-97.3395%3C/div%3E%60%29%5B0%5D%3B%0A%20%20%20%20%20%20%20%20%20%20%20%20popup_4e08a6c35cb0465189795e1eb9c1cef8.setContent%28html_ef96d7b8ea844747a0aca9c5e4060bb9%29%3B%0A%20%20%20%20%20%20%20%20%0A%0A%20%20%20%20%20%20%20%20marker_a9a61ae3677a4506aba2ffcdf058a641.bindPopup%28popup_4e08a6c35cb0465189795e1eb9c1cef8%29%0A%20%20%20%20%20%20%20%20%3B%0A%0A%20%20%20%20%20%20%20%20%0A%20%20%20%20%0A%20%20%20%20%0A%20%20%20%20%20%20%20%20%20%20%20%20var%20marker_b7e49598de1c464d94b41728c8e51d92%20%3D%20L.marker%28%0A%20%20%20%20%20%20%20%20%20%20%20%20%20%20%20%20%5B-22.81936543754744%2C%20-47.05933331168868%5D%2C%0A%20%20%20%20%20%20%20%20%20%20%20%20%20%20%20%20%7B%7D%0A%20%20%20%20%20%20%20%20%20%20%20%20%29.addTo%28map_65424cca01d146e7902ed2d89004c48f%29%3B%0A%20%20%20%20%20%20%20%20%0A%20%20%20%20%0A%20%20%20%20%20%20%20%20%20%20%20%20var%20icon_716216947e424add9ebf6865cb9643d5%20%3D%20L.AwesomeMarkers.icon%28%0A%20%20%20%20%20%20%20%20%20%20%20%20%20%20%20%20%7B%22extraClasses%22%3A%20%22fa-rotate-0%22%2C%20%22icon%22%3A%20%22info-sign%22%2C%20%22iconColor%22%3A%20%22white%22%2C%20%22markerColor%22%3A%20%22blue%22%2C%20%22prefix%22%3A%20%22glyphicon%22%7D%0A%20%20%20%20%20%20%20%20%20%20%20%20%29%3B%0A%20%20%20%20%20%20%20%20%20%20%20%20marker_b7e49598de1c464d94b41728c8e51d92.setIcon%28icon_716216947e424add9ebf6865cb9643d5%29%3B%0A%20%20%20%20%20%20%20%20%0A%20%20%20%20%0A%20%20%20%20%20%20%20%20var%20popup_f11b07d99d014ff1bedfa0fd2f6f48e6%20%3D%20L.popup%28%7B%22maxWidth%22%3A%20%22100%25%22%7D%29%3B%0A%0A%20%20%20%20%20%20%20%20%0A%20%20%20%20%20%20%20%20%20%20%20%20var%20html_aff3f6c525e94c69ac61cef91d6faf2e%20%3D%20%24%28%60%3Cdiv%20id%3D%22html_aff3f6c525e94c69ac61cef91d6faf2e%22%20style%3D%22width%3A%20100.0%25%3B%20height%3A%20100.0%25%3B%22%3ELat%3A%20-22.81936543754744%2C%20Lng%3A%20-47.05933331168868%2C%20Rssi%3A%20-83.1893%3C/div%3E%60%29%5B0%5D%3B%0A%20%20%20%20%20%20%20%20%20%20%20%20popup_f11b07d99d014ff1bedfa0fd2f6f48e6.setContent%28html_aff3f6c525e94c69ac61cef91d6faf2e%29%3B%0A%20%20%20%20%20%20%20%20%0A%0A%20%20%20%20%20%20%20%20marker_b7e49598de1c464d94b41728c8e51d92.bindPopup%28popup_f11b07d99d014ff1bedfa0fd2f6f48e6%29%0A%20%20%20%20%20%20%20%20%3B%0A%0A%20%20%20%20%20%20%20%20%0A%20%20%20%20%0A%20%20%20%20%0A%20%20%20%20%20%20%20%20%20%20%20%20var%20marker_ed030d94d0be48c9a7120c1dfd92b8a9%20%3D%20L.marker%28%0A%20%20%20%20%20%20%20%20%20%20%20%20%20%20%20%20%5B-22.81764750753982%2C%20-47.06306787459784%5D%2C%0A%20%20%20%20%20%20%20%20%20%20%20%20%20%20%20%20%7B%7D%0A%20%20%20%20%20%20%20%20%20%20%20%20%29.addTo%28map_65424cca01d146e7902ed2d89004c48f%29%3B%0A%20%20%20%20%20%20%20%20%0A%20%20%20%20%0A%20%20%20%20%20%20%20%20%20%20%20%20var%20icon_8646f03a139949ccb20bbaeea17341fe%20%3D%20L.AwesomeMarkers.icon%28%0A%20%20%20%20%20%20%20%20%20%20%20%20%20%20%20%20%7B%22extraClasses%22%3A%20%22fa-rotate-0%22%2C%20%22icon%22%3A%20%22info-sign%22%2C%20%22iconColor%22%3A%20%22white%22%2C%20%22markerColor%22%3A%20%22blue%22%2C%20%22prefix%22%3A%20%22glyphicon%22%7D%0A%20%20%20%20%20%20%20%20%20%20%20%20%29%3B%0A%20%20%20%20%20%20%20%20%20%20%20%20marker_ed030d94d0be48c9a7120c1dfd92b8a9.setIcon%28icon_8646f03a139949ccb20bbaeea17341fe%29%3B%0A%20%20%20%20%20%20%20%20%0A%20%20%20%20%0A%20%20%20%20%20%20%20%20var%20popup_75d1909e263f4ff8bc277cb27b394add%20%3D%20L.popup%28%7B%22maxWidth%22%3A%20%22100%25%22%7D%29%3B%0A%0A%20%20%20%20%20%20%20%20%0A%20%20%20%20%20%20%20%20%20%20%20%20var%20html_b7f2b56a37654935a31dba6cbf28715e%20%3D%20%24%28%60%3Cdiv%20id%3D%22html_b7f2b56a37654935a31dba6cbf28715e%22%20style%3D%22width%3A%20100.0%25%3B%20height%3A%20100.0%25%3B%22%3ELat%3A%20-22.81764750753982%2C%20Lng%3A%20-47.06306787459784%2C%20Rssi%3A%20-85.8456%3C/div%3E%60%29%5B0%5D%3B%0A%20%20%20%20%20%20%20%20%20%20%20%20popup_75d1909e263f4ff8bc277cb27b394add.setContent%28html_b7f2b56a37654935a31dba6cbf28715e%29%3B%0A%20%20%20%20%20%20%20%20%0A%0A%20%20%20%20%20%20%20%20marker_ed030d94d0be48c9a7120c1dfd92b8a9.bindPopup%28popup_75d1909e263f4ff8bc277cb27b394add%29%0A%20%20%20%20%20%20%20%20%3B%0A%0A%20%20%20%20%20%20%20%20%0A%20%20%20%20%0A%20%20%20%20%0A%20%20%20%20%20%20%20%20%20%20%20%20var%20marker_2fd8a879e5c841699b06c6d4c2af6e73%20%3D%20L.marker%28%0A%20%20%20%20%20%20%20%20%20%20%20%20%20%20%20%20%5B-22.82815348592649%2C%20-47.06286284264447%5D%2C%0A%20%20%20%20%20%20%20%20%20%20%20%20%20%20%20%20%7B%7D%0A%20%20%20%20%20%20%20%20%20%20%20%20%29.addTo%28map_65424cca01d146e7902ed2d89004c48f%29%3B%0A%20%20%20%20%20%20%20%20%0A%20%20%20%20%0A%20%20%20%20%20%20%20%20%20%20%20%20var%20icon_4c75ef6afea7491b81b481b589240ecc%20%3D%20L.AwesomeMarkers.icon%28%0A%20%20%20%20%20%20%20%20%20%20%20%20%20%20%20%20%7B%22extraClasses%22%3A%20%22fa-rotate-0%22%2C%20%22icon%22%3A%20%22info-sign%22%2C%20%22iconColor%22%3A%20%22white%22%2C%20%22markerColor%22%3A%20%22blue%22%2C%20%22prefix%22%3A%20%22glyphicon%22%7D%0A%20%20%20%20%20%20%20%20%20%20%20%20%29%3B%0A%20%20%20%20%20%20%20%20%20%20%20%20marker_2fd8a879e5c841699b06c6d4c2af6e73.setIcon%28icon_4c75ef6afea7491b81b481b589240ecc%29%3B%0A%20%20%20%20%20%20%20%20%0A%20%20%20%20%0A%20%20%20%20%20%20%20%20var%20popup_17a5c8c8f82d4889bb35f50dd386a361%20%3D%20L.popup%28%7B%22maxWidth%22%3A%20%22100%25%22%7D%29%3B%0A%0A%20%20%20%20%20%20%20%20%0A%20%20%20%20%20%20%20%20%20%20%20%20var%20html_74c576f6387e42dd9ef099f86ac3224b%20%3D%20%24%28%60%3Cdiv%20id%3D%22html_74c576f6387e42dd9ef099f86ac3224b%22%20style%3D%22width%3A%20100.0%25%3B%20height%3A%20100.0%25%3B%22%3ELat%3A%20-22.82815348592649%2C%20Lng%3A%20-47.06286284264447%2C%20Rssi%3A%20-98.7812%3C/div%3E%60%29%5B0%5D%3B%0A%20%20%20%20%20%20%20%20%20%20%20%20popup_17a5c8c8f82d4889bb35f50dd386a361.setContent%28html_74c576f6387e42dd9ef099f86ac3224b%29%3B%0A%20%20%20%20%20%20%20%20%0A%0A%20%20%20%20%20%20%20%20marker_2fd8a879e5c841699b06c6d4c2af6e73.bindPopup%28popup_17a5c8c8f82d4889bb35f50dd386a361%29%0A%20%20%20%20%20%20%20%20%3B%0A%0A%20%20%20%20%20%20%20%20%0A%20%20%20%20%0A%20%20%20%20%0A%20%20%20%20%20%20%20%20%20%20%20%20var%20marker_bff0218cfd4b4f4c8e7ade94a44744e1%20%3D%20L.marker%28%0A%20%20%20%20%20%20%20%20%20%20%20%20%20%20%20%20%5B-22.81291555313213%2C%20-47.06756122474079%5D%2C%0A%20%20%20%20%20%20%20%20%20%20%20%20%20%20%20%20%7B%7D%0A%20%20%20%20%20%20%20%20%20%20%20%20%29.addTo%28map_65424cca01d146e7902ed2d89004c48f%29%3B%0A%20%20%20%20%20%20%20%20%0A%20%20%20%20%0A%20%20%20%20%20%20%20%20%20%20%20%20var%20icon_fef2caa653e5476993acf37150591e42%20%3D%20L.AwesomeMarkers.icon%28%0A%20%20%20%20%20%20%20%20%20%20%20%20%20%20%20%20%7B%22extraClasses%22%3A%20%22fa-rotate-0%22%2C%20%22icon%22%3A%20%22info-sign%22%2C%20%22iconColor%22%3A%20%22white%22%2C%20%22markerColor%22%3A%20%22blue%22%2C%20%22prefix%22%3A%20%22glyphicon%22%7D%0A%20%20%20%20%20%20%20%20%20%20%20%20%29%3B%0A%20%20%20%20%20%20%20%20%20%20%20%20marker_bff0218cfd4b4f4c8e7ade94a44744e1.setIcon%28icon_fef2caa653e5476993acf37150591e42%29%3B%0A%20%20%20%20%20%20%20%20%0A%20%20%20%20%0A%20%20%20%20%20%20%20%20var%20popup_34c8b30df195435f93e71e48c6b38305%20%3D%20L.popup%28%7B%22maxWidth%22%3A%20%22100%25%22%7D%29%3B%0A%0A%20%20%20%20%20%20%20%20%0A%20%20%20%20%20%20%20%20%20%20%20%20var%20html_96d20d0d8b80432aa8165dd9cc9bedd8%20%3D%20%24%28%60%3Cdiv%20id%3D%22html_96d20d0d8b80432aa8165dd9cc9bedd8%22%20style%3D%22width%3A%20100.0%25%3B%20height%3A%20100.0%25%3B%22%3ELat%3A%20-22.81291555313213%2C%20Lng%3A%20-47.06756122474079%2C%20Rssi%3A%20-92.954%3C/div%3E%60%29%5B0%5D%3B%0A%20%20%20%20%20%20%20%20%20%20%20%20popup_34c8b30df195435f93e71e48c6b38305.setContent%28html_96d20d0d8b80432aa8165dd9cc9bedd8%29%3B%0A%20%20%20%20%20%20%20%20%0A%0A%20%20%20%20%20%20%20%20marker_bff0218cfd4b4f4c8e7ade94a44744e1.bindPopup%28popup_34c8b30df195435f93e71e48c6b38305%29%0A%20%20%20%20%20%20%20%20%3B%0A%0A%20%20%20%20%20%20%20%20%0A%20%20%20%20%0A%20%20%20%20%0A%20%20%20%20%20%20%20%20%20%20%20%20var%20marker_888b16956a504200ba1268735580d623%20%3D%20L.marker%28%0A%20%20%20%20%20%20%20%20%20%20%20%20%20%20%20%20%5B-22.82878860225261%2C%20-47.06269560670362%5D%2C%0A%20%20%20%20%20%20%20%20%20%20%20%20%20%20%20%20%7B%7D%0A%20%20%20%20%20%20%20%20%20%20%20%20%29.addTo%28map_65424cca01d146e7902ed2d89004c48f%29%3B%0A%20%20%20%20%20%20%20%20%0A%20%20%20%20%0A%20%20%20%20%20%20%20%20%20%20%20%20var%20icon_4879f528a543421db207f6b673876b67%20%3D%20L.AwesomeMarkers.icon%28%0A%20%20%20%20%20%20%20%20%20%20%20%20%20%20%20%20%7B%22extraClasses%22%3A%20%22fa-rotate-0%22%2C%20%22icon%22%3A%20%22info-sign%22%2C%20%22iconColor%22%3A%20%22white%22%2C%20%22markerColor%22%3A%20%22blue%22%2C%20%22prefix%22%3A%20%22glyphicon%22%7D%0A%20%20%20%20%20%20%20%20%20%20%20%20%29%3B%0A%20%20%20%20%20%20%20%20%20%20%20%20marker_888b16956a504200ba1268735580d623.setIcon%28icon_4879f528a543421db207f6b673876b67%29%3B%0A%20%20%20%20%20%20%20%20%0A%20%20%20%20%0A%20%20%20%20%20%20%20%20var%20popup_e1ce9aef0def4dc9a49e1541f65bfd4d%20%3D%20L.popup%28%7B%22maxWidth%22%3A%20%22100%25%22%7D%29%3B%0A%0A%20%20%20%20%20%20%20%20%0A%20%20%20%20%20%20%20%20%20%20%20%20var%20html_e0f45f4444d54ecf9fc0683067d35218%20%3D%20%24%28%60%3Cdiv%20id%3D%22html_e0f45f4444d54ecf9fc0683067d35218%22%20style%3D%22width%3A%20100.0%25%3B%20height%3A%20100.0%25%3B%22%3ELat%3A%20-22.82878860225261%2C%20Lng%3A%20-47.06269560670362%2C%20Rssi%3A%20-99.3265%3C/div%3E%60%29%5B0%5D%3B%0A%20%20%20%20%20%20%20%20%20%20%20%20popup_e1ce9aef0def4dc9a49e1541f65bfd4d.setContent%28html_e0f45f4444d54ecf9fc0683067d35218%29%3B%0A%20%20%20%20%20%20%20%20%0A%0A%20%20%20%20%20%20%20%20marker_888b16956a504200ba1268735580d623.bindPopup%28popup_e1ce9aef0def4dc9a49e1541f65bfd4d%29%0A%20%20%20%20%20%20%20%20%3B%0A%0A%20%20%20%20%20%20%20%20%0A%20%20%20%20%0A%20%20%20%20%0A%20%20%20%20%20%20%20%20%20%20%20%20var%20marker_7a720da9d7d54fed828e92a13464d91d%20%3D%20L.marker%28%0A%20%20%20%20%20%20%20%20%20%20%20%20%20%20%20%20%5B-22.82331920947462%2C%20-47.06321597438829%5D%2C%0A%20%20%20%20%20%20%20%20%20%20%20%20%20%20%20%20%7B%7D%0A%20%20%20%20%20%20%20%20%20%20%20%20%29.addTo%28map_65424cca01d146e7902ed2d89004c48f%29%3B%0A%20%20%20%20%20%20%20%20%0A%20%20%20%20%0A%20%20%20%20%20%20%20%20%20%20%20%20var%20icon_a411af7c529a44c6b47ea1fcdcddfab2%20%3D%20L.AwesomeMarkers.icon%28%0A%20%20%20%20%20%20%20%20%20%20%20%20%20%20%20%20%7B%22extraClasses%22%3A%20%22fa-rotate-0%22%2C%20%22icon%22%3A%20%22info-sign%22%2C%20%22iconColor%22%3A%20%22white%22%2C%20%22markerColor%22%3A%20%22blue%22%2C%20%22prefix%22%3A%20%22glyphicon%22%7D%0A%20%20%20%20%20%20%20%20%20%20%20%20%29%3B%0A%20%20%20%20%20%20%20%20%20%20%20%20marker_7a720da9d7d54fed828e92a13464d91d.setIcon%28icon_a411af7c529a44c6b47ea1fcdcddfab2%29%3B%0A%20%20%20%20%20%20%20%20%0A%20%20%20%20%0A%20%20%20%20%20%20%20%20var%20popup_e3b350aaa34b40eea0d3acbed8393e9c%20%3D%20L.popup%28%7B%22maxWidth%22%3A%20%22100%25%22%7D%29%3B%0A%0A%20%20%20%20%20%20%20%20%0A%20%20%20%20%20%20%20%20%20%20%20%20var%20html_f976adf53fd84cd1915d73adb6c01521%20%3D%20%24%28%60%3Cdiv%20id%3D%22html_f976adf53fd84cd1915d73adb6c01521%22%20style%3D%22width%3A%20100.0%25%3B%20height%3A%20100.0%25%3B%22%3ELat%3A%20-22.82331920947462%2C%20Lng%3A%20-47.06321597438829%2C%20Rssi%3A%20-93.6757%3C/div%3E%60%29%5B0%5D%3B%0A%20%20%20%20%20%20%20%20%20%20%20%20popup_e3b350aaa34b40eea0d3acbed8393e9c.setContent%28html_f976adf53fd84cd1915d73adb6c01521%29%3B%0A%20%20%20%20%20%20%20%20%0A%0A%20%20%20%20%20%20%20%20marker_7a720da9d7d54fed828e92a13464d91d.bindPopup%28popup_e3b350aaa34b40eea0d3acbed8393e9c%29%0A%20%20%20%20%20%20%20%20%3B%0A%0A%20%20%20%20%20%20%20%20%0A%20%20%20%20%0A%20%20%20%20%0A%20%20%20%20%20%20%20%20%20%20%20%20var%20marker_a262bb7aec1846aba39a83b020c022cd%20%3D%20L.marker%28%0A%20%20%20%20%20%20%20%20%20%20%20%20%20%20%20%20%5B-22.8175901258988%2C%20-47.07083432138436%5D%2C%0A%20%20%20%20%20%20%20%20%20%20%20%20%20%20%20%20%7B%7D%0A%20%20%20%20%20%20%20%20%20%20%20%20%29.addTo%28map_65424cca01d146e7902ed2d89004c48f%29%3B%0A%20%20%20%20%20%20%20%20%0A%20%20%20%20%0A%20%20%20%20%20%20%20%20%20%20%20%20var%20icon_bd90ec49416848a7852b1e9c11815d0e%20%3D%20L.AwesomeMarkers.icon%28%0A%20%20%20%20%20%20%20%20%20%20%20%20%20%20%20%20%7B%22extraClasses%22%3A%20%22fa-rotate-0%22%2C%20%22icon%22%3A%20%22info-sign%22%2C%20%22iconColor%22%3A%20%22white%22%2C%20%22markerColor%22%3A%20%22blue%22%2C%20%22prefix%22%3A%20%22glyphicon%22%7D%0A%20%20%20%20%20%20%20%20%20%20%20%20%29%3B%0A%20%20%20%20%20%20%20%20%20%20%20%20marker_a262bb7aec1846aba39a83b020c022cd.setIcon%28icon_bd90ec49416848a7852b1e9c11815d0e%29%3B%0A%20%20%20%20%20%20%20%20%0A%20%20%20%20%0A%20%20%20%20%20%20%20%20var%20popup_c0f507d9afd548a38744a673f5097688%20%3D%20L.popup%28%7B%22maxWidth%22%3A%20%22100%25%22%7D%29%3B%0A%0A%20%20%20%20%20%20%20%20%0A%20%20%20%20%20%20%20%20%20%20%20%20var%20html_d48936fdf0d94f27aeb9ea8727c3424d%20%3D%20%24%28%60%3Cdiv%20id%3D%22html_d48936fdf0d94f27aeb9ea8727c3424d%22%20style%3D%22width%3A%20100.0%25%3B%20height%3A%20100.0%25%3B%22%3ELat%3A%20-22.8175901258988%2C%20Lng%3A%20-47.07083432138436%2C%20Rssi%3A%20-97.0408%3C/div%3E%60%29%5B0%5D%3B%0A%20%20%20%20%20%20%20%20%20%20%20%20popup_c0f507d9afd548a38744a673f5097688.setContent%28html_d48936fdf0d94f27aeb9ea8727c3424d%29%3B%0A%20%20%20%20%20%20%20%20%0A%0A%20%20%20%20%20%20%20%20marker_a262bb7aec1846aba39a83b020c022cd.bindPopup%28popup_c0f507d9afd548a38744a673f5097688%29%0A%20%20%20%20%20%20%20%20%3B%0A%0A%20%20%20%20%20%20%20%20%0A%20%20%20%20%0A%20%20%20%20%0A%20%20%20%20%20%20%20%20%20%20%20%20var%20marker_acd25b25fa0e4f26860210261e1dedbf%20%3D%20L.marker%28%0A%20%20%20%20%20%20%20%20%20%20%20%20%20%20%20%20%5B-22.8176456501308%2C%20-47.06884615405668%5D%2C%0A%20%20%20%20%20%20%20%20%20%20%20%20%20%20%20%20%7B%7D%0A%20%20%20%20%20%20%20%20%20%20%20%20%29.addTo%28map_65424cca01d146e7902ed2d89004c48f%29%3B%0A%20%20%20%20%20%20%20%20%0A%20%20%20%20%0A%20%20%20%20%20%20%20%20%20%20%20%20var%20icon_ec27ce722b8d4bd58f7a6a1318385ac7%20%3D%20L.AwesomeMarkers.icon%28%0A%20%20%20%20%20%20%20%20%20%20%20%20%20%20%20%20%7B%22extraClasses%22%3A%20%22fa-rotate-0%22%2C%20%22icon%22%3A%20%22info-sign%22%2C%20%22iconColor%22%3A%20%22white%22%2C%20%22markerColor%22%3A%20%22blue%22%2C%20%22prefix%22%3A%20%22glyphicon%22%7D%0A%20%20%20%20%20%20%20%20%20%20%20%20%29%3B%0A%20%20%20%20%20%20%20%20%20%20%20%20marker_acd25b25fa0e4f26860210261e1dedbf.setIcon%28icon_ec27ce722b8d4bd58f7a6a1318385ac7%29%3B%0A%20%20%20%20%20%20%20%20%0A%20%20%20%20%0A%20%20%20%20%20%20%20%20var%20popup_cbfc4a36050b46ab811a516c915feb25%20%3D%20L.popup%28%7B%22maxWidth%22%3A%20%22100%25%22%7D%29%3B%0A%0A%20%20%20%20%20%20%20%20%0A%20%20%20%20%20%20%20%20%20%20%20%20var%20html_38c064cc9ec746539c6d685e7748807b%20%3D%20%24%28%60%3Cdiv%20id%3D%22html_38c064cc9ec746539c6d685e7748807b%22%20style%3D%22width%3A%20100.0%25%3B%20height%3A%20100.0%25%3B%22%3ELat%3A%20-22.8176456501308%2C%20Lng%3A%20-47.06884615405668%2C%20Rssi%3A%20-94.8474%3C/div%3E%60%29%5B0%5D%3B%0A%20%20%20%20%20%20%20%20%20%20%20%20popup_cbfc4a36050b46ab811a516c915feb25.setContent%28html_38c064cc9ec746539c6d685e7748807b%29%3B%0A%20%20%20%20%20%20%20%20%0A%0A%20%20%20%20%20%20%20%20marker_acd25b25fa0e4f26860210261e1dedbf.bindPopup%28popup_cbfc4a36050b46ab811a516c915feb25%29%0A%20%20%20%20%20%20%20%20%3B%0A%0A%20%20%20%20%20%20%20%20%0A%20%20%20%20%0A%20%20%20%20%0A%20%20%20%20%20%20%20%20%20%20%20%20var%20marker_b6992a6047bb4c3ab4a34ea06cfb13b9%20%3D%20L.marker%28%0A%20%20%20%20%20%20%20%20%20%20%20%20%20%20%20%20%5B-22.81506817323086%2C%20-47.07122280371313%5D%2C%0A%20%20%20%20%20%20%20%20%20%20%20%20%20%20%20%20%7B%7D%0A%20%20%20%20%20%20%20%20%20%20%20%20%29.addTo%28map_65424cca01d146e7902ed2d89004c48f%29%3B%0A%20%20%20%20%20%20%20%20%0A%20%20%20%20%0A%20%20%20%20%20%20%20%20%20%20%20%20var%20icon_66ffaddf69b4400bb1b151cf0148fbfc%20%3D%20L.AwesomeMarkers.icon%28%0A%20%20%20%20%20%20%20%20%20%20%20%20%20%20%20%20%7B%22extraClasses%22%3A%20%22fa-rotate-0%22%2C%20%22icon%22%3A%20%22info-sign%22%2C%20%22iconColor%22%3A%20%22white%22%2C%20%22markerColor%22%3A%20%22blue%22%2C%20%22prefix%22%3A%20%22glyphicon%22%7D%0A%20%20%20%20%20%20%20%20%20%20%20%20%29%3B%0A%20%20%20%20%20%20%20%20%20%20%20%20marker_b6992a6047bb4c3ab4a34ea06cfb13b9.setIcon%28icon_66ffaddf69b4400bb1b151cf0148fbfc%29%3B%0A%20%20%20%20%20%20%20%20%0A%20%20%20%20%0A%20%20%20%20%20%20%20%20var%20popup_8b1757df6d2345c9815acb28961d24f7%20%3D%20L.popup%28%7B%22maxWidth%22%3A%20%22100%25%22%7D%29%3B%0A%0A%20%20%20%20%20%20%20%20%0A%20%20%20%20%20%20%20%20%20%20%20%20var%20html_ce307dc4bad148a98275da7aaa9deaa0%20%3D%20%24%28%60%3Cdiv%20id%3D%22html_ce307dc4bad148a98275da7aaa9deaa0%22%20style%3D%22width%3A%20100.0%25%3B%20height%3A%20100.0%25%3B%22%3ELat%3A%20-22.81506817323086%2C%20Lng%3A%20-47.07122280371313%2C%20Rssi%3A%20-97.121%3C/div%3E%60%29%5B0%5D%3B%0A%20%20%20%20%20%20%20%20%20%20%20%20popup_8b1757df6d2345c9815acb28961d24f7.setContent%28html_ce307dc4bad148a98275da7aaa9deaa0%29%3B%0A%20%20%20%20%20%20%20%20%0A%0A%20%20%20%20%20%20%20%20marker_b6992a6047bb4c3ab4a34ea06cfb13b9.bindPopup%28popup_8b1757df6d2345c9815acb28961d24f7%29%0A%20%20%20%20%20%20%20%20%3B%0A%0A%20%20%20%20%20%20%20%20%0A%20%20%20%20%0A%20%20%20%20%0A%20%20%20%20%20%20%20%20%20%20%20%20var%20marker_b57944638fca4c5484be997802087a0b%20%3D%20L.marker%28%0A%20%20%20%20%20%20%20%20%20%20%20%20%20%20%20%20%5B-22.82393493173468%2C%20-47.06617092032558%5D%2C%0A%20%20%20%20%20%20%20%20%20%20%20%20%20%20%20%20%7B%7D%0A%20%20%20%20%20%20%20%20%20%20%20%20%29.addTo%28map_65424cca01d146e7902ed2d89004c48f%29%3B%0A%20%20%20%20%20%20%20%20%0A%20%20%20%20%0A%20%20%20%20%20%20%20%20%20%20%20%20var%20icon_4df9db38241545ff8deaa855969855f5%20%3D%20L.AwesomeMarkers.icon%28%0A%20%20%20%20%20%20%20%20%20%20%20%20%20%20%20%20%7B%22extraClasses%22%3A%20%22fa-rotate-0%22%2C%20%22icon%22%3A%20%22info-sign%22%2C%20%22iconColor%22%3A%20%22white%22%2C%20%22markerColor%22%3A%20%22blue%22%2C%20%22prefix%22%3A%20%22glyphicon%22%7D%0A%20%20%20%20%20%20%20%20%20%20%20%20%29%3B%0A%20%20%20%20%20%20%20%20%20%20%20%20marker_b57944638fca4c5484be997802087a0b.setIcon%28icon_4df9db38241545ff8deaa855969855f5%29%3B%0A%20%20%20%20%20%20%20%20%0A%20%20%20%20%0A%20%20%20%20%20%20%20%20var%20popup_0e663ea1d877416daec605495851167b%20%3D%20L.popup%28%7B%22maxWidth%22%3A%20%22100%25%22%7D%29%3B%0A%0A%20%20%20%20%20%20%20%20%0A%20%20%20%20%20%20%20%20%20%20%20%20var%20html_fe0093af81954d78af64681fe7f8be29%20%3D%20%24%28%60%3Cdiv%20id%3D%22html_fe0093af81954d78af64681fe7f8be29%22%20style%3D%22width%3A%20100.0%25%3B%20height%3A%20100.0%25%3B%22%3ELat%3A%20-22.82393493173468%2C%20Lng%3A%20-47.06617092032558%2C%20Rssi%3A%20-96.4544%3C/div%3E%60%29%5B0%5D%3B%0A%20%20%20%20%20%20%20%20%20%20%20%20popup_0e663ea1d877416daec605495851167b.setContent%28html_fe0093af81954d78af64681fe7f8be29%29%3B%0A%20%20%20%20%20%20%20%20%0A%0A%20%20%20%20%20%20%20%20marker_b57944638fca4c5484be997802087a0b.bindPopup%28popup_0e663ea1d877416daec605495851167b%29%0A%20%20%20%20%20%20%20%20%3B%0A%0A%20%20%20%20%20%20%20%20%0A%20%20%20%20%0A%20%20%20%20%0A%20%20%20%20%20%20%20%20%20%20%20%20var%20marker_422b99d38d5c402a84087be369df7272%20%3D%20L.marker%28%0A%20%20%20%20%20%20%20%20%20%20%20%20%20%20%20%20%5B-22.82386108264907%2C%20-47.06753773030155%5D%2C%0A%20%20%20%20%20%20%20%20%20%20%20%20%20%20%20%20%7B%7D%0A%20%20%20%20%20%20%20%20%20%20%20%20%29.addTo%28map_65424cca01d146e7902ed2d89004c48f%29%3B%0A%20%20%20%20%20%20%20%20%0A%20%20%20%20%0A%20%20%20%20%20%20%20%20%20%20%20%20var%20icon_55d66c810caa4243bd248690f5cde6da%20%3D%20L.AwesomeMarkers.icon%28%0A%20%20%20%20%20%20%20%20%20%20%20%20%20%20%20%20%7B%22extraClasses%22%3A%20%22fa-rotate-0%22%2C%20%22icon%22%3A%20%22info-sign%22%2C%20%22iconColor%22%3A%20%22white%22%2C%20%22markerColor%22%3A%20%22blue%22%2C%20%22prefix%22%3A%20%22glyphicon%22%7D%0A%20%20%20%20%20%20%20%20%20%20%20%20%29%3B%0A%20%20%20%20%20%20%20%20%20%20%20%20marker_422b99d38d5c402a84087be369df7272.setIcon%28icon_55d66c810caa4243bd248690f5cde6da%29%3B%0A%20%20%20%20%20%20%20%20%0A%20%20%20%20%0A%20%20%20%20%20%20%20%20var%20popup_074c981f13b2491b9c01c3fd0839b000%20%3D%20L.popup%28%7B%22maxWidth%22%3A%20%22100%25%22%7D%29%3B%0A%0A%20%20%20%20%20%20%20%20%0A%20%20%20%20%20%20%20%20%20%20%20%20var%20html_65dcd2274cf34784a6b124e5626c1978%20%3D%20%24%28%60%3Cdiv%20id%3D%22html_65dcd2274cf34784a6b124e5626c1978%22%20style%3D%22width%3A%20100.0%25%3B%20height%3A%20100.0%25%3B%22%3ELat%3A%20-22.82386108264907%2C%20Lng%3A%20-47.06753773030155%2C%20Rssi%3A%20-97.3935%3C/div%3E%60%29%5B0%5D%3B%0A%20%20%20%20%20%20%20%20%20%20%20%20popup_074c981f13b2491b9c01c3fd0839b000.setContent%28html_65dcd2274cf34784a6b124e5626c1978%29%3B%0A%20%20%20%20%20%20%20%20%0A%0A%20%20%20%20%20%20%20%20marker_422b99d38d5c402a84087be369df7272.bindPopup%28popup_074c981f13b2491b9c01c3fd0839b000%29%0A%20%20%20%20%20%20%20%20%3B%0A%0A%20%20%20%20%20%20%20%20%0A%20%20%20%20%0A%20%20%20%20%0A%20%20%20%20%20%20%20%20%20%20%20%20var%20marker_58fa50d8dcc1482cab1bdc802b175868%20%3D%20L.marker%28%0A%20%20%20%20%20%20%20%20%20%20%20%20%20%20%20%20%5B-22.82840759241185%2C%20-47.06186747418447%5D%2C%0A%20%20%20%20%20%20%20%20%20%20%20%20%20%20%20%20%7B%7D%0A%20%20%20%20%20%20%20%20%20%20%20%20%29.addTo%28map_65424cca01d146e7902ed2d89004c48f%29%3B%0A%20%20%20%20%20%20%20%20%0A%20%20%20%20%0A%20%20%20%20%20%20%20%20%20%20%20%20var%20icon_1f6273d16de0414f8412e2879b6c5dc9%20%3D%20L.AwesomeMarkers.icon%28%0A%20%20%20%20%20%20%20%20%20%20%20%20%20%20%20%20%7B%22extraClasses%22%3A%20%22fa-rotate-0%22%2C%20%22icon%22%3A%20%22info-sign%22%2C%20%22iconColor%22%3A%20%22white%22%2C%20%22markerColor%22%3A%20%22blue%22%2C%20%22prefix%22%3A%20%22glyphicon%22%7D%0A%20%20%20%20%20%20%20%20%20%20%20%20%29%3B%0A%20%20%20%20%20%20%20%20%20%20%20%20marker_58fa50d8dcc1482cab1bdc802b175868.setIcon%28icon_1f6273d16de0414f8412e2879b6c5dc9%29%3B%0A%20%20%20%20%20%20%20%20%0A%20%20%20%20%0A%20%20%20%20%20%20%20%20var%20popup_7273590f5fe444f2b11216f0c6e9ab95%20%3D%20L.popup%28%7B%22maxWidth%22%3A%20%22100%25%22%7D%29%3B%0A%0A%20%20%20%20%20%20%20%20%0A%20%20%20%20%20%20%20%20%20%20%20%20var%20html_bc5ee8a14ef64b96a90725eb6cb1a802%20%3D%20%24%28%60%3Cdiv%20id%3D%22html_bc5ee8a14ef64b96a90725eb6cb1a802%22%20style%3D%22width%3A%20100.0%25%3B%20height%3A%20100.0%25%3B%22%3ELat%3A%20-22.82840759241185%2C%20Lng%3A%20-47.06186747418447%2C%20Rssi%3A%20-98.7392%3C/div%3E%60%29%5B0%5D%3B%0A%20%20%20%20%20%20%20%20%20%20%20%20popup_7273590f5fe444f2b11216f0c6e9ab95.setContent%28html_bc5ee8a14ef64b96a90725eb6cb1a802%29%3B%0A%20%20%20%20%20%20%20%20%0A%0A%20%20%20%20%20%20%20%20marker_58fa50d8dcc1482cab1bdc802b175868.bindPopup%28popup_7273590f5fe444f2b11216f0c6e9ab95%29%0A%20%20%20%20%20%20%20%20%3B%0A%0A%20%20%20%20%20%20%20%20%0A%20%20%20%20%0A%20%20%20%20%0A%20%20%20%20%20%20%20%20%20%20%20%20var%20marker_840fbbd7bd82413b87a729e5e5a6888c%20%3D%20L.marker%28%0A%20%20%20%20%20%20%20%20%20%20%20%20%20%20%20%20%5B-22.8273396767669%2C%20-47.06144872987941%5D%2C%0A%20%20%20%20%20%20%20%20%20%20%20%20%20%20%20%20%7B%7D%0A%20%20%20%20%20%20%20%20%20%20%20%20%29.addTo%28map_65424cca01d146e7902ed2d89004c48f%29%3B%0A%20%20%20%20%20%20%20%20%0A%20%20%20%20%0A%20%20%20%20%20%20%20%20%20%20%20%20var%20icon_82ed956b611142a4968ffabdf4e9deb9%20%3D%20L.AwesomeMarkers.icon%28%0A%20%20%20%20%20%20%20%20%20%20%20%20%20%20%20%20%7B%22extraClasses%22%3A%20%22fa-rotate-0%22%2C%20%22icon%22%3A%20%22info-sign%22%2C%20%22iconColor%22%3A%20%22white%22%2C%20%22markerColor%22%3A%20%22blue%22%2C%20%22prefix%22%3A%20%22glyphicon%22%7D%0A%20%20%20%20%20%20%20%20%20%20%20%20%29%3B%0A%20%20%20%20%20%20%20%20%20%20%20%20marker_840fbbd7bd82413b87a729e5e5a6888c.setIcon%28icon_82ed956b611142a4968ffabdf4e9deb9%29%3B%0A%20%20%20%20%20%20%20%20%0A%20%20%20%20%0A%20%20%20%20%20%20%20%20var%20popup_0c15d1db810e462d93ac91f77eefd19e%20%3D%20L.popup%28%7B%22maxWidth%22%3A%20%22100%25%22%7D%29%3B%0A%0A%20%20%20%20%20%20%20%20%0A%20%20%20%20%20%20%20%20%20%20%20%20var%20html_3df06298163b4b8e9e1bf4cface28fb3%20%3D%20%24%28%60%3Cdiv%20id%3D%22html_3df06298163b4b8e9e1bf4cface28fb3%22%20style%3D%22width%3A%20100.0%25%3B%20height%3A%20100.0%25%3B%22%3ELat%3A%20-22.8273396767669%2C%20Lng%3A%20-47.06144872987941%2C%20Rssi%3A%20-97.5403%3C/div%3E%60%29%5B0%5D%3B%0A%20%20%20%20%20%20%20%20%20%20%20%20popup_0c15d1db810e462d93ac91f77eefd19e.setContent%28html_3df06298163b4b8e9e1bf4cface28fb3%29%3B%0A%20%20%20%20%20%20%20%20%0A%0A%20%20%20%20%20%20%20%20marker_840fbbd7bd82413b87a729e5e5a6888c.bindPopup%28popup_0c15d1db810e462d93ac91f77eefd19e%29%0A%20%20%20%20%20%20%20%20%3B%0A%0A%20%20%20%20%20%20%20%20%0A%20%20%20%20%0A%20%20%20%20%0A%20%20%20%20%20%20%20%20%20%20%20%20var%20marker_9c0481ad715648e5a6735bdbca110686%20%3D%20L.marker%28%0A%20%20%20%20%20%20%20%20%20%20%20%20%20%20%20%20%5B-22.82996331426923%2C%20-47.06404772458724%5D%2C%0A%20%20%20%20%20%20%20%20%20%20%20%20%20%20%20%20%7B%7D%0A%20%20%20%20%20%20%20%20%20%20%20%20%29.addTo%28map_65424cca01d146e7902ed2d89004c48f%29%3B%0A%20%20%20%20%20%20%20%20%0A%20%20%20%20%0A%20%20%20%20%20%20%20%20%20%20%20%20var%20icon_2db7951b9be64a1bb6cb7d18f54fecc4%20%3D%20L.AwesomeMarkers.icon%28%0A%20%20%20%20%20%20%20%20%20%20%20%20%20%20%20%20%7B%22extraClasses%22%3A%20%22fa-rotate-0%22%2C%20%22icon%22%3A%20%22info-sign%22%2C%20%22iconColor%22%3A%20%22white%22%2C%20%22markerColor%22%3A%20%22lightblue%22%2C%20%22prefix%22%3A%20%22glyphicon%22%7D%0A%20%20%20%20%20%20%20%20%20%20%20%20%29%3B%0A%20%20%20%20%20%20%20%20%20%20%20%20marker_9c0481ad715648e5a6735bdbca110686.setIcon%28icon_2db7951b9be64a1bb6cb7d18f54fecc4%29%3B%0A%20%20%20%20%20%20%20%20%0A%20%20%20%20%0A%20%20%20%20%20%20%20%20var%20popup_b5b86e39243a4a658a14dfa8ea14df71%20%3D%20L.popup%28%7B%22maxWidth%22%3A%20%22100%25%22%7D%29%3B%0A%0A%20%20%20%20%20%20%20%20%0A%20%20%20%20%20%20%20%20%20%20%20%20var%20html_e3ae07088826453dbb2f1c59cdc264dd%20%3D%20%24%28%60%3Cdiv%20id%3D%22html_e3ae07088826453dbb2f1c59cdc264dd%22%20style%3D%22width%3A%20100.0%25%3B%20height%3A%20100.0%25%3B%22%3ELat%3A%20-22.82996331426923%2C%20Lng%3A%20-47.06404772458724%2C%20Rssi%3A%20-100.745%3C/div%3E%60%29%5B0%5D%3B%0A%20%20%20%20%20%20%20%20%20%20%20%20popup_b5b86e39243a4a658a14dfa8ea14df71.setContent%28html_e3ae07088826453dbb2f1c59cdc264dd%29%3B%0A%20%20%20%20%20%20%20%20%0A%0A%20%20%20%20%20%20%20%20marker_9c0481ad715648e5a6735bdbca110686.bindPopup%28popup_b5b86e39243a4a658a14dfa8ea14df71%29%0A%20%20%20%20%20%20%20%20%3B%0A%0A%20%20%20%20%20%20%20%20%0A%20%20%20%20%0A%20%20%20%20%0A%20%20%20%20%20%20%20%20%20%20%20%20var%20marker_fa3500188c7d454799c0146a47c7b7ae%20%3D%20L.marker%28%0A%20%20%20%20%20%20%20%20%20%20%20%20%20%20%20%20%5B-22.81536258272692%2C%20-47.0728795528978%5D%2C%0A%20%20%20%20%20%20%20%20%20%20%20%20%20%20%20%20%7B%7D%0A%20%20%20%20%20%20%20%20%20%20%20%20%29.addTo%28map_65424cca01d146e7902ed2d89004c48f%29%3B%0A%20%20%20%20%20%20%20%20%0A%20%20%20%20%0A%20%20%20%20%20%20%20%20%20%20%20%20var%20icon_53ae4e75d5cb4399aa8f3cfd8266e8b6%20%3D%20L.AwesomeMarkers.icon%28%0A%20%20%20%20%20%20%20%20%20%20%20%20%20%20%20%20%7B%22extraClasses%22%3A%20%22fa-rotate-0%22%2C%20%22icon%22%3A%20%22info-sign%22%2C%20%22iconColor%22%3A%20%22white%22%2C%20%22markerColor%22%3A%20%22blue%22%2C%20%22prefix%22%3A%20%22glyphicon%22%7D%0A%20%20%20%20%20%20%20%20%20%20%20%20%29%3B%0A%20%20%20%20%20%20%20%20%20%20%20%20marker_fa3500188c7d454799c0146a47c7b7ae.setIcon%28icon_53ae4e75d5cb4399aa8f3cfd8266e8b6%29%3B%0A%20%20%20%20%20%20%20%20%0A%20%20%20%20%0A%20%20%20%20%20%20%20%20var%20popup_a0e520598dfa4d499ecacc3accfae55a%20%3D%20L.popup%28%7B%22maxWidth%22%3A%20%22100%25%22%7D%29%3B%0A%0A%20%20%20%20%20%20%20%20%0A%20%20%20%20%20%20%20%20%20%20%20%20var%20html_ba01545f2e684ba49cbad7998ed9dce3%20%3D%20%24%28%60%3Cdiv%20id%3D%22html_ba01545f2e684ba49cbad7998ed9dce3%22%20style%3D%22width%3A%20100.0%25%3B%20height%3A%20100.0%25%3B%22%3ELat%3A%20-22.81536258272692%2C%20Lng%3A%20-47.0728795528978%2C%20Rssi%3A%20-98.7742%3C/div%3E%60%29%5B0%5D%3B%0A%20%20%20%20%20%20%20%20%20%20%20%20popup_a0e520598dfa4d499ecacc3accfae55a.setContent%28html_ba01545f2e684ba49cbad7998ed9dce3%29%3B%0A%20%20%20%20%20%20%20%20%0A%0A%20%20%20%20%20%20%20%20marker_fa3500188c7d454799c0146a47c7b7ae.bindPopup%28popup_a0e520598dfa4d499ecacc3accfae55a%29%0A%20%20%20%20%20%20%20%20%3B%0A%0A%20%20%20%20%20%20%20%20%0A%20%20%20%20%0A%20%20%20%20%0A%20%20%20%20%20%20%20%20%20%20%20%20var%20marker_2208928bbf2c4632b029ab28459680a9%20%3D%20L.marker%28%0A%20%20%20%20%20%20%20%20%20%20%20%20%20%20%20%20%5B-22.83096072883751%2C%20-47.06335017986552%5D%2C%0A%20%20%20%20%20%20%20%20%20%20%20%20%20%20%20%20%7B%7D%0A%20%20%20%20%20%20%20%20%20%20%20%20%29.addTo%28map_65424cca01d146e7902ed2d89004c48f%29%3B%0A%20%20%20%20%20%20%20%20%0A%20%20%20%20%0A%20%20%20%20%20%20%20%20%20%20%20%20var%20icon_9cc5c40bf8114284bfeec7e669fe315a%20%3D%20L.AwesomeMarkers.icon%28%0A%20%20%20%20%20%20%20%20%20%20%20%20%20%20%20%20%7B%22extraClasses%22%3A%20%22fa-rotate-0%22%2C%20%22icon%22%3A%20%22info-sign%22%2C%20%22iconColor%22%3A%20%22white%22%2C%20%22markerColor%22%3A%20%22lightblue%22%2C%20%22prefix%22%3A%20%22glyphicon%22%7D%0A%20%20%20%20%20%20%20%20%20%20%20%20%29%3B%0A%20%20%20%20%20%20%20%20%20%20%20%20marker_2208928bbf2c4632b029ab28459680a9.setIcon%28icon_9cc5c40bf8114284bfeec7e669fe315a%29%3B%0A%20%20%20%20%20%20%20%20%0A%20%20%20%20%0A%20%20%20%20%20%20%20%20var%20popup_096f7a851de940a1b6d87468d1da429b%20%3D%20L.popup%28%7B%22maxWidth%22%3A%20%22100%25%22%7D%29%3B%0A%0A%20%20%20%20%20%20%20%20%0A%20%20%20%20%20%20%20%20%20%20%20%20var%20html_270580090eb24de7a527ec9a31f0116b%20%3D%20%24%28%60%3Cdiv%20id%3D%22html_270580090eb24de7a527ec9a31f0116b%22%20style%3D%22width%3A%20100.0%25%3B%20height%3A%20100.0%25%3B%22%3ELat%3A%20-22.83096072883751%2C%20Lng%3A%20-47.06335017986552%2C%20Rssi%3A%20-101.367%3C/div%3E%60%29%5B0%5D%3B%0A%20%20%20%20%20%20%20%20%20%20%20%20popup_096f7a851de940a1b6d87468d1da429b.setContent%28html_270580090eb24de7a527ec9a31f0116b%29%3B%0A%20%20%20%20%20%20%20%20%0A%0A%20%20%20%20%20%20%20%20marker_2208928bbf2c4632b029ab28459680a9.bindPopup%28popup_096f7a851de940a1b6d87468d1da429b%29%0A%20%20%20%20%20%20%20%20%3B%0A%0A%20%20%20%20%20%20%20%20%0A%20%20%20%20%0A%20%20%20%20%0A%20%20%20%20%20%20%20%20%20%20%20%20var%20marker_580b08d9591b4605b50474389937bc73%20%3D%20L.marker%28%0A%20%20%20%20%20%20%20%20%20%20%20%20%20%20%20%20%5B-22.81883627792137%2C%20-47.06061555601061%5D%2C%0A%20%20%20%20%20%20%20%20%20%20%20%20%20%20%20%20%7B%7D%0A%20%20%20%20%20%20%20%20%20%20%20%20%29.addTo%28map_65424cca01d146e7902ed2d89004c48f%29%3B%0A%20%20%20%20%20%20%20%20%0A%20%20%20%20%0A%20%20%20%20%20%20%20%20%20%20%20%20var%20icon_817ec46972e447ae9f8c1d9461d3a95c%20%3D%20L.AwesomeMarkers.icon%28%0A%20%20%20%20%20%20%20%20%20%20%20%20%20%20%20%20%7B%22extraClasses%22%3A%20%22fa-rotate-0%22%2C%20%22icon%22%3A%20%22info-sign%22%2C%20%22iconColor%22%3A%20%22white%22%2C%20%22markerColor%22%3A%20%22blue%22%2C%20%22prefix%22%3A%20%22glyphicon%22%7D%0A%20%20%20%20%20%20%20%20%20%20%20%20%29%3B%0A%20%20%20%20%20%20%20%20%20%20%20%20marker_580b08d9591b4605b50474389937bc73.setIcon%28icon_817ec46972e447ae9f8c1d9461d3a95c%29%3B%0A%20%20%20%20%20%20%20%20%0A%20%20%20%20%0A%20%20%20%20%20%20%20%20var%20popup_a924257e7cf6405b9c3e4720f7d3e504%20%3D%20L.popup%28%7B%22maxWidth%22%3A%20%22100%25%22%7D%29%3B%0A%0A%20%20%20%20%20%20%20%20%0A%20%20%20%20%20%20%20%20%20%20%20%20var%20html_1b0c04535f7a44faaf0a9e691d7a3e0f%20%3D%20%24%28%60%3Cdiv%20id%3D%22html_1b0c04535f7a44faaf0a9e691d7a3e0f%22%20style%3D%22width%3A%20100.0%25%3B%20height%3A%20100.0%25%3B%22%3ELat%3A%20-22.81883627792137%2C%20Lng%3A%20-47.06061555601061%2C%20Rssi%3A%20-83.3641%3C/div%3E%60%29%5B0%5D%3B%0A%20%20%20%20%20%20%20%20%20%20%20%20popup_a924257e7cf6405b9c3e4720f7d3e504.setContent%28html_1b0c04535f7a44faaf0a9e691d7a3e0f%29%3B%0A%20%20%20%20%20%20%20%20%0A%0A%20%20%20%20%20%20%20%20marker_580b08d9591b4605b50474389937bc73.bindPopup%28popup_a924257e7cf6405b9c3e4720f7d3e504%29%0A%20%20%20%20%20%20%20%20%3B%0A%0A%20%20%20%20%20%20%20%20%0A%20%20%20%20%0A%20%20%20%20%0A%20%20%20%20%20%20%20%20%20%20%20%20var%20marker_a2c8b18591ee49a49b878b4f97db0d8b%20%3D%20L.marker%28%0A%20%20%20%20%20%20%20%20%20%20%20%20%20%20%20%20%5B-22.81642866763006%2C%20-47.06200737084524%5D%2C%0A%20%20%20%20%20%20%20%20%20%20%20%20%20%20%20%20%7B%7D%0A%20%20%20%20%20%20%20%20%20%20%20%20%29.addTo%28map_65424cca01d146e7902ed2d89004c48f%29%3B%0A%20%20%20%20%20%20%20%20%0A%20%20%20%20%0A%20%20%20%20%20%20%20%20%20%20%20%20var%20icon_2247f99899324fb3bcc9d29a77bba2ad%20%3D%20L.AwesomeMarkers.icon%28%0A%20%20%20%20%20%20%20%20%20%20%20%20%20%20%20%20%7B%22extraClasses%22%3A%20%22fa-rotate-0%22%2C%20%22icon%22%3A%20%22info-sign%22%2C%20%22iconColor%22%3A%20%22white%22%2C%20%22markerColor%22%3A%20%22blue%22%2C%20%22prefix%22%3A%20%22glyphicon%22%7D%0A%20%20%20%20%20%20%20%20%20%20%20%20%29%3B%0A%20%20%20%20%20%20%20%20%20%20%20%20marker_a2c8b18591ee49a49b878b4f97db0d8b.setIcon%28icon_2247f99899324fb3bcc9d29a77bba2ad%29%3B%0A%20%20%20%20%20%20%20%20%0A%20%20%20%20%0A%20%20%20%20%20%20%20%20var%20popup_004d64508bae4fb9a7e9821878d57fec%20%3D%20L.popup%28%7B%22maxWidth%22%3A%20%22100%25%22%7D%29%3B%0A%0A%20%20%20%20%20%20%20%20%0A%20%20%20%20%20%20%20%20%20%20%20%20var%20html_b627e95835c34a8ba21f2e1eec1d1934%20%3D%20%24%28%60%3Cdiv%20id%3D%22html_b627e95835c34a8ba21f2e1eec1d1934%22%20style%3D%22width%3A%20100.0%25%3B%20height%3A%20100.0%25%3B%22%3ELat%3A%20-22.81642866763006%2C%20Lng%3A%20-47.06200737084524%2C%20Rssi%3A%20-81.8025%3C/div%3E%60%29%5B0%5D%3B%0A%20%20%20%20%20%20%20%20%20%20%20%20popup_004d64508bae4fb9a7e9821878d57fec.setContent%28html_b627e95835c34a8ba21f2e1eec1d1934%29%3B%0A%20%20%20%20%20%20%20%20%0A%0A%20%20%20%20%20%20%20%20marker_a2c8b18591ee49a49b878b4f97db0d8b.bindPopup%28popup_004d64508bae4fb9a7e9821878d57fec%29%0A%20%20%20%20%20%20%20%20%3B%0A%0A%20%20%20%20%20%20%20%20%0A%20%20%20%20%0A%20%20%20%20%0A%20%20%20%20%20%20%20%20%20%20%20%20var%20marker_4bc362391bd14b4db4cb7046278460e9%20%3D%20L.marker%28%0A%20%20%20%20%20%20%20%20%20%20%20%20%20%20%20%20%5B-22.82041670721943%2C%20-47.06747962546312%5D%2C%0A%20%20%20%20%20%20%20%20%20%20%20%20%20%20%20%20%7B%7D%0A%20%20%20%20%20%20%20%20%20%20%20%20%29.addTo%28map_65424cca01d146e7902ed2d89004c48f%29%3B%0A%20%20%20%20%20%20%20%20%0A%20%20%20%20%0A%20%20%20%20%20%20%20%20%20%20%20%20var%20icon_b66124df912f4c04b4b6a4e8b24c2973%20%3D%20L.AwesomeMarkers.icon%28%0A%20%20%20%20%20%20%20%20%20%20%20%20%20%20%20%20%7B%22extraClasses%22%3A%20%22fa-rotate-0%22%2C%20%22icon%22%3A%20%22info-sign%22%2C%20%22iconColor%22%3A%20%22white%22%2C%20%22markerColor%22%3A%20%22blue%22%2C%20%22prefix%22%3A%20%22glyphicon%22%7D%0A%20%20%20%20%20%20%20%20%20%20%20%20%29%3B%0A%20%20%20%20%20%20%20%20%20%20%20%20marker_4bc362391bd14b4db4cb7046278460e9.setIcon%28icon_b66124df912f4c04b4b6a4e8b24c2973%29%3B%0A%20%20%20%20%20%20%20%20%0A%20%20%20%20%0A%20%20%20%20%20%20%20%20var%20popup_b2c2a2df0c724d1690085c2dd3db9ba6%20%3D%20L.popup%28%7B%22maxWidth%22%3A%20%22100%25%22%7D%29%3B%0A%0A%20%20%20%20%20%20%20%20%0A%20%20%20%20%20%20%20%20%20%20%20%20var%20html_fbfbe8f588f841529228fde1a2aff242%20%3D%20%24%28%60%3Cdiv%20id%3D%22html_fbfbe8f588f841529228fde1a2aff242%22%20style%3D%22width%3A%20100.0%25%3B%20height%3A%20100.0%25%3B%22%3ELat%3A%20-22.82041670721943%2C%20Lng%3A%20-47.06747962546312%2C%20Rssi%3A%20-94.7387%3C/div%3E%60%29%5B0%5D%3B%0A%20%20%20%20%20%20%20%20%20%20%20%20popup_b2c2a2df0c724d1690085c2dd3db9ba6.setContent%28html_fbfbe8f588f841529228fde1a2aff242%29%3B%0A%20%20%20%20%20%20%20%20%0A%0A%20%20%20%20%20%20%20%20marker_4bc362391bd14b4db4cb7046278460e9.bindPopup%28popup_b2c2a2df0c724d1690085c2dd3db9ba6%29%0A%20%20%20%20%20%20%20%20%3B%0A%0A%20%20%20%20%20%20%20%20%0A%20%20%20%20%0A%20%20%20%20%0A%20%20%20%20%20%20%20%20%20%20%20%20var%20marker_046c9b0f665d4ca895cfe38e389fa959%20%3D%20L.marker%28%0A%20%20%20%20%20%20%20%20%20%20%20%20%20%20%20%20%5B-22.82119794279166%2C%20-47.06623375692565%5D%2C%0A%20%20%20%20%20%20%20%20%20%20%20%20%20%20%20%20%7B%7D%0A%20%20%20%20%20%20%20%20%20%20%20%20%29.addTo%28map_65424cca01d146e7902ed2d89004c48f%29%3B%0A%20%20%20%20%20%20%20%20%0A%20%20%20%20%0A%20%20%20%20%20%20%20%20%20%20%20%20var%20icon_fb54610dc6984e8c95f0ddb332b16ed0%20%3D%20L.AwesomeMarkers.icon%28%0A%20%20%20%20%20%20%20%20%20%20%20%20%20%20%20%20%7B%22extraClasses%22%3A%20%22fa-rotate-0%22%2C%20%22icon%22%3A%20%22info-sign%22%2C%20%22iconColor%22%3A%20%22white%22%2C%20%22markerColor%22%3A%20%22blue%22%2C%20%22prefix%22%3A%20%22glyphicon%22%7D%0A%20%20%20%20%20%20%20%20%20%20%20%20%29%3B%0A%20%20%20%20%20%20%20%20%20%20%20%20marker_046c9b0f665d4ca895cfe38e389fa959.setIcon%28icon_fb54610dc6984e8c95f0ddb332b16ed0%29%3B%0A%20%20%20%20%20%20%20%20%0A%20%20%20%20%0A%20%20%20%20%20%20%20%20var%20popup_2f3721d3d00d4baf995f273469710676%20%3D%20L.popup%28%7B%22maxWidth%22%3A%20%22100%25%22%7D%29%3B%0A%0A%20%20%20%20%20%20%20%20%0A%20%20%20%20%20%20%20%20%20%20%20%20var%20html_024639017952422fb44a7e9590f37fff%20%3D%20%24%28%60%3Cdiv%20id%3D%22html_024639017952422fb44a7e9590f37fff%22%20style%3D%22width%3A%20100.0%25%3B%20height%3A%20100.0%25%3B%22%3ELat%3A%20-22.82119794279166%2C%20Lng%3A%20-47.06623375692565%2C%20Rssi%3A%20-94.0489%3C/div%3E%60%29%5B0%5D%3B%0A%20%20%20%20%20%20%20%20%20%20%20%20popup_2f3721d3d00d4baf995f273469710676.setContent%28html_024639017952422fb44a7e9590f37fff%29%3B%0A%20%20%20%20%20%20%20%20%0A%0A%20%20%20%20%20%20%20%20marker_046c9b0f665d4ca895cfe38e389fa959.bindPopup%28popup_2f3721d3d00d4baf995f273469710676%29%0A%20%20%20%20%20%20%20%20%3B%0A%0A%20%20%20%20%20%20%20%20%0A%20%20%20%20%0A%20%20%20%20%0A%20%20%20%20%20%20%20%20%20%20%20%20var%20marker_aa880c9f3711446a938987c060eaecea%20%3D%20L.marker%28%0A%20%20%20%20%20%20%20%20%20%20%20%20%20%20%20%20%5B-22.81946357242083%2C%20-47.06594370942929%5D%2C%0A%20%20%20%20%20%20%20%20%20%20%20%20%20%20%20%20%7B%7D%0A%20%20%20%20%20%20%20%20%20%20%20%20%29.addTo%28map_65424cca01d146e7902ed2d89004c48f%29%3B%0A%20%20%20%20%20%20%20%20%0A%20%20%20%20%0A%20%20%20%20%20%20%20%20%20%20%20%20var%20icon_9692d43389df45dc9fb175abddaa5bfa%20%3D%20L.AwesomeMarkers.icon%28%0A%20%20%20%20%20%20%20%20%20%20%20%20%20%20%20%20%7B%22extraClasses%22%3A%20%22fa-rotate-0%22%2C%20%22icon%22%3A%20%22info-sign%22%2C%20%22iconColor%22%3A%20%22white%22%2C%20%22markerColor%22%3A%20%22blue%22%2C%20%22prefix%22%3A%20%22glyphicon%22%7D%0A%20%20%20%20%20%20%20%20%20%20%20%20%29%3B%0A%20%20%20%20%20%20%20%20%20%20%20%20marker_aa880c9f3711446a938987c060eaecea.setIcon%28icon_9692d43389df45dc9fb175abddaa5bfa%29%3B%0A%20%20%20%20%20%20%20%20%0A%20%20%20%20%0A%20%20%20%20%20%20%20%20var%20popup_b6d2be6985984cc89e4cc92dc34afa0c%20%3D%20L.popup%28%7B%22maxWidth%22%3A%20%22100%25%22%7D%29%3B%0A%0A%20%20%20%20%20%20%20%20%0A%20%20%20%20%20%20%20%20%20%20%20%20var%20html_ab53df0480924704adf5c459c712ee58%20%3D%20%24%28%60%3Cdiv%20id%3D%22html_ab53df0480924704adf5c459c712ee58%22%20style%3D%22width%3A%20100.0%25%3B%20height%3A%20100.0%25%3B%22%3ELat%3A%20-22.81946357242083%2C%20Lng%3A%20-47.06594370942929%2C%20Rssi%3A%20-92.2321%3C/div%3E%60%29%5B0%5D%3B%0A%20%20%20%20%20%20%20%20%20%20%20%20popup_b6d2be6985984cc89e4cc92dc34afa0c.setContent%28html_ab53df0480924704adf5c459c712ee58%29%3B%0A%20%20%20%20%20%20%20%20%0A%0A%20%20%20%20%20%20%20%20marker_aa880c9f3711446a938987c060eaecea.bindPopup%28popup_b6d2be6985984cc89e4cc92dc34afa0c%29%0A%20%20%20%20%20%20%20%20%3B%0A%0A%20%20%20%20%20%20%20%20%0A%20%20%20%20%0A%20%20%20%20%0A%20%20%20%20%20%20%20%20%20%20%20%20var%20marker_20511e36108342cb8935bef9cbe45d9e%20%3D%20L.marker%28%0A%20%20%20%20%20%20%20%20%20%20%20%20%20%20%20%20%5B-22.82058803039477%2C%20-47.06490757596987%5D%2C%0A%20%20%20%20%20%20%20%20%20%20%20%20%20%20%20%20%7B%7D%0A%20%20%20%20%20%20%20%20%20%20%20%20%29.addTo%28map_65424cca01d146e7902ed2d89004c48f%29%3B%0A%20%20%20%20%20%20%20%20%0A%20%20%20%20%0A%20%20%20%20%20%20%20%20%20%20%20%20var%20icon_03b8c2e7748c40aba0de6eb524c4d39c%20%3D%20L.AwesomeMarkers.icon%28%0A%20%20%20%20%20%20%20%20%20%20%20%20%20%20%20%20%7B%22extraClasses%22%3A%20%22fa-rotate-0%22%2C%20%22icon%22%3A%20%22info-sign%22%2C%20%22iconColor%22%3A%20%22white%22%2C%20%22markerColor%22%3A%20%22blue%22%2C%20%22prefix%22%3A%20%22glyphicon%22%7D%0A%20%20%20%20%20%20%20%20%20%20%20%20%29%3B%0A%20%20%20%20%20%20%20%20%20%20%20%20marker_20511e36108342cb8935bef9cbe45d9e.setIcon%28icon_03b8c2e7748c40aba0de6eb524c4d39c%29%3B%0A%20%20%20%20%20%20%20%20%0A%20%20%20%20%0A%20%20%20%20%20%20%20%20var%20popup_c7cb7359c1b44ad5aaceba8e4c0d49e8%20%3D%20L.popup%28%7B%22maxWidth%22%3A%20%22100%25%22%7D%29%3B%0A%0A%20%20%20%20%20%20%20%20%0A%20%20%20%20%20%20%20%20%20%20%20%20var%20html_a334b723b38a4039aa0c8aaa0b2bbb99%20%3D%20%24%28%60%3Cdiv%20id%3D%22html_a334b723b38a4039aa0c8aaa0b2bbb99%22%20style%3D%22width%3A%20100.0%25%3B%20height%3A%20100.0%25%3B%22%3ELat%3A%20-22.82058803039477%2C%20Lng%3A%20-47.06490757596987%2C%20Rssi%3A%20-92.0274%3C/div%3E%60%29%5B0%5D%3B%0A%20%20%20%20%20%20%20%20%20%20%20%20popup_c7cb7359c1b44ad5aaceba8e4c0d49e8.setContent%28html_a334b723b38a4039aa0c8aaa0b2bbb99%29%3B%0A%20%20%20%20%20%20%20%20%0A%0A%20%20%20%20%20%20%20%20marker_20511e36108342cb8935bef9cbe45d9e.bindPopup%28popup_c7cb7359c1b44ad5aaceba8e4c0d49e8%29%0A%20%20%20%20%20%20%20%20%3B%0A%0A%20%20%20%20%20%20%20%20%0A%20%20%20%20%0A%20%20%20%20%0A%20%20%20%20%20%20%20%20%20%20%20%20var%20marker_75328e1df7ea4b3eaabf0997efecb997%20%3D%20L.marker%28%0A%20%20%20%20%20%20%20%20%20%20%20%20%20%20%20%20%5B-22.81187430269656%2C%20-47.06667391119723%5D%2C%0A%20%20%20%20%20%20%20%20%20%20%20%20%20%20%20%20%7B%7D%0A%20%20%20%20%20%20%20%20%20%20%20%20%29.addTo%28map_65424cca01d146e7902ed2d89004c48f%29%3B%0A%20%20%20%20%20%20%20%20%0A%20%20%20%20%0A%20%20%20%20%20%20%20%20%20%20%20%20var%20icon_0643c18b1953459480078341630015c5%20%3D%20L.AwesomeMarkers.icon%28%0A%20%20%20%20%20%20%20%20%20%20%20%20%20%20%20%20%7B%22extraClasses%22%3A%20%22fa-rotate-0%22%2C%20%22icon%22%3A%20%22info-sign%22%2C%20%22iconColor%22%3A%20%22white%22%2C%20%22markerColor%22%3A%20%22blue%22%2C%20%22prefix%22%3A%20%22glyphicon%22%7D%0A%20%20%20%20%20%20%20%20%20%20%20%20%29%3B%0A%20%20%20%20%20%20%20%20%20%20%20%20marker_75328e1df7ea4b3eaabf0997efecb997.setIcon%28icon_0643c18b1953459480078341630015c5%29%3B%0A%20%20%20%20%20%20%20%20%0A%20%20%20%20%0A%20%20%20%20%20%20%20%20var%20popup_18abfee8403b4815876ba70ea93294e6%20%3D%20L.popup%28%7B%22maxWidth%22%3A%20%22100%25%22%7D%29%3B%0A%0A%20%20%20%20%20%20%20%20%0A%20%20%20%20%20%20%20%20%20%20%20%20var%20html_80e29696a378483cb400cc77b2e96127%20%3D%20%24%28%60%3Cdiv%20id%3D%22html_80e29696a378483cb400cc77b2e96127%22%20style%3D%22width%3A%20100.0%25%3B%20height%3A%20100.0%25%3B%22%3ELat%3A%20-22.81187430269656%2C%20Lng%3A%20-47.06667391119723%2C%20Rssi%3A%20-92.1718%3C/div%3E%60%29%5B0%5D%3B%0A%20%20%20%20%20%20%20%20%20%20%20%20popup_18abfee8403b4815876ba70ea93294e6.setContent%28html_80e29696a378483cb400cc77b2e96127%29%3B%0A%20%20%20%20%20%20%20%20%0A%0A%20%20%20%20%20%20%20%20marker_75328e1df7ea4b3eaabf0997efecb997.bindPopup%28popup_18abfee8403b4815876ba70ea93294e6%29%0A%20%20%20%20%20%20%20%20%3B%0A%0A%20%20%20%20%20%20%20%20%0A%20%20%20%20%0A%20%20%20%20%0A%20%20%20%20%20%20%20%20%20%20%20%20var%20marker_53623a870337442cac3125446dd16471%20%3D%20L.marker%28%0A%20%20%20%20%20%20%20%20%20%20%20%20%20%20%20%20%5B-22.82428622451636%2C%20-47.06705183968418%5D%2C%0A%20%20%20%20%20%20%20%20%20%20%20%20%20%20%20%20%7B%7D%0A%20%20%20%20%20%20%20%20%20%20%20%20%29.addTo%28map_65424cca01d146e7902ed2d89004c48f%29%3B%0A%20%20%20%20%20%20%20%20%0A%20%20%20%20%0A%20%20%20%20%20%20%20%20%20%20%20%20var%20icon_5630f02b85744891b21e582644a31d25%20%3D%20L.AwesomeMarkers.icon%28%0A%20%20%20%20%20%20%20%20%20%20%20%20%20%20%20%20%7B%22extraClasses%22%3A%20%22fa-rotate-0%22%2C%20%22icon%22%3A%20%22info-sign%22%2C%20%22iconColor%22%3A%20%22white%22%2C%20%22markerColor%22%3A%20%22blue%22%2C%20%22prefix%22%3A%20%22glyphicon%22%7D%0A%20%20%20%20%20%20%20%20%20%20%20%20%29%3B%0A%20%20%20%20%20%20%20%20%20%20%20%20marker_53623a870337442cac3125446dd16471.setIcon%28icon_5630f02b85744891b21e582644a31d25%29%3B%0A%20%20%20%20%20%20%20%20%0A%20%20%20%20%0A%20%20%20%20%20%20%20%20var%20popup_4becc3818f6e43ab8c7a23c144e8b911%20%3D%20L.popup%28%7B%22maxWidth%22%3A%20%22100%25%22%7D%29%3B%0A%0A%20%20%20%20%20%20%20%20%0A%20%20%20%20%20%20%20%20%20%20%20%20var%20html_0fb7b137df0f4402a418c8413b731276%20%3D%20%24%28%60%3Cdiv%20id%3D%22html_0fb7b137df0f4402a418c8413b731276%22%20style%3D%22width%3A%20100.0%25%3B%20height%3A%20100.0%25%3B%22%3ELat%3A%20-22.82428622451636%2C%20Lng%3A%20-47.06705183968418%2C%20Rssi%3A%20-97.3842%3C/div%3E%60%29%5B0%5D%3B%0A%20%20%20%20%20%20%20%20%20%20%20%20popup_4becc3818f6e43ab8c7a23c144e8b911.setContent%28html_0fb7b137df0f4402a418c8413b731276%29%3B%0A%20%20%20%20%20%20%20%20%0A%0A%20%20%20%20%20%20%20%20marker_53623a870337442cac3125446dd16471.bindPopup%28popup_4becc3818f6e43ab8c7a23c144e8b911%29%0A%20%20%20%20%20%20%20%20%3B%0A%0A%20%20%20%20%20%20%20%20%0A%20%20%20%20%0A%20%20%20%20%0A%20%20%20%20%20%20%20%20%20%20%20%20var%20marker_2e0ed68cfbd549ef96a67065c891a25d%20%3D%20L.marker%28%0A%20%20%20%20%20%20%20%20%20%20%20%20%20%20%20%20%5B-22.82384365773027%2C%20-47.06400728650969%5D%2C%0A%20%20%20%20%20%20%20%20%20%20%20%20%20%20%20%20%7B%7D%0A%20%20%20%20%20%20%20%20%20%20%20%20%29.addTo%28map_65424cca01d146e7902ed2d89004c48f%29%3B%0A%20%20%20%20%20%20%20%20%0A%20%20%20%20%0A%20%20%20%20%20%20%20%20%20%20%20%20var%20icon_0210911a21404e04b151b46f5dbe87b8%20%3D%20L.AwesomeMarkers.icon%28%0A%20%20%20%20%20%20%20%20%20%20%20%20%20%20%20%20%7B%22extraClasses%22%3A%20%22fa-rotate-0%22%2C%20%22icon%22%3A%20%22info-sign%22%2C%20%22iconColor%22%3A%20%22white%22%2C%20%22markerColor%22%3A%20%22blue%22%2C%20%22prefix%22%3A%20%22glyphicon%22%7D%0A%20%20%20%20%20%20%20%20%20%20%20%20%29%3B%0A%20%20%20%20%20%20%20%20%20%20%20%20marker_2e0ed68cfbd549ef96a67065c891a25d.setIcon%28icon_0210911a21404e04b151b46f5dbe87b8%29%3B%0A%20%20%20%20%20%20%20%20%0A%20%20%20%20%0A%20%20%20%20%20%20%20%20var%20popup_e6dcb0b69b044639b33364ed1c368a5e%20%3D%20L.popup%28%7B%22maxWidth%22%3A%20%22100%25%22%7D%29%3B%0A%0A%20%20%20%20%20%20%20%20%0A%20%20%20%20%20%20%20%20%20%20%20%20var%20html_c4c815f99f574508818d76bef2d663ec%20%3D%20%24%28%60%3Cdiv%20id%3D%22html_c4c815f99f574508818d76bef2d663ec%22%20style%3D%22width%3A%20100.0%25%3B%20height%3A%20100.0%25%3B%22%3ELat%3A%20-22.82384365773027%2C%20Lng%3A%20-47.06400728650969%2C%20Rssi%3A%20-94.8353%3C/div%3E%60%29%5B0%5D%3B%0A%20%20%20%20%20%20%20%20%20%20%20%20popup_e6dcb0b69b044639b33364ed1c368a5e.setContent%28html_c4c815f99f574508818d76bef2d663ec%29%3B%0A%20%20%20%20%20%20%20%20%0A%0A%20%20%20%20%20%20%20%20marker_2e0ed68cfbd549ef96a67065c891a25d.bindPopup%28popup_e6dcb0b69b044639b33364ed1c368a5e%29%0A%20%20%20%20%20%20%20%20%3B%0A%0A%20%20%20%20%20%20%20%20%0A%20%20%20%20%0A%20%20%20%20%0A%20%20%20%20%20%20%20%20%20%20%20%20var%20marker_d09f0a1cfc4c40bb9c9541305cc4bc24%20%3D%20L.marker%28%0A%20%20%20%20%20%20%20%20%20%20%20%20%20%20%20%20%5B-22.82640533371841%2C%20-47.06430825896828%5D%2C%0A%20%20%20%20%20%20%20%20%20%20%20%20%20%20%20%20%7B%7D%0A%20%20%20%20%20%20%20%20%20%20%20%20%29.addTo%28map_65424cca01d146e7902ed2d89004c48f%29%3B%0A%20%20%20%20%20%20%20%20%0A%20%20%20%20%0A%20%20%20%20%20%20%20%20%20%20%20%20var%20icon_3c588dec5b1442448b30cf57f8d43fe8%20%3D%20L.AwesomeMarkers.icon%28%0A%20%20%20%20%20%20%20%20%20%20%20%20%20%20%20%20%7B%22extraClasses%22%3A%20%22fa-rotate-0%22%2C%20%22icon%22%3A%20%22info-sign%22%2C%20%22iconColor%22%3A%20%22white%22%2C%20%22markerColor%22%3A%20%22blue%22%2C%20%22prefix%22%3A%20%22glyphicon%22%7D%0A%20%20%20%20%20%20%20%20%20%20%20%20%29%3B%0A%20%20%20%20%20%20%20%20%20%20%20%20marker_d09f0a1cfc4c40bb9c9541305cc4bc24.setIcon%28icon_3c588dec5b1442448b30cf57f8d43fe8%29%3B%0A%20%20%20%20%20%20%20%20%0A%20%20%20%20%0A%20%20%20%20%20%20%20%20var%20popup_798fb8658e784da98f3195470015e492%20%3D%20L.popup%28%7B%22maxWidth%22%3A%20%22100%25%22%7D%29%3B%0A%0A%20%20%20%20%20%20%20%20%0A%20%20%20%20%20%20%20%20%20%20%20%20var%20html_04f110ff8c1a4d2390835cdd713aaf90%20%3D%20%24%28%60%3Cdiv%20id%3D%22html_04f110ff8c1a4d2390835cdd713aaf90%22%20style%3D%22width%3A%20100.0%25%3B%20height%3A%20100.0%25%3B%22%3ELat%3A%20-22.82640533371841%2C%20Lng%3A%20-47.06430825896828%2C%20Rssi%3A%20-97.6691%3C/div%3E%60%29%5B0%5D%3B%0A%20%20%20%20%20%20%20%20%20%20%20%20popup_798fb8658e784da98f3195470015e492.setContent%28html_04f110ff8c1a4d2390835cdd713aaf90%29%3B%0A%20%20%20%20%20%20%20%20%0A%0A%20%20%20%20%20%20%20%20marker_d09f0a1cfc4c40bb9c9541305cc4bc24.bindPopup%28popup_798fb8658e784da98f3195470015e492%29%0A%20%20%20%20%20%20%20%20%3B%0A%0A%20%20%20%20%20%20%20%20%0A%20%20%20%20%0A%20%20%20%20%0A%20%20%20%20%20%20%20%20%20%20%20%20var%20marker_15600811be5e4498b00fafc05865b87a%20%3D%20L.marker%28%0A%20%20%20%20%20%20%20%20%20%20%20%20%20%20%20%20%5B-22.81528722423836%2C%20-47.07010821668231%5D%2C%0A%20%20%20%20%20%20%20%20%20%20%20%20%20%20%20%20%7B%7D%0A%20%20%20%20%20%20%20%20%20%20%20%20%29.addTo%28map_65424cca01d146e7902ed2d89004c48f%29%3B%0A%20%20%20%20%20%20%20%20%0A%20%20%20%20%0A%20%20%20%20%20%20%20%20%20%20%20%20var%20icon_c8239b342f914da584c30f5260384a71%20%3D%20L.AwesomeMarkers.icon%28%0A%20%20%20%20%20%20%20%20%20%20%20%20%20%20%20%20%7B%22extraClasses%22%3A%20%22fa-rotate-0%22%2C%20%22icon%22%3A%20%22info-sign%22%2C%20%22iconColor%22%3A%20%22white%22%2C%20%22markerColor%22%3A%20%22blue%22%2C%20%22prefix%22%3A%20%22glyphicon%22%7D%0A%20%20%20%20%20%20%20%20%20%20%20%20%29%3B%0A%20%20%20%20%20%20%20%20%20%20%20%20marker_15600811be5e4498b00fafc05865b87a.setIcon%28icon_c8239b342f914da584c30f5260384a71%29%3B%0A%20%20%20%20%20%20%20%20%0A%20%20%20%20%0A%20%20%20%20%20%20%20%20var%20popup_037db760df06475d945f211eef56df0e%20%3D%20L.popup%28%7B%22maxWidth%22%3A%20%22100%25%22%7D%29%3B%0A%0A%20%20%20%20%20%20%20%20%0A%20%20%20%20%20%20%20%20%20%20%20%20var%20html_cef5bb8fc5ca454f970aed41c399c772%20%3D%20%24%28%60%3Cdiv%20id%3D%22html_cef5bb8fc5ca454f970aed41c399c772%22%20style%3D%22width%3A%20100.0%25%3B%20height%3A%20100.0%25%3B%22%3ELat%3A%20-22.81528722423836%2C%20Lng%3A%20-47.07010821668231%2C%20Rssi%3A%20-95.9016%3C/div%3E%60%29%5B0%5D%3B%0A%20%20%20%20%20%20%20%20%20%20%20%20popup_037db760df06475d945f211eef56df0e.setContent%28html_cef5bb8fc5ca454f970aed41c399c772%29%3B%0A%20%20%20%20%20%20%20%20%0A%0A%20%20%20%20%20%20%20%20marker_15600811be5e4498b00fafc05865b87a.bindPopup%28popup_037db760df06475d945f211eef56df0e%29%0A%20%20%20%20%20%20%20%20%3B%0A%0A%20%20%20%20%20%20%20%20%0A%20%20%20%20%0A%20%20%20%20%0A%20%20%20%20%20%20%20%20%20%20%20%20var%20marker_9cf57c6b00ec4723a4ba7b1eb856d962%20%3D%20L.marker%28%0A%20%20%20%20%20%20%20%20%20%20%20%20%20%20%20%20%5B-22.81903955890325%2C%20-47.07010962092847%5D%2C%0A%20%20%20%20%20%20%20%20%20%20%20%20%20%20%20%20%7B%7D%0A%20%20%20%20%20%20%20%20%20%20%20%20%29.addTo%28map_65424cca01d146e7902ed2d89004c48f%29%3B%0A%20%20%20%20%20%20%20%20%0A%20%20%20%20%0A%20%20%20%20%20%20%20%20%20%20%20%20var%20icon_23a6cd26e565468e92a7a02a29816c20%20%3D%20L.AwesomeMarkers.icon%28%0A%20%20%20%20%20%20%20%20%20%20%20%20%20%20%20%20%7B%22extraClasses%22%3A%20%22fa-rotate-0%22%2C%20%22icon%22%3A%20%22info-sign%22%2C%20%22iconColor%22%3A%20%22white%22%2C%20%22markerColor%22%3A%20%22blue%22%2C%20%22prefix%22%3A%20%22glyphicon%22%7D%0A%20%20%20%20%20%20%20%20%20%20%20%20%29%3B%0A%20%20%20%20%20%20%20%20%20%20%20%20marker_9cf57c6b00ec4723a4ba7b1eb856d962.setIcon%28icon_23a6cd26e565468e92a7a02a29816c20%29%3B%0A%20%20%20%20%20%20%20%20%0A%20%20%20%20%0A%20%20%20%20%20%20%20%20var%20popup_a5ff870b2ab64cb1aedbc529690f224f%20%3D%20L.popup%28%7B%22maxWidth%22%3A%20%22100%25%22%7D%29%3B%0A%0A%20%20%20%20%20%20%20%20%0A%20%20%20%20%20%20%20%20%20%20%20%20var%20html_6998d93904ba45f990908adcc24c075c%20%3D%20%24%28%60%3Cdiv%20id%3D%22html_6998d93904ba45f990908adcc24c075c%22%20style%3D%22width%3A%20100.0%25%3B%20height%3A%20100.0%25%3B%22%3ELat%3A%20-22.81903955890325%2C%20Lng%3A%20-47.07010962092847%2C%20Rssi%3A%20-96.7583%3C/div%3E%60%29%5B0%5D%3B%0A%20%20%20%20%20%20%20%20%20%20%20%20popup_a5ff870b2ab64cb1aedbc529690f224f.setContent%28html_6998d93904ba45f990908adcc24c075c%29%3B%0A%20%20%20%20%20%20%20%20%0A%0A%20%20%20%20%20%20%20%20marker_9cf57c6b00ec4723a4ba7b1eb856d962.bindPopup%28popup_a5ff870b2ab64cb1aedbc529690f224f%29%0A%20%20%20%20%20%20%20%20%3B%0A%0A%20%20%20%20%20%20%20%20%0A%20%20%20%20%0A%20%20%20%20%0A%20%20%20%20%20%20%20%20%20%20%20%20var%20marker_41cbb66d6d9447f4a5415583976cc108%20%3D%20L.marker%28%0A%20%20%20%20%20%20%20%20%20%20%20%20%20%20%20%20%5B-22.81475094222973%2C%20-47.06482074503554%5D%2C%0A%20%20%20%20%20%20%20%20%20%20%20%20%20%20%20%20%7B%7D%0A%20%20%20%20%20%20%20%20%20%20%20%20%29.addTo%28map_65424cca01d146e7902ed2d89004c48f%29%3B%0A%20%20%20%20%20%20%20%20%0A%20%20%20%20%0A%20%20%20%20%20%20%20%20%20%20%20%20var%20icon_fd295f281ac8414092ee80d961cade99%20%3D%20L.AwesomeMarkers.icon%28%0A%20%20%20%20%20%20%20%20%20%20%20%20%20%20%20%20%7B%22extraClasses%22%3A%20%22fa-rotate-0%22%2C%20%22icon%22%3A%20%22info-sign%22%2C%20%22iconColor%22%3A%20%22white%22%2C%20%22markerColor%22%3A%20%22blue%22%2C%20%22prefix%22%3A%20%22glyphicon%22%7D%0A%20%20%20%20%20%20%20%20%20%20%20%20%29%3B%0A%20%20%20%20%20%20%20%20%20%20%20%20marker_41cbb66d6d9447f4a5415583976cc108.setIcon%28icon_fd295f281ac8414092ee80d961cade99%29%3B%0A%20%20%20%20%20%20%20%20%0A%20%20%20%20%0A%20%20%20%20%20%20%20%20var%20popup_7f2b91b05094468ebcd4495244dda26a%20%3D%20L.popup%28%7B%22maxWidth%22%3A%20%22100%25%22%7D%29%3B%0A%0A%20%20%20%20%20%20%20%20%0A%20%20%20%20%20%20%20%20%20%20%20%20var%20html_f4f9d10a46f5408aa2868700da395edd%20%3D%20%24%28%60%3Cdiv%20id%3D%22html_f4f9d10a46f5408aa2868700da395edd%22%20style%3D%22width%3A%20100.0%25%3B%20height%3A%20100.0%25%3B%22%3ELat%3A%20-22.81475094222973%2C%20Lng%3A%20-47.06482074503554%2C%20Rssi%3A%20-87.9899%3C/div%3E%60%29%5B0%5D%3B%0A%20%20%20%20%20%20%20%20%20%20%20%20popup_7f2b91b05094468ebcd4495244dda26a.setContent%28html_f4f9d10a46f5408aa2868700da395edd%29%3B%0A%20%20%20%20%20%20%20%20%0A%0A%20%20%20%20%20%20%20%20marker_41cbb66d6d9447f4a5415583976cc108.bindPopup%28popup_7f2b91b05094468ebcd4495244dda26a%29%0A%20%20%20%20%20%20%20%20%3B%0A%0A%20%20%20%20%20%20%20%20%0A%20%20%20%20%0A%20%20%20%20%0A%20%20%20%20%20%20%20%20%20%20%20%20var%20marker_23a8073e7bf342c88a3f328664a5a00e%20%3D%20L.marker%28%0A%20%20%20%20%20%20%20%20%20%20%20%20%20%20%20%20%5B-22.814680826242%2C%20-47.0691606458217%5D%2C%0A%20%20%20%20%20%20%20%20%20%20%20%20%20%20%20%20%7B%7D%0A%20%20%20%20%20%20%20%20%20%20%20%20%29.addTo%28map_65424cca01d146e7902ed2d89004c48f%29%3B%0A%20%20%20%20%20%20%20%20%0A%20%20%20%20%0A%20%20%20%20%20%20%20%20%20%20%20%20var%20icon_1664ab324389446386a986b9f63f8f70%20%3D%20L.AwesomeMarkers.icon%28%0A%20%20%20%20%20%20%20%20%20%20%20%20%20%20%20%20%7B%22extraClasses%22%3A%20%22fa-rotate-0%22%2C%20%22icon%22%3A%20%22info-sign%22%2C%20%22iconColor%22%3A%20%22white%22%2C%20%22markerColor%22%3A%20%22blue%22%2C%20%22prefix%22%3A%20%22glyphicon%22%7D%0A%20%20%20%20%20%20%20%20%20%20%20%20%29%3B%0A%20%20%20%20%20%20%20%20%20%20%20%20marker_23a8073e7bf342c88a3f328664a5a00e.setIcon%28icon_1664ab324389446386a986b9f63f8f70%29%3B%0A%20%20%20%20%20%20%20%20%0A%20%20%20%20%0A%20%20%20%20%20%20%20%20var%20popup_926a332e64d14d24a228c70c6afae087%20%3D%20L.popup%28%7B%22maxWidth%22%3A%20%22100%25%22%7D%29%3B%0A%0A%20%20%20%20%20%20%20%20%0A%20%20%20%20%20%20%20%20%20%20%20%20var%20html_e9162e7ae0114deab80273bb438fa880%20%3D%20%24%28%60%3Cdiv%20id%3D%22html_e9162e7ae0114deab80273bb438fa880%22%20style%3D%22width%3A%20100.0%25%3B%20height%3A%20100.0%25%3B%22%3ELat%3A%20-22.814680826242%2C%20Lng%3A%20-47.0691606458217%2C%20Rssi%3A%20-94.7657%3C/div%3E%60%29%5B0%5D%3B%0A%20%20%20%20%20%20%20%20%20%20%20%20popup_926a332e64d14d24a228c70c6afae087.setContent%28html_e9162e7ae0114deab80273bb438fa880%29%3B%0A%20%20%20%20%20%20%20%20%0A%0A%20%20%20%20%20%20%20%20marker_23a8073e7bf342c88a3f328664a5a00e.bindPopup%28popup_926a332e64d14d24a228c70c6afae087%29%0A%20%20%20%20%20%20%20%20%3B%0A%0A%20%20%20%20%20%20%20%20%0A%20%20%20%20%0A%20%20%20%20%0A%20%20%20%20%20%20%20%20%20%20%20%20var%20marker_469c9a12b3c94bd9a675c014f588a08f%20%3D%20L.marker%28%0A%20%20%20%20%20%20%20%20%20%20%20%20%20%20%20%20%5B-22.81296061384064%2C%20-47.06628771818721%5D%2C%0A%20%20%20%20%20%20%20%20%20%20%20%20%20%20%20%20%7B%7D%0A%20%20%20%20%20%20%20%20%20%20%20%20%29.addTo%28map_65424cca01d146e7902ed2d89004c48f%29%3B%0A%20%20%20%20%20%20%20%20%0A%20%20%20%20%0A%20%20%20%20%20%20%20%20%20%20%20%20var%20icon_766f477358ba40ec8820e63408de9093%20%3D%20L.AwesomeMarkers.icon%28%0A%20%20%20%20%20%20%20%20%20%20%20%20%20%20%20%20%7B%22extraClasses%22%3A%20%22fa-rotate-0%22%2C%20%22icon%22%3A%20%22info-sign%22%2C%20%22iconColor%22%3A%20%22white%22%2C%20%22markerColor%22%3A%20%22blue%22%2C%20%22prefix%22%3A%20%22glyphicon%22%7D%0A%20%20%20%20%20%20%20%20%20%20%20%20%29%3B%0A%20%20%20%20%20%20%20%20%20%20%20%20marker_469c9a12b3c94bd9a675c014f588a08f.setIcon%28icon_766f477358ba40ec8820e63408de9093%29%3B%0A%20%20%20%20%20%20%20%20%0A%20%20%20%20%0A%20%20%20%20%20%20%20%20var%20popup_4e036c215d5140999a67609654a43cb2%20%3D%20L.popup%28%7B%22maxWidth%22%3A%20%22100%25%22%7D%29%3B%0A%0A%20%20%20%20%20%20%20%20%0A%20%20%20%20%20%20%20%20%20%20%20%20var%20html_aa045fd34d774864a0fbea4b0e73cdd6%20%3D%20%24%28%60%3Cdiv%20id%3D%22html_aa045fd34d774864a0fbea4b0e73cdd6%22%20style%3D%22width%3A%20100.0%25%3B%20height%3A%20100.0%25%3B%22%3ELat%3A%20-22.81296061384064%2C%20Lng%3A%20-47.06628771818721%2C%20Rssi%3A%20-91.0687%3C/div%3E%60%29%5B0%5D%3B%0A%20%20%20%20%20%20%20%20%20%20%20%20popup_4e036c215d5140999a67609654a43cb2.setContent%28html_aa045fd34d774864a0fbea4b0e73cdd6%29%3B%0A%20%20%20%20%20%20%20%20%0A%0A%20%20%20%20%20%20%20%20marker_469c9a12b3c94bd9a675c014f588a08f.bindPopup%28popup_4e036c215d5140999a67609654a43cb2%29%0A%20%20%20%20%20%20%20%20%3B%0A%0A%20%20%20%20%20%20%20%20%0A%20%20%20%20%0A%20%20%20%20%0A%20%20%20%20%20%20%20%20%20%20%20%20var%20marker_d3a7e9a137284a3b86839d7bac9efe97%20%3D%20L.marker%28%0A%20%20%20%20%20%20%20%20%20%20%20%20%20%20%20%20%5B-22.81628204801213%2C%20-47.06718684060307%5D%2C%0A%20%20%20%20%20%20%20%20%20%20%20%20%20%20%20%20%7B%7D%0A%20%20%20%20%20%20%20%20%20%20%20%20%29.addTo%28map_65424cca01d146e7902ed2d89004c48f%29%3B%0A%20%20%20%20%20%20%20%20%0A%20%20%20%20%0A%20%20%20%20%20%20%20%20%20%20%20%20var%20icon_99d2c12fec82401f97636c29054fb231%20%3D%20L.AwesomeMarkers.icon%28%0A%20%20%20%20%20%20%20%20%20%20%20%20%20%20%20%20%7B%22extraClasses%22%3A%20%22fa-rotate-0%22%2C%20%22icon%22%3A%20%22info-sign%22%2C%20%22iconColor%22%3A%20%22white%22%2C%20%22markerColor%22%3A%20%22blue%22%2C%20%22prefix%22%3A%20%22glyphicon%22%7D%0A%20%20%20%20%20%20%20%20%20%20%20%20%29%3B%0A%20%20%20%20%20%20%20%20%20%20%20%20marker_d3a7e9a137284a3b86839d7bac9efe97.setIcon%28icon_99d2c12fec82401f97636c29054fb231%29%3B%0A%20%20%20%20%20%20%20%20%0A%20%20%20%20%0A%20%20%20%20%20%20%20%20var%20popup_82d0e604ce07469bb9b95c0bc62de41d%20%3D%20L.popup%28%7B%22maxWidth%22%3A%20%22100%25%22%7D%29%3B%0A%0A%20%20%20%20%20%20%20%20%0A%20%20%20%20%20%20%20%20%20%20%20%20var%20html_a123179568ff4dfeb044a9f7e1a95e4d%20%3D%20%24%28%60%3Cdiv%20id%3D%22html_a123179568ff4dfeb044a9f7e1a95e4d%22%20style%3D%22width%3A%20100.0%25%3B%20height%3A%20100.0%25%3B%22%3ELat%3A%20-22.81628204801213%2C%20Lng%3A%20-47.06718684060307%2C%20Rssi%3A%20-92.24%3C/div%3E%60%29%5B0%5D%3B%0A%20%20%20%20%20%20%20%20%20%20%20%20popup_82d0e604ce07469bb9b95c0bc62de41d.setContent%28html_a123179568ff4dfeb044a9f7e1a95e4d%29%3B%0A%20%20%20%20%20%20%20%20%0A%0A%20%20%20%20%20%20%20%20marker_d3a7e9a137284a3b86839d7bac9efe97.bindPopup%28popup_82d0e604ce07469bb9b95c0bc62de41d%29%0A%20%20%20%20%20%20%20%20%3B%0A%0A%20%20%20%20%20%20%20%20%0A%20%20%20%20%0A%20%20%20%20%0A%20%20%20%20%20%20%20%20%20%20%20%20var%20marker_8158e3c29560462f86dafaac260de521%20%3D%20L.marker%28%0A%20%20%20%20%20%20%20%20%20%20%20%20%20%20%20%20%5B-22.82401506632456%2C%20-47.06493091959375%5D%2C%0A%20%20%20%20%20%20%20%20%20%20%20%20%20%20%20%20%7B%7D%0A%20%20%20%20%20%20%20%20%20%20%20%20%29.addTo%28map_65424cca01d146e7902ed2d89004c48f%29%3B%0A%20%20%20%20%20%20%20%20%0A%20%20%20%20%0A%20%20%20%20%20%20%20%20%20%20%20%20var%20icon_96b54554cd5b4102a815cdae37347c37%20%3D%20L.AwesomeMarkers.icon%28%0A%20%20%20%20%20%20%20%20%20%20%20%20%20%20%20%20%7B%22extraClasses%22%3A%20%22fa-rotate-0%22%2C%20%22icon%22%3A%20%22info-sign%22%2C%20%22iconColor%22%3A%20%22white%22%2C%20%22markerColor%22%3A%20%22blue%22%2C%20%22prefix%22%3A%20%22glyphicon%22%7D%0A%20%20%20%20%20%20%20%20%20%20%20%20%29%3B%0A%20%20%20%20%20%20%20%20%20%20%20%20marker_8158e3c29560462f86dafaac260de521.setIcon%28icon_96b54554cd5b4102a815cdae37347c37%29%3B%0A%20%20%20%20%20%20%20%20%0A%20%20%20%20%0A%20%20%20%20%20%20%20%20var%20popup_945db936155149c0a40d51448d3c0616%20%3D%20L.popup%28%7B%22maxWidth%22%3A%20%22100%25%22%7D%29%3B%0A%0A%20%20%20%20%20%20%20%20%0A%20%20%20%20%20%20%20%20%20%20%20%20var%20html_e12216b6d37745cea3177ba51b3bd117%20%3D%20%24%28%60%3Cdiv%20id%3D%22html_e12216b6d37745cea3177ba51b3bd117%22%20style%3D%22width%3A%20100.0%25%3B%20height%3A%20100.0%25%3B%22%3ELat%3A%20-22.82401506632456%2C%20Lng%3A%20-47.06493091959375%2C%20Rssi%3A%20-95.6508%3C/div%3E%60%29%5B0%5D%3B%0A%20%20%20%20%20%20%20%20%20%20%20%20popup_945db936155149c0a40d51448d3c0616.setContent%28html_e12216b6d37745cea3177ba51b3bd117%29%3B%0A%20%20%20%20%20%20%20%20%0A%0A%20%20%20%20%20%20%20%20marker_8158e3c29560462f86dafaac260de521.bindPopup%28popup_945db936155149c0a40d51448d3c0616%29%0A%20%20%20%20%20%20%20%20%3B%0A%0A%20%20%20%20%20%20%20%20%0A%20%20%20%20%0A%20%20%20%20%0A%20%20%20%20%20%20%20%20%20%20%20%20var%20marker_610364a7ab1141a0be3776b504647903%20%3D%20L.marker%28%0A%20%20%20%20%20%20%20%20%20%20%20%20%20%20%20%20%5B-22.81323878624107%2C%20-47.06887155087497%5D%2C%0A%20%20%20%20%20%20%20%20%20%20%20%20%20%20%20%20%7B%7D%0A%20%20%20%20%20%20%20%20%20%20%20%20%29.addTo%28map_65424cca01d146e7902ed2d89004c48f%29%3B%0A%20%20%20%20%20%20%20%20%0A%20%20%20%20%0A%20%20%20%20%20%20%20%20%20%20%20%20var%20icon_e3159decb4c4444099614b729aaca57d%20%3D%20L.AwesomeMarkers.icon%28%0A%20%20%20%20%20%20%20%20%20%20%20%20%20%20%20%20%7B%22extraClasses%22%3A%20%22fa-rotate-0%22%2C%20%22icon%22%3A%20%22info-sign%22%2C%20%22iconColor%22%3A%20%22white%22%2C%20%22markerColor%22%3A%20%22blue%22%2C%20%22prefix%22%3A%20%22glyphicon%22%7D%0A%20%20%20%20%20%20%20%20%20%20%20%20%29%3B%0A%20%20%20%20%20%20%20%20%20%20%20%20marker_610364a7ab1141a0be3776b504647903.setIcon%28icon_e3159decb4c4444099614b729aaca57d%29%3B%0A%20%20%20%20%20%20%20%20%0A%20%20%20%20%0A%20%20%20%20%20%20%20%20var%20popup_70f03fb0ec8547ae86db734995ac743a%20%3D%20L.popup%28%7B%22maxWidth%22%3A%20%22100%25%22%7D%29%3B%0A%0A%20%20%20%20%20%20%20%20%0A%20%20%20%20%20%20%20%20%20%20%20%20var%20html_b447795e205a4461bb6638fe9cd241ee%20%3D%20%24%28%60%3Cdiv%20id%3D%22html_b447795e205a4461bb6638fe9cd241ee%22%20style%3D%22width%3A%20100.0%25%3B%20height%3A%20100.0%25%3B%22%3ELat%3A%20-22.81323878624107%2C%20Lng%3A%20-47.06887155087497%2C%20Rssi%3A%20-94.5825%3C/div%3E%60%29%5B0%5D%3B%0A%20%20%20%20%20%20%20%20%20%20%20%20popup_70f03fb0ec8547ae86db734995ac743a.setContent%28html_b447795e205a4461bb6638fe9cd241ee%29%3B%0A%20%20%20%20%20%20%20%20%0A%0A%20%20%20%20%20%20%20%20marker_610364a7ab1141a0be3776b504647903.bindPopup%28popup_70f03fb0ec8547ae86db734995ac743a%29%0A%20%20%20%20%20%20%20%20%3B%0A%0A%20%20%20%20%20%20%20%20%0A%20%20%20%20%0A%20%20%20%20%0A%20%20%20%20%20%20%20%20%20%20%20%20var%20marker_809ceb25316d443a9ae864e3f58c7570%20%3D%20L.marker%28%0A%20%20%20%20%20%20%20%20%20%20%20%20%20%20%20%20%5B-22.81579185317482%2C%20-47.06774224481084%5D%2C%0A%20%20%20%20%20%20%20%20%20%20%20%20%20%20%20%20%7B%7D%0A%20%20%20%20%20%20%20%20%20%20%20%20%29.addTo%28map_65424cca01d146e7902ed2d89004c48f%29%3B%0A%20%20%20%20%20%20%20%20%0A%20%20%20%20%0A%20%20%20%20%20%20%20%20%20%20%20%20var%20icon_ef6369589f6341e9a76956617c999058%20%3D%20L.AwesomeMarkers.icon%28%0A%20%20%20%20%20%20%20%20%20%20%20%20%20%20%20%20%7B%22extraClasses%22%3A%20%22fa-rotate-0%22%2C%20%22icon%22%3A%20%22info-sign%22%2C%20%22iconColor%22%3A%20%22white%22%2C%20%22markerColor%22%3A%20%22blue%22%2C%20%22prefix%22%3A%20%22glyphicon%22%7D%0A%20%20%20%20%20%20%20%20%20%20%20%20%29%3B%0A%20%20%20%20%20%20%20%20%20%20%20%20marker_809ceb25316d443a9ae864e3f58c7570.setIcon%28icon_ef6369589f6341e9a76956617c999058%29%3B%0A%20%20%20%20%20%20%20%20%0A%20%20%20%20%0A%20%20%20%20%20%20%20%20var%20popup_d9006071fba349e6b97326c1d74e2d62%20%3D%20L.popup%28%7B%22maxWidth%22%3A%20%22100%25%22%7D%29%3B%0A%0A%20%20%20%20%20%20%20%20%0A%20%20%20%20%20%20%20%20%20%20%20%20var%20html_b5a043172ad64462b4310086d742a44e%20%3D%20%24%28%60%3Cdiv%20id%3D%22html_b5a043172ad64462b4310086d742a44e%22%20style%3D%22width%3A%20100.0%25%3B%20height%3A%20100.0%25%3B%22%3ELat%3A%20-22.81579185317482%2C%20Lng%3A%20-47.06774224481084%2C%20Rssi%3A%20-92.9431%3C/div%3E%60%29%5B0%5D%3B%0A%20%20%20%20%20%20%20%20%20%20%20%20popup_d9006071fba349e6b97326c1d74e2d62.setContent%28html_b5a043172ad64462b4310086d742a44e%29%3B%0A%20%20%20%20%20%20%20%20%0A%0A%20%20%20%20%20%20%20%20marker_809ceb25316d443a9ae864e3f58c7570.bindPopup%28popup_d9006071fba349e6b97326c1d74e2d62%29%0A%20%20%20%20%20%20%20%20%3B%0A%0A%20%20%20%20%20%20%20%20%0A%20%20%20%20%0A%20%20%20%20%0A%20%20%20%20%20%20%20%20%20%20%20%20var%20marker_13e1511525b843058e206d3c08387c81%20%3D%20L.marker%28%0A%20%20%20%20%20%20%20%20%20%20%20%20%20%20%20%20%5B-22.81878334059293%2C%20-47.06775349849438%5D%2C%0A%20%20%20%20%20%20%20%20%20%20%20%20%20%20%20%20%7B%7D%0A%20%20%20%20%20%20%20%20%20%20%20%20%29.addTo%28map_65424cca01d146e7902ed2d89004c48f%29%3B%0A%20%20%20%20%20%20%20%20%0A%20%20%20%20%0A%20%20%20%20%20%20%20%20%20%20%20%20var%20icon_5a4131c64bcd40f6bb571f14df2e41b8%20%3D%20L.AwesomeMarkers.icon%28%0A%20%20%20%20%20%20%20%20%20%20%20%20%20%20%20%20%7B%22extraClasses%22%3A%20%22fa-rotate-0%22%2C%20%22icon%22%3A%20%22info-sign%22%2C%20%22iconColor%22%3A%20%22white%22%2C%20%22markerColor%22%3A%20%22blue%22%2C%20%22prefix%22%3A%20%22glyphicon%22%7D%0A%20%20%20%20%20%20%20%20%20%20%20%20%29%3B%0A%20%20%20%20%20%20%20%20%20%20%20%20marker_13e1511525b843058e206d3c08387c81.setIcon%28icon_5a4131c64bcd40f6bb571f14df2e41b8%29%3B%0A%20%20%20%20%20%20%20%20%0A%20%20%20%20%0A%20%20%20%20%20%20%20%20var%20popup_baef19ec746646e98af0eae8b58493f2%20%3D%20L.popup%28%7B%22maxWidth%22%3A%20%22100%25%22%7D%29%3B%0A%0A%20%20%20%20%20%20%20%20%0A%20%20%20%20%20%20%20%20%20%20%20%20var%20html_fab85e2a9690479c81a52ba9c6667b43%20%3D%20%24%28%60%3Cdiv%20id%3D%22html_fab85e2a9690479c81a52ba9c6667b43%22%20style%3D%22width%3A%20100.0%25%3B%20height%3A%20100.0%25%3B%22%3ELat%3A%20-22.81878334059293%2C%20Lng%3A%20-47.06775349849438%2C%20Rssi%3A%20-94.0298%3C/div%3E%60%29%5B0%5D%3B%0A%20%20%20%20%20%20%20%20%20%20%20%20popup_baef19ec746646e98af0eae8b58493f2.setContent%28html_fab85e2a9690479c81a52ba9c6667b43%29%3B%0A%20%20%20%20%20%20%20%20%0A%0A%20%20%20%20%20%20%20%20marker_13e1511525b843058e206d3c08387c81.bindPopup%28popup_baef19ec746646e98af0eae8b58493f2%29%0A%20%20%20%20%20%20%20%20%3B%0A%0A%20%20%20%20%20%20%20%20%0A%20%20%20%20%0A%20%20%20%20%0A%20%20%20%20%20%20%20%20%20%20%20%20var%20marker_33e66aeb3fee4bf3a6f6a2b9ddbc6f06%20%3D%20L.marker%28%0A%20%20%20%20%20%20%20%20%20%20%20%20%20%20%20%20%5B-22.82505900758947%2C%20-47.06680135052657%5D%2C%0A%20%20%20%20%20%20%20%20%20%20%20%20%20%20%20%20%7B%7D%0A%20%20%20%20%20%20%20%20%20%20%20%20%29.addTo%28map_65424cca01d146e7902ed2d89004c48f%29%3B%0A%20%20%20%20%20%20%20%20%0A%20%20%20%20%0A%20%20%20%20%20%20%20%20%20%20%20%20var%20icon_665f47935f73496eb0e239056eab551c%20%3D%20L.AwesomeMarkers.icon%28%0A%20%20%20%20%20%20%20%20%20%20%20%20%20%20%20%20%7B%22extraClasses%22%3A%20%22fa-rotate-0%22%2C%20%22icon%22%3A%20%22info-sign%22%2C%20%22iconColor%22%3A%20%22white%22%2C%20%22markerColor%22%3A%20%22blue%22%2C%20%22prefix%22%3A%20%22glyphicon%22%7D%0A%20%20%20%20%20%20%20%20%20%20%20%20%29%3B%0A%20%20%20%20%20%20%20%20%20%20%20%20marker_33e66aeb3fee4bf3a6f6a2b9ddbc6f06.setIcon%28icon_665f47935f73496eb0e239056eab551c%29%3B%0A%20%20%20%20%20%20%20%20%0A%20%20%20%20%0A%20%20%20%20%20%20%20%20var%20popup_27f931bb7310400a8f3dda7284b61adf%20%3D%20L.popup%28%7B%22maxWidth%22%3A%20%22100%25%22%7D%29%3B%0A%0A%20%20%20%20%20%20%20%20%0A%20%20%20%20%20%20%20%20%20%20%20%20var%20html_a78c4a0c308141a4b05d39b419a6bea8%20%3D%20%24%28%60%3Cdiv%20id%3D%22html_a78c4a0c308141a4b05d39b419a6bea8%22%20style%3D%22width%3A%20100.0%25%3B%20height%3A%20100.0%25%3B%22%3ELat%3A%20-22.82505900758947%2C%20Lng%3A%20-47.06680135052657%2C%20Rssi%3A%20-97.8545%3C/div%3E%60%29%5B0%5D%3B%0A%20%20%20%20%20%20%20%20%20%20%20%20popup_27f931bb7310400a8f3dda7284b61adf.setContent%28html_a78c4a0c308141a4b05d39b419a6bea8%29%3B%0A%20%20%20%20%20%20%20%20%0A%0A%20%20%20%20%20%20%20%20marker_33e66aeb3fee4bf3a6f6a2b9ddbc6f06.bindPopup%28popup_27f931bb7310400a8f3dda7284b61adf%29%0A%20%20%20%20%20%20%20%20%3B%0A%0A%20%20%20%20%20%20%20%20%0A%20%20%20%20%0A%20%20%20%20%0A%20%20%20%20%20%20%20%20%20%20%20%20var%20marker_62abbce04b1549d4b971834b838a49c7%20%3D%20L.marker%28%0A%20%20%20%20%20%20%20%20%20%20%20%20%20%20%20%20%5B-22.8224340663403%2C%20-47.06501889875863%5D%2C%0A%20%20%20%20%20%20%20%20%20%20%20%20%20%20%20%20%7B%7D%0A%20%20%20%20%20%20%20%20%20%20%20%20%29.addTo%28map_65424cca01d146e7902ed2d89004c48f%29%3B%0A%20%20%20%20%20%20%20%20%0A%20%20%20%20%0A%20%20%20%20%20%20%20%20%20%20%20%20var%20icon_b9640efe275541e1bbc576502ed8f172%20%3D%20L.AwesomeMarkers.icon%28%0A%20%20%20%20%20%20%20%20%20%20%20%20%20%20%20%20%7B%22extraClasses%22%3A%20%22fa-rotate-0%22%2C%20%22icon%22%3A%20%22info-sign%22%2C%20%22iconColor%22%3A%20%22white%22%2C%20%22markerColor%22%3A%20%22blue%22%2C%20%22prefix%22%3A%20%22glyphicon%22%7D%0A%20%20%20%20%20%20%20%20%20%20%20%20%29%3B%0A%20%20%20%20%20%20%20%20%20%20%20%20marker_62abbce04b1549d4b971834b838a49c7.setIcon%28icon_b9640efe275541e1bbc576502ed8f172%29%3B%0A%20%20%20%20%20%20%20%20%0A%20%20%20%20%0A%20%20%20%20%20%20%20%20var%20popup_10291da735b2404aa11b25984bc3e0be%20%3D%20L.popup%28%7B%22maxWidth%22%3A%20%22100%25%22%7D%29%3B%0A%0A%20%20%20%20%20%20%20%20%0A%20%20%20%20%20%20%20%20%20%20%20%20var%20html_f62a65b1c2f04e37acf116dad87811d8%20%3D%20%24%28%60%3Cdiv%20id%3D%22html_f62a65b1c2f04e37acf116dad87811d8%22%20style%3D%22width%3A%20100.0%25%3B%20height%3A%20100.0%25%3B%22%3ELat%3A%20-22.8224340663403%2C%20Lng%3A%20-47.06501889875863%2C%20Rssi%3A%20-94.0866%3C/div%3E%60%29%5B0%5D%3B%0A%20%20%20%20%20%20%20%20%20%20%20%20popup_10291da735b2404aa11b25984bc3e0be.setContent%28html_f62a65b1c2f04e37acf116dad87811d8%29%3B%0A%20%20%20%20%20%20%20%20%0A%0A%20%20%20%20%20%20%20%20marker_62abbce04b1549d4b971834b838a49c7.bindPopup%28popup_10291da735b2404aa11b25984bc3e0be%29%0A%20%20%20%20%20%20%20%20%3B%0A%0A%20%20%20%20%20%20%20%20%0A%20%20%20%20%0A%20%20%20%20%0A%20%20%20%20%20%20%20%20%20%20%20%20var%20marker_db874d7768524319adcb06f584454a47%20%3D%20L.marker%28%0A%20%20%20%20%20%20%20%20%20%20%20%20%20%20%20%20%5B-22.81525861935553%2C%20-47.06236265226889%5D%2C%0A%20%20%20%20%20%20%20%20%20%20%20%20%20%20%20%20%7B%7D%0A%20%20%20%20%20%20%20%20%20%20%20%20%29.addTo%28map_65424cca01d146e7902ed2d89004c48f%29%3B%0A%20%20%20%20%20%20%20%20%0A%20%20%20%20%0A%20%20%20%20%20%20%20%20%20%20%20%20var%20icon_df2ba473327d4730bbb824ed79542fc2%20%3D%20L.AwesomeMarkers.icon%28%0A%20%20%20%20%20%20%20%20%20%20%20%20%20%20%20%20%7B%22extraClasses%22%3A%20%22fa-rotate-0%22%2C%20%22icon%22%3A%20%22info-sign%22%2C%20%22iconColor%22%3A%20%22white%22%2C%20%22markerColor%22%3A%20%22blue%22%2C%20%22prefix%22%3A%20%22glyphicon%22%7D%0A%20%20%20%20%20%20%20%20%20%20%20%20%29%3B%0A%20%20%20%20%20%20%20%20%20%20%20%20marker_db874d7768524319adcb06f584454a47.setIcon%28icon_df2ba473327d4730bbb824ed79542fc2%29%3B%0A%20%20%20%20%20%20%20%20%0A%20%20%20%20%0A%20%20%20%20%20%20%20%20var%20popup_f3b2db41c578492a8ef36bf677e93376%20%3D%20L.popup%28%7B%22maxWidth%22%3A%20%22100%25%22%7D%29%3B%0A%0A%20%20%20%20%20%20%20%20%0A%20%20%20%20%20%20%20%20%20%20%20%20var%20html_dc352a91b1bd4d778407a72bc8a38753%20%3D%20%24%28%60%3Cdiv%20id%3D%22html_dc352a91b1bd4d778407a72bc8a38753%22%20style%3D%22width%3A%20100.0%25%3B%20height%3A%20100.0%25%3B%22%3ELat%3A%20-22.81525861935553%2C%20Lng%3A%20-47.06236265226889%2C%20Rssi%3A%20-82.0156%3C/div%3E%60%29%5B0%5D%3B%0A%20%20%20%20%20%20%20%20%20%20%20%20popup_f3b2db41c578492a8ef36bf677e93376.setContent%28html_dc352a91b1bd4d778407a72bc8a38753%29%3B%0A%20%20%20%20%20%20%20%20%0A%0A%20%20%20%20%20%20%20%20marker_db874d7768524319adcb06f584454a47.bindPopup%28popup_f3b2db41c578492a8ef36bf677e93376%29%0A%20%20%20%20%20%20%20%20%3B%0A%0A%20%20%20%20%20%20%20%20%0A%20%20%20%20%0A%20%20%20%20%0A%20%20%20%20%20%20%20%20%20%20%20%20var%20marker_99150ac25e1b4cd39f88a8d8cbe9fdfe%20%3D%20L.marker%28%0A%20%20%20%20%20%20%20%20%20%20%20%20%20%20%20%20%5B-22.81756246607184%2C%20-47.07217876933861%5D%2C%0A%20%20%20%20%20%20%20%20%20%20%20%20%20%20%20%20%7B%7D%0A%20%20%20%20%20%20%20%20%20%20%20%20%29.addTo%28map_65424cca01d146e7902ed2d89004c48f%29%3B%0A%20%20%20%20%20%20%20%20%0A%20%20%20%20%0A%20%20%20%20%20%20%20%20%20%20%20%20var%20icon_5de8c980a66d4a7eb5edd090def814bb%20%3D%20L.AwesomeMarkers.icon%28%0A%20%20%20%20%20%20%20%20%20%20%20%20%20%20%20%20%7B%22extraClasses%22%3A%20%22fa-rotate-0%22%2C%20%22icon%22%3A%20%22info-sign%22%2C%20%22iconColor%22%3A%20%22white%22%2C%20%22markerColor%22%3A%20%22blue%22%2C%20%22prefix%22%3A%20%22glyphicon%22%7D%0A%20%20%20%20%20%20%20%20%20%20%20%20%29%3B%0A%20%20%20%20%20%20%20%20%20%20%20%20marker_99150ac25e1b4cd39f88a8d8cbe9fdfe.setIcon%28icon_5de8c980a66d4a7eb5edd090def814bb%29%3B%0A%20%20%20%20%20%20%20%20%0A%20%20%20%20%0A%20%20%20%20%20%20%20%20var%20popup_fd833b82577049e6bbeb841d98224b7c%20%3D%20L.popup%28%7B%22maxWidth%22%3A%20%22100%25%22%7D%29%3B%0A%0A%20%20%20%20%20%20%20%20%0A%20%20%20%20%20%20%20%20%20%20%20%20var%20html_2541711501044d64884601b5ea336c37%20%3D%20%24%28%60%3Cdiv%20id%3D%22html_2541711501044d64884601b5ea336c37%22%20style%3D%22width%3A%20100.0%25%3B%20height%3A%20100.0%25%3B%22%3ELat%3A%20-22.81756246607184%2C%20Lng%3A%20-47.07217876933861%2C%20Rssi%3A%20-98.3656%3C/div%3E%60%29%5B0%5D%3B%0A%20%20%20%20%20%20%20%20%20%20%20%20popup_fd833b82577049e6bbeb841d98224b7c.setContent%28html_2541711501044d64884601b5ea336c37%29%3B%0A%20%20%20%20%20%20%20%20%0A%0A%20%20%20%20%20%20%20%20marker_99150ac25e1b4cd39f88a8d8cbe9fdfe.bindPopup%28popup_fd833b82577049e6bbeb841d98224b7c%29%0A%20%20%20%20%20%20%20%20%3B%0A%0A%20%20%20%20%20%20%20%20%0A%20%20%20%20%0A%20%20%20%20%0A%20%20%20%20%20%20%20%20%20%20%20%20var%20marker_fc4dd5d7dabc494da5ac56cd6d3e5986%20%3D%20L.marker%28%0A%20%20%20%20%20%20%20%20%20%20%20%20%20%20%20%20%5B-22.82337627543984%2C%20-47.06519670796302%5D%2C%0A%20%20%20%20%20%20%20%20%20%20%20%20%20%20%20%20%7B%7D%0A%20%20%20%20%20%20%20%20%20%20%20%20%29.addTo%28map_65424cca01d146e7902ed2d89004c48f%29%3B%0A%20%20%20%20%20%20%20%20%0A%20%20%20%20%0A%20%20%20%20%20%20%20%20%20%20%20%20var%20icon_7afeb3e3902f4510b5ee21e8c2d2cc5f%20%3D%20L.AwesomeMarkers.icon%28%0A%20%20%20%20%20%20%20%20%20%20%20%20%20%20%20%20%7B%22extraClasses%22%3A%20%22fa-rotate-0%22%2C%20%22icon%22%3A%20%22info-sign%22%2C%20%22iconColor%22%3A%20%22white%22%2C%20%22markerColor%22%3A%20%22blue%22%2C%20%22prefix%22%3A%20%22glyphicon%22%7D%0A%20%20%20%20%20%20%20%20%20%20%20%20%29%3B%0A%20%20%20%20%20%20%20%20%20%20%20%20marker_fc4dd5d7dabc494da5ac56cd6d3e5986.setIcon%28icon_7afeb3e3902f4510b5ee21e8c2d2cc5f%29%3B%0A%20%20%20%20%20%20%20%20%0A%20%20%20%20%0A%20%20%20%20%20%20%20%20var%20popup_5b4ded1ea2b440208f3707bc3164a6e0%20%3D%20L.popup%28%7B%22maxWidth%22%3A%20%22100%25%22%7D%29%3B%0A%0A%20%20%20%20%20%20%20%20%0A%20%20%20%20%20%20%20%20%20%20%20%20var%20html_57b9d63598f24ac4a873dff1f7eff15c%20%3D%20%24%28%60%3Cdiv%20id%3D%22html_57b9d63598f24ac4a873dff1f7eff15c%22%20style%3D%22width%3A%20100.0%25%3B%20height%3A%20100.0%25%3B%22%3ELat%3A%20-22.82337627543984%2C%20Lng%3A%20-47.06519670796302%2C%20Rssi%3A%20-95.4807%3C/div%3E%60%29%5B0%5D%3B%0A%20%20%20%20%20%20%20%20%20%20%20%20popup_5b4ded1ea2b440208f3707bc3164a6e0.setContent%28html_57b9d63598f24ac4a873dff1f7eff15c%29%3B%0A%20%20%20%20%20%20%20%20%0A%0A%20%20%20%20%20%20%20%20marker_fc4dd5d7dabc494da5ac56cd6d3e5986.bindPopup%28popup_5b4ded1ea2b440208f3707bc3164a6e0%29%0A%20%20%20%20%20%20%20%20%3B%0A%0A%20%20%20%20%20%20%20%20%0A%20%20%20%20%0A%20%20%20%20%0A%20%20%20%20%20%20%20%20%20%20%20%20var%20marker_a7177b5d57f44ba7aff5595ad2c7f809%20%3D%20L.marker%28%0A%20%20%20%20%20%20%20%20%20%20%20%20%20%20%20%20%5B-22.82337627543984%2C%20-47.06519670796302%5D%2C%0A%20%20%20%20%20%20%20%20%20%20%20%20%20%20%20%20%7B%7D%0A%20%20%20%20%20%20%20%20%20%20%20%20%29.addTo%28map_65424cca01d146e7902ed2d89004c48f%29%3B%0A%20%20%20%20%20%20%20%20%0A%20%20%20%20%0A%20%20%20%20%20%20%20%20%20%20%20%20var%20icon_ea905892d40c4c37b86af3f4b4c31bcf%20%3D%20L.AwesomeMarkers.icon%28%0A%20%20%20%20%20%20%20%20%20%20%20%20%20%20%20%20%7B%22extraClasses%22%3A%20%22fa-rotate-0%22%2C%20%22icon%22%3A%20%22info-sign%22%2C%20%22iconColor%22%3A%20%22white%22%2C%20%22markerColor%22%3A%20%22blue%22%2C%20%22prefix%22%3A%20%22glyphicon%22%7D%0A%20%20%20%20%20%20%20%20%20%20%20%20%29%3B%0A%20%20%20%20%20%20%20%20%20%20%20%20marker_a7177b5d57f44ba7aff5595ad2c7f809.setIcon%28icon_ea905892d40c4c37b86af3f4b4c31bcf%29%3B%0A%20%20%20%20%20%20%20%20%0A%20%20%20%20%0A%20%20%20%20%20%20%20%20var%20popup_65390d1bcf8c4441ab906a0afbcb4c5b%20%3D%20L.popup%28%7B%22maxWidth%22%3A%20%22100%25%22%7D%29%3B%0A%0A%20%20%20%20%20%20%20%20%0A%20%20%20%20%20%20%20%20%20%20%20%20var%20html_4b6095020f4b4764beb65cb5fd06b533%20%3D%20%24%28%60%3Cdiv%20id%3D%22html_4b6095020f4b4764beb65cb5fd06b533%22%20style%3D%22width%3A%20100.0%25%3B%20height%3A%20100.0%25%3B%22%3ELat%3A%20-22.82337627543984%2C%20Lng%3A%20-47.06519670796302%2C%20Rssi%3A%20-94.9466%3C/div%3E%60%29%5B0%5D%3B%0A%20%20%20%20%20%20%20%20%20%20%20%20popup_65390d1bcf8c4441ab906a0afbcb4c5b.setContent%28html_4b6095020f4b4764beb65cb5fd06b533%29%3B%0A%20%20%20%20%20%20%20%20%0A%0A%20%20%20%20%20%20%20%20marker_a7177b5d57f44ba7aff5595ad2c7f809.bindPopup%28popup_65390d1bcf8c4441ab906a0afbcb4c5b%29%0A%20%20%20%20%20%20%20%20%3B%0A%0A%20%20%20%20%20%20%20%20%0A%20%20%20%20%0A%20%20%20%20%0A%20%20%20%20%20%20%20%20%20%20%20%20var%20marker_85e2e822fbdb4fa1a7470f2a87f72b09%20%3D%20L.marker%28%0A%20%20%20%20%20%20%20%20%20%20%20%20%20%20%20%20%5B-22.8242%2C%20-47.0677%5D%2C%0A%20%20%20%20%20%20%20%20%20%20%20%20%20%20%20%20%7B%7D%0A%20%20%20%20%20%20%20%20%20%20%20%20%29.addTo%28map_65424cca01d146e7902ed2d89004c48f%29%3B%0A%20%20%20%20%20%20%20%20%0A%20%20%20%20%0A%20%20%20%20%20%20%20%20%20%20%20%20var%20icon_03c1c4828f904fe8b5ce90502c203ff7%20%3D%20L.AwesomeMarkers.icon%28%0A%20%20%20%20%20%20%20%20%20%20%20%20%20%20%20%20%7B%22extraClasses%22%3A%20%22fa-rotate-0%22%2C%20%22icon%22%3A%20%22info-sign%22%2C%20%22iconColor%22%3A%20%22white%22%2C%20%22markerColor%22%3A%20%22blue%22%2C%20%22prefix%22%3A%20%22glyphicon%22%7D%0A%20%20%20%20%20%20%20%20%20%20%20%20%29%3B%0A%20%20%20%20%20%20%20%20%20%20%20%20marker_85e2e822fbdb4fa1a7470f2a87f72b09.setIcon%28icon_03c1c4828f904fe8b5ce90502c203ff7%29%3B%0A%20%20%20%20%20%20%20%20%0A%20%20%20%20%0A%20%20%20%20%20%20%20%20var%20popup_59ae81e4939941a2a718ad3a9bb2a783%20%3D%20L.popup%28%7B%22maxWidth%22%3A%20%22100%25%22%7D%29%3B%0A%0A%20%20%20%20%20%20%20%20%0A%20%20%20%20%20%20%20%20%20%20%20%20var%20html_0d884e96ab6749909eccf2ebd63b8f0e%20%3D%20%24%28%60%3Cdiv%20id%3D%22html_0d884e96ab6749909eccf2ebd63b8f0e%22%20style%3D%22width%3A%20100.0%25%3B%20height%3A%20100.0%25%3B%22%3ELat%3A%20-22.8242%2C%20Lng%3A%20-47.0677%2C%20Rssi%3A%20-97.7737%3C/div%3E%60%29%5B0%5D%3B%0A%20%20%20%20%20%20%20%20%20%20%20%20popup_59ae81e4939941a2a718ad3a9bb2a783.setContent%28html_0d884e96ab6749909eccf2ebd63b8f0e%29%3B%0A%20%20%20%20%20%20%20%20%0A%0A%20%20%20%20%20%20%20%20marker_85e2e822fbdb4fa1a7470f2a87f72b09.bindPopup%28popup_59ae81e4939941a2a718ad3a9bb2a783%29%0A%20%20%20%20%20%20%20%20%3B%0A%0A%20%20%20%20%20%20%20%20%0A%20%20%20%20%0A%20%20%20%20%0A%20%20%20%20%20%20%20%20%20%20%20%20var%20marker_1b3162c3f8fa4b42a188df55fa3f6106%20%3D%20L.marker%28%0A%20%20%20%20%20%20%20%20%20%20%20%20%20%20%20%20%5B-22.8319%2C%20-47.0629%5D%2C%0A%20%20%20%20%20%20%20%20%20%20%20%20%20%20%20%20%7B%7D%0A%20%20%20%20%20%20%20%20%20%20%20%20%29.addTo%28map_65424cca01d146e7902ed2d89004c48f%29%3B%0A%20%20%20%20%20%20%20%20%0A%20%20%20%20%0A%20%20%20%20%20%20%20%20%20%20%20%20var%20icon_8ef5037bc7b6457a9b19926e235d7819%20%3D%20L.AwesomeMarkers.icon%28%0A%20%20%20%20%20%20%20%20%20%20%20%20%20%20%20%20%7B%22extraClasses%22%3A%20%22fa-rotate-0%22%2C%20%22icon%22%3A%20%22info-sign%22%2C%20%22iconColor%22%3A%20%22white%22%2C%20%22markerColor%22%3A%20%22lightblue%22%2C%20%22prefix%22%3A%20%22glyphicon%22%7D%0A%20%20%20%20%20%20%20%20%20%20%20%20%29%3B%0A%20%20%20%20%20%20%20%20%20%20%20%20marker_1b3162c3f8fa4b42a188df55fa3f6106.setIcon%28icon_8ef5037bc7b6457a9b19926e235d7819%29%3B%0A%20%20%20%20%20%20%20%20%0A%20%20%20%20%0A%20%20%20%20%20%20%20%20var%20popup_48c67d86a6a944bab171b9dc85a38018%20%3D%20L.popup%28%7B%22maxWidth%22%3A%20%22100%25%22%7D%29%3B%0A%0A%20%20%20%20%20%20%20%20%0A%20%20%20%20%20%20%20%20%20%20%20%20var%20html_cf59759578454db69aac80f61f789ae9%20%3D%20%24%28%60%3Cdiv%20id%3D%22html_cf59759578454db69aac80f61f789ae9%22%20style%3D%22width%3A%20100.0%25%3B%20height%3A%20100.0%25%3B%22%3ELat%3A%20-22.8319%2C%20Lng%3A%20-47.0629%2C%20Rssi%3A%20-102.009%3C/div%3E%60%29%5B0%5D%3B%0A%20%20%20%20%20%20%20%20%20%20%20%20popup_48c67d86a6a944bab171b9dc85a38018.setContent%28html_cf59759578454db69aac80f61f789ae9%29%3B%0A%20%20%20%20%20%20%20%20%0A%0A%20%20%20%20%20%20%20%20marker_1b3162c3f8fa4b42a188df55fa3f6106.bindPopup%28popup_48c67d86a6a944bab171b9dc85a38018%29%0A%20%20%20%20%20%20%20%20%3B%0A%0A%20%20%20%20%20%20%20%20%0A%20%20%20%20%0A%20%20%20%20%0A%20%20%20%20%20%20%20%20%20%20%20%20var%20marker_e83276b864c643d28b8dfe6ced39afa1%20%3D%20L.marker%28%0A%20%20%20%20%20%20%20%20%20%20%20%20%20%20%20%20%5B-22.8275%2C%20-47.0628%5D%2C%0A%20%20%20%20%20%20%20%20%20%20%20%20%20%20%20%20%7B%7D%0A%20%20%20%20%20%20%20%20%20%20%20%20%29.addTo%28map_65424cca01d146e7902ed2d89004c48f%29%3B%0A%20%20%20%20%20%20%20%20%0A%20%20%20%20%0A%20%20%20%20%20%20%20%20%20%20%20%20var%20icon_8571d586373443de94f271662b295195%20%3D%20L.AwesomeMarkers.icon%28%0A%20%20%20%20%20%20%20%20%20%20%20%20%20%20%20%20%7B%22extraClasses%22%3A%20%22fa-rotate-0%22%2C%20%22icon%22%3A%20%22info-sign%22%2C%20%22iconColor%22%3A%20%22white%22%2C%20%22markerColor%22%3A%20%22blue%22%2C%20%22prefix%22%3A%20%22glyphicon%22%7D%0A%20%20%20%20%20%20%20%20%20%20%20%20%29%3B%0A%20%20%20%20%20%20%20%20%20%20%20%20marker_e83276b864c643d28b8dfe6ced39afa1.setIcon%28icon_8571d586373443de94f271662b295195%29%3B%0A%20%20%20%20%20%20%20%20%0A%20%20%20%20%0A%20%20%20%20%20%20%20%20var%20popup_454ba6de69ca4ca7b14da32f49bafabf%20%3D%20L.popup%28%7B%22maxWidth%22%3A%20%22100%25%22%7D%29%3B%0A%0A%20%20%20%20%20%20%20%20%0A%20%20%20%20%20%20%20%20%20%20%20%20var%20html_f6cb10e0725f4335ae9e41daeb85bad7%20%3D%20%24%28%60%3Cdiv%20id%3D%22html_f6cb10e0725f4335ae9e41daeb85bad7%22%20style%3D%22width%3A%20100.0%25%3B%20height%3A%20100.0%25%3B%22%3ELat%3A%20-22.8275%2C%20Lng%3A%20-47.0628%2C%20Rssi%3A%20-98.1254%3C/div%3E%60%29%5B0%5D%3B%0A%20%20%20%20%20%20%20%20%20%20%20%20popup_454ba6de69ca4ca7b14da32f49bafabf.setContent%28html_f6cb10e0725f4335ae9e41daeb85bad7%29%3B%0A%20%20%20%20%20%20%20%20%0A%0A%20%20%20%20%20%20%20%20marker_e83276b864c643d28b8dfe6ced39afa1.bindPopup%28popup_454ba6de69ca4ca7b14da32f49bafabf%29%0A%20%20%20%20%20%20%20%20%3B%0A%0A%20%20%20%20%20%20%20%20%0A%20%20%20%20%0A%3C/script%3E onload=\"this.contentDocument.open();this.contentDocument.write(    decodeURIComponent(this.getAttribute('data-html')));this.contentDocument.close();\" allowfullscreen webkitallowfullscreen mozallowfullscreen></iframe></div></div>"
      ],
      "text/plain": [
       "<folium.folium.Map at 0x7fdc6c310df0>"
      ]
     },
     "execution_count": 61,
     "metadata": {},
     "output_type": "execute_result"
    }
   ],
   "source": [
    "# # ---- UNICAMP DYNAMIC PLOT MAP & MARKERS OF POSITIONS THAT PACKET WERE RECEIVE\n",
    "\n",
    "# create folium map\n",
    "fmap = folium.Map(width= 500,height=600,location=[-22.822617, -47.067], zoom_start=15, tiles='OpenStreetMap')\n",
    "\n",
    "# add markers\n",
    "for data in heat_data:\n",
    "  lat, lng, rssi = data[0], data[1], data[2]\n",
    "#   print(lat, lng)\n",
    "#   print('RSSI', rssi)\n",
    "  if rssi >= -80:\n",
    "        color_rssi = 'darkblue'\n",
    "  elif rssi < -80 and rssi >= -100:\n",
    "        color_rssi = 'blue'\n",
    "  elif rssi < -100:\n",
    "        color_rssi = \"lightblue\"\n",
    "\n",
    "  folium.Marker(\n",
    "      location=[float(lat), float(lng)],\n",
    "      popup=\"Lat: \" + str(lat) + \", Lng: \" + str(lng)+ \", Rssi: \" + str(rssi),\n",
    "      icon=folium.Icon(color=color_rssi),\n",
    "  ).add_to(fmap)\n",
    "\n",
    "fmap.get_root().add_child(legend)\n",
    "\n",
    "fmap"
   ]
  },
  {
   "cell_type": "code",
   "execution_count": 17,
   "metadata": {},
   "outputs": [],
   "source": [
    "# # salve map\n",
    "# fn=\"okumura_elev.html\"\n",
    "# fmap.save(fn)"
   ]
  },
  {
   "cell_type": "code",
   "execution_count": null,
   "metadata": {},
   "outputs": [],
   "source": []
  },
  {
   "cell_type": "markdown",
   "metadata": {},
   "source": [
    "## Métricas de performance da rede completa (Mac Layer)"
   ]
  },
  {
   "cell_type": "code",
   "execution_count": 62,
   "metadata": {},
   "outputs": [
    {
     "name": "stdout",
     "output_type": "stream",
     "text": [
      "\n",
      "SHAPE: (1, 5)\n"
     ]
    },
    {
     "data": {
      "text/html": [
       "<div>\n",
       "<style scoped>\n",
       "    .dataframe tbody tr th:only-of-type {\n",
       "        vertical-align: middle;\n",
       "    }\n",
       "\n",
       "    .dataframe tbody tr th {\n",
       "        vertical-align: top;\n",
       "    }\n",
       "\n",
       "    .dataframe thead th {\n",
       "        text-align: right;\n",
       "    }\n",
       "</style>\n",
       "<table border=\"1\" class=\"dataframe\">\n",
       "  <thead>\n",
       "    <tr style=\"text-align: right;\">\n",
       "      <th></th>\n",
       "      <th>nSent</th>\n",
       "      <th>nReceiv</th>\n",
       "      <th>PER</th>\n",
       "      <th>PLR</th>\n",
       "      <th>PDR</th>\n",
       "    </tr>\n",
       "  </thead>\n",
       "  <tbody>\n",
       "    <tr>\n",
       "      <th>0</th>\n",
       "      <td>126000</td>\n",
       "      <td>125906</td>\n",
       "      <td>0.000747</td>\n",
       "      <td>0.000746</td>\n",
       "      <td>0.999254</td>\n",
       "    </tr>\n",
       "  </tbody>\n",
       "</table>\n",
       "</div>"
      ],
      "text/plain": [
       "    nSent  nReceiv       PER       PLR       PDR\n",
       "0  126000   125906  0.000747  0.000746  0.999254"
      ]
     },
     "execution_count": 62,
     "metadata": {},
     "output_type": "execute_result"
    }
   ],
   "source": [
    "# ----- DATASET\n",
    "file_to_be_analysed = mac_layer_performance_metrics\n",
    "path_to_simulation = simulation_folder + simulation_id + file_to_be_analysed\n",
    "\n",
    "net_df = pd.read_csv(path_to_simulation, header=None) \n",
    "net_df.columns = [\"nSent\", \"nReceiv\", \"PER\", \"PLR\", \"PDR\"]\n",
    "\n",
    "print(\"\\nSHAPE:\", net_df.shape)\n",
    "net_df.head()"
   ]
  },
  {
   "cell_type": "code",
   "execution_count": 63,
   "metadata": {},
   "outputs": [
    {
     "name": "stdout",
     "output_type": "stream",
     "text": [
      "NETWORK PERFORMANCE METRICS:\n",
      "\n",
      "nSent: 126000.0\n",
      "nReceiv: 125906.0\n",
      "\n",
      "PER: 0.000746589\n",
      "PLR: 0.000746032\n",
      "PDR: 0.999254\n"
     ]
    }
   ],
   "source": [
    "# Valores médios de cada coluna\n",
    "print(\"NETWORK PERFORMANCE METRICS:\\n\")\n",
    "print(\"nSent:\", net_df['nSent'].mean())\n",
    "print(\"nReceiv:\", net_df['nReceiv'].mean())\n",
    "print(\"\\nPER:\", net_df['PER'].mean())\n",
    "print(\"PLR:\", net_df['PLR'].mean())\n",
    "print(\"PDR:\", net_df['PDR'].mean())"
   ]
  },
  {
   "cell_type": "code",
   "execution_count": null,
   "metadata": {},
   "outputs": [],
   "source": []
  },
  {
   "cell_type": "markdown",
   "metadata": {},
   "source": [
    "## Métricas de Consumo"
   ]
  },
  {
   "cell_type": "code",
   "execution_count": 64,
   "metadata": {},
   "outputs": [
    {
     "name": "stdout",
     "output_type": "stream",
     "text": [
      "\n",
      "SHAPE: (720, 2)\n"
     ]
    },
    {
     "data": {
      "text/html": [
       "<div>\n",
       "<style scoped>\n",
       "    .dataframe tbody tr th:only-of-type {\n",
       "        vertical-align: middle;\n",
       "    }\n",
       "\n",
       "    .dataframe tbody tr th {\n",
       "        vertical-align: top;\n",
       "    }\n",
       "\n",
       "    .dataframe thead th {\n",
       "        text-align: right;\n",
       "    }\n",
       "</style>\n",
       "<table border=\"1\" class=\"dataframe\">\n",
       "  <thead>\n",
       "    <tr style=\"text-align: right;\">\n",
       "      <th></th>\n",
       "      <th>time</th>\n",
       "      <th>energyRemaining</th>\n",
       "    </tr>\n",
       "  </thead>\n",
       "  <tbody>\n",
       "    <tr>\n",
       "      <th>0</th>\n",
       "      <td>0.0</td>\n",
       "      <td>10000.00</td>\n",
       "    </tr>\n",
       "    <tr>\n",
       "      <th>1</th>\n",
       "      <td>3600.0</td>\n",
       "      <td>9999.89</td>\n",
       "    </tr>\n",
       "    <tr>\n",
       "      <th>2</th>\n",
       "      <td>7200.0</td>\n",
       "      <td>9999.78</td>\n",
       "    </tr>\n",
       "    <tr>\n",
       "      <th>3</th>\n",
       "      <td>10800.0</td>\n",
       "      <td>9999.67</td>\n",
       "    </tr>\n",
       "    <tr>\n",
       "      <th>4</th>\n",
       "      <td>14400.0</td>\n",
       "      <td>9999.55</td>\n",
       "    </tr>\n",
       "  </tbody>\n",
       "</table>\n",
       "</div>"
      ],
      "text/plain": [
       "      time  energyRemaining\n",
       "0      0.0         10000.00\n",
       "1   3600.0          9999.89\n",
       "2   7200.0          9999.78\n",
       "3  10800.0          9999.67\n",
       "4  14400.0          9999.55"
      ]
     },
     "execution_count": 64,
     "metadata": {},
     "output_type": "execute_result"
    }
   ],
   "source": [
    "# ----- DATASET\n",
    "file_to_be_analysed = mac_layer_power_consumption\n",
    "path_to_simulation = simulation_folder + simulation_id + file_to_be_analysed\n",
    "\n",
    "energy_df = pd.read_csv(path_to_simulation, header=None) \n",
    "energy_df.columns = [\"time\", \"energyRemaining\"]\n",
    "\n",
    "# energy_df = energy_df.iloc[0:720]\n",
    "print(\"\\nSHAPE:\", energy_df.shape)\n",
    "energy_df.head()"
   ]
  },
  {
   "cell_type": "code",
   "execution_count": 65,
   "metadata": {},
   "outputs": [
    {
     "name": "stdout",
     "output_type": "stream",
     "text": [
      "\n",
      "SHAPE: (720, 3)\n",
      "\n",
      "SHAPE: (720, 4)\n"
     ]
    },
    {
     "data": {
      "text/html": [
       "<div>\n",
       "<style scoped>\n",
       "    .dataframe tbody tr th:only-of-type {\n",
       "        vertical-align: middle;\n",
       "    }\n",
       "\n",
       "    .dataframe tbody tr th {\n",
       "        vertical-align: top;\n",
       "    }\n",
       "\n",
       "    .dataframe thead th {\n",
       "        text-align: right;\n",
       "    }\n",
       "</style>\n",
       "<table border=\"1\" class=\"dataframe\">\n",
       "  <thead>\n",
       "    <tr style=\"text-align: right;\">\n",
       "      <th></th>\n",
       "      <th>time</th>\n",
       "      <th>energyRemaining</th>\n",
       "      <th>time_h</th>\n",
       "      <th>time_mes</th>\n",
       "      <th>energyRemainingPercentual</th>\n",
       "    </tr>\n",
       "  </thead>\n",
       "  <tbody>\n",
       "    <tr>\n",
       "      <th>0</th>\n",
       "      <td>0.0</td>\n",
       "      <td>10000.00</td>\n",
       "      <td>0.0</td>\n",
       "      <td>0.000000</td>\n",
       "      <td>100.0000</td>\n",
       "    </tr>\n",
       "    <tr>\n",
       "      <th>1</th>\n",
       "      <td>3600.0</td>\n",
       "      <td>9999.89</td>\n",
       "      <td>1.0</td>\n",
       "      <td>0.001370</td>\n",
       "      <td>99.9989</td>\n",
       "    </tr>\n",
       "    <tr>\n",
       "      <th>2</th>\n",
       "      <td>7200.0</td>\n",
       "      <td>9999.78</td>\n",
       "      <td>2.0</td>\n",
       "      <td>0.002740</td>\n",
       "      <td>99.9978</td>\n",
       "    </tr>\n",
       "    <tr>\n",
       "      <th>3</th>\n",
       "      <td>10800.0</td>\n",
       "      <td>9999.67</td>\n",
       "      <td>3.0</td>\n",
       "      <td>0.004110</td>\n",
       "      <td>99.9967</td>\n",
       "    </tr>\n",
       "    <tr>\n",
       "      <th>4</th>\n",
       "      <td>14400.0</td>\n",
       "      <td>9999.55</td>\n",
       "      <td>4.0</td>\n",
       "      <td>0.005479</td>\n",
       "      <td>99.9955</td>\n",
       "    </tr>\n",
       "  </tbody>\n",
       "</table>\n",
       "</div>"
      ],
      "text/plain": [
       "      time  energyRemaining  time_h  time_mes  energyRemainingPercentual\n",
       "0      0.0         10000.00     0.0  0.000000                   100.0000\n",
       "1   3600.0          9999.89     1.0  0.001370                    99.9989\n",
       "2   7200.0          9999.78     2.0  0.002740                    99.9978\n",
       "3  10800.0          9999.67     3.0  0.004110                    99.9967\n",
       "4  14400.0          9999.55     4.0  0.005479                    99.9955"
      ]
     },
     "execution_count": 65,
     "metadata": {},
     "output_type": "execute_result"
    }
   ],
   "source": [
    "# tempo para hora\n",
    "energy_df['time_h'] = energy_df['time'] / 3600.0\n",
    "print(\"\\nSHAPE:\", energy_df.shape)\n",
    "\n",
    "# hora para mês\n",
    "energy_df['time_mes'] = energy_df['time_h'] / 730\n",
    "print(\"\\nSHAPE:\", energy_df.shape)\n",
    "\n",
    "# Joules p 100%\n",
    "total = 10000.0\n",
    "energy_df['energyRemainingPercentual'] = (energy_df['energyRemaining'] / total) *100\n",
    "energy_df.head()"
   ]
  },
  {
   "cell_type": "code",
   "execution_count": 123,
   "metadata": {},
   "outputs": [],
   "source": [
    "# energy_df.duplicated()"
   ]
  },
  {
   "cell_type": "code",
   "execution_count": 67,
   "metadata": {},
   "outputs": [
    {
     "data": {
      "image/png": "[encoded data removed]",
      "text/plain": [
       "<Figure size 720x360 with 1 Axes>"
      ]
     },
     "metadata": {
      "needs_background": "light"
     },
     "output_type": "display_data"
    }
   ],
   "source": [
    "# graph measures x time (h)\n",
    "\n",
    "fig, ax = plt.subplots(figsize=(10,5))\n",
    "# plt.figure(figsize=(10,5))\n",
    "ax = plt.gca()\n",
    "\n",
    "energy_df.plot(kind='line',x=\"time_mes\", y='energyRemainingPercentual',label='SX1272', color = 'blue', ax=ax)\n",
    "\n",
    "plt.xlabel('Período de Teste (mês)', fontweight='bold', fontsize=14,labelpad=5)\n",
    "plt.ylabel('Energia (100%)', fontweight='bold', fontsize=14, labelpad=5)\n",
    "\n",
    "ttl = ax.title\n",
    "ttl.set_position([.5, 1.3])\n",
    "\n",
    "plt.title('Energia Remanescente x Tempo (mês)',fontweight='bold',fontsize=14)\n",
    "\n",
    "from matplotlib.ticker import FormatStrFormatter\n",
    "ax.yaxis.set_major_formatter(FormatStrFormatter('%.2f'))\n",
    "\n",
    "plt.show()\n",
    "fig.savefig('energy_result.png',bbox_inches='tight')"
   ]
  },
  {
   "cell_type": "code",
   "execution_count": 51,
   "metadata": {},
   "outputs": [],
   "source": [
    "# energy_df.describe()"
   ]
  },
  {
   "cell_type": "code",
   "execution_count": 34,
   "metadata": {},
   "outputs": [],
   "source": [
    "# totalEnergy = energy_df['energyRemaining'].max()\n",
    "# energyRemain = energy_df['energyRemaining'].min()\n",
    "# totalReceivePkts = 94\n",
    "# print(\"Total Energy:\", totalEnergy)\n",
    "# print(\"Energy Remain:\", energyRemain)\n",
    "# print(\"Total Receive Pkts:\", totalReceivePkts)\n",
    "\n",
    "# NEC = (totalEnergy - energyRemain)/totalReceivePkts\n",
    "# NEC"
   ]
  },
  {
   "cell_type": "code",
   "execution_count": null,
   "metadata": {},
   "outputs": [],
   "source": []
  },
  {
   "cell_type": "code",
   "execution_count": null,
   "metadata": {},
   "outputs": [],
   "source": []
  },
  {
   "cell_type": "markdown",
   "metadata": {},
   "source": [
    "# Análise entre simulações"
   ]
  },
  {
   "cell_type": "code",
   "execution_count": null,
   "metadata": {},
   "outputs": [],
   "source": [
    "current_path = os.getcwd()\n",
    "current_path = '/home/wasp/Desktop/Mestrado/ns3-bmap/NS3/lorawan-metricas-exp/'"
   ]
  },
  {
   "cell_type": "markdown",
   "metadata": {},
   "source": [
    "###  Métricas da camada PHY"
   ]
  },
  {
   "cell_type": "code",
   "execution_count": 76,
   "metadata": {},
   "outputs": [
    {
     "name": "stdout",
     "output_type": "stream",
     "text": [
      "\n",
      "SHAPE: (10, 6)\n",
      "SHAPE: (10, 6)\n",
      "SHAPE: (10, 6)\n",
      "SHAPE: (10, 6)\n"
     ]
    }
   ],
   "source": [
    "# Open Datasets - Camada phy\n",
    "path_cenario_0 = current_path + \"/simulations/04-log/phy_results.txt\"\n",
    "path_cenario_1 = current_path + \"/simulations/05-log/phy_results.txt\"\n",
    "path_cenario_2 = current_path + \"/simulations/04/phy_results.txt\"\n",
    "path_cenario_3 = current_path + \"/simulations/05/phy_results.txt\"\n",
    "\n",
    "cenario_0_df = pd.read_csv(path_cenario_0, header=None) \n",
    "cenario_0_df.columns = [\"gwID\", \"received\", \"interfered\", \"noMoreReceivers\", \"underSensitivity\", \"lost\"]\n",
    "print(\"\\nSHAPE:\", cenario_0_df.shape)\n",
    "# cenario_0_df.head()\n",
    "\n",
    "cenario_1_df = pd.read_csv(path_cenario_1, header=None) \n",
    "cenario_1_df.columns = [\"gwID\", \"received\", \"interfered\", \"noMoreReceivers\", \"underSensitivity\", \"lost\"]\n",
    "print(\"SHAPE:\", cenario_1_df.shape)\n",
    "# cenario_1_df.head()\n",
    "\n",
    "cenario_2_df = pd.read_csv(path_cenario_2, header=None) \n",
    "cenario_2_df.columns = [\"gwID\", \"received\", \"interfered\", \"noMoreReceivers\", \"underSensitivity\", \"lost\"]\n",
    "print(\"SHAPE:\", cenario_2_df.shape)\n",
    "# cenario_2_df.head()\n",
    "\n",
    "cenario_3_df = pd.read_csv(path_cenario_3, header=None) \n",
    "cenario_3_df.columns = [\"gwID\", \"received\", \"interfered\", \"noMoreReceivers\", \"underSensitivity\", \"lost\"]\n",
    "print(\"SHAPE:\", cenario_3_df.shape)"
   ]
  },
  {
   "cell_type": "code",
   "execution_count": 30,
   "metadata": {},
   "outputs": [
    {
     "data": {
      "text/plain": [
       "131625.4"
      ]
     },
     "execution_count": 30,
     "metadata": {},
     "output_type": "execute_result"
    }
   ],
   "source": [
    "cenario_0_df['received'].mean()"
   ]
  },
  {
   "cell_type": "code",
   "execution_count": 77,
   "metadata": {},
   "outputs": [],
   "source": [
    "# REMOVE OUTLIERS\n",
    "cenario_2_df = cenario_2_df.iloc[1:].head()"
   ]
  },
  {
   "cell_type": "code",
   "execution_count": 78,
   "metadata": {},
   "outputs": [],
   "source": [
    "def percent_conversion (total_pkg_expected, number):\n",
    "    percent = (100 * number)/total_pkg_expected\n",
    "    return percent"
   ]
  },
  {
   "cell_type": "code",
   "execution_count": 79,
   "metadata": {
    "scrolled": true
   },
   "outputs": [
    {
     "data": {
      "image/png": "[encoded data removed]",
      "text/plain": [
       "<Figure size 432x288 with 1 Axes>"
      ]
     },
     "metadata": {
      "needs_background": "light"
     },
     "output_type": "display_data"
    }
   ],
   "source": [
    "# labels = ['1 ano', '30d - 30min', '30d -10min'] \n",
    "labels = ['I-log', 'II-log', 'I-O', 'II-O'] \n",
    "\n",
    "total_pkg_01 = 131640\n",
    "total_pkg_02 = 823680\n",
    "total_pkg_03 = 131640\n",
    "total_pkg_04 = 823680\n",
    "\n",
    "received = [percent_conversion(total_pkg_01, cenario_0_df['received'].mean()),\n",
    "            percent_conversion(total_pkg_02, cenario_1_df['received'].mean()),\n",
    "            percent_conversion(total_pkg_03, cenario_2_df['received'].mean()),\n",
    "            percent_conversion(total_pkg_04, cenario_3_df['received'].mean())]\n",
    "\n",
    "interfered = [percent_conversion(total_pkg_01, cenario_0_df['interfered'].mean()),\n",
    "              percent_conversion(total_pkg_02, cenario_1_df['interfered'].mean()),\n",
    "              percent_conversion(total_pkg_03, cenario_2_df['interfered'].mean()),\n",
    "              percent_conversion(total_pkg_04, cenario_3_df['interfered'].mean())]\n",
    "\n",
    "noMoreReceivers = [percent_conversion(total_pkg_01, cenario_0_df['noMoreReceivers'].mean()),\n",
    "                   percent_conversion(total_pkg_02, cenario_1_df['noMoreReceivers'].mean()),\n",
    "                   percent_conversion(total_pkg_03, cenario_2_df['noMoreReceivers'].mean()),\n",
    "                   percent_conversion(total_pkg_04, cenario_3_df['noMoreReceivers'].mean())]\n",
    "\n",
    "underSensitivity = [percent_conversion(total_pkg_01, cenario_0_df['underSensitivity'].mean()),\n",
    "            percent_conversion(total_pkg_01, cenario_1_df['underSensitivity'].mean()),\n",
    "            percent_conversion(total_pkg_02, cenario_2_df['underSensitivity'].mean()),\n",
    "            percent_conversion(total_pkg_03, cenario_3_df['underSensitivity'].mean())]\n",
    "\n",
    "\n",
    "x = np.arange(len(labels))  # the label locations\n",
    "width = 0.4  # the width of the bars\n",
    "\n",
    "fig, ax = plt.subplots()\n",
    "rects1 = ax.bar(x, received, width, label='Received')\n",
    "rects2 = ax.bar(x + width, interfered, width, label='Interfered')\n",
    "rects3 = ax.bar(x + width*2, noMoreReceivers, width, label='NoMoreReceivers')\n",
    "rects4 = ax.bar(x + width*3, underSensitivity, width, label='UnderSensitivity')\n",
    "\n",
    "\n",
    "# Add some text for labels, title and custom x-axis tick labels, etc.\n",
    "ax.set_ylabel('Nº of Packets sent (%)')\n",
    "ax.set_xlabel('Payload size')\n",
    "ax.set_title(' Performance at PHY level of a specific gateway \\n- SF7, 222 nodes', fontweight='bold', fontsize=12, y=1.05)\n",
    "ax.set_xticks(x)\n",
    "ax.set_xticklabels(labels)\n",
    "ax.set_ylim([0, 110]) \n",
    "ax.legend(bbox_to_anchor=(1.01, 1.01), prop={'size': 10})\n",
    "\n",
    "\n",
    "def autolabel(rects):\n",
    "    \"\"\"Attach a text label above each bar in *rects*, displaying its height.\"\"\"\n",
    "    for rect in rects:\n",
    "        height = rect.get_height()\n",
    "        ax.annotate('{}'.format(round(height,2)),\n",
    "                    xy=(rect.get_x() + rect.get_width() / 2, height),\n",
    "                    xytext=(0, 3),  # 3 points vertical offset\n",
    "                    textcoords=\"offset points\",\n",
    "                    ha='center', va='bottom')\n",
    "\n",
    "autolabel(rects1)\n",
    "autolabel(rects2)\n",
    "\n",
    "\n",
    "plt.show()\n",
    "fig.savefig('phy_performance.png',bbox_inches='tight')"
   ]
  },
  {
   "cell_type": "code",
   "execution_count": null,
   "metadata": {},
   "outputs": [],
   "source": []
  },
  {
   "cell_type": "markdown",
   "metadata": {},
   "source": [
    "## Métricas de performance da rede completa (Mac Layer)"
   ]
  },
  {
   "cell_type": "code",
   "execution_count": 97,
   "metadata": {},
   "outputs": [
    {
     "name": "stdout",
     "output_type": "stream",
     "text": [
      "\n",
      "SHAPE: (10, 5)\n",
      "SHAPE: (10, 5)\n",
      "SHAPE: (10, 5)\n",
      "SHAPE: (10, 5)\n"
     ]
    },
    {
     "data": {
      "text/html": [
       "<div>\n",
       "<style scoped>\n",
       "    .dataframe tbody tr th:only-of-type {\n",
       "        vertical-align: middle;\n",
       "    }\n",
       "\n",
       "    .dataframe tbody tr th {\n",
       "        vertical-align: top;\n",
       "    }\n",
       "\n",
       "    .dataframe thead th {\n",
       "        text-align: right;\n",
       "    }\n",
       "</style>\n",
       "<table border=\"1\" class=\"dataframe\">\n",
       "  <thead>\n",
       "    <tr style=\"text-align: right;\">\n",
       "      <th></th>\n",
       "      <th>nSent</th>\n",
       "      <th>nReceiv</th>\n",
       "      <th>PER</th>\n",
       "      <th>PLR</th>\n",
       "      <th>PDR</th>\n",
       "    </tr>\n",
       "  </thead>\n",
       "  <tbody>\n",
       "    <tr>\n",
       "      <th>0</th>\n",
       "      <td>823680</td>\n",
       "      <td>818521</td>\n",
       "      <td>0.006303</td>\n",
       "      <td>0.006263</td>\n",
       "      <td>0.993737</td>\n",
       "    </tr>\n",
       "    <tr>\n",
       "      <th>1</th>\n",
       "      <td>823680</td>\n",
       "      <td>821454</td>\n",
       "      <td>0.002710</td>\n",
       "      <td>0.002703</td>\n",
       "      <td>0.997297</td>\n",
       "    </tr>\n",
       "    <tr>\n",
       "      <th>2</th>\n",
       "      <td>823680</td>\n",
       "      <td>820647</td>\n",
       "      <td>0.003696</td>\n",
       "      <td>0.003682</td>\n",
       "      <td>0.996318</td>\n",
       "    </tr>\n",
       "    <tr>\n",
       "      <th>3</th>\n",
       "      <td>823680</td>\n",
       "      <td>820275</td>\n",
       "      <td>0.004151</td>\n",
       "      <td>0.004134</td>\n",
       "      <td>0.995866</td>\n",
       "    </tr>\n",
       "    <tr>\n",
       "      <th>4</th>\n",
       "      <td>823680</td>\n",
       "      <td>822063</td>\n",
       "      <td>0.001967</td>\n",
       "      <td>0.001963</td>\n",
       "      <td>0.998037</td>\n",
       "    </tr>\n",
       "  </tbody>\n",
       "</table>\n",
       "</div>"
      ],
      "text/plain": [
       "    nSent  nReceiv       PER       PLR       PDR\n",
       "0  823680   818521  0.006303  0.006263  0.993737\n",
       "1  823680   821454  0.002710  0.002703  0.997297\n",
       "2  823680   820647  0.003696  0.003682  0.996318\n",
       "3  823680   820275  0.004151  0.004134  0.995866\n",
       "4  823680   822063  0.001967  0.001963  0.998037"
      ]
     },
     "execution_count": 97,
     "metadata": {},
     "output_type": "execute_result"
    }
   ],
   "source": [
    "# ----- Open Datasets - Camada MAC\n",
    "\n",
    "file = \"net_results.txt\"\n",
    "path_cenario_0 = current_path + \"/simulations/04-log/\" + file\n",
    "path_cenario_1 = current_path + \"/simulations/05-log/\" + file\n",
    "path_cenario_2 = current_path + \"/simulations/04/\" + file\n",
    "path_cenario_3 = current_path + \"/simulations/05/\" + file\n",
    "\n",
    "net_0_df = pd.read_csv(path_cenario_0, header=None) \n",
    "net_0_df.columns = [\"nSent\", \"nReceiv\", \"PER\", \"PLR\", \"PDR\"]\n",
    "print(\"\\nSHAPE:\", net_0_df.shape)\n",
    "# net_0_df.head()\n",
    "\n",
    "net_1_df = pd.read_csv(path_cenario_1, header=None) \n",
    "net_1_df.columns = [\"nSent\", \"nReceiv\", \"PER\", \"PLR\", \"PDR\"]\n",
    "print(\"SHAPE:\", net_1_df.shape)\n",
    "net_1_df.head()\n",
    "\n",
    "net_2_df = pd.read_csv(path_cenario_2, header=None) \n",
    "net_2_df.columns = [\"nSent\", \"nReceiv\", \"PER\", \"PLR\", \"PDR\"]\n",
    "print(\"SHAPE:\", net_2_df.shape)\n",
    "net_2_df.head()\n",
    "\n",
    "net_3_df = pd.read_csv(path_cenario_3, header=None) \n",
    "net_3_df.columns = [\"nSent\", \"nReceiv\", \"PER\", \"PLR\", \"PDR\"]\n",
    "print(\"SHAPE:\", net_3_df.shape)\n",
    "net_3_df.head()"
   ]
  },
  {
   "cell_type": "code",
   "execution_count": 99,
   "metadata": {},
   "outputs": [],
   "source": [
    "#REMOVE OUTLIERS\n",
    "net_2_df = net_2_df.iloc[1:].head()"
   ]
  },
  {
   "cell_type": "code",
   "execution_count": 100,
   "metadata": {},
   "outputs": [
    {
     "data": {
      "image/png": "[encoded data removed]",
      "text/plain": [
       "<Figure size 432x288 with 1 Axes>"
      ]
     },
     "metadata": {
      "needs_background": "light"
     },
     "output_type": "display_data"
    }
   ],
   "source": [
    "# labels = ['1 ano', '30d - 30min', '30d -10min'] \n",
    "labels = ['I-log', 'II-log', 'I-O', 'II-O'] \n",
    "\n",
    "pdr = [net_0_df['PDR'].mean(), net_1_df['PDR'].mean(), net_2_df['PDR'].mean(), net_3_df['PDR'].mean()]\n",
    "\n",
    "x = np.arange(len(labels))  # the label locations\n",
    "width = 0.5  # the width of the bars\n",
    "\n",
    "fig, ax = plt.subplots()\n",
    "rects1 = ax.bar(x, pdr, width, label='PDR')\n",
    "\n",
    "\n",
    "# Add some text for labels, title and custom x-axis tick labels, etc.\n",
    "ax.set_ylabel('PDR')\n",
    "ax.set_title('Global performance at MAC level of the whole network \\n- SF7, 222 nodes', fontweight='bold', fontsize=12, y=1.05)\n",
    "ax.set_xticks(x)\n",
    "ax.set_xticklabels(labels)\n",
    "# ax.set_xlim([0, 1]) \n",
    "ax.set_ylim([0, max(pdr) + max(pdr)/3]) \n",
    "ax.legend()\n",
    "\n",
    "\n",
    "def autolabel(rects):\n",
    "    \"\"\"Attach a text label above each bar in *rects*, displaying its height.\"\"\"\n",
    "    for rect in rects:\n",
    "        height = rect.get_height()\n",
    "        ax.annotate('{}'.format(round(height,4)),\n",
    "                    xy=(rect.get_x() + rect.get_width() / 2, height),\n",
    "                    xytext=(0, 3),  # 3 points vertical offset\n",
    "                    textcoords=\"offset points\",\n",
    "                    ha='center', va='bottom')\n",
    "\n",
    "\n",
    "autolabel(rects1)\n",
    "\n",
    "\n",
    "fig.tight_layout()\n",
    "\n",
    "plt.show()\n",
    "fig.savefig('mac_performance.png',bbox_inches='tight')"
   ]
  },
  {
   "cell_type": "code",
   "execution_count": null,
   "metadata": {},
   "outputs": [],
   "source": []
  },
  {
   "cell_type": "code",
   "execution_count": null,
   "metadata": {},
   "outputs": [],
   "source": []
  },
  {
   "cell_type": "code",
   "execution_count": 101,
   "metadata": {},
   "outputs": [
    {
     "name": "stdout",
     "output_type": "stream",
     "text": [
      "\n",
      "SHAPE: (10, 5)\n",
      "SHAPE: (10, 5)\n",
      "SHAPE: (10, 5)\n",
      "SHAPE: (10, 5)\n"
     ]
    }
   ],
   "source": [
    "# ----- Open Datasets - Camada Delay\n",
    "\n",
    "file = \"delay_results.txt\"\n",
    "path_cenario_0 = current_path + \"/simulations/04-log/\" + file\n",
    "path_cenario_1 = current_path + \"/simulations/05-log/\" + file\n",
    "path_cenario_2 = current_path + \"/simulations/04/\" + file\n",
    "path_cenario_3 = current_path + \"/simulations/05/\" + file\n",
    "\n",
    "delay_0_df = pd.read_csv(path_cenario_0, header=None) \n",
    "# Average delay (ms),  Average delay (ns) per SF, soma dos Delays per SF (ns):\n",
    "delay_0_df.columns = [\"sent\", \"receive\", \"average_delay_s\", \"average_delay_ns\", \"delay_p_sf_ns\"]\n",
    "print(\"\\nSHAPE:\", net_0_df.shape)\n",
    "# delay_0_df.head()\n",
    "\n",
    "delay_1_df = pd.read_csv(path_cenario_1, header=None) \n",
    "delay_1_df.columns = [\"sent\", \"receive\", \"average_delay_s\", \"average_delay_ns\", \"delay_p_sf_ns\"]\n",
    "print(\"SHAPE:\", delay_1_df.shape)\n",
    "# delay_1_df.head()\n",
    "\n",
    "delay_2_df = pd.read_csv(path_cenario_2, header=None) \n",
    "delay_2_df.columns = [\"sent\", \"receive\", \"average_delay_s\", \"average_delay_ns\", \"delay_p_sf_ns\"]\n",
    "print(\"SHAPE:\", delay_2_df.shape)\n",
    "# delay_2_df.head()\n",
    "\n",
    "delay_3_df = pd.read_csv(path_cenario_3, header=None) \n",
    "delay_3_df.columns = [\"sent\", \"receive\", \"average_delay_s\", \"average_delay_ns\", \"delay_p_sf_ns\"]\n",
    "print(\"SHAPE:\", delay_3_df.shape)"
   ]
  },
  {
   "cell_type": "code",
   "execution_count": 40,
   "metadata": {},
   "outputs": [],
   "source": [
    "# delay_2_df['average_delay_s'].mean()"
   ]
  },
  {
   "cell_type": "code",
   "execution_count": 102,
   "metadata": {},
   "outputs": [
    {
     "data": {
      "text/html": [
       "<div>\n",
       "<style scoped>\n",
       "    .dataframe tbody tr th:only-of-type {\n",
       "        vertical-align: middle;\n",
       "    }\n",
       "\n",
       "    .dataframe tbody tr th {\n",
       "        vertical-align: top;\n",
       "    }\n",
       "\n",
       "    .dataframe thead th {\n",
       "        text-align: right;\n",
       "    }\n",
       "</style>\n",
       "<table border=\"1\" class=\"dataframe\">\n",
       "  <thead>\n",
       "    <tr style=\"text-align: right;\">\n",
       "      <th></th>\n",
       "      <th>nSent</th>\n",
       "      <th>nReceiv</th>\n",
       "      <th>PER</th>\n",
       "      <th>PLR</th>\n",
       "      <th>PDR</th>\n",
       "    </tr>\n",
       "  </thead>\n",
       "  <tbody>\n",
       "    <tr>\n",
       "      <th>2</th>\n",
       "      <td>131640</td>\n",
       "      <td>131549</td>\n",
       "      <td>0.000692</td>\n",
       "      <td>0.000691</td>\n",
       "      <td>0.999309</td>\n",
       "    </tr>\n",
       "    <tr>\n",
       "      <th>3</th>\n",
       "      <td>131640</td>\n",
       "      <td>131640</td>\n",
       "      <td>0.000000</td>\n",
       "      <td>0.000000</td>\n",
       "      <td>1.000000</td>\n",
       "    </tr>\n",
       "    <tr>\n",
       "      <th>4</th>\n",
       "      <td>131640</td>\n",
       "      <td>131640</td>\n",
       "      <td>0.000000</td>\n",
       "      <td>0.000000</td>\n",
       "      <td>1.000000</td>\n",
       "    </tr>\n",
       "    <tr>\n",
       "      <th>5</th>\n",
       "      <td>131640</td>\n",
       "      <td>131538</td>\n",
       "      <td>0.000775</td>\n",
       "      <td>0.000775</td>\n",
       "      <td>0.999225</td>\n",
       "    </tr>\n",
       "  </tbody>\n",
       "</table>\n",
       "</div>"
      ],
      "text/plain": [
       "    nSent  nReceiv       PER       PLR       PDR\n",
       "2  131640   131549  0.000692  0.000691  0.999309\n",
       "3  131640   131640  0.000000  0.000000  1.000000\n",
       "4  131640   131640  0.000000  0.000000  1.000000\n",
       "5  131640   131538  0.000775  0.000775  0.999225"
      ]
     },
     "execution_count": 102,
     "metadata": {},
     "output_type": "execute_result"
    }
   ],
   "source": [
    "# REMOVE OUTLIERS\n",
    "net_2_df = net_2_df.iloc[1:]\n",
    "net_2_df.head()"
   ]
  },
  {
   "cell_type": "code",
   "execution_count": 103,
   "metadata": {},
   "outputs": [
    {
     "data": {
      "image/png": "[encoded data removed]",
      "text/plain": [
       "<Figure size 432x288 with 1 Axes>"
      ]
     },
     "metadata": {
      "needs_background": "light"
     },
     "output_type": "display_data"
    }
   ],
   "source": [
    "# labels = ['11 bytes', '51 bytes', '222 bytes']\n",
    "# labels = ['Cenario I', 'Cenario II'] \n",
    "labels = ['I-log', 'II-log', 'I-O', 'II-O'] \n",
    "\n",
    "delay = [delay_0_df['average_delay_s'].mean(), delay_1_df['average_delay_s'].mean(),\n",
    "         delay_2_df['average_delay_s'].mean(), delay_3_df['average_delay_s'].mean()]\n",
    "\n",
    "x = np.arange(len(labels))  # the label locations\n",
    "width = 0.5  # the width of the bars\n",
    "\n",
    "fig, ax = plt.subplots()\n",
    "rects1 = ax.bar(x, delay, width, label='Average Delay (ms)', color='green')\n",
    "\n",
    "\n",
    "# Add some text for labels, title and custom x-axis tick labels, etc.\n",
    "ax.set_ylabel('Average Delay (ms)')\n",
    "ax.set_title('Average Delay (ms) - SF7, 222 nodes', fontweight='bold', fontsize=12, y=1.05)\n",
    "ax.set_xticks(x)\n",
    "ax.set_xticklabels(labels)\n",
    "ax.set_ylim([0, max(delay) + max(delay)/3]) \n",
    "ax.legend()\n",
    "\n",
    "\n",
    "def autolabel(rects):\n",
    "    \"\"\"Attach a text label above each bar in *rects*, displaying its height.\"\"\"\n",
    "    for rect in rects:\n",
    "        height = rect.get_height()\n",
    "        ax.annotate('{}'.format(round(height,4)),\n",
    "                    xy=(rect.get_x() + rect.get_width() / 2, height),\n",
    "                    xytext=(0, 3),  # 3 points vertical offset\n",
    "                    textcoords=\"offset points\",\n",
    "                    ha='center', va='bottom')\n",
    "\n",
    "\n",
    "autolabel(rects1)\n",
    "\n",
    "\n",
    "fig.tight_layout()\n",
    "\n",
    "plt.show()\n",
    "fig.savefig('delay_performance.png',bbox_inches='tight')"
   ]
  },
  {
   "cell_type": "code",
   "execution_count": null,
   "metadata": {},
   "outputs": [],
   "source": []
  },
  {
   "cell_type": "code",
   "execution_count": null,
   "metadata": {},
   "outputs": [],
   "source": []
  },
  {
   "cell_type": "code",
   "execution_count": 104,
   "metadata": {},
   "outputs": [
    {
     "name": "stdout",
     "output_type": "stream",
     "text": [
      "\n",
      "SHAPE: (720, 2)\n"
     ]
    },
    {
     "data": {
      "text/html": [
       "<div>\n",
       "<style scoped>\n",
       "    .dataframe tbody tr th:only-of-type {\n",
       "        vertical-align: middle;\n",
       "    }\n",
       "\n",
       "    .dataframe tbody tr th {\n",
       "        vertical-align: top;\n",
       "    }\n",
       "\n",
       "    .dataframe thead th {\n",
       "        text-align: right;\n",
       "    }\n",
       "</style>\n",
       "<table border=\"1\" class=\"dataframe\">\n",
       "  <thead>\n",
       "    <tr style=\"text-align: right;\">\n",
       "      <th></th>\n",
       "      <th>time</th>\n",
       "      <th>energyRemaining</th>\n",
       "    </tr>\n",
       "  </thead>\n",
       "  <tbody>\n",
       "    <tr>\n",
       "      <th>0</th>\n",
       "      <td>0.0</td>\n",
       "      <td>10000.00</td>\n",
       "    </tr>\n",
       "    <tr>\n",
       "      <th>1</th>\n",
       "      <td>3600.0</td>\n",
       "      <td>9999.98</td>\n",
       "    </tr>\n",
       "    <tr>\n",
       "      <th>2</th>\n",
       "      <td>7200.0</td>\n",
       "      <td>9999.96</td>\n",
       "    </tr>\n",
       "    <tr>\n",
       "      <th>3</th>\n",
       "      <td>10800.0</td>\n",
       "      <td>9999.95</td>\n",
       "    </tr>\n",
       "    <tr>\n",
       "      <th>4</th>\n",
       "      <td>14400.0</td>\n",
       "      <td>9999.93</td>\n",
       "    </tr>\n",
       "  </tbody>\n",
       "</table>\n",
       "</div>"
      ],
      "text/plain": [
       "      time  energyRemaining\n",
       "0      0.0         10000.00\n",
       "1   3600.0          9999.98\n",
       "2   7200.0          9999.96\n",
       "3  10800.0          9999.95\n",
       "4  14400.0          9999.93"
      ]
     },
     "execution_count": 104,
     "metadata": {},
     "output_type": "execute_result"
    }
   ],
   "source": [
    "# ----- Open Datasets - Consumo\n",
    "\n",
    "file = \"energy_results.txt\"\n",
    "path_cenario_1 = current_path + \"/simulations/04-log/\" + file\n",
    "path_cenario_2 = current_path + \"/simulations/05-log/\" + file\n",
    "path_cenario_3 = current_path + \"/simulations/04/\" + file\n",
    "path_cenario_4 = current_path + \"/simulations/05/\" + file\n",
    "\n",
    "energy_df_1 = pd.read_csv(path_cenario_1, header=None) \n",
    "energy_df_1.columns = [\"time\", \"energyRemaining\"]\n",
    "\n",
    "energy_df_2 = pd.read_csv(path_cenario_2, header=None) \n",
    "energy_df_2.columns = [\"time\", \"energyRemaining\"]\n",
    "\n",
    "energy_df_3 = pd.read_csv(path_cenario_3, header=None) \n",
    "energy_df_3.columns = [\"time\", \"energyRemaining\"]\n",
    "\n",
    "energy_df_4 = pd.read_csv(path_cenario_4, header=None) \n",
    "energy_df_4.columns = [\"time\", \"energyRemaining\"]\n",
    "\n",
    "energy_df_1 = energy_df_1.iloc[0:720]\n",
    "energy_df_2 = energy_df_2.iloc[0:720]\n",
    "energy_df_3 = energy_df_3.iloc[0:720]\n",
    "energy_df_4 = energy_df_4.iloc[0:720]\n",
    "print(\"\\nSHAPE:\", energy_df_1.shape)\n",
    "energy_df_1.head()"
   ]
  },
  {
   "cell_type": "code",
   "execution_count": 105,
   "metadata": {},
   "outputs": [
    {
     "name": "stdout",
     "output_type": "stream",
     "text": [
      "\n",
      "SHAPE: (720, 3)\n",
      "\n",
      "SHAPE: (720, 4)\n",
      "\n",
      "SHAPE: (720, 3)\n",
      "\n",
      "SHAPE: (720, 4)\n",
      "\n",
      "SHAPE: (720, 3)\n",
      "\n",
      "SHAPE: (720, 4)\n",
      "\n",
      "SHAPE: (720, 3)\n",
      "\n",
      "SHAPE: (720, 4)\n"
     ]
    },
    {
     "data": {
      "text/html": [
       "<div>\n",
       "<style scoped>\n",
       "    .dataframe tbody tr th:only-of-type {\n",
       "        vertical-align: middle;\n",
       "    }\n",
       "\n",
       "    .dataframe tbody tr th {\n",
       "        vertical-align: top;\n",
       "    }\n",
       "\n",
       "    .dataframe thead th {\n",
       "        text-align: right;\n",
       "    }\n",
       "</style>\n",
       "<table border=\"1\" class=\"dataframe\">\n",
       "  <thead>\n",
       "    <tr style=\"text-align: right;\">\n",
       "      <th></th>\n",
       "      <th>time</th>\n",
       "      <th>energyRemaining</th>\n",
       "      <th>time_h</th>\n",
       "      <th>time_mes</th>\n",
       "      <th>energyRemainingPercentual</th>\n",
       "    </tr>\n",
       "  </thead>\n",
       "  <tbody>\n",
       "    <tr>\n",
       "      <th>0</th>\n",
       "      <td>0.0</td>\n",
       "      <td>10000.00</td>\n",
       "      <td>0.0</td>\n",
       "      <td>0.000000</td>\n",
       "      <td>100.0000</td>\n",
       "    </tr>\n",
       "    <tr>\n",
       "      <th>1</th>\n",
       "      <td>3600.0</td>\n",
       "      <td>9999.97</td>\n",
       "      <td>1.0</td>\n",
       "      <td>0.001370</td>\n",
       "      <td>99.9997</td>\n",
       "    </tr>\n",
       "    <tr>\n",
       "      <th>2</th>\n",
       "      <td>7200.0</td>\n",
       "      <td>9999.95</td>\n",
       "      <td>2.0</td>\n",
       "      <td>0.002740</td>\n",
       "      <td>99.9995</td>\n",
       "    </tr>\n",
       "    <tr>\n",
       "      <th>3</th>\n",
       "      <td>10800.0</td>\n",
       "      <td>9999.92</td>\n",
       "      <td>3.0</td>\n",
       "      <td>0.004110</td>\n",
       "      <td>99.9992</td>\n",
       "    </tr>\n",
       "    <tr>\n",
       "      <th>4</th>\n",
       "      <td>14400.0</td>\n",
       "      <td>9999.89</td>\n",
       "      <td>4.0</td>\n",
       "      <td>0.005479</td>\n",
       "      <td>99.9989</td>\n",
       "    </tr>\n",
       "  </tbody>\n",
       "</table>\n",
       "</div>"
      ],
      "text/plain": [
       "      time  energyRemaining  time_h  time_mes  energyRemainingPercentual\n",
       "0      0.0         10000.00     0.0  0.000000                   100.0000\n",
       "1   3600.0          9999.97     1.0  0.001370                    99.9997\n",
       "2   7200.0          9999.95     2.0  0.002740                    99.9995\n",
       "3  10800.0          9999.92     3.0  0.004110                    99.9992\n",
       "4  14400.0          9999.89     4.0  0.005479                    99.9989"
      ]
     },
     "execution_count": 105,
     "metadata": {},
     "output_type": "execute_result"
    }
   ],
   "source": [
    "# tempo para hora\n",
    "energy_df_1['time_h'] = energy_df_1['time'] / 3600.0\n",
    "print(\"\\nSHAPE:\", energy_df_1.shape)\n",
    "\n",
    "# hora para mês\n",
    "energy_df_1['time_mes'] = energy_df_1['time_h'] / 730\n",
    "print(\"\\nSHAPE:\", energy_df_1.shape)\n",
    "\n",
    "# Joules p 100%\n",
    "total = 10000.0\n",
    "energy_df_1['energyRemainingPercentual'] = (energy_df_1['energyRemaining'] / total) *100\n",
    "energy_df_1.head()\n",
    "\n",
    "# tempo para hora\n",
    "energy_df_2['time_h'] = energy_df_2['time'] / 3600.0\n",
    "print(\"\\nSHAPE:\", energy_df_2.shape)\n",
    "\n",
    "# hora para mês\n",
    "energy_df_2['time_mes'] = energy_df_2['time_h'] / 730\n",
    "print(\"\\nSHAPE:\", energy_df_2.shape)\n",
    "\n",
    "# Joules p 100%\n",
    "total = 10000.0\n",
    "energy_df_2['energyRemainingPercentual'] = (energy_df_2['energyRemaining'] / total) *100\n",
    "energy_df_2.head()\n",
    "\n",
    "# tempo para hora\n",
    "energy_df_3['time_h'] = energy_df_3['time'] / 3600.0\n",
    "print(\"\\nSHAPE:\", energy_df_3.shape)\n",
    "\n",
    "# hora para mês\n",
    "energy_df_3['time_mes'] = energy_df_3['time_h'] / 730\n",
    "print(\"\\nSHAPE:\", energy_df_3.shape)\n",
    "\n",
    "# Joules p 100%\n",
    "total = 10000.0\n",
    "energy_df_3['energyRemainingPercentual'] = (energy_df_3['energyRemaining'] / total) *100\n",
    "energy_df_3.head()\n",
    "\n",
    "# tempo para hora\n",
    "energy_df_4['time_h'] = energy_df_4['time'] / 3600.0\n",
    "print(\"\\nSHAPE:\", energy_df_4.shape)\n",
    "\n",
    "# hora para mês\n",
    "energy_df_4['time_mes'] = energy_df_4['time_h'] / 730\n",
    "print(\"\\nSHAPE:\", energy_df_4.shape)\n",
    "\n",
    "# Joules p 100%\n",
    "total = 10000.0\n",
    "energy_df_4['energyRemainingPercentual'] = (energy_df_4['energyRemaining'] / total) *100\n",
    "energy_df_4.head()"
   ]
  },
  {
   "cell_type": "code",
   "execution_count": 108,
   "metadata": {},
   "outputs": [],
   "source": [
    "#REMOVE OUTLIERS\n",
    "energy_df_2 = energy_df_2.iloc[:720]\n",
    "# energy_df_2.head(50)"
   ]
  },
  {
   "cell_type": "code",
   "execution_count": 110,
   "metadata": {},
   "outputs": [
    {
     "data": {
      "image/png": "[encoded data removed]",
      "text/plain": [
       "<Figure size 720x360 with 1 Axes>"
      ]
     },
     "metadata": {
      "needs_background": "light"
     },
     "output_type": "display_data"
    }
   ],
   "source": [
    "# graph measures x time (h)\n",
    "\n",
    "fig, ax = plt.subplots(figsize=(10,5))\n",
    "# plt.figure(figsize=(10,5))\n",
    "ax = plt.gca()\n",
    "\n",
    "energy_df_1.plot(kind='line',x=\"time_mes\", y='energyRemainingPercentual',label='Cenario I-log', color = 'green', ax=ax)\n",
    "energy_df_2.plot(kind='line',x=\"time_mes\", y='energyRemainingPercentual',label='Cenario II-log', color = 'green', ax=ax)\n",
    "energy_df_3.plot(kind='line',x=\"time_mes\", y='energyRemainingPercentual',label='Cenario I-okumura', color = 'red', ax=ax)\n",
    "energy_df_4.plot(kind='line',x=\"time_mes\", y='energyRemainingPercentual',label='Cenario II-okumura', color = 'red', ax=ax)\n",
    "\n",
    "\n",
    "plt.xlabel('Período de Teste (mês)', fontweight='bold', fontsize=14,labelpad=5)\n",
    "plt.ylabel('Energia (100%)', fontweight='bold', fontsize=14, labelpad=5)\n",
    "\n",
    "ttl = ax.title\n",
    "ttl.set_position([.5, 1.3])\n",
    "\n",
    "plt.title('Energia Remanescente x Tempo (mês)',fontweight='bold',fontsize=14)\n",
    "\n",
    "from matplotlib.ticker import FormatStrFormatter\n",
    "ax.yaxis.set_major_formatter(FormatStrFormatter('%.2f'))\n",
    "\n",
    "plt.show()\n",
    "fig.savefig('energy_performance.png',bbox_inches='tight')"
   ]
  }
 ],
 "metadata": {
  "kernelspec": {
   "display_name": "Python 3",
   "language": "python",
   "name": "python3"
  },
  "language_info": {
   "codemirror_mode": {
    "name": "ipython",
    "version": 3
   },
   "file_extension": ".py",
   "mimetype": "text/x-python",
   "name": "python",
   "nbconvert_exporter": "python",
   "pygments_lexer": "ipython3",
   "version": "3.8.11"
  }
 },
 "nbformat": 4,
 "nbformat_minor": 4
}
