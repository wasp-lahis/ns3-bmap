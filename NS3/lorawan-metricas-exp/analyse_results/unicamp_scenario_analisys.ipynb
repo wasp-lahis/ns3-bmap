{
 "cells": [
  {
   "cell_type": "code",
   "execution_count": 1,
   "metadata": {},
   "outputs": [],
   "source": [
    "# ----- LIBS\n",
    "\n",
    "# systems access\n",
    "import os \n",
    "\n",
    "# data analysis\n",
    "import numpy as np\n",
    "import pandas as pd\n",
    "\n",
    "# charts\n",
    "import matplotlib.pyplot as plt\n",
    "import matplotlib.patches as patches\n",
    "import matplotlib.lines as mlines\n",
    "\n",
    "# geoprocessing\n",
    "import folium\n",
    "from folium import plugins\n",
    "import geopandas as gpd\n",
    "from shapely.geometry import Point"
   ]
  },
  {
   "cell_type": "markdown",
   "metadata": {},
   "source": [
    "# Roteiro\n",
    "\n",
    "- Análise de simulação\n",
    "    - Posicionamento e SF\n",
    "    - Métricas da camada PHY\n",
    "    - Cobertura/Alcance Lora\n",
    "    - Métricas de performance da rede completa (Mac Layer)\n",
    "    - Métricas de Consumo\\\n",
    "    \n",
    "    \n",
    "- Análise entre simulações\n",
    "    - variação de Payload\n",
    "    - variação de appPeriod\n",
    "    - variação de nº de nós"
   ]
  },
  {
   "cell_type": "markdown",
   "metadata": {},
   "source": [
    "# Análise de simulação"
   ]
  },
  {
   "cell_type": "code",
   "execution_count": 42,
   "metadata": {},
   "outputs": [],
   "source": [
    "current_path = os.getcwd()\n",
    "current_path = '/home/wasp/Desktop/Mestrado/ns3-bmap/NS3/lorawan-metricas-exp/'"
   ]
  },
  {
   "cell_type": "code",
   "execution_count": 93,
   "metadata": {},
   "outputs": [],
   "source": [
    "# SET NUMBER OF SIMULATION REPEAT\n",
    "NUM_SIM_REPEAT = 10\n",
    "\n",
    "# SET NUMBER OF NODES\n",
    "NUM_NODES = 222\n",
    "\n",
    "# SET simulation_folder path and simulation_id\n",
    "simulation_folder = current_path + \"/simulations\"\n",
    "simulation_id = \"/05-log/\"\n",
    "\n",
    "# SET FILES TO BE ANALYSE\n",
    "sf_distribution_on_network = \"network_position.txt\"\n",
    "phy_layer_packet_outcome = \"phy_results.txt\"\n",
    "phy_layer_rssi_coverage = \"rssi_results.txt\"\n",
    "mac_layer_performance_metrics = \"net_results.txt\"\n",
    "mac_layer_power_consumption = \"energy_results.txt\""
   ]
  },
  {
   "cell_type": "markdown",
   "metadata": {},
   "source": [
    "## Posicionamento x SF"
   ]
  },
  {
   "cell_type": "code",
   "execution_count": 5,
   "metadata": {},
   "outputs": [
    {
     "name": "stdout",
     "output_type": "stream",
     "text": [
      "\n",
      "SHAPE: (222, 10)\n"
     ]
    },
    {
     "data": {
      "text/html": [
       "<div>\n",
       "<style scoped>\n",
       "    .dataframe tbody tr th:only-of-type {\n",
       "        vertical-align: middle;\n",
       "    }\n",
       "\n",
       "    .dataframe tbody tr th {\n",
       "        vertical-align: top;\n",
       "    }\n",
       "\n",
       "    .dataframe thead th {\n",
       "        text-align: right;\n",
       "    }\n",
       "</style>\n",
       "<table border=\"1\" class=\"dataframe\">\n",
       "  <thead>\n",
       "    <tr style=\"text-align: right;\">\n",
       "      <th></th>\n",
       "      <th>nodeId</th>\n",
       "      <th>posX</th>\n",
       "      <th>posY</th>\n",
       "      <th>posZ</th>\n",
       "      <th>sf</th>\n",
       "      <th>gwId</th>\n",
       "      <th>gw_posX</th>\n",
       "      <th>gw_posY</th>\n",
       "      <th>gw_posZ</th>\n",
       "      <th>distance</th>\n",
       "    </tr>\n",
       "  </thead>\n",
       "  <tbody>\n",
       "    <tr>\n",
       "      <th>0</th>\n",
       "      <td>0</td>\n",
       "      <td>1527.410</td>\n",
       "      <td>2180.210</td>\n",
       "      <td>1.5</td>\n",
       "      <td>7</td>\n",
       "      <td>222</td>\n",
       "      <td>1694.97</td>\n",
       "      <td>2141.47</td>\n",
       "      <td>44.9188</td>\n",
       "      <td>177.386</td>\n",
       "    </tr>\n",
       "    <tr>\n",
       "      <th>1</th>\n",
       "      <td>1</td>\n",
       "      <td>297.312</td>\n",
       "      <td>1965.810</td>\n",
       "      <td>1.5</td>\n",
       "      <td>7</td>\n",
       "      <td>222</td>\n",
       "      <td>1694.97</td>\n",
       "      <td>2141.47</td>\n",
       "      <td>44.9188</td>\n",
       "      <td>1409.330</td>\n",
       "    </tr>\n",
       "    <tr>\n",
       "      <th>2</th>\n",
       "      <td>2</td>\n",
       "      <td>1535.550</td>\n",
       "      <td>1646.180</td>\n",
       "      <td>1.5</td>\n",
       "      <td>7</td>\n",
       "      <td>222</td>\n",
       "      <td>1694.97</td>\n",
       "      <td>2141.47</td>\n",
       "      <td>44.9188</td>\n",
       "      <td>522.123</td>\n",
       "    </tr>\n",
       "    <tr>\n",
       "      <th>3</th>\n",
       "      <td>3</td>\n",
       "      <td>1149.490</td>\n",
       "      <td>1831.090</td>\n",
       "      <td>1.5</td>\n",
       "      <td>7</td>\n",
       "      <td>222</td>\n",
       "      <td>1694.97</td>\n",
       "      <td>2141.47</td>\n",
       "      <td>44.9188</td>\n",
       "      <td>629.109</td>\n",
       "    </tr>\n",
       "    <tr>\n",
       "      <th>4</th>\n",
       "      <td>4</td>\n",
       "      <td>1186.800</td>\n",
       "      <td>667.866</td>\n",
       "      <td>1.5</td>\n",
       "      <td>7</td>\n",
       "      <td>222</td>\n",
       "      <td>1694.97</td>\n",
       "      <td>2141.47</td>\n",
       "      <td>44.9188</td>\n",
       "      <td>1559.370</td>\n",
       "    </tr>\n",
       "  </tbody>\n",
       "</table>\n",
       "</div>"
      ],
      "text/plain": [
       "   nodeId      posX      posY  posZ  sf  gwId  gw_posX  gw_posY  gw_posZ  \\\n",
       "0       0  1527.410  2180.210   1.5   7   222  1694.97  2141.47  44.9188   \n",
       "1       1   297.312  1965.810   1.5   7   222  1694.97  2141.47  44.9188   \n",
       "2       2  1535.550  1646.180   1.5   7   222  1694.97  2141.47  44.9188   \n",
       "3       3  1149.490  1831.090   1.5   7   222  1694.97  2141.47  44.9188   \n",
       "4       4  1186.800   667.866   1.5   7   222  1694.97  2141.47  44.9188   \n",
       "\n",
       "   distance  \n",
       "0   177.386  \n",
       "1  1409.330  \n",
       "2   522.123  \n",
       "3   629.109  \n",
       "4  1559.370  "
      ]
     },
     "execution_count": 5,
     "metadata": {},
     "output_type": "execute_result"
    }
   ],
   "source": [
    "# ----- DATASET\n",
    "file_to_be_analysed = sf_distribution_on_network\n",
    "path_to_simulation = simulation_folder + simulation_id + file_to_be_analysed\n",
    "\n",
    "net_position_df = pd.read_csv(path_to_simulation, header=None) \n",
    "net_position_df.columns = [\"nodeId\", \"posX\", \"posY\", \"posZ\",\n",
    "                           \"sf\", \"gwId\", \"gw_posX\", \"gw_posY\", \"gw_posZ\", \"distance\"]\n",
    "\n",
    "print(\"\\nSHAPE:\", net_position_df.shape)\n",
    "net_position_df.head()"
   ]
  },
  {
   "cell_type": "code",
   "execution_count": 5,
   "metadata": {},
   "outputs": [],
   "source": [
    "# ----- PLOT SIZE SETTINGS\n",
    "\n",
    "# chart bounds\n",
    "xMin_bound, xMax_bound = -500, 2000\n",
    "yMin_bound, yMax_bound = 0, 2500 \n",
    "\n",
    "# chart figsize\n",
    "x_figsize, y_figsize = 5, 5\n",
    "\n",
    "\n",
    "# ----- LEGEND SETTINGS PER PLOT\n",
    "def set_plots_legends():\n",
    "   \n",
    "    # legend list settings\n",
    "    plots_legends = []\n",
    "       \n",
    "    # ED points\n",
    "    colors = ['y','orange', 'green', 'blue', 'purple', 'black']\n",
    "    for sf in range(len(colors)):\n",
    "        scatter_lgd = mlines.Line2D([], [], color = 'white', marker = 'o',  markeredgecolor = colors[sf],\n",
    "                                  markeredgewidth = 0.5, markerfacecolor = colors[sf], markersize = 7, \n",
    "                                  label = 'SF' + str(sf + 7))\n",
    "        plots_legends.append(scatter_lgd)\n",
    "    \n",
    "    \n",
    "    # GW points\n",
    "    scatter_lgd = mlines.Line2D([], [], color = 'white', marker = (5,2), markeredgecolor = 'red',\n",
    "                                  markeredgewidth = 0.5, markerfacecolor = 'red', markersize = 15, \n",
    "                                  label = 'GW')\n",
    "    plots_legends.append(scatter_lgd)\n",
    "    \n",
    "    return plots_legends"
   ]
  },
  {
   "cell_type": "code",
   "execution_count": 6,
   "metadata": {},
   "outputs": [],
   "source": [
    "# ----- EDs LISTS per SF\n",
    "\n",
    "# to initialize multiple lists\n",
    "eds_x_sf7, eds_y_sf7, eds_x_sf8, eds_y_sf8 = ([] for i in range(4))\n",
    "eds_x_sf9, eds_y_sf9, eds_x_sf10, eds_y_sf10 = ([] for i in range(4))\n",
    "eds_x_sf11, eds_y_sf11, eds_x_sf12, eds_y_sf12 = ([] for i in range(4))\n",
    "\n",
    "\n",
    "for i in range (len(net_position_df)):\n",
    "    if net_position_df.iloc[i].sf == 7.0:\n",
    "        eds_x_sf7.append(net_position_df.iloc[i].posX)\n",
    "        eds_y_sf7.append(net_position_df.iloc[i].posY)\n",
    "    if net_position_df.iloc[i].sf == 8.0:\n",
    "        eds_x_sf8.append(net_position_df.iloc[i].posX)\n",
    "        eds_y_sf8.append(net_position_df.iloc[i].posY)\n",
    "    if net_position_df.iloc[i].sf == 9.0:\n",
    "        eds_x_sf9.append(net_position_df.iloc[i].posX)\n",
    "        eds_y_sf9.append(net_position_df.iloc[i].posY)\n",
    "    if net_position_df.iloc[i].sf == 10.0:\n",
    "        eds_x_sf10.append(net_position_df.iloc[i].posX)\n",
    "        eds_y_sf10.append(net_position_df.iloc[i].posY)\n",
    "    if net_position_df.iloc[i].sf == 11.0:\n",
    "        eds_x_sf11.append(net_position_df.iloc[i].posX)\n",
    "        eds_y_sf11.append(net_position_df.iloc[i].posY)\n",
    "    if net_position_df.iloc[i].sf == 12.0:\n",
    "        eds_x_sf12.append(net_position_df.iloc[i].posX)\n",
    "        eds_y_sf12.append(net_position_df.iloc[i].posY)"
   ]
  },
  {
   "cell_type": "code",
   "execution_count": 7,
   "metadata": {},
   "outputs": [
    {
     "data": {
      "image/png": "[encoded data removed]",
      "text/plain": [
       "<Figure size 360x360 with 1 Axes>"
      ]
     },
     "metadata": {
      "needs_background": "light"
     },
     "output_type": "display_data"
    }
   ],
   "source": [
    "# ----- PLOT ED E GW\n",
    "\n",
    "# plot initialize\n",
    "fig, ax = plt.subplots(figsize=(x_figsize, y_figsize))\n",
    "\n",
    "# draw ED posxy per SF \n",
    "ax.scatter(eds_x_sf7, eds_y_sf7, color='y', label ='SF7')\n",
    "ax.scatter(eds_x_sf8, eds_y_sf8, color='orange', label ='SF8')\n",
    "ax.scatter(eds_x_sf9, eds_y_sf9, color='green', label ='SF9')\n",
    "ax.scatter(eds_x_sf10, eds_y_sf10, color='blue', label ='SF10')\n",
    "ax.scatter(eds_x_sf11, eds_y_sf11, color='purple', label ='SF11')\n",
    "ax.scatter(eds_x_sf12, eds_y_sf12, color='black', label ='SF10')\n",
    "\n",
    "# draw GW\n",
    "ax.scatter(net_position_df.iloc[0].gw_posX, net_position_df.iloc[0].gw_posY, color='red', label ='GW', marker = (5,2), s = 200)\n",
    "        \n",
    "# legend settings\n",
    "legends_list = set_plots_legends()\n",
    "ax.legend(handles=[line for line in legends_list], loc=\"upper right\", bbox_to_anchor=(1.4, 1.01), prop={'size': 14})\n",
    "\n",
    "# chart bounds\n",
    "ax.set(xlim=(xMin_bound, xMax_bound), ylim = (yMin_bound, yMax_bound))\n",
    "\n",
    "# Title\n",
    "ax.set_title('Distribuição randômica de EDs em torno de GW.', fontweight='bold', fontsize=14, y=1.1)\n",
    "plt.show()\n",
    "fig.savefig('dist_rand_ed_gw.png',bbox_inches='tight')"
   ]
  },
  {
   "cell_type": "code",
   "execution_count": null,
   "metadata": {},
   "outputs": [],
   "source": []
  },
  {
   "cell_type": "code",
   "execution_count": null,
   "metadata": {},
   "outputs": [],
   "source": []
  },
  {
   "cell_type": "markdown",
   "metadata": {},
   "source": [
    "## Métricas da camada PHY"
   ]
  },
  {
   "cell_type": "code",
   "execution_count": 8,
   "metadata": {},
   "outputs": [
    {
     "name": "stdout",
     "output_type": "stream",
     "text": [
      "\n",
      "SHAPE: (10, 6)\n"
     ]
    },
    {
     "data": {
      "text/html": [
       "<div>\n",
       "<style scoped>\n",
       "    .dataframe tbody tr th:only-of-type {\n",
       "        vertical-align: middle;\n",
       "    }\n",
       "\n",
       "    .dataframe tbody tr th {\n",
       "        vertical-align: top;\n",
       "    }\n",
       "\n",
       "    .dataframe thead th {\n",
       "        text-align: right;\n",
       "    }\n",
       "</style>\n",
       "<table border=\"1\" class=\"dataframe\">\n",
       "  <thead>\n",
       "    <tr style=\"text-align: right;\">\n",
       "      <th></th>\n",
       "      <th>gwID</th>\n",
       "      <th>received</th>\n",
       "      <th>interfered</th>\n",
       "      <th>noMoreReceivers</th>\n",
       "      <th>underSensitivity</th>\n",
       "      <th>lost</th>\n",
       "    </tr>\n",
       "  </thead>\n",
       "  <tbody>\n",
       "    <tr>\n",
       "      <th>0</th>\n",
       "      <td>0</td>\n",
       "      <td>4388</td>\n",
       "      <td>0</td>\n",
       "      <td>0</td>\n",
       "      <td>0</td>\n",
       "      <td>0</td>\n",
       "    </tr>\n",
       "    <tr>\n",
       "      <th>1</th>\n",
       "      <td>0</td>\n",
       "      <td>131629</td>\n",
       "      <td>11</td>\n",
       "      <td>0</td>\n",
       "      <td>0</td>\n",
       "      <td>0</td>\n",
       "    </tr>\n",
       "    <tr>\n",
       "      <th>2</th>\n",
       "      <td>0</td>\n",
       "      <td>131549</td>\n",
       "      <td>91</td>\n",
       "      <td>0</td>\n",
       "      <td>0</td>\n",
       "      <td>0</td>\n",
       "    </tr>\n",
       "    <tr>\n",
       "      <th>3</th>\n",
       "      <td>0</td>\n",
       "      <td>131640</td>\n",
       "      <td>0</td>\n",
       "      <td>0</td>\n",
       "      <td>0</td>\n",
       "      <td>0</td>\n",
       "    </tr>\n",
       "    <tr>\n",
       "      <th>4</th>\n",
       "      <td>0</td>\n",
       "      <td>131640</td>\n",
       "      <td>0</td>\n",
       "      <td>0</td>\n",
       "      <td>0</td>\n",
       "      <td>0</td>\n",
       "    </tr>\n",
       "    <tr>\n",
       "      <th>5</th>\n",
       "      <td>0</td>\n",
       "      <td>131538</td>\n",
       "      <td>102</td>\n",
       "      <td>0</td>\n",
       "      <td>0</td>\n",
       "      <td>0</td>\n",
       "    </tr>\n",
       "    <tr>\n",
       "      <th>6</th>\n",
       "      <td>0</td>\n",
       "      <td>131553</td>\n",
       "      <td>87</td>\n",
       "      <td>0</td>\n",
       "      <td>0</td>\n",
       "      <td>0</td>\n",
       "    </tr>\n",
       "    <tr>\n",
       "      <th>7</th>\n",
       "      <td>0</td>\n",
       "      <td>131640</td>\n",
       "      <td>0</td>\n",
       "      <td>0</td>\n",
       "      <td>0</td>\n",
       "      <td>0</td>\n",
       "    </tr>\n",
       "    <tr>\n",
       "      <th>8</th>\n",
       "      <td>0</td>\n",
       "      <td>131426</td>\n",
       "      <td>214</td>\n",
       "      <td>0</td>\n",
       "      <td>0</td>\n",
       "      <td>0</td>\n",
       "    </tr>\n",
       "    <tr>\n",
       "      <th>9</th>\n",
       "      <td>0</td>\n",
       "      <td>131640</td>\n",
       "      <td>0</td>\n",
       "      <td>0</td>\n",
       "      <td>0</td>\n",
       "      <td>0</td>\n",
       "    </tr>\n",
       "  </tbody>\n",
       "</table>\n",
       "</div>"
      ],
      "text/plain": [
       "   gwID  received  interfered  noMoreReceivers  underSensitivity  lost\n",
       "0     0      4388           0                0                 0     0\n",
       "1     0    131629          11                0                 0     0\n",
       "2     0    131549          91                0                 0     0\n",
       "3     0    131640           0                0                 0     0\n",
       "4     0    131640           0                0                 0     0\n",
       "5     0    131538         102                0                 0     0\n",
       "6     0    131553          87                0                 0     0\n",
       "7     0    131640           0                0                 0     0\n",
       "8     0    131426         214                0                 0     0\n",
       "9     0    131640           0                0                 0     0"
      ]
     },
     "execution_count": 8,
     "metadata": {},
     "output_type": "execute_result"
    }
   ],
   "source": [
    "# ----- DATASET\n",
    "file_to_be_analysed = phy_layer_packet_outcome\n",
    "path_to_simulation = simulation_folder + simulation_id + file_to_be_analysed\n",
    "\n",
    "phy_df = pd.read_csv(path_to_simulation, header=None) \n",
    "phy_df.columns = [\"gwID\", \"received\", \"interfered\", \"noMoreReceivers\", \"underSensitivity\", \"lost\"]\n",
    "\n",
    "print(\"\\nSHAPE:\", phy_df.shape)\n",
    "phy_df.head(10)"
   ]
  },
  {
   "cell_type": "code",
   "execution_count": 9,
   "metadata": {},
   "outputs": [
    {
     "name": "stdout",
     "output_type": "stream",
     "text": [
      "PHY LAYER - Packet Outcome METRICS:\n",
      "\n",
      "received: 118864.3\n",
      "interfered: 50.5\n",
      "noMoreReceivers: 0.0\n",
      "underSensitivity: 0.0\n",
      "lost: 0.0\n"
     ]
    }
   ],
   "source": [
    "# Valores médios de cada coluna\n",
    "print(\"PHY LAYER - Packet Outcome METRICS:\\n\")\n",
    "print(\"received:\", phy_df['received'].mean())\n",
    "print(\"interfered:\", phy_df['interfered'].mean())\n",
    "print(\"noMoreReceivers:\", phy_df['noMoreReceivers'].mean())\n",
    "print(\"underSensitivity:\", phy_df['underSensitivity'].mean())\n",
    "print(\"lost:\", phy_df['lost'].mean())"
   ]
  },
  {
   "cell_type": "code",
   "execution_count": null,
   "metadata": {},
   "outputs": [],
   "source": []
  },
  {
   "cell_type": "code",
   "execution_count": null,
   "metadata": {},
   "outputs": [],
   "source": []
  },
  {
   "cell_type": "markdown",
   "metadata": {},
   "source": [
    "## Cobertura/Alcance LoRa"
   ]
  },
  {
   "cell_type": "code",
   "execution_count": 94,
   "metadata": {},
   "outputs": [
    {
     "name": "stdout",
     "output_type": "stream",
     "text": [
      "\n",
      "SHAPE: (2220, 4)\n",
      "\n",
      "SHAPE: (47, 4)\n"
     ]
    },
    {
     "data": {
      "text/html": [
       "<div>\n",
       "<style scoped>\n",
       "    .dataframe tbody tr th:only-of-type {\n",
       "        vertical-align: middle;\n",
       "    }\n",
       "\n",
       "    .dataframe tbody tr th {\n",
       "        vertical-align: top;\n",
       "    }\n",
       "\n",
       "    .dataframe thead th {\n",
       "        text-align: right;\n",
       "    }\n",
       "</style>\n",
       "<table border=\"1\" class=\"dataframe\">\n",
       "  <thead>\n",
       "    <tr style=\"text-align: right;\">\n",
       "      <th></th>\n",
       "      <th>gwId</th>\n",
       "      <th>nodeId</th>\n",
       "      <th>RSSI_Sim</th>\n",
       "      <th>distance_between</th>\n",
       "    </tr>\n",
       "  </thead>\n",
       "  <tbody>\n",
       "    <tr>\n",
       "      <th>0</th>\n",
       "      <td>222</td>\n",
       "      <td>0</td>\n",
       "      <td>-100.852</td>\n",
       "      <td>1803.30</td>\n",
       "    </tr>\n",
       "    <tr>\n",
       "      <th>1</th>\n",
       "      <td>222</td>\n",
       "      <td>1</td>\n",
       "      <td>-105.537</td>\n",
       "      <td>2505.14</td>\n",
       "    </tr>\n",
       "    <tr>\n",
       "      <th>2</th>\n",
       "      <td>222</td>\n",
       "      <td>2</td>\n",
       "      <td>-100.831</td>\n",
       "      <td>1800.54</td>\n",
       "    </tr>\n",
       "    <tr>\n",
       "      <th>3</th>\n",
       "      <td>222</td>\n",
       "      <td>3</td>\n",
       "      <td>-102.072</td>\n",
       "      <td>1964.40</td>\n",
       "    </tr>\n",
       "    <tr>\n",
       "      <th>4</th>\n",
       "      <td>222</td>\n",
       "      <td>4</td>\n",
       "      <td>-101.936</td>\n",
       "      <td>1945.82</td>\n",
       "    </tr>\n",
       "  </tbody>\n",
       "</table>\n",
       "</div>"
      ],
      "text/plain": [
       "   gwId  nodeId  RSSI_Sim  distance_between\n",
       "0   222       0  -100.852           1803.30\n",
       "1   222       1  -105.537           2505.14\n",
       "2   222       2  -100.831           1800.54\n",
       "3   222       3  -102.072           1964.40\n",
       "4   222       4  -101.936           1945.82"
      ]
     },
     "execution_count": 94,
     "metadata": {},
     "output_type": "execute_result"
    }
   ],
   "source": [
    "# ----- DATASET\n",
    "file_to_be_analysed = phy_layer_rssi_coverage\n",
    "path_to_simulation = simulation_folder + simulation_id + file_to_be_analysed\n",
    "\n",
    "rssi_df = pd.read_csv(path_to_simulation, header=None) \n",
    "rssi_df.columns = [\"gwId\", \"nodeId\", \"RSSI_Sim\", \"distance_between\"]\n",
    "\n",
    "# print(path)\n",
    "print(\"\\nSHAPE:\", rssi_df.shape)\n",
    "rssi_df = rssi_df.iloc[0:47]\n",
    "print(\"\\nSHAPE:\", rssi_df.shape)\n",
    "rssi_df.head()\n",
    "\n",
    "# TO BE DONE - TIRAR RSSI MEDIO REFERENTE A CADA POSIÇÃO DO DATASET, OBTENDO A COBERTURA MÉDIA TOTAL DE RSSI"
   ]
  },
  {
   "cell_type": "code",
   "execution_count": 95,
   "metadata": {},
   "outputs": [
    {
     "name": "stdout",
     "output_type": "stream",
     "text": [
      "DATASET SHAPE: (47, 9)\n"
     ]
    },
    {
     "data": {
      "text/html": [
       "<div>\n",
       "<style scoped>\n",
       "    .dataframe tbody tr th:only-of-type {\n",
       "        vertical-align: middle;\n",
       "    }\n",
       "\n",
       "    .dataframe tbody tr th {\n",
       "        vertical-align: top;\n",
       "    }\n",
       "\n",
       "    .dataframe thead th {\n",
       "        text-align: right;\n",
       "    }\n",
       "</style>\n",
       "<table border=\"1\" class=\"dataframe\">\n",
       "  <thead>\n",
       "    <tr style=\"text-align: right;\">\n",
       "      <th></th>\n",
       "      <th>Unnamed: 0</th>\n",
       "      <th>id</th>\n",
       "      <th>name</th>\n",
       "      <th>x</th>\n",
       "      <th>y</th>\n",
       "      <th>z</th>\n",
       "      <th>elevation</th>\n",
       "      <th>latitude</th>\n",
       "      <th>longitude</th>\n",
       "    </tr>\n",
       "  </thead>\n",
       "  <tbody>\n",
       "    <tr>\n",
       "      <th>0</th>\n",
       "      <td>0</td>\n",
       "      <td>1321.0</td>\n",
       "      <td>INOVA</td>\n",
       "      <td>1527.405075</td>\n",
       "      <td>2180.212233</td>\n",
       "      <td>1.5</td>\n",
       "      <td>644.458740</td>\n",
       "      <td>-22.814543</td>\n",
       "      <td>-47.059340</td>\n",
       "    </tr>\n",
       "    <tr>\n",
       "      <th>1</th>\n",
       "      <td>1</td>\n",
       "      <td>535.0</td>\n",
       "      <td>BC</td>\n",
       "      <td>297.311734</td>\n",
       "      <td>1965.812273</td>\n",
       "      <td>1.5</td>\n",
       "      <td>602.154968</td>\n",
       "      <td>-22.816324</td>\n",
       "      <td>-47.071348</td>\n",
       "    </tr>\n",
       "    <tr>\n",
       "      <th>2</th>\n",
       "      <td>2</td>\n",
       "      <td>802.0</td>\n",
       "      <td>CBMEG</td>\n",
       "      <td>1535.553550</td>\n",
       "      <td>1646.180816</td>\n",
       "      <td>1.5</td>\n",
       "      <td>652.513123</td>\n",
       "      <td>-22.819365</td>\n",
       "      <td>-47.059333</td>\n",
       "    </tr>\n",
       "    <tr>\n",
       "      <th>3</th>\n",
       "      <td>3</td>\n",
       "      <td>845.0</td>\n",
       "      <td>CCUEC</td>\n",
       "      <td>1149.489906</td>\n",
       "      <td>1831.086023</td>\n",
       "      <td>1.5</td>\n",
       "      <td>616.788940</td>\n",
       "      <td>-22.817648</td>\n",
       "      <td>-47.063068</td>\n",
       "    </tr>\n",
       "    <tr>\n",
       "      <th>4</th>\n",
       "      <td>4</td>\n",
       "      <td>1037.0</td>\n",
       "      <td>GASTROCENTRO</td>\n",
       "      <td>1186.795533</td>\n",
       "      <td>667.866479</td>\n",
       "      <td>1.5</td>\n",
       "      <td>635.025085</td>\n",
       "      <td>-22.828153</td>\n",
       "      <td>-47.062863</td>\n",
       "    </tr>\n",
       "  </tbody>\n",
       "</table>\n",
       "</div>"
      ],
      "text/plain": [
       "   Unnamed: 0      id          name            x            y    z  \\\n",
       "0           0  1321.0         INOVA  1527.405075  2180.212233  1.5   \n",
       "1           1   535.0            BC   297.311734  1965.812273  1.5   \n",
       "2           2   802.0         CBMEG  1535.553550  1646.180816  1.5   \n",
       "3           3   845.0         CCUEC  1149.489906  1831.086023  1.5   \n",
       "4           4  1037.0  GASTROCENTRO  1186.795533   667.866479  1.5   \n",
       "\n",
       "    elevation   latitude  longitude  \n",
       "0  644.458740 -22.814543 -47.059340  \n",
       "1  602.154968 -22.816324 -47.071348  \n",
       "2  652.513123 -22.819365 -47.059333  \n",
       "3  616.788940 -22.817648 -47.063068  \n",
       "4  635.025085 -22.828153 -47.062863  "
      ]
     },
     "execution_count": 95,
     "metadata": {},
     "output_type": "execute_result"
    }
   ],
   "source": [
    "# Visualizando dataset criado\n",
    "coletores_df = pd.read_csv(\"coletores_pos_dataset_elev.csv\") \n",
    "print(\"DATASET SHAPE:\", coletores_df.shape)\n",
    "coletores_df.head()"
   ]
  },
  {
   "cell_type": "code",
   "execution_count": 96,
   "metadata": {},
   "outputs": [
    {
     "name": "stdout",
     "output_type": "stream",
     "text": [
      "DATASET SHAPE: (47, 6)\n"
     ]
    },
    {
     "data": {
      "text/html": [
       "<div>\n",
       "<style scoped>\n",
       "    .dataframe tbody tr th:only-of-type {\n",
       "        vertical-align: middle;\n",
       "    }\n",
       "\n",
       "    .dataframe tbody tr th {\n",
       "        vertical-align: top;\n",
       "    }\n",
       "\n",
       "    .dataframe thead th {\n",
       "        text-align: right;\n",
       "    }\n",
       "</style>\n",
       "<table border=\"1\" class=\"dataframe\">\n",
       "  <thead>\n",
       "    <tr style=\"text-align: right;\">\n",
       "      <th></th>\n",
       "      <th>gwId</th>\n",
       "      <th>nodeId</th>\n",
       "      <th>RSSI_Sim</th>\n",
       "      <th>distance_between</th>\n",
       "      <th>latitude</th>\n",
       "      <th>longitude</th>\n",
       "    </tr>\n",
       "  </thead>\n",
       "  <tbody>\n",
       "    <tr>\n",
       "      <th>0</th>\n",
       "      <td>222</td>\n",
       "      <td>0</td>\n",
       "      <td>-100.852</td>\n",
       "      <td>1803.30</td>\n",
       "      <td>-22.814543</td>\n",
       "      <td>-47.059340</td>\n",
       "    </tr>\n",
       "    <tr>\n",
       "      <th>1</th>\n",
       "      <td>222</td>\n",
       "      <td>1</td>\n",
       "      <td>-105.537</td>\n",
       "      <td>2505.14</td>\n",
       "      <td>-22.816324</td>\n",
       "      <td>-47.071348</td>\n",
       "    </tr>\n",
       "    <tr>\n",
       "      <th>2</th>\n",
       "      <td>222</td>\n",
       "      <td>2</td>\n",
       "      <td>-100.831</td>\n",
       "      <td>1800.54</td>\n",
       "      <td>-22.819365</td>\n",
       "      <td>-47.059333</td>\n",
       "    </tr>\n",
       "    <tr>\n",
       "      <th>3</th>\n",
       "      <td>222</td>\n",
       "      <td>3</td>\n",
       "      <td>-102.072</td>\n",
       "      <td>1964.40</td>\n",
       "      <td>-22.817648</td>\n",
       "      <td>-47.063068</td>\n",
       "    </tr>\n",
       "    <tr>\n",
       "      <th>4</th>\n",
       "      <td>222</td>\n",
       "      <td>4</td>\n",
       "      <td>-101.936</td>\n",
       "      <td>1945.82</td>\n",
       "      <td>-22.828153</td>\n",
       "      <td>-47.062863</td>\n",
       "    </tr>\n",
       "  </tbody>\n",
       "</table>\n",
       "</div>"
      ],
      "text/plain": [
       "   gwId  nodeId  RSSI_Sim  distance_between   latitude  longitude\n",
       "0   222       0  -100.852           1803.30 -22.814543 -47.059340\n",
       "1   222       1  -105.537           2505.14 -22.816324 -47.071348\n",
       "2   222       2  -100.831           1800.54 -22.819365 -47.059333\n",
       "3   222       3  -102.072           1964.40 -22.817648 -47.063068\n",
       "4   222       4  -101.936           1945.82 -22.828153 -47.062863"
      ]
     },
     "execution_count": 96,
     "metadata": {},
     "output_type": "execute_result"
    }
   ],
   "source": [
    "rssi_df['latitude'] = coletores_df['latitude']\n",
    "rssi_df['longitude'] = coletores_df['longitude']\n",
    "print(\"DATASET SHAPE:\", rssi_df.shape)\n",
    "rssi_df.head(5)"
   ]
  },
  {
   "cell_type": "code",
   "execution_count": 23,
   "metadata": {},
   "outputs": [],
   "source": [
    "# rssi_df['latitude'].iloc[0:1].values[0]"
   ]
  },
  {
   "cell_type": "code",
   "execution_count": 97,
   "metadata": {},
   "outputs": [],
   "source": [
    "heat_data = []\n",
    "for i in range(rssi_df.shape[0]):\n",
    "    heat_data.append([\n",
    "        rssi_df['latitude'].iloc[i:i+1].values[0],\n",
    "        rssi_df['longitude'].iloc[i:i+1].values[0],\n",
    "        rssi_df['RSSI_Sim'].iloc[i:i+1].values[0]\n",
    "    ])\n",
    "\n",
    "# print(heat_data)"
   ]
  },
  {
   "cell_type": "code",
   "execution_count": 98,
   "metadata": {},
   "outputs": [],
   "source": [
    "#LEGENDA\n",
    "import branca\n",
    "\n",
    "legend_html = '''\n",
    "{% macro html(this, kwargs) %}\n",
    "<div style=\"\n",
    "    position: fixed; \n",
    "    bottom: 80px;\n",
    "    left: 20px;\n",
    "    width: 150px;\n",
    "    height: 80px;\n",
    "    top: 425px;\n",
    "    z-index:9999;\n",
    "    font-size:13px;\n",
    "    \">\n",
    "    <p><a style=\"margin-left:10px;\"><b>RSSI (Dbm)</a></b></p>\n",
    "    <p><a style=\"color:#2652ca;font-size:150%;margin-left:20px;\">&diams;</a>&emsp;<b>[0, -80]</b></p>\n",
    "    <p><a style=\"color:#338dff;font-size:150%;margin-left:20px;\">&diams;</a>&emsp;<b>[-81, -100]</b></p>\n",
    "    <p><a style=\"color:#33c1ff;font-size:150%;margin-left:20px;\">&diams;</a>&emsp;<b>[-101, -150]</b></p>\n",
    "</div>\n",
    "<div style=\"\n",
    "    position: fixed; \n",
    "    bottom: 30px;\n",
    "    left: 20px;\n",
    "    width: 150px;\n",
    "    height: 140px; \n",
    "    z-index:9998;\n",
    "    font-size:14px;\n",
    "    background-color: #ffffff;\n",
    "    border:2px solid grey;\n",
    "    opacity: 0.9;\n",
    "    \">\n",
    "</div>\n",
    "{% endmacro %}\n",
    "'''\n",
    "legend = branca.element.MacroElement()\n",
    "legend._template = branca.element.Template(legend_html)"
   ]
  },
  {
   "cell_type": "code",
   "execution_count": 99,
   "metadata": {},
   "outputs": [
    {
     "data": {
      "text/html": [
       "<div style=\"width:100%;\"><div style=\"position:relative;width:100%;height:0;padding-bottom:60%;\"><span style=\"color:#565656\">Make this Notebook Trusted to load map: File -> Trust Notebook</span><iframe src=\"about:blank\" style=\"position:absolute;width:100%;height:100%;left:0;top:0;border:none !important;\" data-html=%3C%21DOCTYPE%20html%3E%0A%3Chead%3E%20%20%20%20%0A%20%20%20%20%3Cmeta%20http-equiv%3D%22content-type%22%20content%3D%22text/html%3B%20charset%3DUTF-8%22%20/%3E%0A%20%20%20%20%0A%20%20%20%20%20%20%20%20%3Cscript%3E%0A%20%20%20%20%20%20%20%20%20%20%20%20L_NO_TOUCH%20%3D%20false%3B%0A%20%20%20%20%20%20%20%20%20%20%20%20L_DISABLE_3D%20%3D%20false%3B%0A%20%20%20%20%20%20%20%20%3C/script%3E%0A%20%20%20%20%0A%20%20%20%20%3Cstyle%3Ehtml%2C%20body%20%7Bwidth%3A%20100%25%3Bheight%3A%20100%25%3Bmargin%3A%200%3Bpadding%3A%200%3B%7D%3C/style%3E%0A%20%20%20%20%3Cstyle%3E%23map%20%7Bposition%3Aabsolute%3Btop%3A0%3Bbottom%3A0%3Bright%3A0%3Bleft%3A0%3B%7D%3C/style%3E%0A%20%20%20%20%3Cscript%20src%3D%22https%3A//cdn.jsdelivr.net/npm/leaflet%401.6.0/dist/leaflet.js%22%3E%3C/script%3E%0A%20%20%20%20%3Cscript%20src%3D%22https%3A//code.jquery.com/jquery-1.12.4.min.js%22%3E%3C/script%3E%0A%20%20%20%20%3Cscript%20src%3D%22https%3A//maxcdn.bootstrapcdn.com/bootstrap/3.2.0/js/bootstrap.min.js%22%3E%3C/script%3E%0A%20%20%20%20%3Cscript%20src%3D%22https%3A//cdnjs.cloudflare.com/ajax/libs/Leaflet.awesome-markers/2.0.2/leaflet.awesome-markers.js%22%3E%3C/script%3E%0A%20%20%20%20%3Clink%20rel%3D%22stylesheet%22%20href%3D%22https%3A//cdn.jsdelivr.net/npm/leaflet%401.6.0/dist/leaflet.css%22/%3E%0A%20%20%20%20%3Clink%20rel%3D%22stylesheet%22%20href%3D%22https%3A//maxcdn.bootstrapcdn.com/bootstrap/3.2.0/css/bootstrap.min.css%22/%3E%0A%20%20%20%20%3Clink%20rel%3D%22stylesheet%22%20href%3D%22https%3A//maxcdn.bootstrapcdn.com/bootstrap/3.2.0/css/bootstrap-theme.min.css%22/%3E%0A%20%20%20%20%3Clink%20rel%3D%22stylesheet%22%20href%3D%22https%3A//maxcdn.bootstrapcdn.com/font-awesome/4.6.3/css/font-awesome.min.css%22/%3E%0A%20%20%20%20%3Clink%20rel%3D%22stylesheet%22%20href%3D%22https%3A//cdnjs.cloudflare.com/ajax/libs/Leaflet.awesome-markers/2.0.2/leaflet.awesome-markers.css%22/%3E%0A%20%20%20%20%3Clink%20rel%3D%22stylesheet%22%20href%3D%22https%3A//cdn.jsdelivr.net/gh/python-visualization/folium/folium/templates/leaflet.awesome.rotate.min.css%22/%3E%0A%20%20%20%20%0A%20%20%20%20%20%20%20%20%20%20%20%20%3Cmeta%20name%3D%22viewport%22%20content%3D%22width%3Ddevice-width%2C%0A%20%20%20%20%20%20%20%20%20%20%20%20%20%20%20%20initial-scale%3D1.0%2C%20maximum-scale%3D1.0%2C%20user-scalable%3Dno%22%20/%3E%0A%20%20%20%20%20%20%20%20%20%20%20%20%3Cstyle%3E%0A%20%20%20%20%20%20%20%20%20%20%20%20%20%20%20%20%23map_c5814bb4a3ba4a4390cb8a4bf3c2b207%20%7B%0A%20%20%20%20%20%20%20%20%20%20%20%20%20%20%20%20%20%20%20%20position%3A%20relative%3B%0A%20%20%20%20%20%20%20%20%20%20%20%20%20%20%20%20%20%20%20%20width%3A%20500.0px%3B%0A%20%20%20%20%20%20%20%20%20%20%20%20%20%20%20%20%20%20%20%20height%3A%20600.0px%3B%0A%20%20%20%20%20%20%20%20%20%20%20%20%20%20%20%20%20%20%20%20left%3A%200.0%25%3B%0A%20%20%20%20%20%20%20%20%20%20%20%20%20%20%20%20%20%20%20%20top%3A%200.0%25%3B%0A%20%20%20%20%20%20%20%20%20%20%20%20%20%20%20%20%7D%0A%20%20%20%20%20%20%20%20%20%20%20%20%3C/style%3E%0A%20%20%20%20%20%20%20%20%0A%3C/head%3E%0A%3Cbody%3E%20%20%20%20%0A%20%20%20%20%0A%20%20%20%20%20%20%20%20%20%20%20%20%3Cdiv%20class%3D%22folium-map%22%20id%3D%22map_c5814bb4a3ba4a4390cb8a4bf3c2b207%22%20%3E%3C/div%3E%0A%20%20%20%20%20%20%20%20%0A%20%20%20%20%0A%3Cdiv%20style%3D%22%0A%20%20%20%20position%3A%20fixed%3B%20%0A%20%20%20%20bottom%3A%2080px%3B%0A%20%20%20%20left%3A%2020px%3B%0A%20%20%20%20width%3A%20150px%3B%0A%20%20%20%20height%3A%2080px%3B%0A%20%20%20%20top%3A%20425px%3B%0A%20%20%20%20z-index%3A9999%3B%0A%20%20%20%20font-size%3A13px%3B%0A%20%20%20%20%22%3E%0A%20%20%20%20%3Cp%3E%3Ca%20style%3D%22margin-left%3A10px%3B%22%3E%3Cb%3ERSSI%20%28Dbm%29%3C/a%3E%3C/b%3E%3C/p%3E%0A%20%20%20%20%3Cp%3E%3Ca%20style%3D%22color%3A%232652ca%3Bfont-size%3A150%25%3Bmargin-left%3A20px%3B%22%3E%26diams%3B%3C/a%3E%26emsp%3B%3Cb%3E%5B0%2C%20-80%5D%3C/b%3E%3C/p%3E%0A%20%20%20%20%3Cp%3E%3Ca%20style%3D%22color%3A%23338dff%3Bfont-size%3A150%25%3Bmargin-left%3A20px%3B%22%3E%26diams%3B%3C/a%3E%26emsp%3B%3Cb%3E%5B-81%2C%20-100%5D%3C/b%3E%3C/p%3E%0A%20%20%20%20%3Cp%3E%3Ca%20style%3D%22color%3A%2333c1ff%3Bfont-size%3A150%25%3Bmargin-left%3A20px%3B%22%3E%26diams%3B%3C/a%3E%26emsp%3B%3Cb%3E%5B-101%2C%20-150%5D%3C/b%3E%3C/p%3E%0A%3C/div%3E%0A%3Cdiv%20style%3D%22%0A%20%20%20%20position%3A%20fixed%3B%20%0A%20%20%20%20bottom%3A%2030px%3B%0A%20%20%20%20left%3A%2020px%3B%0A%20%20%20%20width%3A%20150px%3B%0A%20%20%20%20height%3A%20140px%3B%20%0A%20%20%20%20z-index%3A9998%3B%0A%20%20%20%20font-size%3A14px%3B%0A%20%20%20%20background-color%3A%20%23ffffff%3B%0A%20%20%20%20border%3A2px%20solid%20grey%3B%0A%20%20%20%20opacity%3A%200.9%3B%0A%20%20%20%20%22%3E%0A%3C/div%3E%0A%3C/body%3E%0A%3Cscript%3E%20%20%20%20%0A%20%20%20%20%0A%20%20%20%20%20%20%20%20%20%20%20%20var%20map_c5814bb4a3ba4a4390cb8a4bf3c2b207%20%3D%20L.map%28%0A%20%20%20%20%20%20%20%20%20%20%20%20%20%20%20%20%22map_c5814bb4a3ba4a4390cb8a4bf3c2b207%22%2C%0A%20%20%20%20%20%20%20%20%20%20%20%20%20%20%20%20%7B%0A%20%20%20%20%20%20%20%20%20%20%20%20%20%20%20%20%20%20%20%20center%3A%20%5B-22.822617%2C%20-47.067%5D%2C%0A%20%20%20%20%20%20%20%20%20%20%20%20%20%20%20%20%20%20%20%20crs%3A%20L.CRS.EPSG3857%2C%0A%20%20%20%20%20%20%20%20%20%20%20%20%20%20%20%20%20%20%20%20zoom%3A%2015%2C%0A%20%20%20%20%20%20%20%20%20%20%20%20%20%20%20%20%20%20%20%20zoomControl%3A%20true%2C%0A%20%20%20%20%20%20%20%20%20%20%20%20%20%20%20%20%20%20%20%20preferCanvas%3A%20false%2C%0A%20%20%20%20%20%20%20%20%20%20%20%20%20%20%20%20%7D%0A%20%20%20%20%20%20%20%20%20%20%20%20%29%3B%0A%0A%20%20%20%20%20%20%20%20%20%20%20%20%0A%0A%20%20%20%20%20%20%20%20%0A%20%20%20%20%0A%20%20%20%20%20%20%20%20%20%20%20%20var%20tile_layer_1fb309ec87ab4799a5640a59a28d8307%20%3D%20L.tileLayer%28%0A%20%20%20%20%20%20%20%20%20%20%20%20%20%20%20%20%22https%3A//%7Bs%7D.tile.openstreetmap.org/%7Bz%7D/%7Bx%7D/%7By%7D.png%22%2C%0A%20%20%20%20%20%20%20%20%20%20%20%20%20%20%20%20%7B%22attribution%22%3A%20%22Data%20by%20%5Cu0026copy%3B%20%5Cu003ca%20href%3D%5C%22http%3A//openstreetmap.org%5C%22%5Cu003eOpenStreetMap%5Cu003c/a%5Cu003e%2C%20under%20%5Cu003ca%20href%3D%5C%22http%3A//www.openstreetmap.org/copyright%5C%22%5Cu003eODbL%5Cu003c/a%5Cu003e.%22%2C%20%22detectRetina%22%3A%20false%2C%20%22maxNativeZoom%22%3A%2018%2C%20%22maxZoom%22%3A%2018%2C%20%22minZoom%22%3A%200%2C%20%22noWrap%22%3A%20false%2C%20%22opacity%22%3A%201%2C%20%22subdomains%22%3A%20%22abc%22%2C%20%22tms%22%3A%20false%7D%0A%20%20%20%20%20%20%20%20%20%20%20%20%29.addTo%28map_c5814bb4a3ba4a4390cb8a4bf3c2b207%29%3B%0A%20%20%20%20%20%20%20%20%0A%20%20%20%20%0A%20%20%20%20%20%20%20%20%20%20%20%20var%20marker_28a52307d0db4b9f8dad3941c19145e7%20%3D%20L.marker%28%0A%20%20%20%20%20%20%20%20%20%20%20%20%20%20%20%20%5B-22.81454328691809%2C%20-47.05934014724517%5D%2C%0A%20%20%20%20%20%20%20%20%20%20%20%20%20%20%20%20%7B%7D%0A%20%20%20%20%20%20%20%20%20%20%20%20%29.addTo%28map_c5814bb4a3ba4a4390cb8a4bf3c2b207%29%3B%0A%20%20%20%20%20%20%20%20%0A%20%20%20%20%0A%20%20%20%20%20%20%20%20%20%20%20%20var%20icon_fb987a0a554649b78eb3dad8d7060fb6%20%3D%20L.AwesomeMarkers.icon%28%0A%20%20%20%20%20%20%20%20%20%20%20%20%20%20%20%20%7B%22extraClasses%22%3A%20%22fa-rotate-0%22%2C%20%22icon%22%3A%20%22info-sign%22%2C%20%22iconColor%22%3A%20%22white%22%2C%20%22markerColor%22%3A%20%22lightblue%22%2C%20%22prefix%22%3A%20%22glyphicon%22%7D%0A%20%20%20%20%20%20%20%20%20%20%20%20%29%3B%0A%20%20%20%20%20%20%20%20%20%20%20%20marker_28a52307d0db4b9f8dad3941c19145e7.setIcon%28icon_fb987a0a554649b78eb3dad8d7060fb6%29%3B%0A%20%20%20%20%20%20%20%20%0A%20%20%20%20%0A%20%20%20%20%20%20%20%20var%20popup_bfdb950f41a64c21b4aa081be405634e%20%3D%20L.popup%28%7B%22maxWidth%22%3A%20%22100%25%22%7D%29%3B%0A%0A%20%20%20%20%20%20%20%20%0A%20%20%20%20%20%20%20%20%20%20%20%20var%20html_0995ded2fcc24a7ba075ff40cad3b5b4%20%3D%20%24%28%60%3Cdiv%20id%3D%22html_0995ded2fcc24a7ba075ff40cad3b5b4%22%20style%3D%22width%3A%20100.0%25%3B%20height%3A%20100.0%25%3B%22%3ELat%3A%20-22.81454328691809%2C%20Lng%3A%20-47.05934014724517%2C%20Rssi%3A%20-100.852%3C/div%3E%60%29%5B0%5D%3B%0A%20%20%20%20%20%20%20%20%20%20%20%20popup_bfdb950f41a64c21b4aa081be405634e.setContent%28html_0995ded2fcc24a7ba075ff40cad3b5b4%29%3B%0A%20%20%20%20%20%20%20%20%0A%0A%20%20%20%20%20%20%20%20marker_28a52307d0db4b9f8dad3941c19145e7.bindPopup%28popup_bfdb950f41a64c21b4aa081be405634e%29%0A%20%20%20%20%20%20%20%20%3B%0A%0A%20%20%20%20%20%20%20%20%0A%20%20%20%20%0A%20%20%20%20%0A%20%20%20%20%20%20%20%20%20%20%20%20var%20marker_f5640054aad54d54b096fa40e7707e4c%20%3D%20L.marker%28%0A%20%20%20%20%20%20%20%20%20%20%20%20%20%20%20%20%5B-22.81632354744989%2C%20-47.07134835810497%5D%2C%0A%20%20%20%20%20%20%20%20%20%20%20%20%20%20%20%20%7B%7D%0A%20%20%20%20%20%20%20%20%20%20%20%20%29.addTo%28map_c5814bb4a3ba4a4390cb8a4bf3c2b207%29%3B%0A%20%20%20%20%20%20%20%20%0A%20%20%20%20%0A%20%20%20%20%20%20%20%20%20%20%20%20var%20icon_fc7de6f095df408f8a354ed0b300f82d%20%3D%20L.AwesomeMarkers.icon%28%0A%20%20%20%20%20%20%20%20%20%20%20%20%20%20%20%20%7B%22extraClasses%22%3A%20%22fa-rotate-0%22%2C%20%22icon%22%3A%20%22info-sign%22%2C%20%22iconColor%22%3A%20%22white%22%2C%20%22markerColor%22%3A%20%22lightblue%22%2C%20%22prefix%22%3A%20%22glyphicon%22%7D%0A%20%20%20%20%20%20%20%20%20%20%20%20%29%3B%0A%20%20%20%20%20%20%20%20%20%20%20%20marker_f5640054aad54d54b096fa40e7707e4c.setIcon%28icon_fc7de6f095df408f8a354ed0b300f82d%29%3B%0A%20%20%20%20%20%20%20%20%0A%20%20%20%20%0A%20%20%20%20%20%20%20%20var%20popup_2ed6a074dbf14aafab591460ed88a5f5%20%3D%20L.popup%28%7B%22maxWidth%22%3A%20%22100%25%22%7D%29%3B%0A%0A%20%20%20%20%20%20%20%20%0A%20%20%20%20%20%20%20%20%20%20%20%20var%20html_93df3c4234a544818213ef41d770cd96%20%3D%20%24%28%60%3Cdiv%20id%3D%22html_93df3c4234a544818213ef41d770cd96%22%20style%3D%22width%3A%20100.0%25%3B%20height%3A%20100.0%25%3B%22%3ELat%3A%20-22.81632354744989%2C%20Lng%3A%20-47.07134835810497%2C%20Rssi%3A%20-105.537%3C/div%3E%60%29%5B0%5D%3B%0A%20%20%20%20%20%20%20%20%20%20%20%20popup_2ed6a074dbf14aafab591460ed88a5f5.setContent%28html_93df3c4234a544818213ef41d770cd96%29%3B%0A%20%20%20%20%20%20%20%20%0A%0A%20%20%20%20%20%20%20%20marker_f5640054aad54d54b096fa40e7707e4c.bindPopup%28popup_2ed6a074dbf14aafab591460ed88a5f5%29%0A%20%20%20%20%20%20%20%20%3B%0A%0A%20%20%20%20%20%20%20%20%0A%20%20%20%20%0A%20%20%20%20%0A%20%20%20%20%20%20%20%20%20%20%20%20var%20marker_1d4d5838c4e44091bd6ad194e8183bf3%20%3D%20L.marker%28%0A%20%20%20%20%20%20%20%20%20%20%20%20%20%20%20%20%5B-22.81936543754744%2C%20-47.05933331168868%5D%2C%0A%20%20%20%20%20%20%20%20%20%20%20%20%20%20%20%20%7B%7D%0A%20%20%20%20%20%20%20%20%20%20%20%20%29.addTo%28map_c5814bb4a3ba4a4390cb8a4bf3c2b207%29%3B%0A%20%20%20%20%20%20%20%20%0A%20%20%20%20%0A%20%20%20%20%20%20%20%20%20%20%20%20var%20icon_406d766ec4b94e0fb20b48a83dc3c3b6%20%3D%20L.AwesomeMarkers.icon%28%0A%20%20%20%20%20%20%20%20%20%20%20%20%20%20%20%20%7B%22extraClasses%22%3A%20%22fa-rotate-0%22%2C%20%22icon%22%3A%20%22info-sign%22%2C%20%22iconColor%22%3A%20%22white%22%2C%20%22markerColor%22%3A%20%22lightblue%22%2C%20%22prefix%22%3A%20%22glyphicon%22%7D%0A%20%20%20%20%20%20%20%20%20%20%20%20%29%3B%0A%20%20%20%20%20%20%20%20%20%20%20%20marker_1d4d5838c4e44091bd6ad194e8183bf3.setIcon%28icon_406d766ec4b94e0fb20b48a83dc3c3b6%29%3B%0A%20%20%20%20%20%20%20%20%0A%20%20%20%20%0A%20%20%20%20%20%20%20%20var%20popup_4ea05a4399ed4d4c940bba224cf40e71%20%3D%20L.popup%28%7B%22maxWidth%22%3A%20%22100%25%22%7D%29%3B%0A%0A%20%20%20%20%20%20%20%20%0A%20%20%20%20%20%20%20%20%20%20%20%20var%20html_21c595e7cd824d10b93cd166aefb4377%20%3D%20%24%28%60%3Cdiv%20id%3D%22html_21c595e7cd824d10b93cd166aefb4377%22%20style%3D%22width%3A%20100.0%25%3B%20height%3A%20100.0%25%3B%22%3ELat%3A%20-22.81936543754744%2C%20Lng%3A%20-47.05933331168868%2C%20Rssi%3A%20-100.831%3C/div%3E%60%29%5B0%5D%3B%0A%20%20%20%20%20%20%20%20%20%20%20%20popup_4ea05a4399ed4d4c940bba224cf40e71.setContent%28html_21c595e7cd824d10b93cd166aefb4377%29%3B%0A%20%20%20%20%20%20%20%20%0A%0A%20%20%20%20%20%20%20%20marker_1d4d5838c4e44091bd6ad194e8183bf3.bindPopup%28popup_4ea05a4399ed4d4c940bba224cf40e71%29%0A%20%20%20%20%20%20%20%20%3B%0A%0A%20%20%20%20%20%20%20%20%0A%20%20%20%20%0A%20%20%20%20%0A%20%20%20%20%20%20%20%20%20%20%20%20var%20marker_19cf0dd9f63b48438f39b8b5ba0d77a5%20%3D%20L.marker%28%0A%20%20%20%20%20%20%20%20%20%20%20%20%20%20%20%20%5B-22.81764750753982%2C%20-47.06306787459784%5D%2C%0A%20%20%20%20%20%20%20%20%20%20%20%20%20%20%20%20%7B%7D%0A%20%20%20%20%20%20%20%20%20%20%20%20%29.addTo%28map_c5814bb4a3ba4a4390cb8a4bf3c2b207%29%3B%0A%20%20%20%20%20%20%20%20%0A%20%20%20%20%0A%20%20%20%20%20%20%20%20%20%20%20%20var%20icon_7975a5761e4e4d3cbd55f2fdfef10627%20%3D%20L.AwesomeMarkers.icon%28%0A%20%20%20%20%20%20%20%20%20%20%20%20%20%20%20%20%7B%22extraClasses%22%3A%20%22fa-rotate-0%22%2C%20%22icon%22%3A%20%22info-sign%22%2C%20%22iconColor%22%3A%20%22white%22%2C%20%22markerColor%22%3A%20%22lightblue%22%2C%20%22prefix%22%3A%20%22glyphicon%22%7D%0A%20%20%20%20%20%20%20%20%20%20%20%20%29%3B%0A%20%20%20%20%20%20%20%20%20%20%20%20marker_19cf0dd9f63b48438f39b8b5ba0d77a5.setIcon%28icon_7975a5761e4e4d3cbd55f2fdfef10627%29%3B%0A%20%20%20%20%20%20%20%20%0A%20%20%20%20%0A%20%20%20%20%20%20%20%20var%20popup_eb20de7fe1d4468da9e23463ad64c99e%20%3D%20L.popup%28%7B%22maxWidth%22%3A%20%22100%25%22%7D%29%3B%0A%0A%20%20%20%20%20%20%20%20%0A%20%20%20%20%20%20%20%20%20%20%20%20var%20html_035e515c396f4aa8948422ab17e40a99%20%3D%20%24%28%60%3Cdiv%20id%3D%22html_035e515c396f4aa8948422ab17e40a99%22%20style%3D%22width%3A%20100.0%25%3B%20height%3A%20100.0%25%3B%22%3ELat%3A%20-22.81764750753982%2C%20Lng%3A%20-47.06306787459784%2C%20Rssi%3A%20-102.072%3C/div%3E%60%29%5B0%5D%3B%0A%20%20%20%20%20%20%20%20%20%20%20%20popup_eb20de7fe1d4468da9e23463ad64c99e.setContent%28html_035e515c396f4aa8948422ab17e40a99%29%3B%0A%20%20%20%20%20%20%20%20%0A%0A%20%20%20%20%20%20%20%20marker_19cf0dd9f63b48438f39b8b5ba0d77a5.bindPopup%28popup_eb20de7fe1d4468da9e23463ad64c99e%29%0A%20%20%20%20%20%20%20%20%3B%0A%0A%20%20%20%20%20%20%20%20%0A%20%20%20%20%0A%20%20%20%20%0A%20%20%20%20%20%20%20%20%20%20%20%20var%20marker_d811674e45f74d7f9bdc52914f4c8f29%20%3D%20L.marker%28%0A%20%20%20%20%20%20%20%20%20%20%20%20%20%20%20%20%5B-22.82815348592649%2C%20-47.06286284264447%5D%2C%0A%20%20%20%20%20%20%20%20%20%20%20%20%20%20%20%20%7B%7D%0A%20%20%20%20%20%20%20%20%20%20%20%20%29.addTo%28map_c5814bb4a3ba4a4390cb8a4bf3c2b207%29%3B%0A%20%20%20%20%20%20%20%20%0A%20%20%20%20%0A%20%20%20%20%20%20%20%20%20%20%20%20var%20icon_86010e14b9104d989b0988bf6f50e2f5%20%3D%20L.AwesomeMarkers.icon%28%0A%20%20%20%20%20%20%20%20%20%20%20%20%20%20%20%20%7B%22extraClasses%22%3A%20%22fa-rotate-0%22%2C%20%22icon%22%3A%20%22info-sign%22%2C%20%22iconColor%22%3A%20%22white%22%2C%20%22markerColor%22%3A%20%22lightblue%22%2C%20%22prefix%22%3A%20%22glyphicon%22%7D%0A%20%20%20%20%20%20%20%20%20%20%20%20%29%3B%0A%20%20%20%20%20%20%20%20%20%20%20%20marker_d811674e45f74d7f9bdc52914f4c8f29.setIcon%28icon_86010e14b9104d989b0988bf6f50e2f5%29%3B%0A%20%20%20%20%20%20%20%20%0A%20%20%20%20%0A%20%20%20%20%20%20%20%20var%20popup_b9aa81172d3941ffa344747bf35bd620%20%3D%20L.popup%28%7B%22maxWidth%22%3A%20%22100%25%22%7D%29%3B%0A%0A%20%20%20%20%20%20%20%20%0A%20%20%20%20%20%20%20%20%20%20%20%20var%20html_070cb3f63bb0483593218c60bd44bae5%20%3D%20%24%28%60%3Cdiv%20id%3D%22html_070cb3f63bb0483593218c60bd44bae5%22%20style%3D%22width%3A%20100.0%25%3B%20height%3A%20100.0%25%3B%22%3ELat%3A%20-22.82815348592649%2C%20Lng%3A%20-47.06286284264447%2C%20Rssi%3A%20-101.936%3C/div%3E%60%29%5B0%5D%3B%0A%20%20%20%20%20%20%20%20%20%20%20%20popup_b9aa81172d3941ffa344747bf35bd620.setContent%28html_070cb3f63bb0483593218c60bd44bae5%29%3B%0A%20%20%20%20%20%20%20%20%0A%0A%20%20%20%20%20%20%20%20marker_d811674e45f74d7f9bdc52914f4c8f29.bindPopup%28popup_b9aa81172d3941ffa344747bf35bd620%29%0A%20%20%20%20%20%20%20%20%3B%0A%0A%20%20%20%20%20%20%20%20%0A%20%20%20%20%0A%20%20%20%20%0A%20%20%20%20%20%20%20%20%20%20%20%20var%20marker_d7b5b1a29c9f433097a5cec3ad69083e%20%3D%20L.marker%28%0A%20%20%20%20%20%20%20%20%20%20%20%20%20%20%20%20%5B-22.81291555313213%2C%20-47.06756122474079%5D%2C%0A%20%20%20%20%20%20%20%20%20%20%20%20%20%20%20%20%7B%7D%0A%20%20%20%20%20%20%20%20%20%20%20%20%29.addTo%28map_c5814bb4a3ba4a4390cb8a4bf3c2b207%29%3B%0A%20%20%20%20%20%20%20%20%0A%20%20%20%20%0A%20%20%20%20%20%20%20%20%20%20%20%20var%20icon_3cb85f3cf099453a8122d9efb07657a5%20%3D%20L.AwesomeMarkers.icon%28%0A%20%20%20%20%20%20%20%20%20%20%20%20%20%20%20%20%7B%22extraClasses%22%3A%20%22fa-rotate-0%22%2C%20%22icon%22%3A%20%22info-sign%22%2C%20%22iconColor%22%3A%20%22white%22%2C%20%22markerColor%22%3A%20%22lightblue%22%2C%20%22prefix%22%3A%20%22glyphicon%22%7D%0A%20%20%20%20%20%20%20%20%20%20%20%20%29%3B%0A%20%20%20%20%20%20%20%20%20%20%20%20marker_d7b5b1a29c9f433097a5cec3ad69083e.setIcon%28icon_3cb85f3cf099453a8122d9efb07657a5%29%3B%0A%20%20%20%20%20%20%20%20%0A%20%20%20%20%0A%20%20%20%20%20%20%20%20var%20popup_44be72a8bd584b60bfd5fbdf3a0f6ea9%20%3D%20L.popup%28%7B%22maxWidth%22%3A%20%22100%25%22%7D%29%3B%0A%0A%20%20%20%20%20%20%20%20%0A%20%20%20%20%20%20%20%20%20%20%20%20var%20html_d6c369e7ab864532a1150fb72ff3f1ad%20%3D%20%24%28%60%3Cdiv%20id%3D%22html_d6c369e7ab864532a1150fb72ff3f1ad%22%20style%3D%22width%3A%20100.0%25%3B%20height%3A%20100.0%25%3B%22%3ELat%3A%20-22.81291555313213%2C%20Lng%3A%20-47.06756122474079%2C%20Rssi%3A%20-103.929%3C/div%3E%60%29%5B0%5D%3B%0A%20%20%20%20%20%20%20%20%20%20%20%20popup_44be72a8bd584b60bfd5fbdf3a0f6ea9.setContent%28html_d6c369e7ab864532a1150fb72ff3f1ad%29%3B%0A%20%20%20%20%20%20%20%20%0A%0A%20%20%20%20%20%20%20%20marker_d7b5b1a29c9f433097a5cec3ad69083e.bindPopup%28popup_44be72a8bd584b60bfd5fbdf3a0f6ea9%29%0A%20%20%20%20%20%20%20%20%3B%0A%0A%20%20%20%20%20%20%20%20%0A%20%20%20%20%0A%20%20%20%20%0A%20%20%20%20%20%20%20%20%20%20%20%20var%20marker_976863da314d45c4813ac83c707182f5%20%3D%20L.marker%28%0A%20%20%20%20%20%20%20%20%20%20%20%20%20%20%20%20%5B-22.82878860225261%2C%20-47.06269560670362%5D%2C%0A%20%20%20%20%20%20%20%20%20%20%20%20%20%20%20%20%7B%7D%0A%20%20%20%20%20%20%20%20%20%20%20%20%29.addTo%28map_c5814bb4a3ba4a4390cb8a4bf3c2b207%29%3B%0A%20%20%20%20%20%20%20%20%0A%20%20%20%20%0A%20%20%20%20%20%20%20%20%20%20%20%20var%20icon_376ee96e3aee4682bab0c21f37f02b31%20%3D%20L.AwesomeMarkers.icon%28%0A%20%20%20%20%20%20%20%20%20%20%20%20%20%20%20%20%7B%22extraClasses%22%3A%20%22fa-rotate-0%22%2C%20%22icon%22%3A%20%22info-sign%22%2C%20%22iconColor%22%3A%20%22white%22%2C%20%22markerColor%22%3A%20%22lightblue%22%2C%20%22prefix%22%3A%20%22glyphicon%22%7D%0A%20%20%20%20%20%20%20%20%20%20%20%20%29%3B%0A%20%20%20%20%20%20%20%20%20%20%20%20marker_976863da314d45c4813ac83c707182f5.setIcon%28icon_376ee96e3aee4682bab0c21f37f02b31%29%3B%0A%20%20%20%20%20%20%20%20%0A%20%20%20%20%0A%20%20%20%20%20%20%20%20var%20popup_9f89286f76c04ba28f5b4d74a50e7202%20%3D%20L.popup%28%7B%22maxWidth%22%3A%20%22100%25%22%7D%29%3B%0A%0A%20%20%20%20%20%20%20%20%0A%20%20%20%20%20%20%20%20%20%20%20%20var%20html_f811057efba2473ba2f4442eaf4a3149%20%3D%20%24%28%60%3Cdiv%20id%3D%22html_f811057efba2473ba2f4442eaf4a3149%22%20style%3D%22width%3A%20100.0%25%3B%20height%3A%20100.0%25%3B%22%3ELat%3A%20-22.82878860225261%2C%20Lng%3A%20-47.06269560670362%2C%20Rssi%3A%20-101.871%3C/div%3E%60%29%5B0%5D%3B%0A%20%20%20%20%20%20%20%20%20%20%20%20popup_9f89286f76c04ba28f5b4d74a50e7202.setContent%28html_f811057efba2473ba2f4442eaf4a3149%29%3B%0A%20%20%20%20%20%20%20%20%0A%0A%20%20%20%20%20%20%20%20marker_976863da314d45c4813ac83c707182f5.bindPopup%28popup_9f89286f76c04ba28f5b4d74a50e7202%29%0A%20%20%20%20%20%20%20%20%3B%0A%0A%20%20%20%20%20%20%20%20%0A%20%20%20%20%0A%20%20%20%20%0A%20%20%20%20%20%20%20%20%20%20%20%20var%20marker_2aad12eac27243a395416d997446a632%20%3D%20L.marker%28%0A%20%20%20%20%20%20%20%20%20%20%20%20%20%20%20%20%5B-22.82331920947462%2C%20-47.06321597438829%5D%2C%0A%20%20%20%20%20%20%20%20%20%20%20%20%20%20%20%20%7B%7D%0A%20%20%20%20%20%20%20%20%20%20%20%20%29.addTo%28map_c5814bb4a3ba4a4390cb8a4bf3c2b207%29%3B%0A%20%20%20%20%20%20%20%20%0A%20%20%20%20%0A%20%20%20%20%20%20%20%20%20%20%20%20var%20icon_37c1d105cb88451b8b03d65cf6b06c64%20%3D%20L.AwesomeMarkers.icon%28%0A%20%20%20%20%20%20%20%20%20%20%20%20%20%20%20%20%7B%22extraClasses%22%3A%20%22fa-rotate-0%22%2C%20%22icon%22%3A%20%22info-sign%22%2C%20%22iconColor%22%3A%20%22white%22%2C%20%22markerColor%22%3A%20%22lightblue%22%2C%20%22prefix%22%3A%20%22glyphicon%22%7D%0A%20%20%20%20%20%20%20%20%20%20%20%20%29%3B%0A%20%20%20%20%20%20%20%20%20%20%20%20marker_2aad12eac27243a395416d997446a632.setIcon%28icon_37c1d105cb88451b8b03d65cf6b06c64%29%3B%0A%20%20%20%20%20%20%20%20%0A%20%20%20%20%0A%20%20%20%20%20%20%20%20var%20popup_bbd68bebd76b496cbc2092a5953a6fb9%20%3D%20L.popup%28%7B%22maxWidth%22%3A%20%22100%25%22%7D%29%3B%0A%0A%20%20%20%20%20%20%20%20%0A%20%20%20%20%20%20%20%20%20%20%20%20var%20html_16b22e81c2fc461281687ae45ef386de%20%3D%20%24%28%60%3Cdiv%20id%3D%22html_16b22e81c2fc461281687ae45ef386de%22%20style%3D%22width%3A%20100.0%25%3B%20height%3A%20100.0%25%3B%22%3ELat%3A%20-22.82331920947462%2C%20Lng%3A%20-47.06321597438829%2C%20Rssi%3A%20-102.095%3C/div%3E%60%29%5B0%5D%3B%0A%20%20%20%20%20%20%20%20%20%20%20%20popup_bbd68bebd76b496cbc2092a5953a6fb9.setContent%28html_16b22e81c2fc461281687ae45ef386de%29%3B%0A%20%20%20%20%20%20%20%20%0A%0A%20%20%20%20%20%20%20%20marker_2aad12eac27243a395416d997446a632.bindPopup%28popup_bbd68bebd76b496cbc2092a5953a6fb9%29%0A%20%20%20%20%20%20%20%20%3B%0A%0A%20%20%20%20%20%20%20%20%0A%20%20%20%20%0A%20%20%20%20%0A%20%20%20%20%20%20%20%20%20%20%20%20var%20marker_477596911f504e32acb8149740451e5f%20%3D%20L.marker%28%0A%20%20%20%20%20%20%20%20%20%20%20%20%20%20%20%20%5B-22.8175901258988%2C%20-47.07083432138436%5D%2C%0A%20%20%20%20%20%20%20%20%20%20%20%20%20%20%20%20%7B%7D%0A%20%20%20%20%20%20%20%20%20%20%20%20%29.addTo%28map_c5814bb4a3ba4a4390cb8a4bf3c2b207%29%3B%0A%20%20%20%20%20%20%20%20%0A%20%20%20%20%0A%20%20%20%20%20%20%20%20%20%20%20%20var%20icon_d00d794cfd2f4129bd4f02127f384946%20%3D%20L.AwesomeMarkers.icon%28%0A%20%20%20%20%20%20%20%20%20%20%20%20%20%20%20%20%7B%22extraClasses%22%3A%20%22fa-rotate-0%22%2C%20%22icon%22%3A%20%22info-sign%22%2C%20%22iconColor%22%3A%20%22white%22%2C%20%22markerColor%22%3A%20%22lightblue%22%2C%20%22prefix%22%3A%20%22glyphicon%22%7D%0A%20%20%20%20%20%20%20%20%20%20%20%20%29%3B%0A%20%20%20%20%20%20%20%20%20%20%20%20marker_477596911f504e32acb8149740451e5f.setIcon%28icon_d00d794cfd2f4129bd4f02127f384946%29%3B%0A%20%20%20%20%20%20%20%20%0A%20%20%20%20%0A%20%20%20%20%20%20%20%20var%20popup_907e2f66842d4c8aa14fdb88b775e33c%20%3D%20L.popup%28%7B%22maxWidth%22%3A%20%22100%25%22%7D%29%3B%0A%0A%20%20%20%20%20%20%20%20%0A%20%20%20%20%20%20%20%20%20%20%20%20var%20html_3e60f8fa60804f5da202d93dcdc2b2b7%20%3D%20%24%28%60%3Cdiv%20id%3D%22html_3e60f8fa60804f5da202d93dcdc2b2b7%22%20style%3D%22width%3A%20100.0%25%3B%20height%3A%20100.0%25%3B%22%3ELat%3A%20-22.8175901258988%2C%20Lng%3A%20-47.07083432138436%2C%20Rssi%3A%20-105.307%3C/div%3E%60%29%5B0%5D%3B%0A%20%20%20%20%20%20%20%20%20%20%20%20popup_907e2f66842d4c8aa14fdb88b775e33c.setContent%28html_3e60f8fa60804f5da202d93dcdc2b2b7%29%3B%0A%20%20%20%20%20%20%20%20%0A%0A%20%20%20%20%20%20%20%20marker_477596911f504e32acb8149740451e5f.bindPopup%28popup_907e2f66842d4c8aa14fdb88b775e33c%29%0A%20%20%20%20%20%20%20%20%3B%0A%0A%20%20%20%20%20%20%20%20%0A%20%20%20%20%0A%20%20%20%20%0A%20%20%20%20%20%20%20%20%20%20%20%20var%20marker_132d9a412038434a9464a69592178fa4%20%3D%20L.marker%28%0A%20%20%20%20%20%20%20%20%20%20%20%20%20%20%20%20%5B-22.8176456501308%2C%20-47.06884615405668%5D%2C%0A%20%20%20%20%20%20%20%20%20%20%20%20%20%20%20%20%7B%7D%0A%20%20%20%20%20%20%20%20%20%20%20%20%29.addTo%28map_c5814bb4a3ba4a4390cb8a4bf3c2b207%29%3B%0A%20%20%20%20%20%20%20%20%0A%20%20%20%20%0A%20%20%20%20%20%20%20%20%20%20%20%20var%20icon_03125f444b8c4c0fb113ca751298bd0b%20%3D%20L.AwesomeMarkers.icon%28%0A%20%20%20%20%20%20%20%20%20%20%20%20%20%20%20%20%7B%22extraClasses%22%3A%20%22fa-rotate-0%22%2C%20%22icon%22%3A%20%22info-sign%22%2C%20%22iconColor%22%3A%20%22white%22%2C%20%22markerColor%22%3A%20%22lightblue%22%2C%20%22prefix%22%3A%20%22glyphicon%22%7D%0A%20%20%20%20%20%20%20%20%20%20%20%20%29%3B%0A%20%20%20%20%20%20%20%20%20%20%20%20marker_132d9a412038434a9464a69592178fa4.setIcon%28icon_03125f444b8c4c0fb113ca751298bd0b%29%3B%0A%20%20%20%20%20%20%20%20%0A%20%20%20%20%0A%20%20%20%20%20%20%20%20var%20popup_1edd466dee8e41a1b26671efebe150a0%20%3D%20L.popup%28%7B%22maxWidth%22%3A%20%22100%25%22%7D%29%3B%0A%0A%20%20%20%20%20%20%20%20%0A%20%20%20%20%20%20%20%20%20%20%20%20var%20html_e3fb1f236121495db7690362c5a4b5f3%20%3D%20%24%28%60%3Cdiv%20id%3D%22html_e3fb1f236121495db7690362c5a4b5f3%22%20style%3D%22width%3A%20100.0%25%3B%20height%3A%20100.0%25%3B%22%3ELat%3A%20-22.8176456501308%2C%20Lng%3A%20-47.06884615405668%2C%20Rssi%3A%20-104.45%3C/div%3E%60%29%5B0%5D%3B%0A%20%20%20%20%20%20%20%20%20%20%20%20popup_1edd466dee8e41a1b26671efebe150a0.setContent%28html_e3fb1f236121495db7690362c5a4b5f3%29%3B%0A%20%20%20%20%20%20%20%20%0A%0A%20%20%20%20%20%20%20%20marker_132d9a412038434a9464a69592178fa4.bindPopup%28popup_1edd466dee8e41a1b26671efebe150a0%29%0A%20%20%20%20%20%20%20%20%3B%0A%0A%20%20%20%20%20%20%20%20%0A%20%20%20%20%0A%20%20%20%20%0A%20%20%20%20%20%20%20%20%20%20%20%20var%20marker_1acebd153f9240e6bdedf57b75735a6d%20%3D%20L.marker%28%0A%20%20%20%20%20%20%20%20%20%20%20%20%20%20%20%20%5B-22.81506817323086%2C%20-47.07122280371313%5D%2C%0A%20%20%20%20%20%20%20%20%20%20%20%20%20%20%20%20%7B%7D%0A%20%20%20%20%20%20%20%20%20%20%20%20%29.addTo%28map_c5814bb4a3ba4a4390cb8a4bf3c2b207%29%3B%0A%20%20%20%20%20%20%20%20%0A%20%20%20%20%0A%20%20%20%20%20%20%20%20%20%20%20%20var%20icon_20ba18f501cd4804a0322b482a6d6dec%20%3D%20L.AwesomeMarkers.icon%28%0A%20%20%20%20%20%20%20%20%20%20%20%20%20%20%20%20%7B%22extraClasses%22%3A%20%22fa-rotate-0%22%2C%20%22icon%22%3A%20%22info-sign%22%2C%20%22iconColor%22%3A%20%22white%22%2C%20%22markerColor%22%3A%20%22lightblue%22%2C%20%22prefix%22%3A%20%22glyphicon%22%7D%0A%20%20%20%20%20%20%20%20%20%20%20%20%29%3B%0A%20%20%20%20%20%20%20%20%20%20%20%20marker_1acebd153f9240e6bdedf57b75735a6d.setIcon%28icon_20ba18f501cd4804a0322b482a6d6dec%29%3B%0A%20%20%20%20%20%20%20%20%0A%20%20%20%20%0A%20%20%20%20%20%20%20%20var%20popup_0c31733402f14ec0ab99935f07c303e9%20%3D%20L.popup%28%7B%22maxWidth%22%3A%20%22100%25%22%7D%29%3B%0A%0A%20%20%20%20%20%20%20%20%0A%20%20%20%20%20%20%20%20%20%20%20%20var%20html_3759fbfdea7a4a41bff3a06ec2869fd2%20%3D%20%24%28%60%3Cdiv%20id%3D%22html_3759fbfdea7a4a41bff3a06ec2869fd2%22%20style%3D%22width%3A%20100.0%25%3B%20height%3A%20100.0%25%3B%22%3ELat%3A%20-22.81506817323086%2C%20Lng%3A%20-47.07122280371313%2C%20Rssi%3A%20-105.491%3C/div%3E%60%29%5B0%5D%3B%0A%20%20%20%20%20%20%20%20%20%20%20%20popup_0c31733402f14ec0ab99935f07c303e9.setContent%28html_3759fbfdea7a4a41bff3a06ec2869fd2%29%3B%0A%20%20%20%20%20%20%20%20%0A%0A%20%20%20%20%20%20%20%20marker_1acebd153f9240e6bdedf57b75735a6d.bindPopup%28popup_0c31733402f14ec0ab99935f07c303e9%29%0A%20%20%20%20%20%20%20%20%3B%0A%0A%20%20%20%20%20%20%20%20%0A%20%20%20%20%0A%20%20%20%20%0A%20%20%20%20%20%20%20%20%20%20%20%20var%20marker_5bf3fdd6a4754d839263c85419e3f96d%20%3D%20L.marker%28%0A%20%20%20%20%20%20%20%20%20%20%20%20%20%20%20%20%5B-22.82393493173468%2C%20-47.06617092032558%5D%2C%0A%20%20%20%20%20%20%20%20%20%20%20%20%20%20%20%20%7B%7D%0A%20%20%20%20%20%20%20%20%20%20%20%20%29.addTo%28map_c5814bb4a3ba4a4390cb8a4bf3c2b207%29%3B%0A%20%20%20%20%20%20%20%20%0A%20%20%20%20%0A%20%20%20%20%20%20%20%20%20%20%20%20var%20icon_2fbf7d28cf85460790ad317b8dd6ca03%20%3D%20L.AwesomeMarkers.icon%28%0A%20%20%20%20%20%20%20%20%20%20%20%20%20%20%20%20%7B%22extraClasses%22%3A%20%22fa-rotate-0%22%2C%20%22icon%22%3A%20%22info-sign%22%2C%20%22iconColor%22%3A%20%22white%22%2C%20%22markerColor%22%3A%20%22lightblue%22%2C%20%22prefix%22%3A%20%22glyphicon%22%7D%0A%20%20%20%20%20%20%20%20%20%20%20%20%29%3B%0A%20%20%20%20%20%20%20%20%20%20%20%20marker_5bf3fdd6a4754d839263c85419e3f96d.setIcon%28icon_2fbf7d28cf85460790ad317b8dd6ca03%29%3B%0A%20%20%20%20%20%20%20%20%0A%20%20%20%20%0A%20%20%20%20%20%20%20%20var%20popup_4cf66f20d76242aeb657c045f06f8fd5%20%3D%20L.popup%28%7B%22maxWidth%22%3A%20%22100%25%22%7D%29%3B%0A%0A%20%20%20%20%20%20%20%20%0A%20%20%20%20%20%20%20%20%20%20%20%20var%20html_cf80fd078421468f8513ae176a66eea3%20%3D%20%24%28%60%3Cdiv%20id%3D%22html_cf80fd078421468f8513ae176a66eea3%22%20style%3D%22width%3A%20100.0%25%3B%20height%3A%20100.0%25%3B%22%3ELat%3A%20-22.82393493173468%2C%20Lng%3A%20-47.06617092032558%2C%20Rssi%3A%20-103.272%3C/div%3E%60%29%5B0%5D%3B%0A%20%20%20%20%20%20%20%20%20%20%20%20popup_4cf66f20d76242aeb657c045f06f8fd5.setContent%28html_cf80fd078421468f8513ae176a66eea3%29%3B%0A%20%20%20%20%20%20%20%20%0A%0A%20%20%20%20%20%20%20%20marker_5bf3fdd6a4754d839263c85419e3f96d.bindPopup%28popup_4cf66f20d76242aeb657c045f06f8fd5%29%0A%20%20%20%20%20%20%20%20%3B%0A%0A%20%20%20%20%20%20%20%20%0A%20%20%20%20%0A%20%20%20%20%0A%20%20%20%20%20%20%20%20%20%20%20%20var%20marker_8587840ceb5d4f1e982775feec7c2992%20%3D%20L.marker%28%0A%20%20%20%20%20%20%20%20%20%20%20%20%20%20%20%20%5B-22.82386108264907%2C%20-47.06753773030155%5D%2C%0A%20%20%20%20%20%20%20%20%20%20%20%20%20%20%20%20%7B%7D%0A%20%20%20%20%20%20%20%20%20%20%20%20%29.addTo%28map_c5814bb4a3ba4a4390cb8a4bf3c2b207%29%3B%0A%20%20%20%20%20%20%20%20%0A%20%20%20%20%0A%20%20%20%20%20%20%20%20%20%20%20%20var%20icon_eba83a8aba7f4cebb96f043da0c4bd3e%20%3D%20L.AwesomeMarkers.icon%28%0A%20%20%20%20%20%20%20%20%20%20%20%20%20%20%20%20%7B%22extraClasses%22%3A%20%22fa-rotate-0%22%2C%20%22icon%22%3A%20%22info-sign%22%2C%20%22iconColor%22%3A%20%22white%22%2C%20%22markerColor%22%3A%20%22lightblue%22%2C%20%22prefix%22%3A%20%22glyphicon%22%7D%0A%20%20%20%20%20%20%20%20%20%20%20%20%29%3B%0A%20%20%20%20%20%20%20%20%20%20%20%20marker_8587840ceb5d4f1e982775feec7c2992.setIcon%28icon_eba83a8aba7f4cebb96f043da0c4bd3e%29%3B%0A%20%20%20%20%20%20%20%20%0A%20%20%20%20%0A%20%20%20%20%20%20%20%20var%20popup_3e2a9fe3fcf64057b4a2f5149f51c7aa%20%3D%20L.popup%28%7B%22maxWidth%22%3A%20%22100%25%22%7D%29%3B%0A%0A%20%20%20%20%20%20%20%20%0A%20%20%20%20%20%20%20%20%20%20%20%20var%20html_826ebfbf5c6f45b89650152b72aee397%20%3D%20%24%28%60%3Cdiv%20id%3D%22html_826ebfbf5c6f45b89650152b72aee397%22%20style%3D%22width%3A%20100.0%25%3B%20height%3A%20100.0%25%3B%22%3ELat%3A%20-22.82386108264907%2C%20Lng%3A%20-47.06753773030155%2C%20Rssi%3A%20-103.849%3C/div%3E%60%29%5B0%5D%3B%0A%20%20%20%20%20%20%20%20%20%20%20%20popup_3e2a9fe3fcf64057b4a2f5149f51c7aa.setContent%28html_826ebfbf5c6f45b89650152b72aee397%29%3B%0A%20%20%20%20%20%20%20%20%0A%0A%20%20%20%20%20%20%20%20marker_8587840ceb5d4f1e982775feec7c2992.bindPopup%28popup_3e2a9fe3fcf64057b4a2f5149f51c7aa%29%0A%20%20%20%20%20%20%20%20%3B%0A%0A%20%20%20%20%20%20%20%20%0A%20%20%20%20%0A%20%20%20%20%0A%20%20%20%20%20%20%20%20%20%20%20%20var%20marker_019fc3e1b0564884b088cdc2dcee9ecc%20%3D%20L.marker%28%0A%20%20%20%20%20%20%20%20%20%20%20%20%20%20%20%20%5B-22.82840759241185%2C%20-47.06186747418447%5D%2C%0A%20%20%20%20%20%20%20%20%20%20%20%20%20%20%20%20%7B%7D%0A%20%20%20%20%20%20%20%20%20%20%20%20%29.addTo%28map_c5814bb4a3ba4a4390cb8a4bf3c2b207%29%3B%0A%20%20%20%20%20%20%20%20%0A%20%20%20%20%0A%20%20%20%20%20%20%20%20%20%20%20%20var%20icon_be5be9e28f754970b5d1bd5cad5ac412%20%3D%20L.AwesomeMarkers.icon%28%0A%20%20%20%20%20%20%20%20%20%20%20%20%20%20%20%20%7B%22extraClasses%22%3A%20%22fa-rotate-0%22%2C%20%22icon%22%3A%20%22info-sign%22%2C%20%22iconColor%22%3A%20%22white%22%2C%20%22markerColor%22%3A%20%22lightblue%22%2C%20%22prefix%22%3A%20%22glyphicon%22%7D%0A%20%20%20%20%20%20%20%20%20%20%20%20%29%3B%0A%20%20%20%20%20%20%20%20%20%20%20%20marker_019fc3e1b0564884b088cdc2dcee9ecc.setIcon%28icon_be5be9e28f754970b5d1bd5cad5ac412%29%3B%0A%20%20%20%20%20%20%20%20%0A%20%20%20%20%0A%20%20%20%20%20%20%20%20var%20popup_ee0b63da20b7433c8757de02e40c56f2%20%3D%20L.popup%28%7B%22maxWidth%22%3A%20%22100%25%22%7D%29%3B%0A%0A%20%20%20%20%20%20%20%20%0A%20%20%20%20%20%20%20%20%20%20%20%20var%20html_5dd3c6fef1b741fa962f69ea5bcfdd8a%20%3D%20%24%28%60%3Cdiv%20id%3D%22html_5dd3c6fef1b741fa962f69ea5bcfdd8a%22%20style%3D%22width%3A%20100.0%25%3B%20height%3A%20100.0%25%3B%22%3ELat%3A%20-22.82840759241185%2C%20Lng%3A%20-47.06186747418447%2C%20Rssi%3A%20-101.579%3C/div%3E%60%29%5B0%5D%3B%0A%20%20%20%20%20%20%20%20%20%20%20%20popup_ee0b63da20b7433c8757de02e40c56f2.setContent%28html_5dd3c6fef1b741fa962f69ea5bcfdd8a%29%3B%0A%20%20%20%20%20%20%20%20%0A%0A%20%20%20%20%20%20%20%20marker_019fc3e1b0564884b088cdc2dcee9ecc.bindPopup%28popup_ee0b63da20b7433c8757de02e40c56f2%29%0A%20%20%20%20%20%20%20%20%3B%0A%0A%20%20%20%20%20%20%20%20%0A%20%20%20%20%0A%20%20%20%20%0A%20%20%20%20%20%20%20%20%20%20%20%20var%20marker_29c122b34531425680bd5df01a64b854%20%3D%20L.marker%28%0A%20%20%20%20%20%20%20%20%20%20%20%20%20%20%20%20%5B-22.8273396767669%2C%20-47.06144872987941%5D%2C%0A%20%20%20%20%20%20%20%20%20%20%20%20%20%20%20%20%7B%7D%0A%20%20%20%20%20%20%20%20%20%20%20%20%29.addTo%28map_c5814bb4a3ba4a4390cb8a4bf3c2b207%29%3B%0A%20%20%20%20%20%20%20%20%0A%20%20%20%20%0A%20%20%20%20%20%20%20%20%20%20%20%20var%20icon_627581f53a68450ba5c19e92ebc34e67%20%3D%20L.AwesomeMarkers.icon%28%0A%20%20%20%20%20%20%20%20%20%20%20%20%20%20%20%20%7B%22extraClasses%22%3A%20%22fa-rotate-0%22%2C%20%22icon%22%3A%20%22info-sign%22%2C%20%22iconColor%22%3A%20%22white%22%2C%20%22markerColor%22%3A%20%22lightblue%22%2C%20%22prefix%22%3A%20%22glyphicon%22%7D%0A%20%20%20%20%20%20%20%20%20%20%20%20%29%3B%0A%20%20%20%20%20%20%20%20%20%20%20%20marker_29c122b34531425680bd5df01a64b854.setIcon%28icon_627581f53a68450ba5c19e92ebc34e67%29%3B%0A%20%20%20%20%20%20%20%20%0A%20%20%20%20%0A%20%20%20%20%20%20%20%20var%20popup_f8fa92f5fd5d412da7686a1a2db9d8cf%20%3D%20L.popup%28%7B%22maxWidth%22%3A%20%22100%25%22%7D%29%3B%0A%0A%20%20%20%20%20%20%20%20%0A%20%20%20%20%20%20%20%20%20%20%20%20var%20html_5edc70451fac40cc908c37360e8fecbb%20%3D%20%24%28%60%3Cdiv%20id%3D%22html_5edc70451fac40cc908c37360e8fecbb%22%20style%3D%22width%3A%20100.0%25%3B%20height%3A%20100.0%25%3B%22%3ELat%3A%20-22.8273396767669%2C%20Lng%3A%20-47.06144872987941%2C%20Rssi%3A%20-101.441%3C/div%3E%60%29%5B0%5D%3B%0A%20%20%20%20%20%20%20%20%20%20%20%20popup_f8fa92f5fd5d412da7686a1a2db9d8cf.setContent%28html_5edc70451fac40cc908c37360e8fecbb%29%3B%0A%20%20%20%20%20%20%20%20%0A%0A%20%20%20%20%20%20%20%20marker_29c122b34531425680bd5df01a64b854.bindPopup%28popup_f8fa92f5fd5d412da7686a1a2db9d8cf%29%0A%20%20%20%20%20%20%20%20%3B%0A%0A%20%20%20%20%20%20%20%20%0A%20%20%20%20%0A%20%20%20%20%0A%20%20%20%20%20%20%20%20%20%20%20%20var%20marker_74d80150d82d44f88d27a98778df03f2%20%3D%20L.marker%28%0A%20%20%20%20%20%20%20%20%20%20%20%20%20%20%20%20%5B-22.82996331426923%2C%20-47.06404772458724%5D%2C%0A%20%20%20%20%20%20%20%20%20%20%20%20%20%20%20%20%7B%7D%0A%20%20%20%20%20%20%20%20%20%20%20%20%29.addTo%28map_c5814bb4a3ba4a4390cb8a4bf3c2b207%29%3B%0A%20%20%20%20%20%20%20%20%0A%20%20%20%20%0A%20%20%20%20%20%20%20%20%20%20%20%20var%20icon_e4fe7dc653c349929255ebf74ca7ccaf%20%3D%20L.AwesomeMarkers.icon%28%0A%20%20%20%20%20%20%20%20%20%20%20%20%20%20%20%20%7B%22extraClasses%22%3A%20%22fa-rotate-0%22%2C%20%22icon%22%3A%20%22info-sign%22%2C%20%22iconColor%22%3A%20%22white%22%2C%20%22markerColor%22%3A%20%22lightblue%22%2C%20%22prefix%22%3A%20%22glyphicon%22%7D%0A%20%20%20%20%20%20%20%20%20%20%20%20%29%3B%0A%20%20%20%20%20%20%20%20%20%20%20%20marker_74d80150d82d44f88d27a98778df03f2.setIcon%28icon_e4fe7dc653c349929255ebf74ca7ccaf%29%3B%0A%20%20%20%20%20%20%20%20%0A%20%20%20%20%0A%20%20%20%20%20%20%20%20var%20popup_94acd1f79f1b41c597df07b9a79503b7%20%3D%20L.popup%28%7B%22maxWidth%22%3A%20%22100%25%22%7D%29%3B%0A%0A%20%20%20%20%20%20%20%20%0A%20%20%20%20%20%20%20%20%20%20%20%20var%20html_d2e22b3c226040c88d61afe15b122283%20%3D%20%24%28%60%3Cdiv%20id%3D%22html_d2e22b3c226040c88d61afe15b122283%22%20style%3D%22width%3A%20100.0%25%3B%20height%3A%20100.0%25%3B%22%3ELat%3A%20-22.82996331426923%2C%20Lng%3A%20-47.06404772458724%2C%20Rssi%3A%20-102.376%3C/div%3E%60%29%5B0%5D%3B%0A%20%20%20%20%20%20%20%20%20%20%20%20popup_94acd1f79f1b41c597df07b9a79503b7.setContent%28html_d2e22b3c226040c88d61afe15b122283%29%3B%0A%20%20%20%20%20%20%20%20%0A%0A%20%20%20%20%20%20%20%20marker_74d80150d82d44f88d27a98778df03f2.bindPopup%28popup_94acd1f79f1b41c597df07b9a79503b7%29%0A%20%20%20%20%20%20%20%20%3B%0A%0A%20%20%20%20%20%20%20%20%0A%20%20%20%20%0A%20%20%20%20%0A%20%20%20%20%20%20%20%20%20%20%20%20var%20marker_685b966cadd84e75abf12d2608745335%20%3D%20L.marker%28%0A%20%20%20%20%20%20%20%20%20%20%20%20%20%20%20%20%5B-22.81536258272692%2C%20-47.0728795528978%5D%2C%0A%20%20%20%20%20%20%20%20%20%20%20%20%20%20%20%20%7B%7D%0A%20%20%20%20%20%20%20%20%20%20%20%20%29.addTo%28map_c5814bb4a3ba4a4390cb8a4bf3c2b207%29%3B%0A%20%20%20%20%20%20%20%20%0A%20%20%20%20%0A%20%20%20%20%20%20%20%20%20%20%20%20var%20icon_af89a0b9147a47e7adb4d05019475393%20%3D%20L.AwesomeMarkers.icon%28%0A%20%20%20%20%20%20%20%20%20%20%20%20%20%20%20%20%7B%22extraClasses%22%3A%20%22fa-rotate-0%22%2C%20%22icon%22%3A%20%22info-sign%22%2C%20%22iconColor%22%3A%20%22white%22%2C%20%22markerColor%22%3A%20%22lightblue%22%2C%20%22prefix%22%3A%20%22glyphicon%22%7D%0A%20%20%20%20%20%20%20%20%20%20%20%20%29%3B%0A%20%20%20%20%20%20%20%20%20%20%20%20marker_685b966cadd84e75abf12d2608745335.setIcon%28icon_af89a0b9147a47e7adb4d05019475393%29%3B%0A%20%20%20%20%20%20%20%20%0A%20%20%20%20%0A%20%20%20%20%20%20%20%20var%20popup_c373871f86d04df19674e1654c7e10b5%20%3D%20L.popup%28%7B%22maxWidth%22%3A%20%22100%25%22%7D%29%3B%0A%0A%20%20%20%20%20%20%20%20%0A%20%20%20%20%20%20%20%20%20%20%20%20var%20html_2ccc2e4036a447068810058e17c90c39%20%3D%20%24%28%60%3Cdiv%20id%3D%22html_2ccc2e4036a447068810058e17c90c39%22%20style%3D%22width%3A%20100.0%25%3B%20height%3A%20100.0%25%3B%22%3ELat%3A%20-22.81536258272692%2C%20Lng%3A%20-47.0728795528978%2C%20Rssi%3A%20-106.198%3C/div%3E%60%29%5B0%5D%3B%0A%20%20%20%20%20%20%20%20%20%20%20%20popup_c373871f86d04df19674e1654c7e10b5.setContent%28html_2ccc2e4036a447068810058e17c90c39%29%3B%0A%20%20%20%20%20%20%20%20%0A%0A%20%20%20%20%20%20%20%20marker_685b966cadd84e75abf12d2608745335.bindPopup%28popup_c373871f86d04df19674e1654c7e10b5%29%0A%20%20%20%20%20%20%20%20%3B%0A%0A%20%20%20%20%20%20%20%20%0A%20%20%20%20%0A%20%20%20%20%0A%20%20%20%20%20%20%20%20%20%20%20%20var%20marker_ddc7a059aa0d4455a5f2b44ccd0851ec%20%3D%20L.marker%28%0A%20%20%20%20%20%20%20%20%20%20%20%20%20%20%20%20%5B-22.83096072883751%2C%20-47.06335017986552%5D%2C%0A%20%20%20%20%20%20%20%20%20%20%20%20%20%20%20%20%7B%7D%0A%20%20%20%20%20%20%20%20%20%20%20%20%29.addTo%28map_c5814bb4a3ba4a4390cb8a4bf3c2b207%29%3B%0A%20%20%20%20%20%20%20%20%0A%20%20%20%20%0A%20%20%20%20%20%20%20%20%20%20%20%20var%20icon_0093c9f1f43f4132ad6bfb31d064f150%20%3D%20L.AwesomeMarkers.icon%28%0A%20%20%20%20%20%20%20%20%20%20%20%20%20%20%20%20%7B%22extraClasses%22%3A%20%22fa-rotate-0%22%2C%20%22icon%22%3A%20%22info-sign%22%2C%20%22iconColor%22%3A%20%22white%22%2C%20%22markerColor%22%3A%20%22lightblue%22%2C%20%22prefix%22%3A%20%22glyphicon%22%7D%0A%20%20%20%20%20%20%20%20%20%20%20%20%29%3B%0A%20%20%20%20%20%20%20%20%20%20%20%20marker_ddc7a059aa0d4455a5f2b44ccd0851ec.setIcon%28icon_0093c9f1f43f4132ad6bfb31d064f150%29%3B%0A%20%20%20%20%20%20%20%20%0A%20%20%20%20%0A%20%20%20%20%20%20%20%20var%20popup_b57e14253d6942f9a3f893cf7b1063fa%20%3D%20L.popup%28%7B%22maxWidth%22%3A%20%22100%25%22%7D%29%3B%0A%0A%20%20%20%20%20%20%20%20%0A%20%20%20%20%20%20%20%20%20%20%20%20var%20html_839918c6d7f44302a86a3fdbfa894e52%20%3D%20%24%28%60%3Cdiv%20id%3D%22html_839918c6d7f44302a86a3fdbfa894e52%22%20style%3D%22width%3A%20100.0%25%3B%20height%3A%20100.0%25%3B%22%3ELat%3A%20-22.83096072883751%2C%20Lng%3A%20-47.06335017986552%2C%20Rssi%3A%20-102.102%3C/div%3E%60%29%5B0%5D%3B%0A%20%20%20%20%20%20%20%20%20%20%20%20popup_b57e14253d6942f9a3f893cf7b1063fa.setContent%28html_839918c6d7f44302a86a3fdbfa894e52%29%3B%0A%20%20%20%20%20%20%20%20%0A%0A%20%20%20%20%20%20%20%20marker_ddc7a059aa0d4455a5f2b44ccd0851ec.bindPopup%28popup_b57e14253d6942f9a3f893cf7b1063fa%29%0A%20%20%20%20%20%20%20%20%3B%0A%0A%20%20%20%20%20%20%20%20%0A%20%20%20%20%0A%20%20%20%20%0A%20%20%20%20%20%20%20%20%20%20%20%20var%20marker_2429e439069447638a2cb1d85213d148%20%3D%20L.marker%28%0A%20%20%20%20%20%20%20%20%20%20%20%20%20%20%20%20%5B-22.81883627792137%2C%20-47.06061555601061%5D%2C%0A%20%20%20%20%20%20%20%20%20%20%20%20%20%20%20%20%7B%7D%0A%20%20%20%20%20%20%20%20%20%20%20%20%29.addTo%28map_c5814bb4a3ba4a4390cb8a4bf3c2b207%29%3B%0A%20%20%20%20%20%20%20%20%0A%20%20%20%20%0A%20%20%20%20%20%20%20%20%20%20%20%20var%20icon_aab8c8efa99240f196ab3ddcd73fe223%20%3D%20L.AwesomeMarkers.icon%28%0A%20%20%20%20%20%20%20%20%20%20%20%20%20%20%20%20%7B%22extraClasses%22%3A%20%22fa-rotate-0%22%2C%20%22icon%22%3A%20%22info-sign%22%2C%20%22iconColor%22%3A%20%22white%22%2C%20%22markerColor%22%3A%20%22lightblue%22%2C%20%22prefix%22%3A%20%22glyphicon%22%7D%0A%20%20%20%20%20%20%20%20%20%20%20%20%29%3B%0A%20%20%20%20%20%20%20%20%20%20%20%20marker_2429e439069447638a2cb1d85213d148.setIcon%28icon_aab8c8efa99240f196ab3ddcd73fe223%29%3B%0A%20%20%20%20%20%20%20%20%0A%20%20%20%20%0A%20%20%20%20%20%20%20%20var%20popup_68ef814c6bf04c36b9ad115aef9da4e9%20%3D%20L.popup%28%7B%22maxWidth%22%3A%20%22100%25%22%7D%29%3B%0A%0A%20%20%20%20%20%20%20%20%0A%20%20%20%20%20%20%20%20%20%20%20%20var%20html_c5f3ba2b4d564ef4b2f6a4812f5b82fd%20%3D%20%24%28%60%3Cdiv%20id%3D%22html_c5f3ba2b4d564ef4b2f6a4812f5b82fd%22%20style%3D%22width%3A%20100.0%25%3B%20height%3A%20100.0%25%3B%22%3ELat%3A%20-22.81883627792137%2C%20Lng%3A%20-47.06061555601061%2C%20Rssi%3A%20-101.211%3C/div%3E%60%29%5B0%5D%3B%0A%20%20%20%20%20%20%20%20%20%20%20%20popup_68ef814c6bf04c36b9ad115aef9da4e9.setContent%28html_c5f3ba2b4d564ef4b2f6a4812f5b82fd%29%3B%0A%20%20%20%20%20%20%20%20%0A%0A%20%20%20%20%20%20%20%20marker_2429e439069447638a2cb1d85213d148.bindPopup%28popup_68ef814c6bf04c36b9ad115aef9da4e9%29%0A%20%20%20%20%20%20%20%20%3B%0A%0A%20%20%20%20%20%20%20%20%0A%20%20%20%20%0A%20%20%20%20%0A%20%20%20%20%20%20%20%20%20%20%20%20var%20marker_4fb4635a846e4708ac2b97f8a5063471%20%3D%20L.marker%28%0A%20%20%20%20%20%20%20%20%20%20%20%20%20%20%20%20%5B-22.81642866763006%2C%20-47.06200737084524%5D%2C%0A%20%20%20%20%20%20%20%20%20%20%20%20%20%20%20%20%7B%7D%0A%20%20%20%20%20%20%20%20%20%20%20%20%29.addTo%28map_c5814bb4a3ba4a4390cb8a4bf3c2b207%29%3B%0A%20%20%20%20%20%20%20%20%0A%20%20%20%20%0A%20%20%20%20%20%20%20%20%20%20%20%20var%20icon_acc26027b495495a99acee5836cd130a%20%3D%20L.AwesomeMarkers.icon%28%0A%20%20%20%20%20%20%20%20%20%20%20%20%20%20%20%20%7B%22extraClasses%22%3A%20%22fa-rotate-0%22%2C%20%22icon%22%3A%20%22info-sign%22%2C%20%22iconColor%22%3A%20%22white%22%2C%20%22markerColor%22%3A%20%22lightblue%22%2C%20%22prefix%22%3A%20%22glyphicon%22%7D%0A%20%20%20%20%20%20%20%20%20%20%20%20%29%3B%0A%20%20%20%20%20%20%20%20%20%20%20%20marker_4fb4635a846e4708ac2b97f8a5063471.setIcon%28icon_acc26027b495495a99acee5836cd130a%29%3B%0A%20%20%20%20%20%20%20%20%0A%20%20%20%20%0A%20%20%20%20%20%20%20%20var%20popup_a9e7a56378de405dba35124e4f1137d3%20%3D%20L.popup%28%7B%22maxWidth%22%3A%20%22100%25%22%7D%29%3B%0A%0A%20%20%20%20%20%20%20%20%0A%20%20%20%20%20%20%20%20%20%20%20%20var%20html_5c69ec5c24334c099b7ba1ddfaea54a9%20%3D%20%24%28%60%3Cdiv%20id%3D%22html_5c69ec5c24334c099b7ba1ddfaea54a9%22%20style%3D%22width%3A%20100.0%25%3B%20height%3A%20100.0%25%3B%22%3ELat%3A%20-22.81642866763006%2C%20Lng%3A%20-47.06200737084524%2C%20Rssi%3A%20-101.691%3C/div%3E%60%29%5B0%5D%3B%0A%20%20%20%20%20%20%20%20%20%20%20%20popup_a9e7a56378de405dba35124e4f1137d3.setContent%28html_5c69ec5c24334c099b7ba1ddfaea54a9%29%3B%0A%20%20%20%20%20%20%20%20%0A%0A%20%20%20%20%20%20%20%20marker_4fb4635a846e4708ac2b97f8a5063471.bindPopup%28popup_a9e7a56378de405dba35124e4f1137d3%29%0A%20%20%20%20%20%20%20%20%3B%0A%0A%20%20%20%20%20%20%20%20%0A%20%20%20%20%0A%20%20%20%20%0A%20%20%20%20%20%20%20%20%20%20%20%20var%20marker_254d546b8a8c47fea22c434828b08c28%20%3D%20L.marker%28%0A%20%20%20%20%20%20%20%20%20%20%20%20%20%20%20%20%5B-22.82041670721943%2C%20-47.06747962546312%5D%2C%0A%20%20%20%20%20%20%20%20%20%20%20%20%20%20%20%20%7B%7D%0A%20%20%20%20%20%20%20%20%20%20%20%20%29.addTo%28map_c5814bb4a3ba4a4390cb8a4bf3c2b207%29%3B%0A%20%20%20%20%20%20%20%20%0A%20%20%20%20%0A%20%20%20%20%20%20%20%20%20%20%20%20var%20icon_aa9b145e062048cd9c8c2d59a0359156%20%3D%20L.AwesomeMarkers.icon%28%0A%20%20%20%20%20%20%20%20%20%20%20%20%20%20%20%20%7B%22extraClasses%22%3A%20%22fa-rotate-0%22%2C%20%22icon%22%3A%20%22info-sign%22%2C%20%22iconColor%22%3A%20%22white%22%2C%20%22markerColor%22%3A%20%22lightblue%22%2C%20%22prefix%22%3A%20%22glyphicon%22%7D%0A%20%20%20%20%20%20%20%20%20%20%20%20%29%3B%0A%20%20%20%20%20%20%20%20%20%20%20%20marker_254d546b8a8c47fea22c434828b08c28.setIcon%28icon_aa9b145e062048cd9c8c2d59a0359156%29%3B%0A%20%20%20%20%20%20%20%20%0A%20%20%20%20%0A%20%20%20%20%20%20%20%20var%20popup_a84d223c9a6046208ec95e01ec1a90bd%20%3D%20L.popup%28%7B%22maxWidth%22%3A%20%22100%25%22%7D%29%3B%0A%0A%20%20%20%20%20%20%20%20%0A%20%20%20%20%20%20%20%20%20%20%20%20var%20html_b141f92e3d4d4762885c3f9b91afa5fa%20%3D%20%24%28%60%3Cdiv%20id%3D%22html_b141f92e3d4d4762885c3f9b91afa5fa%22%20style%3D%22width%3A%20100.0%25%3B%20height%3A%20100.0%25%3B%22%3ELat%3A%20-22.82041670721943%2C%20Lng%3A%20-47.06747962546312%2C%20Rssi%3A%20-103.846%3C/div%3E%60%29%5B0%5D%3B%0A%20%20%20%20%20%20%20%20%20%20%20%20popup_a84d223c9a6046208ec95e01ec1a90bd.setContent%28html_b141f92e3d4d4762885c3f9b91afa5fa%29%3B%0A%20%20%20%20%20%20%20%20%0A%0A%20%20%20%20%20%20%20%20marker_254d546b8a8c47fea22c434828b08c28.bindPopup%28popup_a84d223c9a6046208ec95e01ec1a90bd%29%0A%20%20%20%20%20%20%20%20%3B%0A%0A%20%20%20%20%20%20%20%20%0A%20%20%20%20%0A%20%20%20%20%0A%20%20%20%20%20%20%20%20%20%20%20%20var%20marker_60324a2b2e98475bbc28a758dee8f7db%20%3D%20L.marker%28%0A%20%20%20%20%20%20%20%20%20%20%20%20%20%20%20%20%5B-22.82119794279166%2C%20-47.06623375692565%5D%2C%0A%20%20%20%20%20%20%20%20%20%20%20%20%20%20%20%20%7B%7D%0A%20%20%20%20%20%20%20%20%20%20%20%20%29.addTo%28map_c5814bb4a3ba4a4390cb8a4bf3c2b207%29%3B%0A%20%20%20%20%20%20%20%20%0A%20%20%20%20%0A%20%20%20%20%20%20%20%20%20%20%20%20var%20icon_530de64b1ec345fa87656786bdb6cdac%20%3D%20L.AwesomeMarkers.icon%28%0A%20%20%20%20%20%20%20%20%20%20%20%20%20%20%20%20%7B%22extraClasses%22%3A%20%22fa-rotate-0%22%2C%20%22icon%22%3A%20%22info-sign%22%2C%20%22iconColor%22%3A%20%22white%22%2C%20%22markerColor%22%3A%20%22lightblue%22%2C%20%22prefix%22%3A%20%22glyphicon%22%7D%0A%20%20%20%20%20%20%20%20%20%20%20%20%29%3B%0A%20%20%20%20%20%20%20%20%20%20%20%20marker_60324a2b2e98475bbc28a758dee8f7db.setIcon%28icon_530de64b1ec345fa87656786bdb6cdac%29%3B%0A%20%20%20%20%20%20%20%20%0A%20%20%20%20%0A%20%20%20%20%20%20%20%20var%20popup_3472466a0f6746b2b68772c9045b5b6d%20%3D%20L.popup%28%7B%22maxWidth%22%3A%20%22100%25%22%7D%29%3B%0A%0A%20%20%20%20%20%20%20%20%0A%20%20%20%20%20%20%20%20%20%20%20%20var%20html_05d549d0a2e14d5ca4de8b022adf612c%20%3D%20%24%28%60%3Cdiv%20id%3D%22html_05d549d0a2e14d5ca4de8b022adf612c%22%20style%3D%22width%3A%20100.0%25%3B%20height%3A%20100.0%25%3B%22%3ELat%3A%20-22.82119794279166%2C%20Lng%3A%20-47.06623375692565%2C%20Rssi%3A%20-103.316%3C/div%3E%60%29%5B0%5D%3B%0A%20%20%20%20%20%20%20%20%20%20%20%20popup_3472466a0f6746b2b68772c9045b5b6d.setContent%28html_05d549d0a2e14d5ca4de8b022adf612c%29%3B%0A%20%20%20%20%20%20%20%20%0A%0A%20%20%20%20%20%20%20%20marker_60324a2b2e98475bbc28a758dee8f7db.bindPopup%28popup_3472466a0f6746b2b68772c9045b5b6d%29%0A%20%20%20%20%20%20%20%20%3B%0A%0A%20%20%20%20%20%20%20%20%0A%20%20%20%20%0A%20%20%20%20%0A%20%20%20%20%20%20%20%20%20%20%20%20var%20marker_890a78fa4cd94807970570dbc201fd67%20%3D%20L.marker%28%0A%20%20%20%20%20%20%20%20%20%20%20%20%20%20%20%20%5B-22.81946357242083%2C%20-47.06594370942929%5D%2C%0A%20%20%20%20%20%20%20%20%20%20%20%20%20%20%20%20%7B%7D%0A%20%20%20%20%20%20%20%20%20%20%20%20%29.addTo%28map_c5814bb4a3ba4a4390cb8a4bf3c2b207%29%3B%0A%20%20%20%20%20%20%20%20%0A%20%20%20%20%0A%20%20%20%20%20%20%20%20%20%20%20%20var%20icon_026918b6a21c4b178da35e097bcbab2b%20%3D%20L.AwesomeMarkers.icon%28%0A%20%20%20%20%20%20%20%20%20%20%20%20%20%20%20%20%7B%22extraClasses%22%3A%20%22fa-rotate-0%22%2C%20%22icon%22%3A%20%22info-sign%22%2C%20%22iconColor%22%3A%20%22white%22%2C%20%22markerColor%22%3A%20%22lightblue%22%2C%20%22prefix%22%3A%20%22glyphicon%22%7D%0A%20%20%20%20%20%20%20%20%20%20%20%20%29%3B%0A%20%20%20%20%20%20%20%20%20%20%20%20marker_890a78fa4cd94807970570dbc201fd67.setIcon%28icon_026918b6a21c4b178da35e097bcbab2b%29%3B%0A%20%20%20%20%20%20%20%20%0A%20%20%20%20%0A%20%20%20%20%20%20%20%20var%20popup_ed07ad0ec2e44aa0ab349efaff20f72b%20%3D%20L.popup%28%7B%22maxWidth%22%3A%20%22100%25%22%7D%29%3B%0A%0A%20%20%20%20%20%20%20%20%0A%20%20%20%20%20%20%20%20%20%20%20%20var%20html_d67fdc8737974be7b0549f04b55eeb37%20%3D%20%24%28%60%3Cdiv%20id%3D%22html_d67fdc8737974be7b0549f04b55eeb37%22%20style%3D%22width%3A%20100.0%25%3B%20height%3A%20100.0%25%3B%22%3ELat%3A%20-22.81946357242083%2C%20Lng%3A%20-47.06594370942929%2C%20Rssi%3A%20-103.206%3C/div%3E%60%29%5B0%5D%3B%0A%20%20%20%20%20%20%20%20%20%20%20%20popup_ed07ad0ec2e44aa0ab349efaff20f72b.setContent%28html_d67fdc8737974be7b0549f04b55eeb37%29%3B%0A%20%20%20%20%20%20%20%20%0A%0A%20%20%20%20%20%20%20%20marker_890a78fa4cd94807970570dbc201fd67.bindPopup%28popup_ed07ad0ec2e44aa0ab349efaff20f72b%29%0A%20%20%20%20%20%20%20%20%3B%0A%0A%20%20%20%20%20%20%20%20%0A%20%20%20%20%0A%20%20%20%20%0A%20%20%20%20%20%20%20%20%20%20%20%20var%20marker_bb12909eb8724d8f8cd53058a4c3684b%20%3D%20L.marker%28%0A%20%20%20%20%20%20%20%20%20%20%20%20%20%20%20%20%5B-22.82058803039477%2C%20-47.06490757596987%5D%2C%0A%20%20%20%20%20%20%20%20%20%20%20%20%20%20%20%20%7B%7D%0A%20%20%20%20%20%20%20%20%20%20%20%20%29.addTo%28map_c5814bb4a3ba4a4390cb8a4bf3c2b207%29%3B%0A%20%20%20%20%20%20%20%20%0A%20%20%20%20%0A%20%20%20%20%20%20%20%20%20%20%20%20var%20icon_08d0b1eef8bc4b9e9bb64571f26462cf%20%3D%20L.AwesomeMarkers.icon%28%0A%20%20%20%20%20%20%20%20%20%20%20%20%20%20%20%20%7B%22extraClasses%22%3A%20%22fa-rotate-0%22%2C%20%22icon%22%3A%20%22info-sign%22%2C%20%22iconColor%22%3A%20%22white%22%2C%20%22markerColor%22%3A%20%22lightblue%22%2C%20%22prefix%22%3A%20%22glyphicon%22%7D%0A%20%20%20%20%20%20%20%20%20%20%20%20%29%3B%0A%20%20%20%20%20%20%20%20%20%20%20%20marker_bb12909eb8724d8f8cd53058a4c3684b.setIcon%28icon_08d0b1eef8bc4b9e9bb64571f26462cf%29%3B%0A%20%20%20%20%20%20%20%20%0A%20%20%20%20%0A%20%20%20%20%20%20%20%20var%20popup_aa1b0574b6d04f29b8b1ce88e10c0e4f%20%3D%20L.popup%28%7B%22maxWidth%22%3A%20%22100%25%22%7D%29%3B%0A%0A%20%20%20%20%20%20%20%20%0A%20%20%20%20%20%20%20%20%20%20%20%20var%20html_0a723e035baf4a378168918967610e6b%20%3D%20%24%28%60%3Cdiv%20id%3D%22html_0a723e035baf4a378168918967610e6b%22%20style%3D%22width%3A%20100.0%25%3B%20height%3A%20100.0%25%3B%22%3ELat%3A%20-22.82058803039477%2C%20Lng%3A%20-47.06490757596987%2C%20Rssi%3A%20-102.774%3C/div%3E%60%29%5B0%5D%3B%0A%20%20%20%20%20%20%20%20%20%20%20%20popup_aa1b0574b6d04f29b8b1ce88e10c0e4f.setContent%28html_0a723e035baf4a378168918967610e6b%29%3B%0A%20%20%20%20%20%20%20%20%0A%0A%20%20%20%20%20%20%20%20marker_bb12909eb8724d8f8cd53058a4c3684b.bindPopup%28popup_aa1b0574b6d04f29b8b1ce88e10c0e4f%29%0A%20%20%20%20%20%20%20%20%3B%0A%0A%20%20%20%20%20%20%20%20%0A%20%20%20%20%0A%20%20%20%20%0A%20%20%20%20%20%20%20%20%20%20%20%20var%20marker_b71d28320b6d44c59e160fe7eb4bd505%20%3D%20L.marker%28%0A%20%20%20%20%20%20%20%20%20%20%20%20%20%20%20%20%5B-22.81187430269656%2C%20-47.06667391119723%5D%2C%0A%20%20%20%20%20%20%20%20%20%20%20%20%20%20%20%20%7B%7D%0A%20%20%20%20%20%20%20%20%20%20%20%20%29.addTo%28map_c5814bb4a3ba4a4390cb8a4bf3c2b207%29%3B%0A%20%20%20%20%20%20%20%20%0A%20%20%20%20%0A%20%20%20%20%20%20%20%20%20%20%20%20var%20icon_ae555287c02045f08d18a289b6524dbe%20%3D%20L.AwesomeMarkers.icon%28%0A%20%20%20%20%20%20%20%20%20%20%20%20%20%20%20%20%7B%22extraClasses%22%3A%20%22fa-rotate-0%22%2C%20%22icon%22%3A%20%22info-sign%22%2C%20%22iconColor%22%3A%20%22white%22%2C%20%22markerColor%22%3A%20%22lightblue%22%2C%20%22prefix%22%3A%20%22glyphicon%22%7D%0A%20%20%20%20%20%20%20%20%20%20%20%20%29%3B%0A%20%20%20%20%20%20%20%20%20%20%20%20marker_b71d28320b6d44c59e160fe7eb4bd505.setIcon%28icon_ae555287c02045f08d18a289b6524dbe%29%3B%0A%20%20%20%20%20%20%20%20%0A%20%20%20%20%0A%20%20%20%20%20%20%20%20var%20popup_1895729e38c74191b57cb775c8260005%20%3D%20L.popup%28%7B%22maxWidth%22%3A%20%22100%25%22%7D%29%3B%0A%0A%20%20%20%20%20%20%20%20%0A%20%20%20%20%20%20%20%20%20%20%20%20var%20html_2f2ee6660ffd4b7f8bcb6018235ff7bc%20%3D%20%24%28%60%3Cdiv%20id%3D%22html_2f2ee6660ffd4b7f8bcb6018235ff7bc%22%20style%3D%22width%3A%20100.0%25%3B%20height%3A%20100.0%25%3B%22%3ELat%3A%20-22.81187430269656%2C%20Lng%3A%20-47.06667391119723%2C%20Rssi%3A%20-103.559%3C/div%3E%60%29%5B0%5D%3B%0A%20%20%20%20%20%20%20%20%20%20%20%20popup_1895729e38c74191b57cb775c8260005.setContent%28html_2f2ee6660ffd4b7f8bcb6018235ff7bc%29%3B%0A%20%20%20%20%20%20%20%20%0A%0A%20%20%20%20%20%20%20%20marker_b71d28320b6d44c59e160fe7eb4bd505.bindPopup%28popup_1895729e38c74191b57cb775c8260005%29%0A%20%20%20%20%20%20%20%20%3B%0A%0A%20%20%20%20%20%20%20%20%0A%20%20%20%20%0A%20%20%20%20%0A%20%20%20%20%20%20%20%20%20%20%20%20var%20marker_ef52459fc3fb4d54a5fe24045b9b5841%20%3D%20L.marker%28%0A%20%20%20%20%20%20%20%20%20%20%20%20%20%20%20%20%5B-22.82428622451636%2C%20-47.06705183968418%5D%2C%0A%20%20%20%20%20%20%20%20%20%20%20%20%20%20%20%20%7B%7D%0A%20%20%20%20%20%20%20%20%20%20%20%20%29.addTo%28map_c5814bb4a3ba4a4390cb8a4bf3c2b207%29%3B%0A%20%20%20%20%20%20%20%20%0A%20%20%20%20%0A%20%20%20%20%20%20%20%20%20%20%20%20var%20icon_865f497287db4efbb732c18bbf592df4%20%3D%20L.AwesomeMarkers.icon%28%0A%20%20%20%20%20%20%20%20%20%20%20%20%20%20%20%20%7B%22extraClasses%22%3A%20%22fa-rotate-0%22%2C%20%22icon%22%3A%20%22info-sign%22%2C%20%22iconColor%22%3A%20%22white%22%2C%20%22markerColor%22%3A%20%22lightblue%22%2C%20%22prefix%22%3A%20%22glyphicon%22%7D%0A%20%20%20%20%20%20%20%20%20%20%20%20%29%3B%0A%20%20%20%20%20%20%20%20%20%20%20%20marker_ef52459fc3fb4d54a5fe24045b9b5841.setIcon%28icon_865f497287db4efbb732c18bbf592df4%29%3B%0A%20%20%20%20%20%20%20%20%0A%20%20%20%20%0A%20%20%20%20%20%20%20%20var%20popup_ae1409745822471092193e91b86ee93f%20%3D%20L.popup%28%7B%22maxWidth%22%3A%20%22100%25%22%7D%29%3B%0A%0A%20%20%20%20%20%20%20%20%0A%20%20%20%20%20%20%20%20%20%20%20%20var%20html_76713612c435473c82111229cc5bc344%20%3D%20%24%28%60%3Cdiv%20id%3D%22html_76713612c435473c82111229cc5bc344%22%20style%3D%22width%3A%20100.0%25%3B%20height%3A%20100.0%25%3B%22%3ELat%3A%20-22.82428622451636%2C%20Lng%3A%20-47.06705183968418%2C%20Rssi%3A%20-103.64%3C/div%3E%60%29%5B0%5D%3B%0A%20%20%20%20%20%20%20%20%20%20%20%20popup_ae1409745822471092193e91b86ee93f.setContent%28html_76713612c435473c82111229cc5bc344%29%3B%0A%20%20%20%20%20%20%20%20%0A%0A%20%20%20%20%20%20%20%20marker_ef52459fc3fb4d54a5fe24045b9b5841.bindPopup%28popup_ae1409745822471092193e91b86ee93f%29%0A%20%20%20%20%20%20%20%20%3B%0A%0A%20%20%20%20%20%20%20%20%0A%20%20%20%20%0A%20%20%20%20%0A%20%20%20%20%20%20%20%20%20%20%20%20var%20marker_1ed775a49365464aacfd3616a062d13e%20%3D%20L.marker%28%0A%20%20%20%20%20%20%20%20%20%20%20%20%20%20%20%20%5B-22.82384365773027%2C%20-47.06400728650969%5D%2C%0A%20%20%20%20%20%20%20%20%20%20%20%20%20%20%20%20%7B%7D%0A%20%20%20%20%20%20%20%20%20%20%20%20%29.addTo%28map_c5814bb4a3ba4a4390cb8a4bf3c2b207%29%3B%0A%20%20%20%20%20%20%20%20%0A%20%20%20%20%0A%20%20%20%20%20%20%20%20%20%20%20%20var%20icon_94fe0335857e481fa67ffb9d64fbc34d%20%3D%20L.AwesomeMarkers.icon%28%0A%20%20%20%20%20%20%20%20%20%20%20%20%20%20%20%20%7B%22extraClasses%22%3A%20%22fa-rotate-0%22%2C%20%22icon%22%3A%20%22info-sign%22%2C%20%22iconColor%22%3A%20%22white%22%2C%20%22markerColor%22%3A%20%22lightblue%22%2C%20%22prefix%22%3A%20%22glyphicon%22%7D%0A%20%20%20%20%20%20%20%20%20%20%20%20%29%3B%0A%20%20%20%20%20%20%20%20%20%20%20%20marker_1ed775a49365464aacfd3616a062d13e.setIcon%28icon_94fe0335857e481fa67ffb9d64fbc34d%29%3B%0A%20%20%20%20%20%20%20%20%0A%20%20%20%20%0A%20%20%20%20%20%20%20%20var%20popup_6c8cee78f685419cb019a75cedb20fd3%20%3D%20L.popup%28%7B%22maxWidth%22%3A%20%22100%25%22%7D%29%3B%0A%0A%20%20%20%20%20%20%20%20%0A%20%20%20%20%20%20%20%20%20%20%20%20var%20html_e3f9406fdbfa4748bd8f889b590c8da1%20%3D%20%24%28%60%3Cdiv%20id%3D%22html_e3f9406fdbfa4748bd8f889b590c8da1%22%20style%3D%22width%3A%20100.0%25%3B%20height%3A%20100.0%25%3B%22%3ELat%3A%20-22.82384365773027%2C%20Lng%3A%20-47.06400728650969%2C%20Rssi%3A%20-102.396%3C/div%3E%60%29%5B0%5D%3B%0A%20%20%20%20%20%20%20%20%20%20%20%20popup_6c8cee78f685419cb019a75cedb20fd3.setContent%28html_e3f9406fdbfa4748bd8f889b590c8da1%29%3B%0A%20%20%20%20%20%20%20%20%0A%0A%20%20%20%20%20%20%20%20marker_1ed775a49365464aacfd3616a062d13e.bindPopup%28popup_6c8cee78f685419cb019a75cedb20fd3%29%0A%20%20%20%20%20%20%20%20%3B%0A%0A%20%20%20%20%20%20%20%20%0A%20%20%20%20%0A%20%20%20%20%0A%20%20%20%20%20%20%20%20%20%20%20%20var%20marker_7ac77fc9b48b418aacdd7706cedce882%20%3D%20L.marker%28%0A%20%20%20%20%20%20%20%20%20%20%20%20%20%20%20%20%5B-22.82640533371841%2C%20-47.06430825896828%5D%2C%0A%20%20%20%20%20%20%20%20%20%20%20%20%20%20%20%20%7B%7D%0A%20%20%20%20%20%20%20%20%20%20%20%20%29.addTo%28map_c5814bb4a3ba4a4390cb8a4bf3c2b207%29%3B%0A%20%20%20%20%20%20%20%20%0A%20%20%20%20%0A%20%20%20%20%20%20%20%20%20%20%20%20var%20icon_9bec50aeba7f46b4b88c24334f1db3c5%20%3D%20L.AwesomeMarkers.icon%28%0A%20%20%20%20%20%20%20%20%20%20%20%20%20%20%20%20%7B%22extraClasses%22%3A%20%22fa-rotate-0%22%2C%20%22icon%22%3A%20%22info-sign%22%2C%20%22iconColor%22%3A%20%22white%22%2C%20%22markerColor%22%3A%20%22lightblue%22%2C%20%22prefix%22%3A%20%22glyphicon%22%7D%0A%20%20%20%20%20%20%20%20%20%20%20%20%29%3B%0A%20%20%20%20%20%20%20%20%20%20%20%20marker_7ac77fc9b48b418aacdd7706cedce882.setIcon%28icon_9bec50aeba7f46b4b88c24334f1db3c5%29%3B%0A%20%20%20%20%20%20%20%20%0A%20%20%20%20%0A%20%20%20%20%20%20%20%20var%20popup_d2d4a637a32a4192b3ec4e1fe9c1031a%20%3D%20L.popup%28%7B%22maxWidth%22%3A%20%22100%25%22%7D%29%3B%0A%0A%20%20%20%20%20%20%20%20%0A%20%20%20%20%20%20%20%20%20%20%20%20var%20html_fc0bc2fc936d4e8695cbad9809e36596%20%3D%20%24%28%60%3Cdiv%20id%3D%22html_fc0bc2fc936d4e8695cbad9809e36596%22%20style%3D%22width%3A%20100.0%25%3B%20height%3A%20100.0%25%3B%22%3ELat%3A%20-22.82640533371841%2C%20Lng%3A%20-47.06430825896828%2C%20Rssi%3A%20-102.499%3C/div%3E%60%29%5B0%5D%3B%0A%20%20%20%20%20%20%20%20%20%20%20%20popup_d2d4a637a32a4192b3ec4e1fe9c1031a.setContent%28html_fc0bc2fc936d4e8695cbad9809e36596%29%3B%0A%20%20%20%20%20%20%20%20%0A%0A%20%20%20%20%20%20%20%20marker_7ac77fc9b48b418aacdd7706cedce882.bindPopup%28popup_d2d4a637a32a4192b3ec4e1fe9c1031a%29%0A%20%20%20%20%20%20%20%20%3B%0A%0A%20%20%20%20%20%20%20%20%0A%20%20%20%20%0A%20%20%20%20%0A%20%20%20%20%20%20%20%20%20%20%20%20var%20marker_73db9d978e6b41bf891acd03cf440e0b%20%3D%20L.marker%28%0A%20%20%20%20%20%20%20%20%20%20%20%20%20%20%20%20%5B-22.81528722423836%2C%20-47.07010821668231%5D%2C%0A%20%20%20%20%20%20%20%20%20%20%20%20%20%20%20%20%7B%7D%0A%20%20%20%20%20%20%20%20%20%20%20%20%29.addTo%28map_c5814bb4a3ba4a4390cb8a4bf3c2b207%29%3B%0A%20%20%20%20%20%20%20%20%0A%20%20%20%20%0A%20%20%20%20%20%20%20%20%20%20%20%20var%20icon_e4def91c499148078a305077cfe769ee%20%3D%20L.AwesomeMarkers.icon%28%0A%20%20%20%20%20%20%20%20%20%20%20%20%20%20%20%20%7B%22extraClasses%22%3A%20%22fa-rotate-0%22%2C%20%22icon%22%3A%20%22info-sign%22%2C%20%22iconColor%22%3A%20%22white%22%2C%20%22markerColor%22%3A%20%22lightblue%22%2C%20%22prefix%22%3A%20%22glyphicon%22%7D%0A%20%20%20%20%20%20%20%20%20%20%20%20%29%3B%0A%20%20%20%20%20%20%20%20%20%20%20%20marker_73db9d978e6b41bf891acd03cf440e0b.setIcon%28icon_e4def91c499148078a305077cfe769ee%29%3B%0A%20%20%20%20%20%20%20%20%0A%20%20%20%20%0A%20%20%20%20%20%20%20%20var%20popup_6add6b2fdc9f4700983d085bfc790d2d%20%3D%20L.popup%28%7B%22maxWidth%22%3A%20%22100%25%22%7D%29%3B%0A%0A%20%20%20%20%20%20%20%20%0A%20%20%20%20%20%20%20%20%20%20%20%20var%20html_34d4f2833f6b492ea9d9bcb88fd18a87%20%3D%20%24%28%60%3Cdiv%20id%3D%22html_34d4f2833f6b492ea9d9bcb88fd18a87%22%20style%3D%22width%3A%20100.0%25%3B%20height%3A%20100.0%25%3B%22%3ELat%3A%20-22.81528722423836%2C%20Lng%3A%20-47.07010821668231%2C%20Rssi%3A%20-105.009%3C/div%3E%60%29%5B0%5D%3B%0A%20%20%20%20%20%20%20%20%20%20%20%20popup_6add6b2fdc9f4700983d085bfc790d2d.setContent%28html_34d4f2833f6b492ea9d9bcb88fd18a87%29%3B%0A%20%20%20%20%20%20%20%20%0A%0A%20%20%20%20%20%20%20%20marker_73db9d978e6b41bf891acd03cf440e0b.bindPopup%28popup_6add6b2fdc9f4700983d085bfc790d2d%29%0A%20%20%20%20%20%20%20%20%3B%0A%0A%20%20%20%20%20%20%20%20%0A%20%20%20%20%0A%20%20%20%20%0A%20%20%20%20%20%20%20%20%20%20%20%20var%20marker_b1f13cb7350148d8b84b471034af5c43%20%3D%20L.marker%28%0A%20%20%20%20%20%20%20%20%20%20%20%20%20%20%20%20%5B-22.81903955890325%2C%20-47.07010962092847%5D%2C%0A%20%20%20%20%20%20%20%20%20%20%20%20%20%20%20%20%7B%7D%0A%20%20%20%20%20%20%20%20%20%20%20%20%29.addTo%28map_c5814bb4a3ba4a4390cb8a4bf3c2b207%29%3B%0A%20%20%20%20%20%20%20%20%0A%20%20%20%20%0A%20%20%20%20%20%20%20%20%20%20%20%20var%20icon_f9c72095fedf4e20a44df2fadd9bc7f6%20%3D%20L.AwesomeMarkers.icon%28%0A%20%20%20%20%20%20%20%20%20%20%20%20%20%20%20%20%7B%22extraClasses%22%3A%20%22fa-rotate-0%22%2C%20%22icon%22%3A%20%22info-sign%22%2C%20%22iconColor%22%3A%20%22white%22%2C%20%22markerColor%22%3A%20%22lightblue%22%2C%20%22prefix%22%3A%20%22glyphicon%22%7D%0A%20%20%20%20%20%20%20%20%20%20%20%20%29%3B%0A%20%20%20%20%20%20%20%20%20%20%20%20marker_b1f13cb7350148d8b84b471034af5c43.setIcon%28icon_f9c72095fedf4e20a44df2fadd9bc7f6%29%3B%0A%20%20%20%20%20%20%20%20%0A%20%20%20%20%0A%20%20%20%20%20%20%20%20var%20popup_571e523c44e2458b8ce09542864c2d4b%20%3D%20L.popup%28%7B%22maxWidth%22%3A%20%22100%25%22%7D%29%3B%0A%0A%20%20%20%20%20%20%20%20%0A%20%20%20%20%20%20%20%20%20%20%20%20var%20html_7b7b3dd2a61e4323ad3eeb1a8df5b0b4%20%3D%20%24%28%60%3Cdiv%20id%3D%22html_7b7b3dd2a61e4323ad3eeb1a8df5b0b4%22%20style%3D%22width%3A%20100.0%25%3B%20height%3A%20100.0%25%3B%22%3ELat%3A%20-22.81903955890325%2C%20Lng%3A%20-47.07010962092847%2C%20Rssi%3A%20-104.985%3C/div%3E%60%29%5B0%5D%3B%0A%20%20%20%20%20%20%20%20%20%20%20%20popup_571e523c44e2458b8ce09542864c2d4b.setContent%28html_7b7b3dd2a61e4323ad3eeb1a8df5b0b4%29%3B%0A%20%20%20%20%20%20%20%20%0A%0A%20%20%20%20%20%20%20%20marker_b1f13cb7350148d8b84b471034af5c43.bindPopup%28popup_571e523c44e2458b8ce09542864c2d4b%29%0A%20%20%20%20%20%20%20%20%3B%0A%0A%20%20%20%20%20%20%20%20%0A%20%20%20%20%0A%20%20%20%20%0A%20%20%20%20%20%20%20%20%20%20%20%20var%20marker_048cced93685454bad9910218af0abc4%20%3D%20L.marker%28%0A%20%20%20%20%20%20%20%20%20%20%20%20%20%20%20%20%5B-22.81475094222973%2C%20-47.06482074503554%5D%2C%0A%20%20%20%20%20%20%20%20%20%20%20%20%20%20%20%20%7B%7D%0A%20%20%20%20%20%20%20%20%20%20%20%20%29.addTo%28map_c5814bb4a3ba4a4390cb8a4bf3c2b207%29%3B%0A%20%20%20%20%20%20%20%20%0A%20%20%20%20%0A%20%20%20%20%20%20%20%20%20%20%20%20var%20icon_d6118d9bf51b4bb7881c97ae583109bc%20%3D%20L.AwesomeMarkers.icon%28%0A%20%20%20%20%20%20%20%20%20%20%20%20%20%20%20%20%7B%22extraClasses%22%3A%20%22fa-rotate-0%22%2C%20%22icon%22%3A%20%22info-sign%22%2C%20%22iconColor%22%3A%20%22white%22%2C%20%22markerColor%22%3A%20%22lightblue%22%2C%20%22prefix%22%3A%20%22glyphicon%22%7D%0A%20%20%20%20%20%20%20%20%20%20%20%20%29%3B%0A%20%20%20%20%20%20%20%20%20%20%20%20marker_048cced93685454bad9910218af0abc4.setIcon%28icon_d6118d9bf51b4bb7881c97ae583109bc%29%3B%0A%20%20%20%20%20%20%20%20%0A%20%20%20%20%0A%20%20%20%20%20%20%20%20var%20popup_c2779f86f6e64aa8ba0736794d054edc%20%3D%20L.popup%28%7B%22maxWidth%22%3A%20%22100%25%22%7D%29%3B%0A%0A%20%20%20%20%20%20%20%20%0A%20%20%20%20%20%20%20%20%20%20%20%20var%20html_c97a5ee0c39940e8ae4512f1913fed78%20%3D%20%24%28%60%3Cdiv%20id%3D%22html_c97a5ee0c39940e8ae4512f1913fed78%22%20style%3D%22width%3A%20100.0%25%3B%20height%3A%20100.0%25%3B%22%3ELat%3A%20-22.81475094222973%2C%20Lng%3A%20-47.06482074503554%2C%20Rssi%3A%20-102.774%3C/div%3E%60%29%5B0%5D%3B%0A%20%20%20%20%20%20%20%20%20%20%20%20popup_c2779f86f6e64aa8ba0736794d054edc.setContent%28html_c97a5ee0c39940e8ae4512f1913fed78%29%3B%0A%20%20%20%20%20%20%20%20%0A%0A%20%20%20%20%20%20%20%20marker_048cced93685454bad9910218af0abc4.bindPopup%28popup_c2779f86f6e64aa8ba0736794d054edc%29%0A%20%20%20%20%20%20%20%20%3B%0A%0A%20%20%20%20%20%20%20%20%0A%20%20%20%20%0A%20%20%20%20%0A%20%20%20%20%20%20%20%20%20%20%20%20var%20marker_4f3eb9680c65454e8377ad141f9609e0%20%3D%20L.marker%28%0A%20%20%20%20%20%20%20%20%20%20%20%20%20%20%20%20%5B-22.814680826242%2C%20-47.0691606458217%5D%2C%0A%20%20%20%20%20%20%20%20%20%20%20%20%20%20%20%20%7B%7D%0A%20%20%20%20%20%20%20%20%20%20%20%20%29.addTo%28map_c5814bb4a3ba4a4390cb8a4bf3c2b207%29%3B%0A%20%20%20%20%20%20%20%20%0A%20%20%20%20%0A%20%20%20%20%20%20%20%20%20%20%20%20var%20icon_6b7e7902b4d448428ef07e2ac74adef1%20%3D%20L.AwesomeMarkers.icon%28%0A%20%20%20%20%20%20%20%20%20%20%20%20%20%20%20%20%7B%22extraClasses%22%3A%20%22fa-rotate-0%22%2C%20%22icon%22%3A%20%22info-sign%22%2C%20%22iconColor%22%3A%20%22white%22%2C%20%22markerColor%22%3A%20%22lightblue%22%2C%20%22prefix%22%3A%20%22glyphicon%22%7D%0A%20%20%20%20%20%20%20%20%20%20%20%20%29%3B%0A%20%20%20%20%20%20%20%20%20%20%20%20marker_4f3eb9680c65454e8377ad141f9609e0.setIcon%28icon_6b7e7902b4d448428ef07e2ac74adef1%29%3B%0A%20%20%20%20%20%20%20%20%0A%20%20%20%20%0A%20%20%20%20%20%20%20%20var%20popup_e9d404e687014bdab2fb7685772d3e4a%20%3D%20L.popup%28%7B%22maxWidth%22%3A%20%22100%25%22%7D%29%3B%0A%0A%20%20%20%20%20%20%20%20%0A%20%20%20%20%20%20%20%20%20%20%20%20var%20html_034b2794216d4dfd8fb70a969b3be798%20%3D%20%24%28%60%3Cdiv%20id%3D%22html_034b2794216d4dfd8fb70a969b3be798%22%20style%3D%22width%3A%20100.0%25%3B%20height%3A%20100.0%25%3B%22%3ELat%3A%20-22.814680826242%2C%20Lng%3A%20-47.0691606458217%2C%20Rssi%3A%20-104.605%3C/div%3E%60%29%5B0%5D%3B%0A%20%20%20%20%20%20%20%20%20%20%20%20popup_e9d404e687014bdab2fb7685772d3e4a.setContent%28html_034b2794216d4dfd8fb70a969b3be798%29%3B%0A%20%20%20%20%20%20%20%20%0A%0A%20%20%20%20%20%20%20%20marker_4f3eb9680c65454e8377ad141f9609e0.bindPopup%28popup_e9d404e687014bdab2fb7685772d3e4a%29%0A%20%20%20%20%20%20%20%20%3B%0A%0A%20%20%20%20%20%20%20%20%0A%20%20%20%20%0A%20%20%20%20%0A%20%20%20%20%20%20%20%20%20%20%20%20var%20marker_91a87b0d7d48432a8aed4ad44c2672e0%20%3D%20L.marker%28%0A%20%20%20%20%20%20%20%20%20%20%20%20%20%20%20%20%5B-22.81296061384064%2C%20-47.06628771818721%5D%2C%0A%20%20%20%20%20%20%20%20%20%20%20%20%20%20%20%20%7B%7D%0A%20%20%20%20%20%20%20%20%20%20%20%20%29.addTo%28map_c5814bb4a3ba4a4390cb8a4bf3c2b207%29%3B%0A%20%20%20%20%20%20%20%20%0A%20%20%20%20%0A%20%20%20%20%20%20%20%20%20%20%20%20var%20icon_1bad6d8541cd4eeea0c5fcfdec64995e%20%3D%20L.AwesomeMarkers.icon%28%0A%20%20%20%20%20%20%20%20%20%20%20%20%20%20%20%20%7B%22extraClasses%22%3A%20%22fa-rotate-0%22%2C%20%22icon%22%3A%20%22info-sign%22%2C%20%22iconColor%22%3A%20%22white%22%2C%20%22markerColor%22%3A%20%22lightblue%22%2C%20%22prefix%22%3A%20%22glyphicon%22%7D%0A%20%20%20%20%20%20%20%20%20%20%20%20%29%3B%0A%20%20%20%20%20%20%20%20%20%20%20%20marker_91a87b0d7d48432a8aed4ad44c2672e0.setIcon%28icon_1bad6d8541cd4eeea0c5fcfdec64995e%29%3B%0A%20%20%20%20%20%20%20%20%0A%20%20%20%20%0A%20%20%20%20%20%20%20%20var%20popup_4c8c4e01b67f4343bfb2b22bd5dadb13%20%3D%20L.popup%28%7B%22maxWidth%22%3A%20%22100%25%22%7D%29%3B%0A%0A%20%20%20%20%20%20%20%20%0A%20%20%20%20%20%20%20%20%20%20%20%20var%20html_0ee7c847ed97410f853d10c5aeff91d0%20%3D%20%24%28%60%3Cdiv%20id%3D%22html_0ee7c847ed97410f853d10c5aeff91d0%22%20style%3D%22width%3A%20100.0%25%3B%20height%3A%20100.0%25%3B%22%3ELat%3A%20-22.81296061384064%2C%20Lng%3A%20-47.06628771818721%2C%20Rssi%3A%20-103.39%3C/div%3E%60%29%5B0%5D%3B%0A%20%20%20%20%20%20%20%20%20%20%20%20popup_4c8c4e01b67f4343bfb2b22bd5dadb13.setContent%28html_0ee7c847ed97410f853d10c5aeff91d0%29%3B%0A%20%20%20%20%20%20%20%20%0A%0A%20%20%20%20%20%20%20%20marker_91a87b0d7d48432a8aed4ad44c2672e0.bindPopup%28popup_4c8c4e01b67f4343bfb2b22bd5dadb13%29%0A%20%20%20%20%20%20%20%20%3B%0A%0A%20%20%20%20%20%20%20%20%0A%20%20%20%20%0A%20%20%20%20%0A%20%20%20%20%20%20%20%20%20%20%20%20var%20marker_3f14983ed9a64851a20eead92d07e56b%20%3D%20L.marker%28%0A%20%20%20%20%20%20%20%20%20%20%20%20%20%20%20%20%5B-22.81628204801213%2C%20-47.06718684060307%5D%2C%0A%20%20%20%20%20%20%20%20%20%20%20%20%20%20%20%20%7B%7D%0A%20%20%20%20%20%20%20%20%20%20%20%20%29.addTo%28map_c5814bb4a3ba4a4390cb8a4bf3c2b207%29%3B%0A%20%20%20%20%20%20%20%20%0A%20%20%20%20%0A%20%20%20%20%20%20%20%20%20%20%20%20var%20icon_d09425558bdd42bbbd25d046a2aa25f3%20%3D%20L.AwesomeMarkers.icon%28%0A%20%20%20%20%20%20%20%20%20%20%20%20%20%20%20%20%7B%22extraClasses%22%3A%20%22fa-rotate-0%22%2C%20%22icon%22%3A%20%22info-sign%22%2C%20%22iconColor%22%3A%20%22white%22%2C%20%22markerColor%22%3A%20%22lightblue%22%2C%20%22prefix%22%3A%20%22glyphicon%22%7D%0A%20%20%20%20%20%20%20%20%20%20%20%20%29%3B%0A%20%20%20%20%20%20%20%20%20%20%20%20marker_3f14983ed9a64851a20eead92d07e56b.setIcon%28icon_d09425558bdd42bbbd25d046a2aa25f3%29%3B%0A%20%20%20%20%20%20%20%20%0A%20%20%20%20%0A%20%20%20%20%20%20%20%20var%20popup_390ed2a3ef0a49448b824a9dd28f929a%20%3D%20L.popup%28%7B%22maxWidth%22%3A%20%22100%25%22%7D%29%3B%0A%0A%20%20%20%20%20%20%20%20%0A%20%20%20%20%20%20%20%20%20%20%20%20var%20html_7d7e8ac372e948859ce160140d6e84a0%20%3D%20%24%28%60%3Cdiv%20id%3D%22html_7d7e8ac372e948859ce160140d6e84a0%22%20style%3D%22width%3A%20100.0%25%3B%20height%3A%20100.0%25%3B%22%3ELat%3A%20-22.81628204801213%2C%20Lng%3A%20-47.06718684060307%2C%20Rssi%3A%20-103.748%3C/div%3E%60%29%5B0%5D%3B%0A%20%20%20%20%20%20%20%20%20%20%20%20popup_390ed2a3ef0a49448b824a9dd28f929a.setContent%28html_7d7e8ac372e948859ce160140d6e84a0%29%3B%0A%20%20%20%20%20%20%20%20%0A%0A%20%20%20%20%20%20%20%20marker_3f14983ed9a64851a20eead92d07e56b.bindPopup%28popup_390ed2a3ef0a49448b824a9dd28f929a%29%0A%20%20%20%20%20%20%20%20%3B%0A%0A%20%20%20%20%20%20%20%20%0A%20%20%20%20%0A%20%20%20%20%0A%20%20%20%20%20%20%20%20%20%20%20%20var%20marker_72d60f2b780d431ba4865f50d2a35626%20%3D%20L.marker%28%0A%20%20%20%20%20%20%20%20%20%20%20%20%20%20%20%20%5B-22.82401506632456%2C%20-47.06493091959375%5D%2C%0A%20%20%20%20%20%20%20%20%20%20%20%20%20%20%20%20%7B%7D%0A%20%20%20%20%20%20%20%20%20%20%20%20%29.addTo%28map_c5814bb4a3ba4a4390cb8a4bf3c2b207%29%3B%0A%20%20%20%20%20%20%20%20%0A%20%20%20%20%0A%20%20%20%20%20%20%20%20%20%20%20%20var%20icon_d548f4a0f33741a0be87fc8c984c1893%20%3D%20L.AwesomeMarkers.icon%28%0A%20%20%20%20%20%20%20%20%20%20%20%20%20%20%20%20%7B%22extraClasses%22%3A%20%22fa-rotate-0%22%2C%20%22icon%22%3A%20%22info-sign%22%2C%20%22iconColor%22%3A%20%22white%22%2C%20%22markerColor%22%3A%20%22lightblue%22%2C%20%22prefix%22%3A%20%22glyphicon%22%7D%0A%20%20%20%20%20%20%20%20%20%20%20%20%29%3B%0A%20%20%20%20%20%20%20%20%20%20%20%20marker_72d60f2b780d431ba4865f50d2a35626.setIcon%28icon_d548f4a0f33741a0be87fc8c984c1893%29%3B%0A%20%20%20%20%20%20%20%20%0A%20%20%20%20%0A%20%20%20%20%20%20%20%20var%20popup_29811ff89942486a8f9508c95c8b8f3d%20%3D%20L.popup%28%7B%22maxWidth%22%3A%20%22100%25%22%7D%29%3B%0A%0A%20%20%20%20%20%20%20%20%0A%20%20%20%20%20%20%20%20%20%20%20%20var%20html_012ad3f59e764954acf6d262913fe4fd%20%3D%20%24%28%60%3Cdiv%20id%3D%22html_012ad3f59e764954acf6d262913fe4fd%22%20style%3D%22width%3A%20100.0%25%3B%20height%3A%20100.0%25%3B%22%3ELat%3A%20-22.82401506632456%2C%20Lng%3A%20-47.06493091959375%2C%20Rssi%3A%20-102.762%3C/div%3E%60%29%5B0%5D%3B%0A%20%20%20%20%20%20%20%20%20%20%20%20popup_29811ff89942486a8f9508c95c8b8f3d.setContent%28html_012ad3f59e764954acf6d262913fe4fd%29%3B%0A%20%20%20%20%20%20%20%20%0A%0A%20%20%20%20%20%20%20%20marker_72d60f2b780d431ba4865f50d2a35626.bindPopup%28popup_29811ff89942486a8f9508c95c8b8f3d%29%0A%20%20%20%20%20%20%20%20%3B%0A%0A%20%20%20%20%20%20%20%20%0A%20%20%20%20%0A%20%20%20%20%0A%20%20%20%20%20%20%20%20%20%20%20%20var%20marker_f584c99711484f439e565fc1dfcf8fbd%20%3D%20L.marker%28%0A%20%20%20%20%20%20%20%20%20%20%20%20%20%20%20%20%5B-22.81323878624107%2C%20-47.06887155087497%5D%2C%0A%20%20%20%20%20%20%20%20%20%20%20%20%20%20%20%20%7B%7D%0A%20%20%20%20%20%20%20%20%20%20%20%20%29.addTo%28map_c5814bb4a3ba4a4390cb8a4bf3c2b207%29%3B%0A%20%20%20%20%20%20%20%20%0A%20%20%20%20%0A%20%20%20%20%20%20%20%20%20%20%20%20var%20icon_83c61516106f4891a3eef89aa3de3ba3%20%3D%20L.AwesomeMarkers.icon%28%0A%20%20%20%20%20%20%20%20%20%20%20%20%20%20%20%20%7B%22extraClasses%22%3A%20%22fa-rotate-0%22%2C%20%22icon%22%3A%20%22info-sign%22%2C%20%22iconColor%22%3A%20%22white%22%2C%20%22markerColor%22%3A%20%22lightblue%22%2C%20%22prefix%22%3A%20%22glyphicon%22%7D%0A%20%20%20%20%20%20%20%20%20%20%20%20%29%3B%0A%20%20%20%20%20%20%20%20%20%20%20%20marker_f584c99711484f439e565fc1dfcf8fbd.setIcon%28icon_83c61516106f4891a3eef89aa3de3ba3%29%3B%0A%20%20%20%20%20%20%20%20%0A%20%20%20%20%0A%20%20%20%20%20%20%20%20var%20popup_f953e1d1580b4dafb986d1b4c181cbe7%20%3D%20L.popup%28%7B%22maxWidth%22%3A%20%22100%25%22%7D%29%3B%0A%0A%20%20%20%20%20%20%20%20%0A%20%20%20%20%20%20%20%20%20%20%20%20var%20html_b61112d8f0ab4385b5490d872c32ff11%20%3D%20%24%28%60%3Cdiv%20id%3D%22html_b61112d8f0ab4385b5490d872c32ff11%22%20style%3D%22width%3A%20100.0%25%3B%20height%3A%20100.0%25%3B%22%3ELat%3A%20-22.81323878624107%2C%20Lng%3A%20-47.06887155087497%2C%20Rssi%3A%20-104.489%3C/div%3E%60%29%5B0%5D%3B%0A%20%20%20%20%20%20%20%20%20%20%20%20popup_f953e1d1580b4dafb986d1b4c181cbe7.setContent%28html_b61112d8f0ab4385b5490d872c32ff11%29%3B%0A%20%20%20%20%20%20%20%20%0A%0A%20%20%20%20%20%20%20%20marker_f584c99711484f439e565fc1dfcf8fbd.bindPopup%28popup_f953e1d1580b4dafb986d1b4c181cbe7%29%0A%20%20%20%20%20%20%20%20%3B%0A%0A%20%20%20%20%20%20%20%20%0A%20%20%20%20%0A%20%20%20%20%0A%20%20%20%20%20%20%20%20%20%20%20%20var%20marker_c682abc70acf430785674b6ca4ed9fb0%20%3D%20L.marker%28%0A%20%20%20%20%20%20%20%20%20%20%20%20%20%20%20%20%5B-22.81579185317482%2C%20-47.06774224481084%5D%2C%0A%20%20%20%20%20%20%20%20%20%20%20%20%20%20%20%20%7B%7D%0A%20%20%20%20%20%20%20%20%20%20%20%20%29.addTo%28map_c5814bb4a3ba4a4390cb8a4bf3c2b207%29%3B%0A%20%20%20%20%20%20%20%20%0A%20%20%20%20%0A%20%20%20%20%20%20%20%20%20%20%20%20var%20icon_9f0acc4652744be9ad5573eb6e3c59f1%20%3D%20L.AwesomeMarkers.icon%28%0A%20%20%20%20%20%20%20%20%20%20%20%20%20%20%20%20%7B%22extraClasses%22%3A%20%22fa-rotate-0%22%2C%20%22icon%22%3A%20%22info-sign%22%2C%20%22iconColor%22%3A%20%22white%22%2C%20%22markerColor%22%3A%20%22lightblue%22%2C%20%22prefix%22%3A%20%22glyphicon%22%7D%0A%20%20%20%20%20%20%20%20%20%20%20%20%29%3B%0A%20%20%20%20%20%20%20%20%20%20%20%20marker_c682abc70acf430785674b6ca4ed9fb0.setIcon%28icon_9f0acc4652744be9ad5573eb6e3c59f1%29%3B%0A%20%20%20%20%20%20%20%20%0A%20%20%20%20%0A%20%20%20%20%20%20%20%20var%20popup_c6e4d93f2db048939e06f94ccc0c1216%20%3D%20L.popup%28%7B%22maxWidth%22%3A%20%22100%25%22%7D%29%3B%0A%0A%20%20%20%20%20%20%20%20%0A%20%20%20%20%20%20%20%20%20%20%20%20var%20html_6db3ae31f78c4de3a0c30d6c0d8bb63b%20%3D%20%24%28%60%3Cdiv%20id%3D%22html_6db3ae31f78c4de3a0c30d6c0d8bb63b%22%20style%3D%22width%3A%20100.0%25%3B%20height%3A%20100.0%25%3B%22%3ELat%3A%20-22.81579185317482%2C%20Lng%3A%20-47.06774224481084%2C%20Rssi%3A%20-103.988%3C/div%3E%60%29%5B0%5D%3B%0A%20%20%20%20%20%20%20%20%20%20%20%20popup_c6e4d93f2db048939e06f94ccc0c1216.setContent%28html_6db3ae31f78c4de3a0c30d6c0d8bb63b%29%3B%0A%20%20%20%20%20%20%20%20%0A%0A%20%20%20%20%20%20%20%20marker_c682abc70acf430785674b6ca4ed9fb0.bindPopup%28popup_c6e4d93f2db048939e06f94ccc0c1216%29%0A%20%20%20%20%20%20%20%20%3B%0A%0A%20%20%20%20%20%20%20%20%0A%20%20%20%20%0A%20%20%20%20%0A%20%20%20%20%20%20%20%20%20%20%20%20var%20marker_595d14ca06a84e4a8832360008935b08%20%3D%20L.marker%28%0A%20%20%20%20%20%20%20%20%20%20%20%20%20%20%20%20%5B-22.81878334059293%2C%20-47.06775349849438%5D%2C%0A%20%20%20%20%20%20%20%20%20%20%20%20%20%20%20%20%7B%7D%0A%20%20%20%20%20%20%20%20%20%20%20%20%29.addTo%28map_c5814bb4a3ba4a4390cb8a4bf3c2b207%29%3B%0A%20%20%20%20%20%20%20%20%0A%20%20%20%20%0A%20%20%20%20%20%20%20%20%20%20%20%20var%20icon_022677b0e2bf452ab8c23250ca389dc6%20%3D%20L.AwesomeMarkers.icon%28%0A%20%20%20%20%20%20%20%20%20%20%20%20%20%20%20%20%7B%22extraClasses%22%3A%20%22fa-rotate-0%22%2C%20%22icon%22%3A%20%22info-sign%22%2C%20%22iconColor%22%3A%20%22white%22%2C%20%22markerColor%22%3A%20%22lightblue%22%2C%20%22prefix%22%3A%20%22glyphicon%22%7D%0A%20%20%20%20%20%20%20%20%20%20%20%20%29%3B%0A%20%20%20%20%20%20%20%20%20%20%20%20marker_595d14ca06a84e4a8832360008935b08.setIcon%28icon_022677b0e2bf452ab8c23250ca389dc6%29%3B%0A%20%20%20%20%20%20%20%20%0A%20%20%20%20%0A%20%20%20%20%20%20%20%20var%20popup_f800926b1df74f5399ccb32056ec9b0d%20%3D%20L.popup%28%7B%22maxWidth%22%3A%20%22100%25%22%7D%29%3B%0A%0A%20%20%20%20%20%20%20%20%0A%20%20%20%20%20%20%20%20%20%20%20%20var%20html_97941e44bdb944329b97cb73fb68ad47%20%3D%20%24%28%60%3Cdiv%20id%3D%22html_97941e44bdb944329b97cb73fb68ad47%22%20style%3D%22width%3A%20100.0%25%3B%20height%3A%20100.0%25%3B%22%3ELat%3A%20-22.81878334059293%2C%20Lng%3A%20-47.06775349849438%2C%20Rssi%3A%20-103.974%3C/div%3E%60%29%5B0%5D%3B%0A%20%20%20%20%20%20%20%20%20%20%20%20popup_f800926b1df74f5399ccb32056ec9b0d.setContent%28html_97941e44bdb944329b97cb73fb68ad47%29%3B%0A%20%20%20%20%20%20%20%20%0A%0A%20%20%20%20%20%20%20%20marker_595d14ca06a84e4a8832360008935b08.bindPopup%28popup_f800926b1df74f5399ccb32056ec9b0d%29%0A%20%20%20%20%20%20%20%20%3B%0A%0A%20%20%20%20%20%20%20%20%0A%20%20%20%20%0A%20%20%20%20%0A%20%20%20%20%20%20%20%20%20%20%20%20var%20marker_b2f2216d9dc541ea8f78f98fb1ec23c5%20%3D%20L.marker%28%0A%20%20%20%20%20%20%20%20%20%20%20%20%20%20%20%20%5B-22.82505900758947%2C%20-47.06680135052657%5D%2C%0A%20%20%20%20%20%20%20%20%20%20%20%20%20%20%20%20%7B%7D%0A%20%20%20%20%20%20%20%20%20%20%20%20%29.addTo%28map_c5814bb4a3ba4a4390cb8a4bf3c2b207%29%3B%0A%20%20%20%20%20%20%20%20%0A%20%20%20%20%0A%20%20%20%20%20%20%20%20%20%20%20%20var%20icon_7564a0b60d4d424b97e92071cceb25b8%20%3D%20L.AwesomeMarkers.icon%28%0A%20%20%20%20%20%20%20%20%20%20%20%20%20%20%20%20%7B%22extraClasses%22%3A%20%22fa-rotate-0%22%2C%20%22icon%22%3A%20%22info-sign%22%2C%20%22iconColor%22%3A%20%22white%22%2C%20%22markerColor%22%3A%20%22lightblue%22%2C%20%22prefix%22%3A%20%22glyphicon%22%7D%0A%20%20%20%20%20%20%20%20%20%20%20%20%29%3B%0A%20%20%20%20%20%20%20%20%20%20%20%20marker_b2f2216d9dc541ea8f78f98fb1ec23c5.setIcon%28icon_7564a0b60d4d424b97e92071cceb25b8%29%3B%0A%20%20%20%20%20%20%20%20%0A%20%20%20%20%0A%20%20%20%20%20%20%20%20var%20popup_d03f7de2d50b437e947402150f94d384%20%3D%20L.popup%28%7B%22maxWidth%22%3A%20%22100%25%22%7D%29%3B%0A%0A%20%20%20%20%20%20%20%20%0A%20%20%20%20%20%20%20%20%20%20%20%20var%20html_fa06a35ad8814a0e9b29d1645275592a%20%3D%20%24%28%60%3Cdiv%20id%3D%22html_fa06a35ad8814a0e9b29d1645275592a%22%20style%3D%22width%3A%20100.0%25%3B%20height%3A%20100.0%25%3B%22%3ELat%3A%20-22.82505900758947%2C%20Lng%3A%20-47.06680135052657%2C%20Rssi%3A%20-103.529%3C/div%3E%60%29%5B0%5D%3B%0A%20%20%20%20%20%20%20%20%20%20%20%20popup_d03f7de2d50b437e947402150f94d384.setContent%28html_fa06a35ad8814a0e9b29d1645275592a%29%3B%0A%20%20%20%20%20%20%20%20%0A%0A%20%20%20%20%20%20%20%20marker_b2f2216d9dc541ea8f78f98fb1ec23c5.bindPopup%28popup_d03f7de2d50b437e947402150f94d384%29%0A%20%20%20%20%20%20%20%20%3B%0A%0A%20%20%20%20%20%20%20%20%0A%20%20%20%20%0A%20%20%20%20%0A%20%20%20%20%20%20%20%20%20%20%20%20var%20marker_3f516bd928ee43ea9b9d615d8177f37f%20%3D%20L.marker%28%0A%20%20%20%20%20%20%20%20%20%20%20%20%20%20%20%20%5B-22.8224340663403%2C%20-47.06501889875863%5D%2C%0A%20%20%20%20%20%20%20%20%20%20%20%20%20%20%20%20%7B%7D%0A%20%20%20%20%20%20%20%20%20%20%20%20%29.addTo%28map_c5814bb4a3ba4a4390cb8a4bf3c2b207%29%3B%0A%20%20%20%20%20%20%20%20%0A%20%20%20%20%0A%20%20%20%20%20%20%20%20%20%20%20%20var%20icon_e6c6abf562f64f3bb9e3627c620cb934%20%3D%20L.AwesomeMarkers.icon%28%0A%20%20%20%20%20%20%20%20%20%20%20%20%20%20%20%20%7B%22extraClasses%22%3A%20%22fa-rotate-0%22%2C%20%22icon%22%3A%20%22info-sign%22%2C%20%22iconColor%22%3A%20%22white%22%2C%20%22markerColor%22%3A%20%22lightblue%22%2C%20%22prefix%22%3A%20%22glyphicon%22%7D%0A%20%20%20%20%20%20%20%20%20%20%20%20%29%3B%0A%20%20%20%20%20%20%20%20%20%20%20%20marker_3f516bd928ee43ea9b9d615d8177f37f.setIcon%28icon_e6c6abf562f64f3bb9e3627c620cb934%29%3B%0A%20%20%20%20%20%20%20%20%0A%20%20%20%20%0A%20%20%20%20%20%20%20%20var%20popup_5074142f980f498fa785e9dc2073578a%20%3D%20L.popup%28%7B%22maxWidth%22%3A%20%22100%25%22%7D%29%3B%0A%0A%20%20%20%20%20%20%20%20%0A%20%20%20%20%20%20%20%20%20%20%20%20var%20html_9d87b453cbb64a95ab13f06a07c257ea%20%3D%20%24%28%60%3Cdiv%20id%3D%22html_9d87b453cbb64a95ab13f06a07c257ea%22%20style%3D%22width%3A%20100.0%25%3B%20height%3A%20100.0%25%3B%22%3ELat%3A%20-22.8224340663403%2C%20Lng%3A%20-47.06501889875863%2C%20Rssi%3A%20-102.808%3C/div%3E%60%29%5B0%5D%3B%0A%20%20%20%20%20%20%20%20%20%20%20%20popup_5074142f980f498fa785e9dc2073578a.setContent%28html_9d87b453cbb64a95ab13f06a07c257ea%29%3B%0A%20%20%20%20%20%20%20%20%0A%0A%20%20%20%20%20%20%20%20marker_3f516bd928ee43ea9b9d615d8177f37f.bindPopup%28popup_5074142f980f498fa785e9dc2073578a%29%0A%20%20%20%20%20%20%20%20%3B%0A%0A%20%20%20%20%20%20%20%20%0A%20%20%20%20%0A%20%20%20%20%0A%20%20%20%20%20%20%20%20%20%20%20%20var%20marker_fff80ebcd21b4d7288544f063c0f74df%20%3D%20L.marker%28%0A%20%20%20%20%20%20%20%20%20%20%20%20%20%20%20%20%5B-22.81525861935553%2C%20-47.06236265226889%5D%2C%0A%20%20%20%20%20%20%20%20%20%20%20%20%20%20%20%20%7B%7D%0A%20%20%20%20%20%20%20%20%20%20%20%20%29.addTo%28map_c5814bb4a3ba4a4390cb8a4bf3c2b207%29%3B%0A%20%20%20%20%20%20%20%20%0A%20%20%20%20%0A%20%20%20%20%20%20%20%20%20%20%20%20var%20icon_3325cc5fc8ae4f9b93c9ce7b18fa905a%20%3D%20L.AwesomeMarkers.icon%28%0A%20%20%20%20%20%20%20%20%20%20%20%20%20%20%20%20%7B%22extraClasses%22%3A%20%22fa-rotate-0%22%2C%20%22icon%22%3A%20%22info-sign%22%2C%20%22iconColor%22%3A%20%22white%22%2C%20%22markerColor%22%3A%20%22lightblue%22%2C%20%22prefix%22%3A%20%22glyphicon%22%7D%0A%20%20%20%20%20%20%20%20%20%20%20%20%29%3B%0A%20%20%20%20%20%20%20%20%20%20%20%20marker_fff80ebcd21b4d7288544f063c0f74df.setIcon%28icon_3325cc5fc8ae4f9b93c9ce7b18fa905a%29%3B%0A%20%20%20%20%20%20%20%20%0A%20%20%20%20%0A%20%20%20%20%20%20%20%20var%20popup_497240d325234ec18ee7f11eb1984e5f%20%3D%20L.popup%28%7B%22maxWidth%22%3A%20%22100%25%22%7D%29%3B%0A%0A%20%20%20%20%20%20%20%20%0A%20%20%20%20%20%20%20%20%20%20%20%20var%20html_994751031cb34458bce3c8da24cbe1d3%20%3D%20%24%28%60%3Cdiv%20id%3D%22html_994751031cb34458bce3c8da24cbe1d3%22%20style%3D%22width%3A%20100.0%25%3B%20height%3A%20100.0%25%3B%22%3ELat%3A%20-22.81525861935553%2C%20Lng%3A%20-47.06236265226889%2C%20Rssi%3A%20-101.824%3C/div%3E%60%29%5B0%5D%3B%0A%20%20%20%20%20%20%20%20%20%20%20%20popup_497240d325234ec18ee7f11eb1984e5f.setContent%28html_994751031cb34458bce3c8da24cbe1d3%29%3B%0A%20%20%20%20%20%20%20%20%0A%0A%20%20%20%20%20%20%20%20marker_fff80ebcd21b4d7288544f063c0f74df.bindPopup%28popup_497240d325234ec18ee7f11eb1984e5f%29%0A%20%20%20%20%20%20%20%20%3B%0A%0A%20%20%20%20%20%20%20%20%0A%20%20%20%20%0A%20%20%20%20%0A%20%20%20%20%20%20%20%20%20%20%20%20var%20marker_a836f1d96d54414991d07214ef3f2c5a%20%3D%20L.marker%28%0A%20%20%20%20%20%20%20%20%20%20%20%20%20%20%20%20%5B-22.81756246607184%2C%20-47.07217876933861%5D%2C%0A%20%20%20%20%20%20%20%20%20%20%20%20%20%20%20%20%7B%7D%0A%20%20%20%20%20%20%20%20%20%20%20%20%29.addTo%28map_c5814bb4a3ba4a4390cb8a4bf3c2b207%29%3B%0A%20%20%20%20%20%20%20%20%0A%20%20%20%20%0A%20%20%20%20%20%20%20%20%20%20%20%20var%20icon_d30cbef19fbc49d585eebadefa4870b0%20%3D%20L.AwesomeMarkers.icon%28%0A%20%20%20%20%20%20%20%20%20%20%20%20%20%20%20%20%7B%22extraClasses%22%3A%20%22fa-rotate-0%22%2C%20%22icon%22%3A%20%22info-sign%22%2C%20%22iconColor%22%3A%20%22white%22%2C%20%22markerColor%22%3A%20%22lightblue%22%2C%20%22prefix%22%3A%20%22glyphicon%22%7D%0A%20%20%20%20%20%20%20%20%20%20%20%20%29%3B%0A%20%20%20%20%20%20%20%20%20%20%20%20marker_a836f1d96d54414991d07214ef3f2c5a.setIcon%28icon_d30cbef19fbc49d585eebadefa4870b0%29%3B%0A%20%20%20%20%20%20%20%20%0A%20%20%20%20%0A%20%20%20%20%20%20%20%20var%20popup_a27ece971fe84da397645d51ee05f3aa%20%3D%20L.popup%28%7B%22maxWidth%22%3A%20%22100%25%22%7D%29%3B%0A%0A%20%20%20%20%20%20%20%20%0A%20%20%20%20%20%20%20%20%20%20%20%20var%20html_20c68c2f8a974074a098348ac63ba57e%20%3D%20%24%28%60%3Cdiv%20id%3D%22html_20c68c2f8a974074a098348ac63ba57e%22%20style%3D%22width%3A%20100.0%25%3B%20height%3A%20100.0%25%3B%22%3ELat%3A%20-22.81756246607184%2C%20Lng%3A%20-47.07217876933861%2C%20Rssi%3A%20-105.885%3C/div%3E%60%29%5B0%5D%3B%0A%20%20%20%20%20%20%20%20%20%20%20%20popup_a27ece971fe84da397645d51ee05f3aa.setContent%28html_20c68c2f8a974074a098348ac63ba57e%29%3B%0A%20%20%20%20%20%20%20%20%0A%0A%20%20%20%20%20%20%20%20marker_a836f1d96d54414991d07214ef3f2c5a.bindPopup%28popup_a27ece971fe84da397645d51ee05f3aa%29%0A%20%20%20%20%20%20%20%20%3B%0A%0A%20%20%20%20%20%20%20%20%0A%20%20%20%20%0A%20%20%20%20%0A%20%20%20%20%20%20%20%20%20%20%20%20var%20marker_b29c6bda7f7c445d8a95c030bff1d991%20%3D%20L.marker%28%0A%20%20%20%20%20%20%20%20%20%20%20%20%20%20%20%20%5B-22.82337627543984%2C%20-47.06519670796302%5D%2C%0A%20%20%20%20%20%20%20%20%20%20%20%20%20%20%20%20%7B%7D%0A%20%20%20%20%20%20%20%20%20%20%20%20%29.addTo%28map_c5814bb4a3ba4a4390cb8a4bf3c2b207%29%3B%0A%20%20%20%20%20%20%20%20%0A%20%20%20%20%0A%20%20%20%20%20%20%20%20%20%20%20%20var%20icon_1b37d08169284ea294b67f0366e73e4c%20%3D%20L.AwesomeMarkers.icon%28%0A%20%20%20%20%20%20%20%20%20%20%20%20%20%20%20%20%7B%22extraClasses%22%3A%20%22fa-rotate-0%22%2C%20%22icon%22%3A%20%22info-sign%22%2C%20%22iconColor%22%3A%20%22white%22%2C%20%22markerColor%22%3A%20%22lightblue%22%2C%20%22prefix%22%3A%20%22glyphicon%22%7D%0A%20%20%20%20%20%20%20%20%20%20%20%20%29%3B%0A%20%20%20%20%20%20%20%20%20%20%20%20marker_b29c6bda7f7c445d8a95c030bff1d991.setIcon%28icon_1b37d08169284ea294b67f0366e73e4c%29%3B%0A%20%20%20%20%20%20%20%20%0A%20%20%20%20%0A%20%20%20%20%20%20%20%20var%20popup_1788d429683c46d1a980dd0b3ee95fec%20%3D%20L.popup%28%7B%22maxWidth%22%3A%20%22100%25%22%7D%29%3B%0A%0A%20%20%20%20%20%20%20%20%0A%20%20%20%20%20%20%20%20%20%20%20%20var%20html_f465a18539de40279710054d7f69c567%20%3D%20%24%28%60%3Cdiv%20id%3D%22html_f465a18539de40279710054d7f69c567%22%20style%3D%22width%3A%20100.0%25%3B%20height%3A%20100.0%25%3B%22%3ELat%3A%20-22.82337627543984%2C%20Lng%3A%20-47.06519670796302%2C%20Rssi%3A%20-102.811%3C/div%3E%60%29%5B0%5D%3B%0A%20%20%20%20%20%20%20%20%20%20%20%20popup_1788d429683c46d1a980dd0b3ee95fec.setContent%28html_f465a18539de40279710054d7f69c567%29%3B%0A%20%20%20%20%20%20%20%20%0A%0A%20%20%20%20%20%20%20%20marker_b29c6bda7f7c445d8a95c030bff1d991.bindPopup%28popup_1788d429683c46d1a980dd0b3ee95fec%29%0A%20%20%20%20%20%20%20%20%3B%0A%0A%20%20%20%20%20%20%20%20%0A%20%20%20%20%0A%20%20%20%20%0A%20%20%20%20%20%20%20%20%20%20%20%20var%20marker_b0679812a00f482196b52e982d744dd3%20%3D%20L.marker%28%0A%20%20%20%20%20%20%20%20%20%20%20%20%20%20%20%20%5B-22.82337627543984%2C%20-47.06519670796302%5D%2C%0A%20%20%20%20%20%20%20%20%20%20%20%20%20%20%20%20%7B%7D%0A%20%20%20%20%20%20%20%20%20%20%20%20%29.addTo%28map_c5814bb4a3ba4a4390cb8a4bf3c2b207%29%3B%0A%20%20%20%20%20%20%20%20%0A%20%20%20%20%0A%20%20%20%20%20%20%20%20%20%20%20%20var%20icon_a04d483c0c0642c4966bbaafe31ec1ec%20%3D%20L.AwesomeMarkers.icon%28%0A%20%20%20%20%20%20%20%20%20%20%20%20%20%20%20%20%7B%22extraClasses%22%3A%20%22fa-rotate-0%22%2C%20%22icon%22%3A%20%22info-sign%22%2C%20%22iconColor%22%3A%20%22white%22%2C%20%22markerColor%22%3A%20%22lightblue%22%2C%20%22prefix%22%3A%20%22glyphicon%22%7D%0A%20%20%20%20%20%20%20%20%20%20%20%20%29%3B%0A%20%20%20%20%20%20%20%20%20%20%20%20marker_b0679812a00f482196b52e982d744dd3.setIcon%28icon_a04d483c0c0642c4966bbaafe31ec1ec%29%3B%0A%20%20%20%20%20%20%20%20%0A%20%20%20%20%0A%20%20%20%20%20%20%20%20var%20popup_18600bd618544a0aa0a1665ed1daa67d%20%3D%20L.popup%28%7B%22maxWidth%22%3A%20%22100%25%22%7D%29%3B%0A%0A%20%20%20%20%20%20%20%20%0A%20%20%20%20%20%20%20%20%20%20%20%20var%20html_6bf21113d5b84786968fb3fd232199fb%20%3D%20%24%28%60%3Cdiv%20id%3D%22html_6bf21113d5b84786968fb3fd232199fb%22%20style%3D%22width%3A%20100.0%25%3B%20height%3A%20100.0%25%3B%22%3ELat%3A%20-22.82337627543984%2C%20Lng%3A%20-47.06519670796302%2C%20Rssi%3A%20-103.013%3C/div%3E%60%29%5B0%5D%3B%0A%20%20%20%20%20%20%20%20%20%20%20%20popup_18600bd618544a0aa0a1665ed1daa67d.setContent%28html_6bf21113d5b84786968fb3fd232199fb%29%3B%0A%20%20%20%20%20%20%20%20%0A%0A%20%20%20%20%20%20%20%20marker_b0679812a00f482196b52e982d744dd3.bindPopup%28popup_18600bd618544a0aa0a1665ed1daa67d%29%0A%20%20%20%20%20%20%20%20%3B%0A%0A%20%20%20%20%20%20%20%20%0A%20%20%20%20%0A%20%20%20%20%0A%20%20%20%20%20%20%20%20%20%20%20%20var%20marker_562b39419386495ba45496e1fdcbbcb8%20%3D%20L.marker%28%0A%20%20%20%20%20%20%20%20%20%20%20%20%20%20%20%20%5B-22.8242%2C%20-47.0677%5D%2C%0A%20%20%20%20%20%20%20%20%20%20%20%20%20%20%20%20%7B%7D%0A%20%20%20%20%20%20%20%20%20%20%20%20%29.addTo%28map_c5814bb4a3ba4a4390cb8a4bf3c2b207%29%3B%0A%20%20%20%20%20%20%20%20%0A%20%20%20%20%0A%20%20%20%20%20%20%20%20%20%20%20%20var%20icon_dc1e991ccd30418dad8dbdb456bf893e%20%3D%20L.AwesomeMarkers.icon%28%0A%20%20%20%20%20%20%20%20%20%20%20%20%20%20%20%20%7B%22extraClasses%22%3A%20%22fa-rotate-0%22%2C%20%22icon%22%3A%20%22info-sign%22%2C%20%22iconColor%22%3A%20%22white%22%2C%20%22markerColor%22%3A%20%22lightblue%22%2C%20%22prefix%22%3A%20%22glyphicon%22%7D%0A%20%20%20%20%20%20%20%20%20%20%20%20%29%3B%0A%20%20%20%20%20%20%20%20%20%20%20%20marker_562b39419386495ba45496e1fdcbbcb8.setIcon%28icon_dc1e991ccd30418dad8dbdb456bf893e%29%3B%0A%20%20%20%20%20%20%20%20%0A%20%20%20%20%0A%20%20%20%20%20%20%20%20var%20popup_1e8fe0178909482d9149122d131bf10e%20%3D%20L.popup%28%7B%22maxWidth%22%3A%20%22100%25%22%7D%29%3B%0A%0A%20%20%20%20%20%20%20%20%0A%20%20%20%20%20%20%20%20%20%20%20%20var%20html_6c8ce7d05afa4753b7cbaa752be2590c%20%3D%20%24%28%60%3Cdiv%20id%3D%22html_6c8ce7d05afa4753b7cbaa752be2590c%22%20style%3D%22width%3A%20100.0%25%3B%20height%3A%20100.0%25%3B%22%3ELat%3A%20-22.8242%2C%20Lng%3A%20-47.0677%2C%20Rssi%3A%20-103.916%3C/div%3E%60%29%5B0%5D%3B%0A%20%20%20%20%20%20%20%20%20%20%20%20popup_1e8fe0178909482d9149122d131bf10e.setContent%28html_6c8ce7d05afa4753b7cbaa752be2590c%29%3B%0A%20%20%20%20%20%20%20%20%0A%0A%20%20%20%20%20%20%20%20marker_562b39419386495ba45496e1fdcbbcb8.bindPopup%28popup_1e8fe0178909482d9149122d131bf10e%29%0A%20%20%20%20%20%20%20%20%3B%0A%0A%20%20%20%20%20%20%20%20%0A%20%20%20%20%0A%20%20%20%20%0A%20%20%20%20%20%20%20%20%20%20%20%20var%20marker_3e5951477a9e45fe875d36fb4fe535ff%20%3D%20L.marker%28%0A%20%20%20%20%20%20%20%20%20%20%20%20%20%20%20%20%5B-22.8319%2C%20-47.0629%5D%2C%0A%20%20%20%20%20%20%20%20%20%20%20%20%20%20%20%20%7B%7D%0A%20%20%20%20%20%20%20%20%20%20%20%20%29.addTo%28map_c5814bb4a3ba4a4390cb8a4bf3c2b207%29%3B%0A%20%20%20%20%20%20%20%20%0A%20%20%20%20%0A%20%20%20%20%20%20%20%20%20%20%20%20var%20icon_3c7cba8498554ac29df00546492de857%20%3D%20L.AwesomeMarkers.icon%28%0A%20%20%20%20%20%20%20%20%20%20%20%20%20%20%20%20%7B%22extraClasses%22%3A%20%22fa-rotate-0%22%2C%20%22icon%22%3A%20%22info-sign%22%2C%20%22iconColor%22%3A%20%22white%22%2C%20%22markerColor%22%3A%20%22lightblue%22%2C%20%22prefix%22%3A%20%22glyphicon%22%7D%0A%20%20%20%20%20%20%20%20%20%20%20%20%29%3B%0A%20%20%20%20%20%20%20%20%20%20%20%20marker_3e5951477a9e45fe875d36fb4fe535ff.setIcon%28icon_3c7cba8498554ac29df00546492de857%29%3B%0A%20%20%20%20%20%20%20%20%0A%20%20%20%20%0A%20%20%20%20%20%20%20%20var%20popup_55bf16f28c0a463da38058cf743e953e%20%3D%20L.popup%28%7B%22maxWidth%22%3A%20%22100%25%22%7D%29%3B%0A%0A%20%20%20%20%20%20%20%20%0A%20%20%20%20%20%20%20%20%20%20%20%20var%20html_aaaafce8839b4e26aaaa940670165a63%20%3D%20%24%28%60%3Cdiv%20id%3D%22html_aaaafce8839b4e26aaaa940670165a63%22%20style%3D%22width%3A%20100.0%25%3B%20height%3A%20100.0%25%3B%22%3ELat%3A%20-22.8319%2C%20Lng%3A%20-47.0629%2C%20Rssi%3A%20-101.929%3C/div%3E%60%29%5B0%5D%3B%0A%20%20%20%20%20%20%20%20%20%20%20%20popup_55bf16f28c0a463da38058cf743e953e.setContent%28html_aaaafce8839b4e26aaaa940670165a63%29%3B%0A%20%20%20%20%20%20%20%20%0A%0A%20%20%20%20%20%20%20%20marker_3e5951477a9e45fe875d36fb4fe535ff.bindPopup%28popup_55bf16f28c0a463da38058cf743e953e%29%0A%20%20%20%20%20%20%20%20%3B%0A%0A%20%20%20%20%20%20%20%20%0A%20%20%20%20%0A%20%20%20%20%0A%20%20%20%20%20%20%20%20%20%20%20%20var%20marker_94230437cc0c44adb955460f7c6aa7a8%20%3D%20L.marker%28%0A%20%20%20%20%20%20%20%20%20%20%20%20%20%20%20%20%5B-22.8275%2C%20-47.0628%5D%2C%0A%20%20%20%20%20%20%20%20%20%20%20%20%20%20%20%20%7B%7D%0A%20%20%20%20%20%20%20%20%20%20%20%20%29.addTo%28map_c5814bb4a3ba4a4390cb8a4bf3c2b207%29%3B%0A%20%20%20%20%20%20%20%20%0A%20%20%20%20%0A%20%20%20%20%20%20%20%20%20%20%20%20var%20icon_3557ae5b9b88443e9c3ee338d66460da%20%3D%20L.AwesomeMarkers.icon%28%0A%20%20%20%20%20%20%20%20%20%20%20%20%20%20%20%20%7B%22extraClasses%22%3A%20%22fa-rotate-0%22%2C%20%22icon%22%3A%20%22info-sign%22%2C%20%22iconColor%22%3A%20%22white%22%2C%20%22markerColor%22%3A%20%22lightblue%22%2C%20%22prefix%22%3A%20%22glyphicon%22%7D%0A%20%20%20%20%20%20%20%20%20%20%20%20%29%3B%0A%20%20%20%20%20%20%20%20%20%20%20%20marker_94230437cc0c44adb955460f7c6aa7a8.setIcon%28icon_3557ae5b9b88443e9c3ee338d66460da%29%3B%0A%20%20%20%20%20%20%20%20%0A%20%20%20%20%0A%20%20%20%20%20%20%20%20var%20popup_ff0d2ad43f464e59a5a103a5ae8692d7%20%3D%20L.popup%28%7B%22maxWidth%22%3A%20%22100%25%22%7D%29%3B%0A%0A%20%20%20%20%20%20%20%20%0A%20%20%20%20%20%20%20%20%20%20%20%20var%20html_2f4fe99f5b4f42779486ab5c627ca864%20%3D%20%24%28%60%3Cdiv%20id%3D%22html_2f4fe99f5b4f42779486ab5c627ca864%22%20style%3D%22width%3A%20100.0%25%3B%20height%3A%20100.0%25%3B%22%3ELat%3A%20-22.8275%2C%20Lng%3A%20-47.0628%2C%20Rssi%3A%20-101.917%3C/div%3E%60%29%5B0%5D%3B%0A%20%20%20%20%20%20%20%20%20%20%20%20popup_ff0d2ad43f464e59a5a103a5ae8692d7.setContent%28html_2f4fe99f5b4f42779486ab5c627ca864%29%3B%0A%20%20%20%20%20%20%20%20%0A%0A%20%20%20%20%20%20%20%20marker_94230437cc0c44adb955460f7c6aa7a8.bindPopup%28popup_ff0d2ad43f464e59a5a103a5ae8692d7%29%0A%20%20%20%20%20%20%20%20%3B%0A%0A%20%20%20%20%20%20%20%20%0A%20%20%20%20%0A%3C/script%3E onload=\"this.contentDocument.open();this.contentDocument.write(    decodeURIComponent(this.getAttribute('data-html')));this.contentDocument.close();\" allowfullscreen webkitallowfullscreen mozallowfullscreen></iframe></div></div>"
      ],
      "text/plain": [
       "<folium.folium.Map at 0x7f4c20913550>"
      ]
     },
     "execution_count": 99,
     "metadata": {},
     "output_type": "execute_result"
    }
   ],
   "source": [
    "# # ---- UNICAMP DYNAMIC PLOT MAP & MARKERS OF POSITIONS THAT PACKET WERE RECEIVE\n",
    "\n",
    "# create folium map\n",
    "fmap = folium.Map(width= 500,height=600,location=[-22.822617, -47.067], zoom_start=15, tiles='OpenStreetMap')\n",
    "\n",
    "# add markers\n",
    "for data in heat_data:\n",
    "  lat, lng, rssi = data[0], data[1], data[2]\n",
    "#   print(lat, lng)\n",
    "#   print('RSSI', rssi)\n",
    "  if rssi >= -80:\n",
    "        color_rssi = 'darkblue'\n",
    "  elif rssi < -80 and rssi >= -100:\n",
    "        color_rssi = 'blue'\n",
    "  elif rssi < -100:\n",
    "        color_rssi = \"lightblue\"\n",
    "\n",
    "  folium.Marker(\n",
    "      location=[float(lat), float(lng)],\n",
    "      popup=\"Lat: \" + str(lat) + \", Lng: \" + str(lng)+ \", Rssi: \" + str(rssi),\n",
    "      icon=folium.Icon(color=color_rssi),\n",
    "  ).add_to(fmap)\n",
    "\n",
    "fmap.get_root().add_child(legend)\n",
    "\n",
    "fmap"
   ]
  },
  {
   "cell_type": "code",
   "execution_count": 17,
   "metadata": {},
   "outputs": [],
   "source": [
    "# # salve map\n",
    "# fn=\"okumura_elev.html\"\n",
    "# fmap.save(fn)"
   ]
  },
  {
   "cell_type": "code",
   "execution_count": null,
   "metadata": {},
   "outputs": [],
   "source": []
  },
  {
   "cell_type": "markdown",
   "metadata": {},
   "source": [
    "## Métricas de performance da rede completa (Mac Layer)"
   ]
  },
  {
   "cell_type": "code",
   "execution_count": 62,
   "metadata": {},
   "outputs": [
    {
     "name": "stdout",
     "output_type": "stream",
     "text": [
      "\n",
      "SHAPE: (1, 5)\n"
     ]
    },
    {
     "data": {
      "text/html": [
       "<div>\n",
       "<style scoped>\n",
       "    .dataframe tbody tr th:only-of-type {\n",
       "        vertical-align: middle;\n",
       "    }\n",
       "\n",
       "    .dataframe tbody tr th {\n",
       "        vertical-align: top;\n",
       "    }\n",
       "\n",
       "    .dataframe thead th {\n",
       "        text-align: right;\n",
       "    }\n",
       "</style>\n",
       "<table border=\"1\" class=\"dataframe\">\n",
       "  <thead>\n",
       "    <tr style=\"text-align: right;\">\n",
       "      <th></th>\n",
       "      <th>nSent</th>\n",
       "      <th>nReceiv</th>\n",
       "      <th>PER</th>\n",
       "      <th>PLR</th>\n",
       "      <th>PDR</th>\n",
       "    </tr>\n",
       "  </thead>\n",
       "  <tbody>\n",
       "    <tr>\n",
       "      <th>0</th>\n",
       "      <td>126000</td>\n",
       "      <td>125906</td>\n",
       "      <td>0.000747</td>\n",
       "      <td>0.000746</td>\n",
       "      <td>0.999254</td>\n",
       "    </tr>\n",
       "  </tbody>\n",
       "</table>\n",
       "</div>"
      ],
      "text/plain": [
       "    nSent  nReceiv       PER       PLR       PDR\n",
       "0  126000   125906  0.000747  0.000746  0.999254"
      ]
     },
     "execution_count": 62,
     "metadata": {},
     "output_type": "execute_result"
    }
   ],
   "source": [
    "# ----- DATASET\n",
    "file_to_be_analysed = mac_layer_performance_metrics\n",
    "path_to_simulation = simulation_folder + simulation_id + file_to_be_analysed\n",
    "\n",
    "net_df = pd.read_csv(path_to_simulation, header=None) \n",
    "net_df.columns = [\"nSent\", \"nReceiv\", \"PER\", \"PLR\", \"PDR\"]\n",
    "\n",
    "print(\"\\nSHAPE:\", net_df.shape)\n",
    "net_df.head()"
   ]
  },
  {
   "cell_type": "code",
   "execution_count": 63,
   "metadata": {},
   "outputs": [
    {
     "name": "stdout",
     "output_type": "stream",
     "text": [
      "NETWORK PERFORMANCE METRICS:\n",
      "\n",
      "nSent: 126000.0\n",
      "nReceiv: 125906.0\n",
      "\n",
      "PER: 0.000746589\n",
      "PLR: 0.000746032\n",
      "PDR: 0.999254\n"
     ]
    }
   ],
   "source": [
    "# Valores médios de cada coluna\n",
    "print(\"NETWORK PERFORMANCE METRICS:\\n\")\n",
    "print(\"nSent:\", net_df['nSent'].mean())\n",
    "print(\"nReceiv:\", net_df['nReceiv'].mean())\n",
    "print(\"\\nPER:\", net_df['PER'].mean())\n",
    "print(\"PLR:\", net_df['PLR'].mean())\n",
    "print(\"PDR:\", net_df['PDR'].mean())"
   ]
  },
  {
   "cell_type": "code",
   "execution_count": null,
   "metadata": {},
   "outputs": [],
   "source": []
  },
  {
   "cell_type": "markdown",
   "metadata": {},
   "source": [
    "## Métricas de Consumo"
   ]
  },
  {
   "cell_type": "code",
   "execution_count": 34,
   "metadata": {},
   "outputs": [
    {
     "name": "stdout",
     "output_type": "stream",
     "text": [
      "\n",
      "SHAPE: (24, 2)\n"
     ]
    },
    {
     "data": {
      "text/html": [
       "<div>\n",
       "<style scoped>\n",
       "    .dataframe tbody tr th:only-of-type {\n",
       "        vertical-align: middle;\n",
       "    }\n",
       "\n",
       "    .dataframe tbody tr th {\n",
       "        vertical-align: top;\n",
       "    }\n",
       "\n",
       "    .dataframe thead th {\n",
       "        text-align: right;\n",
       "    }\n",
       "</style>\n",
       "<table border=\"1\" class=\"dataframe\">\n",
       "  <thead>\n",
       "    <tr style=\"text-align: right;\">\n",
       "      <th></th>\n",
       "      <th>time</th>\n",
       "      <th>energyRemaining</th>\n",
       "    </tr>\n",
       "  </thead>\n",
       "  <tbody>\n",
       "    <tr>\n",
       "      <th>0</th>\n",
       "      <td>0</td>\n",
       "      <td>10000.00</td>\n",
       "    </tr>\n",
       "    <tr>\n",
       "      <th>1</th>\n",
       "      <td>3600</td>\n",
       "      <td>6083.19</td>\n",
       "    </tr>\n",
       "    <tr>\n",
       "      <th>2</th>\n",
       "      <td>7200</td>\n",
       "      <td>2167.18</td>\n",
       "    </tr>\n",
       "    <tr>\n",
       "      <th>3</th>\n",
       "      <td>10800</td>\n",
       "      <td>0.00</td>\n",
       "    </tr>\n",
       "    <tr>\n",
       "      <th>4</th>\n",
       "      <td>14400</td>\n",
       "      <td>0.00</td>\n",
       "    </tr>\n",
       "  </tbody>\n",
       "</table>\n",
       "</div>"
      ],
      "text/plain": [
       "    time  energyRemaining\n",
       "0      0         10000.00\n",
       "1   3600          6083.19\n",
       "2   7200          2167.18\n",
       "3  10800             0.00\n",
       "4  14400             0.00"
      ]
     },
     "execution_count": 34,
     "metadata": {},
     "output_type": "execute_result"
    }
   ],
   "source": [
    "# ----- DATASET\n",
    "file_to_be_analysed = mac_layer_power_consumption\n",
    "path_to_simulation = simulation_folder + simulation_id + file_to_be_analysed\n",
    "\n",
    "energy_df = pd.read_csv(path_to_simulation, header=None) \n",
    "energy_df.columns = [\"time\", \"energyRemaining\"]\n",
    "\n",
    "# energy_df = energy_df.iloc[0:720]\n",
    "print(\"\\nSHAPE:\", energy_df.shape)\n",
    "energy_df.head()"
   ]
  },
  {
   "cell_type": "code",
   "execution_count": 35,
   "metadata": {},
   "outputs": [
    {
     "name": "stdout",
     "output_type": "stream",
     "text": [
      "\n",
      "SHAPE: (24, 3)\n",
      "\n",
      "SHAPE: (24, 4)\n"
     ]
    },
    {
     "data": {
      "text/html": [
       "<div>\n",
       "<style scoped>\n",
       "    .dataframe tbody tr th:only-of-type {\n",
       "        vertical-align: middle;\n",
       "    }\n",
       "\n",
       "    .dataframe tbody tr th {\n",
       "        vertical-align: top;\n",
       "    }\n",
       "\n",
       "    .dataframe thead th {\n",
       "        text-align: right;\n",
       "    }\n",
       "</style>\n",
       "<table border=\"1\" class=\"dataframe\">\n",
       "  <thead>\n",
       "    <tr style=\"text-align: right;\">\n",
       "      <th></th>\n",
       "      <th>time</th>\n",
       "      <th>energyRemaining</th>\n",
       "      <th>time_h</th>\n",
       "      <th>time_mes</th>\n",
       "      <th>energyRemainingPercentual</th>\n",
       "    </tr>\n",
       "  </thead>\n",
       "  <tbody>\n",
       "    <tr>\n",
       "      <th>0</th>\n",
       "      <td>0</td>\n",
       "      <td>10000.00</td>\n",
       "      <td>0.0</td>\n",
       "      <td>0.000000</td>\n",
       "      <td>100.0000</td>\n",
       "    </tr>\n",
       "    <tr>\n",
       "      <th>1</th>\n",
       "      <td>3600</td>\n",
       "      <td>6083.19</td>\n",
       "      <td>1.0</td>\n",
       "      <td>0.001370</td>\n",
       "      <td>60.8319</td>\n",
       "    </tr>\n",
       "    <tr>\n",
       "      <th>2</th>\n",
       "      <td>7200</td>\n",
       "      <td>2167.18</td>\n",
       "      <td>2.0</td>\n",
       "      <td>0.002740</td>\n",
       "      <td>21.6718</td>\n",
       "    </tr>\n",
       "    <tr>\n",
       "      <th>3</th>\n",
       "      <td>10800</td>\n",
       "      <td>0.00</td>\n",
       "      <td>3.0</td>\n",
       "      <td>0.004110</td>\n",
       "      <td>0.0000</td>\n",
       "    </tr>\n",
       "    <tr>\n",
       "      <th>4</th>\n",
       "      <td>14400</td>\n",
       "      <td>0.00</td>\n",
       "      <td>4.0</td>\n",
       "      <td>0.005479</td>\n",
       "      <td>0.0000</td>\n",
       "    </tr>\n",
       "  </tbody>\n",
       "</table>\n",
       "</div>"
      ],
      "text/plain": [
       "    time  energyRemaining  time_h  time_mes  energyRemainingPercentual\n",
       "0      0         10000.00     0.0  0.000000                   100.0000\n",
       "1   3600          6083.19     1.0  0.001370                    60.8319\n",
       "2   7200          2167.18     2.0  0.002740                    21.6718\n",
       "3  10800             0.00     3.0  0.004110                     0.0000\n",
       "4  14400             0.00     4.0  0.005479                     0.0000"
      ]
     },
     "execution_count": 35,
     "metadata": {},
     "output_type": "execute_result"
    }
   ],
   "source": [
    "# tempo para hora\n",
    "energy_df['time_h'] = energy_df['time'] / 3600.0\n",
    "print(\"\\nSHAPE:\", energy_df.shape)\n",
    "\n",
    "# hora para mês\n",
    "energy_df['time_mes'] = energy_df['time_h'] / 730\n",
    "print(\"\\nSHAPE:\", energy_df.shape)\n",
    "\n",
    "# Joules p 100%\n",
    "total = 10000.0\n",
    "energy_df['energyRemainingPercentual'] = (energy_df['energyRemaining'] / total) *100\n",
    "energy_df.head()"
   ]
  },
  {
   "cell_type": "code",
   "execution_count": 123,
   "metadata": {},
   "outputs": [],
   "source": [
    "# energy_df.duplicated()"
   ]
  },
  {
   "cell_type": "code",
   "execution_count": 36,
   "metadata": {},
   "outputs": [
    {
     "data": {
      "image/png": "[encoded data removed]",
      "text/plain": [
       "<Figure size 720x360 with 1 Axes>"
      ]
     },
     "metadata": {
      "needs_background": "light"
     },
     "output_type": "display_data"
    }
   ],
   "source": [
    "# graph measures x time (h)\n",
    "\n",
    "fig, ax = plt.subplots(figsize=(10,5))\n",
    "# plt.figure(figsize=(10,5))\n",
    "ax = plt.gca()\n",
    "\n",
    "energy_df.plot(kind='line',x=\"time_h\", y='energyRemainingPercentual',label='Energia Remanescente', color = 'blue', ax=ax)\n",
    "\n",
    "plt.xlabel('Período de Teste (hora)', fontweight='bold', fontsize=14,labelpad=5)\n",
    "plt.ylabel('Energia (100%)', fontweight='bold', fontsize=14, labelpad=5)\n",
    "\n",
    "ttl = ax.title\n",
    "ttl.set_position([.5, 1.3])\n",
    "\n",
    "plt.title('Energia x Tempo',fontweight='bold',fontsize=14)\n",
    "\n",
    "from matplotlib.ticker import FormatStrFormatter\n",
    "ax.yaxis.set_major_formatter(FormatStrFormatter('%.2f'))\n",
    "\n",
    "plt.show()\n",
    "fig.savefig('energy_result.png',bbox_inches='tight')"
   ]
  },
  {
   "cell_type": "code",
   "execution_count": 51,
   "metadata": {},
   "outputs": [],
   "source": [
    "# energy_df.describe()"
   ]
  },
  {
   "cell_type": "code",
   "execution_count": 34,
   "metadata": {},
   "outputs": [],
   "source": [
    "# totalEnergy = energy_df['energyRemaining'].max()\n",
    "# energyRemain = energy_df['energyRemaining'].min()\n",
    "# totalReceivePkts = 94\n",
    "# print(\"Total Energy:\", totalEnergy)\n",
    "# print(\"Energy Remain:\", energyRemain)\n",
    "# print(\"Total Receive Pkts:\", totalReceivePkts)\n",
    "\n",
    "# NEC = (totalEnergy - energyRemain)/totalReceivePkts\n",
    "# NEC"
   ]
  },
  {
   "cell_type": "code",
   "execution_count": null,
   "metadata": {},
   "outputs": [],
   "source": []
  },
  {
   "cell_type": "code",
   "execution_count": null,
   "metadata": {},
   "outputs": [],
   "source": []
  },
  {
   "cell_type": "markdown",
   "metadata": {},
   "source": [
    "# Análise entre simulações"
   ]
  },
  {
   "cell_type": "code",
   "execution_count": 21,
   "metadata": {},
   "outputs": [],
   "source": [
    "current_path = os.getcwd()\n",
    "current_path = '/home/wasp/Desktop/Mestrado/ns3-bmap/NS3/lorawan-metricas-exp/'"
   ]
  },
  {
   "cell_type": "markdown",
   "metadata": {},
   "source": [
    "###  Métricas da camada PHY"
   ]
  },
  {
   "cell_type": "code",
   "execution_count": 76,
   "metadata": {},
   "outputs": [
    {
     "name": "stdout",
     "output_type": "stream",
     "text": [
      "\n",
      "SHAPE: (10, 6)\n",
      "SHAPE: (10, 6)\n",
      "SHAPE: (10, 6)\n",
      "SHAPE: (10, 6)\n"
     ]
    }
   ],
   "source": [
    "# Open Datasets - Camada phy\n",
    "path_cenario_0 = current_path + \"/simulations/04-log/phy_results.txt\"\n",
    "path_cenario_1 = current_path + \"/simulations/05-log/phy_results.txt\"\n",
    "path_cenario_2 = current_path + \"/simulations/04/phy_results.txt\"\n",
    "path_cenario_3 = current_path + \"/simulations/05/phy_results.txt\"\n",
    "\n",
    "cenario_0_df = pd.read_csv(path_cenario_0, header=None) \n",
    "cenario_0_df.columns = [\"gwID\", \"received\", \"interfered\", \"noMoreReceivers\", \"underSensitivity\", \"lost\"]\n",
    "print(\"\\nSHAPE:\", cenario_0_df.shape)\n",
    "# cenario_0_df.head()\n",
    "\n",
    "cenario_1_df = pd.read_csv(path_cenario_1, header=None) \n",
    "cenario_1_df.columns = [\"gwID\", \"received\", \"interfered\", \"noMoreReceivers\", \"underSensitivity\", \"lost\"]\n",
    "print(\"SHAPE:\", cenario_1_df.shape)\n",
    "# cenario_1_df.head()\n",
    "\n",
    "cenario_2_df = pd.read_csv(path_cenario_2, header=None) \n",
    "cenario_2_df.columns = [\"gwID\", \"received\", \"interfered\", \"noMoreReceivers\", \"underSensitivity\", \"lost\"]\n",
    "print(\"SHAPE:\", cenario_2_df.shape)\n",
    "# cenario_2_df.head()\n",
    "\n",
    "cenario_3_df = pd.read_csv(path_cenario_3, header=None) \n",
    "cenario_3_df.columns = [\"gwID\", \"received\", \"interfered\", \"noMoreReceivers\", \"underSensitivity\", \"lost\"]\n",
    "print(\"SHAPE:\", cenario_3_df.shape)"
   ]
  },
  {
   "cell_type": "code",
   "execution_count": 30,
   "metadata": {},
   "outputs": [
    {
     "data": {
      "text/plain": [
       "131625.4"
      ]
     },
     "execution_count": 30,
     "metadata": {},
     "output_type": "execute_result"
    }
   ],
   "source": [
    "cenario_0_df['received'].mean()"
   ]
  },
  {
   "cell_type": "code",
   "execution_count": 77,
   "metadata": {},
   "outputs": [],
   "source": [
    "# REMOVE OUTLIERS\n",
    "cenario_2_df = cenario_2_df.iloc[1:].head()"
   ]
  },
  {
   "cell_type": "code",
   "execution_count": 78,
   "metadata": {},
   "outputs": [],
   "source": [
    "def percent_conversion (total_pkg_expected, number):\n",
    "    percent = (100 * number)/total_pkg_expected\n",
    "    return percent"
   ]
  },
  {
   "cell_type": "code",
   "execution_count": 79,
   "metadata": {
    "scrolled": true
   },
   "outputs": [
    {
     "data": {
      "image/png": "[encoded data removed]",
      "text/plain": [
       "<Figure size 432x288 with 1 Axes>"
      ]
     },
     "metadata": {
      "needs_background": "light"
     },
     "output_type": "display_data"
    }
   ],
   "source": [
    "# labels = ['1 ano', '30d - 30min', '30d -10min'] \n",
    "labels = ['I-log', 'II-log', 'I-O', 'II-O'] \n",
    "\n",
    "total_pkg_01 = 131640\n",
    "total_pkg_02 = 823680\n",
    "total_pkg_03 = 131640\n",
    "total_pkg_04 = 823680\n",
    "\n",
    "received = [percent_conversion(total_pkg_01, cenario_0_df['received'].mean()),\n",
    "            percent_conversion(total_pkg_02, cenario_1_df['received'].mean()),\n",
    "            percent_conversion(total_pkg_03, cenario_2_df['received'].mean()),\n",
    "            percent_conversion(total_pkg_04, cenario_3_df['received'].mean())]\n",
    "\n",
    "interfered = [percent_conversion(total_pkg_01, cenario_0_df['interfered'].mean()),\n",
    "              percent_conversion(total_pkg_02, cenario_1_df['interfered'].mean()),\n",
    "              percent_conversion(total_pkg_03, cenario_2_df['interfered'].mean()),\n",
    "              percent_conversion(total_pkg_04, cenario_3_df['interfered'].mean())]\n",
    "\n",
    "noMoreReceivers = [percent_conversion(total_pkg_01, cenario_0_df['noMoreReceivers'].mean()),\n",
    "                   percent_conversion(total_pkg_02, cenario_1_df['noMoreReceivers'].mean()),\n",
    "                   percent_conversion(total_pkg_03, cenario_2_df['noMoreReceivers'].mean()),\n",
    "                   percent_conversion(total_pkg_04, cenario_3_df['noMoreReceivers'].mean())]\n",
    "\n",
    "underSensitivity = [percent_conversion(total_pkg_01, cenario_0_df['underSensitivity'].mean()),\n",
    "            percent_conversion(total_pkg_01, cenario_1_df['underSensitivity'].mean()),\n",
    "            percent_conversion(total_pkg_02, cenario_2_df['underSensitivity'].mean()),\n",
    "            percent_conversion(total_pkg_03, cenario_3_df['underSensitivity'].mean())]\n",
    "\n",
    "\n",
    "x = np.arange(len(labels))  # the label locations\n",
    "width = 0.4  # the width of the bars\n",
    "\n",
    "fig, ax = plt.subplots()\n",
    "rects1 = ax.bar(x, received, width, label='Received')\n",
    "rects2 = ax.bar(x + width, interfered, width, label='Interfered')\n",
    "rects3 = ax.bar(x + width*2, noMoreReceivers, width, label='NoMoreReceivers')\n",
    "rects4 = ax.bar(x + width*3, underSensitivity, width, label='UnderSensitivity')\n",
    "\n",
    "\n",
    "# Add some text for labels, title and custom x-axis tick labels, etc.\n",
    "ax.set_ylabel('Nº of Packets sent (%)')\n",
    "ax.set_xlabel('Payload size')\n",
    "ax.set_title(' Performance at PHY level of a specific gateway \\n- SF7, 222 nodes', fontweight='bold', fontsize=12, y=1.05)\n",
    "ax.set_xticks(x)\n",
    "ax.set_xticklabels(labels)\n",
    "ax.set_ylim([0, 110]) \n",
    "ax.legend(bbox_to_anchor=(1.01, 1.01), prop={'size': 10})\n",
    "\n",
    "\n",
    "def autolabel(rects):\n",
    "    \"\"\"Attach a text label above each bar in *rects*, displaying its height.\"\"\"\n",
    "    for rect in rects:\n",
    "        height = rect.get_height()\n",
    "        ax.annotate('{}'.format(round(height,2)),\n",
    "                    xy=(rect.get_x() + rect.get_width() / 2, height),\n",
    "                    xytext=(0, 3),  # 3 points vertical offset\n",
    "                    textcoords=\"offset points\",\n",
    "                    ha='center', va='bottom')\n",
    "\n",
    "autolabel(rects1)\n",
    "autolabel(rects2)\n",
    "\n",
    "\n",
    "plt.show()\n",
    "fig.savefig('phy_performance.png',bbox_inches='tight')"
   ]
  },
  {
   "cell_type": "code",
   "execution_count": null,
   "metadata": {},
   "outputs": [],
   "source": []
  },
  {
   "cell_type": "markdown",
   "metadata": {},
   "source": [
    "## Métricas de performance da rede completa (Mac Layer)"
   ]
  },
  {
   "cell_type": "code",
   "execution_count": 97,
   "metadata": {},
   "outputs": [
    {
     "name": "stdout",
     "output_type": "stream",
     "text": [
      "\n",
      "SHAPE: (10, 5)\n",
      "SHAPE: (10, 5)\n",
      "SHAPE: (10, 5)\n",
      "SHAPE: (10, 5)\n"
     ]
    },
    {
     "data": {
      "text/html": [
       "<div>\n",
       "<style scoped>\n",
       "    .dataframe tbody tr th:only-of-type {\n",
       "        vertical-align: middle;\n",
       "    }\n",
       "\n",
       "    .dataframe tbody tr th {\n",
       "        vertical-align: top;\n",
       "    }\n",
       "\n",
       "    .dataframe thead th {\n",
       "        text-align: right;\n",
       "    }\n",
       "</style>\n",
       "<table border=\"1\" class=\"dataframe\">\n",
       "  <thead>\n",
       "    <tr style=\"text-align: right;\">\n",
       "      <th></th>\n",
       "      <th>nSent</th>\n",
       "      <th>nReceiv</th>\n",
       "      <th>PER</th>\n",
       "      <th>PLR</th>\n",
       "      <th>PDR</th>\n",
       "    </tr>\n",
       "  </thead>\n",
       "  <tbody>\n",
       "    <tr>\n",
       "      <th>0</th>\n",
       "      <td>823680</td>\n",
       "      <td>818521</td>\n",
       "      <td>0.006303</td>\n",
       "      <td>0.006263</td>\n",
       "      <td>0.993737</td>\n",
       "    </tr>\n",
       "    <tr>\n",
       "      <th>1</th>\n",
       "      <td>823680</td>\n",
       "      <td>821454</td>\n",
       "      <td>0.002710</td>\n",
       "      <td>0.002703</td>\n",
       "      <td>0.997297</td>\n",
       "    </tr>\n",
       "    <tr>\n",
       "      <th>2</th>\n",
       "      <td>823680</td>\n",
       "      <td>820647</td>\n",
       "      <td>0.003696</td>\n",
       "      <td>0.003682</td>\n",
       "      <td>0.996318</td>\n",
       "    </tr>\n",
       "    <tr>\n",
       "      <th>3</th>\n",
       "      <td>823680</td>\n",
       "      <td>820275</td>\n",
       "      <td>0.004151</td>\n",
       "      <td>0.004134</td>\n",
       "      <td>0.995866</td>\n",
       "    </tr>\n",
       "    <tr>\n",
       "      <th>4</th>\n",
       "      <td>823680</td>\n",
       "      <td>822063</td>\n",
       "      <td>0.001967</td>\n",
       "      <td>0.001963</td>\n",
       "      <td>0.998037</td>\n",
       "    </tr>\n",
       "  </tbody>\n",
       "</table>\n",
       "</div>"
      ],
      "text/plain": [
       "    nSent  nReceiv       PER       PLR       PDR\n",
       "0  823680   818521  0.006303  0.006263  0.993737\n",
       "1  823680   821454  0.002710  0.002703  0.997297\n",
       "2  823680   820647  0.003696  0.003682  0.996318\n",
       "3  823680   820275  0.004151  0.004134  0.995866\n",
       "4  823680   822063  0.001967  0.001963  0.998037"
      ]
     },
     "execution_count": 97,
     "metadata": {},
     "output_type": "execute_result"
    }
   ],
   "source": [
    "# ----- Open Datasets - Camada MAC\n",
    "\n",
    "file = \"net_results.txt\"\n",
    "path_cenario_0 = current_path + \"/simulations/04-log/\" + file\n",
    "path_cenario_1 = current_path + \"/simulations/05-log/\" + file\n",
    "path_cenario_2 = current_path + \"/simulations/04/\" + file\n",
    "path_cenario_3 = current_path + \"/simulations/05/\" + file\n",
    "\n",
    "net_0_df = pd.read_csv(path_cenario_0, header=None) \n",
    "net_0_df.columns = [\"nSent\", \"nReceiv\", \"PER\", \"PLR\", \"PDR\"]\n",
    "print(\"\\nSHAPE:\", net_0_df.shape)\n",
    "# net_0_df.head()\n",
    "\n",
    "net_1_df = pd.read_csv(path_cenario_1, header=None) \n",
    "net_1_df.columns = [\"nSent\", \"nReceiv\", \"PER\", \"PLR\", \"PDR\"]\n",
    "print(\"SHAPE:\", net_1_df.shape)\n",
    "net_1_df.head()\n",
    "\n",
    "net_2_df = pd.read_csv(path_cenario_2, header=None) \n",
    "net_2_df.columns = [\"nSent\", \"nReceiv\", \"PER\", \"PLR\", \"PDR\"]\n",
    "print(\"SHAPE:\", net_2_df.shape)\n",
    "net_2_df.head()\n",
    "\n",
    "net_3_df = pd.read_csv(path_cenario_3, header=None) \n",
    "net_3_df.columns = [\"nSent\", \"nReceiv\", \"PER\", \"PLR\", \"PDR\"]\n",
    "print(\"SHAPE:\", net_3_df.shape)\n",
    "net_3_df.head()"
   ]
  },
  {
   "cell_type": "code",
   "execution_count": 99,
   "metadata": {},
   "outputs": [],
   "source": [
    "#REMOVE OUTLIERS\n",
    "net_2_df = net_2_df.iloc[1:].head()"
   ]
  },
  {
   "cell_type": "code",
   "execution_count": 100,
   "metadata": {},
   "outputs": [
    {
     "data": {
      "image/png": "[encoded data removed]",
      "text/plain": [
       "<Figure size 432x288 with 1 Axes>"
      ]
     },
     "metadata": {
      "needs_background": "light"
     },
     "output_type": "display_data"
    }
   ],
   "source": [
    "# labels = ['1 ano', '30d - 30min', '30d -10min'] \n",
    "labels = ['I-log', 'II-log', 'I-O', 'II-O'] \n",
    "\n",
    "pdr = [net_0_df['PDR'].mean(), net_1_df['PDR'].mean(), net_2_df['PDR'].mean(), net_3_df['PDR'].mean()]\n",
    "\n",
    "x = np.arange(len(labels))  # the label locations\n",
    "width = 0.5  # the width of the bars\n",
    "\n",
    "fig, ax = plt.subplots()\n",
    "rects1 = ax.bar(x, pdr, width, label='PDR')\n",
    "\n",
    "\n",
    "# Add some text for labels, title and custom x-axis tick labels, etc.\n",
    "ax.set_ylabel('PDR')\n",
    "ax.set_title('Global performance at MAC level of the whole network \\n- SF7, 222 nodes', fontweight='bold', fontsize=12, y=1.05)\n",
    "ax.set_xticks(x)\n",
    "ax.set_xticklabels(labels)\n",
    "# ax.set_xlim([0, 1]) \n",
    "ax.set_ylim([0, max(pdr) + max(pdr)/3]) \n",
    "ax.legend()\n",
    "\n",
    "\n",
    "def autolabel(rects):\n",
    "    \"\"\"Attach a text label above each bar in *rects*, displaying its height.\"\"\"\n",
    "    for rect in rects:\n",
    "        height = rect.get_height()\n",
    "        ax.annotate('{}'.format(round(height,4)),\n",
    "                    xy=(rect.get_x() + rect.get_width() / 2, height),\n",
    "                    xytext=(0, 3),  # 3 points vertical offset\n",
    "                    textcoords=\"offset points\",\n",
    "                    ha='center', va='bottom')\n",
    "\n",
    "\n",
    "autolabel(rects1)\n",
    "\n",
    "\n",
    "fig.tight_layout()\n",
    "\n",
    "plt.show()\n",
    "fig.savefig('mac_performance.png',bbox_inches='tight')"
   ]
  },
  {
   "cell_type": "code",
   "execution_count": null,
   "metadata": {},
   "outputs": [],
   "source": []
  },
  {
   "cell_type": "code",
   "execution_count": null,
   "metadata": {},
   "outputs": [],
   "source": []
  },
  {
   "cell_type": "code",
   "execution_count": 101,
   "metadata": {},
   "outputs": [
    {
     "name": "stdout",
     "output_type": "stream",
     "text": [
      "\n",
      "SHAPE: (10, 5)\n",
      "SHAPE: (10, 5)\n",
      "SHAPE: (10, 5)\n",
      "SHAPE: (10, 5)\n"
     ]
    }
   ],
   "source": [
    "# ----- Open Datasets - Camada Delay\n",
    "\n",
    "file = \"delay_results.txt\"\n",
    "path_cenario_0 = current_path + \"/simulations/04-log/\" + file\n",
    "path_cenario_1 = current_path + \"/simulations/05-log/\" + file\n",
    "path_cenario_2 = current_path + \"/simulations/04/\" + file\n",
    "path_cenario_3 = current_path + \"/simulations/05/\" + file\n",
    "\n",
    "delay_0_df = pd.read_csv(path_cenario_0, header=None) \n",
    "# Average delay (ms),  Average delay (ns) per SF, soma dos Delays per SF (ns):\n",
    "delay_0_df.columns = [\"sent\", \"receive\", \"average_delay_s\", \"average_delay_ns\", \"delay_p_sf_ns\"]\n",
    "print(\"\\nSHAPE:\", net_0_df.shape)\n",
    "# delay_0_df.head()\n",
    "\n",
    "delay_1_df = pd.read_csv(path_cenario_1, header=None) \n",
    "delay_1_df.columns = [\"sent\", \"receive\", \"average_delay_s\", \"average_delay_ns\", \"delay_p_sf_ns\"]\n",
    "print(\"SHAPE:\", delay_1_df.shape)\n",
    "# delay_1_df.head()\n",
    "\n",
    "delay_2_df = pd.read_csv(path_cenario_2, header=None) \n",
    "delay_2_df.columns = [\"sent\", \"receive\", \"average_delay_s\", \"average_delay_ns\", \"delay_p_sf_ns\"]\n",
    "print(\"SHAPE:\", delay_2_df.shape)\n",
    "# delay_2_df.head()\n",
    "\n",
    "delay_3_df = pd.read_csv(path_cenario_3, header=None) \n",
    "delay_3_df.columns = [\"sent\", \"receive\", \"average_delay_s\", \"average_delay_ns\", \"delay_p_sf_ns\"]\n",
    "print(\"SHAPE:\", delay_3_df.shape)"
   ]
  },
  {
   "cell_type": "code",
   "execution_count": 40,
   "metadata": {},
   "outputs": [],
   "source": [
    "# delay_2_df['average_delay_s'].mean()"
   ]
  },
  {
   "cell_type": "code",
   "execution_count": 102,
   "metadata": {},
   "outputs": [
    {
     "data": {
      "text/html": [
       "<div>\n",
       "<style scoped>\n",
       "    .dataframe tbody tr th:only-of-type {\n",
       "        vertical-align: middle;\n",
       "    }\n",
       "\n",
       "    .dataframe tbody tr th {\n",
       "        vertical-align: top;\n",
       "    }\n",
       "\n",
       "    .dataframe thead th {\n",
       "        text-align: right;\n",
       "    }\n",
       "</style>\n",
       "<table border=\"1\" class=\"dataframe\">\n",
       "  <thead>\n",
       "    <tr style=\"text-align: right;\">\n",
       "      <th></th>\n",
       "      <th>nSent</th>\n",
       "      <th>nReceiv</th>\n",
       "      <th>PER</th>\n",
       "      <th>PLR</th>\n",
       "      <th>PDR</th>\n",
       "    </tr>\n",
       "  </thead>\n",
       "  <tbody>\n",
       "    <tr>\n",
       "      <th>2</th>\n",
       "      <td>131640</td>\n",
       "      <td>131549</td>\n",
       "      <td>0.000692</td>\n",
       "      <td>0.000691</td>\n",
       "      <td>0.999309</td>\n",
       "    </tr>\n",
       "    <tr>\n",
       "      <th>3</th>\n",
       "      <td>131640</td>\n",
       "      <td>131640</td>\n",
       "      <td>0.000000</td>\n",
       "      <td>0.000000</td>\n",
       "      <td>1.000000</td>\n",
       "    </tr>\n",
       "    <tr>\n",
       "      <th>4</th>\n",
       "      <td>131640</td>\n",
       "      <td>131640</td>\n",
       "      <td>0.000000</td>\n",
       "      <td>0.000000</td>\n",
       "      <td>1.000000</td>\n",
       "    </tr>\n",
       "    <tr>\n",
       "      <th>5</th>\n",
       "      <td>131640</td>\n",
       "      <td>131538</td>\n",
       "      <td>0.000775</td>\n",
       "      <td>0.000775</td>\n",
       "      <td>0.999225</td>\n",
       "    </tr>\n",
       "  </tbody>\n",
       "</table>\n",
       "</div>"
      ],
      "text/plain": [
       "    nSent  nReceiv       PER       PLR       PDR\n",
       "2  131640   131549  0.000692  0.000691  0.999309\n",
       "3  131640   131640  0.000000  0.000000  1.000000\n",
       "4  131640   131640  0.000000  0.000000  1.000000\n",
       "5  131640   131538  0.000775  0.000775  0.999225"
      ]
     },
     "execution_count": 102,
     "metadata": {},
     "output_type": "execute_result"
    }
   ],
   "source": [
    "# REMOVE OUTLIERS\n",
    "net_2_df = net_2_df.iloc[1:]\n",
    "net_2_df.head()"
   ]
  },
  {
   "cell_type": "code",
   "execution_count": 103,
   "metadata": {},
   "outputs": [
    {
     "data": {
      "image/png": "[encoded data removed]",
      "text/plain": [
       "<Figure size 432x288 with 1 Axes>"
      ]
     },
     "metadata": {
      "needs_background": "light"
     },
     "output_type": "display_data"
    }
   ],
   "source": [
    "# labels = ['11 bytes', '51 bytes', '222 bytes']\n",
    "# labels = ['Cenario I', 'Cenario II'] \n",
    "labels = ['I-log', 'II-log', 'I-O', 'II-O'] \n",
    "\n",
    "delay = [delay_0_df['average_delay_s'].mean(), delay_1_df['average_delay_s'].mean(),\n",
    "         delay_2_df['average_delay_s'].mean(), delay_3_df['average_delay_s'].mean()]\n",
    "\n",
    "x = np.arange(len(labels))  # the label locations\n",
    "width = 0.5  # the width of the bars\n",
    "\n",
    "fig, ax = plt.subplots()\n",
    "rects1 = ax.bar(x, delay, width, label='Average Delay (ms)', color='green')\n",
    "\n",
    "\n",
    "# Add some text for labels, title and custom x-axis tick labels, etc.\n",
    "ax.set_ylabel('Average Delay (ms)')\n",
    "ax.set_title('Average Delay (ms) - SF7, 222 nodes', fontweight='bold', fontsize=12, y=1.05)\n",
    "ax.set_xticks(x)\n",
    "ax.set_xticklabels(labels)\n",
    "ax.set_ylim([0, max(delay) + max(delay)/3]) \n",
    "ax.legend()\n",
    "\n",
    "\n",
    "def autolabel(rects):\n",
    "    \"\"\"Attach a text label above each bar in *rects*, displaying its height.\"\"\"\n",
    "    for rect in rects:\n",
    "        height = rect.get_height()\n",
    "        ax.annotate('{}'.format(round(height,4)),\n",
    "                    xy=(rect.get_x() + rect.get_width() / 2, height),\n",
    "                    xytext=(0, 3),  # 3 points vertical offset\n",
    "                    textcoords=\"offset points\",\n",
    "                    ha='center', va='bottom')\n",
    "\n",
    "\n",
    "autolabel(rects1)\n",
    "\n",
    "\n",
    "fig.tight_layout()\n",
    "\n",
    "plt.show()\n",
    "fig.savefig('delay_performance.png',bbox_inches='tight')"
   ]
  },
  {
   "cell_type": "code",
   "execution_count": null,
   "metadata": {},
   "outputs": [],
   "source": []
  },
  {
   "cell_type": "markdown",
   "metadata": {},
   "source": [
    "# Modelo de Energia"
   ]
  },
  {
   "cell_type": "code",
   "execution_count": 38,
   "metadata": {},
   "outputs": [
    {
     "name": "stdout",
     "output_type": "stream",
     "text": [
      "\n",
      "SHAPE: (24, 2)\n"
     ]
    },
    {
     "data": {
      "text/html": [
       "<div>\n",
       "<style scoped>\n",
       "    .dataframe tbody tr th:only-of-type {\n",
       "        vertical-align: middle;\n",
       "    }\n",
       "\n",
       "    .dataframe tbody tr th {\n",
       "        vertical-align: top;\n",
       "    }\n",
       "\n",
       "    .dataframe thead th {\n",
       "        text-align: right;\n",
       "    }\n",
       "</style>\n",
       "<table border=\"1\" class=\"dataframe\">\n",
       "  <thead>\n",
       "    <tr style=\"text-align: right;\">\n",
       "      <th></th>\n",
       "      <th>time</th>\n",
       "      <th>energyRemaining</th>\n",
       "    </tr>\n",
       "  </thead>\n",
       "  <tbody>\n",
       "    <tr>\n",
       "      <th>0</th>\n",
       "      <td>0</td>\n",
       "      <td>10000.00</td>\n",
       "    </tr>\n",
       "    <tr>\n",
       "      <th>1</th>\n",
       "      <td>3600</td>\n",
       "      <td>5905.11</td>\n",
       "    </tr>\n",
       "    <tr>\n",
       "      <th>2</th>\n",
       "      <td>7200</td>\n",
       "      <td>1810.22</td>\n",
       "    </tr>\n",
       "    <tr>\n",
       "      <th>3</th>\n",
       "      <td>10800</td>\n",
       "      <td>0.00</td>\n",
       "    </tr>\n",
       "    <tr>\n",
       "      <th>4</th>\n",
       "      <td>14400</td>\n",
       "      <td>0.00</td>\n",
       "    </tr>\n",
       "  </tbody>\n",
       "</table>\n",
       "</div>"
      ],
      "text/plain": [
       "    time  energyRemaining\n",
       "0      0         10000.00\n",
       "1   3600          5905.11\n",
       "2   7200          1810.22\n",
       "3  10800             0.00\n",
       "4  14400             0.00"
      ]
     },
     "execution_count": 38,
     "metadata": {},
     "output_type": "execute_result"
    }
   ],
   "source": [
    "# ----- Open Datasets - Consumo\n",
    "\n",
    "file = \"energy_results.txt\"\n",
    "path_cenario_1 = current_path + \"/simulations/06/\" + file\n",
    "path_cenario_2 = current_path + \"/simulations/07/\" + file\n",
    "# path_cenario_3 = current_path + \"/simulations/04/\" + file\n",
    "# path_cenario_4 = current_path + \"/simulations/05/\" + file\n",
    "\n",
    "energy_df_1 = pd.read_csv(path_cenario_1, header=None) \n",
    "energy_df_1.columns = [\"time\", \"energyRemaining\"]\n",
    "\n",
    "energy_df_2 = pd.read_csv(path_cenario_2, header=None) \n",
    "energy_df_2.columns = [\"time\", \"energyRemaining\"]\n",
    "\n",
    "# energy_df_3 = pd.read_csv(path_cenario_3, header=None) \n",
    "# energy_df_3.columns = [\"time\", \"energyRemaining\"]\n",
    "\n",
    "# energy_df_4 = pd.read_csv(path_cenario_4, header=None) \n",
    "# energy_df_4.columns = [\"time\", \"energyRemaining\"]\n",
    "\n",
    "# energy_df_1 = energy_df_1.iloc[0:720]\n",
    "# energy_df_2 = energy_df_2.iloc[0:720]\n",
    "# energy_df_3 = energy_df_3.iloc[0:720]\n",
    "# energy_df_4 = energy_df_4.iloc[0:720]\n",
    "print(\"\\nSHAPE:\", energy_df_1.shape)\n",
    "energy_df_1.head()"
   ]
  },
  {
   "cell_type": "code",
   "execution_count": 39,
   "metadata": {},
   "outputs": [
    {
     "name": "stdout",
     "output_type": "stream",
     "text": [
      "\n",
      "SHAPE: (24, 3)\n",
      "\n",
      "SHAPE: (24, 4)\n",
      "\n",
      "SHAPE: (24, 3)\n",
      "\n",
      "SHAPE: (24, 4)\n"
     ]
    },
    {
     "data": {
      "text/html": [
       "<div>\n",
       "<style scoped>\n",
       "    .dataframe tbody tr th:only-of-type {\n",
       "        vertical-align: middle;\n",
       "    }\n",
       "\n",
       "    .dataframe tbody tr th {\n",
       "        vertical-align: top;\n",
       "    }\n",
       "\n",
       "    .dataframe thead th {\n",
       "        text-align: right;\n",
       "    }\n",
       "</style>\n",
       "<table border=\"1\" class=\"dataframe\">\n",
       "  <thead>\n",
       "    <tr style=\"text-align: right;\">\n",
       "      <th></th>\n",
       "      <th>time</th>\n",
       "      <th>energyRemaining</th>\n",
       "      <th>time_h</th>\n",
       "      <th>time_mes</th>\n",
       "      <th>energyRemainingPercentual</th>\n",
       "    </tr>\n",
       "  </thead>\n",
       "  <tbody>\n",
       "    <tr>\n",
       "      <th>0</th>\n",
       "      <td>0</td>\n",
       "      <td>10000.00</td>\n",
       "      <td>0.0</td>\n",
       "      <td>0.000000</td>\n",
       "      <td>100.0000</td>\n",
       "    </tr>\n",
       "    <tr>\n",
       "      <th>1</th>\n",
       "      <td>3600</td>\n",
       "      <td>5904.94</td>\n",
       "      <td>1.0</td>\n",
       "      <td>0.001370</td>\n",
       "      <td>59.0494</td>\n",
       "    </tr>\n",
       "    <tr>\n",
       "      <th>2</th>\n",
       "      <td>7200</td>\n",
       "      <td>1809.88</td>\n",
       "      <td>2.0</td>\n",
       "      <td>0.002740</td>\n",
       "      <td>18.0988</td>\n",
       "    </tr>\n",
       "    <tr>\n",
       "      <th>3</th>\n",
       "      <td>10800</td>\n",
       "      <td>0.00</td>\n",
       "      <td>3.0</td>\n",
       "      <td>0.004110</td>\n",
       "      <td>0.0000</td>\n",
       "    </tr>\n",
       "    <tr>\n",
       "      <th>4</th>\n",
       "      <td>14400</td>\n",
       "      <td>0.00</td>\n",
       "      <td>4.0</td>\n",
       "      <td>0.005479</td>\n",
       "      <td>0.0000</td>\n",
       "    </tr>\n",
       "  </tbody>\n",
       "</table>\n",
       "</div>"
      ],
      "text/plain": [
       "    time  energyRemaining  time_h  time_mes  energyRemainingPercentual\n",
       "0      0         10000.00     0.0  0.000000                   100.0000\n",
       "1   3600          5904.94     1.0  0.001370                    59.0494\n",
       "2   7200          1809.88     2.0  0.002740                    18.0988\n",
       "3  10800             0.00     3.0  0.004110                     0.0000\n",
       "4  14400             0.00     4.0  0.005479                     0.0000"
      ]
     },
     "execution_count": 39,
     "metadata": {},
     "output_type": "execute_result"
    }
   ],
   "source": [
    "# tempo para hora\n",
    "energy_df_1['time_h'] = energy_df_1['time'] / 3600.0\n",
    "print(\"\\nSHAPE:\", energy_df_1.shape)\n",
    "\n",
    "# hora para mês\n",
    "energy_df_1['time_mes'] = energy_df_1['time_h'] / 730\n",
    "print(\"\\nSHAPE:\", energy_df_1.shape)\n",
    "\n",
    "# Joules p 100%\n",
    "total = 10000.0\n",
    "energy_df_1['energyRemainingPercentual'] = (energy_df_1['energyRemaining'] / total) *100\n",
    "energy_df_1.head()\n",
    "\n",
    "# tempo para hora\n",
    "energy_df_2['time_h'] = energy_df_2['time'] / 3600.0\n",
    "print(\"\\nSHAPE:\", energy_df_2.shape)\n",
    "\n",
    "# hora para mês\n",
    "energy_df_2['time_mes'] = energy_df_2['time_h'] / 730\n",
    "print(\"\\nSHAPE:\", energy_df_2.shape)\n",
    "\n",
    "# Joules p 100%\n",
    "total = 10000.0\n",
    "energy_df_2['energyRemainingPercentual'] = (energy_df_2['energyRemaining'] / total) *100\n",
    "energy_df_2.head()\n",
    "\n",
    "# # tempo para hora\n",
    "# energy_df_3['time_h'] = energy_df_3['time'] / 3600.0\n",
    "# print(\"\\nSHAPE:\", energy_df_3.shape)\n",
    "\n",
    "# # hora para mês\n",
    "# energy_df_3['time_mes'] = energy_df_3['time_h'] / 730\n",
    "# print(\"\\nSHAPE:\", energy_df_3.shape)\n",
    "\n",
    "# # Joules p 100%\n",
    "# total = 10000.0\n",
    "# energy_df_3['energyRemainingPercentual'] = (energy_df_3['energyRemaining'] / total) *100\n",
    "# energy_df_3.head()\n",
    "\n",
    "# # tempo para hora\n",
    "# energy_df_4['time_h'] = energy_df_4['time'] / 3600.0\n",
    "# print(\"\\nSHAPE:\", energy_df_4.shape)\n",
    "\n",
    "# # hora para mês\n",
    "# energy_df_4['time_mes'] = energy_df_4['time_h'] / 730\n",
    "# print(\"\\nSHAPE:\", energy_df_4.shape)\n",
    "\n",
    "# # Joules p 100%\n",
    "# total = 10000.0\n",
    "# energy_df_4['energyRemainingPercentual'] = (energy_df_4['energyRemaining'] / total) *100\n",
    "# energy_df_4.head()"
   ]
  },
  {
   "cell_type": "code",
   "execution_count": 108,
   "metadata": {},
   "outputs": [],
   "source": [
    "#REMOVE OUTLIERS\n",
    "energy_df_2 = energy_df_2.iloc[:720]\n",
    "# energy_df_2.head(50)"
   ]
  },
  {
   "cell_type": "code",
   "execution_count": 41,
   "metadata": {},
   "outputs": [
    {
     "data": {
      "image/png": "[encoded data removed]",
      "text/plain": [
       "<Figure size 720x360 with 1 Axes>"
      ]
     },
     "metadata": {
      "needs_background": "light"
     },
     "output_type": "display_data"
    }
   ],
   "source": [
    "# graph measures x time (h)\n",
    "\n",
    "fig, ax = plt.subplots(figsize=(10,5))\n",
    "# plt.figure(figsize=(10,5))\n",
    "ax = plt.gca()\n",
    "\n",
    "energy_df_1.plot(kind='line',x=\"time_h\", y='energyRemainingPercentual',label='+ Sleep mode', color = 'green', ax=ax)\n",
    "energy_df_2.plot(kind='line',x=\"time_h\", y='energyRemainingPercentual',label='+ All modes', color = 'blue', ax=ax)\n",
    "# energy_df_3.plot(kind='line',x=\"time_mes\", y='energyRemainingPercentual',label='Cenario I-okumura', color = 'red', ax=ax)\n",
    "# energy_df_4.plot(kind='line',x=\"time_mes\", y='energyRemainingPercentual',label='Cenario II-okumura', color = 'red', ax=ax)\n",
    "\n",
    "\n",
    "plt.xlabel('Período de Teste (h)', fontweight='bold', fontsize=14,labelpad=5)\n",
    "plt.ylabel('Energia (100%)', fontweight='bold', fontsize=14, labelpad=5)\n",
    "\n",
    "ttl = ax.title\n",
    "ttl.set_position([.5, 1.3])\n",
    "\n",
    "plt.title('Energia x Tempo (h)',fontweight='bold',fontsize=14)\n",
    "\n",
    "from matplotlib.ticker import FormatStrFormatter\n",
    "ax.yaxis.set_major_formatter(FormatStrFormatter('%.2f'))\n",
    "\n",
    "plt.show()\n",
    "fig.savefig('energy_performance.png',bbox_inches='tight')"
   ]
  }
 ],
 "metadata": {
  "kernelspec": {
   "display_name": "Python 3",
   "language": "python",
   "name": "python3"
  },
  "language_info": {
   "codemirror_mode": {
    "name": "ipython",
    "version": 3
   },
   "file_extension": ".py",
   "mimetype": "text/x-python",
   "name": "python",
   "nbconvert_exporter": "python",
   "pygments_lexer": "ipython3",
   "version": "3.8.11"
  }
 },
 "nbformat": 4,
 "nbformat_minor": 4
}
