{
 "cells": [
  {
   "cell_type": "code",
   "execution_count": 1,
   "metadata": {},
   "outputs": [],
   "source": [
    "# ----- LIBS\n",
    "\n",
    "# normalizar\n",
    "import numpy as np\n",
    "from shapely.geometry import mapping\n",
    "from sklearn.preprocessing import MinMaxScaler\n",
    "\n",
    "# gerar e visualizar csv\n",
    "import csv\n",
    "import pandas as pd\n",
    "import matplotlib.pyplot as plt"
   ]
  },
  {
   "cell_type": "code",
   "execution_count": 2,
   "metadata": {},
   "outputs": [
    {
     "name": "stdout",
     "output_type": "stream",
     "text": [
      "CONTEINERS - DATASET SHAPE: (175, 6)\n",
      "BATTERIES - DATASET SHAPE: (47, 8)\n",
      "SMART METERS - DATASET SHAPE: (321, 6)\n"
     ]
    }
   ],
   "source": [
    "# Load datasets\n",
    "conteiners_df = pd.read_csv('conteiners_dataset_elev.csv', index_col=0) \n",
    "batteries_df = pd.read_csv('coletores_pos_dataset_elev.csv', index_col=0) \n",
    "smart_meters_df = pd.read_csv('medidores_inteligentes_dataset_elev.csv', index_col=0) \n",
    "\n",
    "print(\"CONTEINERS - DATASET SHAPE:\", conteiners_df.shape)\n",
    "print(\"BATTERIES - DATASET SHAPE:\", batteries_df.shape)\n",
    "print(\"SMART METERS - DATASET SHAPE:\", smart_meters_df.shape)"
   ]
  },
  {
   "cell_type": "code",
   "execution_count": 3,
   "metadata": {},
   "outputs": [],
   "source": [
    "## MUSEU COORDS:\n",
    "# -22.814914, -47.057714"
   ]
  },
  {
   "cell_type": "code",
   "execution_count": null,
   "metadata": {},
   "outputs": [],
   "source": []
  },
  {
   "cell_type": "markdown",
   "metadata": {},
   "source": [
    "## Add Elevation of OpenTOPOdata on Battery dataset"
   ]
  },
  {
   "cell_type": "code",
   "execution_count": 4,
   "metadata": {},
   "outputs": [
    {
     "data": {
      "text/html": [
       "<div>\n",
       "<style scoped>\n",
       "    .dataframe tbody tr th:only-of-type {\n",
       "        vertical-align: middle;\n",
       "    }\n",
       "\n",
       "    .dataframe tbody tr th {\n",
       "        vertical-align: top;\n",
       "    }\n",
       "\n",
       "    .dataframe thead th {\n",
       "        text-align: right;\n",
       "    }\n",
       "</style>\n",
       "<table border=\"1\" class=\"dataframe\">\n",
       "  <thead>\n",
       "    <tr style=\"text-align: right;\">\n",
       "      <th></th>\n",
       "      <th>id</th>\n",
       "      <th>name</th>\n",
       "      <th>x</th>\n",
       "      <th>y</th>\n",
       "      <th>z</th>\n",
       "      <th>elevation</th>\n",
       "      <th>latitude</th>\n",
       "      <th>longitude</th>\n",
       "    </tr>\n",
       "  </thead>\n",
       "  <tbody>\n",
       "    <tr>\n",
       "      <th>0</th>\n",
       "      <td>1321.0</td>\n",
       "      <td>INOVA</td>\n",
       "      <td>1527.405075</td>\n",
       "      <td>2180.212233</td>\n",
       "      <td>1.5</td>\n",
       "      <td>644.458740</td>\n",
       "      <td>-22.814543</td>\n",
       "      <td>-47.059340</td>\n",
       "    </tr>\n",
       "    <tr>\n",
       "      <th>1</th>\n",
       "      <td>535.0</td>\n",
       "      <td>BC</td>\n",
       "      <td>297.311734</td>\n",
       "      <td>1965.812273</td>\n",
       "      <td>1.5</td>\n",
       "      <td>602.154968</td>\n",
       "      <td>-22.816324</td>\n",
       "      <td>-47.071348</td>\n",
       "    </tr>\n",
       "    <tr>\n",
       "      <th>2</th>\n",
       "      <td>802.0</td>\n",
       "      <td>CBMEG</td>\n",
       "      <td>1535.553550</td>\n",
       "      <td>1646.180816</td>\n",
       "      <td>1.5</td>\n",
       "      <td>652.513123</td>\n",
       "      <td>-22.819365</td>\n",
       "      <td>-47.059333</td>\n",
       "    </tr>\n",
       "    <tr>\n",
       "      <th>3</th>\n",
       "      <td>845.0</td>\n",
       "      <td>CCUEC</td>\n",
       "      <td>1149.489906</td>\n",
       "      <td>1831.086023</td>\n",
       "      <td>1.5</td>\n",
       "      <td>616.788940</td>\n",
       "      <td>-22.817648</td>\n",
       "      <td>-47.063068</td>\n",
       "    </tr>\n",
       "    <tr>\n",
       "      <th>4</th>\n",
       "      <td>1037.0</td>\n",
       "      <td>GASTROCENTRO</td>\n",
       "      <td>1186.795533</td>\n",
       "      <td>667.866479</td>\n",
       "      <td>1.5</td>\n",
       "      <td>635.025085</td>\n",
       "      <td>-22.828153</td>\n",
       "      <td>-47.062863</td>\n",
       "    </tr>\n",
       "  </tbody>\n",
       "</table>\n",
       "</div>"
      ],
      "text/plain": [
       "       id          name            x            y    z   elevation   latitude  \\\n",
       "0  1321.0         INOVA  1527.405075  2180.212233  1.5  644.458740 -22.814543   \n",
       "1   535.0            BC   297.311734  1965.812273  1.5  602.154968 -22.816324   \n",
       "2   802.0         CBMEG  1535.553550  1646.180816  1.5  652.513123 -22.819365   \n",
       "3   845.0         CCUEC  1149.489906  1831.086023  1.5  616.788940 -22.817648   \n",
       "4  1037.0  GASTROCENTRO  1186.795533   667.866479  1.5  635.025085 -22.828153   \n",
       "\n",
       "   longitude  \n",
       "0 -47.059340  \n",
       "1 -47.071348  \n",
       "2 -47.059333  \n",
       "3 -47.063068  \n",
       "4 -47.062863  "
      ]
     },
     "execution_count": 4,
     "metadata": {},
     "output_type": "execute_result"
    }
   ],
   "source": [
    "batteries_df.head()"
   ]
  },
  {
   "cell_type": "code",
   "execution_count": 5,
   "metadata": {},
   "outputs": [],
   "source": [
    "# ADD Elevação\n",
    "import time\n",
    "import requests\n",
    "\n",
    "def get_point_elevation(lat, lng):\n",
    "    receive = requests.get('https://api.opentopodata.org/v1/aster30m?locations=' + str(lat) + ','+ str(lng))\n",
    "    data = receive.json()\n",
    "#     print(data['results'][0]['elevation'])\n",
    "    return float(data['results'][0]['elevation'])"
   ]
  },
  {
   "cell_type": "code",
   "execution_count": 6,
   "metadata": {},
   "outputs": [
    {
     "name": "stdout",
     "output_type": "stream",
     "text": [
      "47\n"
     ]
    }
   ],
   "source": [
    "elevation_column = []\n",
    "for i in range(batteries_df.shape[0]):\n",
    "    elevation = get_point_elevation(batteries_df['latitude'][i], batteries_df['longitude'][i])\n",
    "    elevation_column.append(elevation)\n",
    "    # print(\"i:\", i,\"-\", \"elevation:\", elevation)\n",
    "    time.sleep(1)\n",
    "\n",
    "print(len(elevation_column))"
   ]
  },
  {
   "cell_type": "code",
   "execution_count": 7,
   "metadata": {},
   "outputs": [
    {
     "data": {
      "text/html": [
       "<div>\n",
       "<style scoped>\n",
       "    .dataframe tbody tr th:only-of-type {\n",
       "        vertical-align: middle;\n",
       "    }\n",
       "\n",
       "    .dataframe tbody tr th {\n",
       "        vertical-align: top;\n",
       "    }\n",
       "\n",
       "    .dataframe thead th {\n",
       "        text-align: right;\n",
       "    }\n",
       "</style>\n",
       "<table border=\"1\" class=\"dataframe\">\n",
       "  <thead>\n",
       "    <tr style=\"text-align: right;\">\n",
       "      <th></th>\n",
       "      <th>id</th>\n",
       "      <th>name</th>\n",
       "      <th>x</th>\n",
       "      <th>y</th>\n",
       "      <th>z</th>\n",
       "      <th>elevation</th>\n",
       "      <th>latitude</th>\n",
       "      <th>longitude</th>\n",
       "    </tr>\n",
       "  </thead>\n",
       "  <tbody>\n",
       "    <tr>\n",
       "      <th>0</th>\n",
       "      <td>1321.0</td>\n",
       "      <td>INOVA</td>\n",
       "      <td>1527.405075</td>\n",
       "      <td>2180.212233</td>\n",
       "      <td>1.5</td>\n",
       "      <td>638.0</td>\n",
       "      <td>-22.814543</td>\n",
       "      <td>-47.059340</td>\n",
       "    </tr>\n",
       "    <tr>\n",
       "      <th>1</th>\n",
       "      <td>535.0</td>\n",
       "      <td>BC</td>\n",
       "      <td>297.311734</td>\n",
       "      <td>1965.812273</td>\n",
       "      <td>1.5</td>\n",
       "      <td>604.0</td>\n",
       "      <td>-22.816324</td>\n",
       "      <td>-47.071348</td>\n",
       "    </tr>\n",
       "    <tr>\n",
       "      <th>2</th>\n",
       "      <td>802.0</td>\n",
       "      <td>CBMEG</td>\n",
       "      <td>1535.553550</td>\n",
       "      <td>1646.180816</td>\n",
       "      <td>1.5</td>\n",
       "      <td>641.0</td>\n",
       "      <td>-22.819365</td>\n",
       "      <td>-47.059333</td>\n",
       "    </tr>\n",
       "    <tr>\n",
       "      <th>3</th>\n",
       "      <td>845.0</td>\n",
       "      <td>CCUEC</td>\n",
       "      <td>1149.489906</td>\n",
       "      <td>1831.086023</td>\n",
       "      <td>1.5</td>\n",
       "      <td>609.0</td>\n",
       "      <td>-22.817648</td>\n",
       "      <td>-47.063068</td>\n",
       "    </tr>\n",
       "    <tr>\n",
       "      <th>4</th>\n",
       "      <td>1037.0</td>\n",
       "      <td>GASTROCENTRO</td>\n",
       "      <td>1186.795533</td>\n",
       "      <td>667.866479</td>\n",
       "      <td>1.5</td>\n",
       "      <td>632.0</td>\n",
       "      <td>-22.828153</td>\n",
       "      <td>-47.062863</td>\n",
       "    </tr>\n",
       "  </tbody>\n",
       "</table>\n",
       "</div>"
      ],
      "text/plain": [
       "       id          name            x            y    z  elevation   latitude  \\\n",
       "0  1321.0         INOVA  1527.405075  2180.212233  1.5      638.0 -22.814543   \n",
       "1   535.0            BC   297.311734  1965.812273  1.5      604.0 -22.816324   \n",
       "2   802.0         CBMEG  1535.553550  1646.180816  1.5      641.0 -22.819365   \n",
       "3   845.0         CCUEC  1149.489906  1831.086023  1.5      609.0 -22.817648   \n",
       "4  1037.0  GASTROCENTRO  1186.795533   667.866479  1.5      632.0 -22.828153   \n",
       "\n",
       "   longitude  \n",
       "0 -47.059340  \n",
       "1 -47.071348  \n",
       "2 -47.059333  \n",
       "3 -47.063068  \n",
       "4 -47.062863  "
      ]
     },
     "execution_count": 7,
     "metadata": {},
     "output_type": "execute_result"
    }
   ],
   "source": [
    "# create new df \n",
    "df_elev = pd.DataFrame({'elev':elevation_column})\n",
    "df_elev.head()\n",
    "\n",
    "batteries_df['elevation'] = df_elev['elev']\n",
    "batteries_df.head()"
   ]
  },
  {
   "cell_type": "code",
   "execution_count": null,
   "metadata": {},
   "outputs": [],
   "source": []
  },
  {
   "cell_type": "markdown",
   "metadata": {},
   "source": [
    "## Make some histograms"
   ]
  },
  {
   "cell_type": "code",
   "execution_count": 8,
   "metadata": {},
   "outputs": [
    {
     "data": {
      "image/png": "[encoded data removed]",
      "text/plain": [
       "<Figure size 432x288 with 1 Axes>"
      ]
     },
     "metadata": {
      "needs_background": "light"
     },
     "output_type": "display_data"
    }
   ],
   "source": [
    "ax = batteries_df['elevation'].plot.hist(bins=12, alpha=0.5)"
   ]
  },
  {
   "cell_type": "code",
   "execution_count": 9,
   "metadata": {},
   "outputs": [
    {
     "data": {
      "image/png": "[encoded data removed]",
      "text/plain": [
       "<Figure size 432x288 with 1 Axes>"
      ]
     },
     "metadata": {
      "needs_background": "light"
     },
     "output_type": "display_data"
    }
   ],
   "source": [
    "ax = conteiners_df['elevation'].plot.hist(bins=12, alpha=0.5)"
   ]
  },
  {
   "cell_type": "code",
   "execution_count": 10,
   "metadata": {},
   "outputs": [
    {
     "data": {
      "image/png": "[encoded data removed]",
      "text/plain": [
       "<Figure size 432x288 with 1 Axes>"
      ]
     },
     "metadata": {
      "needs_background": "light"
     },
     "output_type": "display_data"
    }
   ],
   "source": [
    "ax = smart_meters_df['elevation'].plot.hist(bins=12, alpha=0.5)"
   ]
  },
  {
   "cell_type": "code",
   "execution_count": 11,
   "metadata": {},
   "outputs": [
    {
     "data": {
      "text/html": [
       "<div>\n",
       "<style scoped>\n",
       "    .dataframe tbody tr th:only-of-type {\n",
       "        vertical-align: middle;\n",
       "    }\n",
       "\n",
       "    .dataframe tbody tr th {\n",
       "        vertical-align: top;\n",
       "    }\n",
       "\n",
       "    .dataframe thead th {\n",
       "        text-align: right;\n",
       "    }\n",
       "</style>\n",
       "<table border=\"1\" class=\"dataframe\">\n",
       "  <thead>\n",
       "    <tr style=\"text-align: right;\">\n",
       "      <th></th>\n",
       "      <th>x</th>\n",
       "      <th>y</th>\n",
       "      <th>z</th>\n",
       "      <th>lat</th>\n",
       "      <th>lng</th>\n",
       "      <th>elevation</th>\n",
       "    </tr>\n",
       "  </thead>\n",
       "  <tbody>\n",
       "    <tr>\n",
       "      <th>count</th>\n",
       "      <td>321.000000</td>\n",
       "      <td>321.000000</td>\n",
       "      <td>321.0</td>\n",
       "      <td>321.000000</td>\n",
       "      <td>321.000000</td>\n",
       "      <td>321.000000</td>\n",
       "    </tr>\n",
       "    <tr>\n",
       "      <th>mean</th>\n",
       "      <td>887.629353</td>\n",
       "      <td>1585.221746</td>\n",
       "      <td>1.5</td>\n",
       "      <td>-22.819834</td>\n",
       "      <td>-47.065651</td>\n",
       "      <td>605.096573</td>\n",
       "    </tr>\n",
       "    <tr>\n",
       "      <th>std</th>\n",
       "      <td>329.659505</td>\n",
       "      <td>512.740906</td>\n",
       "      <td>0.0</td>\n",
       "      <td>0.004642</td>\n",
       "      <td>0.003190</td>\n",
       "      <td>17.541558</td>\n",
       "    </tr>\n",
       "    <tr>\n",
       "      <th>min</th>\n",
       "      <td>106.920896</td>\n",
       "      <td>307.442750</td>\n",
       "      <td>1.5</td>\n",
       "      <td>-22.831423</td>\n",
       "      <td>-47.073155</td>\n",
       "      <td>575.000000</td>\n",
       "    </tr>\n",
       "    <tr>\n",
       "      <th>25%</th>\n",
       "      <td>670.944572</td>\n",
       "      <td>1200.006018</td>\n",
       "      <td>1.5</td>\n",
       "      <td>-22.823317</td>\n",
       "      <td>-47.067690</td>\n",
       "      <td>593.000000</td>\n",
       "    </tr>\n",
       "    <tr>\n",
       "      <th>50%</th>\n",
       "      <td>874.873964</td>\n",
       "      <td>1681.576312</td>\n",
       "      <td>1.5</td>\n",
       "      <td>-22.818934</td>\n",
       "      <td>-47.065694</td>\n",
       "      <td>600.000000</td>\n",
       "    </tr>\n",
       "    <tr>\n",
       "      <th>75%</th>\n",
       "      <td>1088.425163</td>\n",
       "      <td>1984.898362</td>\n",
       "      <td>1.5</td>\n",
       "      <td>-22.816205</td>\n",
       "      <td>-47.063771</td>\n",
       "      <td>619.000000</td>\n",
       "    </tr>\n",
       "    <tr>\n",
       "      <th>max</th>\n",
       "      <td>1824.260611</td>\n",
       "      <td>2390.748853</td>\n",
       "      <td>1.5</td>\n",
       "      <td>-22.812542</td>\n",
       "      <td>-47.056441</td>\n",
       "      <td>660.000000</td>\n",
       "    </tr>\n",
       "  </tbody>\n",
       "</table>\n",
       "</div>"
      ],
      "text/plain": [
       "                 x            y      z         lat         lng   elevation\n",
       "count   321.000000   321.000000  321.0  321.000000  321.000000  321.000000\n",
       "mean    887.629353  1585.221746    1.5  -22.819834  -47.065651  605.096573\n",
       "std     329.659505   512.740906    0.0    0.004642    0.003190   17.541558\n",
       "min     106.920896   307.442750    1.5  -22.831423  -47.073155  575.000000\n",
       "25%     670.944572  1200.006018    1.5  -22.823317  -47.067690  593.000000\n",
       "50%     874.873964  1681.576312    1.5  -22.818934  -47.065694  600.000000\n",
       "75%    1088.425163  1984.898362    1.5  -22.816205  -47.063771  619.000000\n",
       "max    1824.260611  2390.748853    1.5  -22.812542  -47.056441  660.000000"
      ]
     },
     "execution_count": 11,
     "metadata": {},
     "output_type": "execute_result"
    }
   ],
   "source": [
    "smart_meters_df.describe()"
   ]
  },
  {
   "cell_type": "code",
   "execution_count": null,
   "metadata": {},
   "outputs": [],
   "source": []
  },
  {
   "cell_type": "code",
   "execution_count": 12,
   "metadata": {},
   "outputs": [
    {
     "name": "stdout",
     "output_type": "stream",
     "text": [
      "museu_elevation: 652.0\n",
      "all elevations: 544\n"
     ]
    }
   ],
   "source": [
    "all_elevations = []\n",
    "\n",
    "for i in range(batteries_df.shape[0]):\n",
    "    all_elevations.append(smart_meters_df['elevation'][i])\n",
    "\n",
    "for i in range(conteiners_df.shape[0]):\n",
    "    all_elevations.append(smart_meters_df['elevation'][i])\n",
    "\n",
    "for i in range(smart_meters_df.shape[0]):\n",
    "    all_elevations.append(smart_meters_df['elevation'][i])\n",
    "\n",
    "    \n",
    "museu_elevation = get_point_elevation(-22.814914, -47.057714)\n",
    "print(\"museu_elevation:\", museu_elevation)\n",
    "all_elevations.append(museu_elevation)\n",
    "\n",
    "print(\"all elevations:\", len(all_elevations))"
   ]
  },
  {
   "cell_type": "code",
   "execution_count": 13,
   "metadata": {},
   "outputs": [],
   "source": [
    "# NORMALIZAÇÃO DE PONTOS \n",
    "def elevation_normalize(data_frame):\n",
    "    norm_points = []\n",
    "\n",
    "    # convert to 2D array \n",
    "    x = np.array(all_elevations).reshape(-1, 1) # reshape -> 2D array\n",
    "\n",
    "    for i in range(data_frame['elevation'].shape[0]):\n",
    "        # convert to 2D array\n",
    "        x_coords = np.array(data_frame['elevation'][i]).reshape(-1, 1)\n",
    "\n",
    "        # define limits of normalization\n",
    "        scaler_x = MinMaxScaler(feature_range = (0, 10))\n",
    "\n",
    "        # normalize with all all geometry coords x \n",
    "        scaler_x.fit(x)\n",
    "        transform_x = scaler_x.transform(x_coords)\n",
    "\n",
    "        #print(transform_x)\n",
    "        norm_points.append(transform_x[0][0])\n",
    "    \n",
    "    return norm_points"
   ]
  },
  {
   "cell_type": "code",
   "execution_count": 14,
   "metadata": {},
   "outputs": [
    {
     "name": "stdout",
     "output_type": "stream",
     "text": [
      "47 [7.411764705882362, 3.411764705882362, 7.764705882352942, 4.0, 6.705882352941188, 1.1764705882353041, 7.058823529411768, 2.941176470588246, 2.470588235294116, 2.82352941176471, 3.058823529411768, 3.764705882352942, 3.64705882352942, 6.705882352941188, 4.352941176470594, 6.470588235294116, 0.470588235294116, 7.294117647058826, 6.82352941176471, 6.0, 3.411764705882362, 2.82352941176471, 2.235294117647058, 2.117647058823536, 2.352941176470594, 3.764705882352942, 3.294117647058826, 5.294117647058826, 1.764705882352942, 2.705882352941188, 2.941176470588246, 1.1764705882353041, 1.764705882352942, 0.9411764705882462, 4.117647058823536, 0.9411764705882462, 1.294117647058826, 3.058823529411768, 4.235294117647058, 2.235294117647058, 4.352941176470594, 2.705882352941188, 3.529411764705884, 3.529411764705884, 3.411764705882362, 7.411764705882362, 5.764705882352942]\n"
     ]
    }
   ],
   "source": [
    "# Datasets normalizados\n",
    "print(len(elevation_normalize(batteries_df)), (elevation_normalize(batteries_df)))\n",
    "# print(len(elevation_normalize(conteiners_df)), (elevation_normalize(conteiners_df)))\n",
    "# print(len(elevation_normalize(smart_meters_df)), (elevation_normalize(smart_meters_df)))"
   ]
  },
  {
   "cell_type": "code",
   "execution_count": 16,
   "metadata": {},
   "outputs": [
    {
     "data": {
      "text/plain": [
       "array([[9.05882353]])"
      ]
     },
     "execution_count": 16,
     "metadata": {},
     "output_type": "execute_result"
    }
   ],
   "source": [
    "# Normalizando elevação do museu\n",
    "x_coords = np.array(museu_elevation).reshape(-1, 1)\n",
    "scaler_x = MinMaxScaler(feature_range = (0, 10))\n",
    "x = np.array(all_elevations).reshape(-1, 1) # reshape -> 2D array\n",
    "\n",
    "scaler_x.fit(x)\n",
    "transform_x = scaler_x.transform(x_coords)\n",
    "transform_x"
   ]
  },
  {
   "cell_type": "code",
   "execution_count": null,
   "metadata": {},
   "outputs": [],
   "source": []
  },
  {
   "cell_type": "markdown",
   "metadata": {},
   "source": [
    "## ADD colunas de elevaçao normalizada"
   ]
  },
  {
   "cell_type": "code",
   "execution_count": 17,
   "metadata": {},
   "outputs": [
    {
     "data": {
      "text/html": [
       "<div>\n",
       "<style scoped>\n",
       "    .dataframe tbody tr th:only-of-type {\n",
       "        vertical-align: middle;\n",
       "    }\n",
       "\n",
       "    .dataframe tbody tr th {\n",
       "        vertical-align: top;\n",
       "    }\n",
       "\n",
       "    .dataframe thead th {\n",
       "        text-align: right;\n",
       "    }\n",
       "</style>\n",
       "<table border=\"1\" class=\"dataframe\">\n",
       "  <thead>\n",
       "    <tr style=\"text-align: right;\">\n",
       "      <th></th>\n",
       "      <th>id</th>\n",
       "      <th>name</th>\n",
       "      <th>x</th>\n",
       "      <th>y</th>\n",
       "      <th>z</th>\n",
       "      <th>elevation</th>\n",
       "      <th>latitude</th>\n",
       "      <th>longitude</th>\n",
       "      <th>elevation_norm</th>\n",
       "    </tr>\n",
       "  </thead>\n",
       "  <tbody>\n",
       "    <tr>\n",
       "      <th>0</th>\n",
       "      <td>1321.0</td>\n",
       "      <td>INOVA</td>\n",
       "      <td>1527.405075</td>\n",
       "      <td>2180.212233</td>\n",
       "      <td>1.5</td>\n",
       "      <td>638.0</td>\n",
       "      <td>-22.814543</td>\n",
       "      <td>-47.059340</td>\n",
       "      <td>7.411765</td>\n",
       "    </tr>\n",
       "    <tr>\n",
       "      <th>1</th>\n",
       "      <td>535.0</td>\n",
       "      <td>BC</td>\n",
       "      <td>297.311734</td>\n",
       "      <td>1965.812273</td>\n",
       "      <td>1.5</td>\n",
       "      <td>604.0</td>\n",
       "      <td>-22.816324</td>\n",
       "      <td>-47.071348</td>\n",
       "      <td>3.411765</td>\n",
       "    </tr>\n",
       "    <tr>\n",
       "      <th>2</th>\n",
       "      <td>802.0</td>\n",
       "      <td>CBMEG</td>\n",
       "      <td>1535.553550</td>\n",
       "      <td>1646.180816</td>\n",
       "      <td>1.5</td>\n",
       "      <td>641.0</td>\n",
       "      <td>-22.819365</td>\n",
       "      <td>-47.059333</td>\n",
       "      <td>7.764706</td>\n",
       "    </tr>\n",
       "    <tr>\n",
       "      <th>3</th>\n",
       "      <td>845.0</td>\n",
       "      <td>CCUEC</td>\n",
       "      <td>1149.489906</td>\n",
       "      <td>1831.086023</td>\n",
       "      <td>1.5</td>\n",
       "      <td>609.0</td>\n",
       "      <td>-22.817648</td>\n",
       "      <td>-47.063068</td>\n",
       "      <td>4.000000</td>\n",
       "    </tr>\n",
       "    <tr>\n",
       "      <th>4</th>\n",
       "      <td>1037.0</td>\n",
       "      <td>GASTROCENTRO</td>\n",
       "      <td>1186.795533</td>\n",
       "      <td>667.866479</td>\n",
       "      <td>1.5</td>\n",
       "      <td>632.0</td>\n",
       "      <td>-22.828153</td>\n",
       "      <td>-47.062863</td>\n",
       "      <td>6.705882</td>\n",
       "    </tr>\n",
       "  </tbody>\n",
       "</table>\n",
       "</div>"
      ],
      "text/plain": [
       "       id          name            x            y    z  elevation   latitude  \\\n",
       "0  1321.0         INOVA  1527.405075  2180.212233  1.5      638.0 -22.814543   \n",
       "1   535.0            BC   297.311734  1965.812273  1.5      604.0 -22.816324   \n",
       "2   802.0         CBMEG  1535.553550  1646.180816  1.5      641.0 -22.819365   \n",
       "3   845.0         CCUEC  1149.489906  1831.086023  1.5      609.0 -22.817648   \n",
       "4  1037.0  GASTROCENTRO  1186.795533   667.866479  1.5      632.0 -22.828153   \n",
       "\n",
       "   longitude  elevation_norm  \n",
       "0 -47.059340        7.411765  \n",
       "1 -47.071348        3.411765  \n",
       "2 -47.059333        7.764706  \n",
       "3 -47.063068        4.000000  \n",
       "4 -47.062863        6.705882  "
      ]
     },
     "execution_count": 17,
     "metadata": {},
     "output_type": "execute_result"
    }
   ],
   "source": [
    "# Batteries dataset\n",
    "batteries_elev = elevation_normalize(batteries_df)\n",
    "df_elev = pd.DataFrame({'elev_norm': batteries_elev})\n",
    "batteries_df['elevation_norm'] = df_elev['elev_norm']\n",
    "batteries_df.head()"
   ]
  },
  {
   "cell_type": "code",
   "execution_count": 18,
   "metadata": {},
   "outputs": [
    {
     "data": {
      "text/html": [
       "<div>\n",
       "<style scoped>\n",
       "    .dataframe tbody tr th:only-of-type {\n",
       "        vertical-align: middle;\n",
       "    }\n",
       "\n",
       "    .dataframe tbody tr th {\n",
       "        vertical-align: top;\n",
       "    }\n",
       "\n",
       "    .dataframe thead th {\n",
       "        text-align: right;\n",
       "    }\n",
       "</style>\n",
       "<table border=\"1\" class=\"dataframe\">\n",
       "  <thead>\n",
       "    <tr style=\"text-align: right;\">\n",
       "      <th></th>\n",
       "      <th>x</th>\n",
       "      <th>y</th>\n",
       "      <th>z</th>\n",
       "      <th>lat</th>\n",
       "      <th>lng</th>\n",
       "      <th>elevation</th>\n",
       "      <th>elevation_norm</th>\n",
       "    </tr>\n",
       "  </thead>\n",
       "  <tbody>\n",
       "    <tr>\n",
       "      <th>0</th>\n",
       "      <td>1494.522506</td>\n",
       "      <td>1093.362046</td>\n",
       "      <td>1.5</td>\n",
       "      <td>-22.824351</td>\n",
       "      <td>-47.059808</td>\n",
       "      <td>628.0</td>\n",
       "      <td>6.235294</td>\n",
       "    </tr>\n",
       "    <tr>\n",
       "      <th>1</th>\n",
       "      <td>1495.022506</td>\n",
       "      <td>1093.862046</td>\n",
       "      <td>1.5</td>\n",
       "      <td>-22.824351</td>\n",
       "      <td>-47.059808</td>\n",
       "      <td>628.0</td>\n",
       "      <td>6.235294</td>\n",
       "    </tr>\n",
       "    <tr>\n",
       "      <th>2</th>\n",
       "      <td>1495.522506</td>\n",
       "      <td>1094.362046</td>\n",
       "      <td>1.5</td>\n",
       "      <td>-22.824351</td>\n",
       "      <td>-47.059808</td>\n",
       "      <td>628.0</td>\n",
       "      <td>6.235294</td>\n",
       "    </tr>\n",
       "    <tr>\n",
       "      <th>3</th>\n",
       "      <td>1496.022506</td>\n",
       "      <td>1094.862046</td>\n",
       "      <td>1.5</td>\n",
       "      <td>-22.824351</td>\n",
       "      <td>-47.059808</td>\n",
       "      <td>628.0</td>\n",
       "      <td>6.235294</td>\n",
       "    </tr>\n",
       "    <tr>\n",
       "      <th>4</th>\n",
       "      <td>1444.593586</td>\n",
       "      <td>1176.185366</td>\n",
       "      <td>1.5</td>\n",
       "      <td>-22.823597</td>\n",
       "      <td>-47.060283</td>\n",
       "      <td>620.0</td>\n",
       "      <td>5.294118</td>\n",
       "    </tr>\n",
       "  </tbody>\n",
       "</table>\n",
       "</div>"
      ],
      "text/plain": [
       "             x            y    z        lat        lng  elevation  \\\n",
       "0  1494.522506  1093.362046  1.5 -22.824351 -47.059808      628.0   \n",
       "1  1495.022506  1093.862046  1.5 -22.824351 -47.059808      628.0   \n",
       "2  1495.522506  1094.362046  1.5 -22.824351 -47.059808      628.0   \n",
       "3  1496.022506  1094.862046  1.5 -22.824351 -47.059808      628.0   \n",
       "4  1444.593586  1176.185366  1.5 -22.823597 -47.060283      620.0   \n",
       "\n",
       "   elevation_norm  \n",
       "0        6.235294  \n",
       "1        6.235294  \n",
       "2        6.235294  \n",
       "3        6.235294  \n",
       "4        5.294118  "
      ]
     },
     "execution_count": 18,
     "metadata": {},
     "output_type": "execute_result"
    }
   ],
   "source": [
    "# Conteiners dataset\n",
    "conteiners_elev = elevation_normalize(conteiners_df)\n",
    "df_elev = pd.DataFrame({'elev_norm': conteiners_elev})\n",
    "conteiners_df['elevation_norm'] = df_elev['elev_norm']\n",
    "conteiners_df.head()"
   ]
  },
  {
   "cell_type": "code",
   "execution_count": 19,
   "metadata": {},
   "outputs": [
    {
     "data": {
      "text/html": [
       "<div>\n",
       "<style scoped>\n",
       "    .dataframe tbody tr th:only-of-type {\n",
       "        vertical-align: middle;\n",
       "    }\n",
       "\n",
       "    .dataframe tbody tr th {\n",
       "        vertical-align: top;\n",
       "    }\n",
       "\n",
       "    .dataframe thead th {\n",
       "        text-align: right;\n",
       "    }\n",
       "</style>\n",
       "<table border=\"1\" class=\"dataframe\">\n",
       "  <thead>\n",
       "    <tr style=\"text-align: right;\">\n",
       "      <th></th>\n",
       "      <th>x</th>\n",
       "      <th>y</th>\n",
       "      <th>z</th>\n",
       "      <th>lat</th>\n",
       "      <th>lng</th>\n",
       "      <th>elevation</th>\n",
       "      <th>elevation_norm</th>\n",
       "    </tr>\n",
       "  </thead>\n",
       "  <tbody>\n",
       "    <tr>\n",
       "      <th>0</th>\n",
       "      <td>1380.649965</td>\n",
       "      <td>2358.972321</td>\n",
       "      <td>1.5</td>\n",
       "      <td>-22.812911</td>\n",
       "      <td>-47.060745</td>\n",
       "      <td>619.0</td>\n",
       "      <td>5.176471</td>\n",
       "    </tr>\n",
       "    <tr>\n",
       "      <th>1</th>\n",
       "      <td>718.166862</td>\n",
       "      <td>1165.809614</td>\n",
       "      <td>1.5</td>\n",
       "      <td>-22.823599</td>\n",
       "      <td>-47.067359</td>\n",
       "      <td>605.0</td>\n",
       "      <td>3.529412</td>\n",
       "    </tr>\n",
       "    <tr>\n",
       "      <th>2</th>\n",
       "      <td>730.046698</td>\n",
       "      <td>1146.037408</td>\n",
       "      <td>1.5</td>\n",
       "      <td>-22.823779</td>\n",
       "      <td>-47.067246</td>\n",
       "      <td>605.0</td>\n",
       "      <td>3.529412</td>\n",
       "    </tr>\n",
       "    <tr>\n",
       "      <th>3</th>\n",
       "      <td>741.446086</td>\n",
       "      <td>1131.243106</td>\n",
       "      <td>1.5</td>\n",
       "      <td>-22.823914</td>\n",
       "      <td>-47.067137</td>\n",
       "      <td>605.0</td>\n",
       "      <td>3.529412</td>\n",
       "    </tr>\n",
       "    <tr>\n",
       "      <th>4</th>\n",
       "      <td>781.939848</td>\n",
       "      <td>1069.889758</td>\n",
       "      <td>1.5</td>\n",
       "      <td>-22.824473</td>\n",
       "      <td>-47.066751</td>\n",
       "      <td>606.0</td>\n",
       "      <td>3.647059</td>\n",
       "    </tr>\n",
       "  </tbody>\n",
       "</table>\n",
       "</div>"
      ],
      "text/plain": [
       "             x            y    z        lat        lng  elevation  \\\n",
       "0  1380.649965  2358.972321  1.5 -22.812911 -47.060745      619.0   \n",
       "1   718.166862  1165.809614  1.5 -22.823599 -47.067359      605.0   \n",
       "2   730.046698  1146.037408  1.5 -22.823779 -47.067246      605.0   \n",
       "3   741.446086  1131.243106  1.5 -22.823914 -47.067137      605.0   \n",
       "4   781.939848  1069.889758  1.5 -22.824473 -47.066751      606.0   \n",
       "\n",
       "   elevation_norm  \n",
       "0        5.176471  \n",
       "1        3.529412  \n",
       "2        3.529412  \n",
       "3        3.529412  \n",
       "4        3.647059  "
      ]
     },
     "execution_count": 19,
     "metadata": {},
     "output_type": "execute_result"
    }
   ],
   "source": [
    "# Smart Meters dataset\n",
    "smart_meters_elev = elevation_normalize(smart_meters_df)\n",
    "df_elev = pd.DataFrame({'elev_norm': smart_meters_elev})\n",
    "smart_meters_df['elevation_norm'] = df_elev['elev_norm']\n",
    "smart_meters_df.head()"
   ]
  },
  {
   "cell_type": "code",
   "execution_count": 21,
   "metadata": {},
   "outputs": [],
   "source": [
    "# saving the dataframes\n",
    "batteries_df.to_csv('coletores_pos_dataset_elev_norm.csv',  index=False)\n",
    "conteiners_df.to_csv('conteiners_dataset_elev_norm.csv',  index=False)\n",
    "smart_meters_df.to_csv('medidores_inteligentes_dataset_elev_norm.csv',  index=False)"
   ]
  },
  {
   "cell_type": "code",
   "execution_count": null,
   "metadata": {},
   "outputs": [],
   "source": [
    "# Museu elevation norm: array([[9.05882353]])"
   ]
  },
  {
   "cell_type": "code",
   "execution_count": null,
   "metadata": {},
   "outputs": [],
   "source": []
  }
 ],
 "metadata": {
  "kernelspec": {
   "display_name": "Python 3",
   "language": "python",
   "name": "python3"
  },
  "language_info": {
   "codemirror_mode": {
    "name": "ipython",
    "version": 3
   },
   "file_extension": ".py",
   "mimetype": "text/x-python",
   "name": "python",
   "nbconvert_exporter": "python",
   "pygments_lexer": "ipython3",
   "version": "3.8.11"
  }
 },
 "nbformat": 4,
 "nbformat_minor": 4
}
