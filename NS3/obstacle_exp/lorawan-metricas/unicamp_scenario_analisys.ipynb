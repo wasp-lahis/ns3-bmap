{
 "cells": [
  {
   "cell_type": "code",
   "execution_count": 12,
   "metadata": {},
   "outputs": [],
   "source": [
    "# ----- LIBS\n",
    "\n",
    "# systems access\n",
    "import os \n",
    "\n",
    "# data analysis\n",
    "import numpy as np\n",
    "import pandas as pd\n",
    "\n",
    "# charts\n",
    "import matplotlib.pyplot as plt\n",
    "import matplotlib.patches as patches\n",
    "import matplotlib.lines as mlines\n",
    "\n",
    "# geoprocessing\n",
    "import folium\n",
    "from folium import plugins\n",
    "import geopandas as gpd\n",
    "from shapely.geometry import Point"
   ]
  },
  {
   "cell_type": "markdown",
   "metadata": {},
   "source": [
    "# Roteiro\n",
    "\n",
    "- Análise de simulação\n",
    "    - Posicionamento e SF\n",
    "    - Métricas da camada PHY\n",
    "    - Cobertura/Alcance Lora\n",
    "    - Métricas de performance da rede completa (Mac Layer)\n",
    "    - Métricas de Consumo\\\n",
    "    \n",
    "    \n",
    "- Análise entre simulações\n",
    "    - variação de Payload\n",
    "    - variação de appPeriod\n",
    "    - variação de nº de nós"
   ]
  },
  {
   "cell_type": "markdown",
   "metadata": {},
   "source": [
    "# Análise de simulação"
   ]
  },
  {
   "cell_type": "markdown",
   "metadata": {},
   "source": [
    "## Posicionamento x SF"
   ]
  },
  {
   "cell_type": "code",
   "execution_count": 33,
   "metadata": {},
   "outputs": [
    {
     "data": {
      "text/plain": [
       "'/home/wasp/Desktop/Mestrado/ns3-bmap/NS3/obstacle_exp'"
      ]
     },
     "execution_count": 33,
     "metadata": {},
     "output_type": "execute_result"
    }
   ],
   "source": [
    "current_path = os.getcwd()\n",
    "current_path"
   ]
  },
  {
   "cell_type": "code",
   "execution_count": 34,
   "metadata": {},
   "outputs": [
    {
     "name": "stdout",
     "output_type": "stream",
     "text": [
      "\n",
      "SHAPE: (6768000, 10)\n",
      "\n",
      "SHAPE: (47, 10)\n"
     ]
    },
    {
     "data": {
      "text/html": [
       "<div>\n",
       "<style scoped>\n",
       "    .dataframe tbody tr th:only-of-type {\n",
       "        vertical-align: middle;\n",
       "    }\n",
       "\n",
       "    .dataframe tbody tr th {\n",
       "        vertical-align: top;\n",
       "    }\n",
       "\n",
       "    .dataframe thead th {\n",
       "        text-align: right;\n",
       "    }\n",
       "</style>\n",
       "<table border=\"1\" class=\"dataframe\">\n",
       "  <thead>\n",
       "    <tr style=\"text-align: right;\">\n",
       "      <th></th>\n",
       "      <th>nodeId</th>\n",
       "      <th>posX</th>\n",
       "      <th>posY</th>\n",
       "      <th>posZ</th>\n",
       "      <th>sf</th>\n",
       "      <th>gwId</th>\n",
       "      <th>gw_posX</th>\n",
       "      <th>gw_posY</th>\n",
       "      <th>gw_posZ</th>\n",
       "      <th>distance</th>\n",
       "    </tr>\n",
       "  </thead>\n",
       "  <tbody>\n",
       "    <tr>\n",
       "      <th>0</th>\n",
       "      <td>0</td>\n",
       "      <td>1527.410</td>\n",
       "      <td>2180.210</td>\n",
       "      <td>1</td>\n",
       "      <td>7</td>\n",
       "      <td>47</td>\n",
       "      <td>1694.97</td>\n",
       "      <td>2141.47</td>\n",
       "      <td>44.9188</td>\n",
       "      <td>177.509</td>\n",
       "    </tr>\n",
       "    <tr>\n",
       "      <th>1</th>\n",
       "      <td>1</td>\n",
       "      <td>297.312</td>\n",
       "      <td>1965.810</td>\n",
       "      <td>1</td>\n",
       "      <td>7</td>\n",
       "      <td>47</td>\n",
       "      <td>1694.97</td>\n",
       "      <td>2141.47</td>\n",
       "      <td>44.9188</td>\n",
       "      <td>1409.340</td>\n",
       "    </tr>\n",
       "    <tr>\n",
       "      <th>2</th>\n",
       "      <td>2</td>\n",
       "      <td>1535.550</td>\n",
       "      <td>1646.180</td>\n",
       "      <td>1</td>\n",
       "      <td>7</td>\n",
       "      <td>47</td>\n",
       "      <td>1694.97</td>\n",
       "      <td>2141.47</td>\n",
       "      <td>44.9188</td>\n",
       "      <td>522.165</td>\n",
       "    </tr>\n",
       "    <tr>\n",
       "      <th>3</th>\n",
       "      <td>3</td>\n",
       "      <td>1149.490</td>\n",
       "      <td>1831.090</td>\n",
       "      <td>1</td>\n",
       "      <td>7</td>\n",
       "      <td>47</td>\n",
       "      <td>1694.97</td>\n",
       "      <td>2141.47</td>\n",
       "      <td>44.9188</td>\n",
       "      <td>629.144</td>\n",
       "    </tr>\n",
       "    <tr>\n",
       "      <th>4</th>\n",
       "      <td>4</td>\n",
       "      <td>1186.800</td>\n",
       "      <td>667.866</td>\n",
       "      <td>1</td>\n",
       "      <td>7</td>\n",
       "      <td>47</td>\n",
       "      <td>1694.97</td>\n",
       "      <td>2141.47</td>\n",
       "      <td>44.9188</td>\n",
       "      <td>1559.390</td>\n",
       "    </tr>\n",
       "  </tbody>\n",
       "</table>\n",
       "</div>"
      ],
      "text/plain": [
       "   nodeId      posX      posY  posZ  sf  gwId  gw_posX  gw_posY  gw_posZ  \\\n",
       "0       0  1527.410  2180.210     1   7    47  1694.97  2141.47  44.9188   \n",
       "1       1   297.312  1965.810     1   7    47  1694.97  2141.47  44.9188   \n",
       "2       2  1535.550  1646.180     1   7    47  1694.97  2141.47  44.9188   \n",
       "3       3  1149.490  1831.090     1   7    47  1694.97  2141.47  44.9188   \n",
       "4       4  1186.800   667.866     1   7    47  1694.97  2141.47  44.9188   \n",
       "\n",
       "   distance  \n",
       "0   177.509  \n",
       "1  1409.340  \n",
       "2   522.165  \n",
       "3   629.144  \n",
       "4  1559.390  "
      ]
     },
     "execution_count": 34,
     "metadata": {},
     "output_type": "execute_result"
    }
   ],
   "source": [
    "# ----- DATASET\n",
    "\n",
    "path = \"network_position_coletores_unicamp.txt\"\n",
    "net_position_df = pd.read_csv(path, header=None) \n",
    "net_position_df.columns = [\"nodeId\", \"posX\", \"posY\", \"posZ\",\n",
    "                           \"sf\", \"gwId\", \"gw_posX\", \"gw_posY\", \"gw_posZ\", \"distance\"]\n",
    "\n",
    "# print(path)\n",
    "print(\"\\nSHAPE:\", net_position_df.shape)\n",
    "net_pos = net_position_df.iloc[0:47]\n",
    "\n",
    "print(\"\\nSHAPE:\", net_pos.shape)\n",
    "net_pos.head()"
   ]
  },
  {
   "cell_type": "code",
   "execution_count": 35,
   "metadata": {},
   "outputs": [],
   "source": [
    "# ----- PLOT SIZE SETTINGS\n",
    "\n",
    "# chart bounds\n",
    "xMin_bound, xMax_bound = -500, 2000\n",
    "yMin_bound, yMax_bound = 0, 2500 \n",
    "\n",
    "# chart figsize\n",
    "x_figsize, y_figsize = 5, 5"
   ]
  },
  {
   "cell_type": "code",
   "execution_count": 28,
   "metadata": {},
   "outputs": [],
   "source": [
    "# ----- LEGEND SETTINGS PER PLOT\n",
    "def set_plots_legends():\n",
    "   \n",
    "    # legend list settings\n",
    "    plots_legends = []\n",
    "       \n",
    "    # ED points\n",
    "    colors = ['y','orange', 'green', 'blue', 'purple', 'black']\n",
    "    for sf in range(len(colors)):\n",
    "        scatter_lgd = mlines.Line2D([], [], color = 'white', marker = 'o',  markeredgecolor = colors[sf],\n",
    "                                  markeredgewidth = 0.5, markerfacecolor = colors[sf], markersize = 7, \n",
    "                                  label = 'SF' + str(sf + 7))\n",
    "        plots_legends.append(scatter_lgd)\n",
    "    \n",
    "    \n",
    "    # GW points\n",
    "    scatter_lgd = mlines.Line2D([], [], color = 'white', marker = (5,2), markeredgecolor = 'red',\n",
    "                                  markeredgewidth = 0.5, markerfacecolor = 'red', markersize = 15, \n",
    "                                  label = 'GW')\n",
    "    plots_legends.append(scatter_lgd)\n",
    "    \n",
    "    return plots_legends"
   ]
  },
  {
   "cell_type": "code",
   "execution_count": 29,
   "metadata": {},
   "outputs": [],
   "source": [
    "# ----- EDs LISTS per SF\n",
    "\n",
    "eds_x_sf7 = []\n",
    "eds_y_sf7 = []\n",
    "eds_x_sf8 = []\n",
    "eds_y_sf8 = []\n",
    "eds_x_sf9 = []\n",
    "eds_y_sf9 = []\n",
    "eds_x_sf10 = []\n",
    "eds_y_sf10 = []\n",
    "eds_x_sf11 = []\n",
    "eds_y_sf11 = []\n",
    "eds_x_sf12 = []\n",
    "eds_y_sf12 = []\n",
    "\n",
    "for i in range (len(net_pos)):\n",
    "    if net_pos.iloc[i].sf == 7.0:\n",
    "        eds_x_sf7.append(net_pos.iloc[i].posX)\n",
    "        eds_y_sf7.append(net_pos.iloc[i].posY)\n",
    "    if net_pos.iloc[i].sf == 8.0:\n",
    "        eds_x_sf8.append(net_pos.iloc[i].posX)\n",
    "        eds_y_sf8.append(net_pos.iloc[i].posY)\n",
    "    if net_pos.iloc[i].sf == 9.0:\n",
    "        eds_x_sf9.append(net_pos.iloc[i].posX)\n",
    "        eds_y_sf9.append(net_pos.iloc[i].posY)\n",
    "    if net_pos.iloc[i].sf == 10.0:\n",
    "        eds_x_sf10.append(net_pos.iloc[i].posX)\n",
    "        eds_y_sf10.append(net_pos.iloc[i].posY)\n",
    "    if net_pos.iloc[i].sf == 11.0:\n",
    "        eds_x_sf11.append(net_pos.iloc[i].posX)\n",
    "        eds_y_sf11.append(net_pos.iloc[i].posY)\n",
    "    if net_pos.iloc[i].sf == 12.0:\n",
    "        eds_x_sf12.append(net_pos.iloc[i].posX)\n",
    "        eds_y_sf12.append(net_pos.iloc[i].posY)"
   ]
  },
  {
   "cell_type": "code",
   "execution_count": 30,
   "metadata": {},
   "outputs": [
    {
     "data": {
      "image/png": "[encoded data removed]",
      "text/plain": [
       "<Figure size 360x360 with 1 Axes>"
      ]
     },
     "metadata": {
      "needs_background": "light"
     },
     "output_type": "display_data"
    }
   ],
   "source": [
    "# ----- PLOT ED E GW\n",
    "\n",
    "# plot initialize\n",
    "fig, ax = plt.subplots(figsize=(x_figsize, y_figsize))\n",
    "\n",
    "# draw ED posxy per SF \n",
    "ax.scatter(eds_x_sf7, eds_y_sf7, color='y', label ='SF7')\n",
    "ax.scatter(eds_x_sf8, eds_y_sf8, color='orange', label ='SF8')\n",
    "ax.scatter(eds_x_sf9, eds_y_sf9, color='green', label ='SF9')\n",
    "ax.scatter(eds_x_sf10, eds_y_sf10, color='blue', label ='SF10')\n",
    "ax.scatter(eds_x_sf11, eds_y_sf11, color='purple', label ='SF11')\n",
    "ax.scatter(eds_x_sf12, eds_y_sf12, color='black', label ='SF10')\n",
    "\n",
    "# draw GW\n",
    "ax.scatter(net_pos.iloc[0].gw_posX, net_pos.iloc[0].gw_posY, color='red', label ='GW', marker = (5,2), s = 200)\n",
    "        \n",
    "# legend settings\n",
    "legends_list = set_plots_legends()\n",
    "ax.legend(handles=[line for line in legends_list], loc=\"upper right\", bbox_to_anchor=(1.7, 1.01), prop={'size': 14})\n",
    "\n",
    "# chart bounds\n",
    "ax.set(xlim=(xMin_bound, xMax_bound), ylim = (yMin_bound, yMax_bound))\n",
    "\n",
    "# Title\n",
    "ax.set_title('Distribuição randômica de EDs em torno de GW.', fontweight='bold', fontsize=14, y=1.1)\n",
    "plt.show()\n",
    "# fig.savefig('dist_rand_ed_gw.png',bbox_inches='tight')"
   ]
  },
  {
   "cell_type": "code",
   "execution_count": null,
   "metadata": {},
   "outputs": [],
   "source": []
  },
  {
   "cell_type": "code",
   "execution_count": null,
   "metadata": {},
   "outputs": [],
   "source": []
  },
  {
   "cell_type": "markdown",
   "metadata": {},
   "source": [
    "## Métricas da camada PHY"
   ]
  },
  {
   "cell_type": "code",
   "execution_count": 41,
   "metadata": {},
   "outputs": [
    {
     "name": "stdout",
     "output_type": "stream",
     "text": [
      "\n",
      "SHAPE: (5, 6)\n"
     ]
    },
    {
     "data": {
      "text/html": [
       "<div>\n",
       "<style scoped>\n",
       "    .dataframe tbody tr th:only-of-type {\n",
       "        vertical-align: middle;\n",
       "    }\n",
       "\n",
       "    .dataframe tbody tr th {\n",
       "        vertical-align: top;\n",
       "    }\n",
       "\n",
       "    .dataframe thead th {\n",
       "        text-align: right;\n",
       "    }\n",
       "</style>\n",
       "<table border=\"1\" class=\"dataframe\">\n",
       "  <thead>\n",
       "    <tr style=\"text-align: right;\">\n",
       "      <th></th>\n",
       "      <th>gwID</th>\n",
       "      <th>received</th>\n",
       "      <th>interfered</th>\n",
       "      <th>noMoreReceivers</th>\n",
       "      <th>underSensitivity</th>\n",
       "      <th>lost</th>\n",
       "    </tr>\n",
       "  </thead>\n",
       "  <tbody>\n",
       "    <tr>\n",
       "      <th>0</th>\n",
       "      <td>0</td>\n",
       "      <td>94</td>\n",
       "      <td>0</td>\n",
       "      <td>0</td>\n",
       "      <td>0</td>\n",
       "      <td>0</td>\n",
       "    </tr>\n",
       "    <tr>\n",
       "      <th>1</th>\n",
       "      <td>0</td>\n",
       "      <td>94</td>\n",
       "      <td>0</td>\n",
       "      <td>0</td>\n",
       "      <td>0</td>\n",
       "      <td>0</td>\n",
       "    </tr>\n",
       "    <tr>\n",
       "      <th>2</th>\n",
       "      <td>0</td>\n",
       "      <td>94</td>\n",
       "      <td>0</td>\n",
       "      <td>0</td>\n",
       "      <td>0</td>\n",
       "      <td>0</td>\n",
       "    </tr>\n",
       "    <tr>\n",
       "      <th>3</th>\n",
       "      <td>0</td>\n",
       "      <td>94</td>\n",
       "      <td>0</td>\n",
       "      <td>0</td>\n",
       "      <td>0</td>\n",
       "      <td>0</td>\n",
       "    </tr>\n",
       "    <tr>\n",
       "      <th>4</th>\n",
       "      <td>0</td>\n",
       "      <td>94</td>\n",
       "      <td>0</td>\n",
       "      <td>0</td>\n",
       "      <td>0</td>\n",
       "      <td>0</td>\n",
       "    </tr>\n",
       "  </tbody>\n",
       "</table>\n",
       "</div>"
      ],
      "text/plain": [
       "   gwID  received  interfered  noMoreReceivers  underSensitivity  lost\n",
       "0     0        94           0                0                 0     0\n",
       "1     0        94           0                0                 0     0\n",
       "2     0        94           0                0                 0     0\n",
       "3     0        94           0                0                 0     0\n",
       "4     0        94           0                0                 0     0"
      ]
     },
     "execution_count": 41,
     "metadata": {},
     "output_type": "execute_result"
    }
   ],
   "source": [
    "# ----- DATASET\n",
    "\n",
    "path = \"phy_results_coletores_unicamp.txt\"\n",
    "phy_df = pd.read_csv(path, header=None) \n",
    "phy_df.columns = [\"gwID\", \"received\", \"interfered\", \"noMoreReceivers\", \"underSensitivity\", \"lost\"]\n",
    "\n",
    "print(\"\\nSHAPE:\", phy_df.shape)\n",
    "phy_df.head()"
   ]
  },
  {
   "cell_type": "code",
   "execution_count": 42,
   "metadata": {},
   "outputs": [
    {
     "name": "stdout",
     "output_type": "stream",
     "text": [
      "PHY LAYER - Packet Outcome METRICS:\n",
      "\n",
      "received: 94.0\n",
      "interfered: 0.0\n",
      "noMoreReceivers: 0.0\n",
      "underSensitivity: 0.0\n",
      "lost: 0.0\n"
     ]
    }
   ],
   "source": [
    "# Valores médios de cada coluna\n",
    "print(\"PHY LAYER - Packet Outcome METRICS:\\n\")\n",
    "print(\"received:\", phy_df['received'].mean())\n",
    "print(\"interfered:\", phy_df['interfered'].mean())\n",
    "print(\"noMoreReceivers:\", phy_df['noMoreReceivers'].mean())\n",
    "print(\"underSensitivity:\", phy_df['underSensitivity'].mean())\n",
    "print(\"lost:\", phy_df['lost'].mean())"
   ]
  },
  {
   "cell_type": "code",
   "execution_count": null,
   "metadata": {},
   "outputs": [],
   "source": []
  },
  {
   "cell_type": "code",
   "execution_count": null,
   "metadata": {},
   "outputs": [],
   "source": []
  },
  {
   "cell_type": "markdown",
   "metadata": {},
   "source": [
    "## Cobertura/Alcance LoRa"
   ]
  },
  {
   "cell_type": "code",
   "execution_count": 21,
   "metadata": {},
   "outputs": [
    {
     "name": "stdout",
     "output_type": "stream",
     "text": [
      "\n",
      "SHAPE: (235, 4)\n",
      "\n",
      "SHAPE: (47, 4)\n"
     ]
    },
    {
     "data": {
      "text/html": [
       "<div>\n",
       "<style scoped>\n",
       "    .dataframe tbody tr th:only-of-type {\n",
       "        vertical-align: middle;\n",
       "    }\n",
       "\n",
       "    .dataframe tbody tr th {\n",
       "        vertical-align: top;\n",
       "    }\n",
       "\n",
       "    .dataframe thead th {\n",
       "        text-align: right;\n",
       "    }\n",
       "</style>\n",
       "<table border=\"1\" class=\"dataframe\">\n",
       "  <thead>\n",
       "    <tr style=\"text-align: right;\">\n",
       "      <th></th>\n",
       "      <th>gwId</th>\n",
       "      <th>nodeId</th>\n",
       "      <th>RSSI_Sim</th>\n",
       "      <th>distance_between</th>\n",
       "    </tr>\n",
       "  </thead>\n",
       "  <tbody>\n",
       "    <tr>\n",
       "      <th>0</th>\n",
       "      <td>47</td>\n",
       "      <td>0</td>\n",
       "      <td>-69.8765</td>\n",
       "      <td>177.509</td>\n",
       "    </tr>\n",
       "    <tr>\n",
       "      <th>1</th>\n",
       "      <td>47</td>\n",
       "      <td>1</td>\n",
       "      <td>-100.5380</td>\n",
       "      <td>1409.340</td>\n",
       "    </tr>\n",
       "    <tr>\n",
       "      <th>2</th>\n",
       "      <td>47</td>\n",
       "      <td>2</td>\n",
       "      <td>-85.8443</td>\n",
       "      <td>522.165</td>\n",
       "    </tr>\n",
       "    <tr>\n",
       "      <th>3</th>\n",
       "      <td>47</td>\n",
       "      <td>3</td>\n",
       "      <td>-88.6026</td>\n",
       "      <td>629.144</td>\n",
       "    </tr>\n",
       "    <tr>\n",
       "      <th>4</th>\n",
       "      <td>47</td>\n",
       "      <td>4</td>\n",
       "      <td>-102.0360</td>\n",
       "      <td>1559.390</td>\n",
       "    </tr>\n",
       "  </tbody>\n",
       "</table>\n",
       "</div>"
      ],
      "text/plain": [
       "   gwId  nodeId  RSSI_Sim  distance_between\n",
       "0    47       0  -69.8765           177.509\n",
       "1    47       1 -100.5380          1409.340\n",
       "2    47       2  -85.8443           522.165\n",
       "3    47       3  -88.6026           629.144\n",
       "4    47       4 -102.0360          1559.390"
      ]
     },
     "execution_count": 21,
     "metadata": {},
     "output_type": "execute_result"
    }
   ],
   "source": [
    "# ----- DATASET\n",
    "\n",
    "path = \"rssi_results_coletores_unicamp.txt\"\n",
    "rssi_df = pd.read_csv(path, header=None) \n",
    "rssi_df.columns = [\"gwId\", \"nodeId\", \"RSSI_Sim\", \"distance_between\"]\n",
    "\n",
    "# print(path)\n",
    "print(\"\\nSHAPE:\", rssi_df.shape)\n",
    "rssi_df = rssi_df.iloc[0:47]\n",
    "print(\"\\nSHAPE:\", rssi_df.shape)\n",
    "rssi_df.head()"
   ]
  },
  {
   "cell_type": "code",
   "execution_count": null,
   "metadata": {},
   "outputs": [],
   "source": []
  },
  {
   "cell_type": "code",
   "execution_count": 22,
   "metadata": {},
   "outputs": [
    {
     "name": "stdout",
     "output_type": "stream",
     "text": [
      "DATASET SHAPE: (47, 9)\n"
     ]
    },
    {
     "data": {
      "text/html": [
       "<div>\n",
       "<style scoped>\n",
       "    .dataframe tbody tr th:only-of-type {\n",
       "        vertical-align: middle;\n",
       "    }\n",
       "\n",
       "    .dataframe tbody tr th {\n",
       "        vertical-align: top;\n",
       "    }\n",
       "\n",
       "    .dataframe thead th {\n",
       "        text-align: right;\n",
       "    }\n",
       "</style>\n",
       "<table border=\"1\" class=\"dataframe\">\n",
       "  <thead>\n",
       "    <tr style=\"text-align: right;\">\n",
       "      <th></th>\n",
       "      <th>Unnamed: 0</th>\n",
       "      <th>id</th>\n",
       "      <th>name</th>\n",
       "      <th>x</th>\n",
       "      <th>y</th>\n",
       "      <th>z</th>\n",
       "      <th>elevation</th>\n",
       "      <th>latitude</th>\n",
       "      <th>longitude</th>\n",
       "    </tr>\n",
       "  </thead>\n",
       "  <tbody>\n",
       "    <tr>\n",
       "      <th>0</th>\n",
       "      <td>0</td>\n",
       "      <td>1321.0</td>\n",
       "      <td>INOVA</td>\n",
       "      <td>1527.405075</td>\n",
       "      <td>2180.212233</td>\n",
       "      <td>1.5</td>\n",
       "      <td>644.458740</td>\n",
       "      <td>-22.814543</td>\n",
       "      <td>-47.059340</td>\n",
       "    </tr>\n",
       "    <tr>\n",
       "      <th>1</th>\n",
       "      <td>1</td>\n",
       "      <td>535.0</td>\n",
       "      <td>BC</td>\n",
       "      <td>297.311734</td>\n",
       "      <td>1965.812273</td>\n",
       "      <td>1.5</td>\n",
       "      <td>602.154968</td>\n",
       "      <td>-22.816324</td>\n",
       "      <td>-47.071348</td>\n",
       "    </tr>\n",
       "    <tr>\n",
       "      <th>2</th>\n",
       "      <td>2</td>\n",
       "      <td>802.0</td>\n",
       "      <td>CBMEG</td>\n",
       "      <td>1535.553550</td>\n",
       "      <td>1646.180816</td>\n",
       "      <td>1.5</td>\n",
       "      <td>652.513123</td>\n",
       "      <td>-22.819365</td>\n",
       "      <td>-47.059333</td>\n",
       "    </tr>\n",
       "    <tr>\n",
       "      <th>3</th>\n",
       "      <td>3</td>\n",
       "      <td>845.0</td>\n",
       "      <td>CCUEC</td>\n",
       "      <td>1149.489906</td>\n",
       "      <td>1831.086023</td>\n",
       "      <td>1.5</td>\n",
       "      <td>616.788940</td>\n",
       "      <td>-22.817648</td>\n",
       "      <td>-47.063068</td>\n",
       "    </tr>\n",
       "    <tr>\n",
       "      <th>4</th>\n",
       "      <td>4</td>\n",
       "      <td>1037.0</td>\n",
       "      <td>GASTROCENTRO</td>\n",
       "      <td>1186.795533</td>\n",
       "      <td>667.866479</td>\n",
       "      <td>1.5</td>\n",
       "      <td>635.025085</td>\n",
       "      <td>-22.828153</td>\n",
       "      <td>-47.062863</td>\n",
       "    </tr>\n",
       "  </tbody>\n",
       "</table>\n",
       "</div>"
      ],
      "text/plain": [
       "   Unnamed: 0      id          name            x            y    z  \\\n",
       "0           0  1321.0         INOVA  1527.405075  2180.212233  1.5   \n",
       "1           1   535.0            BC   297.311734  1965.812273  1.5   \n",
       "2           2   802.0         CBMEG  1535.553550  1646.180816  1.5   \n",
       "3           3   845.0         CCUEC  1149.489906  1831.086023  1.5   \n",
       "4           4  1037.0  GASTROCENTRO  1186.795533   667.866479  1.5   \n",
       "\n",
       "    elevation   latitude  longitude  \n",
       "0  644.458740 -22.814543 -47.059340  \n",
       "1  602.154968 -22.816324 -47.071348  \n",
       "2  652.513123 -22.819365 -47.059333  \n",
       "3  616.788940 -22.817648 -47.063068  \n",
       "4  635.025085 -22.828153 -47.062863  "
      ]
     },
     "execution_count": 22,
     "metadata": {},
     "output_type": "execute_result"
    }
   ],
   "source": [
    "# Visualizando dataset criado\n",
    "coletores_df = pd.read_csv(\"coletores_pos_dataset_elev.csv\") \n",
    "print(\"DATASET SHAPE:\", coletores_df.shape)\n",
    "coletores_df.head()"
   ]
  },
  {
   "cell_type": "code",
   "execution_count": 35,
   "metadata": {},
   "outputs": [
    {
     "name": "stdout",
     "output_type": "stream",
     "text": [
      "DATASET SHAPE: (47, 6)\n"
     ]
    },
    {
     "data": {
      "text/html": [
       "<div>\n",
       "<style scoped>\n",
       "    .dataframe tbody tr th:only-of-type {\n",
       "        vertical-align: middle;\n",
       "    }\n",
       "\n",
       "    .dataframe tbody tr th {\n",
       "        vertical-align: top;\n",
       "    }\n",
       "\n",
       "    .dataframe thead th {\n",
       "        text-align: right;\n",
       "    }\n",
       "</style>\n",
       "<table border=\"1\" class=\"dataframe\">\n",
       "  <thead>\n",
       "    <tr style=\"text-align: right;\">\n",
       "      <th></th>\n",
       "      <th>gwId</th>\n",
       "      <th>nodeId</th>\n",
       "      <th>RSSI_Sim</th>\n",
       "      <th>distance_between</th>\n",
       "      <th>latitude</th>\n",
       "      <th>longitude</th>\n",
       "    </tr>\n",
       "  </thead>\n",
       "  <tbody>\n",
       "    <tr>\n",
       "      <th>0</th>\n",
       "      <td>47</td>\n",
       "      <td>0</td>\n",
       "      <td>-69.8765</td>\n",
       "      <td>177.509</td>\n",
       "      <td>-22.814543</td>\n",
       "      <td>-47.059340</td>\n",
       "    </tr>\n",
       "    <tr>\n",
       "      <th>1</th>\n",
       "      <td>47</td>\n",
       "      <td>1</td>\n",
       "      <td>-100.5380</td>\n",
       "      <td>1409.340</td>\n",
       "      <td>-22.816324</td>\n",
       "      <td>-47.071348</td>\n",
       "    </tr>\n",
       "    <tr>\n",
       "      <th>2</th>\n",
       "      <td>47</td>\n",
       "      <td>2</td>\n",
       "      <td>-85.8443</td>\n",
       "      <td>522.165</td>\n",
       "      <td>-22.819365</td>\n",
       "      <td>-47.059333</td>\n",
       "    </tr>\n",
       "    <tr>\n",
       "      <th>3</th>\n",
       "      <td>47</td>\n",
       "      <td>3</td>\n",
       "      <td>-88.6026</td>\n",
       "      <td>629.144</td>\n",
       "      <td>-22.817648</td>\n",
       "      <td>-47.063068</td>\n",
       "    </tr>\n",
       "    <tr>\n",
       "      <th>4</th>\n",
       "      <td>47</td>\n",
       "      <td>4</td>\n",
       "      <td>-102.0360</td>\n",
       "      <td>1559.390</td>\n",
       "      <td>-22.828153</td>\n",
       "      <td>-47.062863</td>\n",
       "    </tr>\n",
       "  </tbody>\n",
       "</table>\n",
       "</div>"
      ],
      "text/plain": [
       "   gwId  nodeId  RSSI_Sim  distance_between   latitude  longitude\n",
       "0    47       0  -69.8765           177.509 -22.814543 -47.059340\n",
       "1    47       1 -100.5380          1409.340 -22.816324 -47.071348\n",
       "2    47       2  -85.8443           522.165 -22.819365 -47.059333\n",
       "3    47       3  -88.6026           629.144 -22.817648 -47.063068\n",
       "4    47       4 -102.0360          1559.390 -22.828153 -47.062863"
      ]
     },
     "execution_count": 35,
     "metadata": {},
     "output_type": "execute_result"
    }
   ],
   "source": [
    "rssi_df['latitude'] = coletores_df['latitude']\n",
    "rssi_df['longitude'] = coletores_df['longitude']\n",
    "print(\"DATASET SHAPE:\", rssi_df.shape)\n",
    "rssi_df.head(5)"
   ]
  },
  {
   "cell_type": "code",
   "execution_count": 24,
   "metadata": {},
   "outputs": [
    {
     "data": {
      "text/plain": [
       "-22.81454328691809"
      ]
     },
     "execution_count": 24,
     "metadata": {},
     "output_type": "execute_result"
    }
   ],
   "source": [
    "rssi_df['latitude'].iloc[0:1].values[0]"
   ]
  },
  {
   "cell_type": "code",
   "execution_count": 25,
   "metadata": {},
   "outputs": [],
   "source": [
    "heat_data = []\n",
    "for i in range(rssi_df.shape[0]):\n",
    "    heat_data.append([\n",
    "        rssi_df['latitude'].iloc[i:i+1].values[0],\n",
    "        rssi_df['longitude'].iloc[i:i+1].values[0],\n",
    "        rssi_df['RSSI_Sim'].iloc[i:i+1].values[0]\n",
    "    ])\n",
    "\n",
    "# print(heat_data)"
   ]
  },
  {
   "cell_type": "code",
   "execution_count": 26,
   "metadata": {},
   "outputs": [],
   "source": [
    "# LEGENDA\n",
    "import branca\n",
    "\n",
    "legend_html = '''\n",
    "{% macro html(this, kwargs) %}\n",
    "<div style=\"\n",
    "    position: fixed; \n",
    "    bottom: 80px;\n",
    "    left: 20px;\n",
    "    width: 150px;\n",
    "    height: 80px;\n",
    "    top: 425px;\n",
    "    z-index:9999;\n",
    "    font-size:13px;\n",
    "    \">\n",
    "    <p><a style=\"margin-left:10px;\"><b>RSSI (Dbm)</a></b></p>\n",
    "    <p><a style=\"color:#2652ca;font-size:150%;margin-left:20px;\">&diams;</a>&emsp;<b>[0, -80]</b></p>\n",
    "    <p><a style=\"color:#338dff;font-size:150%;margin-left:20px;\">&diams;</a>&emsp;<b>[-81, -100]</b></p>\n",
    "    <p><a style=\"color:#33c1ff;font-size:150%;margin-left:20px;\">&diams;</a>&emsp;<b>[-101, -150]</b></p>\n",
    "</div>\n",
    "<div style=\"\n",
    "    position: fixed; \n",
    "    bottom: 30px;\n",
    "    left: 20px;\n",
    "    width: 150px;\n",
    "    height: 140px; \n",
    "    z-index:9998;\n",
    "    font-size:14px;\n",
    "    background-color: #ffffff;\n",
    "    border:2px solid grey;\n",
    "    opacity: 0.9;\n",
    "    \">\n",
    "</div>\n",
    "{% endmacro %}\n",
    "'''\n",
    "legend = branca.element.MacroElement()\n",
    "legend._template = branca.element.Template(legend_html)"
   ]
  },
  {
   "cell_type": "code",
   "execution_count": 31,
   "metadata": {},
   "outputs": [
    {
     "data": {
      "text/html": [
       "<div style=\"width:100%;\"><div style=\"position:relative;width:100%;height:0;padding-bottom:60%;\"><span style=\"color:#565656\">Make this Notebook Trusted to load map: File -> Trust Notebook</span><iframe src=\"about:blank\" style=\"position:absolute;width:100%;height:100%;left:0;top:0;border:none !important;\" data-html=%3C%21DOCTYPE%20html%3E%0A%3Chead%3E%20%20%20%20%0A%20%20%20%20%3Cmeta%20http-equiv%3D%22content-type%22%20content%3D%22text/html%3B%20charset%3DUTF-8%22%20/%3E%0A%20%20%20%20%0A%20%20%20%20%20%20%20%20%3Cscript%3E%0A%20%20%20%20%20%20%20%20%20%20%20%20L_NO_TOUCH%20%3D%20false%3B%0A%20%20%20%20%20%20%20%20%20%20%20%20L_DISABLE_3D%20%3D%20false%3B%0A%20%20%20%20%20%20%20%20%3C/script%3E%0A%20%20%20%20%0A%20%20%20%20%3Cstyle%3Ehtml%2C%20body%20%7Bwidth%3A%20100%25%3Bheight%3A%20100%25%3Bmargin%3A%200%3Bpadding%3A%200%3B%7D%3C/style%3E%0A%20%20%20%20%3Cstyle%3E%23map%20%7Bposition%3Aabsolute%3Btop%3A0%3Bbottom%3A0%3Bright%3A0%3Bleft%3A0%3B%7D%3C/style%3E%0A%20%20%20%20%3Cscript%20src%3D%22https%3A//cdn.jsdelivr.net/npm/leaflet%401.6.0/dist/leaflet.js%22%3E%3C/script%3E%0A%20%20%20%20%3Cscript%20src%3D%22https%3A//code.jquery.com/jquery-1.12.4.min.js%22%3E%3C/script%3E%0A%20%20%20%20%3Cscript%20src%3D%22https%3A//maxcdn.bootstrapcdn.com/bootstrap/3.2.0/js/bootstrap.min.js%22%3E%3C/script%3E%0A%20%20%20%20%3Cscript%20src%3D%22https%3A//cdnjs.cloudflare.com/ajax/libs/Leaflet.awesome-markers/2.0.2/leaflet.awesome-markers.js%22%3E%3C/script%3E%0A%20%20%20%20%3Clink%20rel%3D%22stylesheet%22%20href%3D%22https%3A//cdn.jsdelivr.net/npm/leaflet%401.6.0/dist/leaflet.css%22/%3E%0A%20%20%20%20%3Clink%20rel%3D%22stylesheet%22%20href%3D%22https%3A//maxcdn.bootstrapcdn.com/bootstrap/3.2.0/css/bootstrap.min.css%22/%3E%0A%20%20%20%20%3Clink%20rel%3D%22stylesheet%22%20href%3D%22https%3A//maxcdn.bootstrapcdn.com/bootstrap/3.2.0/css/bootstrap-theme.min.css%22/%3E%0A%20%20%20%20%3Clink%20rel%3D%22stylesheet%22%20href%3D%22https%3A//maxcdn.bootstrapcdn.com/font-awesome/4.6.3/css/font-awesome.min.css%22/%3E%0A%20%20%20%20%3Clink%20rel%3D%22stylesheet%22%20href%3D%22https%3A//cdnjs.cloudflare.com/ajax/libs/Leaflet.awesome-markers/2.0.2/leaflet.awesome-markers.css%22/%3E%0A%20%20%20%20%3Clink%20rel%3D%22stylesheet%22%20href%3D%22https%3A//cdn.jsdelivr.net/gh/python-visualization/folium/folium/templates/leaflet.awesome.rotate.min.css%22/%3E%0A%20%20%20%20%0A%20%20%20%20%20%20%20%20%20%20%20%20%3Cmeta%20name%3D%22viewport%22%20content%3D%22width%3Ddevice-width%2C%0A%20%20%20%20%20%20%20%20%20%20%20%20%20%20%20%20initial-scale%3D1.0%2C%20maximum-scale%3D1.0%2C%20user-scalable%3Dno%22%20/%3E%0A%20%20%20%20%20%20%20%20%20%20%20%20%3Cstyle%3E%0A%20%20%20%20%20%20%20%20%20%20%20%20%20%20%20%20%23map_9f5e12afcc0b4e8187b777e3c4a28b6c%20%7B%0A%20%20%20%20%20%20%20%20%20%20%20%20%20%20%20%20%20%20%20%20position%3A%20relative%3B%0A%20%20%20%20%20%20%20%20%20%20%20%20%20%20%20%20%20%20%20%20width%3A%20500.0px%3B%0A%20%20%20%20%20%20%20%20%20%20%20%20%20%20%20%20%20%20%20%20height%3A%20600.0px%3B%0A%20%20%20%20%20%20%20%20%20%20%20%20%20%20%20%20%20%20%20%20left%3A%200.0%25%3B%0A%20%20%20%20%20%20%20%20%20%20%20%20%20%20%20%20%20%20%20%20top%3A%200.0%25%3B%0A%20%20%20%20%20%20%20%20%20%20%20%20%20%20%20%20%7D%0A%20%20%20%20%20%20%20%20%20%20%20%20%3C/style%3E%0A%20%20%20%20%20%20%20%20%0A%3C/head%3E%0A%3Cbody%3E%20%20%20%20%0A%20%20%20%20%0A%20%20%20%20%20%20%20%20%20%20%20%20%3Cdiv%20class%3D%22folium-map%22%20id%3D%22map_9f5e12afcc0b4e8187b777e3c4a28b6c%22%20%3E%3C/div%3E%0A%20%20%20%20%20%20%20%20%0A%20%20%20%20%0A%3Cdiv%20style%3D%22%0A%20%20%20%20position%3A%20fixed%3B%20%0A%20%20%20%20bottom%3A%2080px%3B%0A%20%20%20%20left%3A%2020px%3B%0A%20%20%20%20width%3A%20150px%3B%0A%20%20%20%20height%3A%2080px%3B%0A%20%20%20%20top%3A%20425px%3B%0A%20%20%20%20z-index%3A9999%3B%0A%20%20%20%20font-size%3A13px%3B%0A%20%20%20%20%22%3E%0A%20%20%20%20%3Cp%3E%3Ca%20style%3D%22margin-left%3A10px%3B%22%3E%3Cb%3ERSSI%20%28Dbm%29%3C/a%3E%3C/b%3E%3C/p%3E%0A%20%20%20%20%3Cp%3E%3Ca%20style%3D%22color%3A%232652ca%3Bfont-size%3A150%25%3Bmargin-left%3A20px%3B%22%3E%26diams%3B%3C/a%3E%26emsp%3B%3Cb%3E%5B0%2C%20-80%5D%3C/b%3E%3C/p%3E%0A%20%20%20%20%3Cp%3E%3Ca%20style%3D%22color%3A%23338dff%3Bfont-size%3A150%25%3Bmargin-left%3A20px%3B%22%3E%26diams%3B%3C/a%3E%26emsp%3B%3Cb%3E%5B-81%2C%20-100%5D%3C/b%3E%3C/p%3E%0A%20%20%20%20%3Cp%3E%3Ca%20style%3D%22color%3A%2333c1ff%3Bfont-size%3A150%25%3Bmargin-left%3A20px%3B%22%3E%26diams%3B%3C/a%3E%26emsp%3B%3Cb%3E%5B-101%2C%20-150%5D%3C/b%3E%3C/p%3E%0A%3C/div%3E%0A%3Cdiv%20style%3D%22%0A%20%20%20%20position%3A%20fixed%3B%20%0A%20%20%20%20bottom%3A%2030px%3B%0A%20%20%20%20left%3A%2020px%3B%0A%20%20%20%20width%3A%20150px%3B%0A%20%20%20%20height%3A%20140px%3B%20%0A%20%20%20%20z-index%3A9998%3B%0A%20%20%20%20font-size%3A14px%3B%0A%20%20%20%20background-color%3A%20%23ffffff%3B%0A%20%20%20%20border%3A2px%20solid%20grey%3B%0A%20%20%20%20opacity%3A%200.9%3B%0A%20%20%20%20%22%3E%0A%3C/div%3E%0A%3C/body%3E%0A%3Cscript%3E%20%20%20%20%0A%20%20%20%20%0A%20%20%20%20%20%20%20%20%20%20%20%20var%20map_9f5e12afcc0b4e8187b777e3c4a28b6c%20%3D%20L.map%28%0A%20%20%20%20%20%20%20%20%20%20%20%20%20%20%20%20%22map_9f5e12afcc0b4e8187b777e3c4a28b6c%22%2C%0A%20%20%20%20%20%20%20%20%20%20%20%20%20%20%20%20%7B%0A%20%20%20%20%20%20%20%20%20%20%20%20%20%20%20%20%20%20%20%20center%3A%20%5B-22.822617%2C%20-47.067%5D%2C%0A%20%20%20%20%20%20%20%20%20%20%20%20%20%20%20%20%20%20%20%20crs%3A%20L.CRS.EPSG3857%2C%0A%20%20%20%20%20%20%20%20%20%20%20%20%20%20%20%20%20%20%20%20zoom%3A%2015%2C%0A%20%20%20%20%20%20%20%20%20%20%20%20%20%20%20%20%20%20%20%20zoomControl%3A%20true%2C%0A%20%20%20%20%20%20%20%20%20%20%20%20%20%20%20%20%20%20%20%20preferCanvas%3A%20false%2C%0A%20%20%20%20%20%20%20%20%20%20%20%20%20%20%20%20%7D%0A%20%20%20%20%20%20%20%20%20%20%20%20%29%3B%0A%0A%20%20%20%20%20%20%20%20%20%20%20%20%0A%0A%20%20%20%20%20%20%20%20%0A%20%20%20%20%0A%20%20%20%20%20%20%20%20%20%20%20%20var%20tile_layer_b1894b8b2edf4307b67e556ed472d7f4%20%3D%20L.tileLayer%28%0A%20%20%20%20%20%20%20%20%20%20%20%20%20%20%20%20%22https%3A//%7Bs%7D.tile.openstreetmap.org/%7Bz%7D/%7Bx%7D/%7By%7D.png%22%2C%0A%20%20%20%20%20%20%20%20%20%20%20%20%20%20%20%20%7B%22attribution%22%3A%20%22Data%20by%20%5Cu0026copy%3B%20%5Cu003ca%20href%3D%5C%22http%3A//openstreetmap.org%5C%22%5Cu003eOpenStreetMap%5Cu003c/a%5Cu003e%2C%20under%20%5Cu003ca%20href%3D%5C%22http%3A//www.openstreetmap.org/copyright%5C%22%5Cu003eODbL%5Cu003c/a%5Cu003e.%22%2C%20%22detectRetina%22%3A%20false%2C%20%22maxNativeZoom%22%3A%2018%2C%20%22maxZoom%22%3A%2018%2C%20%22minZoom%22%3A%200%2C%20%22noWrap%22%3A%20false%2C%20%22opacity%22%3A%201%2C%20%22subdomains%22%3A%20%22abc%22%2C%20%22tms%22%3A%20false%7D%0A%20%20%20%20%20%20%20%20%20%20%20%20%29.addTo%28map_9f5e12afcc0b4e8187b777e3c4a28b6c%29%3B%0A%20%20%20%20%20%20%20%20%0A%20%20%20%20%0A%20%20%20%20%20%20%20%20%20%20%20%20var%20marker_a05421c394f548f484abff07cdad6b1d%20%3D%20L.marker%28%0A%20%20%20%20%20%20%20%20%20%20%20%20%20%20%20%20%5B-22.81454328691809%2C%20-47.05934014724517%5D%2C%0A%20%20%20%20%20%20%20%20%20%20%20%20%20%20%20%20%7B%7D%0A%20%20%20%20%20%20%20%20%20%20%20%20%29.addTo%28map_9f5e12afcc0b4e8187b777e3c4a28b6c%29%3B%0A%20%20%20%20%20%20%20%20%0A%20%20%20%20%0A%20%20%20%20%20%20%20%20%20%20%20%20var%20icon_c006635d1ef743b697f59c0779494d1c%20%3D%20L.AwesomeMarkers.icon%28%0A%20%20%20%20%20%20%20%20%20%20%20%20%20%20%20%20%7B%22extraClasses%22%3A%20%22fa-rotate-0%22%2C%20%22icon%22%3A%20%22info-sign%22%2C%20%22iconColor%22%3A%20%22white%22%2C%20%22markerColor%22%3A%20%22darkblue%22%2C%20%22prefix%22%3A%20%22glyphicon%22%7D%0A%20%20%20%20%20%20%20%20%20%20%20%20%29%3B%0A%20%20%20%20%20%20%20%20%20%20%20%20marker_a05421c394f548f484abff07cdad6b1d.setIcon%28icon_c006635d1ef743b697f59c0779494d1c%29%3B%0A%20%20%20%20%20%20%20%20%0A%20%20%20%20%0A%20%20%20%20%20%20%20%20var%20popup_65835013e4934c5c808462b83ffc6bef%20%3D%20L.popup%28%7B%22maxWidth%22%3A%20%22100%25%22%7D%29%3B%0A%0A%20%20%20%20%20%20%20%20%0A%20%20%20%20%20%20%20%20%20%20%20%20var%20html_cd5ba74e4bc84d53b7c031c520a35314%20%3D%20%24%28%60%3Cdiv%20id%3D%22html_cd5ba74e4bc84d53b7c031c520a35314%22%20style%3D%22width%3A%20100.0%25%3B%20height%3A%20100.0%25%3B%22%3ELat%3A%20-22.81454328691809%2C%20Lng%3A%20-47.05934014724517%2C%20Rssi%3A%20-69.8765%3C/div%3E%60%29%5B0%5D%3B%0A%20%20%20%20%20%20%20%20%20%20%20%20popup_65835013e4934c5c808462b83ffc6bef.setContent%28html_cd5ba74e4bc84d53b7c031c520a35314%29%3B%0A%20%20%20%20%20%20%20%20%0A%0A%20%20%20%20%20%20%20%20marker_a05421c394f548f484abff07cdad6b1d.bindPopup%28popup_65835013e4934c5c808462b83ffc6bef%29%0A%20%20%20%20%20%20%20%20%3B%0A%0A%20%20%20%20%20%20%20%20%0A%20%20%20%20%0A%20%20%20%20%0A%20%20%20%20%20%20%20%20%20%20%20%20var%20marker_4121b870b78d4d35a2d413015e9ee25a%20%3D%20L.marker%28%0A%20%20%20%20%20%20%20%20%20%20%20%20%20%20%20%20%5B-22.81632354744989%2C%20-47.07134835810497%5D%2C%0A%20%20%20%20%20%20%20%20%20%20%20%20%20%20%20%20%7B%7D%0A%20%20%20%20%20%20%20%20%20%20%20%20%29.addTo%28map_9f5e12afcc0b4e8187b777e3c4a28b6c%29%3B%0A%20%20%20%20%20%20%20%20%0A%20%20%20%20%0A%20%20%20%20%20%20%20%20%20%20%20%20var%20icon_1d096ac65e5740f29a282877ca0867de%20%3D%20L.AwesomeMarkers.icon%28%0A%20%20%20%20%20%20%20%20%20%20%20%20%20%20%20%20%7B%22extraClasses%22%3A%20%22fa-rotate-0%22%2C%20%22icon%22%3A%20%22info-sign%22%2C%20%22iconColor%22%3A%20%22white%22%2C%20%22markerColor%22%3A%20%22lightblue%22%2C%20%22prefix%22%3A%20%22glyphicon%22%7D%0A%20%20%20%20%20%20%20%20%20%20%20%20%29%3B%0A%20%20%20%20%20%20%20%20%20%20%20%20marker_4121b870b78d4d35a2d413015e9ee25a.setIcon%28icon_1d096ac65e5740f29a282877ca0867de%29%3B%0A%20%20%20%20%20%20%20%20%0A%20%20%20%20%0A%20%20%20%20%20%20%20%20var%20popup_dc38c3f9fc6044ce92a20e390a04ec0b%20%3D%20L.popup%28%7B%22maxWidth%22%3A%20%22100%25%22%7D%29%3B%0A%0A%20%20%20%20%20%20%20%20%0A%20%20%20%20%20%20%20%20%20%20%20%20var%20html_d8a4f624e4494676a3108fa96c1a0324%20%3D%20%24%28%60%3Cdiv%20id%3D%22html_d8a4f624e4494676a3108fa96c1a0324%22%20style%3D%22width%3A%20100.0%25%3B%20height%3A%20100.0%25%3B%22%3ELat%3A%20-22.81632354744989%2C%20Lng%3A%20-47.07134835810497%2C%20Rssi%3A%20-100.538%3C/div%3E%60%29%5B0%5D%3B%0A%20%20%20%20%20%20%20%20%20%20%20%20popup_dc38c3f9fc6044ce92a20e390a04ec0b.setContent%28html_d8a4f624e4494676a3108fa96c1a0324%29%3B%0A%20%20%20%20%20%20%20%20%0A%0A%20%20%20%20%20%20%20%20marker_4121b870b78d4d35a2d413015e9ee25a.bindPopup%28popup_dc38c3f9fc6044ce92a20e390a04ec0b%29%0A%20%20%20%20%20%20%20%20%3B%0A%0A%20%20%20%20%20%20%20%20%0A%20%20%20%20%0A%20%20%20%20%0A%20%20%20%20%20%20%20%20%20%20%20%20var%20marker_d89eca19ba504e3789cd6687c0ab6eb9%20%3D%20L.marker%28%0A%20%20%20%20%20%20%20%20%20%20%20%20%20%20%20%20%5B-22.81936543754744%2C%20-47.05933331168868%5D%2C%0A%20%20%20%20%20%20%20%20%20%20%20%20%20%20%20%20%7B%7D%0A%20%20%20%20%20%20%20%20%20%20%20%20%29.addTo%28map_9f5e12afcc0b4e8187b777e3c4a28b6c%29%3B%0A%20%20%20%20%20%20%20%20%0A%20%20%20%20%0A%20%20%20%20%20%20%20%20%20%20%20%20var%20icon_f1669647e2714e108818f6a0050f7d5e%20%3D%20L.AwesomeMarkers.icon%28%0A%20%20%20%20%20%20%20%20%20%20%20%20%20%20%20%20%7B%22extraClasses%22%3A%20%22fa-rotate-0%22%2C%20%22icon%22%3A%20%22info-sign%22%2C%20%22iconColor%22%3A%20%22white%22%2C%20%22markerColor%22%3A%20%22blue%22%2C%20%22prefix%22%3A%20%22glyphicon%22%7D%0A%20%20%20%20%20%20%20%20%20%20%20%20%29%3B%0A%20%20%20%20%20%20%20%20%20%20%20%20marker_d89eca19ba504e3789cd6687c0ab6eb9.setIcon%28icon_f1669647e2714e108818f6a0050f7d5e%29%3B%0A%20%20%20%20%20%20%20%20%0A%20%20%20%20%0A%20%20%20%20%20%20%20%20var%20popup_7d1cc442be7b40c29b344c0f2cd72135%20%3D%20L.popup%28%7B%22maxWidth%22%3A%20%22100%25%22%7D%29%3B%0A%0A%20%20%20%20%20%20%20%20%0A%20%20%20%20%20%20%20%20%20%20%20%20var%20html_b4971f5fc0f7488a83e2ac6f98c3ab78%20%3D%20%24%28%60%3Cdiv%20id%3D%22html_b4971f5fc0f7488a83e2ac6f98c3ab78%22%20style%3D%22width%3A%20100.0%25%3B%20height%3A%20100.0%25%3B%22%3ELat%3A%20-22.81936543754744%2C%20Lng%3A%20-47.05933331168868%2C%20Rssi%3A%20-85.8443%3C/div%3E%60%29%5B0%5D%3B%0A%20%20%20%20%20%20%20%20%20%20%20%20popup_7d1cc442be7b40c29b344c0f2cd72135.setContent%28html_b4971f5fc0f7488a83e2ac6f98c3ab78%29%3B%0A%20%20%20%20%20%20%20%20%0A%0A%20%20%20%20%20%20%20%20marker_d89eca19ba504e3789cd6687c0ab6eb9.bindPopup%28popup_7d1cc442be7b40c29b344c0f2cd72135%29%0A%20%20%20%20%20%20%20%20%3B%0A%0A%20%20%20%20%20%20%20%20%0A%20%20%20%20%0A%20%20%20%20%0A%20%20%20%20%20%20%20%20%20%20%20%20var%20marker_64671ae92bd24fdab22cc8c7984243ac%20%3D%20L.marker%28%0A%20%20%20%20%20%20%20%20%20%20%20%20%20%20%20%20%5B-22.81764750753982%2C%20-47.06306787459784%5D%2C%0A%20%20%20%20%20%20%20%20%20%20%20%20%20%20%20%20%7B%7D%0A%20%20%20%20%20%20%20%20%20%20%20%20%29.addTo%28map_9f5e12afcc0b4e8187b777e3c4a28b6c%29%3B%0A%20%20%20%20%20%20%20%20%0A%20%20%20%20%0A%20%20%20%20%20%20%20%20%20%20%20%20var%20icon_aa2ac2b7989d464ba834c447eaaf26fb%20%3D%20L.AwesomeMarkers.icon%28%0A%20%20%20%20%20%20%20%20%20%20%20%20%20%20%20%20%7B%22extraClasses%22%3A%20%22fa-rotate-0%22%2C%20%22icon%22%3A%20%22info-sign%22%2C%20%22iconColor%22%3A%20%22white%22%2C%20%22markerColor%22%3A%20%22blue%22%2C%20%22prefix%22%3A%20%22glyphicon%22%7D%0A%20%20%20%20%20%20%20%20%20%20%20%20%29%3B%0A%20%20%20%20%20%20%20%20%20%20%20%20marker_64671ae92bd24fdab22cc8c7984243ac.setIcon%28icon_aa2ac2b7989d464ba834c447eaaf26fb%29%3B%0A%20%20%20%20%20%20%20%20%0A%20%20%20%20%0A%20%20%20%20%20%20%20%20var%20popup_85209f4379674cdaa3267b93e913566c%20%3D%20L.popup%28%7B%22maxWidth%22%3A%20%22100%25%22%7D%29%3B%0A%0A%20%20%20%20%20%20%20%20%0A%20%20%20%20%20%20%20%20%20%20%20%20var%20html_06836a9c525d4016be1942d337980b62%20%3D%20%24%28%60%3Cdiv%20id%3D%22html_06836a9c525d4016be1942d337980b62%22%20style%3D%22width%3A%20100.0%25%3B%20height%3A%20100.0%25%3B%22%3ELat%3A%20-22.81764750753982%2C%20Lng%3A%20-47.06306787459784%2C%20Rssi%3A%20-88.6026%3C/div%3E%60%29%5B0%5D%3B%0A%20%20%20%20%20%20%20%20%20%20%20%20popup_85209f4379674cdaa3267b93e913566c.setContent%28html_06836a9c525d4016be1942d337980b62%29%3B%0A%20%20%20%20%20%20%20%20%0A%0A%20%20%20%20%20%20%20%20marker_64671ae92bd24fdab22cc8c7984243ac.bindPopup%28popup_85209f4379674cdaa3267b93e913566c%29%0A%20%20%20%20%20%20%20%20%3B%0A%0A%20%20%20%20%20%20%20%20%0A%20%20%20%20%0A%20%20%20%20%0A%20%20%20%20%20%20%20%20%20%20%20%20var%20marker_71a212eb18644e5086633b41186fb191%20%3D%20L.marker%28%0A%20%20%20%20%20%20%20%20%20%20%20%20%20%20%20%20%5B-22.82815348592649%2C%20-47.06286284264447%5D%2C%0A%20%20%20%20%20%20%20%20%20%20%20%20%20%20%20%20%7B%7D%0A%20%20%20%20%20%20%20%20%20%20%20%20%29.addTo%28map_9f5e12afcc0b4e8187b777e3c4a28b6c%29%3B%0A%20%20%20%20%20%20%20%20%0A%20%20%20%20%0A%20%20%20%20%20%20%20%20%20%20%20%20var%20icon_f131c9354a6d41a9a2fc39713d9ba0b5%20%3D%20L.AwesomeMarkers.icon%28%0A%20%20%20%20%20%20%20%20%20%20%20%20%20%20%20%20%7B%22extraClasses%22%3A%20%22fa-rotate-0%22%2C%20%22icon%22%3A%20%22info-sign%22%2C%20%22iconColor%22%3A%20%22white%22%2C%20%22markerColor%22%3A%20%22lightblue%22%2C%20%22prefix%22%3A%20%22glyphicon%22%7D%0A%20%20%20%20%20%20%20%20%20%20%20%20%29%3B%0A%20%20%20%20%20%20%20%20%20%20%20%20marker_71a212eb18644e5086633b41186fb191.setIcon%28icon_f131c9354a6d41a9a2fc39713d9ba0b5%29%3B%0A%20%20%20%20%20%20%20%20%0A%20%20%20%20%0A%20%20%20%20%20%20%20%20var%20popup_4275454f179d4b289823cc63a2800cd4%20%3D%20L.popup%28%7B%22maxWidth%22%3A%20%22100%25%22%7D%29%3B%0A%0A%20%20%20%20%20%20%20%20%0A%20%20%20%20%20%20%20%20%20%20%20%20var%20html_dd9af2ee8a81401ba9eeb8ee4155b0d4%20%3D%20%24%28%60%3Cdiv%20id%3D%22html_dd9af2ee8a81401ba9eeb8ee4155b0d4%22%20style%3D%22width%3A%20100.0%25%3B%20height%3A%20100.0%25%3B%22%3ELat%3A%20-22.82815348592649%2C%20Lng%3A%20-47.06286284264447%2C%20Rssi%3A%20-102.036%3C/div%3E%60%29%5B0%5D%3B%0A%20%20%20%20%20%20%20%20%20%20%20%20popup_4275454f179d4b289823cc63a2800cd4.setContent%28html_dd9af2ee8a81401ba9eeb8ee4155b0d4%29%3B%0A%20%20%20%20%20%20%20%20%0A%0A%20%20%20%20%20%20%20%20marker_71a212eb18644e5086633b41186fb191.bindPopup%28popup_4275454f179d4b289823cc63a2800cd4%29%0A%20%20%20%20%20%20%20%20%3B%0A%0A%20%20%20%20%20%20%20%20%0A%20%20%20%20%0A%20%20%20%20%0A%20%20%20%20%20%20%20%20%20%20%20%20var%20marker_94f47f052b274b6f8cf849c528a34d28%20%3D%20L.marker%28%0A%20%20%20%20%20%20%20%20%20%20%20%20%20%20%20%20%5B-22.81291555313213%2C%20-47.06756122474079%5D%2C%0A%20%20%20%20%20%20%20%20%20%20%20%20%20%20%20%20%7B%7D%0A%20%20%20%20%20%20%20%20%20%20%20%20%29.addTo%28map_9f5e12afcc0b4e8187b777e3c4a28b6c%29%3B%0A%20%20%20%20%20%20%20%20%0A%20%20%20%20%0A%20%20%20%20%20%20%20%20%20%20%20%20var%20icon_aaad3e32a81b462b8212d5062eb0e7f7%20%3D%20L.AwesomeMarkers.icon%28%0A%20%20%20%20%20%20%20%20%20%20%20%20%20%20%20%20%7B%22extraClasses%22%3A%20%22fa-rotate-0%22%2C%20%22icon%22%3A%20%22info-sign%22%2C%20%22iconColor%22%3A%20%22white%22%2C%20%22markerColor%22%3A%20%22blue%22%2C%20%22prefix%22%3A%20%22glyphicon%22%7D%0A%20%20%20%20%20%20%20%20%20%20%20%20%29%3B%0A%20%20%20%20%20%20%20%20%20%20%20%20marker_94f47f052b274b6f8cf849c528a34d28.setIcon%28icon_aaad3e32a81b462b8212d5062eb0e7f7%29%3B%0A%20%20%20%20%20%20%20%20%0A%20%20%20%20%0A%20%20%20%20%20%20%20%20var%20popup_15901be6eed24591aec542d195aedc5b%20%3D%20L.popup%28%7B%22maxWidth%22%3A%20%22100%25%22%7D%29%3B%0A%0A%20%20%20%20%20%20%20%20%0A%20%20%20%20%20%20%20%20%20%20%20%20var%20html_238e9b2de1d04b3e85da540fc18090df%20%3D%20%24%28%60%3Cdiv%20id%3D%22html_238e9b2de1d04b3e85da540fc18090df%22%20style%3D%22width%3A%20100.0%25%3B%20height%3A%20100.0%25%3B%22%3ELat%3A%20-22.81291555313213%2C%20Lng%3A%20-47.06756122474079%2C%20Rssi%3A%20-95.9842%3C/div%3E%60%29%5B0%5D%3B%0A%20%20%20%20%20%20%20%20%20%20%20%20popup_15901be6eed24591aec542d195aedc5b.setContent%28html_238e9b2de1d04b3e85da540fc18090df%29%3B%0A%20%20%20%20%20%20%20%20%0A%0A%20%20%20%20%20%20%20%20marker_94f47f052b274b6f8cf849c528a34d28.bindPopup%28popup_15901be6eed24591aec542d195aedc5b%29%0A%20%20%20%20%20%20%20%20%3B%0A%0A%20%20%20%20%20%20%20%20%0A%20%20%20%20%0A%20%20%20%20%0A%20%20%20%20%20%20%20%20%20%20%20%20var%20marker_43f87a75783141a5a07e4533a731f83f%20%3D%20L.marker%28%0A%20%20%20%20%20%20%20%20%20%20%20%20%20%20%20%20%5B-22.82878860225261%2C%20-47.06269560670362%5D%2C%0A%20%20%20%20%20%20%20%20%20%20%20%20%20%20%20%20%7B%7D%0A%20%20%20%20%20%20%20%20%20%20%20%20%29.addTo%28map_9f5e12afcc0b4e8187b777e3c4a28b6c%29%3B%0A%20%20%20%20%20%20%20%20%0A%20%20%20%20%0A%20%20%20%20%20%20%20%20%20%20%20%20var%20icon_89942bd86be94dd0b37aad921a6903c5%20%3D%20L.AwesomeMarkers.icon%28%0A%20%20%20%20%20%20%20%20%20%20%20%20%20%20%20%20%7B%22extraClasses%22%3A%20%22fa-rotate-0%22%2C%20%22icon%22%3A%20%22info-sign%22%2C%20%22iconColor%22%3A%20%22white%22%2C%20%22markerColor%22%3A%20%22lightblue%22%2C%20%22prefix%22%3A%20%22glyphicon%22%7D%0A%20%20%20%20%20%20%20%20%20%20%20%20%29%3B%0A%20%20%20%20%20%20%20%20%20%20%20%20marker_43f87a75783141a5a07e4533a731f83f.setIcon%28icon_89942bd86be94dd0b37aad921a6903c5%29%3B%0A%20%20%20%20%20%20%20%20%0A%20%20%20%20%0A%20%20%20%20%20%20%20%20var%20popup_008ea3c131cc41d2a88c1f6ad75efc07%20%3D%20L.popup%28%7B%22maxWidth%22%3A%20%22100%25%22%7D%29%3B%0A%0A%20%20%20%20%20%20%20%20%0A%20%20%20%20%20%20%20%20%20%20%20%20var%20html_774cff7055a44a5a88e4b8a872973683%20%3D%20%24%28%60%3Cdiv%20id%3D%22html_774cff7055a44a5a88e4b8a872973683%22%20style%3D%22width%3A%20100.0%25%3B%20height%3A%20100.0%25%3B%22%3ELat%3A%20-22.82878860225261%2C%20Lng%3A%20-47.06269560670362%2C%20Rssi%3A%20-102.602%3C/div%3E%60%29%5B0%5D%3B%0A%20%20%20%20%20%20%20%20%20%20%20%20popup_008ea3c131cc41d2a88c1f6ad75efc07.setContent%28html_774cff7055a44a5a88e4b8a872973683%29%3B%0A%20%20%20%20%20%20%20%20%0A%0A%20%20%20%20%20%20%20%20marker_43f87a75783141a5a07e4533a731f83f.bindPopup%28popup_008ea3c131cc41d2a88c1f6ad75efc07%29%0A%20%20%20%20%20%20%20%20%3B%0A%0A%20%20%20%20%20%20%20%20%0A%20%20%20%20%0A%20%20%20%20%0A%20%20%20%20%20%20%20%20%20%20%20%20var%20marker_1274e78ed78b4d45b5e7ac047655979e%20%3D%20L.marker%28%0A%20%20%20%20%20%20%20%20%20%20%20%20%20%20%20%20%5B-22.82331920947462%2C%20-47.06321597438829%5D%2C%0A%20%20%20%20%20%20%20%20%20%20%20%20%20%20%20%20%7B%7D%0A%20%20%20%20%20%20%20%20%20%20%20%20%29.addTo%28map_9f5e12afcc0b4e8187b777e3c4a28b6c%29%3B%0A%20%20%20%20%20%20%20%20%0A%20%20%20%20%0A%20%20%20%20%20%20%20%20%20%20%20%20var%20icon_0e8e060486e44b719971f52f5ad65c2d%20%3D%20L.AwesomeMarkers.icon%28%0A%20%20%20%20%20%20%20%20%20%20%20%20%20%20%20%20%7B%22extraClasses%22%3A%20%22fa-rotate-0%22%2C%20%22icon%22%3A%20%22info-sign%22%2C%20%22iconColor%22%3A%20%22white%22%2C%20%22markerColor%22%3A%20%22blue%22%2C%20%22prefix%22%3A%20%22glyphicon%22%7D%0A%20%20%20%20%20%20%20%20%20%20%20%20%29%3B%0A%20%20%20%20%20%20%20%20%20%20%20%20marker_1274e78ed78b4d45b5e7ac047655979e.setIcon%28icon_0e8e060486e44b719971f52f5ad65c2d%29%3B%0A%20%20%20%20%20%20%20%20%0A%20%20%20%20%0A%20%20%20%20%20%20%20%20var%20popup_9e03e3a66eb64a6a8e9bdcae434502d1%20%3D%20L.popup%28%7B%22maxWidth%22%3A%20%22100%25%22%7D%29%3B%0A%0A%20%20%20%20%20%20%20%20%0A%20%20%20%20%20%20%20%20%20%20%20%20var%20html_2c7270228d6248aa8d5612aaf4363823%20%3D%20%24%28%60%3Cdiv%20id%3D%22html_2c7270228d6248aa8d5612aaf4363823%22%20style%3D%22width%3A%20100.0%25%3B%20height%3A%20100.0%25%3B%22%3ELat%3A%20-22.82331920947462%2C%20Lng%3A%20-47.06321597438829%2C%20Rssi%3A%20-96.7336%3C/div%3E%60%29%5B0%5D%3B%0A%20%20%20%20%20%20%20%20%20%20%20%20popup_9e03e3a66eb64a6a8e9bdcae434502d1.setContent%28html_2c7270228d6248aa8d5612aaf4363823%29%3B%0A%20%20%20%20%20%20%20%20%0A%0A%20%20%20%20%20%20%20%20marker_1274e78ed78b4d45b5e7ac047655979e.bindPopup%28popup_9e03e3a66eb64a6a8e9bdcae434502d1%29%0A%20%20%20%20%20%20%20%20%3B%0A%0A%20%20%20%20%20%20%20%20%0A%20%20%20%20%0A%20%20%20%20%0A%20%20%20%20%20%20%20%20%20%20%20%20var%20marker_43d9d514fdf943528e466028a8c6338c%20%3D%20L.marker%28%0A%20%20%20%20%20%20%20%20%20%20%20%20%20%20%20%20%5B-22.8175901258988%2C%20-47.07083432138436%5D%2C%0A%20%20%20%20%20%20%20%20%20%20%20%20%20%20%20%20%7B%7D%0A%20%20%20%20%20%20%20%20%20%20%20%20%29.addTo%28map_9f5e12afcc0b4e8187b777e3c4a28b6c%29%3B%0A%20%20%20%20%20%20%20%20%0A%20%20%20%20%0A%20%20%20%20%20%20%20%20%20%20%20%20var%20icon_fc1608ac12fa4b5887b43d077af5cd71%20%3D%20L.AwesomeMarkers.icon%28%0A%20%20%20%20%20%20%20%20%20%20%20%20%20%20%20%20%7B%22extraClasses%22%3A%20%22fa-rotate-0%22%2C%20%22icon%22%3A%20%22info-sign%22%2C%20%22iconColor%22%3A%20%22white%22%2C%20%22markerColor%22%3A%20%22lightblue%22%2C%20%22prefix%22%3A%20%22glyphicon%22%7D%0A%20%20%20%20%20%20%20%20%20%20%20%20%29%3B%0A%20%20%20%20%20%20%20%20%20%20%20%20marker_43d9d514fdf943528e466028a8c6338c.setIcon%28icon_fc1608ac12fa4b5887b43d077af5cd71%29%3B%0A%20%20%20%20%20%20%20%20%0A%20%20%20%20%0A%20%20%20%20%20%20%20%20var%20popup_86a56cecbb5a44e1adb13e2f244573f3%20%3D%20L.popup%28%7B%22maxWidth%22%3A%20%22100%25%22%7D%29%3B%0A%0A%20%20%20%20%20%20%20%20%0A%20%20%20%20%20%20%20%20%20%20%20%20var%20html_5bb0907976ff43c1aa08daaac9ec4a0a%20%3D%20%24%28%60%3Cdiv%20id%3D%22html_5bb0907976ff43c1aa08daaac9ec4a0a%22%20style%3D%22width%3A%20100.0%25%3B%20height%3A%20100.0%25%3B%22%3ELat%3A%20-22.8175901258988%2C%20Lng%3A%20-47.07083432138436%2C%20Rssi%3A%20-100.228%3C/div%3E%60%29%5B0%5D%3B%0A%20%20%20%20%20%20%20%20%20%20%20%20popup_86a56cecbb5a44e1adb13e2f244573f3.setContent%28html_5bb0907976ff43c1aa08daaac9ec4a0a%29%3B%0A%20%20%20%20%20%20%20%20%0A%0A%20%20%20%20%20%20%20%20marker_43d9d514fdf943528e466028a8c6338c.bindPopup%28popup_86a56cecbb5a44e1adb13e2f244573f3%29%0A%20%20%20%20%20%20%20%20%3B%0A%0A%20%20%20%20%20%20%20%20%0A%20%20%20%20%0A%20%20%20%20%0A%20%20%20%20%20%20%20%20%20%20%20%20var%20marker_e844f672bd1c440e8394a5b7620b79d2%20%3D%20L.marker%28%0A%20%20%20%20%20%20%20%20%20%20%20%20%20%20%20%20%5B-22.8176456501308%2C%20-47.06884615405668%5D%2C%0A%20%20%20%20%20%20%20%20%20%20%20%20%20%20%20%20%7B%7D%0A%20%20%20%20%20%20%20%20%20%20%20%20%29.addTo%28map_9f5e12afcc0b4e8187b777e3c4a28b6c%29%3B%0A%20%20%20%20%20%20%20%20%0A%20%20%20%20%0A%20%20%20%20%20%20%20%20%20%20%20%20var%20icon_f92ee3a20e324062a4e73affba4b7e34%20%3D%20L.AwesomeMarkers.icon%28%0A%20%20%20%20%20%20%20%20%20%20%20%20%20%20%20%20%7B%22extraClasses%22%3A%20%22fa-rotate-0%22%2C%20%22icon%22%3A%20%22info-sign%22%2C%20%22iconColor%22%3A%20%22white%22%2C%20%22markerColor%22%3A%20%22blue%22%2C%20%22prefix%22%3A%20%22glyphicon%22%7D%0A%20%20%20%20%20%20%20%20%20%20%20%20%29%3B%0A%20%20%20%20%20%20%20%20%20%20%20%20marker_e844f672bd1c440e8394a5b7620b79d2.setIcon%28icon_f92ee3a20e324062a4e73affba4b7e34%29%3B%0A%20%20%20%20%20%20%20%20%0A%20%20%20%20%0A%20%20%20%20%20%20%20%20var%20popup_430e577e0d0d4184b430b89f1da48562%20%3D%20L.popup%28%7B%22maxWidth%22%3A%20%22100%25%22%7D%29%3B%0A%0A%20%20%20%20%20%20%20%20%0A%20%20%20%20%20%20%20%20%20%20%20%20var%20html_7f8823df80844db682dcdef274b1da04%20%3D%20%24%28%60%3Cdiv%20id%3D%22html_7f8823df80844db682dcdef274b1da04%22%20style%3D%22width%3A%20100.0%25%3B%20height%3A%20100.0%25%3B%22%3ELat%3A%20-22.8176456501308%2C%20Lng%3A%20-47.06884615405668%2C%20Rssi%3A%20-97.9505%3C/div%3E%60%29%5B0%5D%3B%0A%20%20%20%20%20%20%20%20%20%20%20%20popup_430e577e0d0d4184b430b89f1da48562.setContent%28html_7f8823df80844db682dcdef274b1da04%29%3B%0A%20%20%20%20%20%20%20%20%0A%0A%20%20%20%20%20%20%20%20marker_e844f672bd1c440e8394a5b7620b79d2.bindPopup%28popup_430e577e0d0d4184b430b89f1da48562%29%0A%20%20%20%20%20%20%20%20%3B%0A%0A%20%20%20%20%20%20%20%20%0A%20%20%20%20%0A%20%20%20%20%0A%20%20%20%20%20%20%20%20%20%20%20%20var%20marker_5d5ce8a6840644b5a42d9cfa751efc78%20%3D%20L.marker%28%0A%20%20%20%20%20%20%20%20%20%20%20%20%20%20%20%20%5B-22.81506817323086%2C%20-47.07122280371313%5D%2C%0A%20%20%20%20%20%20%20%20%20%20%20%20%20%20%20%20%7B%7D%0A%20%20%20%20%20%20%20%20%20%20%20%20%29.addTo%28map_9f5e12afcc0b4e8187b777e3c4a28b6c%29%3B%0A%20%20%20%20%20%20%20%20%0A%20%20%20%20%0A%20%20%20%20%20%20%20%20%20%20%20%20var%20icon_9054950052bf4a8f809239c416e405ec%20%3D%20L.AwesomeMarkers.icon%28%0A%20%20%20%20%20%20%20%20%20%20%20%20%20%20%20%20%7B%22extraClasses%22%3A%20%22fa-rotate-0%22%2C%20%22icon%22%3A%20%22info-sign%22%2C%20%22iconColor%22%3A%20%22white%22%2C%20%22markerColor%22%3A%20%22lightblue%22%2C%20%22prefix%22%3A%20%22glyphicon%22%7D%0A%20%20%20%20%20%20%20%20%20%20%20%20%29%3B%0A%20%20%20%20%20%20%20%20%20%20%20%20marker_5d5ce8a6840644b5a42d9cfa751efc78.setIcon%28icon_9054950052bf4a8f809239c416e405ec%29%3B%0A%20%20%20%20%20%20%20%20%0A%20%20%20%20%0A%20%20%20%20%20%20%20%20var%20popup_13b916ae706d4b1082f22b6046594ccc%20%3D%20L.popup%28%7B%22maxWidth%22%3A%20%22100%25%22%7D%29%3B%0A%0A%20%20%20%20%20%20%20%20%0A%20%20%20%20%20%20%20%20%20%20%20%20var%20html_31ddef9ef0dc46d593ed4a9ab75c27c4%20%3D%20%24%28%60%3Cdiv%20id%3D%22html_31ddef9ef0dc46d593ed4a9ab75c27c4%22%20style%3D%22width%3A%20100.0%25%3B%20height%3A%20100.0%25%3B%22%3ELat%3A%20-22.81506817323086%2C%20Lng%3A%20-47.07122280371313%2C%20Rssi%3A%20-100.312%3C/div%3E%60%29%5B0%5D%3B%0A%20%20%20%20%20%20%20%20%20%20%20%20popup_13b916ae706d4b1082f22b6046594ccc.setContent%28html_31ddef9ef0dc46d593ed4a9ab75c27c4%29%3B%0A%20%20%20%20%20%20%20%20%0A%0A%20%20%20%20%20%20%20%20marker_5d5ce8a6840644b5a42d9cfa751efc78.bindPopup%28popup_13b916ae706d4b1082f22b6046594ccc%29%0A%20%20%20%20%20%20%20%20%3B%0A%0A%20%20%20%20%20%20%20%20%0A%20%20%20%20%0A%20%20%20%20%0A%20%20%20%20%20%20%20%20%20%20%20%20var%20marker_af1425ba43284e9fb72a3c3584d5ed55%20%3D%20L.marker%28%0A%20%20%20%20%20%20%20%20%20%20%20%20%20%20%20%20%5B-22.82393493173468%2C%20-47.06617092032558%5D%2C%0A%20%20%20%20%20%20%20%20%20%20%20%20%20%20%20%20%7B%7D%0A%20%20%20%20%20%20%20%20%20%20%20%20%29.addTo%28map_9f5e12afcc0b4e8187b777e3c4a28b6c%29%3B%0A%20%20%20%20%20%20%20%20%0A%20%20%20%20%0A%20%20%20%20%20%20%20%20%20%20%20%20var%20icon_9b5aab1c2b9c4d508b105a64854578dc%20%3D%20L.AwesomeMarkers.icon%28%0A%20%20%20%20%20%20%20%20%20%20%20%20%20%20%20%20%7B%22extraClasses%22%3A%20%22fa-rotate-0%22%2C%20%22icon%22%3A%20%22info-sign%22%2C%20%22iconColor%22%3A%20%22white%22%2C%20%22markerColor%22%3A%20%22blue%22%2C%20%22prefix%22%3A%20%22glyphicon%22%7D%0A%20%20%20%20%20%20%20%20%20%20%20%20%29%3B%0A%20%20%20%20%20%20%20%20%20%20%20%20marker_af1425ba43284e9fb72a3c3584d5ed55.setIcon%28icon_9b5aab1c2b9c4d508b105a64854578dc%29%3B%0A%20%20%20%20%20%20%20%20%0A%20%20%20%20%0A%20%20%20%20%20%20%20%20var%20popup_696cb5bbf5c84d5f9b70ac4e12260ef2%20%3D%20L.popup%28%7B%22maxWidth%22%3A%20%22100%25%22%7D%29%3B%0A%0A%20%20%20%20%20%20%20%20%0A%20%20%20%20%20%20%20%20%20%20%20%20var%20html_c91b35ed97704595943c76c7e3cf4c8b%20%3D%20%24%28%60%3Cdiv%20id%3D%22html_c91b35ed97704595943c76c7e3cf4c8b%22%20style%3D%22width%3A%20100.0%25%3B%20height%3A%20100.0%25%3B%22%3ELat%3A%20-22.82393493173468%2C%20Lng%3A%20-47.06617092032558%2C%20Rssi%3A%20-99.6193%3C/div%3E%60%29%5B0%5D%3B%0A%20%20%20%20%20%20%20%20%20%20%20%20popup_696cb5bbf5c84d5f9b70ac4e12260ef2.setContent%28html_c91b35ed97704595943c76c7e3cf4c8b%29%3B%0A%20%20%20%20%20%20%20%20%0A%0A%20%20%20%20%20%20%20%20marker_af1425ba43284e9fb72a3c3584d5ed55.bindPopup%28popup_696cb5bbf5c84d5f9b70ac4e12260ef2%29%0A%20%20%20%20%20%20%20%20%3B%0A%0A%20%20%20%20%20%20%20%20%0A%20%20%20%20%0A%20%20%20%20%0A%20%20%20%20%20%20%20%20%20%20%20%20var%20marker_aa3f158765d44de189fb160d0b48b417%20%3D%20L.marker%28%0A%20%20%20%20%20%20%20%20%20%20%20%20%20%20%20%20%5B-22.82386108264907%2C%20-47.06753773030155%5D%2C%0A%20%20%20%20%20%20%20%20%20%20%20%20%20%20%20%20%7B%7D%0A%20%20%20%20%20%20%20%20%20%20%20%20%29.addTo%28map_9f5e12afcc0b4e8187b777e3c4a28b6c%29%3B%0A%20%20%20%20%20%20%20%20%0A%20%20%20%20%0A%20%20%20%20%20%20%20%20%20%20%20%20var%20icon_41145bacf33f406696b6d547510ee7a5%20%3D%20L.AwesomeMarkers.icon%28%0A%20%20%20%20%20%20%20%20%20%20%20%20%20%20%20%20%7B%22extraClasses%22%3A%20%22fa-rotate-0%22%2C%20%22icon%22%3A%20%22info-sign%22%2C%20%22iconColor%22%3A%20%22white%22%2C%20%22markerColor%22%3A%20%22lightblue%22%2C%20%22prefix%22%3A%20%22glyphicon%22%7D%0A%20%20%20%20%20%20%20%20%20%20%20%20%29%3B%0A%20%20%20%20%20%20%20%20%20%20%20%20marker_aa3f158765d44de189fb160d0b48b417.setIcon%28icon_41145bacf33f406696b6d547510ee7a5%29%3B%0A%20%20%20%20%20%20%20%20%0A%20%20%20%20%0A%20%20%20%20%20%20%20%20var%20popup_2072e83fabe34a35971339347fba50f3%20%3D%20L.popup%28%7B%22maxWidth%22%3A%20%22100%25%22%7D%29%3B%0A%0A%20%20%20%20%20%20%20%20%0A%20%20%20%20%20%20%20%20%20%20%20%20var%20html_2d9cfcab5c464b05907e829625b151f4%20%3D%20%24%28%60%3Cdiv%20id%3D%22html_2d9cfcab5c464b05907e829625b151f4%22%20style%3D%22width%3A%20100.0%25%3B%20height%3A%20100.0%25%3B%22%3ELat%3A%20-22.82386108264907%2C%20Lng%3A%20-47.06753773030155%2C%20Rssi%3A%20-100.595%3C/div%3E%60%29%5B0%5D%3B%0A%20%20%20%20%20%20%20%20%20%20%20%20popup_2072e83fabe34a35971339347fba50f3.setContent%28html_2d9cfcab5c464b05907e829625b151f4%29%3B%0A%20%20%20%20%20%20%20%20%0A%0A%20%20%20%20%20%20%20%20marker_aa3f158765d44de189fb160d0b48b417.bindPopup%28popup_2072e83fabe34a35971339347fba50f3%29%0A%20%20%20%20%20%20%20%20%3B%0A%0A%20%20%20%20%20%20%20%20%0A%20%20%20%20%0A%20%20%20%20%0A%20%20%20%20%20%20%20%20%20%20%20%20var%20marker_c5eb69c2f9ff4005b0e56f04ff08b84d%20%3D%20L.marker%28%0A%20%20%20%20%20%20%20%20%20%20%20%20%20%20%20%20%5B-22.82840759241185%2C%20-47.06186747418447%5D%2C%0A%20%20%20%20%20%20%20%20%20%20%20%20%20%20%20%20%7B%7D%0A%20%20%20%20%20%20%20%20%20%20%20%20%29.addTo%28map_9f5e12afcc0b4e8187b777e3c4a28b6c%29%3B%0A%20%20%20%20%20%20%20%20%0A%20%20%20%20%0A%20%20%20%20%20%20%20%20%20%20%20%20var%20icon_051caf91c1714782a5edd4d4feb3fb31%20%3D%20L.AwesomeMarkers.icon%28%0A%20%20%20%20%20%20%20%20%20%20%20%20%20%20%20%20%7B%22extraClasses%22%3A%20%22fa-rotate-0%22%2C%20%22icon%22%3A%20%22info-sign%22%2C%20%22iconColor%22%3A%20%22white%22%2C%20%22markerColor%22%3A%20%22lightblue%22%2C%20%22prefix%22%3A%20%22glyphicon%22%7D%0A%20%20%20%20%20%20%20%20%20%20%20%20%29%3B%0A%20%20%20%20%20%20%20%20%20%20%20%20marker_c5eb69c2f9ff4005b0e56f04ff08b84d.setIcon%28icon_051caf91c1714782a5edd4d4feb3fb31%29%3B%0A%20%20%20%20%20%20%20%20%0A%20%20%20%20%0A%20%20%20%20%20%20%20%20var%20popup_ba62f81e178a4fc794b22274f08417a4%20%3D%20L.popup%28%7B%22maxWidth%22%3A%20%22100%25%22%7D%29%3B%0A%0A%20%20%20%20%20%20%20%20%0A%20%20%20%20%20%20%20%20%20%20%20%20var%20html_ca2b7202de2c4c7aa080eaf232aae507%20%3D%20%24%28%60%3Cdiv%20id%3D%22html_ca2b7202de2c4c7aa080eaf232aae507%22%20style%3D%22width%3A%20100.0%25%3B%20height%3A%20100.0%25%3B%22%3ELat%3A%20-22.82840759241185%2C%20Lng%3A%20-47.06186747418447%2C%20Rssi%3A%20-101.992%3C/div%3E%60%29%5B0%5D%3B%0A%20%20%20%20%20%20%20%20%20%20%20%20popup_ba62f81e178a4fc794b22274f08417a4.setContent%28html_ca2b7202de2c4c7aa080eaf232aae507%29%3B%0A%20%20%20%20%20%20%20%20%0A%0A%20%20%20%20%20%20%20%20marker_c5eb69c2f9ff4005b0e56f04ff08b84d.bindPopup%28popup_ba62f81e178a4fc794b22274f08417a4%29%0A%20%20%20%20%20%20%20%20%3B%0A%0A%20%20%20%20%20%20%20%20%0A%20%20%20%20%0A%20%20%20%20%0A%20%20%20%20%20%20%20%20%20%20%20%20var%20marker_05f43016805f43c188f3d60c9b42edbd%20%3D%20L.marker%28%0A%20%20%20%20%20%20%20%20%20%20%20%20%20%20%20%20%5B-22.8273396767669%2C%20-47.06144872987941%5D%2C%0A%20%20%20%20%20%20%20%20%20%20%20%20%20%20%20%20%7B%7D%0A%20%20%20%20%20%20%20%20%20%20%20%20%29.addTo%28map_9f5e12afcc0b4e8187b777e3c4a28b6c%29%3B%0A%20%20%20%20%20%20%20%20%0A%20%20%20%20%0A%20%20%20%20%20%20%20%20%20%20%20%20var%20icon_3ffee2ead4ff4c3baa79a3f4e57d2e54%20%3D%20L.AwesomeMarkers.icon%28%0A%20%20%20%20%20%20%20%20%20%20%20%20%20%20%20%20%7B%22extraClasses%22%3A%20%22fa-rotate-0%22%2C%20%22icon%22%3A%20%22info-sign%22%2C%20%22iconColor%22%3A%20%22white%22%2C%20%22markerColor%22%3A%20%22lightblue%22%2C%20%22prefix%22%3A%20%22glyphicon%22%7D%0A%20%20%20%20%20%20%20%20%20%20%20%20%29%3B%0A%20%20%20%20%20%20%20%20%20%20%20%20marker_05f43016805f43c188f3d60c9b42edbd.setIcon%28icon_3ffee2ead4ff4c3baa79a3f4e57d2e54%29%3B%0A%20%20%20%20%20%20%20%20%0A%20%20%20%20%0A%20%20%20%20%20%20%20%20var%20popup_0db1ced21e964caa9fa13049f3c17837%20%3D%20L.popup%28%7B%22maxWidth%22%3A%20%22100%25%22%7D%29%3B%0A%0A%20%20%20%20%20%20%20%20%0A%20%20%20%20%20%20%20%20%20%20%20%20var%20html_5e1bbf43bf6a4898817366c0edb34d25%20%3D%20%24%28%60%3Cdiv%20id%3D%22html_5e1bbf43bf6a4898817366c0edb34d25%22%20style%3D%22width%3A%20100.0%25%3B%20height%3A%20100.0%25%3B%22%3ELat%3A%20-22.8273396767669%2C%20Lng%3A%20-47.06144872987941%2C%20Rssi%3A%20-100.747%3C/div%3E%60%29%5B0%5D%3B%0A%20%20%20%20%20%20%20%20%20%20%20%20popup_0db1ced21e964caa9fa13049f3c17837.setContent%28html_5e1bbf43bf6a4898817366c0edb34d25%29%3B%0A%20%20%20%20%20%20%20%20%0A%0A%20%20%20%20%20%20%20%20marker_05f43016805f43c188f3d60c9b42edbd.bindPopup%28popup_0db1ced21e964caa9fa13049f3c17837%29%0A%20%20%20%20%20%20%20%20%3B%0A%0A%20%20%20%20%20%20%20%20%0A%20%20%20%20%0A%20%20%20%20%0A%20%20%20%20%20%20%20%20%20%20%20%20var%20marker_8c909bff0d8b44a3bfc3381478e1de9e%20%3D%20L.marker%28%0A%20%20%20%20%20%20%20%20%20%20%20%20%20%20%20%20%5B-22.82996331426923%2C%20-47.06404772458724%5D%2C%0A%20%20%20%20%20%20%20%20%20%20%20%20%20%20%20%20%7B%7D%0A%20%20%20%20%20%20%20%20%20%20%20%20%29.addTo%28map_9f5e12afcc0b4e8187b777e3c4a28b6c%29%3B%0A%20%20%20%20%20%20%20%20%0A%20%20%20%20%0A%20%20%20%20%20%20%20%20%20%20%20%20var%20icon_f7df89f39e974f9cb6c557e7d5de7f7c%20%3D%20L.AwesomeMarkers.icon%28%0A%20%20%20%20%20%20%20%20%20%20%20%20%20%20%20%20%7B%22extraClasses%22%3A%20%22fa-rotate-0%22%2C%20%22icon%22%3A%20%22info-sign%22%2C%20%22iconColor%22%3A%20%22white%22%2C%20%22markerColor%22%3A%20%22lightblue%22%2C%20%22prefix%22%3A%20%22glyphicon%22%7D%0A%20%20%20%20%20%20%20%20%20%20%20%20%29%3B%0A%20%20%20%20%20%20%20%20%20%20%20%20marker_8c909bff0d8b44a3bfc3381478e1de9e.setIcon%28icon_f7df89f39e974f9cb6c557e7d5de7f7c%29%3B%0A%20%20%20%20%20%20%20%20%0A%20%20%20%20%0A%20%20%20%20%20%20%20%20var%20popup_47ccb5080dc6442ab2e90288ffa36011%20%3D%20L.popup%28%7B%22maxWidth%22%3A%20%22100%25%22%7D%29%3B%0A%0A%20%20%20%20%20%20%20%20%0A%20%20%20%20%20%20%20%20%20%20%20%20var%20html_398f31ad9ede471989d5b3ee4557dc9e%20%3D%20%24%28%60%3Cdiv%20id%3D%22html_398f31ad9ede471989d5b3ee4557dc9e%22%20style%3D%22width%3A%20100.0%25%3B%20height%3A%20100.0%25%3B%22%3ELat%3A%20-22.82996331426923%2C%20Lng%3A%20-47.06404772458724%2C%20Rssi%3A%20-104.075%3C/div%3E%60%29%5B0%5D%3B%0A%20%20%20%20%20%20%20%20%20%20%20%20popup_47ccb5080dc6442ab2e90288ffa36011.setContent%28html_398f31ad9ede471989d5b3ee4557dc9e%29%3B%0A%20%20%20%20%20%20%20%20%0A%0A%20%20%20%20%20%20%20%20marker_8c909bff0d8b44a3bfc3381478e1de9e.bindPopup%28popup_47ccb5080dc6442ab2e90288ffa36011%29%0A%20%20%20%20%20%20%20%20%3B%0A%0A%20%20%20%20%20%20%20%20%0A%20%20%20%20%0A%20%20%20%20%0A%20%20%20%20%20%20%20%20%20%20%20%20var%20marker_413a6ca2044745bbadc98f71af8d3138%20%3D%20L.marker%28%0A%20%20%20%20%20%20%20%20%20%20%20%20%20%20%20%20%5B-22.81536258272692%2C%20-47.0728795528978%5D%2C%0A%20%20%20%20%20%20%20%20%20%20%20%20%20%20%20%20%7B%7D%0A%20%20%20%20%20%20%20%20%20%20%20%20%29.addTo%28map_9f5e12afcc0b4e8187b777e3c4a28b6c%29%3B%0A%20%20%20%20%20%20%20%20%0A%20%20%20%20%0A%20%20%20%20%20%20%20%20%20%20%20%20var%20icon_40cd43755e6f471e8ffda0b91a2e6dc9%20%3D%20L.AwesomeMarkers.icon%28%0A%20%20%20%20%20%20%20%20%20%20%20%20%20%20%20%20%7B%22extraClasses%22%3A%20%22fa-rotate-0%22%2C%20%22icon%22%3A%20%22info-sign%22%2C%20%22iconColor%22%3A%20%22white%22%2C%20%22markerColor%22%3A%20%22lightblue%22%2C%20%22prefix%22%3A%20%22glyphicon%22%7D%0A%20%20%20%20%20%20%20%20%20%20%20%20%29%3B%0A%20%20%20%20%20%20%20%20%20%20%20%20marker_413a6ca2044745bbadc98f71af8d3138.setIcon%28icon_40cd43755e6f471e8ffda0b91a2e6dc9%29%3B%0A%20%20%20%20%20%20%20%20%0A%20%20%20%20%0A%20%20%20%20%20%20%20%20var%20popup_ba52987cd48a4cbe8ba0ce635756cc6a%20%3D%20L.popup%28%7B%22maxWidth%22%3A%20%22100%25%22%7D%29%3B%0A%0A%20%20%20%20%20%20%20%20%0A%20%20%20%20%20%20%20%20%20%20%20%20var%20html_2576c07d10b1496d82cef8b3c0a7ca93%20%3D%20%24%28%60%3Cdiv%20id%3D%22html_2576c07d10b1496d82cef8b3c0a7ca93%22%20style%3D%22width%3A%20100.0%25%3B%20height%3A%20100.0%25%3B%22%3ELat%3A%20-22.81536258272692%2C%20Lng%3A%20-47.0728795528978%2C%20Rssi%3A%20-102.028%3C/div%3E%60%29%5B0%5D%3B%0A%20%20%20%20%20%20%20%20%20%20%20%20popup_ba52987cd48a4cbe8ba0ce635756cc6a.setContent%28html_2576c07d10b1496d82cef8b3c0a7ca93%29%3B%0A%20%20%20%20%20%20%20%20%0A%0A%20%20%20%20%20%20%20%20marker_413a6ca2044745bbadc98f71af8d3138.bindPopup%28popup_ba52987cd48a4cbe8ba0ce635756cc6a%29%0A%20%20%20%20%20%20%20%20%3B%0A%0A%20%20%20%20%20%20%20%20%0A%20%20%20%20%0A%20%20%20%20%0A%20%20%20%20%20%20%20%20%20%20%20%20var%20marker_b9bdd227f00142249814af375f353eb4%20%3D%20L.marker%28%0A%20%20%20%20%20%20%20%20%20%20%20%20%20%20%20%20%5B-22.83096072883751%2C%20-47.06335017986552%5D%2C%0A%20%20%20%20%20%20%20%20%20%20%20%20%20%20%20%20%7B%7D%0A%20%20%20%20%20%20%20%20%20%20%20%20%29.addTo%28map_9f5e12afcc0b4e8187b777e3c4a28b6c%29%3B%0A%20%20%20%20%20%20%20%20%0A%20%20%20%20%0A%20%20%20%20%20%20%20%20%20%20%20%20var%20icon_27841cef3a5c41be8cc03fdf9d3d5565%20%3D%20L.AwesomeMarkers.icon%28%0A%20%20%20%20%20%20%20%20%20%20%20%20%20%20%20%20%7B%22extraClasses%22%3A%20%22fa-rotate-0%22%2C%20%22icon%22%3A%20%22info-sign%22%2C%20%22iconColor%22%3A%20%22white%22%2C%20%22markerColor%22%3A%20%22lightblue%22%2C%20%22prefix%22%3A%20%22glyphicon%22%7D%0A%20%20%20%20%20%20%20%20%20%20%20%20%29%3B%0A%20%20%20%20%20%20%20%20%20%20%20%20marker_b9bdd227f00142249814af375f353eb4.setIcon%28icon_27841cef3a5c41be8cc03fdf9d3d5565%29%3B%0A%20%20%20%20%20%20%20%20%0A%20%20%20%20%0A%20%20%20%20%20%20%20%20var%20popup_9832aef840284e1c9ad29c9f4e5679f5%20%3D%20L.popup%28%7B%22maxWidth%22%3A%20%22100%25%22%7D%29%3B%0A%0A%20%20%20%20%20%20%20%20%0A%20%20%20%20%20%20%20%20%20%20%20%20var%20html_470054fab03645a681bddfa1642f4082%20%3D%20%24%28%60%3Cdiv%20id%3D%22html_470054fab03645a681bddfa1642f4082%22%20style%3D%22width%3A%20100.0%25%3B%20height%3A%20100.0%25%3B%22%3ELat%3A%20-22.83096072883751%2C%20Lng%3A%20-47.06335017986552%2C%20Rssi%3A%20-104.721%3C/div%3E%60%29%5B0%5D%3B%0A%20%20%20%20%20%20%20%20%20%20%20%20popup_9832aef840284e1c9ad29c9f4e5679f5.setContent%28html_470054fab03645a681bddfa1642f4082%29%3B%0A%20%20%20%20%20%20%20%20%0A%0A%20%20%20%20%20%20%20%20marker_b9bdd227f00142249814af375f353eb4.bindPopup%28popup_9832aef840284e1c9ad29c9f4e5679f5%29%0A%20%20%20%20%20%20%20%20%3B%0A%0A%20%20%20%20%20%20%20%20%0A%20%20%20%20%0A%20%20%20%20%0A%20%20%20%20%20%20%20%20%20%20%20%20var%20marker_c026a3e0e50f4177a9fb3321e48c925e%20%3D%20L.marker%28%0A%20%20%20%20%20%20%20%20%20%20%20%20%20%20%20%20%5B-22.81883627792137%2C%20-47.06061555601061%5D%2C%0A%20%20%20%20%20%20%20%20%20%20%20%20%20%20%20%20%7B%7D%0A%20%20%20%20%20%20%20%20%20%20%20%20%29.addTo%28map_9f5e12afcc0b4e8187b777e3c4a28b6c%29%3B%0A%20%20%20%20%20%20%20%20%0A%20%20%20%20%0A%20%20%20%20%20%20%20%20%20%20%20%20var%20icon_5d7151f720d3439992494f929a3ba763%20%3D%20L.AwesomeMarkers.icon%28%0A%20%20%20%20%20%20%20%20%20%20%20%20%20%20%20%20%7B%22extraClasses%22%3A%20%22fa-rotate-0%22%2C%20%22icon%22%3A%20%22info-sign%22%2C%20%22iconColor%22%3A%20%22white%22%2C%20%22markerColor%22%3A%20%22blue%22%2C%20%22prefix%22%3A%20%22glyphicon%22%7D%0A%20%20%20%20%20%20%20%20%20%20%20%20%29%3B%0A%20%20%20%20%20%20%20%20%20%20%20%20marker_c026a3e0e50f4177a9fb3321e48c925e.setIcon%28icon_5d7151f720d3439992494f929a3ba763%29%3B%0A%20%20%20%20%20%20%20%20%0A%20%20%20%20%0A%20%20%20%20%20%20%20%20var%20popup_676477b7cf5c4724ae2f052e6c2673a8%20%3D%20L.popup%28%7B%22maxWidth%22%3A%20%22100%25%22%7D%29%3B%0A%0A%20%20%20%20%20%20%20%20%0A%20%20%20%20%20%20%20%20%20%20%20%20var%20html_ddc00083f6f14618951fdc56699d3e5c%20%3D%20%24%28%60%3Cdiv%20id%3D%22html_ddc00083f6f14618951fdc56699d3e5c%22%20style%3D%22width%3A%20100.0%25%3B%20height%3A%20100.0%25%3B%22%3ELat%3A%20-22.81883627792137%2C%20Lng%3A%20-47.06061555601061%2C%20Rssi%3A%20-86.0258%3C/div%3E%60%29%5B0%5D%3B%0A%20%20%20%20%20%20%20%20%20%20%20%20popup_676477b7cf5c4724ae2f052e6c2673a8.setContent%28html_ddc00083f6f14618951fdc56699d3e5c%29%3B%0A%20%20%20%20%20%20%20%20%0A%0A%20%20%20%20%20%20%20%20marker_c026a3e0e50f4177a9fb3321e48c925e.bindPopup%28popup_676477b7cf5c4724ae2f052e6c2673a8%29%0A%20%20%20%20%20%20%20%20%3B%0A%0A%20%20%20%20%20%20%20%20%0A%20%20%20%20%0A%20%20%20%20%0A%20%20%20%20%20%20%20%20%20%20%20%20var%20marker_4e857f1a4ac4455cbba7e1807e558339%20%3D%20L.marker%28%0A%20%20%20%20%20%20%20%20%20%20%20%20%20%20%20%20%5B-22.81642866763006%2C%20-47.06200737084524%5D%2C%0A%20%20%20%20%20%20%20%20%20%20%20%20%20%20%20%20%7B%7D%0A%20%20%20%20%20%20%20%20%20%20%20%20%29.addTo%28map_9f5e12afcc0b4e8187b777e3c4a28b6c%29%3B%0A%20%20%20%20%20%20%20%20%0A%20%20%20%20%0A%20%20%20%20%20%20%20%20%20%20%20%20var%20icon_2384a603bfc34fee946c4ada74eee3c3%20%3D%20L.AwesomeMarkers.icon%28%0A%20%20%20%20%20%20%20%20%20%20%20%20%20%20%20%20%7B%22extraClasses%22%3A%20%22fa-rotate-0%22%2C%20%22icon%22%3A%20%22info-sign%22%2C%20%22iconColor%22%3A%20%22white%22%2C%20%22markerColor%22%3A%20%22blue%22%2C%20%22prefix%22%3A%20%22glyphicon%22%7D%0A%20%20%20%20%20%20%20%20%20%20%20%20%29%3B%0A%20%20%20%20%20%20%20%20%20%20%20%20marker_4e857f1a4ac4455cbba7e1807e558339.setIcon%28icon_2384a603bfc34fee946c4ada74eee3c3%29%3B%0A%20%20%20%20%20%20%20%20%0A%20%20%20%20%0A%20%20%20%20%20%20%20%20var%20popup_cd4040862ca94aef8313119b14e4e08f%20%3D%20L.popup%28%7B%22maxWidth%22%3A%20%22100%25%22%7D%29%3B%0A%0A%20%20%20%20%20%20%20%20%0A%20%20%20%20%20%20%20%20%20%20%20%20var%20html_49517700465a4b13a1c7bace3fb055f6%20%3D%20%24%28%60%3Cdiv%20id%3D%22html_49517700465a4b13a1c7bace3fb055f6%22%20style%3D%22width%3A%20100.0%25%3B%20height%3A%20100.0%25%3B%22%3ELat%3A%20-22.81642866763006%2C%20Lng%3A%20-47.06200737084524%2C%20Rssi%3A%20-84.4043%3C/div%3E%60%29%5B0%5D%3B%0A%20%20%20%20%20%20%20%20%20%20%20%20popup_cd4040862ca94aef8313119b14e4e08f.setContent%28html_49517700465a4b13a1c7bace3fb055f6%29%3B%0A%20%20%20%20%20%20%20%20%0A%0A%20%20%20%20%20%20%20%20marker_4e857f1a4ac4455cbba7e1807e558339.bindPopup%28popup_cd4040862ca94aef8313119b14e4e08f%29%0A%20%20%20%20%20%20%20%20%3B%0A%0A%20%20%20%20%20%20%20%20%0A%20%20%20%20%0A%20%20%20%20%0A%20%20%20%20%20%20%20%20%20%20%20%20var%20marker_cfdc12f82a324bb48893586b8d099f2c%20%3D%20L.marker%28%0A%20%20%20%20%20%20%20%20%20%20%20%20%20%20%20%20%5B-22.82041670721943%2C%20-47.06747962546312%5D%2C%0A%20%20%20%20%20%20%20%20%20%20%20%20%20%20%20%20%7B%7D%0A%20%20%20%20%20%20%20%20%20%20%20%20%29.addTo%28map_9f5e12afcc0b4e8187b777e3c4a28b6c%29%3B%0A%20%20%20%20%20%20%20%20%0A%20%20%20%20%0A%20%20%20%20%20%20%20%20%20%20%20%20var%20icon_0925a2c7087e46f09157d046e380a44e%20%3D%20L.AwesomeMarkers.icon%28%0A%20%20%20%20%20%20%20%20%20%20%20%20%20%20%20%20%7B%22extraClasses%22%3A%20%22fa-rotate-0%22%2C%20%22icon%22%3A%20%22info-sign%22%2C%20%22iconColor%22%3A%20%22white%22%2C%20%22markerColor%22%3A%20%22blue%22%2C%20%22prefix%22%3A%20%22glyphicon%22%7D%0A%20%20%20%20%20%20%20%20%20%20%20%20%29%3B%0A%20%20%20%20%20%20%20%20%20%20%20%20marker_cfdc12f82a324bb48893586b8d099f2c.setIcon%28icon_0925a2c7087e46f09157d046e380a44e%29%3B%0A%20%20%20%20%20%20%20%20%0A%20%20%20%20%0A%20%20%20%20%20%20%20%20var%20popup_24fa9793c39849cca9acb17ed727416d%20%3D%20L.popup%28%7B%22maxWidth%22%3A%20%22100%25%22%7D%29%3B%0A%0A%20%20%20%20%20%20%20%20%0A%20%20%20%20%20%20%20%20%20%20%20%20var%20html_0ff2bc2d18be45e5b6f027eec6301f7f%20%3D%20%24%28%60%3Cdiv%20id%3D%22html_0ff2bc2d18be45e5b6f027eec6301f7f%22%20style%3D%22width%3A%20100.0%25%3B%20height%3A%20100.0%25%3B%22%3ELat%3A%20-22.82041670721943%2C%20Lng%3A%20-47.06747962546312%2C%20Rssi%3A%20-97.8376%3C/div%3E%60%29%5B0%5D%3B%0A%20%20%20%20%20%20%20%20%20%20%20%20popup_24fa9793c39849cca9acb17ed727416d.setContent%28html_0ff2bc2d18be45e5b6f027eec6301f7f%29%3B%0A%20%20%20%20%20%20%20%20%0A%0A%20%20%20%20%20%20%20%20marker_cfdc12f82a324bb48893586b8d099f2c.bindPopup%28popup_24fa9793c39849cca9acb17ed727416d%29%0A%20%20%20%20%20%20%20%20%3B%0A%0A%20%20%20%20%20%20%20%20%0A%20%20%20%20%0A%20%20%20%20%0A%20%20%20%20%20%20%20%20%20%20%20%20var%20marker_8ac88bdc93004c929f3496695ce50a52%20%3D%20L.marker%28%0A%20%20%20%20%20%20%20%20%20%20%20%20%20%20%20%20%5B-22.82119794279166%2C%20-47.06623375692565%5D%2C%0A%20%20%20%20%20%20%20%20%20%20%20%20%20%20%20%20%7B%7D%0A%20%20%20%20%20%20%20%20%20%20%20%20%29.addTo%28map_9f5e12afcc0b4e8187b777e3c4a28b6c%29%3B%0A%20%20%20%20%20%20%20%20%0A%20%20%20%20%0A%20%20%20%20%20%20%20%20%20%20%20%20var%20icon_3c2f0fd4a2414995b50f639e2cbae2b4%20%3D%20L.AwesomeMarkers.icon%28%0A%20%20%20%20%20%20%20%20%20%20%20%20%20%20%20%20%7B%22extraClasses%22%3A%20%22fa-rotate-0%22%2C%20%22icon%22%3A%20%22info-sign%22%2C%20%22iconColor%22%3A%20%22white%22%2C%20%22markerColor%22%3A%20%22blue%22%2C%20%22prefix%22%3A%20%22glyphicon%22%7D%0A%20%20%20%20%20%20%20%20%20%20%20%20%29%3B%0A%20%20%20%20%20%20%20%20%20%20%20%20marker_8ac88bdc93004c929f3496695ce50a52.setIcon%28icon_3c2f0fd4a2414995b50f639e2cbae2b4%29%3B%0A%20%20%20%20%20%20%20%20%0A%20%20%20%20%0A%20%20%20%20%20%20%20%20var%20popup_50b55a1ed82e4bbf82f8221669c07b8d%20%3D%20L.popup%28%7B%22maxWidth%22%3A%20%22100%25%22%7D%29%3B%0A%0A%20%20%20%20%20%20%20%20%0A%20%20%20%20%20%20%20%20%20%20%20%20var%20html_c2807c97a664412793d1f2658bdd1ecd%20%3D%20%24%28%60%3Cdiv%20id%3D%22html_c2807c97a664412793d1f2658bdd1ecd%22%20style%3D%22width%3A%20100.0%25%3B%20height%3A%20100.0%25%3B%22%3ELat%3A%20-22.82119794279166%2C%20Lng%3A%20-47.06623375692565%2C%20Rssi%3A%20-97.1213%3C/div%3E%60%29%5B0%5D%3B%0A%20%20%20%20%20%20%20%20%20%20%20%20popup_50b55a1ed82e4bbf82f8221669c07b8d.setContent%28html_c2807c97a664412793d1f2658bdd1ecd%29%3B%0A%20%20%20%20%20%20%20%20%0A%0A%20%20%20%20%20%20%20%20marker_8ac88bdc93004c929f3496695ce50a52.bindPopup%28popup_50b55a1ed82e4bbf82f8221669c07b8d%29%0A%20%20%20%20%20%20%20%20%3B%0A%0A%20%20%20%20%20%20%20%20%0A%20%20%20%20%0A%20%20%20%20%0A%20%20%20%20%20%20%20%20%20%20%20%20var%20marker_96c91f8bb87e4f78af27bebe7293d634%20%3D%20L.marker%28%0A%20%20%20%20%20%20%20%20%20%20%20%20%20%20%20%20%5B-22.81946357242083%2C%20-47.06594370942929%5D%2C%0A%20%20%20%20%20%20%20%20%20%20%20%20%20%20%20%20%7B%7D%0A%20%20%20%20%20%20%20%20%20%20%20%20%29.addTo%28map_9f5e12afcc0b4e8187b777e3c4a28b6c%29%3B%0A%20%20%20%20%20%20%20%20%0A%20%20%20%20%0A%20%20%20%20%20%20%20%20%20%20%20%20var%20icon_5ce769a46565435e97040d33488e6b8e%20%3D%20L.AwesomeMarkers.icon%28%0A%20%20%20%20%20%20%20%20%20%20%20%20%20%20%20%20%7B%22extraClasses%22%3A%20%22fa-rotate-0%22%2C%20%22icon%22%3A%20%22info-sign%22%2C%20%22iconColor%22%3A%20%22white%22%2C%20%22markerColor%22%3A%20%22blue%22%2C%20%22prefix%22%3A%20%22glyphicon%22%7D%0A%20%20%20%20%20%20%20%20%20%20%20%20%29%3B%0A%20%20%20%20%20%20%20%20%20%20%20%20marker_96c91f8bb87e4f78af27bebe7293d634.setIcon%28icon_5ce769a46565435e97040d33488e6b8e%29%3B%0A%20%20%20%20%20%20%20%20%0A%20%20%20%20%0A%20%20%20%20%20%20%20%20var%20popup_e2363261c2ca434b98e1ae3b107e9da6%20%3D%20L.popup%28%7B%22maxWidth%22%3A%20%22100%25%22%7D%29%3B%0A%0A%20%20%20%20%20%20%20%20%0A%20%20%20%20%20%20%20%20%20%20%20%20var%20html_e10d1f5b44d54f39ad6a2fcc723d74cd%20%3D%20%24%28%60%3Cdiv%20id%3D%22html_e10d1f5b44d54f39ad6a2fcc723d74cd%22%20style%3D%22width%3A%20100.0%25%3B%20height%3A%20100.0%25%3B%22%3ELat%3A%20-22.81946357242083%2C%20Lng%3A%20-47.06594370942929%2C%20Rssi%3A%20-95.2345%3C/div%3E%60%29%5B0%5D%3B%0A%20%20%20%20%20%20%20%20%20%20%20%20popup_e2363261c2ca434b98e1ae3b107e9da6.setContent%28html_e10d1f5b44d54f39ad6a2fcc723d74cd%29%3B%0A%20%20%20%20%20%20%20%20%0A%0A%20%20%20%20%20%20%20%20marker_96c91f8bb87e4f78af27bebe7293d634.bindPopup%28popup_e2363261c2ca434b98e1ae3b107e9da6%29%0A%20%20%20%20%20%20%20%20%3B%0A%0A%20%20%20%20%20%20%20%20%0A%20%20%20%20%0A%20%20%20%20%0A%20%20%20%20%20%20%20%20%20%20%20%20var%20marker_207458f0501242f4999548176cd56c49%20%3D%20L.marker%28%0A%20%20%20%20%20%20%20%20%20%20%20%20%20%20%20%20%5B-22.82058803039477%2C%20-47.06490757596987%5D%2C%0A%20%20%20%20%20%20%20%20%20%20%20%20%20%20%20%20%7B%7D%0A%20%20%20%20%20%20%20%20%20%20%20%20%29.addTo%28map_9f5e12afcc0b4e8187b777e3c4a28b6c%29%3B%0A%20%20%20%20%20%20%20%20%0A%20%20%20%20%0A%20%20%20%20%20%20%20%20%20%20%20%20var%20icon_6ad09ffbef27475bab77774dffa40d21%20%3D%20L.AwesomeMarkers.icon%28%0A%20%20%20%20%20%20%20%20%20%20%20%20%20%20%20%20%7B%22extraClasses%22%3A%20%22fa-rotate-0%22%2C%20%22icon%22%3A%20%22info-sign%22%2C%20%22iconColor%22%3A%20%22white%22%2C%20%22markerColor%22%3A%20%22blue%22%2C%20%22prefix%22%3A%20%22glyphicon%22%7D%0A%20%20%20%20%20%20%20%20%20%20%20%20%29%3B%0A%20%20%20%20%20%20%20%20%20%20%20%20marker_207458f0501242f4999548176cd56c49.setIcon%28icon_6ad09ffbef27475bab77774dffa40d21%29%3B%0A%20%20%20%20%20%20%20%20%0A%20%20%20%20%0A%20%20%20%20%20%20%20%20var%20popup_aee23261f45e4a6d9db4bbdd76d7bb11%20%3D%20L.popup%28%7B%22maxWidth%22%3A%20%22100%25%22%7D%29%3B%0A%0A%20%20%20%20%20%20%20%20%0A%20%20%20%20%20%20%20%20%20%20%20%20var%20html_d51a38da3db34b00b2c08faa8158aa8e%20%3D%20%24%28%60%3Cdiv%20id%3D%22html_d51a38da3db34b00b2c08faa8158aa8e%22%20style%3D%22width%3A%20100.0%25%3B%20height%3A%20100.0%25%3B%22%3ELat%3A%20-22.82058803039477%2C%20Lng%3A%20-47.06490757596987%2C%20Rssi%3A%20-95.022%3C/div%3E%60%29%5B0%5D%3B%0A%20%20%20%20%20%20%20%20%20%20%20%20popup_aee23261f45e4a6d9db4bbdd76d7bb11.setContent%28html_d51a38da3db34b00b2c08faa8158aa8e%29%3B%0A%20%20%20%20%20%20%20%20%0A%0A%20%20%20%20%20%20%20%20marker_207458f0501242f4999548176cd56c49.bindPopup%28popup_aee23261f45e4a6d9db4bbdd76d7bb11%29%0A%20%20%20%20%20%20%20%20%3B%0A%0A%20%20%20%20%20%20%20%20%0A%20%20%20%20%0A%20%20%20%20%0A%20%20%20%20%20%20%20%20%20%20%20%20var%20marker_81d375ef2bb2404c952187ec8c94187f%20%3D%20L.marker%28%0A%20%20%20%20%20%20%20%20%20%20%20%20%20%20%20%20%5B-22.81187430269656%2C%20-47.06667391119723%5D%2C%0A%20%20%20%20%20%20%20%20%20%20%20%20%20%20%20%20%7B%7D%0A%20%20%20%20%20%20%20%20%20%20%20%20%29.addTo%28map_9f5e12afcc0b4e8187b777e3c4a28b6c%29%3B%0A%20%20%20%20%20%20%20%20%0A%20%20%20%20%0A%20%20%20%20%20%20%20%20%20%20%20%20var%20icon_0bb6b475c002490d82b9bb27fd07c5c1%20%3D%20L.AwesomeMarkers.icon%28%0A%20%20%20%20%20%20%20%20%20%20%20%20%20%20%20%20%7B%22extraClasses%22%3A%20%22fa-rotate-0%22%2C%20%22icon%22%3A%20%22info-sign%22%2C%20%22iconColor%22%3A%20%22white%22%2C%20%22markerColor%22%3A%20%22blue%22%2C%20%22prefix%22%3A%20%22glyphicon%22%7D%0A%20%20%20%20%20%20%20%20%20%20%20%20%29%3B%0A%20%20%20%20%20%20%20%20%20%20%20%20marker_81d375ef2bb2404c952187ec8c94187f.setIcon%28icon_0bb6b475c002490d82b9bb27fd07c5c1%29%3B%0A%20%20%20%20%20%20%20%20%0A%20%20%20%20%0A%20%20%20%20%20%20%20%20var%20popup_f1aee9739ee240babfea871c56971778%20%3D%20L.popup%28%7B%22maxWidth%22%3A%20%22100%25%22%7D%29%3B%0A%0A%20%20%20%20%20%20%20%20%0A%20%20%20%20%20%20%20%20%20%20%20%20var%20html_bf531340ff3a4bb2b61e6c8b9d0fd96b%20%3D%20%24%28%60%3Cdiv%20id%3D%22html_bf531340ff3a4bb2b61e6c8b9d0fd96b%22%20style%3D%22width%3A%20100.0%25%3B%20height%3A%20100.0%25%3B%22%3ELat%3A%20-22.81187430269656%2C%20Lng%3A%20-47.06667391119723%2C%20Rssi%3A%20-95.1719%3C/div%3E%60%29%5B0%5D%3B%0A%20%20%20%20%20%20%20%20%20%20%20%20popup_f1aee9739ee240babfea871c56971778.setContent%28html_bf531340ff3a4bb2b61e6c8b9d0fd96b%29%3B%0A%20%20%20%20%20%20%20%20%0A%0A%20%20%20%20%20%20%20%20marker_81d375ef2bb2404c952187ec8c94187f.bindPopup%28popup_f1aee9739ee240babfea871c56971778%29%0A%20%20%20%20%20%20%20%20%3B%0A%0A%20%20%20%20%20%20%20%20%0A%20%20%20%20%0A%20%20%20%20%0A%20%20%20%20%20%20%20%20%20%20%20%20var%20marker_e921130f7c5644a0b8641ded136305d0%20%3D%20L.marker%28%0A%20%20%20%20%20%20%20%20%20%20%20%20%20%20%20%20%5B-22.82428622451636%2C%20-47.06705183968418%5D%2C%0A%20%20%20%20%20%20%20%20%20%20%20%20%20%20%20%20%7B%7D%0A%20%20%20%20%20%20%20%20%20%20%20%20%29.addTo%28map_9f5e12afcc0b4e8187b777e3c4a28b6c%29%3B%0A%20%20%20%20%20%20%20%20%0A%20%20%20%20%0A%20%20%20%20%20%20%20%20%20%20%20%20var%20icon_d64d2c59074f4fb2b0337d9ac826f326%20%3D%20L.AwesomeMarkers.icon%28%0A%20%20%20%20%20%20%20%20%20%20%20%20%20%20%20%20%7B%22extraClasses%22%3A%20%22fa-rotate-0%22%2C%20%22icon%22%3A%20%22info-sign%22%2C%20%22iconColor%22%3A%20%22white%22%2C%20%22markerColor%22%3A%20%22lightblue%22%2C%20%22prefix%22%3A%20%22glyphicon%22%7D%0A%20%20%20%20%20%20%20%20%20%20%20%20%29%3B%0A%20%20%20%20%20%20%20%20%20%20%20%20marker_e921130f7c5644a0b8641ded136305d0.setIcon%28icon_d64d2c59074f4fb2b0337d9ac826f326%29%3B%0A%20%20%20%20%20%20%20%20%0A%20%20%20%20%0A%20%20%20%20%20%20%20%20var%20popup_bd2a2108c389414dbd1a16b28709da68%20%3D%20L.popup%28%7B%22maxWidth%22%3A%20%22100%25%22%7D%29%3B%0A%0A%20%20%20%20%20%20%20%20%0A%20%20%20%20%20%20%20%20%20%20%20%20var%20html_a9ef84df17f24044860cc7578b2e9bce%20%3D%20%24%28%60%3Cdiv%20id%3D%22html_a9ef84df17f24044860cc7578b2e9bce%22%20style%3D%22width%3A%20100.0%25%3B%20height%3A%20100.0%25%3B%22%3ELat%3A%20-22.82428622451636%2C%20Lng%3A%20-47.06705183968418%2C%20Rssi%3A%20-100.585%3C/div%3E%60%29%5B0%5D%3B%0A%20%20%20%20%20%20%20%20%20%20%20%20popup_bd2a2108c389414dbd1a16b28709da68.setContent%28html_a9ef84df17f24044860cc7578b2e9bce%29%3B%0A%20%20%20%20%20%20%20%20%0A%0A%20%20%20%20%20%20%20%20marker_e921130f7c5644a0b8641ded136305d0.bindPopup%28popup_bd2a2108c389414dbd1a16b28709da68%29%0A%20%20%20%20%20%20%20%20%3B%0A%0A%20%20%20%20%20%20%20%20%0A%20%20%20%20%0A%20%20%20%20%0A%20%20%20%20%20%20%20%20%20%20%20%20var%20marker_7dfbce5a2f824b93adbaf95d68083ef0%20%3D%20L.marker%28%0A%20%20%20%20%20%20%20%20%20%20%20%20%20%20%20%20%5B-22.82384365773027%2C%20-47.06400728650969%5D%2C%0A%20%20%20%20%20%20%20%20%20%20%20%20%20%20%20%20%7B%7D%0A%20%20%20%20%20%20%20%20%20%20%20%20%29.addTo%28map_9f5e12afcc0b4e8187b777e3c4a28b6c%29%3B%0A%20%20%20%20%20%20%20%20%0A%20%20%20%20%0A%20%20%20%20%20%20%20%20%20%20%20%20var%20icon_39bda7dcf9624db5beb501b022b5c029%20%3D%20L.AwesomeMarkers.icon%28%0A%20%20%20%20%20%20%20%20%20%20%20%20%20%20%20%20%7B%22extraClasses%22%3A%20%22fa-rotate-0%22%2C%20%22icon%22%3A%20%22info-sign%22%2C%20%22iconColor%22%3A%20%22white%22%2C%20%22markerColor%22%3A%20%22blue%22%2C%20%22prefix%22%3A%20%22glyphicon%22%7D%0A%20%20%20%20%20%20%20%20%20%20%20%20%29%3B%0A%20%20%20%20%20%20%20%20%20%20%20%20marker_7dfbce5a2f824b93adbaf95d68083ef0.setIcon%28icon_39bda7dcf9624db5beb501b022b5c029%29%3B%0A%20%20%20%20%20%20%20%20%0A%20%20%20%20%0A%20%20%20%20%20%20%20%20var%20popup_c4ff2ead7c0a4e49b658f978e9fa2e66%20%3D%20L.popup%28%7B%22maxWidth%22%3A%20%22100%25%22%7D%29%3B%0A%0A%20%20%20%20%20%20%20%20%0A%20%20%20%20%20%20%20%20%20%20%20%20var%20html_ea6f22589d8949e1ad441f3c48adda61%20%3D%20%24%28%60%3Cdiv%20id%3D%22html_ea6f22589d8949e1ad441f3c48adda61%22%20style%3D%22width%3A%20100.0%25%3B%20height%3A%20100.0%25%3B%22%3ELat%3A%20-22.82384365773027%2C%20Lng%3A%20-47.06400728650969%2C%20Rssi%3A%20-97.9379%3C/div%3E%60%29%5B0%5D%3B%0A%20%20%20%20%20%20%20%20%20%20%20%20popup_c4ff2ead7c0a4e49b658f978e9fa2e66.setContent%28html_ea6f22589d8949e1ad441f3c48adda61%29%3B%0A%20%20%20%20%20%20%20%20%0A%0A%20%20%20%20%20%20%20%20marker_7dfbce5a2f824b93adbaf95d68083ef0.bindPopup%28popup_c4ff2ead7c0a4e49b658f978e9fa2e66%29%0A%20%20%20%20%20%20%20%20%3B%0A%0A%20%20%20%20%20%20%20%20%0A%20%20%20%20%0A%20%20%20%20%0A%20%20%20%20%20%20%20%20%20%20%20%20var%20marker_288a24b5ed6440ffb776a5faebb76969%20%3D%20L.marker%28%0A%20%20%20%20%20%20%20%20%20%20%20%20%20%20%20%20%5B-22.82640533371841%2C%20-47.06430825896828%5D%2C%0A%20%20%20%20%20%20%20%20%20%20%20%20%20%20%20%20%7B%7D%0A%20%20%20%20%20%20%20%20%20%20%20%20%29.addTo%28map_9f5e12afcc0b4e8187b777e3c4a28b6c%29%3B%0A%20%20%20%20%20%20%20%20%0A%20%20%20%20%0A%20%20%20%20%20%20%20%20%20%20%20%20var%20icon_08250f386f45473ab23847c771d671d9%20%3D%20L.AwesomeMarkers.icon%28%0A%20%20%20%20%20%20%20%20%20%20%20%20%20%20%20%20%7B%22extraClasses%22%3A%20%22fa-rotate-0%22%2C%20%22icon%22%3A%20%22info-sign%22%2C%20%22iconColor%22%3A%20%22white%22%2C%20%22markerColor%22%3A%20%22lightblue%22%2C%20%22prefix%22%3A%20%22glyphicon%22%7D%0A%20%20%20%20%20%20%20%20%20%20%20%20%29%3B%0A%20%20%20%20%20%20%20%20%20%20%20%20marker_288a24b5ed6440ffb776a5faebb76969.setIcon%28icon_08250f386f45473ab23847c771d671d9%29%3B%0A%20%20%20%20%20%20%20%20%0A%20%20%20%20%0A%20%20%20%20%20%20%20%20var%20popup_d8d18b7664f143e6b069715a19ded267%20%3D%20L.popup%28%7B%22maxWidth%22%3A%20%22100%25%22%7D%29%3B%0A%0A%20%20%20%20%20%20%20%20%0A%20%20%20%20%20%20%20%20%20%20%20%20var%20html_155bd6cc1f0c439d8ab649ecc5d3c743%20%3D%20%24%28%60%3Cdiv%20id%3D%22html_155bd6cc1f0c439d8ab649ecc5d3c743%22%20style%3D%22width%3A%20100.0%25%3B%20height%3A%20100.0%25%3B%22%3ELat%3A%20-22.82640533371841%2C%20Lng%3A%20-47.06430825896828%2C%20Rssi%3A%20-100.881%3C/div%3E%60%29%5B0%5D%3B%0A%20%20%20%20%20%20%20%20%20%20%20%20popup_d8d18b7664f143e6b069715a19ded267.setContent%28html_155bd6cc1f0c439d8ab649ecc5d3c743%29%3B%0A%20%20%20%20%20%20%20%20%0A%0A%20%20%20%20%20%20%20%20marker_288a24b5ed6440ffb776a5faebb76969.bindPopup%28popup_d8d18b7664f143e6b069715a19ded267%29%0A%20%20%20%20%20%20%20%20%3B%0A%0A%20%20%20%20%20%20%20%20%0A%20%20%20%20%0A%20%20%20%20%0A%20%20%20%20%20%20%20%20%20%20%20%20var%20marker_eebf3fc2726b4e2490f644dd940bce2d%20%3D%20L.marker%28%0A%20%20%20%20%20%20%20%20%20%20%20%20%20%20%20%20%5B-22.81528722423836%2C%20-47.07010821668231%5D%2C%0A%20%20%20%20%20%20%20%20%20%20%20%20%20%20%20%20%7B%7D%0A%20%20%20%20%20%20%20%20%20%20%20%20%29.addTo%28map_9f5e12afcc0b4e8187b777e3c4a28b6c%29%3B%0A%20%20%20%20%20%20%20%20%0A%20%20%20%20%0A%20%20%20%20%20%20%20%20%20%20%20%20var%20icon_65747c5bce114d00933cb28e119b0274%20%3D%20L.AwesomeMarkers.icon%28%0A%20%20%20%20%20%20%20%20%20%20%20%20%20%20%20%20%7B%22extraClasses%22%3A%20%22fa-rotate-0%22%2C%20%22icon%22%3A%20%22info-sign%22%2C%20%22iconColor%22%3A%20%22white%22%2C%20%22markerColor%22%3A%20%22blue%22%2C%20%22prefix%22%3A%20%22glyphicon%22%7D%0A%20%20%20%20%20%20%20%20%20%20%20%20%29%3B%0A%20%20%20%20%20%20%20%20%20%20%20%20marker_eebf3fc2726b4e2490f644dd940bce2d.setIcon%28icon_65747c5bce114d00933cb28e119b0274%29%3B%0A%20%20%20%20%20%20%20%20%0A%20%20%20%20%0A%20%20%20%20%20%20%20%20var%20popup_f9578f070f1546a3b4d67a9c725d458d%20%3D%20L.popup%28%7B%22maxWidth%22%3A%20%22100%25%22%7D%29%3B%0A%0A%20%20%20%20%20%20%20%20%0A%20%20%20%20%20%20%20%20%20%20%20%20var%20html_ac00dfe0d18b41e08bb69e8875712575%20%3D%20%24%28%60%3Cdiv%20id%3D%22html_ac00dfe0d18b41e08bb69e8875712575%22%20style%3D%22width%3A%20100.0%25%3B%20height%3A%20100.0%25%3B%22%3ELat%3A%20-22.81528722423836%2C%20Lng%3A%20-47.07010821668231%2C%20Rssi%3A%20-99.0452%3C/div%3E%60%29%5B0%5D%3B%0A%20%20%20%20%20%20%20%20%20%20%20%20popup_f9578f070f1546a3b4d67a9c725d458d.setContent%28html_ac00dfe0d18b41e08bb69e8875712575%29%3B%0A%20%20%20%20%20%20%20%20%0A%0A%20%20%20%20%20%20%20%20marker_eebf3fc2726b4e2490f644dd940bce2d.bindPopup%28popup_f9578f070f1546a3b4d67a9c725d458d%29%0A%20%20%20%20%20%20%20%20%3B%0A%0A%20%20%20%20%20%20%20%20%0A%20%20%20%20%0A%20%20%20%20%0A%20%20%20%20%20%20%20%20%20%20%20%20var%20marker_f1f174e8398842cfb0c8e4fc66beb760%20%3D%20L.marker%28%0A%20%20%20%20%20%20%20%20%20%20%20%20%20%20%20%20%5B-22.81903955890325%2C%20-47.07010962092847%5D%2C%0A%20%20%20%20%20%20%20%20%20%20%20%20%20%20%20%20%7B%7D%0A%20%20%20%20%20%20%20%20%20%20%20%20%29.addTo%28map_9f5e12afcc0b4e8187b777e3c4a28b6c%29%3B%0A%20%20%20%20%20%20%20%20%0A%20%20%20%20%0A%20%20%20%20%20%20%20%20%20%20%20%20var%20icon_921beca8025d4915899a0c7c960a84f7%20%3D%20L.AwesomeMarkers.icon%28%0A%20%20%20%20%20%20%20%20%20%20%20%20%20%20%20%20%7B%22extraClasses%22%3A%20%22fa-rotate-0%22%2C%20%22icon%22%3A%20%22info-sign%22%2C%20%22iconColor%22%3A%20%22white%22%2C%20%22markerColor%22%3A%20%22blue%22%2C%20%22prefix%22%3A%20%22glyphicon%22%7D%0A%20%20%20%20%20%20%20%20%20%20%20%20%29%3B%0A%20%20%20%20%20%20%20%20%20%20%20%20marker_f1f174e8398842cfb0c8e4fc66beb760.setIcon%28icon_921beca8025d4915899a0c7c960a84f7%29%3B%0A%20%20%20%20%20%20%20%20%0A%20%20%20%20%0A%20%20%20%20%20%20%20%20var%20popup_2039fb8e9ac94e65b6d4534f846d4080%20%3D%20L.popup%28%7B%22maxWidth%22%3A%20%22100%25%22%7D%29%3B%0A%0A%20%20%20%20%20%20%20%20%0A%20%20%20%20%20%20%20%20%20%20%20%20var%20html_c7c1422839834c239c84784b5a931192%20%3D%20%24%28%60%3Cdiv%20id%3D%22html_c7c1422839834c239c84784b5a931192%22%20style%3D%22width%3A%20100.0%25%3B%20height%3A%20100.0%25%3B%22%3ELat%3A%20-22.81903955890325%2C%20Lng%3A%20-47.07010962092847%2C%20Rssi%3A%20-99.9349%3C/div%3E%60%29%5B0%5D%3B%0A%20%20%20%20%20%20%20%20%20%20%20%20popup_2039fb8e9ac94e65b6d4534f846d4080.setContent%28html_c7c1422839834c239c84784b5a931192%29%3B%0A%20%20%20%20%20%20%20%20%0A%0A%20%20%20%20%20%20%20%20marker_f1f174e8398842cfb0c8e4fc66beb760.bindPopup%28popup_2039fb8e9ac94e65b6d4534f846d4080%29%0A%20%20%20%20%20%20%20%20%3B%0A%0A%20%20%20%20%20%20%20%20%0A%20%20%20%20%0A%20%20%20%20%0A%20%20%20%20%20%20%20%20%20%20%20%20var%20marker_7fb1c6238a68421ea809e26e65127af2%20%3D%20L.marker%28%0A%20%20%20%20%20%20%20%20%20%20%20%20%20%20%20%20%5B-22.81475094222973%2C%20-47.06482074503554%5D%2C%0A%20%20%20%20%20%20%20%20%20%20%20%20%20%20%20%20%7B%7D%0A%20%20%20%20%20%20%20%20%20%20%20%20%29.addTo%28map_9f5e12afcc0b4e8187b777e3c4a28b6c%29%3B%0A%20%20%20%20%20%20%20%20%0A%20%20%20%20%0A%20%20%20%20%20%20%20%20%20%20%20%20var%20icon_06890ad8a91d44bbbf52592b3193e483%20%3D%20L.AwesomeMarkers.icon%28%0A%20%20%20%20%20%20%20%20%20%20%20%20%20%20%20%20%7B%22extraClasses%22%3A%20%22fa-rotate-0%22%2C%20%22icon%22%3A%20%22info-sign%22%2C%20%22iconColor%22%3A%20%22white%22%2C%20%22markerColor%22%3A%20%22blue%22%2C%20%22prefix%22%3A%20%22glyphicon%22%7D%0A%20%20%20%20%20%20%20%20%20%20%20%20%29%3B%0A%20%20%20%20%20%20%20%20%20%20%20%20marker_7fb1c6238a68421ea809e26e65127af2.setIcon%28icon_06890ad8a91d44bbbf52592b3193e483%29%3B%0A%20%20%20%20%20%20%20%20%0A%20%20%20%20%0A%20%20%20%20%20%20%20%20var%20popup_bbb08c590e5a49ffae7bad51931f4695%20%3D%20L.popup%28%7B%22maxWidth%22%3A%20%22100%25%22%7D%29%3B%0A%0A%20%20%20%20%20%20%20%20%0A%20%20%20%20%20%20%20%20%20%20%20%20var%20html_edccbcdee4a64a7cac3ce11c7aeec4ce%20%3D%20%24%28%60%3Cdiv%20id%3D%22html_edccbcdee4a64a7cac3ce11c7aeec4ce%22%20style%3D%22width%3A%20100.0%25%3B%20height%3A%20100.0%25%3B%22%3ELat%3A%20-22.81475094222973%2C%20Lng%3A%20-47.06482074503554%2C%20Rssi%3A%20-90.8292%3C/div%3E%60%29%5B0%5D%3B%0A%20%20%20%20%20%20%20%20%20%20%20%20popup_bbb08c590e5a49ffae7bad51931f4695.setContent%28html_edccbcdee4a64a7cac3ce11c7aeec4ce%29%3B%0A%20%20%20%20%20%20%20%20%0A%0A%20%20%20%20%20%20%20%20marker_7fb1c6238a68421ea809e26e65127af2.bindPopup%28popup_bbb08c590e5a49ffae7bad51931f4695%29%0A%20%20%20%20%20%20%20%20%3B%0A%0A%20%20%20%20%20%20%20%20%0A%20%20%20%20%0A%20%20%20%20%0A%20%20%20%20%20%20%20%20%20%20%20%20var%20marker_74dcc1b51f7c43a29640e3428148fea4%20%3D%20L.marker%28%0A%20%20%20%20%20%20%20%20%20%20%20%20%20%20%20%20%5B-22.814680826242%2C%20-47.0691606458217%5D%2C%0A%20%20%20%20%20%20%20%20%20%20%20%20%20%20%20%20%7B%7D%0A%20%20%20%20%20%20%20%20%20%20%20%20%29.addTo%28map_9f5e12afcc0b4e8187b777e3c4a28b6c%29%3B%0A%20%20%20%20%20%20%20%20%0A%20%20%20%20%0A%20%20%20%20%20%20%20%20%20%20%20%20var%20icon_7c8e88862461427f8859572f11761616%20%3D%20L.AwesomeMarkers.icon%28%0A%20%20%20%20%20%20%20%20%20%20%20%20%20%20%20%20%7B%22extraClasses%22%3A%20%22fa-rotate-0%22%2C%20%22icon%22%3A%20%22info-sign%22%2C%20%22iconColor%22%3A%20%22white%22%2C%20%22markerColor%22%3A%20%22blue%22%2C%20%22prefix%22%3A%20%22glyphicon%22%7D%0A%20%20%20%20%20%20%20%20%20%20%20%20%29%3B%0A%20%20%20%20%20%20%20%20%20%20%20%20marker_74dcc1b51f7c43a29640e3428148fea4.setIcon%28icon_7c8e88862461427f8859572f11761616%29%3B%0A%20%20%20%20%20%20%20%20%0A%20%20%20%20%0A%20%20%20%20%20%20%20%20var%20popup_e5b3f809f29b4a3cab82ac6d6e36b5c8%20%3D%20L.popup%28%7B%22maxWidth%22%3A%20%22100%25%22%7D%29%3B%0A%0A%20%20%20%20%20%20%20%20%0A%20%20%20%20%20%20%20%20%20%20%20%20var%20html_fd126a706ee842afa8dfae65847551ad%20%3D%20%24%28%60%3Cdiv%20id%3D%22html_fd126a706ee842afa8dfae65847551ad%22%20style%3D%22width%3A%20100.0%25%3B%20height%3A%20100.0%25%3B%22%3ELat%3A%20-22.814680826242%2C%20Lng%3A%20-47.0691606458217%2C%20Rssi%3A%20-97.8656%3C/div%3E%60%29%5B0%5D%3B%0A%20%20%20%20%20%20%20%20%20%20%20%20popup_e5b3f809f29b4a3cab82ac6d6e36b5c8.setContent%28html_fd126a706ee842afa8dfae65847551ad%29%3B%0A%20%20%20%20%20%20%20%20%0A%0A%20%20%20%20%20%20%20%20marker_74dcc1b51f7c43a29640e3428148fea4.bindPopup%28popup_e5b3f809f29b4a3cab82ac6d6e36b5c8%29%0A%20%20%20%20%20%20%20%20%3B%0A%0A%20%20%20%20%20%20%20%20%0A%20%20%20%20%0A%20%20%20%20%0A%20%20%20%20%20%20%20%20%20%20%20%20var%20marker_96e2d91bddb44dc09303ec7f6380cda7%20%3D%20L.marker%28%0A%20%20%20%20%20%20%20%20%20%20%20%20%20%20%20%20%5B-22.81296061384064%2C%20-47.06628771818721%5D%2C%0A%20%20%20%20%20%20%20%20%20%20%20%20%20%20%20%20%7B%7D%0A%20%20%20%20%20%20%20%20%20%20%20%20%29.addTo%28map_9f5e12afcc0b4e8187b777e3c4a28b6c%29%3B%0A%20%20%20%20%20%20%20%20%0A%20%20%20%20%0A%20%20%20%20%20%20%20%20%20%20%20%20var%20icon_5a48205d285e4b61aeb6fa1bdb608f8b%20%3D%20L.AwesomeMarkers.icon%28%0A%20%20%20%20%20%20%20%20%20%20%20%20%20%20%20%20%7B%22extraClasses%22%3A%20%22fa-rotate-0%22%2C%20%22icon%22%3A%20%22info-sign%22%2C%20%22iconColor%22%3A%20%22white%22%2C%20%22markerColor%22%3A%20%22blue%22%2C%20%22prefix%22%3A%20%22glyphicon%22%7D%0A%20%20%20%20%20%20%20%20%20%20%20%20%29%3B%0A%20%20%20%20%20%20%20%20%20%20%20%20marker_96e2d91bddb44dc09303ec7f6380cda7.setIcon%28icon_5a48205d285e4b61aeb6fa1bdb608f8b%29%3B%0A%20%20%20%20%20%20%20%20%0A%20%20%20%20%0A%20%20%20%20%20%20%20%20var%20popup_5b7edc4ce3024adb8fd1f4d8ab277447%20%3D%20L.popup%28%7B%22maxWidth%22%3A%20%22100%25%22%7D%29%3B%0A%0A%20%20%20%20%20%20%20%20%0A%20%20%20%20%20%20%20%20%20%20%20%20var%20html_15ad5b80fd404903bbd66b73cd359bbd%20%3D%20%24%28%60%3Cdiv%20id%3D%22html_15ad5b80fd404903bbd66b73cd359bbd%22%20style%3D%22width%3A%20100.0%25%3B%20height%3A%20100.0%25%3B%22%3ELat%3A%20-22.81296061384064%2C%20Lng%3A%20-47.06628771818721%2C%20Rssi%3A%20-94.0263%3C/div%3E%60%29%5B0%5D%3B%0A%20%20%20%20%20%20%20%20%20%20%20%20popup_5b7edc4ce3024adb8fd1f4d8ab277447.setContent%28html_15ad5b80fd404903bbd66b73cd359bbd%29%3B%0A%20%20%20%20%20%20%20%20%0A%0A%20%20%20%20%20%20%20%20marker_96e2d91bddb44dc09303ec7f6380cda7.bindPopup%28popup_5b7edc4ce3024adb8fd1f4d8ab277447%29%0A%20%20%20%20%20%20%20%20%3B%0A%0A%20%20%20%20%20%20%20%20%0A%20%20%20%20%0A%20%20%20%20%0A%20%20%20%20%20%20%20%20%20%20%20%20var%20marker_87f648243b874f3a8454aed41190381e%20%3D%20L.marker%28%0A%20%20%20%20%20%20%20%20%20%20%20%20%20%20%20%20%5B-22.81628204801213%2C%20-47.06718684060307%5D%2C%0A%20%20%20%20%20%20%20%20%20%20%20%20%20%20%20%20%7B%7D%0A%20%20%20%20%20%20%20%20%20%20%20%20%29.addTo%28map_9f5e12afcc0b4e8187b777e3c4a28b6c%29%3B%0A%20%20%20%20%20%20%20%20%0A%20%20%20%20%0A%20%20%20%20%20%20%20%20%20%20%20%20var%20icon_e3552d0f10e745a28888dcd23d06810a%20%3D%20L.AwesomeMarkers.icon%28%0A%20%20%20%20%20%20%20%20%20%20%20%20%20%20%20%20%7B%22extraClasses%22%3A%20%22fa-rotate-0%22%2C%20%22icon%22%3A%20%22info-sign%22%2C%20%22iconColor%22%3A%20%22white%22%2C%20%22markerColor%22%3A%20%22blue%22%2C%20%22prefix%22%3A%20%22glyphicon%22%7D%0A%20%20%20%20%20%20%20%20%20%20%20%20%29%3B%0A%20%20%20%20%20%20%20%20%20%20%20%20marker_87f648243b874f3a8454aed41190381e.setIcon%28icon_e3552d0f10e745a28888dcd23d06810a%29%3B%0A%20%20%20%20%20%20%20%20%0A%20%20%20%20%0A%20%20%20%20%20%20%20%20var%20popup_be888b33dc394d08a14d316ded24528f%20%3D%20L.popup%28%7B%22maxWidth%22%3A%20%22100%25%22%7D%29%3B%0A%0A%20%20%20%20%20%20%20%20%0A%20%20%20%20%20%20%20%20%20%20%20%20var%20html_f6e5164b96c244bb8ad36a7d4e48d638%20%3D%20%24%28%60%3Cdiv%20id%3D%22html_f6e5164b96c244bb8ad36a7d4e48d638%22%20style%3D%22width%3A%20100.0%25%3B%20height%3A%20100.0%25%3B%22%3ELat%3A%20-22.81628204801213%2C%20Lng%3A%20-47.06718684060307%2C%20Rssi%3A%20-95.2428%3C/div%3E%60%29%5B0%5D%3B%0A%20%20%20%20%20%20%20%20%20%20%20%20popup_be888b33dc394d08a14d316ded24528f.setContent%28html_f6e5164b96c244bb8ad36a7d4e48d638%29%3B%0A%20%20%20%20%20%20%20%20%0A%0A%20%20%20%20%20%20%20%20marker_87f648243b874f3a8454aed41190381e.bindPopup%28popup_be888b33dc394d08a14d316ded24528f%29%0A%20%20%20%20%20%20%20%20%3B%0A%0A%20%20%20%20%20%20%20%20%0A%20%20%20%20%0A%20%20%20%20%0A%20%20%20%20%20%20%20%20%20%20%20%20var%20marker_1c0adf436d5540709e2d616957aa0829%20%3D%20L.marker%28%0A%20%20%20%20%20%20%20%20%20%20%20%20%20%20%20%20%5B-22.82401506632456%2C%20-47.06493091959375%5D%2C%0A%20%20%20%20%20%20%20%20%20%20%20%20%20%20%20%20%7B%7D%0A%20%20%20%20%20%20%20%20%20%20%20%20%29.addTo%28map_9f5e12afcc0b4e8187b777e3c4a28b6c%29%3B%0A%20%20%20%20%20%20%20%20%0A%20%20%20%20%0A%20%20%20%20%20%20%20%20%20%20%20%20var%20icon_4a3b0a5df61c4708b929989dd93e3159%20%3D%20L.AwesomeMarkers.icon%28%0A%20%20%20%20%20%20%20%20%20%20%20%20%20%20%20%20%7B%22extraClasses%22%3A%20%22fa-rotate-0%22%2C%20%22icon%22%3A%20%22info-sign%22%2C%20%22iconColor%22%3A%20%22white%22%2C%20%22markerColor%22%3A%20%22blue%22%2C%20%22prefix%22%3A%20%22glyphicon%22%7D%0A%20%20%20%20%20%20%20%20%20%20%20%20%29%3B%0A%20%20%20%20%20%20%20%20%20%20%20%20marker_1c0adf436d5540709e2d616957aa0829.setIcon%28icon_4a3b0a5df61c4708b929989dd93e3159%29%3B%0A%20%20%20%20%20%20%20%20%0A%20%20%20%20%0A%20%20%20%20%20%20%20%20var%20popup_c50a94b324ca45e5a11db0f6ab61c21a%20%3D%20L.popup%28%7B%22maxWidth%22%3A%20%22100%25%22%7D%29%3B%0A%0A%20%20%20%20%20%20%20%20%0A%20%20%20%20%20%20%20%20%20%20%20%20var%20html_bc712b5662ef46109036f74e105c9627%20%3D%20%24%28%60%3Cdiv%20id%3D%22html_bc712b5662ef46109036f74e105c9627%22%20style%3D%22width%3A%20100.0%25%3B%20height%3A%20100.0%25%3B%22%3ELat%3A%20-22.82401506632456%2C%20Lng%3A%20-47.06493091959375%2C%20Rssi%3A%20-98.7848%3C/div%3E%60%29%5B0%5D%3B%0A%20%20%20%20%20%20%20%20%20%20%20%20popup_c50a94b324ca45e5a11db0f6ab61c21a.setContent%28html_bc712b5662ef46109036f74e105c9627%29%3B%0A%20%20%20%20%20%20%20%20%0A%0A%20%20%20%20%20%20%20%20marker_1c0adf436d5540709e2d616957aa0829.bindPopup%28popup_c50a94b324ca45e5a11db0f6ab61c21a%29%0A%20%20%20%20%20%20%20%20%3B%0A%0A%20%20%20%20%20%20%20%20%0A%20%20%20%20%0A%20%20%20%20%0A%20%20%20%20%20%20%20%20%20%20%20%20var%20marker_a1d0dc4faeea4be795ab47fc0d0ed5a0%20%3D%20L.marker%28%0A%20%20%20%20%20%20%20%20%20%20%20%20%20%20%20%20%5B-22.81323878624107%2C%20-47.06887155087497%5D%2C%0A%20%20%20%20%20%20%20%20%20%20%20%20%20%20%20%20%7B%7D%0A%20%20%20%20%20%20%20%20%20%20%20%20%29.addTo%28map_9f5e12afcc0b4e8187b777e3c4a28b6c%29%3B%0A%20%20%20%20%20%20%20%20%0A%20%20%20%20%0A%20%20%20%20%20%20%20%20%20%20%20%20var%20icon_230a0c13d8cb48649296310d1a255345%20%3D%20L.AwesomeMarkers.icon%28%0A%20%20%20%20%20%20%20%20%20%20%20%20%20%20%20%20%7B%22extraClasses%22%3A%20%22fa-rotate-0%22%2C%20%22icon%22%3A%20%22info-sign%22%2C%20%22iconColor%22%3A%20%22white%22%2C%20%22markerColor%22%3A%20%22blue%22%2C%20%22prefix%22%3A%20%22glyphicon%22%7D%0A%20%20%20%20%20%20%20%20%20%20%20%20%29%3B%0A%20%20%20%20%20%20%20%20%20%20%20%20marker_a1d0dc4faeea4be795ab47fc0d0ed5a0.setIcon%28icon_230a0c13d8cb48649296310d1a255345%29%3B%0A%20%20%20%20%20%20%20%20%0A%20%20%20%20%0A%20%20%20%20%20%20%20%20var%20popup_dcc4efede06943b5996ad206cd868fc2%20%3D%20L.popup%28%7B%22maxWidth%22%3A%20%22100%25%22%7D%29%3B%0A%0A%20%20%20%20%20%20%20%20%0A%20%20%20%20%20%20%20%20%20%20%20%20var%20html_5603b13cd1ad4fe899228fcea1f516f2%20%3D%20%24%28%60%3Cdiv%20id%3D%22html_5603b13cd1ad4fe899228fcea1f516f2%22%20style%3D%22width%3A%20100.0%25%3B%20height%3A%20100.0%25%3B%22%3ELat%3A%20-22.81323878624107%2C%20Lng%3A%20-47.06887155087497%2C%20Rssi%3A%20-97.6754%3C/div%3E%60%29%5B0%5D%3B%0A%20%20%20%20%20%20%20%20%20%20%20%20popup_dcc4efede06943b5996ad206cd868fc2.setContent%28html_5603b13cd1ad4fe899228fcea1f516f2%29%3B%0A%20%20%20%20%20%20%20%20%0A%0A%20%20%20%20%20%20%20%20marker_a1d0dc4faeea4be795ab47fc0d0ed5a0.bindPopup%28popup_dcc4efede06943b5996ad206cd868fc2%29%0A%20%20%20%20%20%20%20%20%3B%0A%0A%20%20%20%20%20%20%20%20%0A%20%20%20%20%0A%20%20%20%20%0A%20%20%20%20%20%20%20%20%20%20%20%20var%20marker_50f4fdf582504f39b8e571bf8a8ad893%20%3D%20L.marker%28%0A%20%20%20%20%20%20%20%20%20%20%20%20%20%20%20%20%5B-22.81579185317482%2C%20-47.06774224481084%5D%2C%0A%20%20%20%20%20%20%20%20%20%20%20%20%20%20%20%20%7B%7D%0A%20%20%20%20%20%20%20%20%20%20%20%20%29.addTo%28map_9f5e12afcc0b4e8187b777e3c4a28b6c%29%3B%0A%20%20%20%20%20%20%20%20%0A%20%20%20%20%0A%20%20%20%20%20%20%20%20%20%20%20%20var%20icon_b2e9606a4e79428cbe835c2f760ebdb8%20%3D%20L.AwesomeMarkers.icon%28%0A%20%20%20%20%20%20%20%20%20%20%20%20%20%20%20%20%7B%22extraClasses%22%3A%20%22fa-rotate-0%22%2C%20%22icon%22%3A%20%22info-sign%22%2C%20%22iconColor%22%3A%20%22white%22%2C%20%22markerColor%22%3A%20%22blue%22%2C%20%22prefix%22%3A%20%22glyphicon%22%7D%0A%20%20%20%20%20%20%20%20%20%20%20%20%29%3B%0A%20%20%20%20%20%20%20%20%20%20%20%20marker_50f4fdf582504f39b8e571bf8a8ad893.setIcon%28icon_b2e9606a4e79428cbe835c2f760ebdb8%29%3B%0A%20%20%20%20%20%20%20%20%0A%20%20%20%20%0A%20%20%20%20%20%20%20%20var%20popup_99361b4ce70f4d598e1777936d36db2b%20%3D%20L.popup%28%7B%22maxWidth%22%3A%20%22100%25%22%7D%29%3B%0A%0A%20%20%20%20%20%20%20%20%0A%20%20%20%20%20%20%20%20%20%20%20%20var%20html_616209cb7bac4c1381173ddc758eb501%20%3D%20%24%28%60%3Cdiv%20id%3D%22html_616209cb7bac4c1381173ddc758eb501%22%20style%3D%22width%3A%20100.0%25%3B%20height%3A%20100.0%25%3B%22%3ELat%3A%20-22.81579185317482%2C%20Lng%3A%20-47.06774224481084%2C%20Rssi%3A%20-95.9729%3C/div%3E%60%29%5B0%5D%3B%0A%20%20%20%20%20%20%20%20%20%20%20%20popup_99361b4ce70f4d598e1777936d36db2b.setContent%28html_616209cb7bac4c1381173ddc758eb501%29%3B%0A%20%20%20%20%20%20%20%20%0A%0A%20%20%20%20%20%20%20%20marker_50f4fdf582504f39b8e571bf8a8ad893.bindPopup%28popup_99361b4ce70f4d598e1777936d36db2b%29%0A%20%20%20%20%20%20%20%20%3B%0A%0A%20%20%20%20%20%20%20%20%0A%20%20%20%20%0A%20%20%20%20%0A%20%20%20%20%20%20%20%20%20%20%20%20var%20marker_36dba76e0f7e4f13b6f4d9a84aa750c7%20%3D%20L.marker%28%0A%20%20%20%20%20%20%20%20%20%20%20%20%20%20%20%20%5B-22.81878334059293%2C%20-47.06775349849438%5D%2C%0A%20%20%20%20%20%20%20%20%20%20%20%20%20%20%20%20%7B%7D%0A%20%20%20%20%20%20%20%20%20%20%20%20%29.addTo%28map_9f5e12afcc0b4e8187b777e3c4a28b6c%29%3B%0A%20%20%20%20%20%20%20%20%0A%20%20%20%20%0A%20%20%20%20%20%20%20%20%20%20%20%20var%20icon_ab5a6e35ed904a318c21e30b69803b38%20%3D%20L.AwesomeMarkers.icon%28%0A%20%20%20%20%20%20%20%20%20%20%20%20%20%20%20%20%7B%22extraClasses%22%3A%20%22fa-rotate-0%22%2C%20%22icon%22%3A%20%22info-sign%22%2C%20%22iconColor%22%3A%20%22white%22%2C%20%22markerColor%22%3A%20%22blue%22%2C%20%22prefix%22%3A%20%22glyphicon%22%7D%0A%20%20%20%20%20%20%20%20%20%20%20%20%29%3B%0A%20%20%20%20%20%20%20%20%20%20%20%20marker_36dba76e0f7e4f13b6f4d9a84aa750c7.setIcon%28icon_ab5a6e35ed904a318c21e30b69803b38%29%3B%0A%20%20%20%20%20%20%20%20%0A%20%20%20%20%0A%20%20%20%20%20%20%20%20var%20popup_7c8e3f62945048ff93a773d526c30e8d%20%3D%20L.popup%28%7B%22maxWidth%22%3A%20%22100%25%22%7D%29%3B%0A%0A%20%20%20%20%20%20%20%20%0A%20%20%20%20%20%20%20%20%20%20%20%20var%20html_e61ffcb663bf43749428e9fb93073483%20%3D%20%24%28%60%3Cdiv%20id%3D%22html_e61ffcb663bf43749428e9fb93073483%22%20style%3D%22width%3A%20100.0%25%3B%20height%3A%20100.0%25%3B%22%3ELat%3A%20-22.81878334059293%2C%20Lng%3A%20-47.06775349849438%2C%20Rssi%3A%20-97.1014%3C/div%3E%60%29%5B0%5D%3B%0A%20%20%20%20%20%20%20%20%20%20%20%20popup_7c8e3f62945048ff93a773d526c30e8d.setContent%28html_e61ffcb663bf43749428e9fb93073483%29%3B%0A%20%20%20%20%20%20%20%20%0A%0A%20%20%20%20%20%20%20%20marker_36dba76e0f7e4f13b6f4d9a84aa750c7.bindPopup%28popup_7c8e3f62945048ff93a773d526c30e8d%29%0A%20%20%20%20%20%20%20%20%3B%0A%0A%20%20%20%20%20%20%20%20%0A%20%20%20%20%0A%20%20%20%20%0A%20%20%20%20%20%20%20%20%20%20%20%20var%20marker_e75e90210c6d4c1681f3790723ebdab3%20%3D%20L.marker%28%0A%20%20%20%20%20%20%20%20%20%20%20%20%20%20%20%20%5B-22.82505900758947%2C%20-47.06680135052657%5D%2C%0A%20%20%20%20%20%20%20%20%20%20%20%20%20%20%20%20%7B%7D%0A%20%20%20%20%20%20%20%20%20%20%20%20%29.addTo%28map_9f5e12afcc0b4e8187b777e3c4a28b6c%29%3B%0A%20%20%20%20%20%20%20%20%0A%20%20%20%20%0A%20%20%20%20%20%20%20%20%20%20%20%20var%20icon_35cc933a2fce47e5834ed1571f5200c3%20%3D%20L.AwesomeMarkers.icon%28%0A%20%20%20%20%20%20%20%20%20%20%20%20%20%20%20%20%7B%22extraClasses%22%3A%20%22fa-rotate-0%22%2C%20%22icon%22%3A%20%22info-sign%22%2C%20%22iconColor%22%3A%20%22white%22%2C%20%22markerColor%22%3A%20%22lightblue%22%2C%20%22prefix%22%3A%20%22glyphicon%22%7D%0A%20%20%20%20%20%20%20%20%20%20%20%20%29%3B%0A%20%20%20%20%20%20%20%20%20%20%20%20marker_e75e90210c6d4c1681f3790723ebdab3.setIcon%28icon_35cc933a2fce47e5834ed1571f5200c3%29%3B%0A%20%20%20%20%20%20%20%20%0A%20%20%20%20%0A%20%20%20%20%20%20%20%20var%20popup_d7d197032ad14a5f96ae8c965c4d59c9%20%3D%20L.popup%28%7B%22maxWidth%22%3A%20%22100%25%22%7D%29%3B%0A%0A%20%20%20%20%20%20%20%20%0A%20%20%20%20%20%20%20%20%20%20%20%20var%20html_f88d8b9d0db04ad3b26ffae2f101c11e%20%3D%20%24%28%60%3Cdiv%20id%3D%22html_f88d8b9d0db04ad3b26ffae2f101c11e%22%20style%3D%22width%3A%20100.0%25%3B%20height%3A%20100.0%25%3B%22%3ELat%3A%20-22.82505900758947%2C%20Lng%3A%20-47.06680135052657%2C%20Rssi%3A%20-101.073%3C/div%3E%60%29%5B0%5D%3B%0A%20%20%20%20%20%20%20%20%20%20%20%20popup_d7d197032ad14a5f96ae8c965c4d59c9.setContent%28html_f88d8b9d0db04ad3b26ffae2f101c11e%29%3B%0A%20%20%20%20%20%20%20%20%0A%0A%20%20%20%20%20%20%20%20marker_e75e90210c6d4c1681f3790723ebdab3.bindPopup%28popup_d7d197032ad14a5f96ae8c965c4d59c9%29%0A%20%20%20%20%20%20%20%20%3B%0A%0A%20%20%20%20%20%20%20%20%0A%20%20%20%20%0A%20%20%20%20%0A%20%20%20%20%20%20%20%20%20%20%20%20var%20marker_29931c12e3a54a3ba33d1d5bca1874f7%20%3D%20L.marker%28%0A%20%20%20%20%20%20%20%20%20%20%20%20%20%20%20%20%5B-22.8224340663403%2C%20-47.06501889875863%5D%2C%0A%20%20%20%20%20%20%20%20%20%20%20%20%20%20%20%20%7B%7D%0A%20%20%20%20%20%20%20%20%20%20%20%20%29.addTo%28map_9f5e12afcc0b4e8187b777e3c4a28b6c%29%3B%0A%20%20%20%20%20%20%20%20%0A%20%20%20%20%0A%20%20%20%20%20%20%20%20%20%20%20%20var%20icon_bb4d1376bde54e0eafa3eddbca931a27%20%3D%20L.AwesomeMarkers.icon%28%0A%20%20%20%20%20%20%20%20%20%20%20%20%20%20%20%20%7B%22extraClasses%22%3A%20%22fa-rotate-0%22%2C%20%22icon%22%3A%20%22info-sign%22%2C%20%22iconColor%22%3A%20%22white%22%2C%20%22markerColor%22%3A%20%22blue%22%2C%20%22prefix%22%3A%20%22glyphicon%22%7D%0A%20%20%20%20%20%20%20%20%20%20%20%20%29%3B%0A%20%20%20%20%20%20%20%20%20%20%20%20marker_29931c12e3a54a3ba33d1d5bca1874f7.setIcon%28icon_bb4d1376bde54e0eafa3eddbca931a27%29%3B%0A%20%20%20%20%20%20%20%20%0A%20%20%20%20%0A%20%20%20%20%20%20%20%20var%20popup_bcc4652cdda048ceaf25815d8a87e0d6%20%3D%20L.popup%28%7B%22maxWidth%22%3A%20%22100%25%22%7D%29%3B%0A%0A%20%20%20%20%20%20%20%20%0A%20%20%20%20%20%20%20%20%20%20%20%20var%20html_b07e8bf529d645f2a63c56206b2e81c4%20%3D%20%24%28%60%3Cdiv%20id%3D%22html_b07e8bf529d645f2a63c56206b2e81c4%22%20style%3D%22width%3A%20100.0%25%3B%20height%3A%20100.0%25%3B%22%3ELat%3A%20-22.8224340663403%2C%20Lng%3A%20-47.06501889875863%2C%20Rssi%3A%20-97.1604%3C/div%3E%60%29%5B0%5D%3B%0A%20%20%20%20%20%20%20%20%20%20%20%20popup_bcc4652cdda048ceaf25815d8a87e0d6.setContent%28html_b07e8bf529d645f2a63c56206b2e81c4%29%3B%0A%20%20%20%20%20%20%20%20%0A%0A%20%20%20%20%20%20%20%20marker_29931c12e3a54a3ba33d1d5bca1874f7.bindPopup%28popup_bcc4652cdda048ceaf25815d8a87e0d6%29%0A%20%20%20%20%20%20%20%20%3B%0A%0A%20%20%20%20%20%20%20%20%0A%20%20%20%20%0A%20%20%20%20%0A%20%20%20%20%20%20%20%20%20%20%20%20var%20marker_a939fd27960e4dd58af8c93fc68deb9e%20%3D%20L.marker%28%0A%20%20%20%20%20%20%20%20%20%20%20%20%20%20%20%20%5B-22.81525861935553%2C%20-47.06236265226889%5D%2C%0A%20%20%20%20%20%20%20%20%20%20%20%20%20%20%20%20%7B%7D%0A%20%20%20%20%20%20%20%20%20%20%20%20%29.addTo%28map_9f5e12afcc0b4e8187b777e3c4a28b6c%29%3B%0A%20%20%20%20%20%20%20%20%0A%20%20%20%20%0A%20%20%20%20%20%20%20%20%20%20%20%20var%20icon_65163519b61147729b6326864b5fd2eb%20%3D%20L.AwesomeMarkers.icon%28%0A%20%20%20%20%20%20%20%20%20%20%20%20%20%20%20%20%7B%22extraClasses%22%3A%20%22fa-rotate-0%22%2C%20%22icon%22%3A%20%22info-sign%22%2C%20%22iconColor%22%3A%20%22white%22%2C%20%22markerColor%22%3A%20%22blue%22%2C%20%22prefix%22%3A%20%22glyphicon%22%7D%0A%20%20%20%20%20%20%20%20%20%20%20%20%29%3B%0A%20%20%20%20%20%20%20%20%20%20%20%20marker_a939fd27960e4dd58af8c93fc68deb9e.setIcon%28icon_65163519b61147729b6326864b5fd2eb%29%3B%0A%20%20%20%20%20%20%20%20%0A%20%20%20%20%0A%20%20%20%20%20%20%20%20var%20popup_76a827df657946f0929edc75517401d2%20%3D%20L.popup%28%7B%22maxWidth%22%3A%20%22100%25%22%7D%29%3B%0A%0A%20%20%20%20%20%20%20%20%0A%20%20%20%20%20%20%20%20%20%20%20%20var%20html_78d2c24b8f4c4c71ae02a5ee4a57dd8c%20%3D%20%24%28%60%3Cdiv%20id%3D%22html_78d2c24b8f4c4c71ae02a5ee4a57dd8c%22%20style%3D%22width%3A%20100.0%25%3B%20height%3A%20100.0%25%3B%22%3ELat%3A%20-22.81525861935553%2C%20Lng%3A%20-47.06236265226889%2C%20Rssi%3A%20-84.6256%3C/div%3E%60%29%5B0%5D%3B%0A%20%20%20%20%20%20%20%20%20%20%20%20popup_76a827df657946f0929edc75517401d2.setContent%28html_78d2c24b8f4c4c71ae02a5ee4a57dd8c%29%3B%0A%20%20%20%20%20%20%20%20%0A%0A%20%20%20%20%20%20%20%20marker_a939fd27960e4dd58af8c93fc68deb9e.bindPopup%28popup_76a827df657946f0929edc75517401d2%29%0A%20%20%20%20%20%20%20%20%3B%0A%0A%20%20%20%20%20%20%20%20%0A%20%20%20%20%0A%20%20%20%20%0A%20%20%20%20%20%20%20%20%20%20%20%20var%20marker_94644f2f561246a8827b75ca77776d5c%20%3D%20L.marker%28%0A%20%20%20%20%20%20%20%20%20%20%20%20%20%20%20%20%5B-22.81756246607184%2C%20-47.07217876933861%5D%2C%0A%20%20%20%20%20%20%20%20%20%20%20%20%20%20%20%20%7B%7D%0A%20%20%20%20%20%20%20%20%20%20%20%20%29.addTo%28map_9f5e12afcc0b4e8187b777e3c4a28b6c%29%3B%0A%20%20%20%20%20%20%20%20%0A%20%20%20%20%0A%20%20%20%20%20%20%20%20%20%20%20%20var%20icon_8f1db768f5974633a3e8503dc79e7479%20%3D%20L.AwesomeMarkers.icon%28%0A%20%20%20%20%20%20%20%20%20%20%20%20%20%20%20%20%7B%22extraClasses%22%3A%20%22fa-rotate-0%22%2C%20%22icon%22%3A%20%22info-sign%22%2C%20%22iconColor%22%3A%20%22white%22%2C%20%22markerColor%22%3A%20%22lightblue%22%2C%20%22prefix%22%3A%20%22glyphicon%22%7D%0A%20%20%20%20%20%20%20%20%20%20%20%20%29%3B%0A%20%20%20%20%20%20%20%20%20%20%20%20marker_94644f2f561246a8827b75ca77776d5c.setIcon%28icon_8f1db768f5974633a3e8503dc79e7479%29%3B%0A%20%20%20%20%20%20%20%20%0A%20%20%20%20%0A%20%20%20%20%20%20%20%20var%20popup_5e0bdb89bc644f1c9f33815c4d8119e9%20%3D%20L.popup%28%7B%22maxWidth%22%3A%20%22100%25%22%7D%29%3B%0A%0A%20%20%20%20%20%20%20%20%0A%20%20%20%20%20%20%20%20%20%20%20%20var%20html_fabef1b11c7c48b4a77081a40a61922b%20%3D%20%24%28%60%3Cdiv%20id%3D%22html_fabef1b11c7c48b4a77081a40a61922b%22%20style%3D%22width%3A%20100.0%25%3B%20height%3A%20100.0%25%3B%22%3ELat%3A%20-22.81756246607184%2C%20Lng%3A%20-47.07217876933861%2C%20Rssi%3A%20-101.604%3C/div%3E%60%29%5B0%5D%3B%0A%20%20%20%20%20%20%20%20%20%20%20%20popup_5e0bdb89bc644f1c9f33815c4d8119e9.setContent%28html_fabef1b11c7c48b4a77081a40a61922b%29%3B%0A%20%20%20%20%20%20%20%20%0A%0A%20%20%20%20%20%20%20%20marker_94644f2f561246a8827b75ca77776d5c.bindPopup%28popup_5e0bdb89bc644f1c9f33815c4d8119e9%29%0A%20%20%20%20%20%20%20%20%3B%0A%0A%20%20%20%20%20%20%20%20%0A%20%20%20%20%0A%20%20%20%20%0A%20%20%20%20%20%20%20%20%20%20%20%20var%20marker_c664230482814b359de6b69047a33f87%20%3D%20L.marker%28%0A%20%20%20%20%20%20%20%20%20%20%20%20%20%20%20%20%5B-22.82337627543984%2C%20-47.06519670796302%5D%2C%0A%20%20%20%20%20%20%20%20%20%20%20%20%20%20%20%20%7B%7D%0A%20%20%20%20%20%20%20%20%20%20%20%20%29.addTo%28map_9f5e12afcc0b4e8187b777e3c4a28b6c%29%3B%0A%20%20%20%20%20%20%20%20%0A%20%20%20%20%0A%20%20%20%20%20%20%20%20%20%20%20%20var%20icon_b763a91ae0914dc48ae7a27fde93ede0%20%3D%20L.AwesomeMarkers.icon%28%0A%20%20%20%20%20%20%20%20%20%20%20%20%20%20%20%20%7B%22extraClasses%22%3A%20%22fa-rotate-0%22%2C%20%22icon%22%3A%20%22info-sign%22%2C%20%22iconColor%22%3A%20%22white%22%2C%20%22markerColor%22%3A%20%22blue%22%2C%20%22prefix%22%3A%20%22glyphicon%22%7D%0A%20%20%20%20%20%20%20%20%20%20%20%20%29%3B%0A%20%20%20%20%20%20%20%20%20%20%20%20marker_c664230482814b359de6b69047a33f87.setIcon%28icon_b763a91ae0914dc48ae7a27fde93ede0%29%3B%0A%20%20%20%20%20%20%20%20%0A%20%20%20%20%0A%20%20%20%20%20%20%20%20var%20popup_dd03495e8b2742b2a3d23664173ba271%20%3D%20L.popup%28%7B%22maxWidth%22%3A%20%22100%25%22%7D%29%3B%0A%0A%20%20%20%20%20%20%20%20%0A%20%20%20%20%20%20%20%20%20%20%20%20var%20html_5bac92e9ffa043ae95dd3fd7f4e996de%20%3D%20%24%28%60%3Cdiv%20id%3D%22html_5bac92e9ffa043ae95dd3fd7f4e996de%22%20style%3D%22width%3A%20100.0%25%3B%20height%3A%20100.0%25%3B%22%3ELat%3A%20-22.82337627543984%2C%20Lng%3A%20-47.06519670796302%2C%20Rssi%3A%20-98.6081%3C/div%3E%60%29%5B0%5D%3B%0A%20%20%20%20%20%20%20%20%20%20%20%20popup_dd03495e8b2742b2a3d23664173ba271.setContent%28html_5bac92e9ffa043ae95dd3fd7f4e996de%29%3B%0A%20%20%20%20%20%20%20%20%0A%0A%20%20%20%20%20%20%20%20marker_c664230482814b359de6b69047a33f87.bindPopup%28popup_dd03495e8b2742b2a3d23664173ba271%29%0A%20%20%20%20%20%20%20%20%3B%0A%0A%20%20%20%20%20%20%20%20%0A%20%20%20%20%0A%20%20%20%20%0A%20%20%20%20%20%20%20%20%20%20%20%20var%20marker_6c08a9e79bf141c68fc68fc5892bc5a8%20%3D%20L.marker%28%0A%20%20%20%20%20%20%20%20%20%20%20%20%20%20%20%20%5B-22.82337627543984%2C%20-47.06519670796302%5D%2C%0A%20%20%20%20%20%20%20%20%20%20%20%20%20%20%20%20%7B%7D%0A%20%20%20%20%20%20%20%20%20%20%20%20%29.addTo%28map_9f5e12afcc0b4e8187b777e3c4a28b6c%29%3B%0A%20%20%20%20%20%20%20%20%0A%20%20%20%20%0A%20%20%20%20%20%20%20%20%20%20%20%20var%20icon_706f466757be45d89de9c54639a8f8f4%20%3D%20L.AwesomeMarkers.icon%28%0A%20%20%20%20%20%20%20%20%20%20%20%20%20%20%20%20%7B%22extraClasses%22%3A%20%22fa-rotate-0%22%2C%20%22icon%22%3A%20%22info-sign%22%2C%20%22iconColor%22%3A%20%22white%22%2C%20%22markerColor%22%3A%20%22blue%22%2C%20%22prefix%22%3A%20%22glyphicon%22%7D%0A%20%20%20%20%20%20%20%20%20%20%20%20%29%3B%0A%20%20%20%20%20%20%20%20%20%20%20%20marker_6c08a9e79bf141c68fc68fc5892bc5a8.setIcon%28icon_706f466757be45d89de9c54639a8f8f4%29%3B%0A%20%20%20%20%20%20%20%20%0A%20%20%20%20%0A%20%20%20%20%20%20%20%20var%20popup_8b0c3c2f794c4c1084008e24b02becd7%20%3D%20L.popup%28%7B%22maxWidth%22%3A%20%22100%25%22%7D%29%3B%0A%0A%20%20%20%20%20%20%20%20%0A%20%20%20%20%20%20%20%20%20%20%20%20var%20html_4980d16d737f41f4a03d818fc81ecb5d%20%3D%20%24%28%60%3Cdiv%20id%3D%22html_4980d16d737f41f4a03d818fc81ecb5d%22%20style%3D%22width%3A%20100.0%25%3B%20height%3A%20100.0%25%3B%22%3ELat%3A%20-22.82337627543984%2C%20Lng%3A%20-47.06519670796302%2C%20Rssi%3A%20-98.0535%3C/div%3E%60%29%5B0%5D%3B%0A%20%20%20%20%20%20%20%20%20%20%20%20popup_8b0c3c2f794c4c1084008e24b02becd7.setContent%28html_4980d16d737f41f4a03d818fc81ecb5d%29%3B%0A%20%20%20%20%20%20%20%20%0A%0A%20%20%20%20%20%20%20%20marker_6c08a9e79bf141c68fc68fc5892bc5a8.bindPopup%28popup_8b0c3c2f794c4c1084008e24b02becd7%29%0A%20%20%20%20%20%20%20%20%3B%0A%0A%20%20%20%20%20%20%20%20%0A%20%20%20%20%0A%20%20%20%20%0A%20%20%20%20%20%20%20%20%20%20%20%20var%20marker_1313a0adb8f04b9bbd0c8fec28c355ae%20%3D%20L.marker%28%0A%20%20%20%20%20%20%20%20%20%20%20%20%20%20%20%20%5B-22.8242%2C%20-47.0677%5D%2C%0A%20%20%20%20%20%20%20%20%20%20%20%20%20%20%20%20%7B%7D%0A%20%20%20%20%20%20%20%20%20%20%20%20%29.addTo%28map_9f5e12afcc0b4e8187b777e3c4a28b6c%29%3B%0A%20%20%20%20%20%20%20%20%0A%20%20%20%20%0A%20%20%20%20%20%20%20%20%20%20%20%20var%20icon_7520180823674fae85da790a486671b4%20%3D%20L.AwesomeMarkers.icon%28%0A%20%20%20%20%20%20%20%20%20%20%20%20%20%20%20%20%7B%22extraClasses%22%3A%20%22fa-rotate-0%22%2C%20%22icon%22%3A%20%22info-sign%22%2C%20%22iconColor%22%3A%20%22white%22%2C%20%22markerColor%22%3A%20%22lightblue%22%2C%20%22prefix%22%3A%20%22glyphicon%22%7D%0A%20%20%20%20%20%20%20%20%20%20%20%20%29%3B%0A%20%20%20%20%20%20%20%20%20%20%20%20marker_1313a0adb8f04b9bbd0c8fec28c355ae.setIcon%28icon_7520180823674fae85da790a486671b4%29%3B%0A%20%20%20%20%20%20%20%20%0A%20%20%20%20%0A%20%20%20%20%20%20%20%20var%20popup_a72a4ca798cf4ea3bd79ff3b835baca0%20%3D%20L.popup%28%7B%22maxWidth%22%3A%20%22100%25%22%7D%29%3B%0A%0A%20%20%20%20%20%20%20%20%0A%20%20%20%20%20%20%20%20%20%20%20%20var%20html_58dd93c9e57547d1875ef585d14f5a2a%20%3D%20%24%28%60%3Cdiv%20id%3D%22html_58dd93c9e57547d1875ef585d14f5a2a%22%20style%3D%22width%3A%20100.0%25%3B%20height%3A%20100.0%25%3B%22%3ELat%3A%20-22.8242%2C%20Lng%3A%20-47.0677%2C%20Rssi%3A%20-100.989%3C/div%3E%60%29%5B0%5D%3B%0A%20%20%20%20%20%20%20%20%20%20%20%20popup_a72a4ca798cf4ea3bd79ff3b835baca0.setContent%28html_58dd93c9e57547d1875ef585d14f5a2a%29%3B%0A%20%20%20%20%20%20%20%20%0A%0A%20%20%20%20%20%20%20%20marker_1313a0adb8f04b9bbd0c8fec28c355ae.bindPopup%28popup_a72a4ca798cf4ea3bd79ff3b835baca0%29%0A%20%20%20%20%20%20%20%20%3B%0A%0A%20%20%20%20%20%20%20%20%0A%20%20%20%20%0A%20%20%20%20%0A%20%20%20%20%20%20%20%20%20%20%20%20var%20marker_883d0590a6c34ad6a146ba900399ae9f%20%3D%20L.marker%28%0A%20%20%20%20%20%20%20%20%20%20%20%20%20%20%20%20%5B-22.8319%2C%20-47.0629%5D%2C%0A%20%20%20%20%20%20%20%20%20%20%20%20%20%20%20%20%7B%7D%0A%20%20%20%20%20%20%20%20%20%20%20%20%29.addTo%28map_9f5e12afcc0b4e8187b777e3c4a28b6c%29%3B%0A%20%20%20%20%20%20%20%20%0A%20%20%20%20%0A%20%20%20%20%20%20%20%20%20%20%20%20var%20icon_dc16ffcfea554b8a95f82cdf9c4a988c%20%3D%20L.AwesomeMarkers.icon%28%0A%20%20%20%20%20%20%20%20%20%20%20%20%20%20%20%20%7B%22extraClasses%22%3A%20%22fa-rotate-0%22%2C%20%22icon%22%3A%20%22info-sign%22%2C%20%22iconColor%22%3A%20%22white%22%2C%20%22markerColor%22%3A%20%22lightblue%22%2C%20%22prefix%22%3A%20%22glyphicon%22%7D%0A%20%20%20%20%20%20%20%20%20%20%20%20%29%3B%0A%20%20%20%20%20%20%20%20%20%20%20%20marker_883d0590a6c34ad6a146ba900399ae9f.setIcon%28icon_dc16ffcfea554b8a95f82cdf9c4a988c%29%3B%0A%20%20%20%20%20%20%20%20%0A%20%20%20%20%0A%20%20%20%20%20%20%20%20var%20popup_59c4cc9ffcef48c4a78dbfdf7fa2c6fc%20%3D%20L.popup%28%7B%22maxWidth%22%3A%20%22100%25%22%7D%29%3B%0A%0A%20%20%20%20%20%20%20%20%0A%20%20%20%20%20%20%20%20%20%20%20%20var%20html_61cd8cdfeec046bd9d9b217492352ad5%20%3D%20%24%28%60%3Cdiv%20id%3D%22html_61cd8cdfeec046bd9d9b217492352ad5%22%20style%3D%22width%3A%20100.0%25%3B%20height%3A%20100.0%25%3B%22%3ELat%3A%20-22.8319%2C%20Lng%3A%20-47.0629%2C%20Rssi%3A%20-105.387%3C/div%3E%60%29%5B0%5D%3B%0A%20%20%20%20%20%20%20%20%20%20%20%20popup_59c4cc9ffcef48c4a78dbfdf7fa2c6fc.setContent%28html_61cd8cdfeec046bd9d9b217492352ad5%29%3B%0A%20%20%20%20%20%20%20%20%0A%0A%20%20%20%20%20%20%20%20marker_883d0590a6c34ad6a146ba900399ae9f.bindPopup%28popup_59c4cc9ffcef48c4a78dbfdf7fa2c6fc%29%0A%20%20%20%20%20%20%20%20%3B%0A%0A%20%20%20%20%20%20%20%20%0A%20%20%20%20%0A%20%20%20%20%0A%20%20%20%20%20%20%20%20%20%20%20%20var%20marker_8346167489724ad9818affaa6be70e15%20%3D%20L.marker%28%0A%20%20%20%20%20%20%20%20%20%20%20%20%20%20%20%20%5B-22.8275%2C%20-47.0628%5D%2C%0A%20%20%20%20%20%20%20%20%20%20%20%20%20%20%20%20%7B%7D%0A%20%20%20%20%20%20%20%20%20%20%20%20%29.addTo%28map_9f5e12afcc0b4e8187b777e3c4a28b6c%29%3B%0A%20%20%20%20%20%20%20%20%0A%20%20%20%20%0A%20%20%20%20%20%20%20%20%20%20%20%20var%20icon_17779b8d0ca048d598959ae7cde41da2%20%3D%20L.AwesomeMarkers.icon%28%0A%20%20%20%20%20%20%20%20%20%20%20%20%20%20%20%20%7B%22extraClasses%22%3A%20%22fa-rotate-0%22%2C%20%22icon%22%3A%20%22info-sign%22%2C%20%22iconColor%22%3A%20%22white%22%2C%20%22markerColor%22%3A%20%22lightblue%22%2C%20%22prefix%22%3A%20%22glyphicon%22%7D%0A%20%20%20%20%20%20%20%20%20%20%20%20%29%3B%0A%20%20%20%20%20%20%20%20%20%20%20%20marker_8346167489724ad9818affaa6be70e15.setIcon%28icon_17779b8d0ca048d598959ae7cde41da2%29%3B%0A%20%20%20%20%20%20%20%20%0A%20%20%20%20%0A%20%20%20%20%20%20%20%20var%20popup_4d4051f34f354552a96f04e5e178d3bf%20%3D%20L.popup%28%7B%22maxWidth%22%3A%20%22100%25%22%7D%29%3B%0A%0A%20%20%20%20%20%20%20%20%0A%20%20%20%20%20%20%20%20%20%20%20%20var%20html_32dec85c8fdc4b778657118bb4b9acd0%20%3D%20%24%28%60%3Cdiv%20id%3D%22html_32dec85c8fdc4b778657118bb4b9acd0%22%20style%3D%22width%3A%20100.0%25%3B%20height%3A%20100.0%25%3B%22%3ELat%3A%20-22.8275%2C%20Lng%3A%20-47.0628%2C%20Rssi%3A%20-101.355%3C/div%3E%60%29%5B0%5D%3B%0A%20%20%20%20%20%20%20%20%20%20%20%20popup_4d4051f34f354552a96f04e5e178d3bf.setContent%28html_32dec85c8fdc4b778657118bb4b9acd0%29%3B%0A%20%20%20%20%20%20%20%20%0A%0A%20%20%20%20%20%20%20%20marker_8346167489724ad9818affaa6be70e15.bindPopup%28popup_4d4051f34f354552a96f04e5e178d3bf%29%0A%20%20%20%20%20%20%20%20%3B%0A%0A%20%20%20%20%20%20%20%20%0A%20%20%20%20%0A%3C/script%3E onload=\"this.contentDocument.open();this.contentDocument.write(    decodeURIComponent(this.getAttribute('data-html')));this.contentDocument.close();\" allowfullscreen webkitallowfullscreen mozallowfullscreen></iframe></div></div>"
      ],
      "text/plain": [
       "<folium.folium.Map at 0x7ff3fd530df0>"
      ]
     },
     "execution_count": 31,
     "metadata": {},
     "output_type": "execute_result"
    }
   ],
   "source": [
    "# ---- UNICAMP DYNAMIC PLOT MAP & MARKERS OF POSITIONS THAT PACKET WERE RECEIVE\n",
    "\n",
    "# create folium map\n",
    "fmap = folium.Map(width= 500,height=600,location=[-22.822617, -47.067], zoom_start=15, tiles='OpenStreetMap')\n",
    "\n",
    "# add markers\n",
    "for data in heat_data:\n",
    "  lat, lng, rssi = data[0], data[1], data[2]\n",
    "#   print(lat, lng)\n",
    "#   print('RSSI', rssi)\n",
    "  if rssi >= -80:\n",
    "        color_rssi = 'darkblue'\n",
    "  elif rssi < -80 and rssi >= -100:\n",
    "        color_rssi = 'blue'\n",
    "  elif rssi < -100:\n",
    "        color_rssi = \"lightblue\"\n",
    "\n",
    "  folium.Marker(\n",
    "      location=[float(lat), float(lng)],\n",
    "      popup=\"Lat: \" + str(lat) + \", Lng: \" + str(lng)+ \", Rssi: \" + str(rssi),\n",
    "      icon=folium.Icon(color=color_rssi),\n",
    "  ).add_to(fmap)\n",
    "\n",
    "fmap.get_root().add_child(legend)\n",
    "\n",
    "fmap"
   ]
  },
  {
   "cell_type": "code",
   "execution_count": 33,
   "metadata": {},
   "outputs": [],
   "source": [
    "# salve map\n",
    "fn=\"okumura_elev.html\"\n",
    "fmap.save(fn)"
   ]
  },
  {
   "cell_type": "code",
   "execution_count": null,
   "metadata": {},
   "outputs": [],
   "source": []
  },
  {
   "cell_type": "code",
   "execution_count": null,
   "metadata": {},
   "outputs": [],
   "source": []
  },
  {
   "cell_type": "markdown",
   "metadata": {},
   "source": [
    "## Métricas de performance da rede completa (Mac Layer)"
   ]
  },
  {
   "cell_type": "code",
   "execution_count": 36,
   "metadata": {},
   "outputs": [
    {
     "name": "stdout",
     "output_type": "stream",
     "text": [
      "\n",
      "SHAPE: (5, 5)\n"
     ]
    },
    {
     "data": {
      "text/html": [
       "<div>\n",
       "<style scoped>\n",
       "    .dataframe tbody tr th:only-of-type {\n",
       "        vertical-align: middle;\n",
       "    }\n",
       "\n",
       "    .dataframe tbody tr th {\n",
       "        vertical-align: top;\n",
       "    }\n",
       "\n",
       "    .dataframe thead th {\n",
       "        text-align: right;\n",
       "    }\n",
       "</style>\n",
       "<table border=\"1\" class=\"dataframe\">\n",
       "  <thead>\n",
       "    <tr style=\"text-align: right;\">\n",
       "      <th></th>\n",
       "      <th>nSent</th>\n",
       "      <th>nReceiv</th>\n",
       "      <th>PER</th>\n",
       "      <th>PLR</th>\n",
       "      <th>PDR</th>\n",
       "    </tr>\n",
       "  </thead>\n",
       "  <tbody>\n",
       "    <tr>\n",
       "      <th>0</th>\n",
       "      <td>94</td>\n",
       "      <td>94</td>\n",
       "      <td>0</td>\n",
       "      <td>0</td>\n",
       "      <td>1</td>\n",
       "    </tr>\n",
       "    <tr>\n",
       "      <th>1</th>\n",
       "      <td>94</td>\n",
       "      <td>94</td>\n",
       "      <td>0</td>\n",
       "      <td>0</td>\n",
       "      <td>1</td>\n",
       "    </tr>\n",
       "    <tr>\n",
       "      <th>2</th>\n",
       "      <td>94</td>\n",
       "      <td>94</td>\n",
       "      <td>0</td>\n",
       "      <td>0</td>\n",
       "      <td>1</td>\n",
       "    </tr>\n",
       "    <tr>\n",
       "      <th>3</th>\n",
       "      <td>94</td>\n",
       "      <td>94</td>\n",
       "      <td>0</td>\n",
       "      <td>0</td>\n",
       "      <td>1</td>\n",
       "    </tr>\n",
       "    <tr>\n",
       "      <th>4</th>\n",
       "      <td>94</td>\n",
       "      <td>94</td>\n",
       "      <td>0</td>\n",
       "      <td>0</td>\n",
       "      <td>1</td>\n",
       "    </tr>\n",
       "  </tbody>\n",
       "</table>\n",
       "</div>"
      ],
      "text/plain": [
       "   nSent  nReceiv  PER  PLR  PDR\n",
       "0     94       94    0    0    1\n",
       "1     94       94    0    0    1\n",
       "2     94       94    0    0    1\n",
       "3     94       94    0    0    1\n",
       "4     94       94    0    0    1"
      ]
     },
     "execution_count": 36,
     "metadata": {},
     "output_type": "execute_result"
    }
   ],
   "source": [
    "# ----- DATASET\n",
    "\n",
    "path = \"net_results_coletores_unicamp.txt\"\n",
    "net_df = pd.read_csv(path, header=None) \n",
    "net_df.columns = [\"nSent\", \"nReceiv\", \"PER\", \"PLR\", \"PDR\"]\n",
    "\n",
    "print(\"\\nSHAPE:\", net_df.shape)\n",
    "net_df.head()"
   ]
  },
  {
   "cell_type": "code",
   "execution_count": 40,
   "metadata": {},
   "outputs": [
    {
     "name": "stdout",
     "output_type": "stream",
     "text": [
      "NETWORK PERFORMANCE METRICS:\n",
      "\n",
      "nSent: 94.0\n",
      "nReceiv: 94.0\n",
      "\n",
      "PER: 0.0\n",
      "PLR: 0.0\n",
      "PDR: 1.0\n"
     ]
    }
   ],
   "source": [
    "# Valores médios de cada coluna\n",
    "print(\"NETWORK PERFORMANCE METRICS:\\n\")\n",
    "print(\"nSent:\", net_df['nSent'].mean())\n",
    "print(\"nReceiv:\", net_df['nReceiv'].mean())\n",
    "print(\"\\nPER:\", net_df['PER'].mean())\n",
    "print(\"PLR:\", net_df['PLR'].mean())\n",
    "print(\"PDR:\", net_df['PDR'].mean())"
   ]
  },
  {
   "cell_type": "code",
   "execution_count": null,
   "metadata": {},
   "outputs": [],
   "source": []
  },
  {
   "cell_type": "markdown",
   "metadata": {},
   "source": [
    "## Métricas de Consumo"
   ]
  },
  {
   "cell_type": "code",
   "execution_count": 90,
   "metadata": {},
   "outputs": [
    {
     "name": "stdout",
     "output_type": "stream",
     "text": [
      "\n",
      "SHAPE: (24, 2)\n"
     ]
    },
    {
     "data": {
      "text/html": [
       "<div>\n",
       "<style scoped>\n",
       "    .dataframe tbody tr th:only-of-type {\n",
       "        vertical-align: middle;\n",
       "    }\n",
       "\n",
       "    .dataframe tbody tr th {\n",
       "        vertical-align: top;\n",
       "    }\n",
       "\n",
       "    .dataframe thead th {\n",
       "        text-align: right;\n",
       "    }\n",
       "</style>\n",
       "<table border=\"1\" class=\"dataframe\">\n",
       "  <thead>\n",
       "    <tr style=\"text-align: right;\">\n",
       "      <th></th>\n",
       "      <th>time</th>\n",
       "      <th>energyRemaining</th>\n",
       "    </tr>\n",
       "  </thead>\n",
       "  <tbody>\n",
       "    <tr>\n",
       "      <th>0</th>\n",
       "      <td>0</td>\n",
       "      <td>10000.00</td>\n",
       "    </tr>\n",
       "    <tr>\n",
       "      <th>1</th>\n",
       "      <td>3600</td>\n",
       "      <td>9999.98</td>\n",
       "    </tr>\n",
       "    <tr>\n",
       "      <th>2</th>\n",
       "      <td>7200</td>\n",
       "      <td>9999.96</td>\n",
       "    </tr>\n",
       "    <tr>\n",
       "      <th>3</th>\n",
       "      <td>10800</td>\n",
       "      <td>9999.94</td>\n",
       "    </tr>\n",
       "    <tr>\n",
       "      <th>4</th>\n",
       "      <td>14400</td>\n",
       "      <td>9999.92</td>\n",
       "    </tr>\n",
       "  </tbody>\n",
       "</table>\n",
       "</div>"
      ],
      "text/plain": [
       "    time  energyRemaining\n",
       "0      0         10000.00\n",
       "1   3600          9999.98\n",
       "2   7200          9999.96\n",
       "3  10800          9999.94\n",
       "4  14400          9999.92"
      ]
     },
     "execution_count": 90,
     "metadata": {},
     "output_type": "execute_result"
    }
   ],
   "source": [
    "# ----- DATASET\n",
    "\n",
    "path = \"energy_results_coletores_unicamp.txt\"\n",
    "energy_df = pd.read_csv(path, header=None) \n",
    "energy_df.columns = [\"time\", \"energyRemaining\"]\n",
    "\n",
    "print(\"\\nSHAPE:\", energy_df.shape)\n",
    "energy_df.head()"
   ]
  },
  {
   "cell_type": "code",
   "execution_count": 92,
   "metadata": {},
   "outputs": [
    {
     "name": "stdout",
     "output_type": "stream",
     "text": [
      "\n",
      "SHAPE: (24, 3)\n"
     ]
    },
    {
     "data": {
      "text/html": [
       "<div>\n",
       "<style scoped>\n",
       "    .dataframe tbody tr th:only-of-type {\n",
       "        vertical-align: middle;\n",
       "    }\n",
       "\n",
       "    .dataframe tbody tr th {\n",
       "        vertical-align: top;\n",
       "    }\n",
       "\n",
       "    .dataframe thead th {\n",
       "        text-align: right;\n",
       "    }\n",
       "</style>\n",
       "<table border=\"1\" class=\"dataframe\">\n",
       "  <thead>\n",
       "    <tr style=\"text-align: right;\">\n",
       "      <th></th>\n",
       "      <th>time</th>\n",
       "      <th>energyRemaining</th>\n",
       "      <th>time_h</th>\n",
       "    </tr>\n",
       "  </thead>\n",
       "  <tbody>\n",
       "    <tr>\n",
       "      <th>0</th>\n",
       "      <td>0</td>\n",
       "      <td>10000.00</td>\n",
       "      <td>0.0</td>\n",
       "    </tr>\n",
       "    <tr>\n",
       "      <th>1</th>\n",
       "      <td>3600</td>\n",
       "      <td>9999.98</td>\n",
       "      <td>1.0</td>\n",
       "    </tr>\n",
       "    <tr>\n",
       "      <th>2</th>\n",
       "      <td>7200</td>\n",
       "      <td>9999.96</td>\n",
       "      <td>2.0</td>\n",
       "    </tr>\n",
       "    <tr>\n",
       "      <th>3</th>\n",
       "      <td>10800</td>\n",
       "      <td>9999.94</td>\n",
       "      <td>3.0</td>\n",
       "    </tr>\n",
       "    <tr>\n",
       "      <th>4</th>\n",
       "      <td>14400</td>\n",
       "      <td>9999.92</td>\n",
       "      <td>4.0</td>\n",
       "    </tr>\n",
       "  </tbody>\n",
       "</table>\n",
       "</div>"
      ],
      "text/plain": [
       "    time  energyRemaining  time_h\n",
       "0      0         10000.00     0.0\n",
       "1   3600          9999.98     1.0\n",
       "2   7200          9999.96     2.0\n",
       "3  10800          9999.94     3.0\n",
       "4  14400          9999.92     4.0"
      ]
     },
     "execution_count": 92,
     "metadata": {},
     "output_type": "execute_result"
    }
   ],
   "source": [
    "energy_df['time_h'] = energy_df['time'] / 3600.0\n",
    "print(\"\\nSHAPE:\", energy_df.shape)\n",
    "energy_df.head()"
   ]
  },
  {
   "cell_type": "code",
   "execution_count": 101,
   "metadata": {},
   "outputs": [
    {
     "data": {
      "image/png": "[encoded data removed]",
      "text/plain": [
       "<Figure size 720x360 with 1 Axes>"
      ]
     },
     "metadata": {
      "needs_background": "light"
     },
     "output_type": "display_data"
    }
   ],
   "source": [
    "# graph measures x time\n",
    "plt.figure(figsize=(10,5))\n",
    "ax = plt.gca()\n",
    "\n",
    "energy_df.plot(kind='line',x=\"time_h\", y='energyRemaining',label='SX1272', color = 'blue', ax=ax)\n",
    "\n",
    "\n",
    "plt.xlabel('Período de Teste (h)', fontweight='bold', fontsize=14,labelpad=25)\n",
    "plt.ylabel('Energia (Joules)', fontweight='bold', fontsize=14, labelpad=25)\n",
    "\n",
    "ttl = ax.title\n",
    "ttl.set_position([.5, 1.04])\n",
    "plt.title('Consumo de Energia x Tempo',fontweight='bold',fontsize=14)\n",
    "\n",
    "from matplotlib.ticker import FormatStrFormatter\n",
    "ax.yaxis.set_major_formatter(FormatStrFormatter('%.1f'))\n",
    "\n",
    "plt.show()\n"
   ]
  },
  {
   "cell_type": "code",
   "execution_count": 105,
   "metadata": {},
   "outputs": [
    {
     "name": "stdout",
     "output_type": "stream",
     "text": [
      "Total Energy: 10000.0\n",
      "Energy Remain: 9999.57\n",
      "Total Receive Pkts: 94\n"
     ]
    },
    {
     "data": {
      "text/plain": [
       "0.004574468085109479"
      ]
     },
     "execution_count": 105,
     "metadata": {},
     "output_type": "execute_result"
    }
   ],
   "source": [
    "totalEnergy = energy_df['energyRemaining'].max()\n",
    "energyRemain = energy_df['energyRemaining'].min()\n",
    "totalReceivePkts = 94\n",
    "print(\"Total Energy:\", totalEnergy)\n",
    "print(\"Energy Remain:\", energyRemain)\n",
    "print(\"Total Receive Pkts:\", totalReceivePkts)\n",
    "\n",
    "NEC = (totalEnergy - energyRemain)/totalReceivePkts\n",
    "NEC"
   ]
  },
  {
   "cell_type": "code",
   "execution_count": null,
   "metadata": {},
   "outputs": [],
   "source": []
  },
  {
   "cell_type": "code",
   "execution_count": null,
   "metadata": {},
   "outputs": [],
   "source": []
  },
  {
   "cell_type": "markdown",
   "metadata": {},
   "source": [
    "# Análise entre simulações"
   ]
  },
  {
   "cell_type": "markdown",
   "metadata": {},
   "source": [
    "## Variando Payload\n",
    "\n",
    "- Cenário I: Automatico (SF7), Payload 11 bytes, 1 dia\n",
    "- Cenário II: Automatico (SF7), Payload 51 bytes, 1 dia\n",
    "- Cenário III: Automatico (SF7), Payload 222 bytes, 1 dia"
   ]
  },
  {
   "cell_type": "markdown",
   "metadata": {},
   "source": [
    "###  Métricas da camada PHY"
   ]
  },
  {
   "cell_type": "code",
   "execution_count": 3,
   "metadata": {},
   "outputs": [
    {
     "data": {
      "text/plain": [
       "'/home/wasp/Desktop/Mestrado/ns3-bmap/NS3/obstacle_exp/lorawan-metricas'"
      ]
     },
     "execution_count": 3,
     "metadata": {},
     "output_type": "execute_result"
    }
   ],
   "source": [
    "current_path = os.getcwd()\n",
    "current_path"
   ]
  },
  {
   "cell_type": "code",
   "execution_count": 38,
   "metadata": {},
   "outputs": [
    {
     "name": "stdout",
     "output_type": "stream",
     "text": [
      "\n",
      "SHAPE: (3, 6)\n",
      "SHAPE: (3, 6)\n",
      "SHAPE: (3, 6)\n"
     ]
    },
    {
     "data": {
      "text/html": [
       "<div>\n",
       "<style scoped>\n",
       "    .dataframe tbody tr th:only-of-type {\n",
       "        vertical-align: middle;\n",
       "    }\n",
       "\n",
       "    .dataframe tbody tr th {\n",
       "        vertical-align: top;\n",
       "    }\n",
       "\n",
       "    .dataframe thead th {\n",
       "        text-align: right;\n",
       "    }\n",
       "</style>\n",
       "<table border=\"1\" class=\"dataframe\">\n",
       "  <thead>\n",
       "    <tr style=\"text-align: right;\">\n",
       "      <th></th>\n",
       "      <th>gwID</th>\n",
       "      <th>received</th>\n",
       "      <th>interfered</th>\n",
       "      <th>noMoreReceivers</th>\n",
       "      <th>underSensitivity</th>\n",
       "      <th>lost</th>\n",
       "    </tr>\n",
       "  </thead>\n",
       "  <tbody>\n",
       "    <tr>\n",
       "      <th>0</th>\n",
       "      <td>0</td>\n",
       "      <td>188</td>\n",
       "      <td>0</td>\n",
       "      <td>0</td>\n",
       "      <td>0</td>\n",
       "      <td>0</td>\n",
       "    </tr>\n",
       "    <tr>\n",
       "      <th>1</th>\n",
       "      <td>0</td>\n",
       "      <td>188</td>\n",
       "      <td>0</td>\n",
       "      <td>0</td>\n",
       "      <td>0</td>\n",
       "      <td>0</td>\n",
       "    </tr>\n",
       "    <tr>\n",
       "      <th>2</th>\n",
       "      <td>0</td>\n",
       "      <td>188</td>\n",
       "      <td>0</td>\n",
       "      <td>0</td>\n",
       "      <td>0</td>\n",
       "      <td>0</td>\n",
       "    </tr>\n",
       "  </tbody>\n",
       "</table>\n",
       "</div>"
      ],
      "text/plain": [
       "   gwID  received  interfered  noMoreReceivers  underSensitivity  lost\n",
       "0     0       188           0                0                 0     0\n",
       "1     0       188           0                0                 0     0\n",
       "2     0       188           0                0                 0     0"
      ]
     },
     "execution_count": 38,
     "metadata": {},
     "output_type": "execute_result"
    }
   ],
   "source": [
    "# Open Datasets - Camada phy\n",
    "\n",
    "path_cenario_0 = current_path + \"/simulations/00/phy_results_coletores_unicamp.txt\"\n",
    "path_cenario_1 = current_path + \"/simulations/01/phy_results_coletores_unicamp.txt\"\n",
    "path_cenario_2 = current_path + \"/simulations/02/phy_results_coletores_unicamp.txt\"\n",
    "\n",
    "cenario_0_df = pd.read_csv(path_cenario_0, header=None) \n",
    "cenario_0_df.columns = [\"gwID\", \"received\", \"interfered\", \"noMoreReceivers\", \"underSensitivity\", \"lost\"]\n",
    "print(\"\\nSHAPE:\", cenario_0_df.shape)\n",
    "# cenario_0_df.head()\n",
    "\n",
    "cenario_1_df = pd.read_csv(path_cenario_1, header=None) \n",
    "cenario_1_df.columns = [\"gwID\", \"received\", \"interfered\", \"noMoreReceivers\", \"underSensitivity\", \"lost\"]\n",
    "print(\"SHAPE:\", cenario_1_df.shape)\n",
    "# cenario_1_df.head()\n",
    "\n",
    "cenario_2_df = pd.read_csv(path_cenario_2, header=None) \n",
    "cenario_2_df.columns = [\"gwID\", \"received\", \"interfered\", \"noMoreReceivers\", \"underSensitivity\", \"lost\"]\n",
    "print(\"SHAPE:\", cenario_2_df.shape)\n",
    "cenario_2_df.head()"
   ]
  },
  {
   "cell_type": "code",
   "execution_count": 51,
   "metadata": {},
   "outputs": [
    {
     "data": {
      "text/plain": [
       "188.0"
      ]
     },
     "execution_count": 51,
     "metadata": {},
     "output_type": "execute_result"
    }
   ],
   "source": [
    "cenario_0_df['received'].mean()"
   ]
  },
  {
   "cell_type": "code",
   "execution_count": 41,
   "metadata": {},
   "outputs": [],
   "source": [
    "def percent_conversion (total_pkg_expected, number):\n",
    "    percent = (100 * number)/total_pkg_expected\n",
    "    return percent"
   ]
  },
  {
   "cell_type": "code",
   "execution_count": 52,
   "metadata": {
    "scrolled": true
   },
   "outputs": [
    {
     "data": {
      "image/png": "[encoded data removed]",
      "text/plain": [
       "<Figure size 432x288 with 1 Axes>"
      ]
     },
     "metadata": {
      "needs_background": "light"
     },
     "output_type": "display_data"
    }
   ],
   "source": [
    "labels = ['11 bytes', '51 bytes', '222 bytes'] \n",
    "\n",
    "total_pkg = 188\n",
    "received = [percent_conversion(total_pkg, cenario_0_df['received'].mean()),\n",
    "            percent_conversion(total_pkg, cenario_1_df['received'].mean()),\n",
    "            percent_conversion(total_pkg, cenario_2_df['received'].mean())]\n",
    "\n",
    "interfered = [percent_conversion(total_pkg, cenario_0_df['interfered'].mean()),\n",
    "            percent_conversion(total_pkg, cenario_1_df['interfered'].mean()),\n",
    "            percent_conversion(total_pkg, cenario_2_df['interfered'].mean())]\n",
    "\n",
    "noMoreReceivers = [percent_conversion(total_pkg, cenario_0_df['noMoreReceivers'].mean()),\n",
    "            percent_conversion(total_pkg, cenario_1_df['noMoreReceivers'].mean()),\n",
    "            percent_conversion(total_pkg, cenario_2_df['noMoreReceivers'].mean())]\n",
    "\n",
    "underSensitivity = [percent_conversion(total_pkg, cenario_0_df['underSensitivity'].mean()),\n",
    "            percent_conversion(total_pkg, cenario_1_df['underSensitivity'].mean()),\n",
    "            percent_conversion(total_pkg, cenario_2_df['underSensitivity'].mean())]\n",
    "\n",
    "\n",
    "x = np.arange(len(labels))  # the label locations\n",
    "width = 0.2  # the width of the bars\n",
    "\n",
    "fig, ax = plt.subplots()\n",
    "rects1 = ax.bar(x - 2*width, received, width, label='Received')\n",
    "rects2 = ax.bar(x - width, interfered, width, label='Interfered')\n",
    "rects3 = ax.bar(x , noMoreReceivers, width, label='NoMoreReceivers')\n",
    "rects4 = ax.bar(x + width, underSensitivity, width, label='UnderSensitivity')\n",
    "\n",
    "\n",
    "# Add some text for labels, title and custom x-axis tick labels, etc.\n",
    "ax.set_ylabel('Nº of Packets sent (%)')\n",
    "ax.set_xlabel('Payload size')\n",
    "ax.set_title(' Performance at PHY level of a specific gateway \\n- 1 day, SF7, 47 nodes', fontweight='bold', fontsize=12, y=1.05)\n",
    "ax.set_xticks(x)\n",
    "ax.set_xticklabels(labels)\n",
    "ax.set_ylim([0, 110]) \n",
    "ax.legend(bbox_to_anchor=(1.01, 1.01), prop={'size': 10})\n",
    "\n",
    "\n",
    "def autolabel(rects):\n",
    "    \"\"\"Attach a text label above each bar in *rects*, displaying its height.\"\"\"\n",
    "    for rect in rects:\n",
    "        height = rect.get_height()\n",
    "        ax.annotate('{}'.format(height),\n",
    "                    xy=(rect.get_x() + rect.get_width() / 2, height),\n",
    "                    xytext=(0, 3),  # 3 points vertical offset\n",
    "                    textcoords=\"offset points\",\n",
    "                    ha='center', va='bottom')\n",
    "\n",
    "fig.tight_layout()\n",
    "\n",
    "plt.show()\n",
    "# fig.savefig('phy_performance.png',bbox_inches='tight')"
   ]
  },
  {
   "cell_type": "code",
   "execution_count": null,
   "metadata": {},
   "outputs": [],
   "source": []
  },
  {
   "cell_type": "markdown",
   "metadata": {},
   "source": [
    "## Métricas de performance da rede completa (Mac Layer)"
   ]
  },
  {
   "cell_type": "code",
   "execution_count": 55,
   "metadata": {},
   "outputs": [
    {
     "name": "stdout",
     "output_type": "stream",
     "text": [
      "\n",
      "SHAPE: (3, 5)\n",
      "SHAPE: (3, 6)\n",
      "SHAPE: (3, 5)\n"
     ]
    },
    {
     "data": {
      "text/html": [
       "<div>\n",
       "<style scoped>\n",
       "    .dataframe tbody tr th:only-of-type {\n",
       "        vertical-align: middle;\n",
       "    }\n",
       "\n",
       "    .dataframe tbody tr th {\n",
       "        vertical-align: top;\n",
       "    }\n",
       "\n",
       "    .dataframe thead th {\n",
       "        text-align: right;\n",
       "    }\n",
       "</style>\n",
       "<table border=\"1\" class=\"dataframe\">\n",
       "  <thead>\n",
       "    <tr style=\"text-align: right;\">\n",
       "      <th></th>\n",
       "      <th>nSent</th>\n",
       "      <th>nReceiv</th>\n",
       "      <th>PER</th>\n",
       "      <th>PLR</th>\n",
       "      <th>PDR</th>\n",
       "    </tr>\n",
       "  </thead>\n",
       "  <tbody>\n",
       "    <tr>\n",
       "      <th>0</th>\n",
       "      <td>188</td>\n",
       "      <td>188</td>\n",
       "      <td>0</td>\n",
       "      <td>0</td>\n",
       "      <td>1</td>\n",
       "    </tr>\n",
       "    <tr>\n",
       "      <th>1</th>\n",
       "      <td>188</td>\n",
       "      <td>188</td>\n",
       "      <td>0</td>\n",
       "      <td>0</td>\n",
       "      <td>1</td>\n",
       "    </tr>\n",
       "    <tr>\n",
       "      <th>2</th>\n",
       "      <td>188</td>\n",
       "      <td>188</td>\n",
       "      <td>0</td>\n",
       "      <td>0</td>\n",
       "      <td>1</td>\n",
       "    </tr>\n",
       "  </tbody>\n",
       "</table>\n",
       "</div>"
      ],
      "text/plain": [
       "   nSent  nReceiv  PER  PLR  PDR\n",
       "0    188      188    0    0    1\n",
       "1    188      188    0    0    1\n",
       "2    188      188    0    0    1"
      ]
     },
     "execution_count": 55,
     "metadata": {},
     "output_type": "execute_result"
    }
   ],
   "source": [
    "# ----- Open Datasets - Camada MAC\n",
    "\n",
    "file = \"net_results_coletores_unicamp.txt\"\n",
    "path_cenario_0 = current_path + \"/simulations/00/\" + file\n",
    "path_cenario_1 = current_path + \"/simulations/01/\" + file\n",
    "path_cenario_2 = current_path + \"/simulations/02/\" + file\n",
    "\n",
    "net_0_df = pd.read_csv(path_cenario_0, header=None) \n",
    "net_0_df.columns = [\"nSent\", \"nReceiv\", \"PER\", \"PLR\", \"PDR\"]\n",
    "print(\"\\nSHAPE:\", net_0_df.shape)\n",
    "# net_0_df.head()\n",
    "\n",
    "net_1_df = pd.read_csv(path_cenario_1, header=None) \n",
    "net_1_df.columns = [\"nSent\", \"nReceiv\", \"PER\", \"PLR\", \"PDR\"]\n",
    "print(\"SHAPE:\", cenario_1_df.shape)\n",
    "# net_1_df.head()\n",
    "\n",
    "net_2_df = pd.read_csv(path_cenario_2, header=None) \n",
    "net_2_df.columns = [\"nSent\", \"nReceiv\", \"PER\", \"PLR\", \"PDR\"]\n",
    "print(\"SHAPE:\", net_2_df.shape)\n",
    "net_2_df.head()"
   ]
  },
  {
   "cell_type": "code",
   "execution_count": 58,
   "metadata": {},
   "outputs": [
    {
     "data": {
      "image/png": "[encoded data removed]",
      "text/plain": [
       "<Figure size 432x288 with 1 Axes>"
      ]
     },
     "metadata": {
      "needs_background": "light"
     },
     "output_type": "display_data"
    }
   ],
   "source": [
    "labels = ['11 bytes', '51 bytes', '222 bytes']\n",
    "\n",
    "pdr = [net_0_df['PDR'].mean(), net_1_df['PDR'].mean(), net_2_df['PDR'].mean()]\n",
    "\n",
    "x = np.arange(len(labels))  # the label locations\n",
    "width = 0.5  # the width of the bars\n",
    "\n",
    "fig, ax = plt.subplots()\n",
    "rects1 = ax.bar(x, pdr, width, label='PDR')\n",
    "\n",
    "\n",
    "# Add some text for labels, title and custom x-axis tick labels, etc.\n",
    "ax.set_ylabel('PDR')\n",
    "ax.set_title('Global performance at MAC level of the whole network \\n- 1 day, SF7, 47 nodes', fontweight='bold', fontsize=12, y=1.05)\n",
    "ax.set_xticks(x)\n",
    "ax.set_xticklabels(labels)\n",
    "ax.set_ylim([0, max(pdr) + max(pdr)/3]) \n",
    "ax.legend()\n",
    "\n",
    "\n",
    "def autolabel(rects):\n",
    "    \"\"\"Attach a text label above each bar in *rects*, displaying its height.\"\"\"\n",
    "    for rect in rects:\n",
    "        height = rect.get_height()\n",
    "        ax.annotate('{}'.format(height),\n",
    "                    xy=(rect.get_x() + rect.get_width() / 2, height),\n",
    "                    xytext=(0, 3),  # 3 points vertical offset\n",
    "                    textcoords=\"offset points\",\n",
    "                    ha='center', va='bottom')\n",
    "\n",
    "\n",
    "autolabel(rects1)\n",
    "\n",
    "\n",
    "fig.tight_layout()\n",
    "\n",
    "plt.show()\n",
    "fig.savefig('pdr.png',bbox_inches='tight')"
   ]
  },
  {
   "cell_type": "code",
   "execution_count": null,
   "metadata": {},
   "outputs": [],
   "source": [
    "# Delay"
   ]
  },
  {
   "cell_type": "code",
   "execution_count": null,
   "metadata": {},
   "outputs": [],
   "source": []
  },
  {
   "cell_type": "code",
   "execution_count": 61,
   "metadata": {},
   "outputs": [
    {
     "name": "stdout",
     "output_type": "stream",
     "text": [
      "\n",
      "SHAPE: (3, 5)\n",
      "SHAPE: (3, 5)\n",
      "SHAPE: (3, 5)\n"
     ]
    },
    {
     "data": {
      "text/html": [
       "<div>\n",
       "<style scoped>\n",
       "    .dataframe tbody tr th:only-of-type {\n",
       "        vertical-align: middle;\n",
       "    }\n",
       "\n",
       "    .dataframe tbody tr th {\n",
       "        vertical-align: top;\n",
       "    }\n",
       "\n",
       "    .dataframe thead th {\n",
       "        text-align: right;\n",
       "    }\n",
       "</style>\n",
       "<table border=\"1\" class=\"dataframe\">\n",
       "  <thead>\n",
       "    <tr style=\"text-align: right;\">\n",
       "      <th></th>\n",
       "      <th>sent</th>\n",
       "      <th>receive</th>\n",
       "      <th>average_delay_s</th>\n",
       "      <th>average_delay_ns</th>\n",
       "      <th>delay_p_sf_ns</th>\n",
       "    </tr>\n",
       "  </thead>\n",
       "  <tbody>\n",
       "    <tr>\n",
       "      <th>0</th>\n",
       "      <td>188</td>\n",
       "      <td>188</td>\n",
       "      <td>363</td>\n",
       "      <td>+3.6378e+08ns</td>\n",
       "      <td>+6.83906e+10ns</td>\n",
       "    </tr>\n",
       "    <tr>\n",
       "      <th>1</th>\n",
       "      <td>188</td>\n",
       "      <td>188</td>\n",
       "      <td>363</td>\n",
       "      <td>+3.6378e+08ns</td>\n",
       "      <td>+6.83906e+10ns</td>\n",
       "    </tr>\n",
       "    <tr>\n",
       "      <th>2</th>\n",
       "      <td>188</td>\n",
       "      <td>188</td>\n",
       "      <td>363</td>\n",
       "      <td>+3.6378e+08ns</td>\n",
       "      <td>+6.83906e+10ns</td>\n",
       "    </tr>\n",
       "  </tbody>\n",
       "</table>\n",
       "</div>"
      ],
      "text/plain": [
       "   sent  receive  average_delay_s average_delay_ns   delay_p_sf_ns\n",
       "0   188      188              363    +3.6378e+08ns  +6.83906e+10ns\n",
       "1   188      188              363    +3.6378e+08ns  +6.83906e+10ns\n",
       "2   188      188              363    +3.6378e+08ns  +6.83906e+10ns"
      ]
     },
     "execution_count": 61,
     "metadata": {},
     "output_type": "execute_result"
    }
   ],
   "source": [
    "# ----- Open Datasets - Camada MAC\n",
    "\n",
    "file = \"delay_results_coletores_unicamp.txt\"\n",
    "path_cenario_0 = current_path + \"/simulations/00/\" + file\n",
    "path_cenario_1 = current_path + \"/simulations/01/\" + file\n",
    "path_cenario_2 = current_path + \"/simulations/02/\" + file\n",
    "\n",
    "delay_0_df = pd.read_csv(path_cenario_0, header=None) \n",
    "# Average delay (ms),  Average delay (ns) per SF, soma dos Delays per SF (ns):\n",
    "delay_0_df.columns = [\"sent\", \"receive\", \"average_delay_s\", \"average_delay_ns\", \"delay_p_sf_ns\"]\n",
    "print(\"\\nSHAPE:\", net_0_df.shape)\n",
    "# delay_0_df.head()\n",
    "\n",
    "delay_1_df = pd.read_csv(path_cenario_1, header=None) \n",
    "delay_1_df.columns = [\"sent\", \"receive\", \"average_delay_s\", \"average_delay_ns\", \"delay_p_sf_ns\"]\n",
    "print(\"SHAPE:\", delay_1_df.shape)\n",
    "# delay_1_df.head()\n",
    "\n",
    "delay_2_df = pd.read_csv(path_cenario_2, header=None) \n",
    "delay_2_df.columns = [\"sent\", \"receive\", \"average_delay_s\", \"average_delay_ns\", \"delay_p_sf_ns\"]\n",
    "print(\"SHAPE:\", delay_2_df.shape)\n",
    "delay_2_df.head()"
   ]
  },
  {
   "cell_type": "code",
   "execution_count": 66,
   "metadata": {},
   "outputs": [
    {
     "data": {
      "text/plain": [
       "363.0"
      ]
     },
     "execution_count": 66,
     "metadata": {},
     "output_type": "execute_result"
    }
   ],
   "source": [
    "delay_2_df['average_delay_s'].mean()"
   ]
  },
  {
   "cell_type": "code",
   "execution_count": 70,
   "metadata": {},
   "outputs": [
    {
     "data": {
      "image/png": "[encoded data removed]",
      "text/plain": [
       "<Figure size 432x288 with 1 Axes>"
      ]
     },
     "metadata": {
      "needs_background": "light"
     },
     "output_type": "display_data"
    }
   ],
   "source": [
    "labels = ['11 bytes', '51 bytes', '222 bytes']\n",
    "\n",
    "delay = [delay_0_df['average_delay_s'].mean(), delay_1_df['average_delay_s'].mean(),\n",
    "       delay_2_df['average_delay_s'].mean()]\n",
    "\n",
    "x = np.arange(len(labels))  # the label locations\n",
    "width = 0.5  # the width of the bars\n",
    "\n",
    "fig, ax = plt.subplots()\n",
    "rects1 = ax.bar(x, delay, width, label='Average Delay (ms)')\n",
    "\n",
    "\n",
    "# Add some text for labels, title and custom x-axis tick labels, etc.\n",
    "ax.set_ylabel('Average Delay (ms)')\n",
    "ax.set_title('Average Delay (ms) - 1 day, SF7, 47 nodes', fontweight='bold', fontsize=12, y=1.05)\n",
    "ax.set_xticks(x)\n",
    "ax.set_xticklabels(labels)\n",
    "ax.set_ylim([0, 400]) \n",
    "ax.legend()\n",
    "\n",
    "\n",
    "def autolabel(rects):\n",
    "    \"\"\"Attach a text label above each bar in *rects*, displaying its height.\"\"\"\n",
    "    for rect in rects:\n",
    "        height = rect.get_height()\n",
    "        ax.annotate('{}'.format(height),\n",
    "                    xy=(rect.get_x() + rect.get_width() / 2, height),\n",
    "                    xytext=(0, 3),  # 3 points vertical offset\n",
    "                    textcoords=\"offset points\",\n",
    "                    ha='center', va='bottom')\n",
    "\n",
    "\n",
    "autolabel(rects1)\n",
    "\n",
    "\n",
    "fig.tight_layout()\n",
    "\n",
    "plt.show()\n",
    "# fig.savefig('pdr.png',bbox_inches='tight')"
   ]
  }
 ],
 "metadata": {
  "kernelspec": {
   "display_name": "Python 3",
   "language": "python",
   "name": "python3"
  },
  "language_info": {
   "codemirror_mode": {
    "name": "ipython",
    "version": 3
   },
   "file_extension": ".py",
   "mimetype": "text/x-python",
   "name": "python",
   "nbconvert_exporter": "python",
   "pygments_lexer": "ipython3",
   "version": "3.8.11"
  }
 },
 "nbformat": 4,
 "nbformat_minor": 4
}
