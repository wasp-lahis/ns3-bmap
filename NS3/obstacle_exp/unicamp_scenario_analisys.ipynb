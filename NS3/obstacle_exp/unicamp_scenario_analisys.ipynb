{
 "cells": [
  {
   "cell_type": "code",
   "execution_count": 32,
   "metadata": {},
   "outputs": [],
   "source": [
    "# ----- LIBS\n",
    "\n",
    "import os \n",
    "\n",
    "import numpy as np\n",
    "import pandas as pd\n",
    "\n",
    "import matplotlib.pyplot as plt\n",
    "import matplotlib.patches as patches\n",
    "import matplotlib.lines as mlines"
   ]
  },
  {
   "cell_type": "markdown",
   "metadata": {},
   "source": [
    "# Roteiro\n",
    "\n",
    "- Posicionamento e SF\n",
    "- Métricas da camada PHY\n",
    "- Cobertura/Alcance Lora\n",
    "- Métricas de performance da rede completa (Mac Layer)\n",
    "- Métricas de Consumo"
   ]
  },
  {
   "cell_type": "markdown",
   "metadata": {},
   "source": [
    "# Posicionamento x SF"
   ]
  },
  {
   "cell_type": "code",
   "execution_count": 33,
   "metadata": {},
   "outputs": [
    {
     "data": {
      "text/plain": [
       "'/home/wasp/Desktop/Mestrado/ns3-bmap/NS3/obstacle_exp'"
      ]
     },
     "execution_count": 33,
     "metadata": {},
     "output_type": "execute_result"
    }
   ],
   "source": [
    "current_path = os.getcwd()\n",
    "current_path"
   ]
  },
  {
   "cell_type": "code",
   "execution_count": 34,
   "metadata": {},
   "outputs": [
    {
     "name": "stdout",
     "output_type": "stream",
     "text": [
      "\n",
      "SHAPE: (6768000, 10)\n",
      "\n",
      "SHAPE: (47, 10)\n"
     ]
    },
    {
     "data": {
      "text/html": [
       "<div>\n",
       "<style scoped>\n",
       "    .dataframe tbody tr th:only-of-type {\n",
       "        vertical-align: middle;\n",
       "    }\n",
       "\n",
       "    .dataframe tbody tr th {\n",
       "        vertical-align: top;\n",
       "    }\n",
       "\n",
       "    .dataframe thead th {\n",
       "        text-align: right;\n",
       "    }\n",
       "</style>\n",
       "<table border=\"1\" class=\"dataframe\">\n",
       "  <thead>\n",
       "    <tr style=\"text-align: right;\">\n",
       "      <th></th>\n",
       "      <th>nodeId</th>\n",
       "      <th>posX</th>\n",
       "      <th>posY</th>\n",
       "      <th>posZ</th>\n",
       "      <th>sf</th>\n",
       "      <th>gwId</th>\n",
       "      <th>gw_posX</th>\n",
       "      <th>gw_posY</th>\n",
       "      <th>gw_posZ</th>\n",
       "      <th>distance</th>\n",
       "    </tr>\n",
       "  </thead>\n",
       "  <tbody>\n",
       "    <tr>\n",
       "      <th>0</th>\n",
       "      <td>0</td>\n",
       "      <td>1527.410</td>\n",
       "      <td>2180.210</td>\n",
       "      <td>1</td>\n",
       "      <td>7</td>\n",
       "      <td>47</td>\n",
       "      <td>1694.97</td>\n",
       "      <td>2141.47</td>\n",
       "      <td>44.9188</td>\n",
       "      <td>177.509</td>\n",
       "    </tr>\n",
       "    <tr>\n",
       "      <th>1</th>\n",
       "      <td>1</td>\n",
       "      <td>297.312</td>\n",
       "      <td>1965.810</td>\n",
       "      <td>1</td>\n",
       "      <td>7</td>\n",
       "      <td>47</td>\n",
       "      <td>1694.97</td>\n",
       "      <td>2141.47</td>\n",
       "      <td>44.9188</td>\n",
       "      <td>1409.340</td>\n",
       "    </tr>\n",
       "    <tr>\n",
       "      <th>2</th>\n",
       "      <td>2</td>\n",
       "      <td>1535.550</td>\n",
       "      <td>1646.180</td>\n",
       "      <td>1</td>\n",
       "      <td>7</td>\n",
       "      <td>47</td>\n",
       "      <td>1694.97</td>\n",
       "      <td>2141.47</td>\n",
       "      <td>44.9188</td>\n",
       "      <td>522.165</td>\n",
       "    </tr>\n",
       "    <tr>\n",
       "      <th>3</th>\n",
       "      <td>3</td>\n",
       "      <td>1149.490</td>\n",
       "      <td>1831.090</td>\n",
       "      <td>1</td>\n",
       "      <td>7</td>\n",
       "      <td>47</td>\n",
       "      <td>1694.97</td>\n",
       "      <td>2141.47</td>\n",
       "      <td>44.9188</td>\n",
       "      <td>629.144</td>\n",
       "    </tr>\n",
       "    <tr>\n",
       "      <th>4</th>\n",
       "      <td>4</td>\n",
       "      <td>1186.800</td>\n",
       "      <td>667.866</td>\n",
       "      <td>1</td>\n",
       "      <td>7</td>\n",
       "      <td>47</td>\n",
       "      <td>1694.97</td>\n",
       "      <td>2141.47</td>\n",
       "      <td>44.9188</td>\n",
       "      <td>1559.390</td>\n",
       "    </tr>\n",
       "  </tbody>\n",
       "</table>\n",
       "</div>"
      ],
      "text/plain": [
       "   nodeId      posX      posY  posZ  sf  gwId  gw_posX  gw_posY  gw_posZ  \\\n",
       "0       0  1527.410  2180.210     1   7    47  1694.97  2141.47  44.9188   \n",
       "1       1   297.312  1965.810     1   7    47  1694.97  2141.47  44.9188   \n",
       "2       2  1535.550  1646.180     1   7    47  1694.97  2141.47  44.9188   \n",
       "3       3  1149.490  1831.090     1   7    47  1694.97  2141.47  44.9188   \n",
       "4       4  1186.800   667.866     1   7    47  1694.97  2141.47  44.9188   \n",
       "\n",
       "   distance  \n",
       "0   177.509  \n",
       "1  1409.340  \n",
       "2   522.165  \n",
       "3   629.144  \n",
       "4  1559.390  "
      ]
     },
     "execution_count": 34,
     "metadata": {},
     "output_type": "execute_result"
    }
   ],
   "source": [
    "# ----- DATASET\n",
    "\n",
    "path = \"network_position_coletores_unicamp.txt\"\n",
    "net_position_df = pd.read_csv(path, header=None) \n",
    "net_position_df.columns = [\"nodeId\", \"posX\", \"posY\", \"posZ\",\n",
    "                           \"sf\", \"gwId\", \"gw_posX\", \"gw_posY\", \"gw_posZ\", \"distance\"]\n",
    "\n",
    "# print(path)\n",
    "print(\"\\nSHAPE:\", net_position_df.shape)\n",
    "net_pos = net_position_df.iloc[0:47]\n",
    "\n",
    "print(\"\\nSHAPE:\", net_pos.shape)\n",
    "net_pos.head()"
   ]
  },
  {
   "cell_type": "code",
   "execution_count": 35,
   "metadata": {},
   "outputs": [],
   "source": [
    "# ----- PLOT SIZE SETTINGS\n",
    "\n",
    "# chart bounds\n",
    "xMin_bound, xMax_bound = -500, 2000\n",
    "yMin_bound, yMax_bound = 0, 2500 \n",
    "\n",
    "# chart figsize\n",
    "x_figsize, y_figsize = 5, 5\n"
   ]
  },
  {
   "cell_type": "code",
   "execution_count": 28,
   "metadata": {},
   "outputs": [],
   "source": [
    "# ----- LEGEND SETTINGS PER PLOT\n",
    "def set_plots_legends():\n",
    "   \n",
    "    # legend list settings\n",
    "    plots_legends = []\n",
    "    \n",
    "    # circle\n",
    "#     circle_lgd = mlines.Line2D([], [],\n",
    "#                               color = 'white',\n",
    "#                               marker = 'o',\n",
    "#                               markeredgecolor = 'black',\n",
    "#                               markeredgewidth = 0.5,\n",
    "#                               markerfacecolor = 'white',\n",
    "#                               markersize = 15,\n",
    "#                               label='Radio Coverage')\n",
    "\n",
    "#     plots_legends.append(circle_lgd)\n",
    "    \n",
    "    # ED points\n",
    "    colors = ['y','orange', 'green', 'blue', 'purple', 'black']\n",
    "    for sf in range(len(colors)):\n",
    "        scatter_lgd = mlines.Line2D([], [],\n",
    "                                  color = 'white',\n",
    "                                  marker = 'o',\n",
    "                                  markeredgecolor = colors[sf],\n",
    "                                  markeredgewidth = 0.5,\n",
    "                                  markerfacecolor = colors[sf],\n",
    "                                  markersize = 7, \n",
    "                                  label = 'SF' + str(sf + 7))\n",
    "        plots_legends.append(scatter_lgd)\n",
    "    \n",
    "    \n",
    "    # GW points\n",
    "    scatter_lgd = mlines.Line2D([], [],\n",
    "                                  color = 'white',\n",
    "                                  marker = (5,2),\n",
    "                                  markeredgecolor = 'red',\n",
    "                                  markeredgewidth = 0.5,\n",
    "                                  markerfacecolor = 'red',\n",
    "                                  markersize = 15, \n",
    "                                  label = 'GW')\n",
    "\n",
    "    plots_legends.append(scatter_lgd)\n",
    "    \n",
    "    return plots_legends"
   ]
  },
  {
   "cell_type": "code",
   "execution_count": 29,
   "metadata": {},
   "outputs": [],
   "source": [
    "# ----- EDs LISTS per SF\n",
    "\n",
    "eds_x_sf7 = []\n",
    "eds_y_sf7 = []\n",
    "eds_x_sf8 = []\n",
    "eds_y_sf8 = []\n",
    "eds_x_sf9 = []\n",
    "eds_y_sf9 = []\n",
    "eds_x_sf10 = []\n",
    "eds_y_sf10 = []\n",
    "eds_x_sf11 = []\n",
    "eds_y_sf11 = []\n",
    "eds_x_sf12 = []\n",
    "eds_y_sf12 = []\n",
    "\n",
    "for i in range (len(net_pos)):\n",
    "    if net_pos.iloc[i].sf == 7.0:\n",
    "        eds_x_sf7.append(net_pos.iloc[i].posX)\n",
    "        eds_y_sf7.append(net_pos.iloc[i].posY)\n",
    "    if net_pos.iloc[i].sf == 8.0:\n",
    "        eds_x_sf8.append(net_pos.iloc[i].posX)\n",
    "        eds_y_sf8.append(net_pos.iloc[i].posY)\n",
    "    if net_pos.iloc[i].sf == 9.0:\n",
    "        eds_x_sf9.append(net_pos.iloc[i].posX)\n",
    "        eds_y_sf9.append(net_pos.iloc[i].posY)\n",
    "    if net_pos.iloc[i].sf == 10.0:\n",
    "        eds_x_sf10.append(net_pos.iloc[i].posX)\n",
    "        eds_y_sf10.append(net_pos.iloc[i].posY)\n",
    "    if net_pos.iloc[i].sf == 11.0:\n",
    "        eds_x_sf11.append(net_pos.iloc[i].posX)\n",
    "        eds_y_sf11.append(net_pos.iloc[i].posY)\n",
    "    if net_pos.iloc[i].sf == 12.0:\n",
    "        eds_x_sf12.append(net_pos.iloc[i].posX)\n",
    "        eds_y_sf12.append(net_pos.iloc[i].posY)"
   ]
  },
  {
   "cell_type": "code",
   "execution_count": 30,
   "metadata": {},
   "outputs": [
    {
     "data": {
      "image/png": "[encoded data removed]",
      "text/plain": [
       "<Figure size 360x360 with 1 Axes>"
      ]
     },
     "metadata": {
      "needs_background": "light"
     },
     "output_type": "display_data"
    }
   ],
   "source": [
    "# ----- PLOT ED E GW\n",
    "\n",
    "# plot initialize\n",
    "fig, ax = plt.subplots(figsize=(x_figsize, y_figsize))\n",
    "\n",
    "# draw a circle\n",
    "# a_circle = plt.Circle((0, 0), xMax_bound, fill= False, linestyle = '--', linewidth = 1.5, label='Radio Coverage')\n",
    "# ax.add_artist(a_circle)\n",
    "\n",
    "# draw ED posxy per SF \n",
    "ax.scatter(eds_x_sf7, eds_y_sf7, color='y', label ='SF7')\n",
    "ax.scatter(eds_x_sf8, eds_y_sf8, color='orange', label ='SF8')\n",
    "ax.scatter(eds_x_sf9, eds_y_sf9, color='green', label ='SF9')\n",
    "ax.scatter(eds_x_sf10, eds_y_sf10, color='blue', label ='SF10')\n",
    "ax.scatter(eds_x_sf11, eds_y_sf11, color='purple', label ='SF11')\n",
    "ax.scatter(eds_x_sf12, eds_y_sf12, color='black', label ='SF10')\n",
    "\n",
    "# draw GW\n",
    "ax.scatter(net_pos.iloc[0].gw_posX, net_pos.iloc[0].gw_posY, color='red', label ='GW', marker = (5,2), s = 200)\n",
    "        \n",
    "# legend settings\n",
    "legends_list = set_plots_legends()\n",
    "ax.legend(handles=[line for line in legends_list], loc=\"upper right\", bbox_to_anchor=(1.7, 1.01), prop={'size': 14})\n",
    "\n",
    "# chart bounds\n",
    "ax.set(xlim=(xMin_bound, xMax_bound), ylim = (yMin_bound, yMax_bound))\n",
    "\n",
    "# Title\n",
    "ax.set_title('Distribuição randômica de EDs em torno de GW.', fontweight='bold', fontsize=14, y=1.1)\n",
    "plt.show()\n",
    "# fig.savefig('dist_rand_ed_gw.png',bbox_inches='tight')"
   ]
  }
 ],
 "metadata": {
  "kernelspec": {
   "display_name": "Python 3",
   "language": "python",
   "name": "python3"
  },
  "language_info": {
   "codemirror_mode": {
    "name": "ipython",
    "version": 3
   },
   "file_extension": ".py",
   "mimetype": "text/x-python",
   "name": "python",
   "nbconvert_exporter": "python",
   "pygments_lexer": "ipython3",
   "version": "3.8.11"
  }
 },
 "nbformat": 4,
 "nbformat_minor": 4
}
