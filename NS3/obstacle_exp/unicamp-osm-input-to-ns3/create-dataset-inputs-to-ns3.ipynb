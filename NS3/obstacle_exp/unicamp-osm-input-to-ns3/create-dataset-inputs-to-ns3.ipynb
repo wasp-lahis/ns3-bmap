{
 "cells": [
  {
   "cell_type": "code",
   "execution_count": 1,
   "metadata": {},
   "outputs": [],
   "source": [
    "# ----- LIBS\n",
    "\n",
    "# geoprocessamento\n",
    "import geopandas as gpd\n",
    "from shapely.geometry import Polygon\n",
    "from shapely.geometry import Point\n",
    "\n",
    "# normalizar\n",
    "import numpy as np\n",
    "from shapely.geometry import mapping\n",
    "from sklearn.preprocessing import MinMaxScaler\n",
    "\n",
    "# plots\n",
    "import matplotlib.pyplot as plt\n",
    "\n",
    "# gerar e visualizar csv\n",
    "import csv\n",
    "import pandas as pd"
   ]
  },
  {
   "cell_type": "code",
   "execution_count": null,
   "metadata": {},
   "outputs": [],
   "source": []
  },
  {
   "cell_type": "markdown",
   "metadata": {},
   "source": [
    "# Roteiro\n",
    "\n",
    "**O objetivo desse notebook é criar 2 datasets: o de prédios da Unicamp e o de posicionamento dos coletores no Campus.** \n",
    "\n",
    "Para isso, as seguintes etapas foram seguidas:\n",
    "\n",
    "- Extração de shapes e plots da Unicamp\n",
    "- Conversão de CRS\n",
    "- Normalização de Mapa da Unicamp\n",
    "- Remoção de prédios externos\n",
    "- Tramento de Dados Faltantes\n",
    "    - Buscar e Mapear prédios **!!!!**\n",
    "    - Criar e ADD shapes de prédios não encontrados\n",
    "    - Criar pontos não encontrados\n",
    "- Criação de dataset dos Prédios da Unicamp\n",
    "    - Criação de dataset (xml)\n",
    "- Criação de dataset do posicionamento dos Coletores\n",
    "    - Rotular Prédios \n",
    "    - ADD pontos não encontrados\n",
    "    - Criação de dataset (csv)\n",
    "- Salvando Mapa de prédios da Unicamp Normalizado (shapefile)\n",
    "- Criando dataset de Nós - Experimentos Reais (Helder)\n",
    "    - Mudar o crs dos pontos\n",
    "    - Normalizar pontos\n",
    "    - Criar dataset (csv)\n",
    "    - Criar dataset de Mobilidade para a classe **ns3::NS2MobilityHelper** (tcl)\n",
    "    \n",
    "\n",
    "**Os datasets gerados serão utilizados como entradas para as simulações LoRaWAN feitas no simulador NS3**\n",
    "\n",
    "**!!!!** Essa etapa do notebook foi utilizada em outras etapas do roteiro tb (ex: Remoção de prédios externos) "
   ]
  },
  {
   "cell_type": "code",
   "execution_count": null,
   "metadata": {},
   "outputs": [],
   "source": []
  },
  {
   "cell_type": "code",
   "execution_count": null,
   "metadata": {},
   "outputs": [],
   "source": []
  },
  {
   "cell_type": "markdown",
   "metadata": {},
   "source": [
    "# Extração de shapes e Plots da Unicamp\n",
    "\n",
    "- Extração de região geográfica de interesse (bbbike) no formato .shp\n",
    "- Plot de shapes"
   ]
  },
  {
   "cell_type": "code",
   "execution_count": 2,
   "metadata": {},
   "outputs": [],
   "source": [
    "# Apontando para o path do dataset da Unicamp\n",
    "import os\n",
    "\n",
    "current_path = os.getcwd()\n",
    "# print(current_path)\n",
    "# print(current_path.find('obstacle_exp'))\n",
    "# print(current_path[0:current_path.find('obstacle_exp')])\n",
    "\n",
    "map_dataset_path = current_path[:current_path.find('obstacle_exp')]\n",
    "building_shp_path = \"datasets/unicamp-osm-dataset/shape/buildings.shp\"\n",
    "roads_shp_path = \"datasets/unicamp-osm-dataset/shape/roads.shp\"\n",
    "\n",
    "unicamp_building_dataset_path = map_dataset_path + building_shp_path\n",
    "unicamp_roads_dataset_path = map_dataset_path + roads_shp_path"
   ]
  },
  {
   "cell_type": "code",
   "execution_count": 3,
   "metadata": {},
   "outputs": [
    {
     "name": "stdout",
     "output_type": "stream",
     "text": [
      "shape: (509, 4)\n"
     ]
    },
    {
     "data": {
      "text/html": [
       "<div>\n",
       "<style scoped>\n",
       "    .dataframe tbody tr th:only-of-type {\n",
       "        vertical-align: middle;\n",
       "    }\n",
       "\n",
       "    .dataframe tbody tr th {\n",
       "        vertical-align: top;\n",
       "    }\n",
       "\n",
       "    .dataframe thead th {\n",
       "        text-align: right;\n",
       "    }\n",
       "</style>\n",
       "<table border=\"1\" class=\"dataframe\">\n",
       "  <thead>\n",
       "    <tr style=\"text-align: right;\">\n",
       "      <th></th>\n",
       "      <th>osm_id</th>\n",
       "      <th>name</th>\n",
       "      <th>type</th>\n",
       "      <th>geometry</th>\n",
       "    </tr>\n",
       "  </thead>\n",
       "  <tbody>\n",
       "    <tr>\n",
       "      <th>0</th>\n",
       "      <td>95011154</td>\n",
       "      <td>IC 3</td>\n",
       "      <td>university</td>\n",
       "      <td>POLYGON ((-47.06377 -22.81368, -47.06375 -22.8...</td>\n",
       "    </tr>\n",
       "    <tr>\n",
       "      <th>1</th>\n",
       "      <td>95011157</td>\n",
       "      <td>Banco Santander</td>\n",
       "      <td>bank</td>\n",
       "      <td>POLYGON ((-47.06880 -22.81689, -47.06881 -22.8...</td>\n",
       "    </tr>\n",
       "    <tr>\n",
       "      <th>2</th>\n",
       "      <td>95011161</td>\n",
       "      <td>Ciclo Básico II</td>\n",
       "      <td>university</td>\n",
       "      <td>POLYGON ((-47.07069 -22.81797, -47.07050 -22.8...</td>\n",
       "    </tr>\n",
       "    <tr>\n",
       "      <th>3</th>\n",
       "      <td>95011169</td>\n",
       "      <td>IC - Instituto de Computação</td>\n",
       "      <td>university</td>\n",
       "      <td>POLYGON ((-47.06520 -22.81481, -47.06452 -22.8...</td>\n",
       "    </tr>\n",
       "    <tr>\n",
       "      <th>4</th>\n",
       "      <td>95011172</td>\n",
       "      <td>IC 3.5</td>\n",
       "      <td>university</td>\n",
       "      <td>POLYGON ((-47.06422 -22.81356, -47.06417 -22.8...</td>\n",
       "    </tr>\n",
       "  </tbody>\n",
       "</table>\n",
       "</div>"
      ],
      "text/plain": [
       "     osm_id                          name        type  \\\n",
       "0  95011154                          IC 3  university   \n",
       "1  95011157               Banco Santander        bank   \n",
       "2  95011161               Ciclo Básico II  university   \n",
       "3  95011169  IC - Instituto de Computação  university   \n",
       "4  95011172                        IC 3.5  university   \n",
       "\n",
       "                                            geometry  \n",
       "0  POLYGON ((-47.06377 -22.81368, -47.06375 -22.8...  \n",
       "1  POLYGON ((-47.06880 -22.81689, -47.06881 -22.8...  \n",
       "2  POLYGON ((-47.07069 -22.81797, -47.07050 -22.8...  \n",
       "3  POLYGON ((-47.06520 -22.81481, -47.06452 -22.8...  \n",
       "4  POLYGON ((-47.06422 -22.81356, -47.06417 -22.8...  "
      ]
     },
     "execution_count": 3,
     "metadata": {},
     "output_type": "execute_result"
    }
   ],
   "source": [
    "# ----- READ BUILDING SHAPES DATASET\n",
    "\n",
    "# use bbbike to obtain shape files\n",
    "# bbbike: https://extract.bbbike.org/\n",
    "\n",
    "# Unicamp Shapes:\n",
    "# landuse\n",
    "# natural\n",
    "# places\n",
    "# points\n",
    "# railways\n",
    "# roads\n",
    "# waterways\n",
    "# buildings\n",
    "\n",
    "unicamp_df = gpd.read_file(unicamp_building_dataset_path)\n",
    "unicamp_roads_df = gpd.read_file(unicamp_roads_dataset_path)\n",
    "\n",
    "print('shape:', unicamp_df.shape)\n",
    "unicamp_df.head()"
   ]
  },
  {
   "cell_type": "code",
   "execution_count": null,
   "metadata": {},
   "outputs": [],
   "source": [
    "# ----- CHECK BUILDING SHAPES DATASET CRS\n",
    "\n",
    "# crs - sistema referência de coordenadas\n",
    "\n",
    "# WGS 84 - sistema de coords mundial (degree)\n",
    "unicamp_df.crs"
   ]
  },
  {
   "cell_type": "code",
   "execution_count": null,
   "metadata": {},
   "outputs": [],
   "source": [
    "# ----- Plot UNICAMP MAPA (WGS84)\n",
    "ax = unicamp_df.plot(figsize=(15, 7))\n",
    "unicamp_roads_df.plot(ax=ax, figsize=(15, 7), color='gray')"
   ]
  },
  {
   "cell_type": "code",
   "execution_count": null,
   "metadata": {},
   "outputs": [],
   "source": [
    "# ----- PLOT IC BUILDING (WGS84)\n",
    "ic_predio = unicamp_df.query('osm_id == 95011169')\n",
    "ax = ic_predio.plot()\n",
    "ic_predio.head()"
   ]
  },
  {
   "cell_type": "code",
   "execution_count": null,
   "metadata": {},
   "outputs": [],
   "source": []
  },
  {
   "cell_type": "code",
   "execution_count": null,
   "metadata": {},
   "outputs": [],
   "source": []
  },
  {
   "cell_type": "markdown",
   "metadata": {},
   "source": [
    "# Conversão de CRS\n",
    "\n",
    "Conversão de CRS WGS 84 para SIRGAS 2000 / UTM zone 23S , que é dado em metros e representa o sistemas de georeferência das Américas.\n",
    "\n",
    "Características:\n",
    "\n",
    "- Datum: SIRGAS 2000\n",
    "- Projeção: UTM zone 23S (Campinas/SP)\n",
    "- América Latina\n",
    "- Hemisfério sul. \n",
    "\n",
    "Referências:\n",
    "- https://epsg.io/31981\n",
    "- https://spatialreference.org/ref/?search=31981\n",
    "- https://pt.slideshare.net/JorgeSantos30/20141011-qgis24-sistemadereferenciadecoordenadas\n",
    "- https://ocefpaf.github.io/python4oceanographers/blog/2013/12/16/utm/\n",
    "- https://cursos.alura.com.br/forum/topico-erro-ao-reprojetar-usando-a-funcao-to_crs-77139\n"
   ]
  },
  {
   "cell_type": "code",
   "execution_count": 4,
   "metadata": {},
   "outputs": [
    {
     "data": {
      "text/html": [
       "<div>\n",
       "<style scoped>\n",
       "    .dataframe tbody tr th:only-of-type {\n",
       "        vertical-align: middle;\n",
       "    }\n",
       "\n",
       "    .dataframe tbody tr th {\n",
       "        vertical-align: top;\n",
       "    }\n",
       "\n",
       "    .dataframe thead th {\n",
       "        text-align: right;\n",
       "    }\n",
       "</style>\n",
       "<table border=\"1\" class=\"dataframe\">\n",
       "  <thead>\n",
       "    <tr style=\"text-align: right;\">\n",
       "      <th></th>\n",
       "      <th>osm_id</th>\n",
       "      <th>name</th>\n",
       "      <th>type</th>\n",
       "      <th>geometry</th>\n",
       "    </tr>\n",
       "  </thead>\n",
       "  <tbody>\n",
       "    <tr>\n",
       "      <th>0</th>\n",
       "      <td>95011154</td>\n",
       "      <td>IC 3</td>\n",
       "      <td>university</td>\n",
       "      <td>POLYGON ((-47.06377 -22.81368, -47.06375 -22.8...</td>\n",
       "    </tr>\n",
       "    <tr>\n",
       "      <th>1</th>\n",
       "      <td>95011157</td>\n",
       "      <td>Banco Santander</td>\n",
       "      <td>bank</td>\n",
       "      <td>POLYGON ((-47.06880 -22.81689, -47.06881 -22.8...</td>\n",
       "    </tr>\n",
       "    <tr>\n",
       "      <th>2</th>\n",
       "      <td>95011161</td>\n",
       "      <td>Ciclo Básico II</td>\n",
       "      <td>university</td>\n",
       "      <td>POLYGON ((-47.07069 -22.81797, -47.07050 -22.8...</td>\n",
       "    </tr>\n",
       "    <tr>\n",
       "      <th>3</th>\n",
       "      <td>95011169</td>\n",
       "      <td>IC - Instituto de Computação</td>\n",
       "      <td>university</td>\n",
       "      <td>POLYGON ((-47.06520 -22.81481, -47.06452 -22.8...</td>\n",
       "    </tr>\n",
       "    <tr>\n",
       "      <th>4</th>\n",
       "      <td>95011172</td>\n",
       "      <td>IC 3.5</td>\n",
       "      <td>university</td>\n",
       "      <td>POLYGON ((-47.06422 -22.81356, -47.06417 -22.8...</td>\n",
       "    </tr>\n",
       "    <tr>\n",
       "      <th>5</th>\n",
       "      <td>95011175</td>\n",
       "      <td>DAC - Diretoria Acadêmica do Campus</td>\n",
       "      <td>university</td>\n",
       "      <td>POLYGON ((-47.07073 -22.81754, -47.07051 -22.8...</td>\n",
       "    </tr>\n",
       "    <tr>\n",
       "      <th>6</th>\n",
       "      <td>95463718</td>\n",
       "      <td>Restaurante Universitário</td>\n",
       "      <td>restaurant</td>\n",
       "      <td>POLYGON ((-47.07236 -22.81793, -47.07183 -22.8...</td>\n",
       "    </tr>\n",
       "    <tr>\n",
       "      <th>7</th>\n",
       "      <td>95463720</td>\n",
       "      <td>GMU - Ginásio Multidisciplinar</td>\n",
       "      <td>university</td>\n",
       "      <td>POLYGON ((-47.07183 -22.81502, -47.07153 -22.8...</td>\n",
       "    </tr>\n",
       "    <tr>\n",
       "      <th>8</th>\n",
       "      <td>95463721</td>\n",
       "      <td>None</td>\n",
       "      <td>None</td>\n",
       "      <td>POLYGON ((-47.06819 -22.81501, -47.06789 -22.8...</td>\n",
       "    </tr>\n",
       "    <tr>\n",
       "      <th>9</th>\n",
       "      <td>95463722</td>\n",
       "      <td>Instituto de Filosofia e Ciencias Humanas</td>\n",
       "      <td>university</td>\n",
       "      <td>POLYGON ((-47.06806 -22.81536, -47.06853 -22.8...</td>\n",
       "    </tr>\n",
       "  </tbody>\n",
       "</table>\n",
       "</div>"
      ],
      "text/plain": [
       "     osm_id                                       name        type  \\\n",
       "0  95011154                                       IC 3  university   \n",
       "1  95011157                            Banco Santander        bank   \n",
       "2  95011161                            Ciclo Básico II  university   \n",
       "3  95011169               IC - Instituto de Computação  university   \n",
       "4  95011172                                     IC 3.5  university   \n",
       "5  95011175        DAC - Diretoria Acadêmica do Campus  university   \n",
       "6  95463718                  Restaurante Universitário  restaurant   \n",
       "7  95463720             GMU - Ginásio Multidisciplinar  university   \n",
       "8  95463721                                       None        None   \n",
       "9  95463722  Instituto de Filosofia e Ciencias Humanas  university   \n",
       "\n",
       "                                            geometry  \n",
       "0  POLYGON ((-47.06377 -22.81368, -47.06375 -22.8...  \n",
       "1  POLYGON ((-47.06880 -22.81689, -47.06881 -22.8...  \n",
       "2  POLYGON ((-47.07069 -22.81797, -47.07050 -22.8...  \n",
       "3  POLYGON ((-47.06520 -22.81481, -47.06452 -22.8...  \n",
       "4  POLYGON ((-47.06422 -22.81356, -47.06417 -22.8...  \n",
       "5  POLYGON ((-47.07073 -22.81754, -47.07051 -22.8...  \n",
       "6  POLYGON ((-47.07236 -22.81793, -47.07183 -22.8...  \n",
       "7  POLYGON ((-47.07183 -22.81502, -47.07153 -22.8...  \n",
       "8  POLYGON ((-47.06819 -22.81501, -47.06789 -22.8...  \n",
       "9  POLYGON ((-47.06806 -22.81536, -47.06853 -22.8...  "
      ]
     },
     "execution_count": 4,
     "metadata": {},
     "output_type": "execute_result"
    }
   ],
   "source": [
    "# Geodataframe dos Prédios da Unicamp\n",
    "unicamp_df = gpd.read_file(unicamp_building_dataset_path)\n",
    "unicamp_df.head(10)"
   ]
  },
  {
   "cell_type": "code",
   "execution_count": 5,
   "metadata": {},
   "outputs": [
    {
     "data": {
      "text/plain": [
       "<Projected CRS: EPSG:31983>\n",
       "Name: SIRGAS 2000 / UTM zone 23S\n",
       "Axis Info [cartesian]:\n",
       "- E[east]: Easting (metre)\n",
       "- N[north]: Northing (metre)\n",
       "Area of Use:\n",
       "- name: Brazil - 48°W to 42°W\n",
       "- bounds: (-48.0, -33.5, -42.0, 5.13)\n",
       "Coordinate Operation:\n",
       "- name: UTM zone 23S\n",
       "- method: Transverse Mercator\n",
       "Datum: Sistema de Referencia Geocentrico para las AmericaS 2000\n",
       "- Ellipsoid: GRS 1980\n",
       "- Prime Meridian: Greenwich"
      ]
     },
     "execution_count": 5,
     "metadata": {},
     "output_type": "execute_result"
    }
   ],
   "source": [
    "# Conversão de WSG84 para SIRGAS 2000 / UTM one 23S : 31983\n",
    "# Zona 23 inclui Campinas\n",
    "# https://spatialreference.org/ref/epsg/31983/\n",
    "\n",
    "unicamp_utm_df = unicamp_df.to_crs(31983)\n",
    "unicamp_utm_df.crs"
   ]
  },
  {
   "cell_type": "code",
   "execution_count": null,
   "metadata": {},
   "outputs": [],
   "source": [
    "# Plot de mapa Convertido para SIRGAS 2000 / UTM zone 23S\n",
    "ax = unicamp_utm_df.plot()\n",
    "plt.title('Unicamp xy (m)',fontweight='bold',fontsize=14)\n",
    "\n",
    "# Dataframe convertido\n",
    "unicamp_utm_df.head(10)"
   ]
  },
  {
   "cell_type": "code",
   "execution_count": 6,
   "metadata": {},
   "outputs": [
    {
     "data": {
      "text/plain": [
       "0      POINT (288164.757 7475614.484)\n",
       "1      POINT (287680.703 7475257.946)\n",
       "2      POINT (287463.109 7475182.762)\n",
       "3      POINT (288079.758 7475493.426)\n",
       "4      POINT (288158.099 7475640.063)\n",
       "                    ...              \n",
       "504    POINT (288473.227 7474421.359)\n",
       "505    POINT (288491.927 7474443.209)\n",
       "506    POINT (286688.852 7474451.339)\n",
       "507    POINT (286696.551 7474453.636)\n",
       "508    POINT (289447.856 7473449.118)\n",
       "Name: centroids, Length: 509, dtype: geometry"
      ]
     },
     "execution_count": 6,
     "metadata": {},
     "output_type": "execute_result"
    }
   ],
   "source": [
    "unicamp_utm_df['centroids'] = unicamp_utm_df.centroid\n",
    "unicamp_utm_df['centroids']"
   ]
  },
  {
   "cell_type": "code",
   "execution_count": null,
   "metadata": {},
   "outputs": [],
   "source": [
    "unicamp_utm_df.head()"
   ]
  },
  {
   "cell_type": "code",
   "execution_count": null,
   "metadata": {},
   "outputs": [],
   "source": []
  },
  {
   "cell_type": "code",
   "execution_count": null,
   "metadata": {},
   "outputs": [],
   "source": []
  },
  {
   "cell_type": "markdown",
   "metadata": {},
   "source": [
    "# Normalização de Mapa da Unicamp"
   ]
  },
  {
   "cell_type": "code",
   "execution_count": 7,
   "metadata": {},
   "outputs": [
    {
     "name": "stdout",
     "output_type": "stream",
     "text": [
      "bounds: 285960.71918678837 7473387.272237044 290348.567447891 7476048.738107968\n",
      "x: 4387.848261102627\n",
      "y: 2661.465870924294\n"
     ]
    }
   ],
   "source": [
    "# Bounds of Unicamp Map\n",
    "unicamp_minx, unicamp_miny, unicamp_maxx, unicamp_maxy = unicamp_utm_df.geometry.total_bounds\n",
    "\n",
    "print('bounds:', unicamp_minx, unicamp_miny, unicamp_maxx, unicamp_maxy)\n",
    "print('x:', unicamp_maxx-unicamp_minx)\n",
    "print('y:', unicamp_maxy- unicamp_miny)\n"
   ]
  },
  {
   "cell_type": "code",
   "execution_count": 8,
   "metadata": {},
   "outputs": [
    {
     "data": {
      "image/svg+xml": [
       "<svg xmlns=\"http://www.w3.org/2000/svg\" xmlns:xlink=\"http://www.w3.org/1999/xlink\" width=\"100.0\" height=\"100.0\" viewBox=\"288143.9713355714 7475591.952528243 47.08793883345788 43.94434850849211\" preserveAspectRatio=\"xMinYMin meet\"><g transform=\"matrix(1,0,0,-1,0,14951227.849404994)\"><path fill-rule=\"evenodd\" fill=\"#66cc99\" stroke=\"#555555\" stroke-width=\"0.9417587766691576\" opacity=\"0.6\" d=\"M 288179.97032647545,7475626.0000124015 L 288182.08117447305,7475627.0596601255 L 288189.31527667027,7475612.749646657 L 288151.2068405079,7475593.696525978 L 288145.71533330594,7475604.552718975 L 288153.9345383955,7475608.666350024 L 288145.86595200794,7475624.637305185 L 288164.9254853135,7475634.1528790165 L 288171.24070338317,7475621.6688033715 L 288175.34012362524,7475623.719931066 L 288179.97032647545,7475626.0000124015 z\" /></g></svg>"
      ],
      "text/plain": [
       "<shapely.geometry.polygon.Polygon at 0x7f658b62c070>"
      ]
     },
     "execution_count": 8,
     "metadata": {},
     "output_type": "execute_result"
    }
   ],
   "source": [
    "# get all geometries of unicamp_utm_df\n",
    "unicamp_geometries = [i for i in unicamp_utm_df.geometry]\n",
    "\n",
    "# geometry example\n",
    "unicamp_geometries[0]"
   ]
  },
  {
   "cell_type": "code",
   "execution_count": 9,
   "metadata": {},
   "outputs": [
    {
     "name": "stdout",
     "output_type": "stream",
     "text": [
      "285960.71918678837 7473387.272237044 290348.567447891 7476048.738107968\n",
      "285960.71918678837 7473387.272237044 290348.567447891 7476048.738107968\n"
     ]
    }
   ],
   "source": [
    "map_minx = 1e+10\n",
    "map_maxx = -1\n",
    "map_miny = 1e+10\n",
    "map_maxy = -1\n",
    "\n",
    "for geometry in range(len(unicamp_geometries)):\n",
    "    \n",
    "    # get all coordinates (x,y) of polygons in unicamp_utm_df\n",
    "    all_coords_per_geometry = mapping(unicamp_geometries[geometry])[\"coordinates\"] \n",
    "\n",
    "    # split all coordinates per geometry and get x coords and y coords\n",
    "    x_coords = [all_coords_per_geometry[0][i][0] for i in range(len(all_coords_per_geometry[0]))]\n",
    "    y_coords = [all_coords_per_geometry[0][i][1] for i in range(len(all_coords_per_geometry[0]))]\n",
    "    \n",
    "    # convert to 2D array\n",
    "    x_coords = np.array(x_coords)\n",
    "    y_coords = np.array(y_coords)\n",
    "    \n",
    "    # get all geometry coords in x and y\n",
    "    if geometry == 0:\n",
    "        all_coords_x = x_coords.copy()\n",
    "        all_coords_y = y_coords.copy()\n",
    "    else:\n",
    "        all_coords_x = np.append (all_coords_x, x_coords.copy(), axis=0)\n",
    "        all_coords_y = np.append (all_coords_y, y_coords.copy(), axis=0)\n",
    "        \n",
    "    # get bounds limits of map and compare with unicamp_utm_df.geometry.total_bounds\n",
    "    # after for loop, limits must be equal\n",
    "    if np.min(x_coords) < map_minx:\n",
    "        map_minx = np.min(x_coords)\n",
    "    if np.max(x_coords) > map_maxx:\n",
    "        map_maxx = np.max(x_coords)\n",
    "    \n",
    "    if np.min(y_coords) < map_miny:\n",
    "        map_miny = np.min(y_coords)\n",
    "    if np.max(y_coords) > map_maxy:\n",
    "        map_maxy = np.max(y_coords)\n",
    "    \n",
    "\n",
    "# after for loop, limits must be equal\n",
    "print(map_minx, map_miny,map_maxx, map_maxy)\n",
    "print(unicamp_minx, unicamp_miny, unicamp_maxx, unicamp_maxy)\n",
    "# yey\n",
    "\n",
    "# convert to 2D array \n",
    "x = np.array(all_coords_x).reshape(-1, 1) # reshape -> 2D array\n",
    "y = np.array(all_coords_y).reshape(-1, 1)"
   ]
  },
  {
   "cell_type": "code",
   "execution_count": null,
   "metadata": {},
   "outputs": [],
   "source": []
  },
  {
   "cell_type": "code",
   "execution_count": 10,
   "metadata": {},
   "outputs": [
    {
     "name": "stdout",
     "output_type": "stream",
     "text": [
      "Shape do Mapa normalizado: (509, 4)\n"
     ]
    },
    {
     "data": {
      "text/html": [
       "<div>\n",
       "<style scoped>\n",
       "    .dataframe tbody tr th:only-of-type {\n",
       "        vertical-align: middle;\n",
       "    }\n",
       "\n",
       "    .dataframe tbody tr th {\n",
       "        vertical-align: top;\n",
       "    }\n",
       "\n",
       "    .dataframe thead th {\n",
       "        text-align: right;\n",
       "    }\n",
       "</style>\n",
       "<table border=\"1\" class=\"dataframe\">\n",
       "  <thead>\n",
       "    <tr style=\"text-align: right;\">\n",
       "      <th></th>\n",
       "      <th>geometry</th>\n",
       "      <th>osm_id</th>\n",
       "      <th>name</th>\n",
       "      <th>type</th>\n",
       "    </tr>\n",
       "  </thead>\n",
       "  <tbody>\n",
       "    <tr>\n",
       "      <th>0</th>\n",
       "      <td>POLYGON ((2219.251 2238.728, 2221.362 2239.787...</td>\n",
       "      <td>95011154</td>\n",
       "      <td>IC 3</td>\n",
       "      <td>university</td>\n",
       "    </tr>\n",
       "    <tr>\n",
       "      <th>1</th>\n",
       "      <td>POLYGON ((1707.932 1875.916, 1706.879 1871.880...</td>\n",
       "      <td>95011157</td>\n",
       "      <td>Banco Santander</td>\n",
       "      <td>bank</td>\n",
       "    </tr>\n",
       "    <tr>\n",
       "      <th>2</th>\n",
       "      <td>POLYGON ((1515.427 1753.464, 1534.537 1769.617...</td>\n",
       "      <td>95011161</td>\n",
       "      <td>Ciclo Básico II</td>\n",
       "      <td>university</td>\n",
       "    </tr>\n",
       "    <tr>\n",
       "      <th>3</th>\n",
       "      <td>POLYGON ((2073.981 2111.450, 2144.257 2142.551...</td>\n",
       "      <td>95011169</td>\n",
       "      <td>IC - Instituto de Computação</td>\n",
       "      <td>university</td>\n",
       "    </tr>\n",
       "    <tr>\n",
       "      <th>4</th>\n",
       "      <td>POLYGON ((2173.354 2250.869, 2178.317 2240.382...</td>\n",
       "      <td>95011172</td>\n",
       "      <td>IC 3.5</td>\n",
       "      <td>university</td>\n",
       "    </tr>\n",
       "  </tbody>\n",
       "</table>\n",
       "</div>"
      ],
      "text/plain": [
       "                                            geometry    osm_id  \\\n",
       "0  POLYGON ((2219.251 2238.728, 2221.362 2239.787...  95011154   \n",
       "1  POLYGON ((1707.932 1875.916, 1706.879 1871.880...  95011157   \n",
       "2  POLYGON ((1515.427 1753.464, 1534.537 1769.617...  95011161   \n",
       "3  POLYGON ((2073.981 2111.450, 2144.257 2142.551...  95011169   \n",
       "4  POLYGON ((2173.354 2250.869, 2178.317 2240.382...  95011172   \n",
       "\n",
       "                           name        type  \n",
       "0                          IC 3  university  \n",
       "1               Banco Santander        bank  \n",
       "2               Ciclo Básico II  university  \n",
       "3  IC - Instituto de Computação  university  \n",
       "4                        IC 3.5  university  "
      ]
     },
     "execution_count": 10,
     "metadata": {},
     "output_type": "execute_result"
    }
   ],
   "source": [
    "# create a normalized map with unicamp bounds\n",
    "\n",
    "# criando novo mapa, que conterá geometrias normalizadas\n",
    "mapa_normalizado = gpd.GeoDataFrame(columns=[\"geometry\"])\n",
    "mapa_normalizado['osm_id'] = unicamp_utm_df['osm_id']\n",
    "mapa_normalizado['name'] = unicamp_utm_df['name']\n",
    "mapa_normalizado['type'] = unicamp_utm_df['type']\n",
    "\n",
    "# processo de normalização\n",
    "for geometry in range(len(unicamp_geometries)):\n",
    "\n",
    "    # get all coordinates (x,y) of polygons in unicamp_utm_df\n",
    "    all_coords_per_geometry = mapping(unicamp_geometries[geometry])[\"coordinates\"] \n",
    "    \n",
    "    # split all coordinates per geometry and get x coords and y coords\n",
    "    x_coords = [all_coords_per_geometry[0][i][0] for i in range(len(all_coords_per_geometry[0]))]\n",
    "    y_coords = [all_coords_per_geometry[0][i][1] for i in range(len(all_coords_per_geometry[0]))]\n",
    "    \n",
    "    # convert to 2D array\n",
    "    x_coords = np.array(x_coords).reshape(-1, 1) \n",
    "    y_coords = np.array(y_coords).reshape(-1, 1)\n",
    "    \n",
    "    # define limits of normalization\n",
    "    scaler_x = MinMaxScaler(feature_range = (0, unicamp_maxx - unicamp_minx))\n",
    "    scaler_y = MinMaxScaler(feature_range = (0, unicamp_maxy - unicamp_miny))\n",
    "    \n",
    "    # normalize with all all geometry coords x \n",
    "    scaler_x.fit(x)\n",
    "    transform_x = scaler_x.transform(x_coords)\n",
    "    \n",
    "    # normalize with all all geometry coords y\n",
    "    scaler_y.fit(y)\n",
    "    transform_y = scaler_y.transform(y_coords)\n",
    "    \n",
    "    # convert np array x and y normalized back to polygon\n",
    "    building_geometry = np.append (transform_x, transform_y, axis=1)\n",
    "    new_polygon = Polygon(building_geometry)\n",
    "    \n",
    "    mapa_normalizado.loc[geometry, 'geometry'] = new_polygon\n",
    "    \n",
    "\n",
    "print('Shape do Mapa normalizado:', mapa_normalizado.shape)\n",
    "mapa_normalizado.head()"
   ]
  },
  {
   "cell_type": "code",
   "execution_count": 11,
   "metadata": {},
   "outputs": [
    {
     "data": {
      "image/png": "[encoded data removed]",
      "text/plain": [
       "<Figure size 1008x504 with 2 Axes>"
      ]
     },
     "metadata": {
      "needs_background": "light"
     },
     "output_type": "display_data"
    }
   ],
   "source": [
    "# ANTES E DEPOIS DA NORMALIZAÇÃO\n",
    "\n",
    "fig, axes = plt.subplots(1,2, figsize = (14, 7)) # 1 linha, 2 colunas\n",
    "\n",
    "# Mapa da unicamp no crs SIRGAS 2000/ UTM 23S\n",
    "axes[0].set_title('SIRGAS 2000 / UTM 23S', fontsize=15, y=1.02)\n",
    "unicamp_utm_df.plot(ax=axes[0])\n",
    "\n",
    "# Mapa da Unicamp\n",
    "# onde:\n",
    "# - unicamp bounds = 285960.71918678837 7473387.272237044 290348.567447891 7476048.738107968\n",
    "# - maxx - minx    = 4387.848261102627\n",
    "# - maxy - miny    = 2661.465870924294\n",
    "axes[1].set_title('Mapa Normalizado (~4387x2661 metros)', fontsize=15, y=1.02)\n",
    "mapa_normalizado.plot(ax=axes[1])\n",
    "\n",
    "plt.show()"
   ]
  },
  {
   "cell_type": "code",
   "execution_count": 12,
   "metadata": {},
   "outputs": [
    {
     "data": {
      "image/png": "[encoded data removed]",
      "text/plain": [
       "<Figure size 864x360 with 4 Axes>"
      ]
     },
     "metadata": {
      "needs_background": "light"
     },
     "output_type": "display_data"
    }
   ],
   "source": [
    "# EXEMPLO DE PRÉDIOS NORMALIZADOS\n",
    "\n",
    "# get buildings\n",
    "ic_predio = mapa_normalizado.query('osm_id == 95011169')\n",
    "santander = mapa_normalizado.query('osm_id == 95011157')\n",
    "cbII_predio = mapa_normalizado.query('osm_id == 95011161')\n",
    "biblioteca = mapa_normalizado.query('osm_id == 95463723')\n",
    "\n",
    "# plot buildings\n",
    "fig, axes = plt.subplots(1,4, figsize = (12, 5)) # 2 linha, 2 colunas\n",
    "\n",
    "# Mapa da unicamp no crs SIRGAS 2000/ UTM 23S\n",
    "axes[0].set_title('Prédio IC3', fontsize=15, y=1.02)\n",
    "ic_predio.plot(ax=axes[0])\n",
    "\n",
    "axes[1].set_title('Santander', fontsize=15, y=1.02)\n",
    "santander.plot(ax=axes[1])\n",
    "\n",
    "axes[2].set_title('Ciclo B. II', fontsize=15, y=1.02)\n",
    "cbII_predio.plot(ax=axes[2])\n",
    "\n",
    "axes[3].set_title('Biblioteca CL', fontsize=15, y=1.02)\n",
    "biblioteca.plot(ax=axes[3])\n",
    "\n",
    "# space between subplots\n",
    "fig.tight_layout(pad=5.0)\n",
    "\n",
    "plt.show()\n",
    "\n",
    "# Google Maps: https://www.google.com/maps/place/Coordenadoria+de+P%C3%B3s-gradua%C3%A7%C3%A3o+-+Instituto+de+Biologia+%2F+Unicamp/@-22.8174874,-47.069779,253m/data=!3m1!1e3!4m5!3m4!1s0x0:0x5970884374643347!8m2!3d-22.8194777!4d-47.0698417"
   ]
  },
  {
   "cell_type": "code",
   "execution_count": null,
   "metadata": {},
   "outputs": [],
   "source": []
  },
  {
   "cell_type": "code",
   "execution_count": null,
   "metadata": {},
   "outputs": [],
   "source": []
  },
  {
   "cell_type": "code",
   "execution_count": null,
   "metadata": {},
   "outputs": [],
   "source": []
  },
  {
   "cell_type": "markdown",
   "metadata": {},
   "source": [
    "# Remove Prédios externos ao Campus"
   ]
  },
  {
   "cell_type": "code",
   "execution_count": null,
   "metadata": {
    "scrolled": true
   },
   "outputs": [],
   "source": [
    "mapa_normalizado.head(5)"
   ]
  },
  {
   "cell_type": "code",
   "execution_count": null,
   "metadata": {},
   "outputs": [],
   "source": [
    "# filter row by osm_id\n",
    "# mapa_normalizado[mapa_normalizado['osm_id'] == 95011157]\n",
    "\n",
    "mapa_normalizado.plot(figsize=(12,5))"
   ]
  },
  {
   "cell_type": "code",
   "execution_count": 13,
   "metadata": {
    "scrolled": true
   },
   "outputs": [
    {
     "data": {
      "text/html": [
       "<div>\n",
       "<style scoped>\n",
       "    .dataframe tbody tr th:only-of-type {\n",
       "        vertical-align: middle;\n",
       "    }\n",
       "\n",
       "    .dataframe tbody tr th {\n",
       "        vertical-align: top;\n",
       "    }\n",
       "\n",
       "    .dataframe thead th {\n",
       "        text-align: right;\n",
       "    }\n",
       "</style>\n",
       "<table border=\"1\" class=\"dataframe\">\n",
       "  <thead>\n",
       "    <tr style=\"text-align: right;\">\n",
       "      <th></th>\n",
       "      <th>geometry</th>\n",
       "      <th>osm_id</th>\n",
       "      <th>name</th>\n",
       "      <th>type</th>\n",
       "    </tr>\n",
       "  </thead>\n",
       "  <tbody>\n",
       "    <tr>\n",
       "      <th>0</th>\n",
       "      <td>POLYGON ((2219.251 2238.728, 2221.362 2239.787...</td>\n",
       "      <td>95011154</td>\n",
       "      <td>IC 3</td>\n",
       "      <td>university</td>\n",
       "    </tr>\n",
       "    <tr>\n",
       "      <th>1</th>\n",
       "      <td>POLYGON ((1707.932 1875.916, 1706.879 1871.880...</td>\n",
       "      <td>95011157</td>\n",
       "      <td>Banco Santander</td>\n",
       "      <td>bank</td>\n",
       "    </tr>\n",
       "    <tr>\n",
       "      <th>2</th>\n",
       "      <td>POLYGON ((1515.427 1753.464, 1534.537 1769.617...</td>\n",
       "      <td>95011161</td>\n",
       "      <td>Ciclo Básico II</td>\n",
       "      <td>university</td>\n",
       "    </tr>\n",
       "    <tr>\n",
       "      <th>3</th>\n",
       "      <td>POLYGON ((2073.981 2111.450, 2144.257 2142.551...</td>\n",
       "      <td>95011169</td>\n",
       "      <td>IC - Instituto de Computação</td>\n",
       "      <td>university</td>\n",
       "    </tr>\n",
       "    <tr>\n",
       "      <th>4</th>\n",
       "      <td>POLYGON ((2173.354 2250.869, 2178.317 2240.382...</td>\n",
       "      <td>95011172</td>\n",
       "      <td>IC 3.5</td>\n",
       "      <td>university</td>\n",
       "    </tr>\n",
       "  </tbody>\n",
       "</table>\n",
       "</div>"
      ],
      "text/plain": [
       "                                            geometry    osm_id  \\\n",
       "0  POLYGON ((2219.251 2238.728, 2221.362 2239.787...  95011154   \n",
       "1  POLYGON ((1707.932 1875.916, 1706.879 1871.880...  95011157   \n",
       "2  POLYGON ((1515.427 1753.464, 1534.537 1769.617...  95011161   \n",
       "3  POLYGON ((2073.981 2111.450, 2144.257 2142.551...  95011169   \n",
       "4  POLYGON ((2173.354 2250.869, 2178.317 2240.382...  95011172   \n",
       "\n",
       "                           name        type  \n",
       "0                          IC 3  university  \n",
       "1               Banco Santander        bank  \n",
       "2               Ciclo Básico II  university  \n",
       "3  IC - Instituto de Computação  university  \n",
       "4                        IC 3.5  university  "
      ]
     },
     "execution_count": 13,
     "metadata": {},
     "output_type": "execute_result"
    }
   ],
   "source": [
    "# REMOVE PRÉDIOS EXTERNOS A UNICAMP\n",
    "predios_externos = [\n",
    "430669816, 430669831, 430669834, 432450447, 433093651, 433113382, 433113491, 433113680, 433122921,\n",
    "365923638, 365923673, 365923778, 365923845, 365923888, 152072898, 152073614, 152073616, 152073618,\n",
    "152073619, 260542749, 186578257, 186578259, 258633062, 365923609, 355176010, 256659533, 355176008,\n",
    "365923625, 365923635, 404611803, 404611804, 404611805, 404611806, 404611807, 404611808, 404718313,\n",
    "404727748, 404727750, 430268890, 430268891, 430268893, 430268896, 430268898, 433123132, 433124150,\n",
    "433124151, 433124152, 433124153, 433124154, 433124155, 433124207, 535296300, 535296301, 535296302,\n",
    "535297665, 531269652, 535297666, 535297667, 535297668, 535297669, 535300979, 535300980, 535300981,\n",
    "535300982, 535300983, 535300984, 535300985, 535300986, 535300987, 535313329, 535313331, 535313333,\n",
    "535313335, 535313337, 535313338, 535313340, 535313342, 535313344, 535313346, 535313348, 535313350,\n",
    "535324162, 535324164, 535324165, 535324163, 535324166, 535324167, 535324168, 535324169, 535324170,\n",
    "535324171, 535324172, 535324173, 535324174, 535324175, 535324176, 535324177, 535324178, 535324179,\n",
    "535324180, 535324181, 535324182, 535324183, 535324185, 535324186, 535324187, 535324188, 535324189,\n",
    "535335892, 535335894, 535335895, 535335897, 535300988, 535335899, 535300988, 535335899, 535335900, \n",
    "535335901, 535354595, 535354596, 535335898, 535324184, 535305960, 531269049, 538743968, 538971320,\n",
    "538971329, 539206917, 539211849, 539409502, 539409503, 539622003, 540438600, 540438602, 540438604, \n",
    "541342109, 556029153, 556460922, 556460927, 556460929, 556460931, 556460933, 556460935, 556460937,\n",
    "556460939, 556460943, 556460944, 556460947, 556460948, 563505750, 564166303, 566854866, 566854867,\n",
    "603144340, 603150725, 603150726, 626214630, 626214631, 627167444, 627167446, 627167447, 627663595,\n",
    "627663596, 627663597, 627167444, 627167446, 627167447, 627663595, 627663596, 627663597, 627663598,\n",
    "627798928, 627798929, 627798931, 627798933, 627798936, 627798938, 627802134, 627802135, 633390066,\n",
    "633390068, 633390069, 633390071, 633390072, 633390073, 633390074, 633390075, 633390076, 633390077,\n",
    "633390078, 633390079, 633390080, 633390082, 633390083, 633390084, 633390087, 633390089, 633390094,\n",
    "633390096, 633390098, 633390101, 633390104, 633390105, 633390106, 633390108, 633390109, 633390110,\n",
    "633390111, 633390112, 684602338, 684602339, 684602340, 694483210, 694483211, 747442134, 747442133,\n",
    "792139327, 556460920, 556460945, 556460946, 556327607, 556327608\n",
    "]\n",
    "\n",
    "for predio in predios_externos:\n",
    "    mapa_normalizado.drop(mapa_normalizado.index[mapa_normalizado['osm_id'] == predio], inplace = True)\n",
    "\n",
    "# reorganizando indexes\n",
    "mapa_normalizado = mapa_normalizado.reset_index(drop=True)\n",
    "mapa_normalizado.head()"
   ]
  },
  {
   "cell_type": "code",
   "execution_count": 14,
   "metadata": {},
   "outputs": [
    {
     "data": {
      "text/plain": [
       "<AxesSubplot:>"
      ]
     },
     "execution_count": 14,
     "metadata": {},
     "output_type": "execute_result"
    },
    {
     "data": {
      "image/png": "[encoded data removed]",
      "text/plain": [
       "<Figure size 864x360 with 1 Axes>"
      ]
     },
     "metadata": {
      "needs_background": "light"
     },
     "output_type": "display_data"
    }
   ],
   "source": [
    "mapa_normalizado.plot(figsize=(12,5))"
   ]
  },
  {
   "cell_type": "code",
   "execution_count": null,
   "metadata": {},
   "outputs": [],
   "source": [
    "mapa_normalizado.shape"
   ]
  },
  {
   "cell_type": "code",
   "execution_count": null,
   "metadata": {},
   "outputs": [],
   "source": [
    "mapa_normalizado.head(mapa_normalizado.shape[0])"
   ]
  },
  {
   "cell_type": "code",
   "execution_count": null,
   "metadata": {},
   "outputs": [],
   "source": []
  },
  {
   "cell_type": "code",
   "execution_count": null,
   "metadata": {},
   "outputs": [],
   "source": []
  },
  {
   "cell_type": "markdown",
   "metadata": {},
   "source": [
    "# Tratamento de Dados Faltantes\n",
    "\n",
    "- **[OK]** Museu\n",
    "- **[OK]** IG (parte superior do mapa)\n",
    "- **[OK]** IG (parte inferior do mapa)\n",
    "- **[OK]** Centro de Biologia Molecular e Engenharia Genética (CBMEG) \n",
    "- **[OK]** Centro de Computação (CCUEC) \n",
    "- **[OK]** Ciclo Básico I \n",
    "- **[OK]** Escola Estadual de Ensino Fundamental Físico Sérgio Pereira Porto (SERGIO PORTO)\n",
    "- **[OK]** Grupo Gestor de Obras (GGO) \n",
    "- **[OK]** Ponto de ônibus – Rua Roxo Moreira (PO-RM)\n",
    "- **[OK]** Ponto de ônibus – Avenida Adolpho Lutz (PO-AL)\n",
    "- **[OK]** Ponto de ônibus – Rua Vital Brasil (PO-VB)"
   ]
  },
  {
   "cell_type": "code",
   "execution_count": null,
   "metadata": {},
   "outputs": [],
   "source": [
    "# Some useful functions\n",
    "\n",
    "from shapely.geometry import Point\n",
    "from shapely.geometry import box\n",
    "\n",
    "\n",
    "ref_osm_id = int(10000000)\n",
    "def add_dataset_rows(geodataset, new_polygon, name, type_building ):\n",
    "    global ref_osm_id\n",
    "    last_index = geodataset.shape[0]\n",
    "    geodataset.loc[last_index, 'geometry'] = new_polygon\n",
    "    geodataset.loc[last_index, 'osm_id'] = ref_osm_id\n",
    "    geodataset.loc[last_index, 'name'] = name\n",
    "    geodataset.loc[last_index, 'type'] = type_building\n",
    "    ref_osm_id = int(ref_osm_id + 1)\n",
    "    print(\"Novo Shape:\", geodataset.shape)\n",
    "    \n",
    "    return geodataset.iloc[geodataset.shape[0]-1:geodataset.shape[0]]\n",
    "\n",
    "\n",
    "def add_node_dataset_rows(geodataset, name, type_building, point):\n",
    "    global ref_osm_id\n",
    "    last_index = geodataset.shape[0]\n",
    "    geodataset.loc[last_index, 'osm_id'] = ref_osm_id\n",
    "    geodataset.loc[last_index, 'name'] = name\n",
    "    geodataset.loc[last_index, 'type'] = type_building\n",
    "    geodataset.loc[last_index, 'x'] = point.x\n",
    "    geodataset.loc[last_index, 'y'] = point.y\n",
    "    geodataset.loc[last_index, 'z'] = 1.5\n",
    "    \n",
    "    ref_osm_id = int(ref_osm_id + 1)\n",
    "    print(\"Novo Shape:\", geodataset.shape)\n",
    "    \n",
    "    return geodataset.iloc[geodataset.shape[0]-1:geodataset.shape[0]]\n",
    "\n",
    "def get_polygon_coords (polygon):\n",
    "    g = [i for i in polygon.geometry]\n",
    "    x,y = g[0].exterior.coords.xy\n",
    "    coords = np.dstack((x,y)).tolist()\n",
    "    \n",
    "    return coords\n",
    "\n",
    "\n",
    "def create_circle_building(x, y, buffer):\n",
    "    circle = Point(x, y).buffer(buffer) \n",
    "\n",
    "    print(\"Area:\", circle.area)\n",
    "    print(\"Length:\", circle.length)\n",
    "    \n",
    "    return circle\n",
    "\n",
    "def create_box_building(building_name, bounds, offset_xmin, offset_ymin, offset_xmax, offset_ymax):\n",
    "    new_building = box(\n",
    "        bounds[0] - offset_xmin,\n",
    "        bounds[1] - offset_ymin,\n",
    "        bounds[2] -offset_xmax,\n",
    "        bounds[3] -offset_ymax\n",
    "    )\n",
    "\n",
    "    print(\"Bounds do prédio \" + str(building_name) + \":\", bounds)\n",
    "    print(\"\\nÁrea:\", new_building.area)\n",
    "    print(\"Length:\", new_building.length)\n",
    "    \n",
    "    return new_building\n",
    "\n",
    "\n",
    "def compare_buildings(ref_building, new_building):\n",
    "    geodataset_ref = gpd.GeoSeries(ref_building)\n",
    "    ax = geodataset_ref.plot(color='Gray')\n",
    "\n",
    "    geodataset_new = gpd.GeoSeries(new_building)\n",
    "    geodataset_new.plot(ax=ax) \n",
    "\n",
    "    \n",
    "def calculate_distance(osm_id, new_polygon):\n",
    "    # ----- Criação de Geodataframe para o calculo de distancia entre centroids do Museu e predio de referência (Inova)\n",
    "    points_df = gpd.GeoDataFrame(columns=[\"geometry\"])\n",
    "    points_df.loc[:, 'geometry'] = mapa_normalizado.query('osm_id ==' + str(osm_id))['geometry']\n",
    "    points_df.loc[0, 'geometry'] = new_polygon\n",
    "\n",
    "    points_df['centroid'] = points_df[\"geometry\"].centroid\n",
    "\n",
    "    # Cálculo de Distância entre Circle centroids e cada linha do dataset\n",
    "    print(\"Distancia entre centroids:\\n\", points_df.distance(new_polygon.centroid))\n",
    "\n",
    "    return points_df"
   ]
  },
  {
   "cell_type": "code",
   "execution_count": null,
   "metadata": {},
   "outputs": [],
   "source": []
  },
  {
   "cell_type": "markdown",
   "metadata": {},
   "source": [
    "## Buscar e Mapear predios"
   ]
  },
  {
   "cell_type": "code",
   "execution_count": null,
   "metadata": {},
   "outputs": [],
   "source": [
    "# ----- RESULTADOS DO MAPEAMENTO (prédios com coletores)\n",
    "\n",
    "# ENCONTRADOS POR CONSULTA DE NOME:\n",
    "# 1. Agência de Inovação Inova Unicamp (INOVA) # 163762428\n",
    "# 2. Biblioteca Central (BC) # 95463723\n",
    "# 11. Ciclo Básico II # 95011161\n",
    "# 14. Diretoria Geral de Recursos Humanos (DGRH) # 362643631\n",
    "# 18. Faculdade de Ciências Médicas (FCM) # 537142892\n",
    "# 24. Faculdade de Engenharia Elétrica e de Computação (FEEC) # 269851018\n",
    "# 25. Faculdade de Engenharia Mecânica (FEM) # 554951124\n",
    "# 27. Fundação de Desenvolvimento da Unicamp (FUNCAMP) # 556327623\n",
    "# 32. Instituto de Biologia (IB) # 95540601\n",
    "# 33. Instituto de Computação (IC) # 95011169\n",
    "# 35. Instituto de Filosofia e Ciências Humanas (IFCH) # 95463722\n",
    "# 39. Instituto de Matemática, Estatística e Computação Científica (IMECC) # 95463724\n",
    "# 41. Prefeitura Universitária # 562047775\n",
    "# 45. Restaurante Administrativo (RA) # 269851019\n",
    "# 46. Restaurante Saturnino (RS) # 270488633\n",
    "# 47. Restaurante Universitário (RU) # 95463718\n",
    "\n",
    "\n",
    "# ENCONTRADOS POR CONSULTA DE TIPO:\n",
    "\n",
    "# 4. Centro de Componentes Semicondutores (CCS) # 554951142\n",
    "# 6. Centro de Diagnóstico de Doenças do Aparelho Digestivo (GASTROCENTRO) # 556327645 e 556327646\n",
    "# 8. Centro de Hematologia e Hemoterapia (HEMOCENTRO) # 556327636\n",
    "# 9. Centro para Manutenção de Equipamentos (CEMEQ) # 556327686\n",
    "# 12. Coordenadoria de Desenvolvimento Cultural (CDC) # 95463720\n",
    "# 13. Diretoria Geral da Administração (DGA) # 554951141\n",
    "# 15. Divisão de Educação Infantil e Complementar (DEdIC) # 537155702\n",
    "# 16. Engenharia Básica (EB)  # 554951142 (ccs)\n",
    "# 20. Faculdade de Enfermagem (FEnf) # 537142893\n",
    "# 21. Faculdade de Engenharia Agrícola (FEAGRI) # 97592693 ~\n",
    "# 23. Faculdade de Engenharia de Alimentos (FEA) # 554951120 ~\n",
    "# 26. Faculdade de Engenharia Química (FEQ) # 554968138\n",
    "# 28. Gabinete do Reitor (GR) # 562047779\n",
    "# 34. Instituto de Estudos da Linguagem (IEL) # 556327698 ~\n",
    "# 40. Instituto de Química (IQ) # 96493946\n",
    "\n",
    "\n",
    "# ENCONTRADOS POR SHAPES:\n",
    "\n",
    "# 7. Centro de Estudos de Petróleo (CEPETRO) 562047735\n",
    "# 19. Faculdade de Educação Física (FEF) # 96446654\n",
    "# 22. Faculdade de Engenharia Civil, Arquitetura e Urbanismo (FEC) # 556327678\n",
    "# 30. Hospital de Clínicas (HC) # 538334949\n",
    "# 31. Instituto de Artes (IA) # 537166697\n",
    "# 36. Instituto de Física Gleb Wataghin (IFGW) # 556327703\n",
    "# 38. Instituto de Geociências (IG) da Avenida Érico Veríssimo (superior)-------------\n",
    "\n",
    "\n",
    "# NÃO ESTÃO NO MAPA (DADOS FALTANTES - 9):\n",
    "\n",
    "# 3. Centro de Biologia Molecular e Engenharia Genética (CBMEG) \n",
    "# 5. Centro de Computação (CCUEC) \n",
    "# 10. Ciclo Básico I \n",
    "# 17. Escola Estadual de Ensino Fundamental Físico Sérgio Pereira Porto (SERGIO PORTO)\n",
    "# 29. Grupo Gestor de Obras (GGO) \n",
    "# 37. Instituto de Geociências (IG) da Rua Oswaldo Cruz (inferior) \n",
    "\n",
    "# Casos especiais:\n",
    "# 42. Ponto de ônibus – Rua Roxo Moreira (PO-RM)\n",
    "# 43. Ponto de ônibus – Avenida Adolpho Lutz (PO-AL)\n",
    "# 44. Ponto de ônibus – Rua Vital Brasil (PO-VB)"
   ]
  },
  {
   "cell_type": "code",
   "execution_count": null,
   "metadata": {},
   "outputs": [],
   "source": [
    "# ----- METÓDOS DE BUSCA PARA MAPEAMENTO\n",
    "\n",
    "# Busca por linha em todo dataset\n",
    "predio = mapa_normalizado.iloc[1:2] #ex Reitoria 367-376\n",
    "print(mapa_normalizado.shape)\n",
    "predio.head(predio.shape[0])\n",
    "\n",
    "# Busca por Nome\n",
    "# predio = mapa_normalizado[mapa_normalizado['name'].str.contains(\"Restaurante\",  na=False)]\n",
    "# predio.head()\n",
    "\n",
    "# Busca de todos os predios com Nome None\n",
    "# predio_sem_indentificacao = mapa_normalizado[mapa_normalizado['name'].isna()]\n",
    "# predio = predio_sem_indentificacao\n",
    "# predio.head()\n",
    "\n",
    "# Busca por linhas de todos os predios com Nome None\n",
    "# predio_sem_indentificacao = mapa_normalizado[mapa_normalizado['name'].isna()]\n",
    "# predio = predio_sem_indentificacao.iloc[47:48] # ex HC\n",
    "# predio.head()"
   ]
  },
  {
   "cell_type": "code",
   "execution_count": null,
   "metadata": {},
   "outputs": [],
   "source": [
    "# predio.plot(color=\"red\")"
   ]
  },
  {
   "cell_type": "code",
   "execution_count": null,
   "metadata": {
    "scrolled": true
   },
   "outputs": [],
   "source": [
    "### ----- PLOT DE PREDIO DE ACORDO COM A BUSCA REALIZADA\n",
    "\n",
    "ax = mapa_normalizado.plot(figsize=(12, 5))\n",
    "\n",
    "# predios None\n",
    "predio['geometry'].plot(ax=ax, color='Red')\n",
    "\n",
    "# Para ampliar area mudar param. de set_xlim e set_ylim\n",
    "minx, miny, maxx, maxy = mapa_normalizado.total_bounds\n",
    "ax.set_xlim(minx -100, maxx)\n",
    "ax.set_ylim(miny -100, maxy)"
   ]
  },
  {
   "cell_type": "code",
   "execution_count": null,
   "metadata": {},
   "outputs": [],
   "source": []
  },
  {
   "cell_type": "code",
   "execution_count": null,
   "metadata": {},
   "outputs": [],
   "source": []
  },
  {
   "cell_type": "markdown",
   "metadata": {},
   "source": [
    "## Cria e ADD shapes de prédios não encontrados"
   ]
  },
  {
   "cell_type": "markdown",
   "metadata": {},
   "source": [
    "### Museu"
   ]
  },
  {
   "cell_type": "code",
   "execution_count": null,
   "metadata": {},
   "outputs": [],
   "source": [
    "# ----- CRIANDO SHAPE DO MUSEU\n",
    "ref_id = 386834061\n",
    "circle = create_circle_building(2873, 2125, 16.45)\n",
    "circle"
   ]
  },
  {
   "cell_type": "code",
   "execution_count": null,
   "metadata": {},
   "outputs": [],
   "source": [
    "# -----PLOT DE MAPA NORMALIZADO E SHAPE DO MUSEU\n",
    "\n",
    "ax = mapa_normalizado['geometry'].plot(figsize=(12, 5))\n",
    "circle_df = gpd.GeoDataFrame(columns=[\"geometry\"])\n",
    "circle_df.loc[0, 'geometry'] = circle\n",
    "circle_df.plot(ax=ax, color=\"black\")\n",
    "\n",
    "# para ampliar area mudar param. de set_xlim e set_ylim\n",
    "minx, miny, maxx, maxy = mapa_normalizado.total_bounds\n",
    "ax.set_xlim(2650, 3000)\n",
    "ax.set_ylim(2050, 2200)"
   ]
  },
  {
   "cell_type": "code",
   "execution_count": null,
   "metadata": {},
   "outputs": [],
   "source": [
    "calculate_distance(ref_id, circle)"
   ]
  },
  {
   "cell_type": "code",
   "execution_count": null,
   "metadata": {},
   "outputs": [],
   "source": [
    "add_dataset_rows(mapa_normalizado, circle, 'Museu Exploratório', 'university')"
   ]
  },
  {
   "cell_type": "code",
   "execution_count": null,
   "metadata": {},
   "outputs": [],
   "source": []
  },
  {
   "cell_type": "markdown",
   "metadata": {},
   "source": [
    "### IG (parte superior) "
   ]
  },
  {
   "cell_type": "code",
   "execution_count": null,
   "metadata": {},
   "outputs": [],
   "source": [
    "ref_id = 556327663\n",
    "ref_polygon = mapa_normalizado.query('osm_id ==' + str(ref_id))\n",
    "print(ref_polygon['geometry'].centroid)\n",
    "\n",
    "# Get Polygon value\n",
    "# get_polygon_coords(ref_polygon)\n",
    "\n",
    "building_IG = box(1628, 2289.589499125257, 1748,2323.997095678933)\n",
    "\n",
    "print(\"\\nArea:\", building_IG.area)\n",
    "print(\"Length:\",building_IG.length)\n",
    "building_IG.boundary"
   ]
  },
  {
   "cell_type": "code",
   "execution_count": null,
   "metadata": {},
   "outputs": [],
   "source": [
    "compare_buildings(ref_polygon['geometry'].boundary, building_IG )"
   ]
  },
  {
   "cell_type": "code",
   "execution_count": null,
   "metadata": {},
   "outputs": [],
   "source": [
    "ax = mapa_normalizado['geometry'].plot(figsize=(12, 5))\n",
    "# teste = gpd.GeoSeries(building_IG.boundary)\n",
    "teste = gpd.GeoSeries(building_IG)\n",
    "teste.plot(ax=ax) \n",
    "\n",
    "# para ampliar area mudar param. de set_xlim e set_ylim\n",
    "minx, miny, maxx, maxy = mapa_normalizado.total_bounds\n",
    "ax.set_xlim(1000, 2500)\n",
    "ax.set_ylim(2000, maxy)"
   ]
  },
  {
   "cell_type": "code",
   "execution_count": null,
   "metadata": {},
   "outputs": [],
   "source": [
    "add_dataset_rows(mapa_normalizado, building_IG, 'IG-cima', 'university')"
   ]
  },
  {
   "cell_type": "code",
   "execution_count": null,
   "metadata": {},
   "outputs": [],
   "source": [
    "mapa_normalizado.shape"
   ]
  },
  {
   "cell_type": "code",
   "execution_count": null,
   "metadata": {},
   "outputs": [],
   "source": []
  },
  {
   "cell_type": "markdown",
   "metadata": {},
   "source": [
    "### CCUEC"
   ]
  },
  {
   "cell_type": "code",
   "execution_count": null,
   "metadata": {},
   "outputs": [],
   "source": [
    "ref_id = 146276265\n",
    "ref_polygon = mapa_normalizado.query('osm_id ==' + str(ref_id))\n",
    "\n",
    "# Get Polygon value\n",
    "# get_polygon_coords(ref_polygon)"
   ]
  },
  {
   "cell_type": "code",
   "execution_count": null,
   "metadata": {},
   "outputs": [],
   "source": [
    "bounds_ref = list(ref_polygon.geometry.total_bounds)\n",
    "building_CUEC = create_box_building(\"CCUEC\", bounds_ref, 90, 0, 70, 10)\n",
    "building_CUEC.boundary"
   ]
  },
  {
   "cell_type": "code",
   "execution_count": null,
   "metadata": {},
   "outputs": [],
   "source": [
    "compare_buildings(ref_polygon['geometry'].boundary, building_CUEC )"
   ]
  },
  {
   "cell_type": "code",
   "execution_count": null,
   "metadata": {},
   "outputs": [],
   "source": [
    "ax = mapa_normalizado['geometry'].plot(figsize=(12, 5))\n",
    "\n",
    "teste = gpd.GeoSeries(building_CUEC)\n",
    "teste.plot(ax=ax) \n",
    "\n",
    "# para ampliar area mudar param. de set_xlim e set_ylim\n",
    "minx, miny, maxx, maxy = mapa_normalizado.total_bounds\n",
    "ax.set_xlim(1500, 2600)\n",
    "ax.set_ylim(1400, 2200)"
   ]
  },
  {
   "cell_type": "code",
   "execution_count": null,
   "metadata": {},
   "outputs": [],
   "source": [
    "add_dataset_rows(mapa_normalizado, building_CUEC, 'CCUEC', 'university')"
   ]
  },
  {
   "cell_type": "code",
   "execution_count": null,
   "metadata": {},
   "outputs": [],
   "source": []
  },
  {
   "cell_type": "markdown",
   "metadata": {},
   "source": [
    "### CBMEG"
   ]
  },
  {
   "cell_type": "code",
   "execution_count": null,
   "metadata": {},
   "outputs": [],
   "source": [
    "# Prédio Ref: 537243162\n",
    "ref_id = 537243162\n",
    "ref_polygon = mapa_normalizado.query('osm_id ==' + str(ref_id))\n",
    "# get_polygon_coords(ref_polygon)"
   ]
  },
  {
   "cell_type": "code",
   "execution_count": null,
   "metadata": {},
   "outputs": [],
   "source": [
    "bounds_ref = list(ref_polygon.geometry.total_bounds)\n",
    "\n",
    "bounds_CBMEG = create_box_building(\"CBMEG\", bounds_ref, 60, 120, 75 , 98)\n",
    "bounds_CBMEG.boundary"
   ]
  },
  {
   "cell_type": "code",
   "execution_count": null,
   "metadata": {},
   "outputs": [],
   "source": [
    "compare_buildings(ref_polygon['geometry'].boundary, bounds_CBMEG)"
   ]
  },
  {
   "cell_type": "code",
   "execution_count": null,
   "metadata": {},
   "outputs": [],
   "source": [
    "calculate_distance(ref_id, bounds_CBMEG )"
   ]
  },
  {
   "cell_type": "code",
   "execution_count": null,
   "metadata": {},
   "outputs": [],
   "source": [
    "ax = mapa_normalizado['geometry'].plot(figsize=(12, 5))\n",
    "\n",
    "teste = gpd.GeoSeries(bounds_CBMEG)\n",
    "teste.plot(ax=ax) \n",
    "\n",
    "# # para ampliar area mudar param. de set_xlim e set_ylim\n",
    "minx, miny, maxx, maxy = mapa_normalizado.total_bounds\n",
    "ax.set_xlim(2000, 3000)\n",
    "ax.set_ylim(1400, 2200)"
   ]
  },
  {
   "cell_type": "code",
   "execution_count": null,
   "metadata": {},
   "outputs": [],
   "source": [
    "add_dataset_rows(mapa_normalizado, bounds_CBMEG, 'CBMEG', 'university')"
   ]
  },
  {
   "cell_type": "code",
   "execution_count": null,
   "metadata": {},
   "outputs": [],
   "source": []
  },
  {
   "cell_type": "markdown",
   "metadata": {},
   "source": [
    "### Ciclo Básico I"
   ]
  },
  {
   "cell_type": "code",
   "execution_count": null,
   "metadata": {},
   "outputs": [],
   "source": [
    "ref_id = 95011157\n",
    "ref_polygon = mapa_normalizado.query('osm_id ==' + str(ref_id))\n",
    "\n",
    "circle_up = create_circle_building(ref_polygon.centroid.x, ref_polygon.centroid.y - 40, 17.85)\n",
    "circle_down = create_circle_building(ref_polygon.centroid.x -10 , ref_polygon.centroid.y - 75, 17.85)\n",
    "circle_up"
   ]
  },
  {
   "cell_type": "code",
   "execution_count": null,
   "metadata": {},
   "outputs": [],
   "source": [
    "# circle_df = gpd.GeoDataFrame(columns=[\"geometry\"])\n",
    "# circle_df.loc[0, 'geometry'] = circle_up\n",
    "# get_polygon_coords(circle_df)"
   ]
  },
  {
   "cell_type": "code",
   "execution_count": null,
   "metadata": {},
   "outputs": [],
   "source": [
    "# -----PLOT DE MAPA NORMALIZADO E SHAPE DO MUSEU\n",
    "\n",
    "ax = mapa_normalizado['geometry'].plot(figsize=(12, 5))\n",
    "circle_df = gpd.GeoDataFrame(columns=[\"geometry\"])\n",
    "circle_df.loc[0, 'geometry'] = circle_up\n",
    "circle_df.loc[1, 'geometry'] = circle_down\n",
    "circle_df.plot(ax=ax, color=\"black\")\n",
    "\n",
    "# para ampliar area mudar param. de set_xlim e set_ylim\n",
    "minx, miny, maxx, maxy = mapa_normalizado.total_bounds\n",
    "ax.set_xlim(1675, 1775)\n",
    "ax.set_ylim(1750, 1875)"
   ]
  },
  {
   "cell_type": "code",
   "execution_count": null,
   "metadata": {},
   "outputs": [],
   "source": [
    "calculate_distance(ref_id, circle_up)"
   ]
  },
  {
   "cell_type": "code",
   "execution_count": null,
   "metadata": {},
   "outputs": [],
   "source": [
    "add_dataset_rows(mapa_normalizado, circle_up, 'CBI', 'university')"
   ]
  },
  {
   "cell_type": "code",
   "execution_count": null,
   "metadata": {},
   "outputs": [],
   "source": []
  },
  {
   "cell_type": "markdown",
   "metadata": {},
   "source": [
    "### SERGIO PORTO"
   ]
  },
  {
   "cell_type": "code",
   "execution_count": null,
   "metadata": {},
   "outputs": [],
   "source": [
    "# Prédio Ref: 537155703\n",
    "ref_id = 537155703\n",
    "ref_polygon = mapa_normalizado.query('osm_id ==' + str(ref_id))\n",
    "# get_polygon_coords(ref_polygon)"
   ]
  },
  {
   "cell_type": "code",
   "execution_count": null,
   "metadata": {},
   "outputs": [],
   "source": [
    "bounds_ref = list(ref_polygon.geometry.total_bounds)\n",
    "\n",
    "building_SP = create_box_building(\"SPorto\", bounds_ref, -160, -25, -100 , -30)\n",
    "building_SP.boundary"
   ]
  },
  {
   "cell_type": "code",
   "execution_count": null,
   "metadata": {},
   "outputs": [],
   "source": [
    "compare_buildings(ref_polygon['geometry'].boundary, building_SP)"
   ]
  },
  {
   "cell_type": "code",
   "execution_count": null,
   "metadata": {},
   "outputs": [],
   "source": [
    "calculate_distance(ref_id, building_SP )"
   ]
  },
  {
   "cell_type": "code",
   "execution_count": null,
   "metadata": {},
   "outputs": [],
   "source": [
    "ax = mapa_normalizado['geometry'].plot(figsize=(12, 5))\n",
    "\n",
    "teste = gpd.GeoSeries(building_SP)\n",
    "teste.plot(ax=ax) \n",
    "\n",
    "# # para ampliar area mudar param. de set_xlim e set_ylim\n",
    "minx, miny, maxx, maxy = mapa_normalizado.total_bounds\n",
    "ax.set_xlim(2000, 3000)\n",
    "ax.set_ylim(500, 1000)"
   ]
  },
  {
   "cell_type": "code",
   "execution_count": null,
   "metadata": {},
   "outputs": [],
   "source": [
    "add_dataset_rows(mapa_normalizado, building_SP, 'Sergio Porto', 'school')"
   ]
  },
  {
   "cell_type": "code",
   "execution_count": null,
   "metadata": {},
   "outputs": [],
   "source": []
  },
  {
   "cell_type": "markdown",
   "metadata": {},
   "source": [
    "### GGOBRAS"
   ]
  },
  {
   "cell_type": "code",
   "execution_count": null,
   "metadata": {},
   "outputs": [],
   "source": [
    "# Prédio Ref: 554951137\n",
    "ref_id = 554951137\n",
    "ref_polygon = mapa_normalizado.query('osm_id ==' + str(ref_id))\n",
    "# get_polygon_coords(ref_polygon)"
   ]
  },
  {
   "cell_type": "code",
   "execution_count": null,
   "metadata": {},
   "outputs": [],
   "source": [
    "bounds_ref = list(ref_polygon.geometry.total_bounds)\n",
    "\n",
    "building_GGO = create_box_building(\"GGO\", bounds_ref, 75, -20, 85 , -20)\n",
    "building_GGO.boundary"
   ]
  },
  {
   "cell_type": "code",
   "execution_count": null,
   "metadata": {},
   "outputs": [],
   "source": [
    "compare_buildings(ref_polygon['geometry'].boundary, building_GGO)"
   ]
  },
  {
   "cell_type": "code",
   "execution_count": null,
   "metadata": {},
   "outputs": [],
   "source": [
    "calculate_distance(ref_id, building_GGO )"
   ]
  },
  {
   "cell_type": "code",
   "execution_count": null,
   "metadata": {},
   "outputs": [],
   "source": [
    "ax = mapa_normalizado['geometry'].plot(figsize=(12, 5))\n",
    "\n",
    "teste = gpd.GeoSeries(building_GGO)\n",
    "teste.plot(ax=ax) \n",
    "\n",
    "# # para ampliar area mudar param. de set_xlim e set_ylim\n",
    "minx, miny, maxx, maxy = mapa_normalizado.total_bounds\n",
    "ax.set_xlim(1500, 2400)\n",
    "ax.set_ylim(1000, 1500)"
   ]
  },
  {
   "cell_type": "code",
   "execution_count": null,
   "metadata": {},
   "outputs": [],
   "source": [
    "add_dataset_rows(mapa_normalizado, building_GGO, 'GGO', 'university')"
   ]
  },
  {
   "cell_type": "code",
   "execution_count": null,
   "metadata": {},
   "outputs": [],
   "source": []
  },
  {
   "cell_type": "code",
   "execution_count": null,
   "metadata": {},
   "outputs": [],
   "source": []
  },
  {
   "cell_type": "markdown",
   "metadata": {},
   "source": [
    "## Cria e ADD Pontos não encontrados"
   ]
  },
  {
   "cell_type": "markdown",
   "metadata": {},
   "source": [
    "### IG (parte inferior) e EB"
   ]
  },
  {
   "cell_type": "code",
   "execution_count": null,
   "metadata": {},
   "outputs": [],
   "source": [
    "# Tratamento para que prédio do IG e EB não tenham o mesmo centroid do prédio com o ID 554951142\n",
    "\n",
    "ref_id = 554951142\n",
    "point_IG = mapa_normalizado.query('osm_id ==' + str(ref_id))\n",
    "print(point_IG['geometry'].centroid)\n",
    "\n",
    "# Get Polygon value\n",
    "# get_polygon_coords(point_IG)"
   ]
  },
  {
   "cell_type": "code",
   "execution_count": null,
   "metadata": {},
   "outputs": [],
   "source": [
    "# Reposicionando posicionamento do IG e EB (ao inves de centroid do prédio)\n",
    "pt_IG = Point(2110, 1110)\n",
    "pt_EB = Point(2060, 1210)\n",
    "\n",
    "# Plot de paradas de ÔNIBUS\n",
    "pt_IG_df = gpd.GeoDataFrame(columns=[\"geometry\"],  crs='EPSG:31983')\n",
    "pt_IG_df.loc[0, 'geometry'] = pt_IG\n",
    "pt_IG_df.loc[1, 'geometry'] = Point (2089.558, 1166.068) # point_IG['geometry'].centroid\n",
    "pt_IG_df.loc[2, 'geometry'] = pt_EB\n",
    "\n",
    "ax = mapa_normalizado['geometry'].plot(figsize=(12, 5))\n",
    "pt_IG_df.plot(ax=ax, color=\"black\")\n",
    "\n",
    "# para ampliar area mudar param. de set_xlim e set_ylim\n",
    "minx, miny, maxx, maxy = mapa_normalizado.total_bounds\n",
    "ax.set_xlim(1500, 3000)\n",
    "ax.set_ylim(1000, 1500)"
   ]
  },
  {
   "cell_type": "markdown",
   "metadata": {},
   "source": [
    "### Paradas de Ônibus"
   ]
  },
  {
   "cell_type": "code",
   "execution_count": null,
   "metadata": {},
   "outputs": [],
   "source": [
    "# Coordenadas obtidas pelo notebook \"Mapa dinâmico\"\n",
    "# Google Maps ajuda nessa parte tb\n",
    "\n",
    "parada_RM = Point(-47.0677, -22.8242) \n",
    "parada_AL = Point(-47.0629, -22.8319) \n",
    "parada_VB = Point(-47.0628, -22.8275)\n",
    "\n",
    "# Convertendo Coordenadas em Degree para metros (31983)\n",
    "pontos_onibus_df = gpd.GeoDataFrame(columns=[\"geometry\"],  crs='EPSG:4326')\n",
    "pontos_onibus_df.loc[0, 'geometry'] = parada_RM\n",
    "pontos_onibus_df.loc[1, 'geometry'] = parada_AL\n",
    "pontos_onibus_df.loc[2, 'geometry'] = parada_VB\n",
    "pontos_onibus_df = pontos_onibus_df.to_crs('EPSG:31983')\n",
    "# pontos_onibus_df.crs\n",
    "pontos_onibus_df"
   ]
  },
  {
   "cell_type": "code",
   "execution_count": null,
   "metadata": {},
   "outputs": [],
   "source": [
    "# PONTOS no CRS EPSG:31983\n",
    "parada_RM = Point(pontos_onibus_df['geometry'][0])\n",
    "parada_AL = Point(pontos_onibus_df['geometry'][1])\n",
    "parada_VB = Point(pontos_onibus_df['geometry'][2])\n",
    "\n",
    "print(parada_RM)\n",
    "print(parada_AL)\n",
    "print(parada_VB)"
   ]
  },
  {
   "cell_type": "code",
   "execution_count": null,
   "metadata": {},
   "outputs": [],
   "source": [
    "# NORMALIZAÇÃO DE PONTOS \n",
    "\n",
    "points = [parada_RM, parada_AL, parada_VB]\n",
    "norm_points = []\n",
    "\n",
    "# convert to 2D array \n",
    "x = np.array(all_coords_x).reshape(-1, 1) # reshape -> 2D array\n",
    "y = np.array(all_coords_y).reshape(-1, 1)\n",
    "\n",
    "for coords in points:\n",
    "    # convert to 2D array\n",
    "    x_coords = np.array([coords.x]).reshape(-1, 1)\n",
    "    y_coords = np.array([coords.y]).reshape(-1, 1)\n",
    "\n",
    "    # define limits of normalization\n",
    "    scaler_x = MinMaxScaler(feature_range = (0, unicamp_maxx - unicamp_minx))\n",
    "    scaler_y = MinMaxScaler(feature_range = (0, unicamp_maxy - unicamp_miny))\n",
    "\n",
    "    # normalize with all all geometry coords x \n",
    "    scaler_x.fit(x)\n",
    "    transform_x = scaler_x.transform(x_coords)\n",
    "\n",
    "    # normalize with all all geometry coords y\n",
    "    scaler_y.fit(y)\n",
    "    transform_y = scaler_y.transform(y_coords)\n",
    "\n",
    "    print(transform_x, transform_y)\n",
    "    norm_points.append(Point(transform_x, transform_y))\n",
    "\n",
    "print(norm_points[0])"
   ]
  },
  {
   "cell_type": "code",
   "execution_count": null,
   "metadata": {},
   "outputs": [],
   "source": [
    "# p/ Plotar paradas de ÔNIBUS\n",
    "pontos_onibus_norm_df = gpd.GeoDataFrame(columns=[\"geometry\"],  crs='EPSG:31983')\n",
    "pontos_onibus_norm_df.loc[0, 'geometry'] = norm_points[0]\n",
    "pontos_onibus_norm_df.loc[1, 'geometry'] = norm_points[1]\n",
    "pontos_onibus_norm_df.loc[2, 'geometry'] = norm_points[2]\n",
    "\n",
    "pontos_onibus_norm_df"
   ]
  },
  {
   "cell_type": "code",
   "execution_count": null,
   "metadata": {},
   "outputs": [],
   "source": [
    "# Plot de paradas de ÔNIBUS\n",
    "ax = mapa_normalizado['geometry'].plot(figsize=(12, 5))\n",
    "pontos_onibus_norm_df.plot(ax=ax, color=\"black\")"
   ]
  },
  {
   "cell_type": "code",
   "execution_count": null,
   "metadata": {
    "scrolled": true
   },
   "outputs": [],
   "source": [
    "a =  mapa_normalizado.iloc[mapa_normalizado.shape[0]-10: mapa_normalizado.shape[0]]\n",
    "a"
   ]
  },
  {
   "cell_type": "code",
   "execution_count": null,
   "metadata": {},
   "outputs": [],
   "source": []
  },
  {
   "cell_type": "code",
   "execution_count": null,
   "metadata": {},
   "outputs": [],
   "source": []
  },
  {
   "cell_type": "markdown",
   "metadata": {},
   "source": [
    "# Criação de dataset dos Prédios da Unicamp\n",
    "\n",
    "- Create a xml file with Unicamp Building shapes & height\n",
    "- The outuput xml file will serve as input of NS3"
   ]
  },
  {
   "cell_type": "code",
   "execution_count": null,
   "metadata": {},
   "outputs": [],
   "source": [
    "# estudando e tratando a string Polygon\n",
    "polygon_str = str(mapa_normalizado['geometry'][0])\n",
    "polygon_coords = polygon_str[polygon_str.find(\"(\") + 2:]\n",
    "polygon_coords = polygon_coords[ : polygon_coords.find(\")\")]\n",
    "polygon_coords"
   ]
  },
  {
   "cell_type": "code",
   "execution_count": null,
   "metadata": {},
   "outputs": [],
   "source": [
    "# Criando xml dataset\n",
    "from xml.dom import minidom\n",
    "import os \n",
    "  \n",
    "root = minidom.Document()\n",
    "  \n",
    "xml = root.createElement('additional') \n",
    "xml.setAttribute('xmlns:xsi','http://www.w3.org/2001/XMLSchema-instance')\n",
    "xml.setAttribute('xsi:noNamespaceSchemaLocation','http://sumo.dlr.de/xsd/additional_file.xsd')\n",
    "root.appendChild(xml)\n",
    "\n",
    "for i in range(len(mapa_normalizado['geometry'])):   \n",
    "    \n",
    "    polygon_str = str(mapa_normalizado['geometry'][i])\n",
    "    polygon_coords = polygon_str[polygon_str.find(\"(\") + 2:]\n",
    "    polygon_coords = polygon_coords[ : polygon_coords.find(\")\")]\n",
    "    \n",
    "    productChild = root.createElement('poly')\n",
    "    productChild.setAttribute('id', str(mapa_normalizado['osm_id'][i]))\n",
    "    productChild.setAttribute('type', str(mapa_normalizado['type'][i]))\n",
    "    productChild.setAttribute('color', '255.0,230.0,230.0')\n",
    "    productChild.setAttribute('layer', '-1.0')\n",
    "    productChild.setAttribute('fill', '1')\n",
    "    productChild.setAttribute('height', '6.1')\n",
    "    productChild.setAttribute('shape', polygon_coords)\n",
    "  \n",
    "    xml.appendChild(productChild)\n",
    "  \n",
    "xml_str = root.toprettyxml(indent =\"\\t\") \n",
    "  \n",
    "save_path_file = \"predios_unicamp_dataset.xml\"\n",
    "  \n",
    "with open(save_path_file, \"w\") as f:\n",
    "    f.write(xml_str) \n"
   ]
  },
  {
   "cell_type": "code",
   "execution_count": null,
   "metadata": {},
   "outputs": [],
   "source": [
    "print(\"SHAPE:\", mapa_normalizado.shape)"
   ]
  },
  {
   "cell_type": "code",
   "execution_count": null,
   "metadata": {},
   "outputs": [],
   "source": []
  },
  {
   "cell_type": "code",
   "execution_count": null,
   "metadata": {},
   "outputs": [],
   "source": []
  },
  {
   "cell_type": "markdown",
   "metadata": {},
   "source": [
    "# Criação de dataset do posicionamento dos Coletores\n",
    "\n",
    "- Buscar e Mapear predios que contem coletores\n",
    "    - https://www.prefeitura.unicamp.br/2016/02/26/programa-de-coleta-de-pilhas-e-baterias-instalacao-de-coletores/\n",
    "    - https://unicamp-arcgis.maps.arcgis.com/apps/View/index.html?appid=1d96ada62af4451bb4972b9779d09e66\n",
    "\n",
    "- Rotular prédios sem nome\n",
    "    - Anotar centroids de prédios mapeados\n",
    "- Criar dataset de posicionamento de nós"
   ]
  },
  {
   "cell_type": "code",
   "execution_count": null,
   "metadata": {},
   "outputs": [],
   "source": []
  },
  {
   "cell_type": "markdown",
   "metadata": {},
   "source": [
    "## Rotular prédios sem nome"
   ]
  },
  {
   "cell_type": "code",
   "execution_count": null,
   "metadata": {},
   "outputs": [],
   "source": [
    "# Dataset de Prédios com coletores\n",
    "building_label = {\n",
    "    \"163762428\":\"INOVA\",\n",
    "    \"95463723\": \"BC\",\n",
    "    \"10000003\": \"CBMEG\",\n",
    "    \"554951142\": \"CCS\",\n",
    "    \"10000002\": \"CCUEC\",\n",
    "    \"556327645\": \"GASTROCENTRO\",\n",
    "    \"562047735\": \"CEPETRO\",\n",
    "    \"556327636\": \"HEMOCENTRO\",\n",
    "    \"556327686\": \"CEMEQ\",\n",
    "    \"10000004\": \"CBI\",\n",
    "    \"95011161\": \"CBII\",\n",
    "    \"95463720\": \"CDC\",\n",
    "    \"554951141\": \"DGA\",\n",
    "    \"362643631\": \"DGRH\",\n",
    "    \"537155702\": \"DEdIC\",\n",
    "    \"10000005\": \"Sergio porto\",\n",
    "    \"537142892\": \"FCM\",\n",
    "    \"96446654\": \"FEF\",\n",
    "    \"537142893\": \"FEnf\",\n",
    "    \"97592693\": \"FEAGRI\",\n",
    "    \"556327678\": \"FEC\",\n",
    "    \"554951120\": \"FEA\",\n",
    "    \"269851018\": \"FEEC\",\n",
    "    \"554951124\": \"FEM\",\n",
    "    \"554968138\": \"FEQ\",\n",
    "    \"556327623\": \"FUNCAMP\",\n",
    "    \"562047779\": \"GR\",\n",
    "    \"10000006\": \"GGO\", \n",
    "    \"538334949\": \"HC\",\n",
    "    \"537166697\": \"IA\",\n",
    "    \"95540601\": \"IB\",\n",
    "    \"95011169\": \"IC\",\n",
    "    \"556327698\": \"IEL\",\n",
    "    \"95463722\": \"IFCH\", \n",
    "    \"556327703\": \"IFGW\",\n",
    "    \"10000001\": \"IG-CIMA\", \n",
    "    \"95463724\": \"IMECC\",\n",
    "    \"96493946\": \"IQ\",\n",
    "    \"562047775\": \"PREFEITURA\",\n",
    "    \"269851019\": \"RA\",\n",
    "    \"270488633\": \"RS\",\n",
    "    \"95463718\": \"RU\",        \n",
    "} \n",
    "\n",
    "nodes_df = gpd.GeoDataFrame(columns=['osm_id', 'name', 'type', 'geometry', 'centroid'])\n",
    "\n",
    "# Labeling buildings\n",
    "aux = 0\n",
    "for key, value in building_label.items():\n",
    "    building = mapa_normalizado.query('osm_id ==' + str(key))\n",
    "    building_n = building.copy()\n",
    "    building_n.loc[building.index, 'name'] = value\n",
    "    nodes_df.loc[aux, ['osm_id']] = building_n['osm_id'].values   \n",
    "    nodes_df.loc[aux, ['name']] = building_n['name'].values    \n",
    "    nodes_df.loc[aux, ['type']] = building_n['type'].values\n",
    "    nodes_df.loc[aux, ['geometry']] = building_n['geometry'].values\n",
    "#     nodes_df.loc[aux, ['centroids']] = building_n['centroids'].values\n",
    "    \n",
    "    aux = aux + 1\n",
    "    \n",
    "nodes_df.head()\n",
    "# nodes_df.shape\n"
   ]
  },
  {
   "cell_type": "code",
   "execution_count": null,
   "metadata": {},
   "outputs": [],
   "source": [
    "nodes_df['centroid'] = nodes_df.centroid\n",
    "nodes_df.head()"
   ]
  },
  {
   "cell_type": "code",
   "execution_count": null,
   "metadata": {},
   "outputs": [],
   "source": [
    "ax = mapa_normalizado['geometry'].plot(figsize=(12, 5))\n",
    "\n",
    "# predios com coletores\n",
    "nodes_df['geometry'].plot(ax=ax, color=\"red\")"
   ]
  },
  {
   "cell_type": "markdown",
   "metadata": {},
   "source": [
    "## Criar dataset de posicionamento de nós"
   ]
  },
  {
   "cell_type": "code",
   "execution_count": null,
   "metadata": {},
   "outputs": [],
   "source": [
    "# GENERATE BUILDINGS CSV FILE\n",
    "\n",
    "#---- create a csv file\n",
    "def create_csv(title, colunms_names):\n",
    "    with open(title,\"w+\") as file:\n",
    "        writer = csv.writer(file, delimiter=\",\")\n",
    "        writer.writerow(colunms_names)\n",
    "\n",
    "\n",
    "#---- add row on csv file\n",
    "def add_csv_rows(ns3_settings, colunms_names, title):\n",
    "    for colunm in ns3_settings:\n",
    "        if len(colunm) == len(colunms_names):\n",
    "            with open(title,\"a\") as file:\n",
    "                writer = csv.writer(file, delimiter=\",\")\n",
    "                writer.writerow([x for x in colunm])\n"
   ]
  },
  {
   "cell_type": "code",
   "execution_count": null,
   "metadata": {},
   "outputs": [],
   "source": [
    "colunms_names  = ['osm_id', 'name', 'type', 'x', 'y', 'z']\n",
    "\n",
    "nodes_pos = []\n",
    "for i in range(len(nodes_df.geometry)):\n",
    "    # tratando a string Point\n",
    "    point_str = str(nodes_df['centroid'][i])\n",
    "    point_coords = point_str[point_str.find(\"(\") + 1:]\n",
    "    point_coords = point_coords[ : point_coords.find(\")\")]\n",
    "    x = point_coords.split()[0]\n",
    "    y = point_coords.split()[1]\n",
    "    z = 1.5\n",
    "\n",
    "    items_per_row = [nodes_df.loc[i]['osm_id'],\n",
    "              nodes_df.loc[i]['name'],\n",
    "              nodes_df.loc[i]['type'],\n",
    "              x, y, z]\n",
    "    \n",
    "    nodes_pos.append(items_per_row)\n",
    "\n",
    "output_filename = 'coletores_pos_dataset.csv'\n",
    "create_csv(output_filename, colunms_names)\n",
    "add_csv_rows(nodes_pos, colunms_names, output_filename)"
   ]
  },
  {
   "cell_type": "code",
   "execution_count": null,
   "metadata": {},
   "outputs": [],
   "source": [
    "node_pos_df = pd.read_csv(\"coletores_pos_dataset.csv\") \n",
    "\n",
    "print(\"DATASET SHAPE:\", node_pos_df.shape)\n",
    "node_pos_df.head()"
   ]
  },
  {
   "cell_type": "markdown",
   "metadata": {},
   "source": [
    "## ADD pontos não encontrados"
   ]
  },
  {
   "cell_type": "code",
   "execution_count": null,
   "metadata": {},
   "outputs": [],
   "source": [
    "# ADD pontos\n",
    "add_node_dataset_rows(node_pos_df, \"IG-baixo\", \"university\", pt_IG)\n",
    "add_node_dataset_rows(node_pos_df, \"EB\", \"university\", pt_EB)\n",
    "add_node_dataset_rows(node_pos_df, \"PO-RM\", \"stop_bus\", norm_points[0]) # parada_RM\n",
    "add_node_dataset_rows(node_pos_df, \"PO-AL\", \"stop_bus\", norm_points[1]) # parada_AL\n",
    "add_node_dataset_rows(node_pos_df, \"PO-VB\", \"stop_bus\", norm_points[2]) # parada_VB"
   ]
  },
  {
   "cell_type": "code",
   "execution_count": null,
   "metadata": {},
   "outputs": [],
   "source": [
    "view = node_pos_df.iloc[node_pos_df.shape[0]-10:node_pos_df.shape[0]]\n",
    "view"
   ]
  },
  {
   "cell_type": "code",
   "execution_count": null,
   "metadata": {},
   "outputs": [],
   "source": [
    "ax = mapa_normalizado['geometry'].plot(figsize=(15, 7))\n",
    "\n",
    "# centroids\n",
    "nodes_df[\"centroid\"].plot(ax=ax, color=\"black\")"
   ]
  },
  {
   "cell_type": "code",
   "execution_count": null,
   "metadata": {},
   "outputs": [],
   "source": []
  },
  {
   "cell_type": "markdown",
   "metadata": {},
   "source": [
    "\n",
    "# Salvando Mapa de prédios da Unicamp Normalizado (shapefile)"
   ]
  },
  {
   "cell_type": "code",
   "execution_count": null,
   "metadata": {},
   "outputs": [],
   "source": [
    "# verificando se foi atribuindo um CRS anteriormente\n",
    "mapa_normalizado.crs is None"
   ]
  },
  {
   "cell_type": "code",
   "execution_count": null,
   "metadata": {},
   "outputs": [],
   "source": [
    "# atribuindo um CRS\n",
    "mapa_normalizado = mapa_normalizado.set_crs('epsg:31983')\n",
    "mapa_normalizado.crs  "
   ]
  },
  {
   "cell_type": "code",
   "execution_count": null,
   "metadata": {},
   "outputs": [],
   "source": [
    "# SALVANDO MAPA NORMALIZADO DE PRÉDIOS no formato Shapefile\n",
    "mapa_normalizado.to_file('mapa_predios_unicamp_normalizado')\n",
    "\n",
    "# Testando abrir arquivo salvo\n",
    "unicamp_gdf = gpd.read_file('mapa_predios_unicamp_normalizado')"
   ]
  },
  {
   "cell_type": "code",
   "execution_count": null,
   "metadata": {},
   "outputs": [],
   "source": [
    "ax = unicamp_gdf['geometry'].plot(figsize=(15, 7), color='purple')"
   ]
  },
  {
   "cell_type": "code",
   "execution_count": null,
   "metadata": {},
   "outputs": [],
   "source": []
  },
  {
   "cell_type": "markdown",
   "metadata": {},
   "source": [
    "# Dataset de Nós - Experimentos Reais"
   ]
  },
  {
   "cell_type": "code",
   "execution_count": 15,
   "metadata": {},
   "outputs": [],
   "source": [
    "#---- EXTRACT LAT, LNG and RSSI VALUES FROM txt dataset\n",
    "\n",
    "# The dataset used here is available on: https://github.com/helderbetiol/LoRaWAN-IC2019\n",
    "def get_txt_values(filename):\n",
    "    \n",
    "    # list of all rows of buildings_settings\n",
    "    file_rows = []\n",
    "\n",
    "    # open file in a read mode\n",
    "    file = open(filename, 'r')\n",
    "\n",
    "    for line in file.readlines():\n",
    "        \n",
    "        # create a str without \\n and \",\"\n",
    "        line_str = line.strip().split(\"\\t\")  \n",
    "        file_rows.append(line_str)\n",
    "    \n",
    "    # remove colunm names\n",
    "    file_rows.pop(0)\n",
    "    \n",
    "    return file_rows"
   ]
  },
  {
   "cell_type": "code",
   "execution_count": 16,
   "metadata": {},
   "outputs": [],
   "source": [
    "# Apontando para o path do dataset de RSSI\n",
    "current_path = os.getcwd()\n",
    "map_dataset_path = current_path[:current_path.find('obstacle_exp')]\n",
    "\n",
    "# print(current_path)\n",
    "# print(map_dataset_path)\n",
    "dataset_path = \"datasets/exp-reais-dataset/table-rssi-2805\"\n",
    "txt_rows = get_txt_values(map_dataset_path + dataset_path)\n",
    "# txt_rows"
   ]
  },
  {
   "cell_type": "code",
   "execution_count": 17,
   "metadata": {},
   "outputs": [],
   "source": [
    "# Coordenadas obtidas pelo notebook \"Mapa dinâmico\"\n",
    "points_list = []\n",
    "\n",
    "for row in txt_rows:\n",
    "    lat = float(row[1])\n",
    "    lng = float(row[0])\n",
    "    points_list.append(Point(lat, lng))"
   ]
  },
  {
   "cell_type": "code",
   "execution_count": 18,
   "metadata": {},
   "outputs": [
    {
     "name": "stdout",
     "output_type": "stream",
     "text": [
      "CRS:\t EPSG:31983\n",
      "SHAPE: (246, 1)\n"
     ]
    },
    {
     "data": {
      "text/html": [
       "<div>\n",
       "<style scoped>\n",
       "    .dataframe tbody tr th:only-of-type {\n",
       "        vertical-align: middle;\n",
       "    }\n",
       "\n",
       "    .dataframe tbody tr th {\n",
       "        vertical-align: top;\n",
       "    }\n",
       "\n",
       "    .dataframe thead th {\n",
       "        text-align: right;\n",
       "    }\n",
       "</style>\n",
       "<table border=\"1\" class=\"dataframe\">\n",
       "  <thead>\n",
       "    <tr style=\"text-align: right;\">\n",
       "      <th></th>\n",
       "      <th>geometry</th>\n",
       "    </tr>\n",
       "  </thead>\n",
       "  <tbody>\n",
       "    <tr>\n",
       "      <th>0</th>\n",
       "      <td>POINT (288841.227 7475534.181)</td>\n",
       "    </tr>\n",
       "    <tr>\n",
       "      <th>1</th>\n",
       "      <td>POINT (288841.227 7475534.181)</td>\n",
       "    </tr>\n",
       "    <tr>\n",
       "      <th>2</th>\n",
       "      <td>POINT (288801.286 7475533.847)</td>\n",
       "    </tr>\n",
       "    <tr>\n",
       "      <th>3</th>\n",
       "      <td>POINT (288749.059 7475538.325)</td>\n",
       "    </tr>\n",
       "    <tr>\n",
       "      <th>4</th>\n",
       "      <td>POINT (288699.161 7475552.473)</td>\n",
       "    </tr>\n",
       "  </tbody>\n",
       "</table>\n",
       "</div>"
      ],
      "text/plain": [
       "                         geometry\n",
       "0  POINT (288841.227 7475534.181)\n",
       "1  POINT (288841.227 7475534.181)\n",
       "2  POINT (288801.286 7475533.847)\n",
       "3  POINT (288749.059 7475538.325)\n",
       "4  POINT (288699.161 7475552.473)"
      ]
     },
     "execution_count": 18,
     "metadata": {},
     "output_type": "execute_result"
    }
   ],
   "source": [
    "# Convertendo Coordenadas em Degree para metros (31983)\n",
    "pontos_rssi_df = gpd.GeoDataFrame(columns=[\"geometry\"],  crs='EPSG:4326')\n",
    "for index in range(len(points_list)):\n",
    "    pontos_rssi_df.loc[index, 'geometry'] = points_list[index]\n",
    "    \n",
    "\n",
    "# PONTOS no CRS EPSG:31983\n",
    "pontos_rssi_df = pontos_rssi_df.to_crs('EPSG:31983')\n",
    "    \n",
    "    \n",
    "print(\"CRS:\\t\", pontos_rssi_df.crs)\n",
    "print(\"SHAPE:\", pontos_rssi_df.shape)\n",
    "pontos_rssi_df.head()"
   ]
  },
  {
   "cell_type": "code",
   "execution_count": 19,
   "metadata": {},
   "outputs": [
    {
     "name": "stdout",
     "output_type": "stream",
     "text": [
      "POINT (2880.508009597717 2146.909212840721)\n"
     ]
    }
   ],
   "source": [
    "# NORMALIZAÇÃO DE PONTOS \n",
    "\n",
    "points_list_meters = []\n",
    "for i in range(len(pontos_rssi_df['geometry'])):\n",
    "    points_list_meters.append(pontos_rssi_df['geometry'][i])\n",
    "    \n",
    "norm_points = []\n",
    "\n",
    "# convert to 2D array \n",
    "x = np.array(all_coords_x).reshape(-1, 1) # reshape -> 2D array\n",
    "y = np.array(all_coords_y).reshape(-1, 1)\n",
    "\n",
    "for coords in points_list_meters:\n",
    "    # convert to 2D array\n",
    "    x_coords = np.array([coords.x]).reshape(-1, 1)\n",
    "    y_coords = np.array([coords.y]).reshape(-1, 1)\n",
    "\n",
    "    # define limits of normalization\n",
    "    scaler_x = MinMaxScaler(feature_range = (0, unicamp_maxx - unicamp_minx))\n",
    "    scaler_y = MinMaxScaler(feature_range = (0, unicamp_maxy - unicamp_miny))\n",
    "\n",
    "    # normalize with all all geometry coords x \n",
    "    scaler_x.fit(x)\n",
    "    transform_x = scaler_x.transform(x_coords)\n",
    "\n",
    "    # normalize with all all geometry coords y\n",
    "    scaler_y.fit(y)\n",
    "    transform_y = scaler_y.transform(y_coords)\n",
    "\n",
    "#     print(transform_x, transform_y)\n",
    "    norm_points.append(Point(transform_x, transform_y))\n",
    "\n",
    "print(norm_points[0])"
   ]
  },
  {
   "cell_type": "code",
   "execution_count": 20,
   "metadata": {},
   "outputs": [
    {
     "data": {
      "text/html": [
       "<div>\n",
       "<style scoped>\n",
       "    .dataframe tbody tr th:only-of-type {\n",
       "        vertical-align: middle;\n",
       "    }\n",
       "\n",
       "    .dataframe tbody tr th {\n",
       "        vertical-align: top;\n",
       "    }\n",
       "\n",
       "    .dataframe thead th {\n",
       "        text-align: right;\n",
       "    }\n",
       "</style>\n",
       "<table border=\"1\" class=\"dataframe\">\n",
       "  <thead>\n",
       "    <tr style=\"text-align: right;\">\n",
       "      <th></th>\n",
       "      <th>geometry</th>\n",
       "      <th>rssi</th>\n",
       "    </tr>\n",
       "  </thead>\n",
       "  <tbody>\n",
       "    <tr>\n",
       "      <th>0</th>\n",
       "      <td>POINT (2880.508 2146.909)</td>\n",
       "      <td>-95</td>\n",
       "    </tr>\n",
       "    <tr>\n",
       "      <th>1</th>\n",
       "      <td>POINT (2880.508 2146.909)</td>\n",
       "      <td>-96</td>\n",
       "    </tr>\n",
       "    <tr>\n",
       "      <th>2</th>\n",
       "      <td>POINT (2840.567 2146.574)</td>\n",
       "      <td>-94</td>\n",
       "    </tr>\n",
       "    <tr>\n",
       "      <th>3</th>\n",
       "      <td>POINT (2788.340 2151.053)</td>\n",
       "      <td>-103</td>\n",
       "    </tr>\n",
       "    <tr>\n",
       "      <th>4</th>\n",
       "      <td>POINT (2738.442 2165.200)</td>\n",
       "      <td>-103</td>\n",
       "    </tr>\n",
       "  </tbody>\n",
       "</table>\n",
       "</div>"
      ],
      "text/plain": [
       "                    geometry  rssi\n",
       "0  POINT (2880.508 2146.909)   -95\n",
       "1  POINT (2880.508 2146.909)   -96\n",
       "2  POINT (2840.567 2146.574)   -94\n",
       "3  POINT (2788.340 2151.053)  -103\n",
       "4  POINT (2738.442 2165.200)  -103"
      ]
     },
     "execution_count": 20,
     "metadata": {},
     "output_type": "execute_result"
    }
   ],
   "source": [
    "# p/ Plotar pontos RSSI\n",
    "pontos_rssi_norm_df = gpd.GeoDataFrame(columns=[\"geometry\", \"rssi\"],  crs='EPSG:31983')\n",
    "\n",
    "for index in range(len(norm_points)):\n",
    "    pontos_rssi_norm_df.loc[index, 'geometry'] = norm_points[index]\n",
    "    pontos_rssi_norm_df.loc[index, 'rssi'] = txt_rows[index][2]\n",
    "\n",
    "pontos_rssi_norm_df.head()"
   ]
  },
  {
   "cell_type": "code",
   "execution_count": 21,
   "metadata": {},
   "outputs": [
    {
     "data": {
      "text/plain": [
       "<AxesSubplot:>"
      ]
     },
     "execution_count": 21,
     "metadata": {},
     "output_type": "execute_result"
    },
    {
     "data": {
      "image/png": "[encoded data removed]",
      "text/plain": [
       "<Figure size 1080x504 with 1 Axes>"
      ]
     },
     "metadata": {
      "needs_background": "light"
     },
     "output_type": "display_data"
    }
   ],
   "source": [
    "# visualização de pontos normalizados\n",
    "\n",
    "ax = mapa_normalizado['geometry'].plot(figsize=(15, 7))\n",
    "\n",
    "# pontos_rssi_norm_df.plot(ax =ax, color= 'red', alpha=0.5, linewidth=0.5, edgecolor='k')\n",
    "pontos_rssi_norm_df.plot(ax =ax, color= 'red', alpha=0.5, linewidth=1, markersize =5)"
   ]
  },
  {
   "cell_type": "code",
   "execution_count": null,
   "metadata": {},
   "outputs": [],
   "source": [
    "pontos_rssi_norm_df.head()"
   ]
  },
  {
   "cell_type": "code",
   "execution_count": 22,
   "metadata": {},
   "outputs": [
    {
     "ename": "NameError",
     "evalue": "name 'create_csv' is not defined",
     "output_type": "error",
     "traceback": [
      "\u001b[0;31m---------------------------------------------------------------------------\u001b[0m",
      "\u001b[0;31mNameError\u001b[0m                                 Traceback (most recent call last)",
      "\u001b[0;32m<ipython-input-22-559318779e83>\u001b[0m in \u001b[0;36m<module>\u001b[0;34m\u001b[0m\n\u001b[1;32m     23\u001b[0m \u001b[0;34m\u001b[0m\u001b[0m\n\u001b[1;32m     24\u001b[0m \u001b[0moutput_filename\u001b[0m \u001b[0;34m=\u001b[0m \u001b[0;34m'rssi_pos_dataset.csv'\u001b[0m\u001b[0;34m\u001b[0m\u001b[0;34m\u001b[0m\u001b[0m\n\u001b[0;32m---> 25\u001b[0;31m \u001b[0mcreate_csv\u001b[0m\u001b[0;34m(\u001b[0m\u001b[0moutput_filename\u001b[0m\u001b[0;34m,\u001b[0m \u001b[0mcolunms_names\u001b[0m\u001b[0;34m)\u001b[0m\u001b[0;34m\u001b[0m\u001b[0;34m\u001b[0m\u001b[0m\n\u001b[0m\u001b[1;32m     26\u001b[0m \u001b[0madd_csv_rows\u001b[0m\u001b[0;34m(\u001b[0m\u001b[0mnodes_pos\u001b[0m\u001b[0;34m,\u001b[0m \u001b[0mcolunms_names\u001b[0m\u001b[0;34m,\u001b[0m \u001b[0moutput_filename\u001b[0m\u001b[0;34m)\u001b[0m\u001b[0;34m\u001b[0m\u001b[0;34m\u001b[0m\u001b[0m\n",
      "\u001b[0;31mNameError\u001b[0m: name 'create_csv' is not defined"
     ]
    }
   ],
   "source": [
    "# Criar csv\n",
    "\n",
    "colunms_names  = ['rssi', 'x', 'y', 'z']\n",
    "\n",
    "nodes_pos = []\n",
    "for i in range(len(pontos_rssi_norm_df.geometry)):\n",
    "    # tratando a string Point\n",
    "    point_str = str(pontos_rssi_norm_df['geometry'][i])\n",
    "    point_coords = point_str[point_str.find(\"(\") + 1:]\n",
    "    point_coords = point_coords[ : point_coords.find(\")\")]\n",
    "    x = point_coords.split()[0]\n",
    "    y = point_coords.split()[1]\n",
    "    z = 1.5\n",
    "\n",
    "    items_per_row = [\n",
    "        pontos_rssi_norm_df.loc[i]['rssi'],\n",
    "        x,\n",
    "        y,\n",
    "        z\n",
    "    ]\n",
    "    \n",
    "    nodes_pos.append(items_per_row)\n",
    "\n",
    "output_filename = 'rssi_pos_dataset.csv'\n",
    "create_csv(output_filename, colunms_names)\n",
    "add_csv_rows(nodes_pos, colunms_names, output_filename)"
   ]
  },
  {
   "cell_type": "code",
   "execution_count": null,
   "metadata": {},
   "outputs": [],
   "source": [
    "# visualizando dataset criado\n",
    "rssi_node_pos_df = pd.read_csv('rssi_pos_dataset.csv') \n",
    "\n",
    "print(\"DATASET SHAPE:\", rssi_node_pos_df.shape)\n",
    "rssi_node_pos_df.head()"
   ]
  },
  {
   "cell_type": "code",
   "execution_count": null,
   "metadata": {},
   "outputs": [],
   "source": []
  },
  {
   "cell_type": "code",
   "execution_count": null,
   "metadata": {},
   "outputs": [],
   "source": []
  },
  {
   "cell_type": "markdown",
   "metadata": {},
   "source": [
    "## Criar dataset de Mobilidade para a classe **ns3::NS2MobilityHelper** (tcl)"
   ]
  },
  {
   "cell_type": "code",
   "execution_count": 27,
   "metadata": {},
   "outputs": [],
   "source": [
    "tcl_file = \"mobilidade_helder_rssi.tcl\"\n",
    "\n",
    "speed    = 6.39  # m/s - velocidade yellow patinete\n",
    "# speed    = 0.0  # m/s \n",
    "delta_T  = 5.0 # seg\n",
    "time_sec = 0.0\n",
    "\n",
    "with open(tcl_file, \"w\") as f:\n",
    "    for i in range(len(pontos_rssi_norm_df.geometry)):\n",
    "        # tratando a string Point\n",
    "        point_str = str(pontos_rssi_norm_df['geometry'][i])\n",
    "        point_coords = point_str[point_str.find(\"(\") + 1:]\n",
    "        point_coords = point_coords[ : point_coords.find(\")\")]\n",
    "        x = point_coords.split()[0]\n",
    "        y = point_coords.split()[1]\n",
    "        z = str(1.5)\n",
    "        \n",
    "        if i == 0:\n",
    "            f.write(\"$node_(0) set X_ \" + x + \"\\n\")\n",
    "            f.write(\"$node_(0) set Y_ \" + y + \"\\n\")\n",
    "            f.write(\"$node_(0) set Z_ \" + z + \"\\n\")\n",
    "\n",
    "        time_sec = (time_sec + delta_T) if i != 0 else time_sec\n",
    "        f.write(\"$ns_ at \" + str(time_sec) + \" \\\"$node_(0) setdest \" + x + \" \"+ y + \" \" + str(speed) + \"\\\"\\n\" ) "
   ]
  },
  {
   "cell_type": "code",
   "execution_count": null,
   "metadata": {},
   "outputs": [],
   "source": []
  }
 ],
 "metadata": {
  "kernelspec": {
   "display_name": "Python 3",
   "language": "python",
   "name": "python3"
  },
  "language_info": {
   "codemirror_mode": {
    "name": "ipython",
    "version": 3
   },
   "file_extension": ".py",
   "mimetype": "text/x-python",
   "name": "python",
   "nbconvert_exporter": "python",
   "pygments_lexer": "ipython3",
   "version": "3.8.3"
  }
 },
 "nbformat": 4,
 "nbformat_minor": 4
}
