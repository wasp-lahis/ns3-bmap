{
 "cells": [
  {
   "cell_type": "code",
   "execution_count": 1,
   "metadata": {},
   "outputs": [],
   "source": [
    "# ----- LIBS\n",
    "\n",
    "import os\n",
    "import math\n",
    "import numpy as np\n",
    "import pandas as pd\n",
    "import matplotlib.pyplot as plt"
   ]
  },
  {
   "cell_type": "code",
   "execution_count": 2,
   "metadata": {},
   "outputs": [],
   "source": [
    "# Apontando para o path do dataset da Unicamp\n",
    "import os\n",
    "\n",
    "current_path = os.getcwd()\n",
    "# print(current_path)\n",
    "\n",
    "log_path_folder = \"/log_model/\"\n",
    "log_obst_path_folder = \"/log_obstacle_model/\"\n",
    "okumura_path_folder = \"/okumura_model/\"\n",
    "\n",
    "rssi_results_file = \"rssi_results_C2T1.txt\"\n",
    "per_results_file  = \"PER_results_C2T1.txt\""
   ]
  },
  {
   "cell_type": "code",
   "execution_count": 3,
   "metadata": {},
   "outputs": [],
   "source": [
    "# # ----- NETWORK DATASET\n",
    "\n",
    "# path = current_path + log_path_folder + rssi_results_file\n",
    "# rssi_df = pd.read_csv(path, header=None) \n",
    "# rssi_df.columns = [\"gwId\", \"nodeId\", \"RSSI_Sim\", \"RSSI_Real\", \"distance_between\"]\n",
    "\n",
    "# print(\"SHAPE:\", rssi_df.shape)\n",
    "# rssi_df.head(3)"
   ]
  },
  {
   "cell_type": "code",
   "execution_count": 4,
   "metadata": {},
   "outputs": [],
   "source": [
    "# aux1 = rssi_df.iloc[0:246][\"RSSI_Sim\"][0]\n",
    "# aux2 = rssi_df.iloc[246:246*2][\"RSSI_Sim\"][246]\n",
    "# aux3 = rssi_df.iloc[246*2:246*3][\"RSSI_Sim\"][246*2]\n",
    "\n",
    "# (aux1 + aux2 + aux3)/3"
   ]
  },
  {
   "cell_type": "code",
   "execution_count": 5,
   "metadata": {},
   "outputs": [],
   "source": [
    "# average = []\n",
    "# soma = 0\n",
    "# simulation_repeat = 10\n",
    "# delta = 246 # nº de linhas por simulação\n",
    "\n",
    "# for sample in range(246):\n",
    "#     soma = 0\n",
    "#     for i in range(10): \n",
    "# #        print(i)\n",
    "#        soma = rssi_df.iloc[i*delta:(i+1)*delta][\"RSSI_Sim\"][i*delta + sample] + soma\n",
    "#     average.append(soma/10)\n",
    "    \n",
    "# print(len(average))\n",
    "# print(average)"
   ]
  },
  {
   "cell_type": "code",
   "execution_count": 6,
   "metadata": {},
   "outputs": [],
   "source": [
    "# each_simulation = []\n",
    "# simulation_repeat = 10\n",
    "# delta = 246 # nº de linhas por simulação\n",
    "\n",
    "# for i in range(simulation_repeat):   \n",
    "# #     print(i*delta, (i+1)*delta)\n",
    "#     each_simulation.append(rssi_df.iloc[i*delta: (i+1)*delta])\n"
   ]
  },
  {
   "cell_type": "code",
   "execution_count": null,
   "metadata": {},
   "outputs": [],
   "source": []
  },
  {
   "cell_type": "code",
   "execution_count": null,
   "metadata": {},
   "outputs": [],
   "source": []
  },
  {
   "cell_type": "code",
   "execution_count": null,
   "metadata": {},
   "outputs": [],
   "source": []
  },
  {
   "cell_type": "markdown",
   "metadata": {},
   "source": [
    "# LOG DISTANCE MODEL"
   ]
  },
  {
   "cell_type": "code",
   "execution_count": 7,
   "metadata": {},
   "outputs": [
    {
     "name": "stdout",
     "output_type": "stream",
     "text": [
      "SHAPE: (246, 5)\n"
     ]
    },
    {
     "data": {
      "text/html": [
       "<div>\n",
       "<style scoped>\n",
       "    .dataframe tbody tr th:only-of-type {\n",
       "        vertical-align: middle;\n",
       "    }\n",
       "\n",
       "    .dataframe tbody tr th {\n",
       "        vertical-align: top;\n",
       "    }\n",
       "\n",
       "    .dataframe thead th {\n",
       "        text-align: right;\n",
       "    }\n",
       "</style>\n",
       "<table border=\"1\" class=\"dataframe\">\n",
       "  <thead>\n",
       "    <tr style=\"text-align: right;\">\n",
       "      <th></th>\n",
       "      <th>gwId</th>\n",
       "      <th>nodeId</th>\n",
       "      <th>RSSI_Sim</th>\n",
       "      <th>RSSI_Real</th>\n",
       "      <th>distance_between</th>\n",
       "    </tr>\n",
       "  </thead>\n",
       "  <tbody>\n",
       "    <tr>\n",
       "      <th>0</th>\n",
       "      <td>1</td>\n",
       "      <td>0</td>\n",
       "      <td>-54.1667</td>\n",
       "      <td>-95</td>\n",
       "      <td>23.3697</td>\n",
       "    </tr>\n",
       "    <tr>\n",
       "      <th>1</th>\n",
       "      <td>1</td>\n",
       "      <td>0</td>\n",
       "      <td>-54.1667</td>\n",
       "      <td>-96</td>\n",
       "      <td>23.3697</td>\n",
       "    </tr>\n",
       "    <tr>\n",
       "      <th>2</th>\n",
       "      <td>1</td>\n",
       "      <td>0</td>\n",
       "      <td>-63.0443</td>\n",
       "      <td>-94</td>\n",
       "      <td>39.0781</td>\n",
       "    </tr>\n",
       "    <tr>\n",
       "      <th>3</th>\n",
       "      <td>1</td>\n",
       "      <td>0</td>\n",
       "      <td>-77.1855</td>\n",
       "      <td>-103</td>\n",
       "      <td>88.6335</td>\n",
       "    </tr>\n",
       "    <tr>\n",
       "      <th>4</th>\n",
       "      <td>1</td>\n",
       "      <td>0</td>\n",
       "      <td>-85.1369</td>\n",
       "      <td>-103</td>\n",
       "      <td>140.4700</td>\n",
       "    </tr>\n",
       "  </tbody>\n",
       "</table>\n",
       "</div>"
      ],
      "text/plain": [
       "   gwId  nodeId  RSSI_Sim  RSSI_Real  distance_between\n",
       "0     1       0  -54.1667        -95           23.3697\n",
       "1     1       0  -54.1667        -96           23.3697\n",
       "2     1       0  -63.0443        -94           39.0781\n",
       "3     1       0  -77.1855       -103           88.6335\n",
       "4     1       0  -85.1369       -103          140.4700"
      ]
     },
     "execution_count": 7,
     "metadata": {},
     "output_type": "execute_result"
    }
   ],
   "source": [
    "# ----- NETWORK DATASET\n",
    "\n",
    "path = current_path + log_path_folder + rssi_results_file\n",
    "rssi_log_df = pd.read_csv(path, header=None) \n",
    "rssi_log_df.columns = [\"gwId\", \"nodeId\", \"RSSI_Sim\", \"RSSI_Real\", \"distance_between\"]\n",
    "\n",
    "print(\"SHAPE:\", rssi_log_df.shape)\n",
    "rssi_log_df.head(5)"
   ]
  },
  {
   "cell_type": "code",
   "execution_count": null,
   "metadata": {},
   "outputs": [],
   "source": []
  },
  {
   "cell_type": "code",
   "execution_count": 8,
   "metadata": {},
   "outputs": [
    {
     "data": {
      "text/html": [
       "<div>\n",
       "<style scoped>\n",
       "    .dataframe tbody tr th:only-of-type {\n",
       "        vertical-align: middle;\n",
       "    }\n",
       "\n",
       "    .dataframe tbody tr th {\n",
       "        vertical-align: top;\n",
       "    }\n",
       "\n",
       "    .dataframe thead th {\n",
       "        text-align: right;\n",
       "    }\n",
       "</style>\n",
       "<table border=\"1\" class=\"dataframe\">\n",
       "  <thead>\n",
       "    <tr style=\"text-align: right;\">\n",
       "      <th></th>\n",
       "      <th>gwId</th>\n",
       "      <th>nodeId</th>\n",
       "      <th>RSSI_Sim</th>\n",
       "      <th>RSSI_Real</th>\n",
       "      <th>distance_between</th>\n",
       "      <th>deltaY</th>\n",
       "      <th>deltaY_abs</th>\n",
       "    </tr>\n",
       "  </thead>\n",
       "  <tbody>\n",
       "    <tr>\n",
       "      <th>0</th>\n",
       "      <td>1</td>\n",
       "      <td>0</td>\n",
       "      <td>-54.1667</td>\n",
       "      <td>-95</td>\n",
       "      <td>23.3697</td>\n",
       "      <td>40.8333</td>\n",
       "      <td>40.8333</td>\n",
       "    </tr>\n",
       "    <tr>\n",
       "      <th>1</th>\n",
       "      <td>1</td>\n",
       "      <td>0</td>\n",
       "      <td>-54.1667</td>\n",
       "      <td>-96</td>\n",
       "      <td>23.3697</td>\n",
       "      <td>41.8333</td>\n",
       "      <td>41.8333</td>\n",
       "    </tr>\n",
       "    <tr>\n",
       "      <th>2</th>\n",
       "      <td>1</td>\n",
       "      <td>0</td>\n",
       "      <td>-63.0443</td>\n",
       "      <td>-94</td>\n",
       "      <td>39.0781</td>\n",
       "      <td>30.9557</td>\n",
       "      <td>30.9557</td>\n",
       "    </tr>\n",
       "    <tr>\n",
       "      <th>3</th>\n",
       "      <td>1</td>\n",
       "      <td>0</td>\n",
       "      <td>-77.1855</td>\n",
       "      <td>-103</td>\n",
       "      <td>88.6335</td>\n",
       "      <td>25.8145</td>\n",
       "      <td>25.8145</td>\n",
       "    </tr>\n",
       "    <tr>\n",
       "      <th>4</th>\n",
       "      <td>1</td>\n",
       "      <td>0</td>\n",
       "      <td>-85.1369</td>\n",
       "      <td>-103</td>\n",
       "      <td>140.4700</td>\n",
       "      <td>17.8631</td>\n",
       "      <td>17.8631</td>\n",
       "    </tr>\n",
       "  </tbody>\n",
       "</table>\n",
       "</div>"
      ],
      "text/plain": [
       "   gwId  nodeId  RSSI_Sim  RSSI_Real  distance_between   deltaY  deltaY_abs\n",
       "0     1       0  -54.1667        -95           23.3697  40.8333     40.8333\n",
       "1     1       0  -54.1667        -96           23.3697  41.8333     41.8333\n",
       "2     1       0  -63.0443        -94           39.0781  30.9557     30.9557\n",
       "3     1       0  -77.1855       -103           88.6335  25.8145     25.8145\n",
       "4     1       0  -85.1369       -103          140.4700  17.8631     17.8631"
      ]
     },
     "execution_count": 8,
     "metadata": {},
     "output_type": "execute_result"
    }
   ],
   "source": [
    "# deltaY and deltaY_abs colunms\n",
    "rssi_log_df['deltaY'] = rssi_log_df['RSSI_Sim'] - rssi_log_df['RSSI_Real']\n",
    "rssi_log_df['deltaY_abs'] = abs(rssi_log_df['RSSI_Sim'] - rssi_log_df['RSSI_Real'])\n",
    "rssi_log_df.head(5)"
   ]
  },
  {
   "cell_type": "code",
   "execution_count": 9,
   "metadata": {},
   "outputs": [],
   "source": [
    "N = 246\n",
    "\n",
    "# mean prediction error\n",
    "mean_prediction_error = (1/N) * rssi_log_df['deltaY'].sum()\n",
    "\n",
    "# mean absolute error\n",
    "mean_absolute_error = (1/N) * rssi_log_df['deltaY_abs'].sum() "
   ]
  },
  {
   "cell_type": "code",
   "execution_count": 10,
   "metadata": {},
   "outputs": [
    {
     "data": {
      "text/html": [
       "<div>\n",
       "<style scoped>\n",
       "    .dataframe tbody tr th:only-of-type {\n",
       "        vertical-align: middle;\n",
       "    }\n",
       "\n",
       "    .dataframe tbody tr th {\n",
       "        vertical-align: top;\n",
       "    }\n",
       "\n",
       "    .dataframe thead th {\n",
       "        text-align: right;\n",
       "    }\n",
       "</style>\n",
       "<table border=\"1\" class=\"dataframe\">\n",
       "  <thead>\n",
       "    <tr style=\"text-align: right;\">\n",
       "      <th></th>\n",
       "      <th>gwId</th>\n",
       "      <th>nodeId</th>\n",
       "      <th>RSSI_Sim</th>\n",
       "      <th>RSSI_Real</th>\n",
       "      <th>distance_between</th>\n",
       "      <th>deltaY</th>\n",
       "      <th>deltaY_abs</th>\n",
       "      <th>error</th>\n",
       "    </tr>\n",
       "  </thead>\n",
       "  <tbody>\n",
       "    <tr>\n",
       "      <th>0</th>\n",
       "      <td>1</td>\n",
       "      <td>0</td>\n",
       "      <td>-54.1667</td>\n",
       "      <td>-95</td>\n",
       "      <td>23.3697</td>\n",
       "      <td>40.8333</td>\n",
       "      <td>40.8333</td>\n",
       "      <td>557.988072</td>\n",
       "    </tr>\n",
       "    <tr>\n",
       "      <th>1</th>\n",
       "      <td>1</td>\n",
       "      <td>0</td>\n",
       "      <td>-54.1667</td>\n",
       "      <td>-96</td>\n",
       "      <td>23.3697</td>\n",
       "      <td>41.8333</td>\n",
       "      <td>41.8333</td>\n",
       "      <td>606.231614</td>\n",
       "    </tr>\n",
       "    <tr>\n",
       "      <th>2</th>\n",
       "      <td>1</td>\n",
       "      <td>0</td>\n",
       "      <td>-63.0443</td>\n",
       "      <td>-94</td>\n",
       "      <td>39.0781</td>\n",
       "      <td>30.9557</td>\n",
       "      <td>30.9557</td>\n",
       "      <td>188.902240</td>\n",
       "    </tr>\n",
       "    <tr>\n",
       "      <th>3</th>\n",
       "      <td>1</td>\n",
       "      <td>0</td>\n",
       "      <td>-77.1855</td>\n",
       "      <td>-103</td>\n",
       "      <td>88.6335</td>\n",
       "      <td>25.8145</td>\n",
       "      <td>25.8145</td>\n",
       "      <td>74.011112</td>\n",
       "    </tr>\n",
       "    <tr>\n",
       "      <th>4</th>\n",
       "      <td>1</td>\n",
       "      <td>0</td>\n",
       "      <td>-85.1369</td>\n",
       "      <td>-103</td>\n",
       "      <td>140.4700</td>\n",
       "      <td>17.8631</td>\n",
       "      <td>17.8631</td>\n",
       "      <td>0.424545</td>\n",
       "    </tr>\n",
       "  </tbody>\n",
       "</table>\n",
       "</div>"
      ],
      "text/plain": [
       "   gwId  nodeId  RSSI_Sim  RSSI_Real  distance_between   deltaY  deltaY_abs  \\\n",
       "0     1       0  -54.1667        -95           23.3697  40.8333     40.8333   \n",
       "1     1       0  -54.1667        -96           23.3697  41.8333     41.8333   \n",
       "2     1       0  -63.0443        -94           39.0781  30.9557     30.9557   \n",
       "3     1       0  -77.1855       -103           88.6335  25.8145     25.8145   \n",
       "4     1       0  -85.1369       -103          140.4700  17.8631     17.8631   \n",
       "\n",
       "        error  \n",
       "0  557.988072  \n",
       "1  606.231614  \n",
       "2  188.902240  \n",
       "3   74.011112  \n",
       "4    0.424545  "
      ]
     },
     "execution_count": 10,
     "metadata": {},
     "output_type": "execute_result"
    }
   ],
   "source": [
    "# standard deviation of the prediction error\n",
    "rssi_log_df['error'] = (rssi_log_df['deltaY'] - mean_absolute_error) ** 2\n",
    "rssi_log_df.head(5)"
   ]
  },
  {
   "cell_type": "code",
   "execution_count": 11,
   "metadata": {},
   "outputs": [
    {
     "name": "stdout",
     "output_type": "stream",
     "text": [
      "-12.22770772357724\n",
      "17.21152886178862\n",
      "32.9724119691427\n"
     ]
    }
   ],
   "source": [
    "sd_error = math.sqrt( (1/N) * (rssi_log_df['error'].sum()) )\n",
    "\n",
    "print(mean_prediction_error)\n",
    "print(mean_absolute_error)\n",
    "print(sd_error)"
   ]
  },
  {
   "cell_type": "code",
   "execution_count": null,
   "metadata": {},
   "outputs": [],
   "source": []
  },
  {
   "cell_type": "code",
   "execution_count": null,
   "metadata": {},
   "outputs": [],
   "source": []
  },
  {
   "cell_type": "markdown",
   "metadata": {},
   "source": [
    "# LOG + Obstacle Model"
   ]
  },
  {
   "cell_type": "code",
   "execution_count": 12,
   "metadata": {},
   "outputs": [
    {
     "name": "stdout",
     "output_type": "stream",
     "text": [
      "/home/wasp/Desktop/Mestrado/NS3/testes/ns-3/simulation_results/log_obstacle_model/rssi_results_C2T1.txt\n"
     ]
    }
   ],
   "source": [
    "path = current_path + log_obst_path_folder + rssi_results_file\n",
    "print(path)\n",
    "rssi_obst_df = pd.read_csv(path, header=None) \n",
    "rssi_obst_df.columns = [\"gwId\", \"nodeId\", \"RSSI_Sim\", \"RSSI_Real\", \"distance_between\"]"
   ]
  },
  {
   "cell_type": "code",
   "execution_count": 13,
   "metadata": {},
   "outputs": [
    {
     "data": {
      "text/html": [
       "<div>\n",
       "<style scoped>\n",
       "    .dataframe tbody tr th:only-of-type {\n",
       "        vertical-align: middle;\n",
       "    }\n",
       "\n",
       "    .dataframe tbody tr th {\n",
       "        vertical-align: top;\n",
       "    }\n",
       "\n",
       "    .dataframe thead th {\n",
       "        text-align: right;\n",
       "    }\n",
       "</style>\n",
       "<table border=\"1\" class=\"dataframe\">\n",
       "  <thead>\n",
       "    <tr style=\"text-align: right;\">\n",
       "      <th></th>\n",
       "      <th>gwId</th>\n",
       "      <th>nodeId</th>\n",
       "      <th>RSSI_Sim</th>\n",
       "      <th>RSSI_Real</th>\n",
       "      <th>distance_between</th>\n",
       "      <th>deltaY</th>\n",
       "      <th>deltaY_abs</th>\n",
       "    </tr>\n",
       "  </thead>\n",
       "  <tbody>\n",
       "    <tr>\n",
       "      <th>0</th>\n",
       "      <td>1</td>\n",
       "      <td>0</td>\n",
       "      <td>-54.1667</td>\n",
       "      <td>-95</td>\n",
       "      <td>23.3697</td>\n",
       "      <td>40.8333</td>\n",
       "      <td>40.8333</td>\n",
       "    </tr>\n",
       "    <tr>\n",
       "      <th>1</th>\n",
       "      <td>1</td>\n",
       "      <td>0</td>\n",
       "      <td>-54.1667</td>\n",
       "      <td>-96</td>\n",
       "      <td>23.3697</td>\n",
       "      <td>41.8333</td>\n",
       "      <td>41.8333</td>\n",
       "    </tr>\n",
       "    <tr>\n",
       "      <th>2</th>\n",
       "      <td>1</td>\n",
       "      <td>0</td>\n",
       "      <td>-63.0443</td>\n",
       "      <td>-94</td>\n",
       "      <td>39.0781</td>\n",
       "      <td>30.9557</td>\n",
       "      <td>30.9557</td>\n",
       "    </tr>\n",
       "    <tr>\n",
       "      <th>3</th>\n",
       "      <td>1</td>\n",
       "      <td>0</td>\n",
       "      <td>-77.1855</td>\n",
       "      <td>-103</td>\n",
       "      <td>88.6335</td>\n",
       "      <td>25.8145</td>\n",
       "      <td>25.8145</td>\n",
       "    </tr>\n",
       "    <tr>\n",
       "      <th>4</th>\n",
       "      <td>1</td>\n",
       "      <td>0</td>\n",
       "      <td>-85.1369</td>\n",
       "      <td>-103</td>\n",
       "      <td>140.4700</td>\n",
       "      <td>17.8631</td>\n",
       "      <td>17.8631</td>\n",
       "    </tr>\n",
       "  </tbody>\n",
       "</table>\n",
       "</div>"
      ],
      "text/plain": [
       "   gwId  nodeId  RSSI_Sim  RSSI_Real  distance_between   deltaY  deltaY_abs\n",
       "0     1       0  -54.1667        -95           23.3697  40.8333     40.8333\n",
       "1     1       0  -54.1667        -96           23.3697  41.8333     41.8333\n",
       "2     1       0  -63.0443        -94           39.0781  30.9557     30.9557\n",
       "3     1       0  -77.1855       -103           88.6335  25.8145     25.8145\n",
       "4     1       0  -85.1369       -103          140.4700  17.8631     17.8631"
      ]
     },
     "execution_count": 13,
     "metadata": {},
     "output_type": "execute_result"
    }
   ],
   "source": [
    "# deltaY and deltaY_abs colunms\n",
    "rssi_obst_df['deltaY'] = rssi_obst_df['RSSI_Sim'] - rssi_obst_df['RSSI_Real']\n",
    "rssi_obst_df['deltaY_abs'] = abs(rssi_obst_df['RSSI_Sim'] - rssi_obst_df['RSSI_Real'])\n",
    "rssi_obst_df.head(5)"
   ]
  },
  {
   "cell_type": "code",
   "execution_count": 14,
   "metadata": {},
   "outputs": [],
   "source": [
    "# mean prediction error\n",
    "mean_prediction_error = (1/N) * rssi_obst_df['deltaY'].sum()\n",
    "\n",
    "# mean absolute error\n",
    "mean_absolute_error = (1/N) * rssi_obst_df['deltaY_abs'].sum() "
   ]
  },
  {
   "cell_type": "code",
   "execution_count": 15,
   "metadata": {},
   "outputs": [
    {
     "data": {
      "text/html": [
       "<div>\n",
       "<style scoped>\n",
       "    .dataframe tbody tr th:only-of-type {\n",
       "        vertical-align: middle;\n",
       "    }\n",
       "\n",
       "    .dataframe tbody tr th {\n",
       "        vertical-align: top;\n",
       "    }\n",
       "\n",
       "    .dataframe thead th {\n",
       "        text-align: right;\n",
       "    }\n",
       "</style>\n",
       "<table border=\"1\" class=\"dataframe\">\n",
       "  <thead>\n",
       "    <tr style=\"text-align: right;\">\n",
       "      <th></th>\n",
       "      <th>gwId</th>\n",
       "      <th>nodeId</th>\n",
       "      <th>RSSI_Sim</th>\n",
       "      <th>RSSI_Real</th>\n",
       "      <th>distance_between</th>\n",
       "      <th>deltaY</th>\n",
       "      <th>deltaY_abs</th>\n",
       "      <th>error</th>\n",
       "    </tr>\n",
       "  </thead>\n",
       "  <tbody>\n",
       "    <tr>\n",
       "      <th>0</th>\n",
       "      <td>1</td>\n",
       "      <td>0</td>\n",
       "      <td>-54.1667</td>\n",
       "      <td>-95</td>\n",
       "      <td>23.3697</td>\n",
       "      <td>40.8333</td>\n",
       "      <td>40.8333</td>\n",
       "      <td>557.988072</td>\n",
       "    </tr>\n",
       "    <tr>\n",
       "      <th>1</th>\n",
       "      <td>1</td>\n",
       "      <td>0</td>\n",
       "      <td>-54.1667</td>\n",
       "      <td>-96</td>\n",
       "      <td>23.3697</td>\n",
       "      <td>41.8333</td>\n",
       "      <td>41.8333</td>\n",
       "      <td>606.231614</td>\n",
       "    </tr>\n",
       "    <tr>\n",
       "      <th>2</th>\n",
       "      <td>1</td>\n",
       "      <td>0</td>\n",
       "      <td>-63.0443</td>\n",
       "      <td>-94</td>\n",
       "      <td>39.0781</td>\n",
       "      <td>30.9557</td>\n",
       "      <td>30.9557</td>\n",
       "      <td>188.902240</td>\n",
       "    </tr>\n",
       "    <tr>\n",
       "      <th>3</th>\n",
       "      <td>1</td>\n",
       "      <td>0</td>\n",
       "      <td>-77.1855</td>\n",
       "      <td>-103</td>\n",
       "      <td>88.6335</td>\n",
       "      <td>25.8145</td>\n",
       "      <td>25.8145</td>\n",
       "      <td>74.011112</td>\n",
       "    </tr>\n",
       "    <tr>\n",
       "      <th>4</th>\n",
       "      <td>1</td>\n",
       "      <td>0</td>\n",
       "      <td>-85.1369</td>\n",
       "      <td>-103</td>\n",
       "      <td>140.4700</td>\n",
       "      <td>17.8631</td>\n",
       "      <td>17.8631</td>\n",
       "      <td>0.424545</td>\n",
       "    </tr>\n",
       "  </tbody>\n",
       "</table>\n",
       "</div>"
      ],
      "text/plain": [
       "   gwId  nodeId  RSSI_Sim  RSSI_Real  distance_between   deltaY  deltaY_abs  \\\n",
       "0     1       0  -54.1667        -95           23.3697  40.8333     40.8333   \n",
       "1     1       0  -54.1667        -96           23.3697  41.8333     41.8333   \n",
       "2     1       0  -63.0443        -94           39.0781  30.9557     30.9557   \n",
       "3     1       0  -77.1855       -103           88.6335  25.8145     25.8145   \n",
       "4     1       0  -85.1369       -103          140.4700  17.8631     17.8631   \n",
       "\n",
       "        error  \n",
       "0  557.988072  \n",
       "1  606.231614  \n",
       "2  188.902240  \n",
       "3   74.011112  \n",
       "4    0.424545  "
      ]
     },
     "execution_count": 15,
     "metadata": {},
     "output_type": "execute_result"
    }
   ],
   "source": [
    "# standard deviation of the prediction error\n",
    "rssi_obst_df['error'] = (rssi_obst_df['deltaY'] - mean_absolute_error) ** 2\n",
    "rssi_obst_df.head(5)"
   ]
  },
  {
   "cell_type": "code",
   "execution_count": 16,
   "metadata": {},
   "outputs": [
    {
     "name": "stdout",
     "output_type": "stream",
     "text": [
      "-12.22770772357724\n",
      "17.21152886178862\n",
      "32.9724119691427\n"
     ]
    }
   ],
   "source": [
    "sd_error = math.sqrt( (1/N) * (rssi_obst_df['error'].sum()) )\n",
    "\n",
    "print(mean_prediction_error)\n",
    "print(mean_absolute_error)\n",
    "print(sd_error)"
   ]
  },
  {
   "cell_type": "code",
   "execution_count": null,
   "metadata": {},
   "outputs": [],
   "source": []
  },
  {
   "cell_type": "markdown",
   "metadata": {},
   "source": [
    "# LOG + Okumura"
   ]
  },
  {
   "cell_type": "code",
   "execution_count": 17,
   "metadata": {},
   "outputs": [
    {
     "name": "stdout",
     "output_type": "stream",
     "text": [
      "/home/wasp/Desktop/Mestrado/NS3/testes/ns-3/simulation_results/okumura_model/rssi_results_C2T1.txt\n"
     ]
    }
   ],
   "source": [
    "path = current_path + okumura_path_folder + rssi_results_file\n",
    "print(path)\n",
    "rssi_df = pd.read_csv(path, header=None) \n",
    "rssi_df.columns = [\"gwId\", \"nodeId\", \"RSSI_Sim\", \"RSSI_Real\", \"distance_between\"]"
   ]
  },
  {
   "cell_type": "code",
   "execution_count": 18,
   "metadata": {},
   "outputs": [
    {
     "data": {
      "text/html": [
       "<div>\n",
       "<style scoped>\n",
       "    .dataframe tbody tr th:only-of-type {\n",
       "        vertical-align: middle;\n",
       "    }\n",
       "\n",
       "    .dataframe tbody tr th {\n",
       "        vertical-align: top;\n",
       "    }\n",
       "\n",
       "    .dataframe thead th {\n",
       "        text-align: right;\n",
       "    }\n",
       "</style>\n",
       "<table border=\"1\" class=\"dataframe\">\n",
       "  <thead>\n",
       "    <tr style=\"text-align: right;\">\n",
       "      <th></th>\n",
       "      <th>gwId</th>\n",
       "      <th>nodeId</th>\n",
       "      <th>RSSI_Sim</th>\n",
       "      <th>RSSI_Real</th>\n",
       "      <th>distance_between</th>\n",
       "      <th>deltaY</th>\n",
       "      <th>deltaY_abs</th>\n",
       "    </tr>\n",
       "  </thead>\n",
       "  <tbody>\n",
       "    <tr>\n",
       "      <th>0</th>\n",
       "      <td>1</td>\n",
       "      <td>0</td>\n",
       "      <td>-41.6862</td>\n",
       "      <td>-95</td>\n",
       "      <td>23.3697</td>\n",
       "      <td>53.3138</td>\n",
       "      <td>53.3138</td>\n",
       "    </tr>\n",
       "    <tr>\n",
       "      <th>1</th>\n",
       "      <td>1</td>\n",
       "      <td>0</td>\n",
       "      <td>-41.6862</td>\n",
       "      <td>-96</td>\n",
       "      <td>23.3697</td>\n",
       "      <td>54.3138</td>\n",
       "      <td>54.3138</td>\n",
       "    </tr>\n",
       "    <tr>\n",
       "      <th>2</th>\n",
       "      <td>1</td>\n",
       "      <td>0</td>\n",
       "      <td>-50.7389</td>\n",
       "      <td>-94</td>\n",
       "      <td>39.0781</td>\n",
       "      <td>43.2611</td>\n",
       "      <td>43.2611</td>\n",
       "    </tr>\n",
       "    <tr>\n",
       "      <th>3</th>\n",
       "      <td>1</td>\n",
       "      <td>0</td>\n",
       "      <td>-65.1590</td>\n",
       "      <td>-103</td>\n",
       "      <td>88.6335</td>\n",
       "      <td>37.8410</td>\n",
       "      <td>37.8410</td>\n",
       "    </tr>\n",
       "    <tr>\n",
       "      <th>4</th>\n",
       "      <td>1</td>\n",
       "      <td>0</td>\n",
       "      <td>-73.2672</td>\n",
       "      <td>-103</td>\n",
       "      <td>140.4700</td>\n",
       "      <td>29.7328</td>\n",
       "      <td>29.7328</td>\n",
       "    </tr>\n",
       "  </tbody>\n",
       "</table>\n",
       "</div>"
      ],
      "text/plain": [
       "   gwId  nodeId  RSSI_Sim  RSSI_Real  distance_between   deltaY  deltaY_abs\n",
       "0     1       0  -41.6862        -95           23.3697  53.3138     53.3138\n",
       "1     1       0  -41.6862        -96           23.3697  54.3138     54.3138\n",
       "2     1       0  -50.7389        -94           39.0781  43.2611     43.2611\n",
       "3     1       0  -65.1590       -103           88.6335  37.8410     37.8410\n",
       "4     1       0  -73.2672       -103          140.4700  29.7328     29.7328"
      ]
     },
     "execution_count": 18,
     "metadata": {},
     "output_type": "execute_result"
    }
   ],
   "source": [
    "# deltaY and deltaY_abs colunms\n",
    "rssi_df['deltaY'] = rssi_df['RSSI_Sim'] - rssi_df['RSSI_Real']\n",
    "rssi_df['deltaY_abs'] = abs(rssi_df['RSSI_Sim'] - rssi_df['RSSI_Real'])\n",
    "rssi_df.head(5)"
   ]
  },
  {
   "cell_type": "code",
   "execution_count": 19,
   "metadata": {},
   "outputs": [],
   "source": [
    "# mean prediction error\n",
    "mean_prediction_error = (1/N) * rssi_df['deltaY'].sum()\n",
    "\n",
    "# mean absolute error\n",
    "mean_absolute_error = (1/N) * rssi_df['deltaY_abs'].sum() "
   ]
  },
  {
   "cell_type": "code",
   "execution_count": 20,
   "metadata": {},
   "outputs": [
    {
     "data": {
      "text/html": [
       "<div>\n",
       "<style scoped>\n",
       "    .dataframe tbody tr th:only-of-type {\n",
       "        vertical-align: middle;\n",
       "    }\n",
       "\n",
       "    .dataframe tbody tr th {\n",
       "        vertical-align: top;\n",
       "    }\n",
       "\n",
       "    .dataframe thead th {\n",
       "        text-align: right;\n",
       "    }\n",
       "</style>\n",
       "<table border=\"1\" class=\"dataframe\">\n",
       "  <thead>\n",
       "    <tr style=\"text-align: right;\">\n",
       "      <th></th>\n",
       "      <th>gwId</th>\n",
       "      <th>nodeId</th>\n",
       "      <th>RSSI_Sim</th>\n",
       "      <th>RSSI_Real</th>\n",
       "      <th>distance_between</th>\n",
       "      <th>deltaY</th>\n",
       "      <th>deltaY_abs</th>\n",
       "      <th>error</th>\n",
       "    </tr>\n",
       "  </thead>\n",
       "  <tbody>\n",
       "    <tr>\n",
       "      <th>0</th>\n",
       "      <td>1</td>\n",
       "      <td>0</td>\n",
       "      <td>-41.6862</td>\n",
       "      <td>-95</td>\n",
       "      <td>23.3697</td>\n",
       "      <td>53.3138</td>\n",
       "      <td>53.3138</td>\n",
       "      <td>1765.246869</td>\n",
       "    </tr>\n",
       "    <tr>\n",
       "      <th>1</th>\n",
       "      <td>1</td>\n",
       "      <td>0</td>\n",
       "      <td>-41.6862</td>\n",
       "      <td>-96</td>\n",
       "      <td>23.3697</td>\n",
       "      <td>54.3138</td>\n",
       "      <td>54.3138</td>\n",
       "      <td>1850.276551</td>\n",
       "    </tr>\n",
       "    <tr>\n",
       "      <th>2</th>\n",
       "      <td>1</td>\n",
       "      <td>0</td>\n",
       "      <td>-50.7389</td>\n",
       "      <td>-94</td>\n",
       "      <td>39.0781</td>\n",
       "      <td>43.2611</td>\n",
       "      <td>43.2611</td>\n",
       "      <td>1021.578461</td>\n",
       "    </tr>\n",
       "    <tr>\n",
       "      <th>3</th>\n",
       "      <td>1</td>\n",
       "      <td>0</td>\n",
       "      <td>-65.1590</td>\n",
       "      <td>-103</td>\n",
       "      <td>88.6335</td>\n",
       "      <td>37.8410</td>\n",
       "      <td>37.8410</td>\n",
       "      <td>704.479943</td>\n",
       "    </tr>\n",
       "    <tr>\n",
       "      <th>4</th>\n",
       "      <td>1</td>\n",
       "      <td>0</td>\n",
       "      <td>-73.2672</td>\n",
       "      <td>-103</td>\n",
       "      <td>140.4700</td>\n",
       "      <td>29.7328</td>\n",
       "      <td>29.7328</td>\n",
       "      <td>339.806496</td>\n",
       "    </tr>\n",
       "  </tbody>\n",
       "</table>\n",
       "</div>"
      ],
      "text/plain": [
       "   gwId  nodeId  RSSI_Sim  RSSI_Real  distance_between   deltaY  deltaY_abs  \\\n",
       "0     1       0  -41.6862        -95           23.3697  53.3138     53.3138   \n",
       "1     1       0  -41.6862        -96           23.3697  54.3138     54.3138   \n",
       "2     1       0  -50.7389        -94           39.0781  43.2611     43.2611   \n",
       "3     1       0  -65.1590       -103           88.6335  37.8410     37.8410   \n",
       "4     1       0  -73.2672       -103          140.4700  29.7328     29.7328   \n",
       "\n",
       "         error  \n",
       "0  1765.246869  \n",
       "1  1850.276551  \n",
       "2  1021.578461  \n",
       "3   704.479943  \n",
       "4   339.806496  "
      ]
     },
     "execution_count": 20,
     "metadata": {},
     "output_type": "execute_result"
    }
   ],
   "source": [
    "# standard deviation of the prediction error\n",
    "rssi_df['error'] = (rssi_df['deltaY'] - mean_absolute_error) ** 2\n",
    "rssi_df.head(5)"
   ]
  },
  {
   "cell_type": "code",
   "execution_count": 21,
   "metadata": {},
   "outputs": [
    {
     "name": "stdout",
     "output_type": "stream",
     "text": [
      "-0.8640849593495937\n",
      "11.298958943089433\n",
      "19.46291979839025\n"
     ]
    }
   ],
   "source": [
    "sd_error = math.sqrt( (1/N) * (rssi_df['error'].sum()) )\n",
    "\n",
    "print(mean_prediction_error)\n",
    "print(mean_absolute_error)\n",
    "print(sd_error)"
   ]
  },
  {
   "cell_type": "code",
   "execution_count": null,
   "metadata": {},
   "outputs": [],
   "source": []
  },
  {
   "cell_type": "code",
   "execution_count": 24,
   "metadata": {},
   "outputs": [
    {
     "data": {
      "image/png": "[encoded data removed]",
      "text/plain": [
       "<Figure size 1080x504 with 1 Axes>"
      ]
     },
     "metadata": {
      "needs_background": "light"
     },
     "output_type": "display_data"
    }
   ],
   "source": [
    "plt.figure(figsize=(15,7))\n",
    "ax = plt.gca()\n",
    "\n",
    "rssi_df.plot(kind='line',x=\"distance_between\", y='RSSI_Sim',label='Okumura', color = 'red', ax=ax)\n",
    "rssi_log_df.plot(kind='line',x=\"distance_between\", y='RSSI_Sim',label='Log', color = 'green', ax=ax)\n",
    "rssi_df.plot(kind='scatter',x=\"distance_between\", y='RSSI_Real',label='Medidas', color = 'blue', ax=ax)\n",
    "\n",
    "# plt.xlabel('Período de Teste', fontweight='bold', fontsize=14,labelpad=30)\n",
    "# plt.ylabel('Nível de Enchimento (cm)', fontweight='bold', fontsize=14, labelpad=30)\n",
    "\n",
    "# # ajust x axis datetime\n",
    "\n",
    "# xfmt = mdates.DateFormatter('%d-%m-%y %H:%M')\n",
    "# ax.xaxis.set_major_formatter(xfmt)\n",
    "\n",
    "# ttl = ax.title\n",
    "# ttl.set_position([.5, 1.04])\n",
    "# plt.title('Leituras do Sensor Ultrassônico',fontweight='bold',fontsize=14)\n",
    "\n",
    "plt.show()\n",
    "\n"
   ]
  }
 ],
 "metadata": {
  "kernelspec": {
   "display_name": "Python 3",
   "language": "python",
   "name": "python3"
  },
  "language_info": {
   "codemirror_mode": {
    "name": "ipython",
    "version": 3
   },
   "file_extension": ".py",
   "mimetype": "text/x-python",
   "name": "python",
   "nbconvert_exporter": "python",
   "pygments_lexer": "ipython3",
   "version": "3.8.11"
  }
 },
 "nbformat": 4,
 "nbformat_minor": 4
}
