{
 "cells": [
  {
   "cell_type": "code",
   "execution_count": 1,
   "metadata": {},
   "outputs": [],
   "source": [
    "# ----- LIBS\n",
    "\n",
    "# geoprocessamento\n",
    "import geopandas as gpd\n",
    "from shapely.geometry import Polygon\n",
    "from shapely.geometry import Point\n",
    "from shapely.geometry import box\n",
    "\n",
    "# normalizar\n",
    "import numpy as np\n",
    "from shapely.geometry import mapping\n",
    "from sklearn.preprocessing import MinMaxScaler\n",
    "\n",
    "# plots\n",
    "import matplotlib.pyplot as plt\n",
    "\n",
    "# gerar e visualizar csv\n",
    "import csv\n",
    "import pandas as pd"
   ]
  },
  {
   "cell_type": "code",
   "execution_count": null,
   "metadata": {},
   "outputs": [],
   "source": []
  },
  {
   "cell_type": "code",
   "execution_count": null,
   "metadata": {},
   "outputs": [],
   "source": []
  },
  {
   "cell_type": "code",
   "execution_count": null,
   "metadata": {},
   "outputs": [],
   "source": []
  },
  {
   "cell_type": "markdown",
   "metadata": {},
   "source": [
    "# Extração de shapes e Plots da Unicamp\n",
    "\n",
    "- Extração de região geográfica de interesse (bbbike) no formato .shp\n",
    "- Plot de shapes"
   ]
  },
  {
   "cell_type": "code",
   "execution_count": 2,
   "metadata": {},
   "outputs": [
    {
     "name": "stdout",
     "output_type": "stream",
     "text": [
      "/home/wasp/Desktop/Mestrado/ns3-bmap/NS3/obstacle_exp/unicamp-arcgis-input-to-ns3\n",
      "/home/wasp/Desktop/Mestrado/ns3-bmap/NS3/\n"
     ]
    }
   ],
   "source": [
    "# Apontando para o path do dataset do Mapa de Edificações \n",
    "# - https://unicamp-arcgis.maps.arcgis.com/apps/View/index.html?appid=1d96ada62af4451bb4972b9779d09e66\n",
    "\n",
    "import os\n",
    "\n",
    "current_path = os.getcwd()\n",
    "print(current_path)\n",
    "# print(current_path.find('obstacle_exp'))\n",
    "print(current_path[0:current_path.find('obstacle_exp')])\n",
    "\n",
    "map_dataset_path = current_path[0:current_path.find('obstacle_exp')]\n",
    "building_shp_path = \"datasets/unicamp-arcgis-dataset/edificacoes.shp\"\n",
    "\n",
    "unicamp_building_dataset_path = map_dataset_path + building_shp_path"
   ]
  },
  {
   "cell_type": "code",
   "execution_count": 3,
   "metadata": {},
   "outputs": [
    {
     "name": "stdout",
     "output_type": "stream",
     "text": [
      "SHAPE: (1170, 8)\n"
     ]
    },
    {
     "data": {
      "text/html": [
       "<div>\n",
       "<style scoped>\n",
       "    .dataframe tbody tr th:only-of-type {\n",
       "        vertical-align: middle;\n",
       "    }\n",
       "\n",
       "    .dataframe tbody tr th {\n",
       "        vertical-align: top;\n",
       "    }\n",
       "\n",
       "    .dataframe thead th {\n",
       "        text-align: right;\n",
       "    }\n",
       "</style>\n",
       "<table border=\"1\" class=\"dataframe\">\n",
       "  <thead>\n",
       "    <tr style=\"text-align: right;\">\n",
       "      <th></th>\n",
       "      <th>Id</th>\n",
       "      <th>PREDIO</th>\n",
       "      <th>NOME_DO_PR</th>\n",
       "      <th>UNIDADE</th>\n",
       "      <th>GlobalID</th>\n",
       "      <th>Shape_Leng</th>\n",
       "      <th>Shape_Area</th>\n",
       "      <th>geometry</th>\n",
       "    </tr>\n",
       "  </thead>\n",
       "  <tbody>\n",
       "    <tr>\n",
       "      <th>0</th>\n",
       "      <td>444.0</td>\n",
       "      <td>8.0</td>\n",
       "      <td>CASA NO BREAK</td>\n",
       "      <td>INSTITUTO DE FÍSICA\"GLEB WATAGHIN\" (IFGW)</td>\n",
       "      <td>{A3AA0550-2317-433F-888F-BBA6148200AF}</td>\n",
       "      <td>49.024480</td>\n",
       "      <td>135.943591</td>\n",
       "      <td>POLYGON Z ((287762.773 7475309.137 0.000, 2877...</td>\n",
       "    </tr>\n",
       "    <tr>\n",
       "      <th>1</th>\n",
       "      <td>65.0</td>\n",
       "      <td>11.0</td>\n",
       "      <td>DEPÓSITO DE MATERIAIS - DEM</td>\n",
       "      <td>HOSPITAL DE CLÍNICAS (HC)</td>\n",
       "      <td>{418DC5B5-3050-40D4-BC58-E4BDFA11D4F3}</td>\n",
       "      <td>56.199993</td>\n",
       "      <td>190.900186</td>\n",
       "      <td>POLYGON Z ((288123.323 7474311.958 0.000, 2881...</td>\n",
       "    </tr>\n",
       "    <tr>\n",
       "      <th>2</th>\n",
       "      <td>1282.0</td>\n",
       "      <td>4.0</td>\n",
       "      <td>SALAS DE AULA</td>\n",
       "      <td>FAC.ENGa.CIVIL,ARQ. E URBANISMO</td>\n",
       "      <td>{D8A7EC89-2748-4E88-A3EB-6F9F1936A78E}</td>\n",
       "      <td>176.558770</td>\n",
       "      <td>789.413458</td>\n",
       "      <td>POLYGON Z ((288387.086 7475327.825 0.000, 2883...</td>\n",
       "    </tr>\n",
       "  </tbody>\n",
       "</table>\n",
       "</div>"
      ],
      "text/plain": [
       "       Id  PREDIO                   NOME_DO_PR  \\\n",
       "0   444.0     8.0                CASA NO BREAK   \n",
       "1    65.0    11.0  DEPÓSITO DE MATERIAIS - DEM   \n",
       "2  1282.0     4.0                SALAS DE AULA   \n",
       "\n",
       "                                     UNIDADE  \\\n",
       "0  INSTITUTO DE FÍSICA\"GLEB WATAGHIN\" (IFGW)   \n",
       "1                  HOSPITAL DE CLÍNICAS (HC)   \n",
       "2            FAC.ENGa.CIVIL,ARQ. E URBANISMO   \n",
       "\n",
       "                                 GlobalID  Shape_Leng  Shape_Area  \\\n",
       "0  {A3AA0550-2317-433F-888F-BBA6148200AF}   49.024480  135.943591   \n",
       "1  {418DC5B5-3050-40D4-BC58-E4BDFA11D4F3}   56.199993  190.900186   \n",
       "2  {D8A7EC89-2748-4E88-A3EB-6F9F1936A78E}  176.558770  789.413458   \n",
       "\n",
       "                                            geometry  \n",
       "0  POLYGON Z ((287762.773 7475309.137 0.000, 2877...  \n",
       "1  POLYGON Z ((288123.323 7474311.958 0.000, 2881...  \n",
       "2  POLYGON Z ((288387.086 7475327.825 0.000, 2883...  "
      ]
     },
     "execution_count": 3,
     "metadata": {},
     "output_type": "execute_result"
    }
   ],
   "source": [
    "# ----- READ BUILDING SHAPES DATASET\n",
    "\n",
    "unicamp_df = gpd.read_file(unicamp_building_dataset_path)\n",
    "# unicamp_roads_df = gpd.read_file(unicamp_roads_dataset_path)\n",
    "\n",
    "print('SHAPE:', unicamp_df.shape)\n",
    "unicamp_df.head(3)"
   ]
  },
  {
   "cell_type": "code",
   "execution_count": 4,
   "metadata": {},
   "outputs": [
    {
     "data": {
      "image/png": "[encoded data removed]",
      "text/plain": [
       "<Figure size 864x360 with 1 Axes>"
      ]
     },
     "metadata": {
      "needs_background": "light"
     },
     "output_type": "display_data"
    }
   ],
   "source": [
    "# ----- Plot UNICAMP MAPA Edificações\n",
    "ax = unicamp_df.plot(figsize=(12, 5))"
   ]
  },
  {
   "cell_type": "code",
   "execution_count": 5,
   "metadata": {},
   "outputs": [
    {
     "data": {
      "text/html": [
       "<div>\n",
       "<style scoped>\n",
       "    .dataframe tbody tr th:only-of-type {\n",
       "        vertical-align: middle;\n",
       "    }\n",
       "\n",
       "    .dataframe tbody tr th {\n",
       "        vertical-align: top;\n",
       "    }\n",
       "\n",
       "    .dataframe thead th {\n",
       "        text-align: right;\n",
       "    }\n",
       "</style>\n",
       "<table border=\"1\" class=\"dataframe\">\n",
       "  <thead>\n",
       "    <tr style=\"text-align: right;\">\n",
       "      <th></th>\n",
       "      <th>Id</th>\n",
       "      <th>PREDIO</th>\n",
       "      <th>NOME_DO_PR</th>\n",
       "      <th>UNIDADE</th>\n",
       "      <th>GlobalID</th>\n",
       "      <th>Shape_Leng</th>\n",
       "      <th>Shape_Area</th>\n",
       "      <th>geometry</th>\n",
       "      <th>centroids</th>\n",
       "    </tr>\n",
       "  </thead>\n",
       "  <tbody>\n",
       "    <tr>\n",
       "      <th>0</th>\n",
       "      <td>444.0</td>\n",
       "      <td>8.0</td>\n",
       "      <td>CASA NO BREAK</td>\n",
       "      <td>INSTITUTO DE FÍSICA\"GLEB WATAGHIN\" (IFGW)</td>\n",
       "      <td>{A3AA0550-2317-433F-888F-BBA6148200AF}</td>\n",
       "      <td>49.024480</td>\n",
       "      <td>135.943591</td>\n",
       "      <td>POLYGON Z ((287762.773 7475309.137 0.000, 2877...</td>\n",
       "      <td>POINT (287754.847 7475304.757)</td>\n",
       "    </tr>\n",
       "    <tr>\n",
       "      <th>1</th>\n",
       "      <td>65.0</td>\n",
       "      <td>11.0</td>\n",
       "      <td>DEPÓSITO DE MATERIAIS - DEM</td>\n",
       "      <td>HOSPITAL DE CLÍNICAS (HC)</td>\n",
       "      <td>{418DC5B5-3050-40D4-BC58-E4BDFA11D4F3}</td>\n",
       "      <td>56.199993</td>\n",
       "      <td>190.900186</td>\n",
       "      <td>POLYGON Z ((288123.323 7474311.958 0.000, 2881...</td>\n",
       "      <td>POINT (288127.015 7474321.129)</td>\n",
       "    </tr>\n",
       "    <tr>\n",
       "      <th>2</th>\n",
       "      <td>1282.0</td>\n",
       "      <td>4.0</td>\n",
       "      <td>SALAS DE AULA</td>\n",
       "      <td>FAC.ENGa.CIVIL,ARQ. E URBANISMO</td>\n",
       "      <td>{D8A7EC89-2748-4E88-A3EB-6F9F1936A78E}</td>\n",
       "      <td>176.558770</td>\n",
       "      <td>789.413458</td>\n",
       "      <td>POLYGON Z ((288387.086 7475327.825 0.000, 2883...</td>\n",
       "      <td>POINT (288365.495 7475324.101)</td>\n",
       "    </tr>\n",
       "  </tbody>\n",
       "</table>\n",
       "</div>"
      ],
      "text/plain": [
       "       Id  PREDIO                   NOME_DO_PR  \\\n",
       "0   444.0     8.0                CASA NO BREAK   \n",
       "1    65.0    11.0  DEPÓSITO DE MATERIAIS - DEM   \n",
       "2  1282.0     4.0                SALAS DE AULA   \n",
       "\n",
       "                                     UNIDADE  \\\n",
       "0  INSTITUTO DE FÍSICA\"GLEB WATAGHIN\" (IFGW)   \n",
       "1                  HOSPITAL DE CLÍNICAS (HC)   \n",
       "2            FAC.ENGa.CIVIL,ARQ. E URBANISMO   \n",
       "\n",
       "                                 GlobalID  Shape_Leng  Shape_Area  \\\n",
       "0  {A3AA0550-2317-433F-888F-BBA6148200AF}   49.024480  135.943591   \n",
       "1  {418DC5B5-3050-40D4-BC58-E4BDFA11D4F3}   56.199993  190.900186   \n",
       "2  {D8A7EC89-2748-4E88-A3EB-6F9F1936A78E}  176.558770  789.413458   \n",
       "\n",
       "                                            geometry  \\\n",
       "0  POLYGON Z ((287762.773 7475309.137 0.000, 2877...   \n",
       "1  POLYGON Z ((288123.323 7474311.958 0.000, 2881...   \n",
       "2  POLYGON Z ((288387.086 7475327.825 0.000, 2883...   \n",
       "\n",
       "                        centroids  \n",
       "0  POINT (287754.847 7475304.757)  \n",
       "1  POINT (288127.015 7474321.129)  \n",
       "2  POINT (288365.495 7475324.101)  "
      ]
     },
     "execution_count": 5,
     "metadata": {},
     "output_type": "execute_result"
    }
   ],
   "source": [
    "# Add coluna com centroids\n",
    "\n",
    "unicamp_df['centroids'] = unicamp_df.centroid\n",
    "# unicamp_df['centroids']\n",
    "unicamp_df.head(3)"
   ]
  },
  {
   "cell_type": "code",
   "execution_count": 6,
   "metadata": {},
   "outputs": [],
   "source": [
    "# predio = unicamp_df[unicamp_df['UNIDADE'].str.contains(\"INOVA\",  na=False)]\n",
    "# print(\"SHAPE:\", predio.shape)\n",
    "# predio.head()"
   ]
  },
  {
   "cell_type": "code",
   "execution_count": null,
   "metadata": {},
   "outputs": [],
   "source": []
  },
  {
   "cell_type": "markdown",
   "metadata": {},
   "source": [
    "# Normalização de Mapa da Unicamp"
   ]
  },
  {
   "cell_type": "code",
   "execution_count": 7,
   "metadata": {},
   "outputs": [
    {
     "name": "stdout",
     "output_type": "stream",
     "text": [
      "bounds: 287109.0126 7473356.5109 289617.4537000004 7475795.9585\n",
      "x: 2508.441100000404\n",
      "y: 2439.4475999996066\n"
     ]
    }
   ],
   "source": [
    "# Bounds of Unicamp Map\n",
    "unicamp_minx, unicamp_miny, unicamp_maxx, unicamp_maxy = unicamp_df.geometry.total_bounds\n",
    "\n",
    "print('bounds:', unicamp_minx, unicamp_miny, unicamp_maxx, unicamp_maxy)\n",
    "print('x:', unicamp_maxx-unicamp_minx)\n",
    "print('y:', unicamp_maxy- unicamp_miny)\n"
   ]
  },
  {
   "cell_type": "code",
   "execution_count": 8,
   "metadata": {},
   "outputs": [
    {
     "data": {
      "image/svg+xml": [
       "<svg xmlns=\"http://www.w3.org/2000/svg\" xmlns:xlink=\"http://www.w3.org/1999/xlink\" width=\"100.0\" height=\"100.0\" viewBox=\"288339.8371159998 7475310.438516 49.652568000368774 41.693967998959124\" preserveAspectRatio=\"xMinYMin meet\"><g transform=\"matrix(1,0,0,-1,0,14950662.570999999)\"><path fill-rule=\"evenodd\" fill=\"#66cc99\" stroke=\"#555555\" stroke-width=\"0.9930513600073755\" opacity=\"0.6\" d=\"M 288387.08579999954,7475327.8251 L 288387.6507000001,7475314.4663 L 288375.7257000003,7475314.4036 L 288375.43369999994,7475314.4052 L 288342.2449000003,7475312.2775 L 288341.6760999998,7475325.728 L 288359.6350999996,7475326.5829 L 288359.3421,7475332.7702 L 288365.52529999986,7475333.0586 L 288365.8650000002,7475327.009 L 288369.1205000002,7475326.9385 L 288368.6810999997,7475335.552 L 288362.4046,7475345.5865 L 288362.1672,7475345.962 L 288361.65699999966,7475346.7691 L 288366.67090000026,7475350.2935 L 288375.6854999997,7475335.8977 L 288376.12490000017,7475327.2842 L 288387.08579999954,7475327.8251 L 288387.08579999954,7475327.8251 z\" /></g></svg>"
      ],
      "text/plain": [
       "<shapely.geometry.polygon.Polygon at 0x7f7140456b50>"
      ]
     },
     "execution_count": 8,
     "metadata": {},
     "output_type": "execute_result"
    }
   ],
   "source": [
    "# get all geometries of unicamp_utm_df\n",
    "unicamp_geometries = [i for i in unicamp_df.geometry]\n",
    "\n",
    "# geometry example\n",
    "unicamp_geometries[2]"
   ]
  },
  {
   "cell_type": "code",
   "execution_count": 9,
   "metadata": {},
   "outputs": [
    {
     "name": "stdout",
     "output_type": "stream",
     "text": [
      "287109.0126 7473356.5109 289617.4537000004 7475795.9585\n",
      "287109.0126 7473356.5109 289617.4537000004 7475795.9585\n"
     ]
    }
   ],
   "source": [
    "map_minx = 1e+10\n",
    "map_maxx = -1\n",
    "map_miny = 1e+10\n",
    "map_maxy = -1\n",
    "\n",
    "for geometry in range(len(unicamp_geometries)):\n",
    "    \n",
    "    # get all coordinates (x,y) of polygons in unicamp_utm_df\n",
    "    all_coords_per_geometry = mapping(unicamp_geometries[geometry])[\"coordinates\"] \n",
    "\n",
    "    # split all coordinates per geometry and get x coords and y coords\n",
    "    x_coords = [all_coords_per_geometry[0][i][0] for i in range(len(all_coords_per_geometry[0]))]\n",
    "    y_coords = [all_coords_per_geometry[0][i][1] for i in range(len(all_coords_per_geometry[0]))]\n",
    "    \n",
    "    # convert to 2D array\n",
    "    x_coords = np.array(x_coords)\n",
    "    y_coords = np.array(y_coords)\n",
    "    \n",
    "    # get all geometry coords in x and y\n",
    "    if geometry == 0:\n",
    "        all_coords_x = x_coords.copy()\n",
    "        all_coords_y = y_coords.copy()\n",
    "    else:\n",
    "        all_coords_x = np.append (all_coords_x, x_coords.copy(), axis=0)\n",
    "        all_coords_y = np.append (all_coords_y, y_coords.copy(), axis=0)\n",
    "        \n",
    "    # get bounds limits of map and compare with unicamp_utm_df.geometry.total_bounds\n",
    "    # after for loop, limits must be equal\n",
    "    if np.min(x_coords) < map_minx:\n",
    "        map_minx = np.min(x_coords)\n",
    "    if np.max(x_coords) > map_maxx:\n",
    "        map_maxx = np.max(x_coords)\n",
    "    \n",
    "    if np.min(y_coords) < map_miny:\n",
    "        map_miny = np.min(y_coords)\n",
    "    if np.max(y_coords) > map_maxy:\n",
    "        map_maxy = np.max(y_coords)\n",
    "    \n",
    "\n",
    "# after for loop, limits must be equal\n",
    "print(map_minx, map_miny,map_maxx, map_maxy)\n",
    "print(unicamp_minx, unicamp_miny, unicamp_maxx, unicamp_maxy)\n",
    "# yey\n",
    "\n",
    "# convert to 2D array \n",
    "x = np.array(all_coords_x).reshape(-1, 1) # reshape -> 2D array\n",
    "y = np.array(all_coords_y).reshape(-1, 1)"
   ]
  },
  {
   "cell_type": "code",
   "execution_count": null,
   "metadata": {},
   "outputs": [],
   "source": []
  },
  {
   "cell_type": "code",
   "execution_count": 10,
   "metadata": {},
   "outputs": [
    {
     "name": "stdout",
     "output_type": "stream",
     "text": [
      "Shape do Mapa normalizado: (1170, 5)\n"
     ]
    },
    {
     "data": {
      "text/html": [
       "<div>\n",
       "<style scoped>\n",
       "    .dataframe tbody tr th:only-of-type {\n",
       "        vertical-align: middle;\n",
       "    }\n",
       "\n",
       "    .dataframe tbody tr th {\n",
       "        vertical-align: top;\n",
       "    }\n",
       "\n",
       "    .dataframe thead th {\n",
       "        text-align: right;\n",
       "    }\n",
       "</style>\n",
       "<table border=\"1\" class=\"dataframe\">\n",
       "  <thead>\n",
       "    <tr style=\"text-align: right;\">\n",
       "      <th></th>\n",
       "      <th>id</th>\n",
       "      <th>building_number</th>\n",
       "      <th>building_name</th>\n",
       "      <th>unit</th>\n",
       "      <th>geometry</th>\n",
       "    </tr>\n",
       "  </thead>\n",
       "  <tbody>\n",
       "    <tr>\n",
       "      <th>0</th>\n",
       "      <td>444.0</td>\n",
       "      <td>8.0</td>\n",
       "      <td>CASA NO BREAK</td>\n",
       "      <td>INSTITUTO DE FÍSICA\"GLEB WATAGHIN\" (IFGW)</td>\n",
       "      <td>POLYGON ((653.760 1952.626, 653.921 1944.120, ...</td>\n",
       "    </tr>\n",
       "    <tr>\n",
       "      <th>1</th>\n",
       "      <td>65.0</td>\n",
       "      <td>11.0</td>\n",
       "      <td>DEPÓSITO DE MATERIAIS - DEM</td>\n",
       "      <td>HOSPITAL DE CLÍNICAS (HC)</td>\n",
       "      <td>POLYGON ((1014.311 955.448, 1010.857 962.105, ...</td>\n",
       "    </tr>\n",
       "    <tr>\n",
       "      <th>2</th>\n",
       "      <td>1282.0</td>\n",
       "      <td>4.0</td>\n",
       "      <td>SALAS DE AULA</td>\n",
       "      <td>FAC.ENGa.CIVIL,ARQ. E URBANISMO</td>\n",
       "      <td>POLYGON ((1278.073 1971.314, 1278.638 1957.955...</td>\n",
       "    </tr>\n",
       "  </tbody>\n",
       "</table>\n",
       "</div>"
      ],
      "text/plain": [
       "       id  building_number                building_name  \\\n",
       "0   444.0              8.0                CASA NO BREAK   \n",
       "1    65.0             11.0  DEPÓSITO DE MATERIAIS - DEM   \n",
       "2  1282.0              4.0                SALAS DE AULA   \n",
       "\n",
       "                                        unit  \\\n",
       "0  INSTITUTO DE FÍSICA\"GLEB WATAGHIN\" (IFGW)   \n",
       "1                  HOSPITAL DE CLÍNICAS (HC)   \n",
       "2            FAC.ENGa.CIVIL,ARQ. E URBANISMO   \n",
       "\n",
       "                                            geometry  \n",
       "0  POLYGON ((653.760 1952.626, 653.921 1944.120, ...  \n",
       "1  POLYGON ((1014.311 955.448, 1010.857 962.105, ...  \n",
       "2  POLYGON ((1278.073 1971.314, 1278.638 1957.955...  "
      ]
     },
     "execution_count": 10,
     "metadata": {},
     "output_type": "execute_result"
    }
   ],
   "source": [
    "# create a normalized map with unicamp bounds\n",
    "\n",
    "# criando novo mapa, que conterá geometrias normalizadas\n",
    "mapa_normalizado = gpd.GeoDataFrame(columns=[\"id\",\"building_number\",\"building_name\",\"unit\", \"geometry\"])\n",
    "mapa_normalizado['id'] = unicamp_df['Id']\n",
    "mapa_normalizado['building_number'] = unicamp_df['PREDIO']\n",
    "mapa_normalizado['building_name'] = unicamp_df['NOME_DO_PR']\n",
    "mapa_normalizado['unit'] = unicamp_df['UNIDADE']\n",
    "\n",
    "# processo de normalização\n",
    "for geometry in range(len(unicamp_geometries)):\n",
    "\n",
    "    # get all coordinates (x,y) of polygons in unicamp_utm_df\n",
    "    all_coords_per_geometry = mapping(unicamp_geometries[geometry])[\"coordinates\"] \n",
    "    \n",
    "    # split all coordinates per geometry and get x coords and y coords\n",
    "    x_coords = [all_coords_per_geometry[0][i][0] for i in range(len(all_coords_per_geometry[0]))]\n",
    "    y_coords = [all_coords_per_geometry[0][i][1] for i in range(len(all_coords_per_geometry[0]))]\n",
    "    \n",
    "    # convert to 2D array\n",
    "    x_coords = np.array(x_coords).reshape(-1, 1) \n",
    "    y_coords = np.array(y_coords).reshape(-1, 1)\n",
    "    \n",
    "    # define limits of normalization\n",
    "    scaler_x = MinMaxScaler(feature_range = (0, unicamp_maxx - unicamp_minx))\n",
    "    scaler_y = MinMaxScaler(feature_range = (0, unicamp_maxy - unicamp_miny))\n",
    "    \n",
    "    # normalize with all all geometry coords x \n",
    "    scaler_x.fit(x)\n",
    "    transform_x = scaler_x.transform(x_coords)\n",
    "    \n",
    "    # normalize with all all geometry coords y\n",
    "    scaler_y.fit(y)\n",
    "    transform_y = scaler_y.transform(y_coords)\n",
    "    \n",
    "    # convert np array x and y normalized back to polygon\n",
    "    building_geometry = np.append (transform_x, transform_y, axis=1)\n",
    "    new_polygon = Polygon(building_geometry)\n",
    "    \n",
    "    mapa_normalizado.loc[geometry, 'geometry'] = new_polygon\n",
    "    \n",
    "\n",
    "print('Shape do Mapa normalizado:', mapa_normalizado.shape)\n",
    "mapa_normalizado.head(3)"
   ]
  },
  {
   "cell_type": "code",
   "execution_count": 11,
   "metadata": {},
   "outputs": [
    {
     "data": {
      "image/png": "[encoded data removed]",
      "text/plain": [
       "<Figure size 1008x504 with 2 Axes>"
      ]
     },
     "metadata": {
      "needs_background": "light"
     },
     "output_type": "display_data"
    }
   ],
   "source": [
    "# ANTES E DEPOIS DA NORMALIZAÇÃO\n",
    "\n",
    "fig, axes = plt.subplots(1,2, figsize = (14, 7)) # 1 linha, 2 colunas\n",
    "\n",
    "# Mapa da unicamp no crs SIRGAS 2000/ UTM 23S\n",
    "axes[0].set_title('SIRGAS 2000 / UTM 23S', fontsize=15, y=1.02)\n",
    "unicamp_df.plot(ax=axes[0])\n",
    "\n",
    "# Mapa da Unicamp\n",
    "# onde:\n",
    "# - unicamp bounds = 285960.71918678837 7473387.272237044 290348.567447891 7476048.738107968\n",
    "# - maxx - minx    = 4387.848261102627\n",
    "# - maxy - miny    = 2661.465870924294\n",
    "title = 'Mapa Normalizado (~' + str(round(unicamp_maxx-unicamp_minx,2)) + ' x ' + str(round(unicamp_maxy-unicamp_miny,2)) + \"metros)\" \n",
    "axes[1].set_title(title,fontsize=15, y=1.02)\n",
    "mapa_normalizado.plot(ax=axes[1])\n",
    "\n",
    "plt.show()"
   ]
  },
  {
   "cell_type": "code",
   "execution_count": 12,
   "metadata": {},
   "outputs": [
    {
     "data": {
      "text/html": [
       "<div>\n",
       "<style scoped>\n",
       "    .dataframe tbody tr th:only-of-type {\n",
       "        vertical-align: middle;\n",
       "    }\n",
       "\n",
       "    .dataframe tbody tr th {\n",
       "        vertical-align: top;\n",
       "    }\n",
       "\n",
       "    .dataframe thead th {\n",
       "        text-align: right;\n",
       "    }\n",
       "</style>\n",
       "<table border=\"1\" class=\"dataframe\">\n",
       "  <thead>\n",
       "    <tr style=\"text-align: right;\">\n",
       "      <th></th>\n",
       "      <th>id</th>\n",
       "      <th>building_number</th>\n",
       "      <th>building_name</th>\n",
       "      <th>unit</th>\n",
       "      <th>geometry</th>\n",
       "    </tr>\n",
       "  </thead>\n",
       "  <tbody>\n",
       "    <tr>\n",
       "      <th>0</th>\n",
       "      <td>444.0</td>\n",
       "      <td>8.0</td>\n",
       "      <td>CASA NO BREAK</td>\n",
       "      <td>INSTITUTO DE FÍSICA\"GLEB WATAGHIN\" (IFGW)</td>\n",
       "      <td>POLYGON ((653.760 1952.626, 653.921 1944.120, ...</td>\n",
       "    </tr>\n",
       "    <tr>\n",
       "      <th>1</th>\n",
       "      <td>65.0</td>\n",
       "      <td>11.0</td>\n",
       "      <td>DEPÓSITO DE MATERIAIS - DEM</td>\n",
       "      <td>HOSPITAL DE CLÍNICAS (HC)</td>\n",
       "      <td>POLYGON ((1014.311 955.448, 1010.857 962.105, ...</td>\n",
       "    </tr>\n",
       "    <tr>\n",
       "      <th>2</th>\n",
       "      <td>1282.0</td>\n",
       "      <td>4.0</td>\n",
       "      <td>SALAS DE AULA</td>\n",
       "      <td>FAC.ENGa.CIVIL,ARQ. E URBANISMO</td>\n",
       "      <td>POLYGON ((1278.073 1971.314, 1278.638 1957.955...</td>\n",
       "    </tr>\n",
       "  </tbody>\n",
       "</table>\n",
       "</div>"
      ],
      "text/plain": [
       "       id  building_number                building_name  \\\n",
       "0   444.0              8.0                CASA NO BREAK   \n",
       "1    65.0             11.0  DEPÓSITO DE MATERIAIS - DEM   \n",
       "2  1282.0              4.0                SALAS DE AULA   \n",
       "\n",
       "                                        unit  \\\n",
       "0  INSTITUTO DE FÍSICA\"GLEB WATAGHIN\" (IFGW)   \n",
       "1                  HOSPITAL DE CLÍNICAS (HC)   \n",
       "2            FAC.ENGa.CIVIL,ARQ. E URBANISMO   \n",
       "\n",
       "                                            geometry  \n",
       "0  POLYGON ((653.760 1952.626, 653.921 1944.120, ...  \n",
       "1  POLYGON ((1014.311 955.448, 1010.857 962.105, ...  \n",
       "2  POLYGON ((1278.073 1971.314, 1278.638 1957.955...  "
      ]
     },
     "execution_count": 12,
     "metadata": {},
     "output_type": "execute_result"
    }
   ],
   "source": [
    "mapa_normalizado.head(3)"
   ]
  },
  {
   "cell_type": "code",
   "execution_count": null,
   "metadata": {},
   "outputs": [],
   "source": []
  },
  {
   "cell_type": "code",
   "execution_count": 13,
   "metadata": {},
   "outputs": [],
   "source": [
    "# Some useful functions\n",
    "\n",
    "from shapely.geometry import Point\n",
    "from shapely.geometry import box\n",
    "\n",
    "\n",
    "ref_osm_id = int(10000000)\n",
    "def add_dataset_rows(geodataset, new_polygon, name, type_building ):\n",
    "    global ref_osm_id\n",
    "    last_index = geodataset.shape[0]\n",
    "    geodataset.loc[last_index, 'geometry'] = new_polygon\n",
    "    geodataset.loc[last_index, 'osm_id'] = ref_osm_id\n",
    "    geodataset.loc[last_index, 'name'] = name\n",
    "    geodataset.loc[last_index, 'type'] = type_building\n",
    "    ref_osm_id = int(ref_osm_id + 1)\n",
    "    print(\"Novo Shape:\", geodataset.shape)\n",
    "    \n",
    "    return geodataset.iloc[geodataset.shape[0]-1:geodataset.shape[0]]\n",
    "\n",
    "\n",
    "def add_node_dataset_rows(geodataset, name, type_building, point):\n",
    "    global ref_osm_id\n",
    "    last_index = geodataset.shape[0]\n",
    "    geodataset.loc[last_index, 'osm_id'] = ref_osm_id\n",
    "    geodataset.loc[last_index, 'name'] = name\n",
    "    geodataset.loc[last_index, 'type'] = type_building\n",
    "    geodataset.loc[last_index, 'x'] = point.x\n",
    "    geodataset.loc[last_index, 'y'] = point.y\n",
    "    geodataset.loc[last_index, 'z'] = 1.5\n",
    "    \n",
    "    ref_osm_id = int(ref_osm_id + 1)\n",
    "    print(\"Novo Shape:\", geodataset.shape)\n",
    "    \n",
    "    return geodataset.iloc[geodataset.shape[0]-1:geodataset.shape[0]]\n",
    "\n",
    "def get_polygon_coords (polygon):\n",
    "    g = [i for i in polygon.geometry]\n",
    "    x,y = g[0].exterior.coords.xy\n",
    "    coords = np.dstack((x,y)).tolist()\n",
    "    \n",
    "    return coords\n",
    "\n",
    "\n",
    "def create_circle_building(x, y, buffer):\n",
    "    circle = Point(x, y).buffer(buffer) \n",
    "\n",
    "    print(\"Area:\", circle.area)\n",
    "    print(\"Length:\", circle.length)\n",
    "    \n",
    "    return circle\n",
    "\n",
    "def create_box_building(building_name, bounds, offset_xmin, offset_ymin, offset_xmax, offset_ymax):\n",
    "    new_building = box(\n",
    "        bounds[0] - offset_xmin,\n",
    "        bounds[1] - offset_ymin,\n",
    "        bounds[2] -offset_xmax,\n",
    "        bounds[3] -offset_ymax\n",
    "    )\n",
    "\n",
    "    print(\"Bounds do prédio \" + str(building_name) + \":\", bounds)\n",
    "    print(\"\\nÁrea:\", new_building.area)\n",
    "    print(\"Length:\", new_building.length)\n",
    "    \n",
    "    return new_building\n",
    "\n",
    "\n",
    "def compare_buildings(ref_building, new_building):\n",
    "    geodataset_ref = gpd.GeoSeries(ref_building)\n",
    "    ax = geodataset_ref.plot(color='Gray')\n",
    "\n",
    "    geodataset_new = gpd.GeoSeries(new_building)\n",
    "    geodataset_new.plot(ax=ax) \n",
    "\n",
    "    \n",
    "def calculate_distance(osm_id, new_polygon):\n",
    "    # ----- Criação de Geodataframe para o calculo de distancia entre centroids do Museu e predio de referência (Inova)\n",
    "    points_df = gpd.GeoDataFrame(columns=[\"geometry\"])\n",
    "    points_df.loc[:, 'geometry'] = mapa_normalizado.query('osm_id ==' + str(osm_id))['geometry']\n",
    "    points_df.loc[0, 'geometry'] = new_polygon\n",
    "\n",
    "    points_df['centroid'] = points_df[\"geometry\"].centroid\n",
    "\n",
    "    # Cálculo de Distância entre Circle centroids e cada linha do dataset\n",
    "    print(\"Distancia entre centroids:\\n\", points_df.distance(new_polygon.centroid))\n",
    "\n",
    "    return points_df"
   ]
  },
  {
   "cell_type": "code",
   "execution_count": null,
   "metadata": {},
   "outputs": [],
   "source": []
  },
  {
   "cell_type": "markdown",
   "metadata": {},
   "source": [
    "## Buscar e Mapear predios"
   ]
  },
  {
   "cell_type": "code",
   "execution_count": 14,
   "metadata": {},
   "outputs": [],
   "source": [
    "# ----- RESULTADOS DO MAPEAMENTO (prédios com coletores) # id, num_predio\n",
    "\n",
    "# ENCONTRADOS POR CONSULTA DE NOME:\n",
    "# 1. Agência de Inovação Inova Unicamp (INOVA)  # 1321.0 , 1.0 \n",
    "# 2. Biblioteca Central (BC)   # 535.0, 5.0\n",
    "# 3. Centro de Biologia Molecular e Engenharia Genética (CBMEG)   # 802.0, 9.0\n",
    "# 4. Centro de Componentes Semicondutores (CCS)   # 175.0, 1.0 \n",
    "# 5. Centro de Computação (CCUEC)   # 845.0, 8.0\n",
    "# 6. Centro de Diagnóstico de Doenças do Aparelho Digestivo (GASTROCENTRO) # 1037.0, 6.0\n",
    "# 7. Centro de Estudos de Petróleo (CEPETRO) # 1115.0, 6.0\n",
    "# 8. Centro de Hematologia e Hemoterapia (HEMOCENTRO) # 1038.0, 7.0\n",
    "# 9. Centro para Manutenção de Equipamentos (CEMEQ) # 960.0, 15.0 \n",
    "# 10. Ciclo Básico I   #  671.0, 11.0 \n",
    "# 11. Ciclo Básico II  #  663.0, 3.0\n",
    "# 12. Coordenadoria de Desenvolvimento Cultural (CDC) # 533.0, 3.0\n",
    "# 13. Diretoria Geral da Administração (DGA) # 29.0, 1.0\n",
    "# 14. Diretoria Geral de Recursos Humanos (DGRH) # 9.0, 5.0\n",
    "# 15. Divisão de Educação Infantil e Complementar (DEdIC) # 1211.0, 1.0\n",
    "# 16. Engenharia Básica (EB)  # 175.0, 1.0 ~\n",
    "# 17. Escola Estadual de Ensino Fundamental Físico Sérgio Pereira Porto (SERGIO PORTO) # 1220.0, 10.0\n",
    "# 18. Faculdade de Ciências Médicas (FCM) # 1238.0, 1.0 \n",
    "# 19. Faculdade de Educação Física (FEF)  # 727.0, 30.0\n",
    "# 20. Faculdade de Enfermagem (FEnf)      # 1240.0, 3.0\n",
    "# 21. Faculdade de Engenharia Agrícola (FEAGRI)   # 881.0, 1.0\n",
    "# 22. Faculdade de Engenharia Civil, Arquitetura e Urbanismo (FEC)  # 1282.0, 4.0\n",
    "# 23. Faculdade de Engenharia de Alimentos (FEA)   # 300.0, 2.0\n",
    "# 24. Faculdade de Engenharia Elétrica e de Computação (FEEC) # 278.0, 2.0\n",
    "# 25. Faculdade de Engenharia Mecânica (FEM)   # 1151.0, 6.0\n",
    "# 26. Faculdade de Engenharia Química (FEQ)    # 971.0, 28.0\n",
    "# 27. Fundação de Desenvolvimento da Unicamp (FUNCAMP) # --------\n",
    "# 28. Gabinete do Reitor (GR)      # 1.0, 1.0\n",
    "# 29. Grupo Gestor de Obras (GGO)  # 195.0, 8.0\n",
    "# 30. Hospital de Clínicas (HC)    # 59.0, 6.0\n",
    "# 31. Instituto de Artes (IA)      # 513.0, 2.0\n",
    "# 32. Instituto de Biologia (IB)   # 604.0, 5.0\n",
    "# 33. Instituto de Computação (IC) # 776.0, 2.0\n",
    "# 34. Instituto de Estudos da Linguagem (IEL) # \n",
    "# 35. Instituto de Filosofia e Ciências Humanas (IFCH) # \n",
    "# 36. Instituto de Física Gleb Wataghin (IFGW) # \n",
    "# 37. Instituto de Geociências (IG) da Rua Oswaldo Cruz (inferior) \n",
    "# 38. Instituto de Geociências (IG) da Avenida Érico Veríssimo (superior)\n",
    "# 39. Instituto de Matemática, Estatística e Computação Científica (IMECC) # \n",
    "# 40. Instituto de Química (IQ) # \n",
    "# 41. Prefeitura Universitária # \n",
    "# 45. Restaurante Administrativo (RA) # \n",
    "# 46. Restaurante Saturnino (RS) #\n",
    "# 47. Restaurante Universitário (RU) #\n",
    "\n",
    "# NÃO ESTÃO NO MAPA:\n",
    "# 27. Fundação de Desenvolvimento da Unicamp (FUNCAMP) # --------\n",
    "\n",
    "# Casos especiais:\n",
    "# 42. Ponto de ônibus – Rua Roxo Moreira (PO-RM)\n",
    "# 43. Ponto de ônibus – Avenida Adolpho Lutz (PO-AL)\n",
    "# 44. Ponto de ônibus – Rua Vital Brasil (PO-VB)"
   ]
  },
  {
   "cell_type": "code",
   "execution_count": 33,
   "metadata": {},
   "outputs": [
    {
     "data": {
      "text/html": [
       "<div>\n",
       "<style scoped>\n",
       "    .dataframe tbody tr th:only-of-type {\n",
       "        vertical-align: middle;\n",
       "    }\n",
       "\n",
       "    .dataframe tbody tr th {\n",
       "        vertical-align: top;\n",
       "    }\n",
       "\n",
       "    .dataframe thead th {\n",
       "        text-align: right;\n",
       "    }\n",
       "</style>\n",
       "<table border=\"1\" class=\"dataframe\">\n",
       "  <thead>\n",
       "    <tr style=\"text-align: right;\">\n",
       "      <th></th>\n",
       "      <th>id</th>\n",
       "      <th>building_number</th>\n",
       "      <th>building_name</th>\n",
       "      <th>unit</th>\n",
       "      <th>geometry</th>\n",
       "    </tr>\n",
       "  </thead>\n",
       "  <tbody>\n",
       "    <tr>\n",
       "      <th>536</th>\n",
       "      <td>1108.0</td>\n",
       "      <td>1.0</td>\n",
       "      <td>PRÉDIO - COMVEST</td>\n",
       "      <td>REITORIA-COMVEST</td>\n",
       "      <td>POLYGON ((694.721 2379.107, 694.665 2375.106, ...</td>\n",
       "    </tr>\n",
       "  </tbody>\n",
       "</table>\n",
       "</div>"
      ],
      "text/plain": [
       "         id  building_number     building_name              unit  \\\n",
       "536  1108.0              1.0  PRÉDIO - COMVEST  REITORIA-COMVEST   \n",
       "\n",
       "                                              geometry  \n",
       "536  POLYGON ((694.721 2379.107, 694.665 2375.106, ...  "
      ]
     },
     "execution_count": 33,
     "metadata": {},
     "output_type": "execute_result"
    }
   ],
   "source": [
    "# ----- MÉTODOS DE BUSCA PARA MAPEAMENTO\n",
    "\n",
    "# Busca por linha em todo dataset\n",
    "predio = mapa_normalizado.iloc[536:537] #ex Comvest 536-537\n",
    "# print(mapa_normalizado.shape)\n",
    "predio.head(predio.shape[0])\n",
    "\n",
    "# Busca por Nome\n",
    "# predio = mapa_normalizado[mapa_normalizado['building_name'].str.contains(\"COMVEST\",  na=False)]\n",
    "# # predio = mapa_normalizado[mapa_normalizado['unit'].str.contains(\"Comvest\",  na=False)]\n",
    "# print(\"SHAPE:\", predio.shape)\n",
    "# predio.head(22)\n",
    "\n",
    "# Busca de todos os predios com Nome None\n",
    "# predio_sem_indentificacao = mapa_normalizado[mapa_normalizado['name'].isna()]\n",
    "# predio = predio_sem_indentificacao\n",
    "# predio.head()\n",
    "\n",
    "# Busca por linhas de todos os predios com Nome None\n",
    "# predio_sem_indentificacao = mapa_normalizado[mapa_normalizado['name'].isna()]\n",
    "# predio = predio_sem_indentificacao.iloc[47:48] # ex HC\n",
    "# predio.head()"
   ]
  },
  {
   "cell_type": "code",
   "execution_count": 31,
   "metadata": {},
   "outputs": [
    {
     "data": {
      "text/plain": [
       "<AxesSubplot:>"
      ]
     },
     "execution_count": 31,
     "metadata": {},
     "output_type": "execute_result"
    },
    {
     "data": {
      "image/png": "[encoded data removed]",
      "text/plain": [
       "<Figure size 432x288 with 1 Axes>"
      ]
     },
     "metadata": {
      "needs_background": "light"
     },
     "output_type": "display_data"
    }
   ],
   "source": [
    "predio.plot(color=\"red\")"
   ]
  },
  {
   "cell_type": "code",
   "execution_count": 32,
   "metadata": {
    "scrolled": true
   },
   "outputs": [
    {
     "data": {
      "text/plain": [
       "<AxesSubplot:>"
      ]
     },
     "execution_count": 32,
     "metadata": {},
     "output_type": "execute_result"
    },
    {
     "data": {
      "image/png": "[encoded data removed]",
      "text/plain": [
       "<Figure size 864x360 with 1 Axes>"
      ]
     },
     "metadata": {
      "needs_background": "light"
     },
     "output_type": "display_data"
    }
   ],
   "source": [
    "### ----- PLOT DE PREDIO DE ACORDO COM A BUSCA REALIZADA\n",
    "\n",
    "ax = mapa_normalizado.plot(figsize=(12, 5))\n",
    "\n",
    "# predios None\n",
    "predio['geometry'].plot(ax=ax, color='Red')\n",
    "\n",
    "# Para ampliar area mudar param. de set_xlim e set_ylim\n",
    "# minx, miny, maxx, maxy = mapa_normalizado.total_bounds\n",
    "# ax.set_xlim(minx -100, maxx)\n",
    "# ax.set_ylim(miny -100, maxy)"
   ]
  },
  {
   "cell_type": "code",
   "execution_count": null,
   "metadata": {},
   "outputs": [],
   "source": []
  },
  {
   "cell_type": "markdown",
   "metadata": {},
   "source": [
    "## Cria e ADD Pontos não encontrados"
   ]
  },
  {
   "cell_type": "markdown",
   "metadata": {},
   "source": [
    "### IG (parte inferior) e EB"
   ]
  },
  {
   "cell_type": "code",
   "execution_count": 34,
   "metadata": {},
   "outputs": [
    {
     "ename": "UndefinedVariableError",
     "evalue": "name 'osm_id' is not defined",
     "output_type": "error",
     "traceback": [
      "\u001b[0;31m---------------------------------------------------------------------------\u001b[0m",
      "\u001b[0;31mKeyError\u001b[0m                                  Traceback (most recent call last)",
      "\u001b[0;32m~/anaconda3/envs/ns3-buildings/lib/python3.8/site-packages/pandas/core/computation/scope.py\u001b[0m in \u001b[0;36mresolve\u001b[0;34m(self, key, is_local)\u001b[0m\n\u001b[1;32m    199\u001b[0m             \u001b[0;32mif\u001b[0m \u001b[0mself\u001b[0m\u001b[0;34m.\u001b[0m\u001b[0mhas_resolvers\u001b[0m\u001b[0;34m:\u001b[0m\u001b[0;34m\u001b[0m\u001b[0;34m\u001b[0m\u001b[0m\n\u001b[0;32m--> 200\u001b[0;31m                 \u001b[0;32mreturn\u001b[0m \u001b[0mself\u001b[0m\u001b[0;34m.\u001b[0m\u001b[0mresolvers\u001b[0m\u001b[0;34m[\u001b[0m\u001b[0mkey\u001b[0m\u001b[0;34m]\u001b[0m\u001b[0;34m\u001b[0m\u001b[0;34m\u001b[0m\u001b[0m\n\u001b[0m\u001b[1;32m    201\u001b[0m \u001b[0;34m\u001b[0m\u001b[0m\n",
      "\u001b[0;32m~/anaconda3/envs/ns3-buildings/lib/python3.8/collections/__init__.py\u001b[0m in \u001b[0;36m__getitem__\u001b[0;34m(self, key)\u001b[0m\n\u001b[1;32m    897\u001b[0m                 \u001b[0;32mpass\u001b[0m\u001b[0;34m\u001b[0m\u001b[0;34m\u001b[0m\u001b[0m\n\u001b[0;32m--> 898\u001b[0;31m         \u001b[0;32mreturn\u001b[0m \u001b[0mself\u001b[0m\u001b[0;34m.\u001b[0m\u001b[0m__missing__\u001b[0m\u001b[0;34m(\u001b[0m\u001b[0mkey\u001b[0m\u001b[0;34m)\u001b[0m            \u001b[0;31m# support subclasses that define __missing__\u001b[0m\u001b[0;34m\u001b[0m\u001b[0;34m\u001b[0m\u001b[0m\n\u001b[0m\u001b[1;32m    899\u001b[0m \u001b[0;34m\u001b[0m\u001b[0m\n",
      "\u001b[0;32m~/anaconda3/envs/ns3-buildings/lib/python3.8/collections/__init__.py\u001b[0m in \u001b[0;36m__missing__\u001b[0;34m(self, key)\u001b[0m\n\u001b[1;32m    889\u001b[0m     \u001b[0;32mdef\u001b[0m \u001b[0m__missing__\u001b[0m\u001b[0;34m(\u001b[0m\u001b[0mself\u001b[0m\u001b[0;34m,\u001b[0m \u001b[0mkey\u001b[0m\u001b[0;34m)\u001b[0m\u001b[0;34m:\u001b[0m\u001b[0;34m\u001b[0m\u001b[0;34m\u001b[0m\u001b[0m\n\u001b[0;32m--> 890\u001b[0;31m         \u001b[0;32mraise\u001b[0m \u001b[0mKeyError\u001b[0m\u001b[0;34m(\u001b[0m\u001b[0mkey\u001b[0m\u001b[0;34m)\u001b[0m\u001b[0;34m\u001b[0m\u001b[0;34m\u001b[0m\u001b[0m\n\u001b[0m\u001b[1;32m    891\u001b[0m \u001b[0;34m\u001b[0m\u001b[0m\n",
      "\u001b[0;31mKeyError\u001b[0m: 'osm_id'",
      "\nDuring handling of the above exception, another exception occurred:\n",
      "\u001b[0;31mKeyError\u001b[0m                                  Traceback (most recent call last)",
      "\u001b[0;32m~/anaconda3/envs/ns3-buildings/lib/python3.8/site-packages/pandas/core/computation/scope.py\u001b[0m in \u001b[0;36mresolve\u001b[0;34m(self, key, is_local)\u001b[0m\n\u001b[1;32m    210\u001b[0m                 \u001b[0;31m# e.g., df[df > 0]\u001b[0m\u001b[0;34m\u001b[0m\u001b[0;34m\u001b[0m\u001b[0;34m\u001b[0m\u001b[0m\n\u001b[0;32m--> 211\u001b[0;31m                 \u001b[0;32mreturn\u001b[0m \u001b[0mself\u001b[0m\u001b[0;34m.\u001b[0m\u001b[0mtemps\u001b[0m\u001b[0;34m[\u001b[0m\u001b[0mkey\u001b[0m\u001b[0;34m]\u001b[0m\u001b[0;34m\u001b[0m\u001b[0;34m\u001b[0m\u001b[0m\n\u001b[0m\u001b[1;32m    212\u001b[0m             \u001b[0;32mexcept\u001b[0m \u001b[0mKeyError\u001b[0m \u001b[0;32mas\u001b[0m \u001b[0merr\u001b[0m\u001b[0;34m:\u001b[0m\u001b[0;34m\u001b[0m\u001b[0;34m\u001b[0m\u001b[0m\n",
      "\u001b[0;31mKeyError\u001b[0m: 'osm_id'",
      "\nThe above exception was the direct cause of the following exception:\n",
      "\u001b[0;31mUndefinedVariableError\u001b[0m                    Traceback (most recent call last)",
      "\u001b[0;32m<ipython-input-34-8a9ab2328d73>\u001b[0m in \u001b[0;36m<module>\u001b[0;34m\u001b[0m\n\u001b[1;32m      2\u001b[0m \u001b[0;34m\u001b[0m\u001b[0m\n\u001b[1;32m      3\u001b[0m \u001b[0mref_id\u001b[0m \u001b[0;34m=\u001b[0m \u001b[0;36m554951142\u001b[0m\u001b[0;34m\u001b[0m\u001b[0;34m\u001b[0m\u001b[0m\n\u001b[0;32m----> 4\u001b[0;31m \u001b[0mpoint_IG\u001b[0m \u001b[0;34m=\u001b[0m \u001b[0mmapa_normalizado\u001b[0m\u001b[0;34m.\u001b[0m\u001b[0mquery\u001b[0m\u001b[0;34m(\u001b[0m\u001b[0;34m'osm_id =='\u001b[0m \u001b[0;34m+\u001b[0m \u001b[0mstr\u001b[0m\u001b[0;34m(\u001b[0m\u001b[0mref_id\u001b[0m\u001b[0;34m)\u001b[0m\u001b[0;34m)\u001b[0m\u001b[0;34m\u001b[0m\u001b[0;34m\u001b[0m\u001b[0m\n\u001b[0m\u001b[1;32m      5\u001b[0m \u001b[0mprint\u001b[0m\u001b[0;34m(\u001b[0m\u001b[0mpoint_IG\u001b[0m\u001b[0;34m[\u001b[0m\u001b[0;34m'geometry'\u001b[0m\u001b[0;34m]\u001b[0m\u001b[0;34m.\u001b[0m\u001b[0mcentroid\u001b[0m\u001b[0;34m)\u001b[0m\u001b[0;34m\u001b[0m\u001b[0;34m\u001b[0m\u001b[0m\n\u001b[1;32m      6\u001b[0m \u001b[0;34m\u001b[0m\u001b[0m\n",
      "\u001b[0;32m~/anaconda3/envs/ns3-buildings/lib/python3.8/site-packages/pandas/core/frame.py\u001b[0m in \u001b[0;36mquery\u001b[0;34m(self, expr, inplace, **kwargs)\u001b[0m\n\u001b[1;32m   4053\u001b[0m         \u001b[0mkwargs\u001b[0m\u001b[0;34m[\u001b[0m\u001b[0;34m\"level\"\u001b[0m\u001b[0;34m]\u001b[0m \u001b[0;34m=\u001b[0m \u001b[0mkwargs\u001b[0m\u001b[0;34m.\u001b[0m\u001b[0mpop\u001b[0m\u001b[0;34m(\u001b[0m\u001b[0;34m\"level\"\u001b[0m\u001b[0;34m,\u001b[0m \u001b[0;36m0\u001b[0m\u001b[0;34m)\u001b[0m \u001b[0;34m+\u001b[0m \u001b[0;36m1\u001b[0m\u001b[0;34m\u001b[0m\u001b[0;34m\u001b[0m\u001b[0m\n\u001b[1;32m   4054\u001b[0m         \u001b[0mkwargs\u001b[0m\u001b[0;34m[\u001b[0m\u001b[0;34m\"target\"\u001b[0m\u001b[0;34m]\u001b[0m \u001b[0;34m=\u001b[0m \u001b[0;32mNone\u001b[0m\u001b[0;34m\u001b[0m\u001b[0;34m\u001b[0m\u001b[0m\n\u001b[0;32m-> 4055\u001b[0;31m         \u001b[0mres\u001b[0m \u001b[0;34m=\u001b[0m \u001b[0mself\u001b[0m\u001b[0;34m.\u001b[0m\u001b[0meval\u001b[0m\u001b[0;34m(\u001b[0m\u001b[0mexpr\u001b[0m\u001b[0;34m,\u001b[0m \u001b[0;34m**\u001b[0m\u001b[0mkwargs\u001b[0m\u001b[0;34m)\u001b[0m\u001b[0;34m\u001b[0m\u001b[0;34m\u001b[0m\u001b[0m\n\u001b[0m\u001b[1;32m   4056\u001b[0m \u001b[0;34m\u001b[0m\u001b[0m\n\u001b[1;32m   4057\u001b[0m         \u001b[0;32mtry\u001b[0m\u001b[0;34m:\u001b[0m\u001b[0;34m\u001b[0m\u001b[0;34m\u001b[0m\u001b[0m\n",
      "\u001b[0;32m~/anaconda3/envs/ns3-buildings/lib/python3.8/site-packages/pandas/core/frame.py\u001b[0m in \u001b[0;36meval\u001b[0;34m(self, expr, inplace, **kwargs)\u001b[0m\n\u001b[1;32m   4184\u001b[0m         \u001b[0mkwargs\u001b[0m\u001b[0;34m[\u001b[0m\u001b[0;34m\"resolvers\"\u001b[0m\u001b[0;34m]\u001b[0m \u001b[0;34m=\u001b[0m \u001b[0mkwargs\u001b[0m\u001b[0;34m.\u001b[0m\u001b[0mget\u001b[0m\u001b[0;34m(\u001b[0m\u001b[0;34m\"resolvers\"\u001b[0m\u001b[0;34m,\u001b[0m \u001b[0;34m(\u001b[0m\u001b[0;34m)\u001b[0m\u001b[0;34m)\u001b[0m \u001b[0;34m+\u001b[0m \u001b[0mtuple\u001b[0m\u001b[0;34m(\u001b[0m\u001b[0mresolvers\u001b[0m\u001b[0;34m)\u001b[0m\u001b[0;34m\u001b[0m\u001b[0;34m\u001b[0m\u001b[0m\n\u001b[1;32m   4185\u001b[0m \u001b[0;34m\u001b[0m\u001b[0m\n\u001b[0;32m-> 4186\u001b[0;31m         \u001b[0;32mreturn\u001b[0m \u001b[0m_eval\u001b[0m\u001b[0;34m(\u001b[0m\u001b[0mexpr\u001b[0m\u001b[0;34m,\u001b[0m \u001b[0minplace\u001b[0m\u001b[0;34m=\u001b[0m\u001b[0minplace\u001b[0m\u001b[0;34m,\u001b[0m \u001b[0;34m**\u001b[0m\u001b[0mkwargs\u001b[0m\u001b[0;34m)\u001b[0m\u001b[0;34m\u001b[0m\u001b[0;34m\u001b[0m\u001b[0m\n\u001b[0m\u001b[1;32m   4187\u001b[0m \u001b[0;34m\u001b[0m\u001b[0m\n\u001b[1;32m   4188\u001b[0m     \u001b[0;32mdef\u001b[0m \u001b[0mselect_dtypes\u001b[0m\u001b[0;34m(\u001b[0m\u001b[0mself\u001b[0m\u001b[0;34m,\u001b[0m \u001b[0minclude\u001b[0m\u001b[0;34m=\u001b[0m\u001b[0;32mNone\u001b[0m\u001b[0;34m,\u001b[0m \u001b[0mexclude\u001b[0m\u001b[0;34m=\u001b[0m\u001b[0;32mNone\u001b[0m\u001b[0;34m)\u001b[0m \u001b[0;34m->\u001b[0m \u001b[0mDataFrame\u001b[0m\u001b[0;34m:\u001b[0m\u001b[0;34m\u001b[0m\u001b[0;34m\u001b[0m\u001b[0m\n",
      "\u001b[0;32m~/anaconda3/envs/ns3-buildings/lib/python3.8/site-packages/pandas/core/computation/eval.py\u001b[0m in \u001b[0;36meval\u001b[0;34m(expr, parser, engine, truediv, local_dict, global_dict, resolvers, level, target, inplace)\u001b[0m\n\u001b[1;32m    346\u001b[0m         )\n\u001b[1;32m    347\u001b[0m \u001b[0;34m\u001b[0m\u001b[0m\n\u001b[0;32m--> 348\u001b[0;31m         \u001b[0mparsed_expr\u001b[0m \u001b[0;34m=\u001b[0m \u001b[0mExpr\u001b[0m\u001b[0;34m(\u001b[0m\u001b[0mexpr\u001b[0m\u001b[0;34m,\u001b[0m \u001b[0mengine\u001b[0m\u001b[0;34m=\u001b[0m\u001b[0mengine\u001b[0m\u001b[0;34m,\u001b[0m \u001b[0mparser\u001b[0m\u001b[0;34m=\u001b[0m\u001b[0mparser\u001b[0m\u001b[0;34m,\u001b[0m \u001b[0menv\u001b[0m\u001b[0;34m=\u001b[0m\u001b[0menv\u001b[0m\u001b[0;34m)\u001b[0m\u001b[0;34m\u001b[0m\u001b[0;34m\u001b[0m\u001b[0m\n\u001b[0m\u001b[1;32m    349\u001b[0m \u001b[0;34m\u001b[0m\u001b[0m\n\u001b[1;32m    350\u001b[0m         \u001b[0;31m# construct the engine and evaluate the parsed expression\u001b[0m\u001b[0;34m\u001b[0m\u001b[0;34m\u001b[0m\u001b[0;34m\u001b[0m\u001b[0m\n",
      "\u001b[0;32m~/anaconda3/envs/ns3-buildings/lib/python3.8/site-packages/pandas/core/computation/expr.py\u001b[0m in \u001b[0;36m__init__\u001b[0;34m(self, expr, engine, parser, env, level)\u001b[0m\n\u001b[1;32m    804\u001b[0m         \u001b[0mself\u001b[0m\u001b[0;34m.\u001b[0m\u001b[0mparser\u001b[0m \u001b[0;34m=\u001b[0m \u001b[0mparser\u001b[0m\u001b[0;34m\u001b[0m\u001b[0;34m\u001b[0m\u001b[0m\n\u001b[1;32m    805\u001b[0m         \u001b[0mself\u001b[0m\u001b[0;34m.\u001b[0m\u001b[0m_visitor\u001b[0m \u001b[0;34m=\u001b[0m \u001b[0mPARSERS\u001b[0m\u001b[0;34m[\u001b[0m\u001b[0mparser\u001b[0m\u001b[0;34m]\u001b[0m\u001b[0;34m(\u001b[0m\u001b[0mself\u001b[0m\u001b[0;34m.\u001b[0m\u001b[0menv\u001b[0m\u001b[0;34m,\u001b[0m \u001b[0mself\u001b[0m\u001b[0;34m.\u001b[0m\u001b[0mengine\u001b[0m\u001b[0;34m,\u001b[0m \u001b[0mself\u001b[0m\u001b[0;34m.\u001b[0m\u001b[0mparser\u001b[0m\u001b[0;34m)\u001b[0m\u001b[0;34m\u001b[0m\u001b[0;34m\u001b[0m\u001b[0m\n\u001b[0;32m--> 806\u001b[0;31m         \u001b[0mself\u001b[0m\u001b[0;34m.\u001b[0m\u001b[0mterms\u001b[0m \u001b[0;34m=\u001b[0m \u001b[0mself\u001b[0m\u001b[0;34m.\u001b[0m\u001b[0mparse\u001b[0m\u001b[0;34m(\u001b[0m\u001b[0;34m)\u001b[0m\u001b[0;34m\u001b[0m\u001b[0;34m\u001b[0m\u001b[0m\n\u001b[0m\u001b[1;32m    807\u001b[0m \u001b[0;34m\u001b[0m\u001b[0m\n\u001b[1;32m    808\u001b[0m     \u001b[0;34m@\u001b[0m\u001b[0mproperty\u001b[0m\u001b[0;34m\u001b[0m\u001b[0;34m\u001b[0m\u001b[0m\n",
      "\u001b[0;32m~/anaconda3/envs/ns3-buildings/lib/python3.8/site-packages/pandas/core/computation/expr.py\u001b[0m in \u001b[0;36mparse\u001b[0;34m(self)\u001b[0m\n\u001b[1;32m    823\u001b[0m         \u001b[0mParse\u001b[0m \u001b[0man\u001b[0m \u001b[0mexpression\u001b[0m\u001b[0;34m.\u001b[0m\u001b[0;34m\u001b[0m\u001b[0;34m\u001b[0m\u001b[0m\n\u001b[1;32m    824\u001b[0m         \"\"\"\n\u001b[0;32m--> 825\u001b[0;31m         \u001b[0;32mreturn\u001b[0m \u001b[0mself\u001b[0m\u001b[0;34m.\u001b[0m\u001b[0m_visitor\u001b[0m\u001b[0;34m.\u001b[0m\u001b[0mvisit\u001b[0m\u001b[0;34m(\u001b[0m\u001b[0mself\u001b[0m\u001b[0;34m.\u001b[0m\u001b[0mexpr\u001b[0m\u001b[0;34m)\u001b[0m\u001b[0;34m\u001b[0m\u001b[0;34m\u001b[0m\u001b[0m\n\u001b[0m\u001b[1;32m    826\u001b[0m \u001b[0;34m\u001b[0m\u001b[0m\n\u001b[1;32m    827\u001b[0m     \u001b[0;34m@\u001b[0m\u001b[0mproperty\u001b[0m\u001b[0;34m\u001b[0m\u001b[0;34m\u001b[0m\u001b[0m\n",
      "\u001b[0;32m~/anaconda3/envs/ns3-buildings/lib/python3.8/site-packages/pandas/core/computation/expr.py\u001b[0m in \u001b[0;36mvisit\u001b[0;34m(self, node, **kwargs)\u001b[0m\n\u001b[1;32m    409\u001b[0m         \u001b[0mmethod\u001b[0m \u001b[0;34m=\u001b[0m \u001b[0;34m\"visit_\"\u001b[0m \u001b[0;34m+\u001b[0m \u001b[0mtype\u001b[0m\u001b[0;34m(\u001b[0m\u001b[0mnode\u001b[0m\u001b[0;34m)\u001b[0m\u001b[0;34m.\u001b[0m\u001b[0m__name__\u001b[0m\u001b[0;34m\u001b[0m\u001b[0;34m\u001b[0m\u001b[0m\n\u001b[1;32m    410\u001b[0m         \u001b[0mvisitor\u001b[0m \u001b[0;34m=\u001b[0m \u001b[0mgetattr\u001b[0m\u001b[0;34m(\u001b[0m\u001b[0mself\u001b[0m\u001b[0;34m,\u001b[0m \u001b[0mmethod\u001b[0m\u001b[0;34m)\u001b[0m\u001b[0;34m\u001b[0m\u001b[0;34m\u001b[0m\u001b[0m\n\u001b[0;32m--> 411\u001b[0;31m         \u001b[0;32mreturn\u001b[0m \u001b[0mvisitor\u001b[0m\u001b[0;34m(\u001b[0m\u001b[0mnode\u001b[0m\u001b[0;34m,\u001b[0m \u001b[0;34m**\u001b[0m\u001b[0mkwargs\u001b[0m\u001b[0;34m)\u001b[0m\u001b[0;34m\u001b[0m\u001b[0;34m\u001b[0m\u001b[0m\n\u001b[0m\u001b[1;32m    412\u001b[0m \u001b[0;34m\u001b[0m\u001b[0m\n\u001b[1;32m    413\u001b[0m     \u001b[0;32mdef\u001b[0m \u001b[0mvisit_Module\u001b[0m\u001b[0;34m(\u001b[0m\u001b[0mself\u001b[0m\u001b[0;34m,\u001b[0m \u001b[0mnode\u001b[0m\u001b[0;34m,\u001b[0m \u001b[0;34m**\u001b[0m\u001b[0mkwargs\u001b[0m\u001b[0;34m)\u001b[0m\u001b[0;34m:\u001b[0m\u001b[0;34m\u001b[0m\u001b[0;34m\u001b[0m\u001b[0m\n",
      "\u001b[0;32m~/anaconda3/envs/ns3-buildings/lib/python3.8/site-packages/pandas/core/computation/expr.py\u001b[0m in \u001b[0;36mvisit_Module\u001b[0;34m(self, node, **kwargs)\u001b[0m\n\u001b[1;32m    415\u001b[0m             \u001b[0;32mraise\u001b[0m \u001b[0mSyntaxError\u001b[0m\u001b[0;34m(\u001b[0m\u001b[0;34m\"only a single expression is allowed\"\u001b[0m\u001b[0;34m)\u001b[0m\u001b[0;34m\u001b[0m\u001b[0;34m\u001b[0m\u001b[0m\n\u001b[1;32m    416\u001b[0m         \u001b[0mexpr\u001b[0m \u001b[0;34m=\u001b[0m \u001b[0mnode\u001b[0m\u001b[0;34m.\u001b[0m\u001b[0mbody\u001b[0m\u001b[0;34m[\u001b[0m\u001b[0;36m0\u001b[0m\u001b[0;34m]\u001b[0m\u001b[0;34m\u001b[0m\u001b[0;34m\u001b[0m\u001b[0m\n\u001b[0;32m--> 417\u001b[0;31m         \u001b[0;32mreturn\u001b[0m \u001b[0mself\u001b[0m\u001b[0;34m.\u001b[0m\u001b[0mvisit\u001b[0m\u001b[0;34m(\u001b[0m\u001b[0mexpr\u001b[0m\u001b[0;34m,\u001b[0m \u001b[0;34m**\u001b[0m\u001b[0mkwargs\u001b[0m\u001b[0;34m)\u001b[0m\u001b[0;34m\u001b[0m\u001b[0;34m\u001b[0m\u001b[0m\n\u001b[0m\u001b[1;32m    418\u001b[0m \u001b[0;34m\u001b[0m\u001b[0m\n\u001b[1;32m    419\u001b[0m     \u001b[0;32mdef\u001b[0m \u001b[0mvisit_Expr\u001b[0m\u001b[0;34m(\u001b[0m\u001b[0mself\u001b[0m\u001b[0;34m,\u001b[0m \u001b[0mnode\u001b[0m\u001b[0;34m,\u001b[0m \u001b[0;34m**\u001b[0m\u001b[0mkwargs\u001b[0m\u001b[0;34m)\u001b[0m\u001b[0;34m:\u001b[0m\u001b[0;34m\u001b[0m\u001b[0;34m\u001b[0m\u001b[0m\n",
      "\u001b[0;32m~/anaconda3/envs/ns3-buildings/lib/python3.8/site-packages/pandas/core/computation/expr.py\u001b[0m in \u001b[0;36mvisit\u001b[0;34m(self, node, **kwargs)\u001b[0m\n\u001b[1;32m    409\u001b[0m         \u001b[0mmethod\u001b[0m \u001b[0;34m=\u001b[0m \u001b[0;34m\"visit_\"\u001b[0m \u001b[0;34m+\u001b[0m \u001b[0mtype\u001b[0m\u001b[0;34m(\u001b[0m\u001b[0mnode\u001b[0m\u001b[0;34m)\u001b[0m\u001b[0;34m.\u001b[0m\u001b[0m__name__\u001b[0m\u001b[0;34m\u001b[0m\u001b[0;34m\u001b[0m\u001b[0m\n\u001b[1;32m    410\u001b[0m         \u001b[0mvisitor\u001b[0m \u001b[0;34m=\u001b[0m \u001b[0mgetattr\u001b[0m\u001b[0;34m(\u001b[0m\u001b[0mself\u001b[0m\u001b[0;34m,\u001b[0m \u001b[0mmethod\u001b[0m\u001b[0;34m)\u001b[0m\u001b[0;34m\u001b[0m\u001b[0;34m\u001b[0m\u001b[0m\n\u001b[0;32m--> 411\u001b[0;31m         \u001b[0;32mreturn\u001b[0m \u001b[0mvisitor\u001b[0m\u001b[0;34m(\u001b[0m\u001b[0mnode\u001b[0m\u001b[0;34m,\u001b[0m \u001b[0;34m**\u001b[0m\u001b[0mkwargs\u001b[0m\u001b[0;34m)\u001b[0m\u001b[0;34m\u001b[0m\u001b[0;34m\u001b[0m\u001b[0m\n\u001b[0m\u001b[1;32m    412\u001b[0m \u001b[0;34m\u001b[0m\u001b[0m\n\u001b[1;32m    413\u001b[0m     \u001b[0;32mdef\u001b[0m \u001b[0mvisit_Module\u001b[0m\u001b[0;34m(\u001b[0m\u001b[0mself\u001b[0m\u001b[0;34m,\u001b[0m \u001b[0mnode\u001b[0m\u001b[0;34m,\u001b[0m \u001b[0;34m**\u001b[0m\u001b[0mkwargs\u001b[0m\u001b[0;34m)\u001b[0m\u001b[0;34m:\u001b[0m\u001b[0;34m\u001b[0m\u001b[0;34m\u001b[0m\u001b[0m\n",
      "\u001b[0;32m~/anaconda3/envs/ns3-buildings/lib/python3.8/site-packages/pandas/core/computation/expr.py\u001b[0m in \u001b[0;36mvisit_Expr\u001b[0;34m(self, node, **kwargs)\u001b[0m\n\u001b[1;32m    418\u001b[0m \u001b[0;34m\u001b[0m\u001b[0m\n\u001b[1;32m    419\u001b[0m     \u001b[0;32mdef\u001b[0m \u001b[0mvisit_Expr\u001b[0m\u001b[0;34m(\u001b[0m\u001b[0mself\u001b[0m\u001b[0;34m,\u001b[0m \u001b[0mnode\u001b[0m\u001b[0;34m,\u001b[0m \u001b[0;34m**\u001b[0m\u001b[0mkwargs\u001b[0m\u001b[0;34m)\u001b[0m\u001b[0;34m:\u001b[0m\u001b[0;34m\u001b[0m\u001b[0;34m\u001b[0m\u001b[0m\n\u001b[0;32m--> 420\u001b[0;31m         \u001b[0;32mreturn\u001b[0m \u001b[0mself\u001b[0m\u001b[0;34m.\u001b[0m\u001b[0mvisit\u001b[0m\u001b[0;34m(\u001b[0m\u001b[0mnode\u001b[0m\u001b[0;34m.\u001b[0m\u001b[0mvalue\u001b[0m\u001b[0;34m,\u001b[0m \u001b[0;34m**\u001b[0m\u001b[0mkwargs\u001b[0m\u001b[0;34m)\u001b[0m\u001b[0;34m\u001b[0m\u001b[0;34m\u001b[0m\u001b[0m\n\u001b[0m\u001b[1;32m    421\u001b[0m \u001b[0;34m\u001b[0m\u001b[0m\n\u001b[1;32m    422\u001b[0m     \u001b[0;32mdef\u001b[0m \u001b[0m_rewrite_membership_op\u001b[0m\u001b[0;34m(\u001b[0m\u001b[0mself\u001b[0m\u001b[0;34m,\u001b[0m \u001b[0mnode\u001b[0m\u001b[0;34m,\u001b[0m \u001b[0mleft\u001b[0m\u001b[0;34m,\u001b[0m \u001b[0mright\u001b[0m\u001b[0;34m)\u001b[0m\u001b[0;34m:\u001b[0m\u001b[0;34m\u001b[0m\u001b[0;34m\u001b[0m\u001b[0m\n",
      "\u001b[0;32m~/anaconda3/envs/ns3-buildings/lib/python3.8/site-packages/pandas/core/computation/expr.py\u001b[0m in \u001b[0;36mvisit\u001b[0;34m(self, node, **kwargs)\u001b[0m\n\u001b[1;32m    409\u001b[0m         \u001b[0mmethod\u001b[0m \u001b[0;34m=\u001b[0m \u001b[0;34m\"visit_\"\u001b[0m \u001b[0;34m+\u001b[0m \u001b[0mtype\u001b[0m\u001b[0;34m(\u001b[0m\u001b[0mnode\u001b[0m\u001b[0;34m)\u001b[0m\u001b[0;34m.\u001b[0m\u001b[0m__name__\u001b[0m\u001b[0;34m\u001b[0m\u001b[0;34m\u001b[0m\u001b[0m\n\u001b[1;32m    410\u001b[0m         \u001b[0mvisitor\u001b[0m \u001b[0;34m=\u001b[0m \u001b[0mgetattr\u001b[0m\u001b[0;34m(\u001b[0m\u001b[0mself\u001b[0m\u001b[0;34m,\u001b[0m \u001b[0mmethod\u001b[0m\u001b[0;34m)\u001b[0m\u001b[0;34m\u001b[0m\u001b[0;34m\u001b[0m\u001b[0m\n\u001b[0;32m--> 411\u001b[0;31m         \u001b[0;32mreturn\u001b[0m \u001b[0mvisitor\u001b[0m\u001b[0;34m(\u001b[0m\u001b[0mnode\u001b[0m\u001b[0;34m,\u001b[0m \u001b[0;34m**\u001b[0m\u001b[0mkwargs\u001b[0m\u001b[0;34m)\u001b[0m\u001b[0;34m\u001b[0m\u001b[0;34m\u001b[0m\u001b[0m\n\u001b[0m\u001b[1;32m    412\u001b[0m \u001b[0;34m\u001b[0m\u001b[0m\n\u001b[1;32m    413\u001b[0m     \u001b[0;32mdef\u001b[0m \u001b[0mvisit_Module\u001b[0m\u001b[0;34m(\u001b[0m\u001b[0mself\u001b[0m\u001b[0;34m,\u001b[0m \u001b[0mnode\u001b[0m\u001b[0;34m,\u001b[0m \u001b[0;34m**\u001b[0m\u001b[0mkwargs\u001b[0m\u001b[0;34m)\u001b[0m\u001b[0;34m:\u001b[0m\u001b[0;34m\u001b[0m\u001b[0;34m\u001b[0m\u001b[0m\n",
      "\u001b[0;32m~/anaconda3/envs/ns3-buildings/lib/python3.8/site-packages/pandas/core/computation/expr.py\u001b[0m in \u001b[0;36mvisit_Compare\u001b[0;34m(self, node, **kwargs)\u001b[0m\n\u001b[1;32m    716\u001b[0m             \u001b[0mop\u001b[0m \u001b[0;34m=\u001b[0m \u001b[0mself\u001b[0m\u001b[0;34m.\u001b[0m\u001b[0mtranslate_In\u001b[0m\u001b[0;34m(\u001b[0m\u001b[0mops\u001b[0m\u001b[0;34m[\u001b[0m\u001b[0;36m0\u001b[0m\u001b[0;34m]\u001b[0m\u001b[0;34m)\u001b[0m\u001b[0;34m\u001b[0m\u001b[0;34m\u001b[0m\u001b[0m\n\u001b[1;32m    717\u001b[0m             \u001b[0mbinop\u001b[0m \u001b[0;34m=\u001b[0m \u001b[0mast\u001b[0m\u001b[0;34m.\u001b[0m\u001b[0mBinOp\u001b[0m\u001b[0;34m(\u001b[0m\u001b[0mop\u001b[0m\u001b[0;34m=\u001b[0m\u001b[0mop\u001b[0m\u001b[0;34m,\u001b[0m \u001b[0mleft\u001b[0m\u001b[0;34m=\u001b[0m\u001b[0mnode\u001b[0m\u001b[0;34m.\u001b[0m\u001b[0mleft\u001b[0m\u001b[0;34m,\u001b[0m \u001b[0mright\u001b[0m\u001b[0;34m=\u001b[0m\u001b[0mcomps\u001b[0m\u001b[0;34m[\u001b[0m\u001b[0;36m0\u001b[0m\u001b[0;34m]\u001b[0m\u001b[0;34m)\u001b[0m\u001b[0;34m\u001b[0m\u001b[0;34m\u001b[0m\u001b[0m\n\u001b[0;32m--> 718\u001b[0;31m             \u001b[0;32mreturn\u001b[0m \u001b[0mself\u001b[0m\u001b[0;34m.\u001b[0m\u001b[0mvisit\u001b[0m\u001b[0;34m(\u001b[0m\u001b[0mbinop\u001b[0m\u001b[0;34m)\u001b[0m\u001b[0;34m\u001b[0m\u001b[0;34m\u001b[0m\u001b[0m\n\u001b[0m\u001b[1;32m    719\u001b[0m \u001b[0;34m\u001b[0m\u001b[0m\n\u001b[1;32m    720\u001b[0m         \u001b[0;31m# recursive case: we have a chained comparison, a CMP b CMP c, etc.\u001b[0m\u001b[0;34m\u001b[0m\u001b[0;34m\u001b[0m\u001b[0;34m\u001b[0m\u001b[0m\n",
      "\u001b[0;32m~/anaconda3/envs/ns3-buildings/lib/python3.8/site-packages/pandas/core/computation/expr.py\u001b[0m in \u001b[0;36mvisit\u001b[0;34m(self, node, **kwargs)\u001b[0m\n\u001b[1;32m    409\u001b[0m         \u001b[0mmethod\u001b[0m \u001b[0;34m=\u001b[0m \u001b[0;34m\"visit_\"\u001b[0m \u001b[0;34m+\u001b[0m \u001b[0mtype\u001b[0m\u001b[0;34m(\u001b[0m\u001b[0mnode\u001b[0m\u001b[0;34m)\u001b[0m\u001b[0;34m.\u001b[0m\u001b[0m__name__\u001b[0m\u001b[0;34m\u001b[0m\u001b[0;34m\u001b[0m\u001b[0m\n\u001b[1;32m    410\u001b[0m         \u001b[0mvisitor\u001b[0m \u001b[0;34m=\u001b[0m \u001b[0mgetattr\u001b[0m\u001b[0;34m(\u001b[0m\u001b[0mself\u001b[0m\u001b[0;34m,\u001b[0m \u001b[0mmethod\u001b[0m\u001b[0;34m)\u001b[0m\u001b[0;34m\u001b[0m\u001b[0;34m\u001b[0m\u001b[0m\n\u001b[0;32m--> 411\u001b[0;31m         \u001b[0;32mreturn\u001b[0m \u001b[0mvisitor\u001b[0m\u001b[0;34m(\u001b[0m\u001b[0mnode\u001b[0m\u001b[0;34m,\u001b[0m \u001b[0;34m**\u001b[0m\u001b[0mkwargs\u001b[0m\u001b[0;34m)\u001b[0m\u001b[0;34m\u001b[0m\u001b[0;34m\u001b[0m\u001b[0m\n\u001b[0m\u001b[1;32m    412\u001b[0m \u001b[0;34m\u001b[0m\u001b[0m\n\u001b[1;32m    413\u001b[0m     \u001b[0;32mdef\u001b[0m \u001b[0mvisit_Module\u001b[0m\u001b[0;34m(\u001b[0m\u001b[0mself\u001b[0m\u001b[0;34m,\u001b[0m \u001b[0mnode\u001b[0m\u001b[0;34m,\u001b[0m \u001b[0;34m**\u001b[0m\u001b[0mkwargs\u001b[0m\u001b[0;34m)\u001b[0m\u001b[0;34m:\u001b[0m\u001b[0;34m\u001b[0m\u001b[0;34m\u001b[0m\u001b[0m\n",
      "\u001b[0;32m~/anaconda3/envs/ns3-buildings/lib/python3.8/site-packages/pandas/core/computation/expr.py\u001b[0m in \u001b[0;36mvisit_BinOp\u001b[0;34m(self, node, **kwargs)\u001b[0m\n\u001b[1;32m    530\u001b[0m \u001b[0;34m\u001b[0m\u001b[0m\n\u001b[1;32m    531\u001b[0m     \u001b[0;32mdef\u001b[0m \u001b[0mvisit_BinOp\u001b[0m\u001b[0;34m(\u001b[0m\u001b[0mself\u001b[0m\u001b[0;34m,\u001b[0m \u001b[0mnode\u001b[0m\u001b[0;34m,\u001b[0m \u001b[0;34m**\u001b[0m\u001b[0mkwargs\u001b[0m\u001b[0;34m)\u001b[0m\u001b[0;34m:\u001b[0m\u001b[0;34m\u001b[0m\u001b[0;34m\u001b[0m\u001b[0m\n\u001b[0;32m--> 532\u001b[0;31m         \u001b[0mop\u001b[0m\u001b[0;34m,\u001b[0m \u001b[0mop_class\u001b[0m\u001b[0;34m,\u001b[0m \u001b[0mleft\u001b[0m\u001b[0;34m,\u001b[0m \u001b[0mright\u001b[0m \u001b[0;34m=\u001b[0m \u001b[0mself\u001b[0m\u001b[0;34m.\u001b[0m\u001b[0m_maybe_transform_eq_ne\u001b[0m\u001b[0;34m(\u001b[0m\u001b[0mnode\u001b[0m\u001b[0;34m)\u001b[0m\u001b[0;34m\u001b[0m\u001b[0;34m\u001b[0m\u001b[0m\n\u001b[0m\u001b[1;32m    533\u001b[0m         \u001b[0mleft\u001b[0m\u001b[0;34m,\u001b[0m \u001b[0mright\u001b[0m \u001b[0;34m=\u001b[0m \u001b[0mself\u001b[0m\u001b[0;34m.\u001b[0m\u001b[0m_maybe_downcast_constants\u001b[0m\u001b[0;34m(\u001b[0m\u001b[0mleft\u001b[0m\u001b[0;34m,\u001b[0m \u001b[0mright\u001b[0m\u001b[0;34m)\u001b[0m\u001b[0;34m\u001b[0m\u001b[0;34m\u001b[0m\u001b[0m\n\u001b[1;32m    534\u001b[0m         \u001b[0;32mreturn\u001b[0m \u001b[0mself\u001b[0m\u001b[0;34m.\u001b[0m\u001b[0m_maybe_evaluate_binop\u001b[0m\u001b[0;34m(\u001b[0m\u001b[0mop\u001b[0m\u001b[0;34m,\u001b[0m \u001b[0mop_class\u001b[0m\u001b[0;34m,\u001b[0m \u001b[0mleft\u001b[0m\u001b[0;34m,\u001b[0m \u001b[0mright\u001b[0m\u001b[0;34m)\u001b[0m\u001b[0;34m\u001b[0m\u001b[0;34m\u001b[0m\u001b[0m\n",
      "\u001b[0;32m~/anaconda3/envs/ns3-buildings/lib/python3.8/site-packages/pandas/core/computation/expr.py\u001b[0m in \u001b[0;36m_maybe_transform_eq_ne\u001b[0;34m(self, node, left, right)\u001b[0m\n\u001b[1;32m    450\u001b[0m     \u001b[0;32mdef\u001b[0m \u001b[0m_maybe_transform_eq_ne\u001b[0m\u001b[0;34m(\u001b[0m\u001b[0mself\u001b[0m\u001b[0;34m,\u001b[0m \u001b[0mnode\u001b[0m\u001b[0;34m,\u001b[0m \u001b[0mleft\u001b[0m\u001b[0;34m=\u001b[0m\u001b[0;32mNone\u001b[0m\u001b[0;34m,\u001b[0m \u001b[0mright\u001b[0m\u001b[0;34m=\u001b[0m\u001b[0;32mNone\u001b[0m\u001b[0;34m)\u001b[0m\u001b[0;34m:\u001b[0m\u001b[0;34m\u001b[0m\u001b[0;34m\u001b[0m\u001b[0m\n\u001b[1;32m    451\u001b[0m         \u001b[0;32mif\u001b[0m \u001b[0mleft\u001b[0m \u001b[0;32mis\u001b[0m \u001b[0;32mNone\u001b[0m\u001b[0;34m:\u001b[0m\u001b[0;34m\u001b[0m\u001b[0;34m\u001b[0m\u001b[0m\n\u001b[0;32m--> 452\u001b[0;31m             \u001b[0mleft\u001b[0m \u001b[0;34m=\u001b[0m \u001b[0mself\u001b[0m\u001b[0;34m.\u001b[0m\u001b[0mvisit\u001b[0m\u001b[0;34m(\u001b[0m\u001b[0mnode\u001b[0m\u001b[0;34m.\u001b[0m\u001b[0mleft\u001b[0m\u001b[0;34m,\u001b[0m \u001b[0mside\u001b[0m\u001b[0;34m=\u001b[0m\u001b[0;34m\"left\"\u001b[0m\u001b[0;34m)\u001b[0m\u001b[0;34m\u001b[0m\u001b[0;34m\u001b[0m\u001b[0m\n\u001b[0m\u001b[1;32m    453\u001b[0m         \u001b[0;32mif\u001b[0m \u001b[0mright\u001b[0m \u001b[0;32mis\u001b[0m \u001b[0;32mNone\u001b[0m\u001b[0;34m:\u001b[0m\u001b[0;34m\u001b[0m\u001b[0;34m\u001b[0m\u001b[0m\n\u001b[1;32m    454\u001b[0m             \u001b[0mright\u001b[0m \u001b[0;34m=\u001b[0m \u001b[0mself\u001b[0m\u001b[0;34m.\u001b[0m\u001b[0mvisit\u001b[0m\u001b[0;34m(\u001b[0m\u001b[0mnode\u001b[0m\u001b[0;34m.\u001b[0m\u001b[0mright\u001b[0m\u001b[0;34m,\u001b[0m \u001b[0mside\u001b[0m\u001b[0;34m=\u001b[0m\u001b[0;34m\"right\"\u001b[0m\u001b[0;34m)\u001b[0m\u001b[0;34m\u001b[0m\u001b[0;34m\u001b[0m\u001b[0m\n",
      "\u001b[0;32m~/anaconda3/envs/ns3-buildings/lib/python3.8/site-packages/pandas/core/computation/expr.py\u001b[0m in \u001b[0;36mvisit\u001b[0;34m(self, node, **kwargs)\u001b[0m\n\u001b[1;32m    409\u001b[0m         \u001b[0mmethod\u001b[0m \u001b[0;34m=\u001b[0m \u001b[0;34m\"visit_\"\u001b[0m \u001b[0;34m+\u001b[0m \u001b[0mtype\u001b[0m\u001b[0;34m(\u001b[0m\u001b[0mnode\u001b[0m\u001b[0;34m)\u001b[0m\u001b[0;34m.\u001b[0m\u001b[0m__name__\u001b[0m\u001b[0;34m\u001b[0m\u001b[0;34m\u001b[0m\u001b[0m\n\u001b[1;32m    410\u001b[0m         \u001b[0mvisitor\u001b[0m \u001b[0;34m=\u001b[0m \u001b[0mgetattr\u001b[0m\u001b[0;34m(\u001b[0m\u001b[0mself\u001b[0m\u001b[0;34m,\u001b[0m \u001b[0mmethod\u001b[0m\u001b[0;34m)\u001b[0m\u001b[0;34m\u001b[0m\u001b[0;34m\u001b[0m\u001b[0m\n\u001b[0;32m--> 411\u001b[0;31m         \u001b[0;32mreturn\u001b[0m \u001b[0mvisitor\u001b[0m\u001b[0;34m(\u001b[0m\u001b[0mnode\u001b[0m\u001b[0;34m,\u001b[0m \u001b[0;34m**\u001b[0m\u001b[0mkwargs\u001b[0m\u001b[0;34m)\u001b[0m\u001b[0;34m\u001b[0m\u001b[0;34m\u001b[0m\u001b[0m\n\u001b[0m\u001b[1;32m    412\u001b[0m \u001b[0;34m\u001b[0m\u001b[0m\n\u001b[1;32m    413\u001b[0m     \u001b[0;32mdef\u001b[0m \u001b[0mvisit_Module\u001b[0m\u001b[0;34m(\u001b[0m\u001b[0mself\u001b[0m\u001b[0;34m,\u001b[0m \u001b[0mnode\u001b[0m\u001b[0;34m,\u001b[0m \u001b[0;34m**\u001b[0m\u001b[0mkwargs\u001b[0m\u001b[0;34m)\u001b[0m\u001b[0;34m:\u001b[0m\u001b[0;34m\u001b[0m\u001b[0;34m\u001b[0m\u001b[0m\n",
      "\u001b[0;32m~/anaconda3/envs/ns3-buildings/lib/python3.8/site-packages/pandas/core/computation/expr.py\u001b[0m in \u001b[0;36mvisit_Name\u001b[0;34m(self, node, **kwargs)\u001b[0m\n\u001b[1;32m    543\u001b[0m \u001b[0;34m\u001b[0m\u001b[0m\n\u001b[1;32m    544\u001b[0m     \u001b[0;32mdef\u001b[0m \u001b[0mvisit_Name\u001b[0m\u001b[0;34m(\u001b[0m\u001b[0mself\u001b[0m\u001b[0;34m,\u001b[0m \u001b[0mnode\u001b[0m\u001b[0;34m,\u001b[0m \u001b[0;34m**\u001b[0m\u001b[0mkwargs\u001b[0m\u001b[0;34m)\u001b[0m\u001b[0;34m:\u001b[0m\u001b[0;34m\u001b[0m\u001b[0;34m\u001b[0m\u001b[0m\n\u001b[0;32m--> 545\u001b[0;31m         \u001b[0;32mreturn\u001b[0m \u001b[0mself\u001b[0m\u001b[0;34m.\u001b[0m\u001b[0mterm_type\u001b[0m\u001b[0;34m(\u001b[0m\u001b[0mnode\u001b[0m\u001b[0;34m.\u001b[0m\u001b[0mid\u001b[0m\u001b[0;34m,\u001b[0m \u001b[0mself\u001b[0m\u001b[0;34m.\u001b[0m\u001b[0menv\u001b[0m\u001b[0;34m,\u001b[0m \u001b[0;34m**\u001b[0m\u001b[0mkwargs\u001b[0m\u001b[0;34m)\u001b[0m\u001b[0;34m\u001b[0m\u001b[0;34m\u001b[0m\u001b[0m\n\u001b[0m\u001b[1;32m    546\u001b[0m \u001b[0;34m\u001b[0m\u001b[0m\n\u001b[1;32m    547\u001b[0m     \u001b[0;32mdef\u001b[0m \u001b[0mvisit_NameConstant\u001b[0m\u001b[0;34m(\u001b[0m\u001b[0mself\u001b[0m\u001b[0;34m,\u001b[0m \u001b[0mnode\u001b[0m\u001b[0;34m,\u001b[0m \u001b[0;34m**\u001b[0m\u001b[0mkwargs\u001b[0m\u001b[0;34m)\u001b[0m\u001b[0;34m:\u001b[0m\u001b[0;34m\u001b[0m\u001b[0;34m\u001b[0m\u001b[0m\n",
      "\u001b[0;32m~/anaconda3/envs/ns3-buildings/lib/python3.8/site-packages/pandas/core/computation/ops.py\u001b[0m in \u001b[0;36m__init__\u001b[0;34m(self, name, env, side, encoding)\u001b[0m\n\u001b[1;32m     96\u001b[0m         \u001b[0mtname\u001b[0m \u001b[0;34m=\u001b[0m \u001b[0mstr\u001b[0m\u001b[0;34m(\u001b[0m\u001b[0mname\u001b[0m\u001b[0;34m)\u001b[0m\u001b[0;34m\u001b[0m\u001b[0;34m\u001b[0m\u001b[0m\n\u001b[1;32m     97\u001b[0m         \u001b[0mself\u001b[0m\u001b[0;34m.\u001b[0m\u001b[0mis_local\u001b[0m \u001b[0;34m=\u001b[0m \u001b[0mtname\u001b[0m\u001b[0;34m.\u001b[0m\u001b[0mstartswith\u001b[0m\u001b[0;34m(\u001b[0m\u001b[0mLOCAL_TAG\u001b[0m\u001b[0;34m)\u001b[0m \u001b[0;32mor\u001b[0m \u001b[0mtname\u001b[0m \u001b[0;32min\u001b[0m \u001b[0mDEFAULT_GLOBALS\u001b[0m\u001b[0;34m\u001b[0m\u001b[0;34m\u001b[0m\u001b[0m\n\u001b[0;32m---> 98\u001b[0;31m         \u001b[0mself\u001b[0m\u001b[0;34m.\u001b[0m\u001b[0m_value\u001b[0m \u001b[0;34m=\u001b[0m \u001b[0mself\u001b[0m\u001b[0;34m.\u001b[0m\u001b[0m_resolve_name\u001b[0m\u001b[0;34m(\u001b[0m\u001b[0;34m)\u001b[0m\u001b[0;34m\u001b[0m\u001b[0;34m\u001b[0m\u001b[0m\n\u001b[0m\u001b[1;32m     99\u001b[0m         \u001b[0mself\u001b[0m\u001b[0;34m.\u001b[0m\u001b[0mencoding\u001b[0m \u001b[0;34m=\u001b[0m \u001b[0mencoding\u001b[0m\u001b[0;34m\u001b[0m\u001b[0;34m\u001b[0m\u001b[0m\n\u001b[1;32m    100\u001b[0m \u001b[0;34m\u001b[0m\u001b[0m\n",
      "\u001b[0;32m~/anaconda3/envs/ns3-buildings/lib/python3.8/site-packages/pandas/core/computation/ops.py\u001b[0m in \u001b[0;36m_resolve_name\u001b[0;34m(self)\u001b[0m\n\u001b[1;32m    113\u001b[0m \u001b[0;34m\u001b[0m\u001b[0m\n\u001b[1;32m    114\u001b[0m     \u001b[0;32mdef\u001b[0m \u001b[0m_resolve_name\u001b[0m\u001b[0;34m(\u001b[0m\u001b[0mself\u001b[0m\u001b[0;34m)\u001b[0m\u001b[0;34m:\u001b[0m\u001b[0;34m\u001b[0m\u001b[0;34m\u001b[0m\u001b[0m\n\u001b[0;32m--> 115\u001b[0;31m         \u001b[0mres\u001b[0m \u001b[0;34m=\u001b[0m \u001b[0mself\u001b[0m\u001b[0;34m.\u001b[0m\u001b[0menv\u001b[0m\u001b[0;34m.\u001b[0m\u001b[0mresolve\u001b[0m\u001b[0;34m(\u001b[0m\u001b[0mself\u001b[0m\u001b[0;34m.\u001b[0m\u001b[0mlocal_name\u001b[0m\u001b[0;34m,\u001b[0m \u001b[0mis_local\u001b[0m\u001b[0;34m=\u001b[0m\u001b[0mself\u001b[0m\u001b[0;34m.\u001b[0m\u001b[0mis_local\u001b[0m\u001b[0;34m)\u001b[0m\u001b[0;34m\u001b[0m\u001b[0;34m\u001b[0m\u001b[0m\n\u001b[0m\u001b[1;32m    116\u001b[0m         \u001b[0mself\u001b[0m\u001b[0;34m.\u001b[0m\u001b[0mupdate\u001b[0m\u001b[0;34m(\u001b[0m\u001b[0mres\u001b[0m\u001b[0;34m)\u001b[0m\u001b[0;34m\u001b[0m\u001b[0;34m\u001b[0m\u001b[0m\n\u001b[1;32m    117\u001b[0m \u001b[0;34m\u001b[0m\u001b[0m\n",
      "\u001b[0;32m~/anaconda3/envs/ns3-buildings/lib/python3.8/site-packages/pandas/core/computation/scope.py\u001b[0m in \u001b[0;36mresolve\u001b[0;34m(self, key, is_local)\u001b[0m\n\u001b[1;32m    214\u001b[0m                 \u001b[0;32mfrom\u001b[0m \u001b[0mpandas\u001b[0m\u001b[0;34m.\u001b[0m\u001b[0mcore\u001b[0m\u001b[0;34m.\u001b[0m\u001b[0mcomputation\u001b[0m\u001b[0;34m.\u001b[0m\u001b[0mops\u001b[0m \u001b[0;32mimport\u001b[0m \u001b[0mUndefinedVariableError\u001b[0m\u001b[0;34m\u001b[0m\u001b[0;34m\u001b[0m\u001b[0m\n\u001b[1;32m    215\u001b[0m \u001b[0;34m\u001b[0m\u001b[0m\n\u001b[0;32m--> 216\u001b[0;31m                 \u001b[0;32mraise\u001b[0m \u001b[0mUndefinedVariableError\u001b[0m\u001b[0;34m(\u001b[0m\u001b[0mkey\u001b[0m\u001b[0;34m,\u001b[0m \u001b[0mis_local\u001b[0m\u001b[0;34m)\u001b[0m \u001b[0;32mfrom\u001b[0m \u001b[0merr\u001b[0m\u001b[0;34m\u001b[0m\u001b[0;34m\u001b[0m\u001b[0m\n\u001b[0m\u001b[1;32m    217\u001b[0m \u001b[0;34m\u001b[0m\u001b[0m\n\u001b[1;32m    218\u001b[0m     \u001b[0;32mdef\u001b[0m \u001b[0mswapkey\u001b[0m\u001b[0;34m(\u001b[0m\u001b[0mself\u001b[0m\u001b[0;34m,\u001b[0m \u001b[0mold_key\u001b[0m\u001b[0;34m:\u001b[0m \u001b[0mstr\u001b[0m\u001b[0;34m,\u001b[0m \u001b[0mnew_key\u001b[0m\u001b[0;34m:\u001b[0m \u001b[0mstr\u001b[0m\u001b[0;34m,\u001b[0m \u001b[0mnew_value\u001b[0m\u001b[0;34m=\u001b[0m\u001b[0;32mNone\u001b[0m\u001b[0;34m)\u001b[0m \u001b[0;34m->\u001b[0m \u001b[0;32mNone\u001b[0m\u001b[0;34m:\u001b[0m\u001b[0;34m\u001b[0m\u001b[0;34m\u001b[0m\u001b[0m\n",
      "\u001b[0;31mUndefinedVariableError\u001b[0m: name 'osm_id' is not defined"
     ]
    }
   ],
   "source": [
    "# Tratamento para que prédio do IG e EB não tenham o mesmo centroid do prédio com o ID 554951142\n",
    "\n",
    "ref_id = 554951142\n",
    "point_IG = mapa_normalizado.query('osm_id ==' + str(ref_id))\n",
    "print(point_IG['geometry'].centroid)\n",
    "\n",
    "# Get Polygon value\n",
    "# get_polygon_coords(point_IG)"
   ]
  },
  {
   "cell_type": "code",
   "execution_count": null,
   "metadata": {},
   "outputs": [],
   "source": [
    "# Reposicionando posicionamento do IG e EB (ao inves de centroid do prédio)\n",
    "pt_IG = Point(2110, 1110)\n",
    "pt_EB = Point(2060, 1210)\n",
    "\n",
    "# Plot de paradas de ÔNIBUS\n",
    "pt_IG_df = gpd.GeoDataFrame(columns=[\"geometry\"],  crs='EPSG:31983')\n",
    "pt_IG_df.loc[0, 'geometry'] = pt_IG\n",
    "pt_IG_df.loc[1, 'geometry'] = Point (2089.558, 1166.068) # point_IG['geometry'].centroid\n",
    "pt_IG_df.loc[2, 'geometry'] = pt_EB\n",
    "\n",
    "ax = mapa_normalizado['geometry'].plot(figsize=(12, 5))\n",
    "pt_IG_df.plot(ax=ax, color=\"black\")\n",
    "\n",
    "# para ampliar area mudar param. de set_xlim e set_ylim\n",
    "minx, miny, maxx, maxy = mapa_normalizado.total_bounds\n",
    "ax.set_xlim(1500, 3000)\n",
    "ax.set_ylim(1000, 1500)"
   ]
  },
  {
   "cell_type": "markdown",
   "metadata": {},
   "source": [
    "### Paradas de Ônibus"
   ]
  },
  {
   "cell_type": "code",
   "execution_count": null,
   "metadata": {},
   "outputs": [],
   "source": [
    "# Coordenadas obtidas pelo notebook \"Mapa dinâmico\"\n",
    "# Google Maps ajuda nessa parte tb\n",
    "\n",
    "parada_RM = Point(-47.0677, -22.8242) \n",
    "parada_AL = Point(-47.0629, -22.8319) \n",
    "parada_VB = Point(-47.0628, -22.8275)\n",
    "\n",
    "# Convertendo Coordenadas em Degree para metros (31983)\n",
    "pontos_onibus_df = gpd.GeoDataFrame(columns=[\"geometry\"],  crs='EPSG:4326')\n",
    "pontos_onibus_df.loc[0, 'geometry'] = parada_RM\n",
    "pontos_onibus_df.loc[1, 'geometry'] = parada_AL\n",
    "pontos_onibus_df.loc[2, 'geometry'] = parada_VB\n",
    "pontos_onibus_df = pontos_onibus_df.to_crs('EPSG:31983')\n",
    "# pontos_onibus_df.crs\n",
    "pontos_onibus_df"
   ]
  },
  {
   "cell_type": "code",
   "execution_count": null,
   "metadata": {},
   "outputs": [],
   "source": [
    "# PONTOS no CRS EPSG:31983\n",
    "parada_RM = Point(pontos_onibus_df['geometry'][0])\n",
    "parada_AL = Point(pontos_onibus_df['geometry'][1])\n",
    "parada_VB = Point(pontos_onibus_df['geometry'][2])\n",
    "\n",
    "print(parada_RM)\n",
    "print(parada_AL)\n",
    "print(parada_VB)"
   ]
  },
  {
   "cell_type": "code",
   "execution_count": null,
   "metadata": {},
   "outputs": [],
   "source": [
    "# NORMALIZAÇÃO DE PONTOS \n",
    "\n",
    "points = [parada_RM, parada_AL, parada_VB]\n",
    "norm_points = []\n",
    "\n",
    "# convert to 2D array \n",
    "x = np.array(all_coords_x).reshape(-1, 1) # reshape -> 2D array\n",
    "y = np.array(all_coords_y).reshape(-1, 1)\n",
    "\n",
    "for coords in points:\n",
    "    # convert to 2D array\n",
    "    x_coords = np.array([coords.x]).reshape(-1, 1)\n",
    "    y_coords = np.array([coords.y]).reshape(-1, 1)\n",
    "\n",
    "    # define limits of normalization\n",
    "    scaler_x = MinMaxScaler(feature_range = (0, unicamp_maxx - unicamp_minx))\n",
    "    scaler_y = MinMaxScaler(feature_range = (0, unicamp_maxy - unicamp_miny))\n",
    "\n",
    "    # normalize with all all geometry coords x \n",
    "    scaler_x.fit(x)\n",
    "    transform_x = scaler_x.transform(x_coords)\n",
    "\n",
    "    # normalize with all all geometry coords y\n",
    "    scaler_y.fit(y)\n",
    "    transform_y = scaler_y.transform(y_coords)\n",
    "\n",
    "    print(transform_x, transform_y)\n",
    "    norm_points.append(Point(transform_x, transform_y))\n",
    "\n",
    "print(norm_points[0])"
   ]
  },
  {
   "cell_type": "code",
   "execution_count": null,
   "metadata": {},
   "outputs": [],
   "source": [
    "# p/ Plotar paradas de ÔNIBUS\n",
    "pontos_onibus_norm_df = gpd.GeoDataFrame(columns=[\"geometry\"],  crs='EPSG:31983')\n",
    "pontos_onibus_norm_df.loc[0, 'geometry'] = norm_points[0]\n",
    "pontos_onibus_norm_df.loc[1, 'geometry'] = norm_points[1]\n",
    "pontos_onibus_norm_df.loc[2, 'geometry'] = norm_points[2]\n",
    "\n",
    "pontos_onibus_norm_df"
   ]
  },
  {
   "cell_type": "code",
   "execution_count": null,
   "metadata": {},
   "outputs": [],
   "source": [
    "# Plot de paradas de ÔNIBUS\n",
    "ax = mapa_normalizado['geometry'].plot(figsize=(12, 5))\n",
    "pontos_onibus_norm_df.plot(ax=ax, color=\"black\")"
   ]
  },
  {
   "cell_type": "code",
   "execution_count": null,
   "metadata": {
    "scrolled": true
   },
   "outputs": [],
   "source": [
    "a =  mapa_normalizado.iloc[mapa_normalizado.shape[0]-10: mapa_normalizado.shape[0]]\n",
    "a"
   ]
  },
  {
   "cell_type": "code",
   "execution_count": null,
   "metadata": {},
   "outputs": [],
   "source": []
  },
  {
   "cell_type": "code",
   "execution_count": null,
   "metadata": {},
   "outputs": [],
   "source": []
  },
  {
   "cell_type": "markdown",
   "metadata": {},
   "source": [
    "# Criação de dataset dos Prédios da Unicamp\n",
    "\n",
    "- Create a xml file with Unicamp Building shapes & height\n",
    "- The outuput xml file will serve as input of NS3"
   ]
  },
  {
   "cell_type": "code",
   "execution_count": null,
   "metadata": {},
   "outputs": [],
   "source": [
    "# estudando e tratando a string Polygon\n",
    "polygon_str = str(mapa_normalizado['geometry'][0])\n",
    "polygon_coords = polygon_str[polygon_str.find(\"(\") + 2:]\n",
    "polygon_coords = polygon_coords[ : polygon_coords.find(\")\")]\n",
    "polygon_coords"
   ]
  },
  {
   "cell_type": "code",
   "execution_count": null,
   "metadata": {},
   "outputs": [],
   "source": [
    "# Criando xml dataset\n",
    "from xml.dom import minidom\n",
    "import os \n",
    "  \n",
    "root = minidom.Document()\n",
    "  \n",
    "xml = root.createElement('additional') \n",
    "xml.setAttribute('xmlns:xsi','http://www.w3.org/2001/XMLSchema-instance')\n",
    "xml.setAttribute('xsi:noNamespaceSchemaLocation','http://sumo.dlr.de/xsd/additional_file.xsd')\n",
    "root.appendChild(xml)\n",
    "\n",
    "for i in range(len(mapa_normalizado['geometry'])):   \n",
    "    \n",
    "    polygon_str = str(mapa_normalizado['geometry'][i])\n",
    "    polygon_coords = polygon_str[polygon_str.find(\"(\") + 2:]\n",
    "    polygon_coords = polygon_coords[ : polygon_coords.find(\")\")]\n",
    "    \n",
    "    productChild = root.createElement('poly')\n",
    "    productChild.setAttribute('id', str(mapa_normalizado['id'][i]))\n",
    "    productChild.setAttribute('type', 'university')\n",
    "    productChild.setAttribute('color', '255.0,230.0,230.0')\n",
    "    productChild.setAttribute('layer', '-1.0')\n",
    "    productChild.setAttribute('fill', '1')\n",
    "    productChild.setAttribute('height', '6.1')\n",
    "    productChild.setAttribute('shape', polygon_coords)\n",
    "  \n",
    "    xml.appendChild(productChild)\n",
    "  \n",
    "xml_str = root.toprettyxml(indent =\"\\t\") \n",
    "  \n",
    "save_path_file = \"predios_unicamp_dataset.xml\"\n",
    "  \n",
    "with open(save_path_file, \"w\") as f:\n",
    "    f.write(xml_str) \n"
   ]
  },
  {
   "cell_type": "code",
   "execution_count": null,
   "metadata": {},
   "outputs": [],
   "source": [
    "print(\"SHAPE:\", mapa_normalizado.shape)"
   ]
  },
  {
   "cell_type": "code",
   "execution_count": null,
   "metadata": {},
   "outputs": [],
   "source": []
  },
  {
   "cell_type": "code",
   "execution_count": null,
   "metadata": {},
   "outputs": [],
   "source": []
  },
  {
   "cell_type": "markdown",
   "metadata": {},
   "source": [
    "# Criação de dataset do posicionamento dos Coletores\n",
    "\n",
    "- Buscar e Mapear predios que contem coletores\n",
    "    - https://www.prefeitura.unicamp.br/2016/02/26/programa-de-coleta-de-pilhas-e-baterias-instalacao-de-coletores/\n",
    "    - https://unicamp-arcgis.maps.arcgis.com/apps/View/index.html?appid=1d96ada62af4451bb4972b9779d09e66\n",
    "\n",
    "- Rotular prédios sem nome\n",
    "    - Anotar centroids de prédios mapeados\n",
    "- Criar dataset de posicionamento de nós"
   ]
  },
  {
   "cell_type": "code",
   "execution_count": null,
   "metadata": {},
   "outputs": [],
   "source": []
  },
  {
   "cell_type": "markdown",
   "metadata": {},
   "source": [
    "## Rotular prédios sem nome"
   ]
  },
  {
   "cell_type": "code",
   "execution_count": null,
   "metadata": {},
   "outputs": [],
   "source": [
    "# Dataset de Prédios com coletores\n",
    "building_label = {\n",
    "    \"163762428\":\"INOVA\",\n",
    "    \"95463723\": \"BC\",\n",
    "    \"10000003\": \"CBMEG\",\n",
    "    \"554951142\": \"CCS\",\n",
    "    \"10000002\": \"CCUEC\",\n",
    "    \"556327645\": \"GASTROCENTRO\",\n",
    "    \"562047735\": \"CEPETRO\",\n",
    "    \"556327636\": \"HEMOCENTRO\",\n",
    "    \"556327686\": \"CEMEQ\",\n",
    "    \"10000004\": \"CBI\",\n",
    "    \"95011161\": \"CBII\",\n",
    "    \"95463720\": \"CDC\",\n",
    "    \"554951141\": \"DGA\",\n",
    "    \"362643631\": \"DGRH\",\n",
    "    \"537155702\": \"DEdIC\",\n",
    "    \"10000005\": \"Sergio porto\",\n",
    "    \"537142892\": \"FCM\",\n",
    "    \"96446654\": \"FEF\",\n",
    "    \"537142893\": \"FEnf\",\n",
    "    \"97592693\": \"FEAGRI\",\n",
    "    \"556327678\": \"FEC\",\n",
    "    \"554951120\": \"FEA\",\n",
    "    \"269851018\": \"FEEC\",\n",
    "    \"554951124\": \"FEM\",\n",
    "    \"554968138\": \"FEQ\",\n",
    "    \"556327623\": \"FUNCAMP\",\n",
    "    \"562047779\": \"GR\",\n",
    "    \"10000006\": \"GGO\", \n",
    "    \"538334949\": \"HC\",\n",
    "    \"537166697\": \"IA\",\n",
    "    \"95540601\": \"IB\",\n",
    "    \"95011169\": \"IC\",\n",
    "    \"556327698\": \"IEL\",\n",
    "    \"95463722\": \"IFCH\", \n",
    "    \"556327703\": \"IFGW\",\n",
    "    \"10000001\": \"IG-CIMA\", \n",
    "    \"95463724\": \"IMECC\",\n",
    "    \"96493946\": \"IQ\",\n",
    "    \"562047775\": \"PREFEITURA\",\n",
    "    \"269851019\": \"RA\",\n",
    "    \"270488633\": \"RS\",\n",
    "    \"95463718\": \"RU\",        \n",
    "} \n",
    "\n",
    "nodes_df = gpd.GeoDataFrame(columns=['osm_id', 'name', 'type', 'geometry', 'centroid'])\n",
    "\n",
    "# Labeling buildings\n",
    "aux = 0\n",
    "for key, value in building_label.items():\n",
    "    building = mapa_normalizado.query('osm_id ==' + str(key))\n",
    "    building_n = building.copy()\n",
    "    building_n.loc[building.index, 'name'] = value\n",
    "    nodes_df.loc[aux, ['osm_id']] = building_n['osm_id'].values   \n",
    "    nodes_df.loc[aux, ['name']] = building_n['name'].values    \n",
    "    nodes_df.loc[aux, ['type']] = building_n['type'].values\n",
    "    nodes_df.loc[aux, ['geometry']] = building_n['geometry'].values\n",
    "#     nodes_df.loc[aux, ['centroids']] = building_n['centroids'].values\n",
    "    \n",
    "    aux = aux + 1\n",
    "    \n",
    "nodes_df.head()\n",
    "# nodes_df.shape\n"
   ]
  },
  {
   "cell_type": "code",
   "execution_count": null,
   "metadata": {},
   "outputs": [],
   "source": [
    "nodes_df['centroid'] = nodes_df.centroid\n",
    "nodes_df.head()"
   ]
  },
  {
   "cell_type": "code",
   "execution_count": null,
   "metadata": {},
   "outputs": [],
   "source": [
    "ax = mapa_normalizado['geometry'].plot(figsize=(12, 5))\n",
    "\n",
    "# predios com coletores\n",
    "nodes_df['geometry'].plot(ax=ax, color=\"red\")"
   ]
  },
  {
   "cell_type": "markdown",
   "metadata": {},
   "source": [
    "## Criar dataset de posicionamento de nós"
   ]
  },
  {
   "cell_type": "code",
   "execution_count": null,
   "metadata": {},
   "outputs": [],
   "source": [
    "# GENERATE BUILDINGS CSV FILE\n",
    "\n",
    "#---- create a csv file\n",
    "def create_csv(title, colunms_names):\n",
    "    with open(title,\"w+\") as file:\n",
    "        writer = csv.writer(file, delimiter=\",\")\n",
    "        writer.writerow(colunms_names)\n",
    "\n",
    "\n",
    "#---- add row on csv file\n",
    "def add_csv_rows(ns3_settings, colunms_names, title):\n",
    "    for colunm in ns3_settings:\n",
    "        if len(colunm) == len(colunms_names):\n",
    "            with open(title,\"a\") as file:\n",
    "                writer = csv.writer(file, delimiter=\",\")\n",
    "                writer.writerow([x for x in colunm])\n"
   ]
  },
  {
   "cell_type": "code",
   "execution_count": null,
   "metadata": {},
   "outputs": [],
   "source": [
    "colunms_names  = ['osm_id', 'name', 'type', 'x', 'y', 'z']\n",
    "\n",
    "nodes_pos = []\n",
    "for i in range(len(nodes_df.geometry)):\n",
    "    # tratando a string Point\n",
    "    point_str = str(nodes_df['centroid'][i])\n",
    "    point_coords = point_str[point_str.find(\"(\") + 1:]\n",
    "    point_coords = point_coords[ : point_coords.find(\")\")]\n",
    "    x = point_coords.split()[0]\n",
    "    y = point_coords.split()[1]\n",
    "    z = 1.5\n",
    "\n",
    "    items_per_row = [nodes_df.loc[i]['osm_id'],\n",
    "              nodes_df.loc[i]['name'],\n",
    "              nodes_df.loc[i]['type'],\n",
    "              x, y, z]\n",
    "    \n",
    "    nodes_pos.append(items_per_row)\n",
    "\n",
    "output_filename = 'coletores_pos_dataset.csv'\n",
    "create_csv(output_filename, colunms_names)\n",
    "add_csv_rows(nodes_pos, colunms_names, output_filename)"
   ]
  },
  {
   "cell_type": "code",
   "execution_count": null,
   "metadata": {},
   "outputs": [],
   "source": [
    "node_pos_df = pd.read_csv(\"coletores_pos_dataset.csv\") \n",
    "\n",
    "print(\"DATASET SHAPE:\", node_pos_df.shape)\n",
    "node_pos_df.head()"
   ]
  },
  {
   "cell_type": "markdown",
   "metadata": {},
   "source": [
    "## ADD pontos não encontrados"
   ]
  },
  {
   "cell_type": "code",
   "execution_count": null,
   "metadata": {},
   "outputs": [],
   "source": [
    "# ADD pontos\n",
    "add_node_dataset_rows(node_pos_df, \"IG-baixo\", \"university\", pt_IG)\n",
    "add_node_dataset_rows(node_pos_df, \"EB\", \"university\", pt_EB)\n",
    "add_node_dataset_rows(node_pos_df, \"PO-RM\", \"stop_bus\", norm_points[0]) # parada_RM\n",
    "add_node_dataset_rows(node_pos_df, \"PO-AL\", \"stop_bus\", norm_points[1]) # parada_AL\n",
    "add_node_dataset_rows(node_pos_df, \"PO-VB\", \"stop_bus\", norm_points[2]) # parada_VB"
   ]
  },
  {
   "cell_type": "code",
   "execution_count": null,
   "metadata": {},
   "outputs": [],
   "source": [
    "view = node_pos_df.iloc[node_pos_df.shape[0]-10:node_pos_df.shape[0]]\n",
    "view"
   ]
  },
  {
   "cell_type": "code",
   "execution_count": null,
   "metadata": {},
   "outputs": [],
   "source": [
    "ax = mapa_normalizado['geometry'].plot(figsize=(15, 7))\n",
    "\n",
    "# centroids\n",
    "nodes_df[\"centroid\"].plot(ax=ax, color=\"black\")"
   ]
  },
  {
   "cell_type": "code",
   "execution_count": null,
   "metadata": {},
   "outputs": [],
   "source": []
  },
  {
   "cell_type": "markdown",
   "metadata": {},
   "source": [
    "\n",
    "# Salvando Mapa de prédios da Unicamp Normalizado (shapefile)"
   ]
  },
  {
   "cell_type": "code",
   "execution_count": null,
   "metadata": {},
   "outputs": [],
   "source": [
    "# verificando se não foi atribuindo um CRS anteriormente\n",
    "mapa_normalizado.crs is None"
   ]
  },
  {
   "cell_type": "code",
   "execution_count": null,
   "metadata": {},
   "outputs": [],
   "source": [
    "# atribuindo um CRS\n",
    "mapa_normalizado = mapa_normalizado.set_crs('epsg:31983')\n",
    "mapa_normalizado.crs  "
   ]
  },
  {
   "cell_type": "code",
   "execution_count": null,
   "metadata": {},
   "outputs": [],
   "source": [
    "# SALVANDO MAPA NORMALIZADO DE PRÉDIOS no formato Shapefile\n",
    "mapa_normalizado.to_file('mapa_predios_unicamp_normalizado.shp')\n",
    "\n",
    "# Testando abrir arquivo salvo\n",
    "unicamp_gdf = gpd.read_file('mapa_predios_unicamp_normalizado.shp')"
   ]
  },
  {
   "cell_type": "code",
   "execution_count": null,
   "metadata": {},
   "outputs": [],
   "source": [
    "ax = unicamp_gdf['geometry'].plot(figsize=(15, 7), color='purple')"
   ]
  },
  {
   "cell_type": "code",
   "execution_count": null,
   "metadata": {},
   "outputs": [],
   "source": []
  },
  {
   "cell_type": "markdown",
   "metadata": {},
   "source": [
    "# Dataset de Nós - Experimentos Reais"
   ]
  },
  {
   "cell_type": "code",
   "execution_count": null,
   "metadata": {},
   "outputs": [],
   "source": [
    "#---- EXTRACT LAT, LNG and RSSI VALUES FROM txt dataset\n",
    "\n",
    "# The dataset used here is available on: https://github.com/helderbetiol/LoRaWAN-IC2019\n",
    "def get_txt_values(filename):\n",
    "    \n",
    "    # list of all rows of buildings_settings\n",
    "    file_rows = []\n",
    "\n",
    "    # open file in a read mode\n",
    "    file = open(filename, 'r')\n",
    "\n",
    "    for line in file.readlines():\n",
    "        \n",
    "        # create a str without \\n and \",\"\n",
    "        line_str = line.strip().split(\"\\t\")  \n",
    "        file_rows.append(line_str)\n",
    "    \n",
    "    # remove colunm names\n",
    "    file_rows.pop(0)\n",
    "    \n",
    "    return file_rows"
   ]
  },
  {
   "cell_type": "code",
   "execution_count": null,
   "metadata": {},
   "outputs": [],
   "source": [
    "# Apontando para o path do dataset da Unicamp\n",
    "current_path = os.getcwd()\n",
    "map_dataset_path = current_path[:current_path.find('obstacle_exp')]\n",
    "\n",
    "# print(current_path)\n",
    "# print(map_dataset_path)\n",
    "dataset_path = \"datasets/exp-reais-dataset/table-rssi-2805\"\n",
    "txt_rows = get_txt_values(map_dataset_path + dataset_path)\n",
    "# txt_rows"
   ]
  },
  {
   "cell_type": "code",
   "execution_count": null,
   "metadata": {},
   "outputs": [],
   "source": [
    "# Coordenadas obtidas pelo notebook \"Mapa dinâmico\"\n",
    "points_list = []\n",
    "\n",
    "for row in txt_rows:\n",
    "    lat = float(row[1])\n",
    "    lng = float(row[0])\n",
    "    points_list.append(Point(lat, lng))"
   ]
  },
  {
   "cell_type": "code",
   "execution_count": null,
   "metadata": {},
   "outputs": [],
   "source": [
    "# Convertendo Coordenadas em Degree para metros (31983)\n",
    "pontos_rssi_df = gpd.GeoDataFrame(columns=[\"geometry\"],  crs='EPSG:4326')\n",
    "for index in range(len(points_list)):\n",
    "    pontos_rssi_df.loc[index, 'geometry'] = points_list[index]\n",
    "    \n",
    "\n",
    "# PONTOS no CRS EPSG:31983\n",
    "pontos_rssi_df = pontos_rssi_df.to_crs('EPSG:31983')\n",
    "    \n",
    "    \n",
    "print(\"CRS:\\t\", pontos_rssi_df.crs)\n",
    "print(\"SHAPE:\", pontos_rssi_df.shape)\n",
    "pontos_rssi_df.head()"
   ]
  },
  {
   "cell_type": "code",
   "execution_count": null,
   "metadata": {},
   "outputs": [],
   "source": [
    "# NORMALIZAÇÃO DE PONTOS \n",
    "\n",
    "points_list_meters = []\n",
    "for i in range(len(pontos_rssi_df['geometry'])):\n",
    "    points_list_meters.append(pontos_rssi_df['geometry'][i])\n",
    "    \n",
    "norm_points = []\n",
    "\n",
    "# convert to 2D array \n",
    "x = np.array(all_coords_x).reshape(-1, 1) # reshape -> 2D array\n",
    "y = np.array(all_coords_y).reshape(-1, 1)\n",
    "\n",
    "for coords in points_list_meters:\n",
    "    # convert to 2D array\n",
    "    x_coords = np.array([coords.x]).reshape(-1, 1)\n",
    "    y_coords = np.array([coords.y]).reshape(-1, 1)\n",
    "\n",
    "    # define limits of normalization\n",
    "    scaler_x = MinMaxScaler(feature_range = (0, unicamp_maxx - unicamp_minx))\n",
    "    scaler_y = MinMaxScaler(feature_range = (0, unicamp_maxy - unicamp_miny))\n",
    "\n",
    "    # normalize with all all geometry coords x \n",
    "    scaler_x.fit(x)\n",
    "    transform_x = scaler_x.transform(x_coords)\n",
    "\n",
    "    # normalize with all all geometry coords y\n",
    "    scaler_y.fit(y)\n",
    "    transform_y = scaler_y.transform(y_coords)\n",
    "\n",
    "#     print(transform_x, transform_y)\n",
    "    norm_points.append(Point(transform_x, transform_y))\n",
    "\n",
    "print(norm_points[0])"
   ]
  },
  {
   "cell_type": "code",
   "execution_count": null,
   "metadata": {},
   "outputs": [],
   "source": [
    "# p/ Plotar pontos RSSI\n",
    "pontos_rssi_norm_df = gpd.GeoDataFrame(columns=[\"geometry\", \"rssi\"],  crs='EPSG:31983')\n",
    "\n",
    "for index in range(len(norm_points)):\n",
    "    pontos_rssi_norm_df.loc[index, 'geometry'] = norm_points[index]\n",
    "    pontos_rssi_norm_df.loc[index, 'rssi'] = txt_rows[index][2]\n",
    "\n",
    "pontos_rssi_norm_df.head()"
   ]
  },
  {
   "cell_type": "code",
   "execution_count": null,
   "metadata": {},
   "outputs": [],
   "source": [
    "# visualização de pontos normalizados\n",
    "\n",
    "ax = mapa_normalizado['geometry'].plot(figsize=(15, 7))\n",
    "\n",
    "# pontos_rssi_norm_df.plot(ax =ax, color= 'red', alpha=0.5, linewidth=0.5, edgecolor='k')\n",
    "pontos_rssi_norm_df.plot(ax =ax, color= 'red', alpha=0.5, linewidth=1, markersize =7)"
   ]
  },
  {
   "cell_type": "code",
   "execution_count": null,
   "metadata": {},
   "outputs": [],
   "source": [
    "pontos_rssi_norm_df.head()"
   ]
  },
  {
   "cell_type": "code",
   "execution_count": null,
   "metadata": {},
   "outputs": [],
   "source": [
    "# Criar csv\n",
    "\n",
    "colunms_names  = ['rssi', 'x', 'y', 'z']\n",
    "\n",
    "nodes_pos = []\n",
    "for i in range(len(pontos_rssi_norm_df.geometry)):\n",
    "    # tratando a string Point\n",
    "    point_str = str(pontos_rssi_norm_df['geometry'][i])\n",
    "    point_coords = point_str[point_str.find(\"(\") + 1:]\n",
    "    point_coords = point_coords[ : point_coords.find(\")\")]\n",
    "    x = point_coords.split()[0]\n",
    "    y = point_coords.split()[1]\n",
    "    z = 1.5\n",
    "\n",
    "    items_per_row = [\n",
    "        pontos_rssi_norm_df.loc[i]['rssi'],\n",
    "        x,\n",
    "        y,\n",
    "        z\n",
    "    ]\n",
    "    \n",
    "    nodes_pos.append(items_per_row)\n",
    "\n",
    "output_filename = 'rssi_dataset.csv'\n",
    "create_csv(output_filename, colunms_names)\n",
    "add_csv_rows(nodes_pos, colunms_names, output_filename)"
   ]
  },
  {
   "cell_type": "code",
   "execution_count": null,
   "metadata": {},
   "outputs": [],
   "source": [
    "# visualizando dataset criado\n",
    "rssi_node_pos_df = pd.read_csv('rssi_dataset.csv') \n",
    "\n",
    "print(\"DATASET SHAPE:\", rssi_node_pos_df.shape)\n",
    "rssi_node_pos_df.head()"
   ]
  },
  {
   "cell_type": "code",
   "execution_count": null,
   "metadata": {},
   "outputs": [],
   "source": []
  }
 ],
 "metadata": {
  "kernelspec": {
   "display_name": "Python 3",
   "language": "python",
   "name": "python3"
  },
  "language_info": {
   "codemirror_mode": {
    "name": "ipython",
    "version": 3
   },
   "file_extension": ".py",
   "mimetype": "text/x-python",
   "name": "python",
   "nbconvert_exporter": "python",
   "pygments_lexer": "ipython3",
   "version": "3.8.11"
  }
 },
 "nbformat": 4,
 "nbformat_minor": 4
}
