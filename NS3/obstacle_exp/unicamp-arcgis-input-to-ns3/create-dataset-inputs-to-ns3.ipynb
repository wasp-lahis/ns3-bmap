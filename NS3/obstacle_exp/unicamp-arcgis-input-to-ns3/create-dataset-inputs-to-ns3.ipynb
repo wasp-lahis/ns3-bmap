{
 "cells": [
  {
   "cell_type": "code",
   "execution_count": 1,
   "metadata": {},
   "outputs": [],
   "source": [
    "# ----- LIBS\n",
    "\n",
    "# geoprocessamento\n",
    "import geopandas as gpd\n",
    "from shapely.geometry import Polygon\n",
    "from shapely.geometry import Point\n",
    "from shapely.geometry import box\n",
    "from shapely.geometry import mapping\n",
    "\n",
    "# normalizar\n",
    "import numpy as np\n",
    "from shapely.geometry import mapping\n",
    "from sklearn.preprocessing import MinMaxScaler\n",
    "\n",
    "# plots\n",
    "import matplotlib.pyplot as plt\n",
    "\n",
    "# gerar e visualizar csv\n",
    "import csv\n",
    "import pandas as pd"
   ]
  },
  {
   "cell_type": "code",
   "execution_count": null,
   "metadata": {},
   "outputs": [],
   "source": []
  },
  {
   "cell_type": "code",
   "execution_count": null,
   "metadata": {},
   "outputs": [],
   "source": []
  },
  {
   "cell_type": "code",
   "execution_count": null,
   "metadata": {},
   "outputs": [],
   "source": []
  },
  {
   "cell_type": "markdown",
   "metadata": {},
   "source": [
    "# Extração de shapes e Plots da Unicamp\n",
    "\n",
    "- Extração de região geográfica de interesse (bbbike) no formato .shp\n",
    "- Plot de shapes"
   ]
  },
  {
   "cell_type": "code",
   "execution_count": 2,
   "metadata": {},
   "outputs": [],
   "source": [
    "# Apontando para o path do dataset do Mapa de Edificações \n",
    "# - https://unicamp-arcgis.maps.arcgis.com/apps/View/index.html?appid=1d96ada62af4451bb4972b9779d09e66\n",
    "\n",
    "import os\n",
    "\n",
    "current_path = os.getcwd()\n",
    "# print(current_path)\n",
    "# print(current_path.find('obstacle_exp'))\n",
    "# print(current_path[0:current_path.find('obstacle_exp')])\n",
    "\n",
    "map_dataset_path = current_path[0:current_path.find('obstacle_exp')]\n",
    "building_shp_path = \"datasets/unicamp-arcgis-dataset/edificacoes.shp\"\n",
    "\n",
    "unicamp_building_dataset_path = map_dataset_path + building_shp_path"
   ]
  },
  {
   "cell_type": "code",
   "execution_count": 3,
   "metadata": {},
   "outputs": [
    {
     "name": "stdout",
     "output_type": "stream",
     "text": [
      "SHAPE: (1170, 8)\n"
     ]
    },
    {
     "data": {
      "text/html": [
       "<div>\n",
       "<style scoped>\n",
       "    .dataframe tbody tr th:only-of-type {\n",
       "        vertical-align: middle;\n",
       "    }\n",
       "\n",
       "    .dataframe tbody tr th {\n",
       "        vertical-align: top;\n",
       "    }\n",
       "\n",
       "    .dataframe thead th {\n",
       "        text-align: right;\n",
       "    }\n",
       "</style>\n",
       "<table border=\"1\" class=\"dataframe\">\n",
       "  <thead>\n",
       "    <tr style=\"text-align: right;\">\n",
       "      <th></th>\n",
       "      <th>Id</th>\n",
       "      <th>PREDIO</th>\n",
       "      <th>NOME_DO_PR</th>\n",
       "      <th>UNIDADE</th>\n",
       "      <th>GlobalID</th>\n",
       "      <th>Shape_Leng</th>\n",
       "      <th>Shape_Area</th>\n",
       "      <th>geometry</th>\n",
       "    </tr>\n",
       "  </thead>\n",
       "  <tbody>\n",
       "    <tr>\n",
       "      <th>0</th>\n",
       "      <td>444.0</td>\n",
       "      <td>8.0</td>\n",
       "      <td>CASA NO BREAK</td>\n",
       "      <td>INSTITUTO DE FÍSICA\"GLEB WATAGHIN\" (IFGW)</td>\n",
       "      <td>{A3AA0550-2317-433F-888F-BBA6148200AF}</td>\n",
       "      <td>49.024480</td>\n",
       "      <td>135.943591</td>\n",
       "      <td>POLYGON Z ((287762.773 7475309.137 0.000, 2877...</td>\n",
       "    </tr>\n",
       "    <tr>\n",
       "      <th>1</th>\n",
       "      <td>65.0</td>\n",
       "      <td>11.0</td>\n",
       "      <td>DEPÓSITO DE MATERIAIS - DEM</td>\n",
       "      <td>HOSPITAL DE CLÍNICAS (HC)</td>\n",
       "      <td>{418DC5B5-3050-40D4-BC58-E4BDFA11D4F3}</td>\n",
       "      <td>56.199993</td>\n",
       "      <td>190.900186</td>\n",
       "      <td>POLYGON Z ((288123.323 7474311.958 0.000, 2881...</td>\n",
       "    </tr>\n",
       "  </tbody>\n",
       "</table>\n",
       "</div>"
      ],
      "text/plain": [
       "      Id  PREDIO                   NOME_DO_PR  \\\n",
       "0  444.0     8.0                CASA NO BREAK   \n",
       "1   65.0    11.0  DEPÓSITO DE MATERIAIS - DEM   \n",
       "\n",
       "                                     UNIDADE  \\\n",
       "0  INSTITUTO DE FÍSICA\"GLEB WATAGHIN\" (IFGW)   \n",
       "1                  HOSPITAL DE CLÍNICAS (HC)   \n",
       "\n",
       "                                 GlobalID  Shape_Leng  Shape_Area  \\\n",
       "0  {A3AA0550-2317-433F-888F-BBA6148200AF}   49.024480  135.943591   \n",
       "1  {418DC5B5-3050-40D4-BC58-E4BDFA11D4F3}   56.199993  190.900186   \n",
       "\n",
       "                                            geometry  \n",
       "0  POLYGON Z ((287762.773 7475309.137 0.000, 2877...  \n",
       "1  POLYGON Z ((288123.323 7474311.958 0.000, 2881...  "
      ]
     },
     "execution_count": 3,
     "metadata": {},
     "output_type": "execute_result"
    }
   ],
   "source": [
    "# ----- READ BUILDING SHAPES DATASET\n",
    "\n",
    "unicamp_df = gpd.read_file(unicamp_building_dataset_path)\n",
    "# unicamp_roads_df = gpd.read_file(unicamp_roads_dataset_path)\n",
    "\n",
    "print('SHAPE:', unicamp_df.shape)\n",
    "unicamp_df.head(2)"
   ]
  },
  {
   "cell_type": "code",
   "execution_count": 4,
   "metadata": {},
   "outputs": [
    {
     "data": {
      "image/png": "[encoded data removed]",
      "text/plain": [
       "<Figure size 864x360 with 1 Axes>"
      ]
     },
     "metadata": {
      "needs_background": "light"
     },
     "output_type": "display_data"
    }
   ],
   "source": [
    "# ----- Plot UNICAMP MAPA Edificações\n",
    "ax = unicamp_df.plot(figsize=(12, 5))"
   ]
  },
  {
   "cell_type": "code",
   "execution_count": 5,
   "metadata": {},
   "outputs": [
    {
     "data": {
      "text/html": [
       "<div>\n",
       "<style scoped>\n",
       "    .dataframe tbody tr th:only-of-type {\n",
       "        vertical-align: middle;\n",
       "    }\n",
       "\n",
       "    .dataframe tbody tr th {\n",
       "        vertical-align: top;\n",
       "    }\n",
       "\n",
       "    .dataframe thead th {\n",
       "        text-align: right;\n",
       "    }\n",
       "</style>\n",
       "<table border=\"1\" class=\"dataframe\">\n",
       "  <thead>\n",
       "    <tr style=\"text-align: right;\">\n",
       "      <th></th>\n",
       "      <th>Id</th>\n",
       "      <th>PREDIO</th>\n",
       "      <th>NOME_DO_PR</th>\n",
       "      <th>UNIDADE</th>\n",
       "      <th>GlobalID</th>\n",
       "      <th>Shape_Leng</th>\n",
       "      <th>Shape_Area</th>\n",
       "      <th>geometry</th>\n",
       "      <th>centroids</th>\n",
       "    </tr>\n",
       "  </thead>\n",
       "  <tbody>\n",
       "    <tr>\n",
       "      <th>0</th>\n",
       "      <td>444.0</td>\n",
       "      <td>8.0</td>\n",
       "      <td>CASA NO BREAK</td>\n",
       "      <td>INSTITUTO DE FÍSICA\"GLEB WATAGHIN\" (IFGW)</td>\n",
       "      <td>{A3AA0550-2317-433F-888F-BBA6148200AF}</td>\n",
       "      <td>49.024480</td>\n",
       "      <td>135.943591</td>\n",
       "      <td>POLYGON Z ((287762.773 7475309.137 0.000, 2877...</td>\n",
       "      <td>POINT (287754.847 7475304.757)</td>\n",
       "    </tr>\n",
       "    <tr>\n",
       "      <th>1</th>\n",
       "      <td>65.0</td>\n",
       "      <td>11.0</td>\n",
       "      <td>DEPÓSITO DE MATERIAIS - DEM</td>\n",
       "      <td>HOSPITAL DE CLÍNICAS (HC)</td>\n",
       "      <td>{418DC5B5-3050-40D4-BC58-E4BDFA11D4F3}</td>\n",
       "      <td>56.199993</td>\n",
       "      <td>190.900186</td>\n",
       "      <td>POLYGON Z ((288123.323 7474311.958 0.000, 2881...</td>\n",
       "      <td>POINT (288127.015 7474321.129)</td>\n",
       "    </tr>\n",
       "  </tbody>\n",
       "</table>\n",
       "</div>"
      ],
      "text/plain": [
       "      Id  PREDIO                   NOME_DO_PR  \\\n",
       "0  444.0     8.0                CASA NO BREAK   \n",
       "1   65.0    11.0  DEPÓSITO DE MATERIAIS - DEM   \n",
       "\n",
       "                                     UNIDADE  \\\n",
       "0  INSTITUTO DE FÍSICA\"GLEB WATAGHIN\" (IFGW)   \n",
       "1                  HOSPITAL DE CLÍNICAS (HC)   \n",
       "\n",
       "                                 GlobalID  Shape_Leng  Shape_Area  \\\n",
       "0  {A3AA0550-2317-433F-888F-BBA6148200AF}   49.024480  135.943591   \n",
       "1  {418DC5B5-3050-40D4-BC58-E4BDFA11D4F3}   56.199993  190.900186   \n",
       "\n",
       "                                            geometry  \\\n",
       "0  POLYGON Z ((287762.773 7475309.137 0.000, 2877...   \n",
       "1  POLYGON Z ((288123.323 7474311.958 0.000, 2881...   \n",
       "\n",
       "                        centroids  \n",
       "0  POINT (287754.847 7475304.757)  \n",
       "1  POINT (288127.015 7474321.129)  "
      ]
     },
     "execution_count": 5,
     "metadata": {},
     "output_type": "execute_result"
    }
   ],
   "source": [
    "# Add coluna com centroids\n",
    "\n",
    "unicamp_df['centroids'] = unicamp_df.centroid\n",
    "# unicamp_df['centroids']\n",
    "unicamp_df.head(2)"
   ]
  },
  {
   "cell_type": "code",
   "execution_count": 6,
   "metadata": {},
   "outputs": [],
   "source": [
    "# predio = unicamp_df[unicamp_df['UNIDADE'].str.contains(\"INOVA\",  na=False)]\n",
    "# print(\"SHAPE:\", predio.shape)\n",
    "# predio.head()"
   ]
  },
  {
   "cell_type": "code",
   "execution_count": null,
   "metadata": {},
   "outputs": [],
   "source": []
  },
  {
   "cell_type": "markdown",
   "metadata": {},
   "source": [
    "# Normalização de Mapa da Unicamp"
   ]
  },
  {
   "cell_type": "code",
   "execution_count": 7,
   "metadata": {},
   "outputs": [
    {
     "name": "stdout",
     "output_type": "stream",
     "text": [
      "bounds: 287109.0126 7473356.5109 289617.4537000004 7475795.9585\n",
      "x: 2508.441100000404\n",
      "y: 2439.4475999996066\n"
     ]
    }
   ],
   "source": [
    "# Bounds of Unicamp Map\n",
    "unicamp_minx, unicamp_miny, unicamp_maxx, unicamp_maxy = unicamp_df.geometry.total_bounds\n",
    "\n",
    "print('bounds:', unicamp_minx, unicamp_miny, unicamp_maxx, unicamp_maxy)\n",
    "print('x:', unicamp_maxx-unicamp_minx)\n",
    "print('y:', unicamp_maxy- unicamp_miny)"
   ]
  },
  {
   "cell_type": "code",
   "execution_count": 8,
   "metadata": {},
   "outputs": [
    {
     "data": {
      "image/svg+xml": [
       "<svg xmlns=\"http://www.w3.org/2000/svg\" xmlns:xlink=\"http://www.w3.org/1999/xlink\" width=\"100.0\" height=\"100.0\" viewBox=\"288339.8371159998 7475310.438516 49.652568000368774 41.693967998959124\" preserveAspectRatio=\"xMinYMin meet\"><g transform=\"matrix(1,0,0,-1,0,14950662.570999999)\"><path fill-rule=\"evenodd\" fill=\"#66cc99\" stroke=\"#555555\" stroke-width=\"0.9930513600073755\" opacity=\"0.6\" d=\"M 288387.08579999954,7475327.8251 L 288387.6507000001,7475314.4663 L 288375.7257000003,7475314.4036 L 288375.43369999994,7475314.4052 L 288342.2449000003,7475312.2775 L 288341.6760999998,7475325.728 L 288359.6350999996,7475326.5829 L 288359.3421,7475332.7702 L 288365.52529999986,7475333.0586 L 288365.8650000002,7475327.009 L 288369.1205000002,7475326.9385 L 288368.6810999997,7475335.552 L 288362.4046,7475345.5865 L 288362.1672,7475345.962 L 288361.65699999966,7475346.7691 L 288366.67090000026,7475350.2935 L 288375.6854999997,7475335.8977 L 288376.12490000017,7475327.2842 L 288387.08579999954,7475327.8251 L 288387.08579999954,7475327.8251 z\" /></g></svg>"
      ],
      "text/plain": [
       "<shapely.geometry.polygon.Polygon at 0x7fa2d84c0eb0>"
      ]
     },
     "execution_count": 8,
     "metadata": {},
     "output_type": "execute_result"
    }
   ],
   "source": [
    "# get all geometries of unicamp_utm_df\n",
    "unicamp_geometries = [i for i in unicamp_df.geometry]\n",
    "\n",
    "# geometry example\n",
    "unicamp_geometries[2]"
   ]
  },
  {
   "cell_type": "code",
   "execution_count": 9,
   "metadata": {},
   "outputs": [
    {
     "name": "stdout",
     "output_type": "stream",
     "text": [
      "287109.0126 7473356.5109 289617.4537000004 7475795.9585\n",
      "287109.0126 7473356.5109 289617.4537000004 7475795.9585\n"
     ]
    }
   ],
   "source": [
    "map_minx = 1e+10\n",
    "map_maxx = -1\n",
    "map_miny = 1e+10\n",
    "map_maxy = -1\n",
    "\n",
    "for geometry in range(len(unicamp_geometries)):\n",
    "    \n",
    "    # get all coordinates (x,y) of polygons in unicamp_utm_df\n",
    "    all_coords_per_geometry = mapping(unicamp_geometries[geometry])[\"coordinates\"] \n",
    "\n",
    "    # split all coordinates per geometry and get x coords and y coords\n",
    "    x_coords = [all_coords_per_geometry[0][i][0] for i in range(len(all_coords_per_geometry[0]))]\n",
    "    y_coords = [all_coords_per_geometry[0][i][1] for i in range(len(all_coords_per_geometry[0]))]\n",
    "    \n",
    "    # convert to 2D array\n",
    "    x_coords = np.array(x_coords)\n",
    "    y_coords = np.array(y_coords)\n",
    "    \n",
    "    # get all geometry coords in x and y\n",
    "    if geometry == 0:\n",
    "        all_coords_x = x_coords.copy()\n",
    "        all_coords_y = y_coords.copy()\n",
    "    else:\n",
    "        all_coords_x = np.append (all_coords_x, x_coords.copy(), axis=0)\n",
    "        all_coords_y = np.append (all_coords_y, y_coords.copy(), axis=0)\n",
    "        \n",
    "    # get bounds limits of map and compare with unicamp_utm_df.geometry.total_bounds\n",
    "    # after for loop, limits must be equal\n",
    "    if np.min(x_coords) < map_minx:\n",
    "        map_minx = np.min(x_coords)\n",
    "    if np.max(x_coords) > map_maxx:\n",
    "        map_maxx = np.max(x_coords)\n",
    "    \n",
    "    if np.min(y_coords) < map_miny:\n",
    "        map_miny = np.min(y_coords)\n",
    "    if np.max(y_coords) > map_maxy:\n",
    "        map_maxy = np.max(y_coords)\n",
    "    \n",
    "\n",
    "# after for loop, limits must be equal\n",
    "print(map_minx, map_miny,map_maxx, map_maxy)\n",
    "print(unicamp_minx, unicamp_miny, unicamp_maxx, unicamp_maxy)\n",
    "# yey\n",
    "\n",
    "# convert to 2D array \n",
    "x = np.array(all_coords_x).reshape(-1, 1) # reshape -> 2D array\n",
    "y = np.array(all_coords_y).reshape(-1, 1)"
   ]
  },
  {
   "cell_type": "code",
   "execution_count": 10,
   "metadata": {},
   "outputs": [
    {
     "name": "stdout",
     "output_type": "stream",
     "text": [
      "Shape do Mapa normalizado: (1170, 5)\n"
     ]
    },
    {
     "data": {
      "text/html": [
       "<div>\n",
       "<style scoped>\n",
       "    .dataframe tbody tr th:only-of-type {\n",
       "        vertical-align: middle;\n",
       "    }\n",
       "\n",
       "    .dataframe tbody tr th {\n",
       "        vertical-align: top;\n",
       "    }\n",
       "\n",
       "    .dataframe thead th {\n",
       "        text-align: right;\n",
       "    }\n",
       "</style>\n",
       "<table border=\"1\" class=\"dataframe\">\n",
       "  <thead>\n",
       "    <tr style=\"text-align: right;\">\n",
       "      <th></th>\n",
       "      <th>id</th>\n",
       "      <th>building_number</th>\n",
       "      <th>building_name</th>\n",
       "      <th>unit</th>\n",
       "      <th>geometry</th>\n",
       "    </tr>\n",
       "  </thead>\n",
       "  <tbody>\n",
       "    <tr>\n",
       "      <th>0</th>\n",
       "      <td>444.0</td>\n",
       "      <td>8.0</td>\n",
       "      <td>CASA NO BREAK</td>\n",
       "      <td>INSTITUTO DE FÍSICA\"GLEB WATAGHIN\" (IFGW)</td>\n",
       "      <td>POLYGON ((653.760 1952.626, 653.921 1944.120, ...</td>\n",
       "    </tr>\n",
       "    <tr>\n",
       "      <th>1</th>\n",
       "      <td>65.0</td>\n",
       "      <td>11.0</td>\n",
       "      <td>DEPÓSITO DE MATERIAIS - DEM</td>\n",
       "      <td>HOSPITAL DE CLÍNICAS (HC)</td>\n",
       "      <td>POLYGON ((1014.311 955.448, 1010.857 962.105, ...</td>\n",
       "    </tr>\n",
       "    <tr>\n",
       "      <th>2</th>\n",
       "      <td>1282.0</td>\n",
       "      <td>4.0</td>\n",
       "      <td>SALAS DE AULA</td>\n",
       "      <td>FAC.ENGa.CIVIL,ARQ. E URBANISMO</td>\n",
       "      <td>POLYGON ((1278.073 1971.314, 1278.638 1957.955...</td>\n",
       "    </tr>\n",
       "  </tbody>\n",
       "</table>\n",
       "</div>"
      ],
      "text/plain": [
       "       id  building_number                building_name  \\\n",
       "0   444.0              8.0                CASA NO BREAK   \n",
       "1    65.0             11.0  DEPÓSITO DE MATERIAIS - DEM   \n",
       "2  1282.0              4.0                SALAS DE AULA   \n",
       "\n",
       "                                        unit  \\\n",
       "0  INSTITUTO DE FÍSICA\"GLEB WATAGHIN\" (IFGW)   \n",
       "1                  HOSPITAL DE CLÍNICAS (HC)   \n",
       "2            FAC.ENGa.CIVIL,ARQ. E URBANISMO   \n",
       "\n",
       "                                            geometry  \n",
       "0  POLYGON ((653.760 1952.626, 653.921 1944.120, ...  \n",
       "1  POLYGON ((1014.311 955.448, 1010.857 962.105, ...  \n",
       "2  POLYGON ((1278.073 1971.314, 1278.638 1957.955...  "
      ]
     },
     "execution_count": 10,
     "metadata": {},
     "output_type": "execute_result"
    }
   ],
   "source": [
    "# create a normalized map with unicamp bounds\n",
    "\n",
    "# criando novo mapa, que conterá geometrias normalizadas\n",
    "mapa_normalizado = gpd.GeoDataFrame(columns=[\"id\",\"building_number\",\"building_name\",\"unit\", \"geometry\"])\n",
    "mapa_normalizado['id'] = unicamp_df['Id']\n",
    "mapa_normalizado['building_number'] = unicamp_df['PREDIO']\n",
    "mapa_normalizado['building_name'] = unicamp_df['NOME_DO_PR']\n",
    "mapa_normalizado['unit'] = unicamp_df['UNIDADE']\n",
    "\n",
    "# processo de normalização\n",
    "for geometry in range(len(unicamp_geometries)):\n",
    "\n",
    "    # get all coordinates (x,y) of polygons in unicamp_utm_df\n",
    "    all_coords_per_geometry = mapping(unicamp_geometries[geometry])[\"coordinates\"] \n",
    "    \n",
    "    # split all coordinates per geometry and get x coords and y coords\n",
    "    x_coords = [all_coords_per_geometry[0][i][0] for i in range(len(all_coords_per_geometry[0]))]\n",
    "    y_coords = [all_coords_per_geometry[0][i][1] for i in range(len(all_coords_per_geometry[0]))]\n",
    "    \n",
    "    # convert to 2D array\n",
    "    x_coords = np.array(x_coords).reshape(-1, 1) \n",
    "    y_coords = np.array(y_coords).reshape(-1, 1)\n",
    "    \n",
    "    # define limits of normalization\n",
    "    scaler_x = MinMaxScaler(feature_range = (0, unicamp_maxx - unicamp_minx))\n",
    "    scaler_y = MinMaxScaler(feature_range = (0, unicamp_maxy - unicamp_miny))\n",
    "    \n",
    "    # normalize with all all geometry coords x \n",
    "    scaler_x.fit(x)\n",
    "    transform_x = scaler_x.transform(x_coords)\n",
    "    \n",
    "    # normalize with all all geometry coords y\n",
    "    scaler_y.fit(y)\n",
    "    transform_y = scaler_y.transform(y_coords)\n",
    "    \n",
    "    # convert np array x and y normalized back to polygon\n",
    "    building_geometry = np.append (transform_x, transform_y, axis=1)\n",
    "    new_polygon = Polygon(building_geometry)\n",
    "    \n",
    "    mapa_normalizado.loc[geometry, 'geometry'] = new_polygon\n",
    "    \n",
    "\n",
    "print('Shape do Mapa normalizado:', mapa_normalizado.shape)\n",
    "mapa_normalizado.head(3)"
   ]
  },
  {
   "cell_type": "code",
   "execution_count": 11,
   "metadata": {},
   "outputs": [
    {
     "data": {
      "image/png": "[encoded data removed]",
      "text/plain": [
       "<Figure size 1008x504 with 2 Axes>"
      ]
     },
     "metadata": {
      "needs_background": "light"
     },
     "output_type": "display_data"
    }
   ],
   "source": [
    "# ANTES E DEPOIS DA NORMALIZAÇÃO\n",
    "\n",
    "fig, axes = plt.subplots(1,2, figsize = (14, 7)) # 1 linha, 2 colunas\n",
    "\n",
    "# Mapa da unicamp no crs SIRGAS 2000/ UTM 23S\n",
    "axes[0].set_title('SIRGAS 2000 / UTM 23S', fontsize=15, y=1.02)\n",
    "unicamp_df.plot(ax=axes[0])\n",
    "\n",
    "# Mapa da Unicamp\n",
    "# onde:\n",
    "# - unicamp bounds = 285960.71918678837 7473387.272237044 290348.567447891 7476048.738107968\n",
    "# - maxx - minx    = 4387.848261102627\n",
    "# - maxy - miny    = 2661.465870924294\n",
    "title = 'Mapa Normalizado (~' + str(round(unicamp_maxx-unicamp_minx,2)) + ' x ' + str(round(unicamp_maxy-unicamp_miny,2)) + \"metros)\" \n",
    "axes[1].set_title(title,fontsize=15, y=1.02)\n",
    "mapa_normalizado.plot(ax=axes[1])\n",
    "\n",
    "plt.show()"
   ]
  },
  {
   "cell_type": "code",
   "execution_count": 12,
   "metadata": {},
   "outputs": [
    {
     "data": {
      "text/html": [
       "<div>\n",
       "<style scoped>\n",
       "    .dataframe tbody tr th:only-of-type {\n",
       "        vertical-align: middle;\n",
       "    }\n",
       "\n",
       "    .dataframe tbody tr th {\n",
       "        vertical-align: top;\n",
       "    }\n",
       "\n",
       "    .dataframe thead th {\n",
       "        text-align: right;\n",
       "    }\n",
       "</style>\n",
       "<table border=\"1\" class=\"dataframe\">\n",
       "  <thead>\n",
       "    <tr style=\"text-align: right;\">\n",
       "      <th></th>\n",
       "      <th>id</th>\n",
       "      <th>building_number</th>\n",
       "      <th>building_name</th>\n",
       "      <th>unit</th>\n",
       "      <th>geometry</th>\n",
       "    </tr>\n",
       "  </thead>\n",
       "  <tbody>\n",
       "    <tr>\n",
       "      <th>0</th>\n",
       "      <td>444.0</td>\n",
       "      <td>8.0</td>\n",
       "      <td>CASA NO BREAK</td>\n",
       "      <td>INSTITUTO DE FÍSICA\"GLEB WATAGHIN\" (IFGW)</td>\n",
       "      <td>POLYGON ((653.760 1952.626, 653.921 1944.120, ...</td>\n",
       "    </tr>\n",
       "    <tr>\n",
       "      <th>1</th>\n",
       "      <td>65.0</td>\n",
       "      <td>11.0</td>\n",
       "      <td>DEPÓSITO DE MATERIAIS - DEM</td>\n",
       "      <td>HOSPITAL DE CLÍNICAS (HC)</td>\n",
       "      <td>POLYGON ((1014.311 955.448, 1010.857 962.105, ...</td>\n",
       "    </tr>\n",
       "    <tr>\n",
       "      <th>2</th>\n",
       "      <td>1282.0</td>\n",
       "      <td>4.0</td>\n",
       "      <td>SALAS DE AULA</td>\n",
       "      <td>FAC.ENGa.CIVIL,ARQ. E URBANISMO</td>\n",
       "      <td>POLYGON ((1278.073 1971.314, 1278.638 1957.955...</td>\n",
       "    </tr>\n",
       "  </tbody>\n",
       "</table>\n",
       "</div>"
      ],
      "text/plain": [
       "       id  building_number                building_name  \\\n",
       "0   444.0              8.0                CASA NO BREAK   \n",
       "1    65.0             11.0  DEPÓSITO DE MATERIAIS - DEM   \n",
       "2  1282.0              4.0                SALAS DE AULA   \n",
       "\n",
       "                                        unit  \\\n",
       "0  INSTITUTO DE FÍSICA\"GLEB WATAGHIN\" (IFGW)   \n",
       "1                  HOSPITAL DE CLÍNICAS (HC)   \n",
       "2            FAC.ENGa.CIVIL,ARQ. E URBANISMO   \n",
       "\n",
       "                                            geometry  \n",
       "0  POLYGON ((653.760 1952.626, 653.921 1944.120, ...  \n",
       "1  POLYGON ((1014.311 955.448, 1010.857 962.105, ...  \n",
       "2  POLYGON ((1278.073 1971.314, 1278.638 1957.955...  "
      ]
     },
     "execution_count": 12,
     "metadata": {},
     "output_type": "execute_result"
    }
   ],
   "source": [
    "mapa_normalizado.head(3)"
   ]
  },
  {
   "cell_type": "code",
   "execution_count": 13,
   "metadata": {},
   "outputs": [],
   "source": [
    "# ----- FUNÇÕES ÚTEIS P/ MANIPULAÇÃO DE SHAPES\n",
    "\n",
    "def get_polygon_coords (polygon):\n",
    "    g = [i for i in polygon.geometry]\n",
    "    x,y = g[0].exterior.coords.xy\n",
    "    coords = np.dstack((x,y)).tolist()\n",
    "    \n",
    "    return coords\n",
    "\n",
    "def create_box_building(building_name, bounds, offset_xmin, offset_ymin, offset_xmax, offset_ymax):\n",
    "    new_building = box(\n",
    "        bounds[0] - offset_xmin,\n",
    "        bounds[1] - offset_ymin,\n",
    "        bounds[2] -offset_xmax,\n",
    "        bounds[3] -offset_ymax\n",
    "    )\n",
    "\n",
    "    print(\"Bounds do prédio \" + str(building_name) + \":\", bounds)\n",
    "    print(\"\\nÁrea:\", new_building.area)\n",
    "    print(\"Length:\", new_building.length)\n",
    "    \n",
    "    return new_building\n",
    "\n",
    "\n",
    "def compare_buildings(ref_building, new_building):\n",
    "    geodataset_ref = gpd.GeoSeries(ref_building)\n",
    "    ax = geodataset_ref.plot(color='Gray')\n",
    "\n",
    "    geodataset_new = gpd.GeoSeries(new_building)\n",
    "    geodataset_new.plot(ax=ax) \n",
    "\n",
    "    \n",
    "def calculate_distance(ref_polygon, new_polygon):\n",
    "    points_df = gpd.GeoDataFrame(columns=[\"geometry\"])\n",
    "    points_df.loc[:, 'geometry'] = ref_polygon\n",
    "    points_df.loc[0, 'geometry'] = new_polygon\n",
    "\n",
    "    points_df['centroid'] = points_df[\"geometry\"].centroid\n",
    "\n",
    "    # Cálculo de Distância entre Circle centroids e cada linha do dataset\n",
    "    print(\"Distancia entre centroids:\\n\", points_df.distance(new_polygon.centroid))\n",
    "\n",
    "    return points_df\n",
    "\n",
    "\n",
    "def add_dataset_rows(geodataset, ref_id, name, geometry):\n",
    "    last_index = geodataset.shape[0]\n",
    "    geodataset.loc[last_index, 'id'] = ref_id\n",
    "    geodataset.loc[last_index, 'building_number'] = ref_id\n",
    "    geodataset.loc[last_index, 'building_name'] = name\n",
    "    geodataset.loc[last_index, 'unit'] = '{aaa}'\n",
    "    geodataset.loc[last_index, 'geometry'] = geometry\n",
    "    \n",
    "    print(\"Novo Shape:\", geodataset.shape)\n",
    "    \n",
    "    return geodataset.iloc[geodataset.shape[0]-1:geodataset.shape[0]]\n",
    "\n",
    "\n",
    "def add_node_dataset_rows(geodataset, ref_osm_id, name, point):\n",
    "    last_index = geodataset.shape[0]\n",
    "    print(last_index)\n",
    "    geodataset.loc[last_index, 'id'] = ref_osm_id\n",
    "    geodataset.loc[last_index, 'number'] = ref_osm_id\n",
    "    geodataset.loc[last_index, 'name'] = name\n",
    "    geodataset.loc[last_index, 'x'] = point.x\n",
    "    geodataset.loc[last_index, 'y'] = point.y\n",
    "    geodataset.loc[last_index, 'z'] = 1.5\n",
    "    \n",
    "    print(\"Novo Shape:\", geodataset.shape)\n",
    "    \n",
    "    return geodataset.iloc[geodataset.shape[0]-1:geodataset.shape[0]]"
   ]
  },
  {
   "cell_type": "code",
   "execution_count": null,
   "metadata": {},
   "outputs": [],
   "source": []
  },
  {
   "cell_type": "markdown",
   "metadata": {},
   "source": [
    "## Buscar e Mapear predios"
   ]
  },
  {
   "cell_type": "code",
   "execution_count": 14,
   "metadata": {},
   "outputs": [],
   "source": [
    "# ----- RESULTADOS DO MAPEAMENTO (prédios com coletores) # id da tabela, id do dataset, num_predio\n",
    "\n",
    "# ENCONTRADOS POR CONSULTA DE NOME:\n",
    "# 1. Agência de Inovação Inova Unicamp (INOVA)  # 701, 1321.0 , 1.0 \n",
    "# 2. Biblioteca Central (BC)   # 765, 535.0, 5.0\n",
    "# 3. Centro de Biologia Molecular e Engenharia Genética (CBMEG)   # 688, 802.0, 9.0\n",
    "# 4. Centro de Componentes Semicondutores (CCS)   # 175.0, 1.0 ~\n",
    "# 5. Centro de Computação (CCUEC)   # 600, 845.0, 8.0\n",
    "# 6. Centro de Diagnóstico de Doenças do Aparelho Digestivo (GASTROCENTRO) # 315, 1037.0, 6.0\n",
    "# 7. Centro de Estudos de Petróleo (CEPETRO) # 539, 1115.0, 6.0\n",
    "# 8. Centro de Hematologia e Hemoterapia (HEMOCENTRO) # 852, 1038.0, 7.0\n",
    "# 9. Centro para Manutenção de Equipamentos (CEMEQ) # 219, 960.0, 15.0 \n",
    "# 10. Ciclo Básico I   #  760, 671.0, 11.0 \n",
    "# 11. Ciclo Básico II  #  753, 663.0, 3.0\n",
    "# 12. Coordenadoria de Desenvolvimento Cultural (CDC) # 787, 533.0, 3.0\n",
    "# 13. Diretoria Geral da Administração (DGA) # 193, 29.0, 1.0\n",
    "# 14. Diretoria Geral de Recursos Humanos (DGRH) # 209, 9.0, 5.0\n",
    "# 15. Divisão de Educação Infantil e Complementar (DEdIC) # 863, 1211.0, 1.0\n",
    "# 16. Engenharia Básica (EB)  # 175.0, 1.0 ~\n",
    "# 17. Escola Estadual de Ensino Fundamental Físico Sérgio Pereira Porto (SERGIO PORTO) # 297, 1220.0, 10.0\n",
    "# 18. Faculdade de Ciências Médicas (FCM) # 867, 1238.0, 1.0 \n",
    "# 19. Faculdade de Educação Física (FEF)  # 790, 727.0, 30.0\n",
    "# 20. Faculdade de Enfermagem (FEnf)      # 880, 1240.0, 3.0\n",
    "# 21. Faculdade de Engenharia Agrícola (FEAGRI)   # 674, 881.0, 1.0\n",
    "# 22. Faculdade de Engenharia Civil, Arquitetura e Urbanismo (FEC)  # 2, 1282.0, 4.0\n",
    "# 23. Faculdade de Engenharia de Alimentos (FEA)   # 253, 300.0, 2.0\n",
    "# 24. Faculdade de Engenharia Elétrica e de Computação (FEEC) # 234, 278.0, 2.0\n",
    "# 25. Faculdade de Engenharia Mecânica (FEM)   # 286, 1151.0, 6.0\n",
    "# 26. Faculdade de Engenharia Química (FEQ)    # 396, 971.0, 28.0\n",
    "# 27. Fundação de Desenvolvimento da Unicamp (FUNCAMP) # --------\n",
    "# 28. Gabinete do Reitor (GR)      # 39, 1.0, 1.0\n",
    "# 29. Grupo Gestor de Obras (GGO)  # 212, 195.0, 8.0\n",
    "# 30. Hospital de Clínicas (HC)    # 115, 59.0, 6.0\n",
    "# 31. Instituto de Artes (IA)      # 24, 513.0, 2.0\n",
    "# 32. Instituto de Biologia (IB)   # 441, 604.0, 5.0\n",
    "# 33. Instituto de Computação (IC) # 571, 776.0, 2.0\n",
    "# 34. Instituto de Estudos da Linguagem (IEL) # 525, 488.0, 5.0\n",
    "# 35. Instituto de Filosofia e Ciências Humanas (IFCH) # 540, 1112.0, 3.0\n",
    "# 36. Instituto de Física Gleb Wataghin (IFGW) # 399, 441.0, 5.0\n",
    "# 37. Instituto de Geociências (IG) da Rua Oswaldo Cruz (inferior) 183, 182.0, 8\n",
    "# 38. Instituto de Geociências (IG) da Avenida Érico Veríssimo (superior) 1066, 1134.0, 1.1\n",
    "# 39. Instituto de Matemática, Estatística e Computação Científica (IMECC) # 513, 459.0, 1.0\n",
    "# 40. Instituto de Química (IQ) # 341, 376.0, 16.0\n",
    "# 41. Prefeitura Universitária # 203, 4.0, 2.0\n",
    "# 45. Restaurante Administrativo (RA) # 37, 198.0, 10.0\n",
    "# 46. Restaurante Saturnino (RS) # 636, 1309.0, 1.0\n",
    "# 47. Restaurante Universitário (RU) # 775, 531.0, 1.0\n",
    "\n",
    "# NÃO ESTÃO NO MAPA:\n",
    "# 27. Fundação de Desenvolvimento da Unicamp (FUNCAMP) # --------\n",
    "\n",
    "# Casos especiais:\n",
    "# 42. Ponto de ônibus – Rua Roxo Moreira (PO-RM)\n",
    "# 43. Ponto de ônibus – Avenida Adolpho Lutz (PO-AL)\n",
    "# 44. Ponto de ônibus – Rua Vital Brasil (PO-VB)"
   ]
  },
  {
   "cell_type": "code",
   "execution_count": 15,
   "metadata": {},
   "outputs": [
    {
     "data": {
      "text/html": [
       "<div>\n",
       "<style scoped>\n",
       "    .dataframe tbody tr th:only-of-type {\n",
       "        vertical-align: middle;\n",
       "    }\n",
       "\n",
       "    .dataframe tbody tr th {\n",
       "        vertical-align: top;\n",
       "    }\n",
       "\n",
       "    .dataframe thead th {\n",
       "        text-align: right;\n",
       "    }\n",
       "</style>\n",
       "<table border=\"1\" class=\"dataframe\">\n",
       "  <thead>\n",
       "    <tr style=\"text-align: right;\">\n",
       "      <th></th>\n",
       "      <th>id</th>\n",
       "      <th>building_number</th>\n",
       "      <th>building_name</th>\n",
       "      <th>unit</th>\n",
       "      <th>geometry</th>\n",
       "    </tr>\n",
       "  </thead>\n",
       "  <tbody>\n",
       "    <tr>\n",
       "      <th>775</th>\n",
       "      <td>531.0</td>\n",
       "      <td>1.0</td>\n",
       "      <td>RESTAURANTE UNIVERSITÁRIO - RU</td>\n",
       "      <td>REITORIA-PREFEITURA</td>\n",
       "      <td>POLYGON ((229.926 1860.477, 241.953 1803.958, ...</td>\n",
       "    </tr>\n",
       "  </tbody>\n",
       "</table>\n",
       "</div>"
      ],
      "text/plain": [
       "        id  building_number                   building_name  \\\n",
       "775  531.0              1.0  RESTAURANTE UNIVERSITÁRIO - RU   \n",
       "\n",
       "                    unit                                           geometry  \n",
       "775  REITORIA-PREFEITURA  POLYGON ((229.926 1860.477, 241.953 1803.958, ...  "
      ]
     },
     "execution_count": 15,
     "metadata": {},
     "output_type": "execute_result"
    }
   ],
   "source": [
    "# ----- MÉTODOS DE BUSCA PARA MAPEAMENTO\n",
    "\n",
    "# Busca por linha em todo dataset\n",
    "predio = mapa_normalizado.iloc[775:776] #ex Comvest 536-537\n",
    "# print(mapa_normalizado.shape)\n",
    "predio.head(predio.shape[0])\n",
    "\n",
    "# Busca por Nome\n",
    "# predio = mapa_normalizado[mapa_normalizado['building_name'].str.contains(\"PRÉDIO DO IG\",  na=False)]\n",
    "# # predio = mapa_normalizado[mapa_normalizado['unit'].str.contains(\"RU\",  na=False)]\n",
    "# print(\"SHAPE:\", predio.shape)\n",
    "# predio.head(22)"
   ]
  },
  {
   "cell_type": "code",
   "execution_count": 16,
   "metadata": {},
   "outputs": [],
   "source": [
    "# predio.plot(color=\"red\")"
   ]
  },
  {
   "cell_type": "code",
   "execution_count": 17,
   "metadata": {
    "scrolled": true
   },
   "outputs": [
    {
     "data": {
      "text/plain": [
       "<AxesSubplot:>"
      ]
     },
     "execution_count": 17,
     "metadata": {},
     "output_type": "execute_result"
    },
    {
     "data": {
      "image/png": "[encoded data removed]",
      "text/plain": [
       "<Figure size 864x360 with 1 Axes>"
      ]
     },
     "metadata": {
      "needs_background": "light"
     },
     "output_type": "display_data"
    }
   ],
   "source": [
    "### ----- PLOT DE PREDIO DE ACORDO COM A BUSCA REALIZADA\n",
    "\n",
    "ax = mapa_normalizado.plot(figsize=(12, 5))\n",
    "\n",
    "# predios None\n",
    "predio['geometry'].plot(ax=ax, color='Red')\n",
    "\n",
    "# Para ampliar area mudar param. de set_xlim e set_ylim\n",
    "# minx, miny, maxx, maxy = mapa_normalizado.total_bounds\n",
    "# ax.set_xlim(minx -100, maxx)\n",
    "# ax.set_ylim(miny -100, maxy)"
   ]
  },
  {
   "cell_type": "code",
   "execution_count": 18,
   "metadata": {},
   "outputs": [
    {
     "data": {
      "text/html": [
       "<div>\n",
       "<style scoped>\n",
       "    .dataframe tbody tr th:only-of-type {\n",
       "        vertical-align: middle;\n",
       "    }\n",
       "\n",
       "    .dataframe tbody tr th {\n",
       "        vertical-align: top;\n",
       "    }\n",
       "\n",
       "    .dataframe thead th {\n",
       "        text-align: right;\n",
       "    }\n",
       "</style>\n",
       "<table border=\"1\" class=\"dataframe\">\n",
       "  <thead>\n",
       "    <tr style=\"text-align: right;\">\n",
       "      <th></th>\n",
       "      <th>id</th>\n",
       "      <th>building_number</th>\n",
       "      <th>building_name</th>\n",
       "      <th>unit</th>\n",
       "      <th>geometry</th>\n",
       "    </tr>\n",
       "  </thead>\n",
       "  <tbody>\n",
       "    <tr>\n",
       "      <th>1165</th>\n",
       "      <td>1445.0</td>\n",
       "      <td>4.0</td>\n",
       "      <td>Academia de Ginástica ao Ar Livre</td>\n",
       "      <td>None</td>\n",
       "      <td>POLYGON ((701.642 1223.634, 714.261 1224.555, ...</td>\n",
       "    </tr>\n",
       "    <tr>\n",
       "      <th>1166</th>\n",
       "      <td>0.0</td>\n",
       "      <td>0.0</td>\n",
       "      <td>None</td>\n",
       "      <td>None</td>\n",
       "      <td>POLYGON ((536.049 1540.335, 536.049 1567.085, ...</td>\n",
       "    </tr>\n",
       "    <tr>\n",
       "      <th>1167</th>\n",
       "      <td>0.0</td>\n",
       "      <td>0.0</td>\n",
       "      <td>None</td>\n",
       "      <td>None</td>\n",
       "      <td>POLYGON ((570.032 1482.662, 564.833 1482.547, ...</td>\n",
       "    </tr>\n",
       "    <tr>\n",
       "      <th>1168</th>\n",
       "      <td>0.0</td>\n",
       "      <td>4.0</td>\n",
       "      <td>Inova P&amp;D</td>\n",
       "      <td>INOVA</td>\n",
       "      <td>POLYGON ((1498.018 2134.044, 1498.209 2134.395...</td>\n",
       "    </tr>\n",
       "    <tr>\n",
       "      <th>1169</th>\n",
       "      <td>0.0</td>\n",
       "      <td>0.0</td>\n",
       "      <td>Instituto de Otorrinolaringologia</td>\n",
       "      <td>None</td>\n",
       "      <td>POLYGON ((1186.929 1019.863, 1202.243 992.924,...</td>\n",
       "    </tr>\n",
       "  </tbody>\n",
       "</table>\n",
       "</div>"
      ],
      "text/plain": [
       "          id  building_number                      building_name   unit  \\\n",
       "1165  1445.0              4.0  Academia de Ginástica ao Ar Livre   None   \n",
       "1166     0.0              0.0                               None   None   \n",
       "1167     0.0              0.0                               None   None   \n",
       "1168     0.0              4.0                          Inova P&D  INOVA   \n",
       "1169     0.0              0.0  Instituto de Otorrinolaringologia   None   \n",
       "\n",
       "                                               geometry  \n",
       "1165  POLYGON ((701.642 1223.634, 714.261 1224.555, ...  \n",
       "1166  POLYGON ((536.049 1540.335, 536.049 1567.085, ...  \n",
       "1167  POLYGON ((570.032 1482.662, 564.833 1482.547, ...  \n",
       "1168  POLYGON ((1498.018 2134.044, 1498.209 2134.395...  \n",
       "1169  POLYGON ((1186.929 1019.863, 1202.243 992.924,...  "
      ]
     },
     "execution_count": 18,
     "metadata": {},
     "output_type": "execute_result"
    }
   ],
   "source": [
    "mapa_normalizado[mapa_normalizado.shape[0]-5:mapa_normalizado.shape[0]]"
   ]
  },
  {
   "cell_type": "code",
   "execution_count": null,
   "metadata": {},
   "outputs": [],
   "source": []
  },
  {
   "cell_type": "markdown",
   "metadata": {},
   "source": [
    "## Reposicionando posicionamento do CCS e EB "
   ]
  },
  {
   "cell_type": "code",
   "execution_count": 19,
   "metadata": {},
   "outputs": [
    {
     "name": "stdout",
     "output_type": "stream",
     "text": [
      "189    POINT (939.805 1193.583)\n",
      "dtype: geometry\n"
     ]
    }
   ],
   "source": [
    "# Tratamento para que prédio do CCS e EB não tenham o mesmo centroid \n",
    "# 175.0, 1.0 ~\n",
    "point_IG = mapa_normalizado.query('id ==' + str(175.0))\n",
    "# point_IG\n",
    "print(point_IG['geometry'].centroid)"
   ]
  },
  {
   "cell_type": "code",
   "execution_count": 20,
   "metadata": {},
   "outputs": [
    {
     "data": {
      "text/plain": [
       "(1000.0, 1300.0)"
      ]
     },
     "execution_count": 20,
     "metadata": {},
     "output_type": "execute_result"
    },
    {
     "data": {
      "image/png": "[encoded data removed]",
      "text/plain": [
       "<Figure size 864x360 with 1 Axes>"
      ]
     },
     "metadata": {
      "needs_background": "light"
     },
     "output_type": "display_data"
    }
   ],
   "source": [
    "# Reposicionando posicionamento do CCS e EB (para que não tenham o mesmo centroid)\n",
    "pt_CCS = Point (955.805, 1150.583)\n",
    "pt_EB  = Point (905, 1250.583)\n",
    "\n",
    "# Plot de paradas de ÔNIBUS\n",
    "df = gpd.GeoDataFrame(columns=[\"geometry\"],  crs='EPSG:31983')\n",
    "df.loc[0, 'geometry'] = pt_CCS\n",
    "df.loc[1, 'geometry'] = Point (939.805, 1193.583) # centroid do predio em comum\n",
    "df.loc[2, 'geometry'] = pt_EB\n",
    "\n",
    "ax = mapa_normalizado['geometry'].plot(figsize=(12, 5))\n",
    "df.plot(ax=ax, color=\"black\")\n",
    "\n",
    "# para ampliar area mudar param. de set_xlim e set_ylim\n",
    "minx, miny, maxx, maxy = mapa_normalizado.total_bounds\n",
    "ax.set_xlim(700, 1100)\n",
    "ax.set_ylim(1000, 1300)"
   ]
  },
  {
   "cell_type": "code",
   "execution_count": null,
   "metadata": {},
   "outputs": [],
   "source": []
  },
  {
   "cell_type": "markdown",
   "metadata": {},
   "source": [
    "# Cria e ADD Pontos não encontrados"
   ]
  },
  {
   "cell_type": "markdown",
   "metadata": {},
   "source": [
    "### FUNCAMP"
   ]
  },
  {
   "cell_type": "code",
   "execution_count": 21,
   "metadata": {},
   "outputs": [],
   "source": [
    "# Prédio de Referência: COMVEST\n",
    "ref_id = 536 # index da linha do prédio COMVEST\n",
    "ref_polygon = mapa_normalizado.iloc[ref_id:ref_id + 1] # ex Comvest 536-537\n",
    "# get_polygon_coords(ref_polygon)"
   ]
  },
  {
   "cell_type": "code",
   "execution_count": 22,
   "metadata": {},
   "outputs": [
    {
     "name": "stdout",
     "output_type": "stream",
     "text": [
      "Bounds do prédio FUNCAMP: [671.4345000004396, 2364.147699999623, 694.7207000004128, 2379.911700000055]\n",
      "\n",
      "Área: 260.70115679071546\n",
      "Length: 67.89959999918938\n"
     ]
    },
    {
     "data": {
      "image/svg+xml": [
       "<svg xmlns=\"http://www.w3.org/2000/svg\" xmlns:xlink=\"http://www.w3.org/1999/xlink\" width=\"100.0\" height=\"100.0\" viewBox=\"758.3321480004117 2458.523148000054 23.990904000028877 13.513103999570376\" preserveAspectRatio=\"xMinYMin meet\"><g transform=\"matrix(1,0,0,-1,0,4930.559399999678)\"><polyline fill=\"none\" stroke=\"#66cc99\" stroke-width=\"0.4798180800005775\" points=\"759.2207000004128,2471.147699999623 759.2207000004128,2459.411700000055 781.4345000004396,2459.411700000055 781.4345000004396,2471.147699999623 759.2207000004128,2471.147699999623\" opacity=\"0.8\" /></g></svg>"
      ],
      "text/plain": [
       "<shapely.geometry.linestring.LineString at 0x7fa2a12a2b20>"
      ]
     },
     "execution_count": 22,
     "metadata": {},
     "output_type": "execute_result"
    }
   ],
   "source": [
    "bounds_ref = list(ref_polygon.geometry.total_bounds)\n",
    "building_funcamp = create_box_building(\"FUNCAMP\", bounds_ref, -110, -107, -64.5, -79.5)\n",
    "building_funcamp.boundary"
   ]
  },
  {
   "cell_type": "code",
   "execution_count": 23,
   "metadata": {},
   "outputs": [
    {
     "data": {
      "image/png": "[encoded data removed]",
      "text/plain": [
       "<Figure size 432x288 with 1 Axes>"
      ]
     },
     "metadata": {
      "needs_background": "light"
     },
     "output_type": "display_data"
    }
   ],
   "source": [
    "compare_buildings(ref_polygon['geometry'].boundary, building_funcamp )"
   ]
  },
  {
   "cell_type": "code",
   "execution_count": 24,
   "metadata": {},
   "outputs": [
    {
     "name": "stdout",
     "output_type": "stream",
     "text": [
      "Distancia entre centroids:\n",
      " 536    114.639238\n",
      "0        0.000000\n",
      "dtype: float64\n"
     ]
    },
    {
     "data": {
      "text/html": [
       "<div>\n",
       "<style scoped>\n",
       "    .dataframe tbody tr th:only-of-type {\n",
       "        vertical-align: middle;\n",
       "    }\n",
       "\n",
       "    .dataframe tbody tr th {\n",
       "        vertical-align: top;\n",
       "    }\n",
       "\n",
       "    .dataframe thead th {\n",
       "        text-align: right;\n",
       "    }\n",
       "</style>\n",
       "<table border=\"1\" class=\"dataframe\">\n",
       "  <thead>\n",
       "    <tr style=\"text-align: right;\">\n",
       "      <th></th>\n",
       "      <th>geometry</th>\n",
       "      <th>centroid</th>\n",
       "    </tr>\n",
       "  </thead>\n",
       "  <tbody>\n",
       "    <tr>\n",
       "      <th>536</th>\n",
       "      <td>POLYGON ((694.721 2379.107, 694.665 2375.106, ...</td>\n",
       "      <td>POINT (683.698 2373.744)</td>\n",
       "    </tr>\n",
       "    <tr>\n",
       "      <th>0</th>\n",
       "      <td>POLYGON ((759.221 2471.148, 759.221 2459.412, ...</td>\n",
       "      <td>POINT (770.328 2465.280)</td>\n",
       "    </tr>\n",
       "  </tbody>\n",
       "</table>\n",
       "</div>"
      ],
      "text/plain": [
       "                                              geometry  \\\n",
       "536  POLYGON ((694.721 2379.107, 694.665 2375.106, ...   \n",
       "0    POLYGON ((759.221 2471.148, 759.221 2459.412, ...   \n",
       "\n",
       "                     centroid  \n",
       "536  POINT (683.698 2373.744)  \n",
       "0    POINT (770.328 2465.280)  "
      ]
     },
     "execution_count": 24,
     "metadata": {},
     "output_type": "execute_result"
    }
   ],
   "source": [
    "# CALCULA DISTANCIA ENTRE CENTROIDS\n",
    "calculate_distance(ref_polygon['geometry'], building_funcamp)\n",
    "# ref_polygon"
   ]
  },
  {
   "cell_type": "code",
   "execution_count": 25,
   "metadata": {},
   "outputs": [
    {
     "name": "stdout",
     "output_type": "stream",
     "text": [
      "Novo Shape: (1171, 5)\n"
     ]
    },
    {
     "data": {
      "text/html": [
       "<div>\n",
       "<style scoped>\n",
       "    .dataframe tbody tr th:only-of-type {\n",
       "        vertical-align: middle;\n",
       "    }\n",
       "\n",
       "    .dataframe tbody tr th {\n",
       "        vertical-align: top;\n",
       "    }\n",
       "\n",
       "    .dataframe thead th {\n",
       "        text-align: right;\n",
       "    }\n",
       "</style>\n",
       "<table border=\"1\" class=\"dataframe\">\n",
       "  <thead>\n",
       "    <tr style=\"text-align: right;\">\n",
       "      <th></th>\n",
       "      <th>id</th>\n",
       "      <th>building_number</th>\n",
       "      <th>building_name</th>\n",
       "      <th>unit</th>\n",
       "      <th>geometry</th>\n",
       "    </tr>\n",
       "  </thead>\n",
       "  <tbody>\n",
       "    <tr>\n",
       "      <th>1170</th>\n",
       "      <td>-1000.0</td>\n",
       "      <td>-1000.0</td>\n",
       "      <td>FUNCAMP</td>\n",
       "      <td>{aaa}</td>\n",
       "      <td>POLYGON ((759.221 2471.148, 759.221 2459.412, ...</td>\n",
       "    </tr>\n",
       "  </tbody>\n",
       "</table>\n",
       "</div>"
      ],
      "text/plain": [
       "          id  building_number building_name   unit  \\\n",
       "1170 -1000.0          -1000.0       FUNCAMP  {aaa}   \n",
       "\n",
       "                                               geometry  \n",
       "1170  POLYGON ((759.221 2471.148, 759.221 2459.412, ...  "
      ]
     },
     "execution_count": 25,
     "metadata": {},
     "output_type": "execute_result"
    }
   ],
   "source": [
    "# add_dataset_rows(geodataset, ref_id, name, geometry):\n",
    "add_dataset_rows(mapa_normalizado, -1000,'FUNCAMP',  building_funcamp)"
   ]
  },
  {
   "cell_type": "code",
   "execution_count": 26,
   "metadata": {},
   "outputs": [
    {
     "data": {
      "text/html": [
       "<div>\n",
       "<style scoped>\n",
       "    .dataframe tbody tr th:only-of-type {\n",
       "        vertical-align: middle;\n",
       "    }\n",
       "\n",
       "    .dataframe tbody tr th {\n",
       "        vertical-align: top;\n",
       "    }\n",
       "\n",
       "    .dataframe thead th {\n",
       "        text-align: right;\n",
       "    }\n",
       "</style>\n",
       "<table border=\"1\" class=\"dataframe\">\n",
       "  <thead>\n",
       "    <tr style=\"text-align: right;\">\n",
       "      <th></th>\n",
       "      <th>id</th>\n",
       "      <th>building_number</th>\n",
       "      <th>building_name</th>\n",
       "      <th>unit</th>\n",
       "      <th>geometry</th>\n",
       "    </tr>\n",
       "  </thead>\n",
       "  <tbody>\n",
       "    <tr>\n",
       "      <th>1166</th>\n",
       "      <td>0.0</td>\n",
       "      <td>0.0</td>\n",
       "      <td>None</td>\n",
       "      <td>None</td>\n",
       "      <td>POLYGON ((536.049 1540.335, 536.049 1567.085, ...</td>\n",
       "    </tr>\n",
       "    <tr>\n",
       "      <th>1167</th>\n",
       "      <td>0.0</td>\n",
       "      <td>0.0</td>\n",
       "      <td>None</td>\n",
       "      <td>None</td>\n",
       "      <td>POLYGON ((570.032 1482.662, 564.833 1482.547, ...</td>\n",
       "    </tr>\n",
       "    <tr>\n",
       "      <th>1168</th>\n",
       "      <td>0.0</td>\n",
       "      <td>4.0</td>\n",
       "      <td>Inova P&amp;D</td>\n",
       "      <td>INOVA</td>\n",
       "      <td>POLYGON ((1498.018 2134.044, 1498.209 2134.395...</td>\n",
       "    </tr>\n",
       "    <tr>\n",
       "      <th>1169</th>\n",
       "      <td>0.0</td>\n",
       "      <td>0.0</td>\n",
       "      <td>Instituto de Otorrinolaringologia</td>\n",
       "      <td>None</td>\n",
       "      <td>POLYGON ((1186.929 1019.863, 1202.243 992.924,...</td>\n",
       "    </tr>\n",
       "    <tr>\n",
       "      <th>1170</th>\n",
       "      <td>-1000.0</td>\n",
       "      <td>-1000.0</td>\n",
       "      <td>FUNCAMP</td>\n",
       "      <td>{aaa}</td>\n",
       "      <td>POLYGON ((759.221 2471.148, 759.221 2459.412, ...</td>\n",
       "    </tr>\n",
       "  </tbody>\n",
       "</table>\n",
       "</div>"
      ],
      "text/plain": [
       "          id  building_number                      building_name   unit  \\\n",
       "1166     0.0              0.0                               None   None   \n",
       "1167     0.0              0.0                               None   None   \n",
       "1168     0.0              4.0                          Inova P&D  INOVA   \n",
       "1169     0.0              0.0  Instituto de Otorrinolaringologia   None   \n",
       "1170 -1000.0          -1000.0                            FUNCAMP  {aaa}   \n",
       "\n",
       "                                               geometry  \n",
       "1166  POLYGON ((536.049 1540.335, 536.049 1567.085, ...  \n",
       "1167  POLYGON ((570.032 1482.662, 564.833 1482.547, ...  \n",
       "1168  POLYGON ((1498.018 2134.044, 1498.209 2134.395...  \n",
       "1169  POLYGON ((1186.929 1019.863, 1202.243 992.924,...  \n",
       "1170  POLYGON ((759.221 2471.148, 759.221 2459.412, ...  "
      ]
     },
     "execution_count": 26,
     "metadata": {},
     "output_type": "execute_result"
    }
   ],
   "source": [
    "mapa_normalizado[mapa_normalizado.shape[0]-5:mapa_normalizado.shape[0]]"
   ]
  },
  {
   "cell_type": "markdown",
   "metadata": {},
   "source": [
    "### Paradas de Ônibus"
   ]
  },
  {
   "cell_type": "code",
   "execution_count": 27,
   "metadata": {},
   "outputs": [
    {
     "data": {
      "text/html": [
       "<div>\n",
       "<style scoped>\n",
       "    .dataframe tbody tr th:only-of-type {\n",
       "        vertical-align: middle;\n",
       "    }\n",
       "\n",
       "    .dataframe tbody tr th {\n",
       "        vertical-align: top;\n",
       "    }\n",
       "\n",
       "    .dataframe thead th {\n",
       "        text-align: right;\n",
       "    }\n",
       "</style>\n",
       "<table border=\"1\" class=\"dataframe\">\n",
       "  <thead>\n",
       "    <tr style=\"text-align: right;\">\n",
       "      <th></th>\n",
       "      <th>geometry</th>\n",
       "    </tr>\n",
       "  </thead>\n",
       "  <tbody>\n",
       "    <tr>\n",
       "      <th>0</th>\n",
       "      <td>POINT (287793.104 7474455.271)</td>\n",
       "    </tr>\n",
       "    <tr>\n",
       "      <th>1</th>\n",
       "      <td>POINT (288297.792 7473609.406)</td>\n",
       "    </tr>\n",
       "    <tr>\n",
       "      <th>2</th>\n",
       "      <td>POINT (288301.248 7474096.840)</td>\n",
       "    </tr>\n",
       "  </tbody>\n",
       "</table>\n",
       "</div>"
      ],
      "text/plain": [
       "                         geometry\n",
       "0  POINT (287793.104 7474455.271)\n",
       "1  POINT (288297.792 7473609.406)\n",
       "2  POINT (288301.248 7474096.840)"
      ]
     },
     "execution_count": 27,
     "metadata": {},
     "output_type": "execute_result"
    }
   ],
   "source": [
    "# Coordenadas obtidas pelo notebook \"Mapa dinâmico\"\n",
    "# Google Maps ajuda nessa parte tb\n",
    "\n",
    "parada_RM = Point(-47.0677, -22.8242) \n",
    "parada_AL = Point(-47.0629, -22.8319) \n",
    "parada_VB = Point(-47.0628, -22.8275)\n",
    "\n",
    "# Convertendo Coordenadas em Degree para metros (31983)\n",
    "pontos_onibus_df = gpd.GeoDataFrame(columns=[\"geometry\"],  crs='EPSG:4326')\n",
    "pontos_onibus_df.loc[0, 'geometry'] = parada_RM\n",
    "pontos_onibus_df.loc[1, 'geometry'] = parada_AL\n",
    "pontos_onibus_df.loc[2, 'geometry'] = parada_VB\n",
    "pontos_onibus_df = pontos_onibus_df.to_crs('EPSG:31983')\n",
    "# pontos_onibus_df.crs\n",
    "pontos_onibus_df"
   ]
  },
  {
   "cell_type": "code",
   "execution_count": 28,
   "metadata": {},
   "outputs": [
    {
     "name": "stdout",
     "output_type": "stream",
     "text": [
      "POINT (287793.1041268592 7474455.270733602)\n",
      "POINT (288297.7924639747 7473609.405694909)\n",
      "POINT (288301.2480990409 7474096.839670669)\n"
     ]
    }
   ],
   "source": [
    "# PONTOS no CRS EPSG:31983\n",
    "parada_RM = Point(pontos_onibus_df['geometry'][0])\n",
    "parada_AL = Point(pontos_onibus_df['geometry'][1])\n",
    "parada_VB = Point(pontos_onibus_df['geometry'][2])\n",
    "\n",
    "print(parada_RM)\n",
    "print(parada_AL)\n",
    "print(parada_VB)"
   ]
  },
  {
   "cell_type": "code",
   "execution_count": 29,
   "metadata": {},
   "outputs": [
    {
     "name": "stdout",
     "output_type": "stream",
     "text": [
      "[[684.09152686]] [[1098.7598336]]\n",
      "[[1188.77986397]] [[252.89479491]]\n",
      "[[1192.23549904]] [[740.32877067]]\n",
      "POINT (684.0915268592071 1098.759833602235)\n"
     ]
    }
   ],
   "source": [
    "# NORMALIZAÇÃO DE PONTOS \n",
    "points = [parada_RM, parada_AL, parada_VB]\n",
    "norm_points = []\n",
    "\n",
    "# convert to 2D array \n",
    "x = np.array(all_coords_x).reshape(-1, 1) # reshape -> 2D array\n",
    "y = np.array(all_coords_y).reshape(-1, 1)\n",
    "\n",
    "for coords in points:\n",
    "    # convert to 2D array\n",
    "    x_coords = np.array([coords.x]).reshape(-1, 1)\n",
    "    y_coords = np.array([coords.y]).reshape(-1, 1)\n",
    "\n",
    "    # define limits of normalization\n",
    "    scaler_x = MinMaxScaler(feature_range = (0, unicamp_maxx - unicamp_minx))\n",
    "    scaler_y = MinMaxScaler(feature_range = (0, unicamp_maxy - unicamp_miny))\n",
    "\n",
    "    # normalize with all all geometry coords x \n",
    "    scaler_x.fit(x)\n",
    "    transform_x = scaler_x.transform(x_coords)\n",
    "\n",
    "    # normalize with all all geometry coords y\n",
    "    scaler_y.fit(y)\n",
    "    transform_y = scaler_y.transform(y_coords)\n",
    "\n",
    "    print(transform_x, transform_y)\n",
    "    norm_points.append(Point(transform_x, transform_y))\n",
    "\n",
    "print(norm_points[0])"
   ]
  },
  {
   "cell_type": "code",
   "execution_count": 30,
   "metadata": {},
   "outputs": [
    {
     "data": {
      "text/html": [
       "<div>\n",
       "<style scoped>\n",
       "    .dataframe tbody tr th:only-of-type {\n",
       "        vertical-align: middle;\n",
       "    }\n",
       "\n",
       "    .dataframe tbody tr th {\n",
       "        vertical-align: top;\n",
       "    }\n",
       "\n",
       "    .dataframe thead th {\n",
       "        text-align: right;\n",
       "    }\n",
       "</style>\n",
       "<table border=\"1\" class=\"dataframe\">\n",
       "  <thead>\n",
       "    <tr style=\"text-align: right;\">\n",
       "      <th></th>\n",
       "      <th>geometry</th>\n",
       "    </tr>\n",
       "  </thead>\n",
       "  <tbody>\n",
       "    <tr>\n",
       "      <th>0</th>\n",
       "      <td>POINT (684.092 1098.760)</td>\n",
       "    </tr>\n",
       "    <tr>\n",
       "      <th>1</th>\n",
       "      <td>POINT (1188.780 252.895)</td>\n",
       "    </tr>\n",
       "    <tr>\n",
       "      <th>2</th>\n",
       "      <td>POINT (1192.235 740.329)</td>\n",
       "    </tr>\n",
       "  </tbody>\n",
       "</table>\n",
       "</div>"
      ],
      "text/plain": [
       "                   geometry\n",
       "0  POINT (684.092 1098.760)\n",
       "1  POINT (1188.780 252.895)\n",
       "2  POINT (1192.235 740.329)"
      ]
     },
     "execution_count": 30,
     "metadata": {},
     "output_type": "execute_result"
    }
   ],
   "source": [
    "# p/ Plotar paradas de ÔNIBUS\n",
    "pontos_onibus_norm_df = gpd.GeoDataFrame(columns=[\"geometry\"],  crs='EPSG:31983')\n",
    "pontos_onibus_norm_df.loc[0, 'geometry'] = norm_points[0]\n",
    "pontos_onibus_norm_df.loc[1, 'geometry'] = norm_points[1]\n",
    "pontos_onibus_norm_df.loc[2, 'geometry'] = norm_points[2]\n",
    "\n",
    "pontos_onibus_norm_df"
   ]
  },
  {
   "cell_type": "code",
   "execution_count": 31,
   "metadata": {},
   "outputs": [
    {
     "data": {
      "text/plain": [
       "<AxesSubplot:>"
      ]
     },
     "execution_count": 31,
     "metadata": {},
     "output_type": "execute_result"
    },
    {
     "data": {
      "image/png": "[encoded data removed]",
      "text/plain": [
       "<Figure size 864x360 with 1 Axes>"
      ]
     },
     "metadata": {
      "needs_background": "light"
     },
     "output_type": "display_data"
    }
   ],
   "source": [
    "# Plot de paradas de ÔNIBUS\n",
    "ax = mapa_normalizado['geometry'].plot(figsize=(12, 5))\n",
    "pontos_onibus_norm_df.plot(ax=ax, color=\"black\")"
   ]
  },
  {
   "cell_type": "code",
   "execution_count": 32,
   "metadata": {
    "scrolled": true
   },
   "outputs": [
    {
     "data": {
      "text/html": [
       "<div>\n",
       "<style scoped>\n",
       "    .dataframe tbody tr th:only-of-type {\n",
       "        vertical-align: middle;\n",
       "    }\n",
       "\n",
       "    .dataframe tbody tr th {\n",
       "        vertical-align: top;\n",
       "    }\n",
       "\n",
       "    .dataframe thead th {\n",
       "        text-align: right;\n",
       "    }\n",
       "</style>\n",
       "<table border=\"1\" class=\"dataframe\">\n",
       "  <thead>\n",
       "    <tr style=\"text-align: right;\">\n",
       "      <th></th>\n",
       "      <th>id</th>\n",
       "      <th>building_number</th>\n",
       "      <th>building_name</th>\n",
       "      <th>unit</th>\n",
       "      <th>geometry</th>\n",
       "    </tr>\n",
       "  </thead>\n",
       "  <tbody>\n",
       "    <tr>\n",
       "      <th>1168</th>\n",
       "      <td>0.0</td>\n",
       "      <td>4.0</td>\n",
       "      <td>Inova P&amp;D</td>\n",
       "      <td>INOVA</td>\n",
       "      <td>POLYGON ((1498.018 2134.044, 1498.209 2134.395...</td>\n",
       "    </tr>\n",
       "    <tr>\n",
       "      <th>1169</th>\n",
       "      <td>0.0</td>\n",
       "      <td>0.0</td>\n",
       "      <td>Instituto de Otorrinolaringologia</td>\n",
       "      <td>None</td>\n",
       "      <td>POLYGON ((1186.929 1019.863, 1202.243 992.924,...</td>\n",
       "    </tr>\n",
       "    <tr>\n",
       "      <th>1170</th>\n",
       "      <td>-1000.0</td>\n",
       "      <td>-1000.0</td>\n",
       "      <td>FUNCAMP</td>\n",
       "      <td>{aaa}</td>\n",
       "      <td>POLYGON ((759.221 2471.148, 759.221 2459.412, ...</td>\n",
       "    </tr>\n",
       "  </tbody>\n",
       "</table>\n",
       "</div>"
      ],
      "text/plain": [
       "          id  building_number                      building_name   unit  \\\n",
       "1168     0.0              4.0                          Inova P&D  INOVA   \n",
       "1169     0.0              0.0  Instituto de Otorrinolaringologia   None   \n",
       "1170 -1000.0          -1000.0                            FUNCAMP  {aaa}   \n",
       "\n",
       "                                               geometry  \n",
       "1168  POLYGON ((1498.018 2134.044, 1498.209 2134.395...  \n",
       "1169  POLYGON ((1186.929 1019.863, 1202.243 992.924,...  \n",
       "1170  POLYGON ((759.221 2471.148, 759.221 2459.412, ...  "
      ]
     },
     "execution_count": 32,
     "metadata": {},
     "output_type": "execute_result"
    }
   ],
   "source": [
    "a =  mapa_normalizado.iloc[mapa_normalizado.shape[0]-3: mapa_normalizado.shape[0]]\n",
    "a"
   ]
  },
  {
   "cell_type": "code",
   "execution_count": null,
   "metadata": {},
   "outputs": [],
   "source": []
  },
  {
   "cell_type": "code",
   "execution_count": null,
   "metadata": {},
   "outputs": [],
   "source": []
  },
  {
   "cell_type": "markdown",
   "metadata": {},
   "source": [
    "# Criação de dataset dos Prédios da Unicamp\n",
    "\n",
    "- Create a xml file with Unicamp Building shapes & height\n",
    "- The outuput xml file will serve as input of NS3"
   ]
  },
  {
   "cell_type": "code",
   "execution_count": 33,
   "metadata": {},
   "outputs": [
    {
     "data": {
      "text/plain": [
       "'653.7600999996066 1952.626000000164, 653.9206999996677 1944.120199999772, 637.80979999993 1943.906200000085, 637.80979999993 1952.358500000089, 653.7600999996066 1952.626000000164, 653.7600999996066 1952.626000000164'"
      ]
     },
     "execution_count": 33,
     "metadata": {},
     "output_type": "execute_result"
    }
   ],
   "source": [
    "# estudando e tratando a string Polygon\n",
    "polygon_str = str(mapa_normalizado['geometry'][0])\n",
    "polygon_coords = polygon_str[polygon_str.find(\"(\") + 2:]\n",
    "polygon_coords = polygon_coords[ : polygon_coords.find(\")\")]\n",
    "polygon_coords"
   ]
  },
  {
   "cell_type": "code",
   "execution_count": 34,
   "metadata": {},
   "outputs": [],
   "source": [
    "# estudando e tratando a string Polygon para o formato aceito pelo módulo de obstáculo\n",
    "def polygon_to_str(polygon_coords):\n",
    "    poly_list = polygon_coords.split(\", \")\n",
    "    poly_final_str = \"\"\n",
    "    for i in range(len(poly_list)):\n",
    "        poly_final_str = poly_final_str + poly_list[i].replace(\" \", \",\") + \" \"\n",
    "\n",
    "    return poly_final_str\n",
    "\n",
    "# print(polygon_to_str(polygon_coords))"
   ]
  },
  {
   "cell_type": "code",
   "execution_count": 35,
   "metadata": {},
   "outputs": [],
   "source": [
    "# Criando xml dataset\n",
    "import os\n",
    "import random\n",
    "from xml.dom import minidom\n",
    "\n",
    "root = minidom.Document()\n",
    "  \n",
    "xml = root.createElement('additional') \n",
    "xml.setAttribute('xmlns:xsi','http://www.w3.org/2001/XMLSchema-instance')\n",
    "xml.setAttribute('xsi:noNamespaceSchemaLocation','http://sumo.dlr.de/xsd/additional_file.xsd')\n",
    "root.appendChild(xml)\n",
    "\n",
    "for i in range(len(mapa_normalizado['geometry'])):   \n",
    "    \n",
    "    polygon_str = str(mapa_normalizado['geometry'][i])\n",
    "    polygon_coords = polygon_str[polygon_str.find(\"(\") + 2:]\n",
    "    polygon_coords = polygon_coords[ : polygon_coords.find(\")\")]\n",
    "    \n",
    "    productChild = root.createElement('poly')\n",
    "    productChild.setAttribute('id', str(int(mapa_normalizado['id'][i])))\n",
    "    productChild.setAttribute('type', 'building')\n",
    "    productChild.setAttribute('color', '255.0,230.0,230.0')\n",
    "    productChild.setAttribute('layer', '-1.0')\n",
    "    productChild.setAttribute('fill', '1')\n",
    "    productChild.setAttribute('height', str(random.uniform(3, 25)))\n",
    "    productChild.setAttribute('shape', polygon_to_str(polygon_coords))\n",
    "  \n",
    "    xml.appendChild(productChild)\n",
    "  \n",
    "xml_str = root.toprettyxml(indent =\"\\t\") \n",
    "  \n",
    "save_path_file = \"predios_unicamp_dataset.xml\"\n",
    "  \n",
    "with open(save_path_file, \"w\") as f:\n",
    "    f.write(xml_str) \n"
   ]
  },
  {
   "cell_type": "code",
   "execution_count": 36,
   "metadata": {},
   "outputs": [
    {
     "name": "stdout",
     "output_type": "stream",
     "text": [
      "SHAPE: (1171, 5)\n"
     ]
    }
   ],
   "source": [
    "print(\"SHAPE:\", mapa_normalizado.shape)"
   ]
  },
  {
   "cell_type": "code",
   "execution_count": null,
   "metadata": {},
   "outputs": [],
   "source": []
  },
  {
   "cell_type": "code",
   "execution_count": null,
   "metadata": {},
   "outputs": [],
   "source": []
  },
  {
   "cell_type": "markdown",
   "metadata": {},
   "source": [
    "# Criação de dataset do posicionamento dos Coletores\n",
    "\n",
    "- Buscar e Mapear predios que contem coletores\n",
    "    - https://www.prefeitura.unicamp.br/2016/02/26/programa-de-coleta-de-pilhas-e-baterias-instalacao-de-coletores/\n",
    "    - https://unicamp-arcgis.maps.arcgis.com/apps/View/index.html?appid=1d96ada62af4451bb4972b9779d09e66\n",
    "\n",
    "- Rotular prédios sem nome\n",
    "    - Anotar centroids de prédios mapeados\n",
    "- Criar dataset de posicionamento de nós"
   ]
  },
  {
   "cell_type": "code",
   "execution_count": 37,
   "metadata": {},
   "outputs": [
    {
     "data": {
      "text/html": [
       "<div>\n",
       "<style scoped>\n",
       "    .dataframe tbody tr th:only-of-type {\n",
       "        vertical-align: middle;\n",
       "    }\n",
       "\n",
       "    .dataframe tbody tr th {\n",
       "        vertical-align: top;\n",
       "    }\n",
       "\n",
       "    .dataframe thead th {\n",
       "        text-align: right;\n",
       "    }\n",
       "</style>\n",
       "<table border=\"1\" class=\"dataframe\">\n",
       "  <thead>\n",
       "    <tr style=\"text-align: right;\">\n",
       "      <th></th>\n",
       "      <th>id</th>\n",
       "      <th>building_number</th>\n",
       "      <th>building_name</th>\n",
       "      <th>unit</th>\n",
       "      <th>geometry</th>\n",
       "    </tr>\n",
       "  </thead>\n",
       "  <tbody>\n",
       "    <tr>\n",
       "      <th>513</th>\n",
       "      <td>459.0</td>\n",
       "      <td>1.0</td>\n",
       "      <td>PREDIO DO IMECC</td>\n",
       "      <td>INSTITUTO DE MATEMÁTICA ESTATÍSTICA E COMPUTAÇ...</td>\n",
       "      <td>POLYGON ((700.738 2035.325, 700.678 2033.525, ...</td>\n",
       "    </tr>\n",
       "  </tbody>\n",
       "</table>\n",
       "</div>"
      ],
      "text/plain": [
       "        id  building_number    building_name  \\\n",
       "513  459.0              1.0  PREDIO DO IMECC   \n",
       "\n",
       "                                                  unit  \\\n",
       "513  INSTITUTO DE MATEMÁTICA ESTATÍSTICA E COMPUTAÇ...   \n",
       "\n",
       "                                              geometry  \n",
       "513  POLYGON ((700.738 2035.325, 700.678 2033.525, ...  "
      ]
     },
     "execution_count": 37,
     "metadata": {},
     "output_type": "execute_result"
    }
   ],
   "source": [
    "mapa_normalizado.query('id ==' + str(459.0))"
   ]
  },
  {
   "cell_type": "markdown",
   "metadata": {},
   "source": [
    "## Rotular prédios sem nome"
   ]
  },
  {
   "cell_type": "code",
   "execution_count": 38,
   "metadata": {},
   "outputs": [
    {
     "data": {
      "text/html": [
       "<div>\n",
       "<style scoped>\n",
       "    .dataframe tbody tr th:only-of-type {\n",
       "        vertical-align: middle;\n",
       "    }\n",
       "\n",
       "    .dataframe tbody tr th {\n",
       "        vertical-align: top;\n",
       "    }\n",
       "\n",
       "    .dataframe thead th {\n",
       "        text-align: right;\n",
       "    }\n",
       "</style>\n",
       "<table border=\"1\" class=\"dataframe\">\n",
       "  <thead>\n",
       "    <tr style=\"text-align: right;\">\n",
       "      <th></th>\n",
       "      <th>id</th>\n",
       "      <th>number</th>\n",
       "      <th>name</th>\n",
       "      <th>geometry</th>\n",
       "      <th>centroid</th>\n",
       "    </tr>\n",
       "  </thead>\n",
       "  <tbody>\n",
       "    <tr>\n",
       "      <th>0</th>\n",
       "      <td>1321.0</td>\n",
       "      <td>1.0</td>\n",
       "      <td>INOVA</td>\n",
       "      <td>POLYGON ((1544.734 2191.631, 1539.771 2182.560...</td>\n",
       "      <td>NaN</td>\n",
       "    </tr>\n",
       "    <tr>\n",
       "      <th>1</th>\n",
       "      <td>535.0</td>\n",
       "      <td>5.0</td>\n",
       "      <td>BC</td>\n",
       "      <td>POLYGON ((334.799 1989.172, 314.589 1966.397, ...</td>\n",
       "      <td>NaN</td>\n",
       "    </tr>\n",
       "    <tr>\n",
       "      <th>2</th>\n",
       "      <td>802.0</td>\n",
       "      <td>9.0</td>\n",
       "      <td>CBMEG</td>\n",
       "      <td>POLYGON ((1534.930 1669.334, 1536.892 1669.233...</td>\n",
       "      <td>NaN</td>\n",
       "    </tr>\n",
       "    <tr>\n",
       "      <th>3</th>\n",
       "      <td>845.0</td>\n",
       "      <td>8.0</td>\n",
       "      <td>CCUEC</td>\n",
       "      <td>POLYGON ((1136.915 1848.717, 1136.349 1837.946...</td>\n",
       "      <td>NaN</td>\n",
       "    </tr>\n",
       "    <tr>\n",
       "      <th>4</th>\n",
       "      <td>1037.0</td>\n",
       "      <td>6.0</td>\n",
       "      <td>GASTROCENTRO</td>\n",
       "      <td>POLYGON ((1193.857 696.854, 1202.814 677.182, ...</td>\n",
       "      <td>NaN</td>\n",
       "    </tr>\n",
       "  </tbody>\n",
       "</table>\n",
       "</div>"
      ],
      "text/plain": [
       "       id number          name  \\\n",
       "0  1321.0    1.0         INOVA   \n",
       "1   535.0    5.0            BC   \n",
       "2   802.0    9.0         CBMEG   \n",
       "3   845.0    8.0         CCUEC   \n",
       "4  1037.0    6.0  GASTROCENTRO   \n",
       "\n",
       "                                            geometry centroid  \n",
       "0  POLYGON ((1544.734 2191.631, 1539.771 2182.560...      NaN  \n",
       "1  POLYGON ((334.799 1989.172, 314.589 1966.397, ...      NaN  \n",
       "2  POLYGON ((1534.930 1669.334, 1536.892 1669.233...      NaN  \n",
       "3  POLYGON ((1136.915 1848.717, 1136.349 1837.946...      NaN  \n",
       "4  POLYGON ((1193.857 696.854, 1202.814 677.182, ...      NaN  "
      ]
     },
     "execution_count": 38,
     "metadata": {},
     "output_type": "execute_result"
    }
   ],
   "source": [
    "# Dataset de Prédios com coletores\n",
    "building_label = {\n",
    "    \"1321.0\":\"INOVA\",\n",
    "    \"535.0\": \"BC\",\n",
    "    \"802.0\": \"CBMEG\",\n",
    "    \"845.0\": \"CCUEC\",\n",
    "    \"1037.0\": \"GASTROCENTRO\",\n",
    "    \"1115.0\": \"CEPETRO\",\n",
    "    \"1038.0\": \"HEMOCENTRO\",\n",
    "    \"960.0\": \"CEMEQ\",\n",
    "    \"671.0\": \"CBI\",\n",
    "    \"663.0\": \"CBII\",\n",
    "    \"533.0\": \"CDC\",\n",
    "    \"29.0\": \"DGA\",\n",
    "    \"9.0\": \"DGRH\",\n",
    "    \"1211.0\": \"DEdIC\",\n",
    "    \"1220.0\": \"Sergio porto\",\n",
    "    \"1238.0\": \"FCM\",\n",
    "    \"727.0\": \"FEF\",\n",
    "    \"1240.0\": \"FEnf\",\n",
    "    \"881.0\": \"FEAGRI\",\n",
    "    \"1282.0\": \"FEC\",\n",
    "    \"300.0\": \"FEA\",\n",
    "    \"278.0\": \"FEEC\",\n",
    "    \"1151.0\": \"FEM\",\n",
    "    \"971.0\": \"FEQ\",\n",
    "    \"-1000.0\": \"FUNCAMP\",\n",
    "    \"1.0\": \"GR\",\n",
    "    \"195.0\": \"GGO\", \n",
    "    \"59.0\": \"HC\",\n",
    "    \"513.0\": \"IA\",\n",
    "    \"604.0\": \"IB\",\n",
    "    \"776.0\": \"IC\",\n",
    "    \"488.0\": \"IEL\",\n",
    "    \"1112.0\": \"IFCH\", \n",
    "    \"441.0\": \"IFGW\",\n",
    "    \"182.0\": \"IG-BAIXO\",\n",
    "    \"1134.0\": \"IG-CIMA\", \n",
    "    \"459.0\": \"IMECC\",\n",
    "    \"376.0\": \"IQ\",\n",
    "    \"4.0\": \"PREFEITURA\",\n",
    "    \"198.0\": \"RA\",\n",
    "    \"1309.0\": \"RS\",\n",
    "    \"531.0\": \"RU\",        \n",
    "} \n",
    "\n",
    "nodes_df = gpd.GeoDataFrame(columns=['id', 'number','name', 'geometry', 'centroid'])\n",
    "\n",
    "# Labeling buildings\n",
    "aux = 0\n",
    "for key, value in building_label.items():\n",
    "    building = mapa_normalizado.query('id ==' + str(key))\n",
    "    building_n = building.copy()\n",
    "    nodes_df.loc[aux, 'name'] = value\n",
    "    nodes_df.loc[aux, ['id']] = building_n['id'].values   \n",
    "    nodes_df.loc[aux, ['number']] = building_n['building_number'].values      \n",
    "    nodes_df.loc[aux, ['geometry']] = building_n['geometry'].values\n",
    "#     nodes_df.loc[aux, ['centroid']] = building_n['centroid'].values\n",
    "    \n",
    "    aux = aux + 1\n",
    "    \n",
    "nodes_df.head()\n",
    "# nodes_df.shape\n"
   ]
  },
  {
   "cell_type": "code",
   "execution_count": 39,
   "metadata": {},
   "outputs": [
    {
     "data": {
      "text/html": [
       "<div>\n",
       "<style scoped>\n",
       "    .dataframe tbody tr th:only-of-type {\n",
       "        vertical-align: middle;\n",
       "    }\n",
       "\n",
       "    .dataframe tbody tr th {\n",
       "        vertical-align: top;\n",
       "    }\n",
       "\n",
       "    .dataframe thead th {\n",
       "        text-align: right;\n",
       "    }\n",
       "</style>\n",
       "<table border=\"1\" class=\"dataframe\">\n",
       "  <thead>\n",
       "    <tr style=\"text-align: right;\">\n",
       "      <th></th>\n",
       "      <th>id</th>\n",
       "      <th>number</th>\n",
       "      <th>name</th>\n",
       "      <th>geometry</th>\n",
       "      <th>centroid</th>\n",
       "    </tr>\n",
       "  </thead>\n",
       "  <tbody>\n",
       "    <tr>\n",
       "      <th>0</th>\n",
       "      <td>1321.0</td>\n",
       "      <td>1.0</td>\n",
       "      <td>INOVA</td>\n",
       "      <td>POLYGON ((1544.734 2191.631, 1539.771 2182.560...</td>\n",
       "      <td>POINT (1527.405 2180.212)</td>\n",
       "    </tr>\n",
       "    <tr>\n",
       "      <th>1</th>\n",
       "      <td>535.0</td>\n",
       "      <td>5.0</td>\n",
       "      <td>BC</td>\n",
       "      <td>POLYGON ((334.799 1989.172, 314.589 1966.397, ...</td>\n",
       "      <td>POINT (297.312 1965.812)</td>\n",
       "    </tr>\n",
       "    <tr>\n",
       "      <th>2</th>\n",
       "      <td>802.0</td>\n",
       "      <td>9.0</td>\n",
       "      <td>CBMEG</td>\n",
       "      <td>POLYGON ((1534.930 1669.334, 1536.892 1669.233...</td>\n",
       "      <td>POINT (1535.554 1646.181)</td>\n",
       "    </tr>\n",
       "    <tr>\n",
       "      <th>3</th>\n",
       "      <td>845.0</td>\n",
       "      <td>8.0</td>\n",
       "      <td>CCUEC</td>\n",
       "      <td>POLYGON ((1136.915 1848.717, 1136.349 1837.946...</td>\n",
       "      <td>POINT (1149.490 1831.086)</td>\n",
       "    </tr>\n",
       "    <tr>\n",
       "      <th>4</th>\n",
       "      <td>1037.0</td>\n",
       "      <td>6.0</td>\n",
       "      <td>GASTROCENTRO</td>\n",
       "      <td>POLYGON ((1193.857 696.854, 1202.814 677.182, ...</td>\n",
       "      <td>POINT (1186.796 667.866)</td>\n",
       "    </tr>\n",
       "  </tbody>\n",
       "</table>\n",
       "</div>"
      ],
      "text/plain": [
       "       id number          name  \\\n",
       "0  1321.0    1.0         INOVA   \n",
       "1   535.0    5.0            BC   \n",
       "2   802.0    9.0         CBMEG   \n",
       "3   845.0    8.0         CCUEC   \n",
       "4  1037.0    6.0  GASTROCENTRO   \n",
       "\n",
       "                                            geometry  \\\n",
       "0  POLYGON ((1544.734 2191.631, 1539.771 2182.560...   \n",
       "1  POLYGON ((334.799 1989.172, 314.589 1966.397, ...   \n",
       "2  POLYGON ((1534.930 1669.334, 1536.892 1669.233...   \n",
       "3  POLYGON ((1136.915 1848.717, 1136.349 1837.946...   \n",
       "4  POLYGON ((1193.857 696.854, 1202.814 677.182, ...   \n",
       "\n",
       "                    centroid  \n",
       "0  POINT (1527.405 2180.212)  \n",
       "1   POINT (297.312 1965.812)  \n",
       "2  POINT (1535.554 1646.181)  \n",
       "3  POINT (1149.490 1831.086)  \n",
       "4   POINT (1186.796 667.866)  "
      ]
     },
     "execution_count": 39,
     "metadata": {},
     "output_type": "execute_result"
    }
   ],
   "source": [
    "nodes_df['centroid'] = nodes_df.centroid\n",
    "nodes_df.head()"
   ]
  },
  {
   "cell_type": "code",
   "execution_count": 40,
   "metadata": {},
   "outputs": [
    {
     "data": {
      "text/plain": [
       "<AxesSubplot:>"
      ]
     },
     "execution_count": 40,
     "metadata": {},
     "output_type": "execute_result"
    },
    {
     "data": {
      "image/png": "[encoded data removed]",
      "text/plain": [
       "<Figure size 864x360 with 1 Axes>"
      ]
     },
     "metadata": {
      "needs_background": "light"
     },
     "output_type": "display_data"
    }
   ],
   "source": [
    "ax = mapa_normalizado['geometry'].plot(figsize=(12, 5))\n",
    "\n",
    "# predios com coletores\n",
    "nodes_df['geometry'].plot(ax=ax, color=\"red\")"
   ]
  },
  {
   "cell_type": "code",
   "execution_count": 41,
   "metadata": {},
   "outputs": [
    {
     "data": {
      "text/plain": [
       "<AxesSubplot:>"
      ]
     },
     "execution_count": 41,
     "metadata": {},
     "output_type": "execute_result"
    },
    {
     "data": {
      "image/png": "[encoded data removed]",
      "text/plain": [
       "<Figure size 864x360 with 1 Axes>"
      ]
     },
     "metadata": {
      "needs_background": "light"
     },
     "output_type": "display_data"
    }
   ],
   "source": [
    "ax = mapa_normalizado['geometry'].plot(figsize=(12, 5))\n",
    "\n",
    "# centroids\n",
    "nodes_df[\"centroid\"].plot(ax=ax, color=\"black\")"
   ]
  },
  {
   "cell_type": "code",
   "execution_count": 42,
   "metadata": {},
   "outputs": [
    {
     "data": {
      "text/plain": [
       "42"
      ]
     },
     "execution_count": 42,
     "metadata": {},
     "output_type": "execute_result"
    }
   ],
   "source": [
    "nodes_df.shape[0]"
   ]
  },
  {
   "cell_type": "code",
   "execution_count": 43,
   "metadata": {
    "scrolled": false
   },
   "outputs": [
    {
     "data": {
      "text/html": [
       "<div>\n",
       "<style scoped>\n",
       "    .dataframe tbody tr th:only-of-type {\n",
       "        vertical-align: middle;\n",
       "    }\n",
       "\n",
       "    .dataframe tbody tr th {\n",
       "        vertical-align: top;\n",
       "    }\n",
       "\n",
       "    .dataframe thead th {\n",
       "        text-align: right;\n",
       "    }\n",
       "</style>\n",
       "<table border=\"1\" class=\"dataframe\">\n",
       "  <thead>\n",
       "    <tr style=\"text-align: right;\">\n",
       "      <th></th>\n",
       "      <th>id</th>\n",
       "      <th>number</th>\n",
       "      <th>name</th>\n",
       "      <th>geometry</th>\n",
       "      <th>centroid</th>\n",
       "    </tr>\n",
       "  </thead>\n",
       "  <tbody>\n",
       "    <tr>\n",
       "      <th>32</th>\n",
       "      <td>1112.0</td>\n",
       "      <td>3.0</td>\n",
       "      <td>IFCH</td>\n",
       "      <td>POLYGON ((816.603 2352.050, 816.711 2347.439, ...</td>\n",
       "      <td>POINT (811.661 2345.528)</td>\n",
       "    </tr>\n",
       "    <tr>\n",
       "      <th>33</th>\n",
       "      <td>441.0</td>\n",
       "      <td>5.0</td>\n",
       "      <td>IFGW</td>\n",
       "      <td>POLYGON ((728.643 1983.953, 728.808 1968.908, ...</td>\n",
       "      <td>POINT (724.497 1976.394)</td>\n",
       "    </tr>\n",
       "    <tr>\n",
       "      <th>34</th>\n",
       "      <td>182.0</td>\n",
       "      <td>8.0</td>\n",
       "      <td>IG-BAIXO</td>\n",
       "      <td>POLYGON ((974.581 1126.027, 962.418 1118.425, ...</td>\n",
       "      <td>POINT (968.081 1123.219)</td>\n",
       "    </tr>\n",
       "    <tr>\n",
       "      <th>35</th>\n",
       "      <td>1134.0</td>\n",
       "      <td>1.1</td>\n",
       "      <td>IG-CIMA</td>\n",
       "      <td>POLYGON ((586.143 2307.745, 519.987 2282.064, ...</td>\n",
       "      <td>POINT (546.812 2311.007)</td>\n",
       "    </tr>\n",
       "    <tr>\n",
       "      <th>36</th>\n",
       "      <td>459.0</td>\n",
       "      <td>1.0</td>\n",
       "      <td>IMECC</td>\n",
       "      <td>POLYGON ((700.738 2035.325, 700.678 2033.525, ...</td>\n",
       "      <td>POINT (666.715 2029.884)</td>\n",
       "    </tr>\n",
       "    <tr>\n",
       "      <th>37</th>\n",
       "      <td>376.0</td>\n",
       "      <td>16.0</td>\n",
       "      <td>IQ</td>\n",
       "      <td>POLYGON ((657.659 1717.684, 671.677 1703.719, ...</td>\n",
       "      <td>POINT (670.199 1698.567)</td>\n",
       "    </tr>\n",
       "    <tr>\n",
       "      <th>38</th>\n",
       "      <td>4.0</td>\n",
       "      <td>2.0</td>\n",
       "      <td>PREFEITURA</td>\n",
       "      <td>POLYGON ((784.329 1011.532, 784.757 1011.053, ...</td>\n",
       "      <td>POINT (777.679 1004.918)</td>\n",
       "    </tr>\n",
       "    <tr>\n",
       "      <th>39</th>\n",
       "      <td>198.0</td>\n",
       "      <td>10.0</td>\n",
       "      <td>RA</td>\n",
       "      <td>POLYGON ((969.003 1298.361, 967.361 1296.699, ...</td>\n",
       "      <td>POINT (956.600 1298.186)</td>\n",
       "    </tr>\n",
       "    <tr>\n",
       "      <th>40</th>\n",
       "      <td>1309.0</td>\n",
       "      <td>1.0</td>\n",
       "      <td>RS</td>\n",
       "      <td>POLYGON ((1229.252 2115.274, 1235.292 2090.603...</td>\n",
       "      <td>POINT (1218.197 2096.661)</td>\n",
       "    </tr>\n",
       "    <tr>\n",
       "      <th>41</th>\n",
       "      <td>531.0</td>\n",
       "      <td>1.0</td>\n",
       "      <td>RU</td>\n",
       "      <td>POLYGON ((229.926 1860.477, 241.953 1803.958, ...</td>\n",
       "      <td>POINT (213.981 1827.408)</td>\n",
       "    </tr>\n",
       "  </tbody>\n",
       "</table>\n",
       "</div>"
      ],
      "text/plain": [
       "        id number        name  \\\n",
       "32  1112.0    3.0        IFCH   \n",
       "33   441.0    5.0        IFGW   \n",
       "34   182.0    8.0    IG-BAIXO   \n",
       "35  1134.0    1.1     IG-CIMA   \n",
       "36   459.0    1.0       IMECC   \n",
       "37   376.0   16.0          IQ   \n",
       "38     4.0    2.0  PREFEITURA   \n",
       "39   198.0   10.0          RA   \n",
       "40  1309.0    1.0          RS   \n",
       "41   531.0    1.0          RU   \n",
       "\n",
       "                                             geometry  \\\n",
       "32  POLYGON ((816.603 2352.050, 816.711 2347.439, ...   \n",
       "33  POLYGON ((728.643 1983.953, 728.808 1968.908, ...   \n",
       "34  POLYGON ((974.581 1126.027, 962.418 1118.425, ...   \n",
       "35  POLYGON ((586.143 2307.745, 519.987 2282.064, ...   \n",
       "36  POLYGON ((700.738 2035.325, 700.678 2033.525, ...   \n",
       "37  POLYGON ((657.659 1717.684, 671.677 1703.719, ...   \n",
       "38  POLYGON ((784.329 1011.532, 784.757 1011.053, ...   \n",
       "39  POLYGON ((969.003 1298.361, 967.361 1296.699, ...   \n",
       "40  POLYGON ((1229.252 2115.274, 1235.292 2090.603...   \n",
       "41  POLYGON ((229.926 1860.477, 241.953 1803.958, ...   \n",
       "\n",
       "                     centroid  \n",
       "32   POINT (811.661 2345.528)  \n",
       "33   POINT (724.497 1976.394)  \n",
       "34   POINT (968.081 1123.219)  \n",
       "35   POINT (546.812 2311.007)  \n",
       "36   POINT (666.715 2029.884)  \n",
       "37   POINT (670.199 1698.567)  \n",
       "38   POINT (777.679 1004.918)  \n",
       "39   POINT (956.600 1298.186)  \n",
       "40  POINT (1218.197 2096.661)  \n",
       "41   POINT (213.981 1827.408)  "
      ]
     },
     "execution_count": 43,
     "metadata": {},
     "output_type": "execute_result"
    }
   ],
   "source": [
    "nodes_df.iloc[nodes_df.shape[0]-10:nodes_df.shape[0]]"
   ]
  },
  {
   "cell_type": "markdown",
   "metadata": {},
   "source": [
    "# Criar dataset de posicionamento de nós"
   ]
  },
  {
   "cell_type": "code",
   "execution_count": 44,
   "metadata": {},
   "outputs": [],
   "source": [
    "# GENERATE BUILDINGS CSV FILE\n",
    "\n",
    "#---- create a csv file\n",
    "def create_csv(title, colunms_names):\n",
    "    with open(title,\"w+\") as file:\n",
    "        writer = csv.writer(file, delimiter=\",\")\n",
    "        writer.writerow(colunms_names)\n",
    "\n",
    "\n",
    "#---- add row on csv file\n",
    "def add_csv_rows(ns3_settings, colunms_names, title):\n",
    "    for colunm in ns3_settings:\n",
    "        if len(colunm) == len(colunms_names):\n",
    "            with open(title,\"a\") as file:\n",
    "                writer = csv.writer(file, delimiter=\",\")\n",
    "                writer.writerow([x for x in colunm])\n"
   ]
  },
  {
   "cell_type": "code",
   "execution_count": 45,
   "metadata": {},
   "outputs": [],
   "source": [
    "colunms_names  = ['id', 'name', 'x', 'y', 'z']\n",
    "\n",
    "nodes_pos = []\n",
    "for i in range(len(nodes_df.geometry)):\n",
    "    # tratando a string Point\n",
    "    point_str = str(nodes_df['centroid'][i])\n",
    "    point_coords = point_str[point_str.find(\"(\") + 1:]\n",
    "    point_coords = point_coords[ : point_coords.find(\")\")]\n",
    "#     print(i, \" - \",point_coords)\n",
    "    x = point_coords.split()[0]\n",
    "    y = point_coords.split()[1]\n",
    "    z = 1.5\n",
    "\n",
    "    items_per_row = [nodes_df.loc[i]['id'], nodes_df.loc[i]['name'], x, y, z]\n",
    "    nodes_pos.append(items_per_row)\n",
    "\n",
    "\n",
    "# ADD casos especiais\n",
    "# def add_node_dataset_rows(geodataset, ref_osm_id, name, point):\n",
    "items_per_row = [-10001,\"CCS\", pt_CCS.x,  pt_CCS.y, 1.5]\n",
    "nodes_pos.append(items_per_row)\n",
    "items_per_row = [-10002,\"EB\", pt_EB.x, pt_EB.y, 1.5]\n",
    "nodes_pos.append(items_per_row)\n",
    "items_per_row = [-10003,\"PO-RM\", norm_points[0].x, norm_points[0].y, 1.5]  # parada_RM\n",
    "nodes_pos.append(items_per_row)\n",
    "items_per_row = [-10004,\"PO-AL\", norm_points[1].x, norm_points[1].y, 1.5] # parada_AL\n",
    "nodes_pos.append(items_per_row)\n",
    "items_per_row = [-10005,\"PO-VB\", norm_points[2].x, norm_points[2].y, 1.5] # parada_VB\n",
    "nodes_pos.append(items_per_row)\n"
   ]
  },
  {
   "cell_type": "code",
   "execution_count": 46,
   "metadata": {},
   "outputs": [],
   "source": [
    "output_filename = 'coletores_pos_dataset.csv'\n",
    "create_csv(output_filename, colunms_names)\n",
    "add_csv_rows(nodes_pos, colunms_names, output_filename)"
   ]
  },
  {
   "cell_type": "code",
   "execution_count": 47,
   "metadata": {},
   "outputs": [
    {
     "name": "stdout",
     "output_type": "stream",
     "text": [
      "DATASET SHAPE: (47, 5)\n"
     ]
    },
    {
     "data": {
      "text/html": [
       "<div>\n",
       "<style scoped>\n",
       "    .dataframe tbody tr th:only-of-type {\n",
       "        vertical-align: middle;\n",
       "    }\n",
       "\n",
       "    .dataframe tbody tr th {\n",
       "        vertical-align: top;\n",
       "    }\n",
       "\n",
       "    .dataframe thead th {\n",
       "        text-align: right;\n",
       "    }\n",
       "</style>\n",
       "<table border=\"1\" class=\"dataframe\">\n",
       "  <thead>\n",
       "    <tr style=\"text-align: right;\">\n",
       "      <th></th>\n",
       "      <th>id</th>\n",
       "      <th>name</th>\n",
       "      <th>x</th>\n",
       "      <th>y</th>\n",
       "      <th>z</th>\n",
       "    </tr>\n",
       "  </thead>\n",
       "  <tbody>\n",
       "    <tr>\n",
       "      <th>0</th>\n",
       "      <td>1321.0</td>\n",
       "      <td>INOVA</td>\n",
       "      <td>1527.405075</td>\n",
       "      <td>2180.212233</td>\n",
       "      <td>1.5</td>\n",
       "    </tr>\n",
       "    <tr>\n",
       "      <th>1</th>\n",
       "      <td>535.0</td>\n",
       "      <td>BC</td>\n",
       "      <td>297.311734</td>\n",
       "      <td>1965.812273</td>\n",
       "      <td>1.5</td>\n",
       "    </tr>\n",
       "    <tr>\n",
       "      <th>2</th>\n",
       "      <td>802.0</td>\n",
       "      <td>CBMEG</td>\n",
       "      <td>1535.553550</td>\n",
       "      <td>1646.180816</td>\n",
       "      <td>1.5</td>\n",
       "    </tr>\n",
       "    <tr>\n",
       "      <th>3</th>\n",
       "      <td>845.0</td>\n",
       "      <td>CCUEC</td>\n",
       "      <td>1149.489906</td>\n",
       "      <td>1831.086023</td>\n",
       "      <td>1.5</td>\n",
       "    </tr>\n",
       "    <tr>\n",
       "      <th>4</th>\n",
       "      <td>1037.0</td>\n",
       "      <td>GASTROCENTRO</td>\n",
       "      <td>1186.795533</td>\n",
       "      <td>667.866479</td>\n",
       "      <td>1.5</td>\n",
       "    </tr>\n",
       "  </tbody>\n",
       "</table>\n",
       "</div>"
      ],
      "text/plain": [
       "       id          name            x            y    z\n",
       "0  1321.0         INOVA  1527.405075  2180.212233  1.5\n",
       "1   535.0            BC   297.311734  1965.812273  1.5\n",
       "2   802.0         CBMEG  1535.553550  1646.180816  1.5\n",
       "3   845.0         CCUEC  1149.489906  1831.086023  1.5\n",
       "4  1037.0  GASTROCENTRO  1186.795533   667.866479  1.5"
      ]
     },
     "execution_count": 47,
     "metadata": {},
     "output_type": "execute_result"
    }
   ],
   "source": [
    "# Visualizando dataset criado\n",
    "node_pos_df = pd.read_csv(\"coletores_pos_dataset.csv\") \n",
    "print(\"DATASET SHAPE:\", node_pos_df.shape)\n",
    "node_pos_df.head()"
   ]
  },
  {
   "cell_type": "code",
   "execution_count": 48,
   "metadata": {},
   "outputs": [
    {
     "data": {
      "text/html": [
       "<div>\n",
       "<style scoped>\n",
       "    .dataframe tbody tr th:only-of-type {\n",
       "        vertical-align: middle;\n",
       "    }\n",
       "\n",
       "    .dataframe tbody tr th {\n",
       "        vertical-align: top;\n",
       "    }\n",
       "\n",
       "    .dataframe thead th {\n",
       "        text-align: right;\n",
       "    }\n",
       "</style>\n",
       "<table border=\"1\" class=\"dataframe\">\n",
       "  <thead>\n",
       "    <tr style=\"text-align: right;\">\n",
       "      <th></th>\n",
       "      <th>id</th>\n",
       "      <th>name</th>\n",
       "      <th>x</th>\n",
       "      <th>y</th>\n",
       "      <th>z</th>\n",
       "    </tr>\n",
       "  </thead>\n",
       "  <tbody>\n",
       "    <tr>\n",
       "      <th>37</th>\n",
       "      <td>376.0</td>\n",
       "      <td>IQ</td>\n",
       "      <td>670.198697</td>\n",
       "      <td>1698.567029</td>\n",
       "      <td>1.5</td>\n",
       "    </tr>\n",
       "    <tr>\n",
       "      <th>38</th>\n",
       "      <td>4.0</td>\n",
       "      <td>PREFEITURA</td>\n",
       "      <td>777.679360</td>\n",
       "      <td>1004.918245</td>\n",
       "      <td>1.5</td>\n",
       "    </tr>\n",
       "    <tr>\n",
       "      <th>39</th>\n",
       "      <td>198.0</td>\n",
       "      <td>RA</td>\n",
       "      <td>956.600038</td>\n",
       "      <td>1298.185503</td>\n",
       "      <td>1.5</td>\n",
       "    </tr>\n",
       "    <tr>\n",
       "      <th>40</th>\n",
       "      <td>1309.0</td>\n",
       "      <td>RS</td>\n",
       "      <td>1218.197469</td>\n",
       "      <td>2096.661066</td>\n",
       "      <td>1.5</td>\n",
       "    </tr>\n",
       "    <tr>\n",
       "      <th>41</th>\n",
       "      <td>531.0</td>\n",
       "      <td>RU</td>\n",
       "      <td>213.981127</td>\n",
       "      <td>1827.408356</td>\n",
       "      <td>1.5</td>\n",
       "    </tr>\n",
       "    <tr>\n",
       "      <th>42</th>\n",
       "      <td>-10001.0</td>\n",
       "      <td>CCS</td>\n",
       "      <td>955.805000</td>\n",
       "      <td>1150.583000</td>\n",
       "      <td>1.5</td>\n",
       "    </tr>\n",
       "    <tr>\n",
       "      <th>43</th>\n",
       "      <td>-10002.0</td>\n",
       "      <td>EB</td>\n",
       "      <td>905.000000</td>\n",
       "      <td>1250.583000</td>\n",
       "      <td>1.5</td>\n",
       "    </tr>\n",
       "    <tr>\n",
       "      <th>44</th>\n",
       "      <td>-10003.0</td>\n",
       "      <td>PO-RM</td>\n",
       "      <td>684.091527</td>\n",
       "      <td>1098.759834</td>\n",
       "      <td>1.5</td>\n",
       "    </tr>\n",
       "    <tr>\n",
       "      <th>45</th>\n",
       "      <td>-10004.0</td>\n",
       "      <td>PO-AL</td>\n",
       "      <td>1188.779864</td>\n",
       "      <td>252.894795</td>\n",
       "      <td>1.5</td>\n",
       "    </tr>\n",
       "    <tr>\n",
       "      <th>46</th>\n",
       "      <td>-10005.0</td>\n",
       "      <td>PO-VB</td>\n",
       "      <td>1192.235499</td>\n",
       "      <td>740.328771</td>\n",
       "      <td>1.5</td>\n",
       "    </tr>\n",
       "  </tbody>\n",
       "</table>\n",
       "</div>"
      ],
      "text/plain": [
       "         id        name            x            y    z\n",
       "37    376.0          IQ   670.198697  1698.567029  1.5\n",
       "38      4.0  PREFEITURA   777.679360  1004.918245  1.5\n",
       "39    198.0          RA   956.600038  1298.185503  1.5\n",
       "40   1309.0          RS  1218.197469  2096.661066  1.5\n",
       "41    531.0          RU   213.981127  1827.408356  1.5\n",
       "42 -10001.0         CCS   955.805000  1150.583000  1.5\n",
       "43 -10002.0          EB   905.000000  1250.583000  1.5\n",
       "44 -10003.0       PO-RM   684.091527  1098.759834  1.5\n",
       "45 -10004.0       PO-AL  1188.779864   252.894795  1.5\n",
       "46 -10005.0       PO-VB  1192.235499   740.328771  1.5"
      ]
     },
     "execution_count": 48,
     "metadata": {},
     "output_type": "execute_result"
    }
   ],
   "source": [
    "node_pos_df.iloc[node_pos_df.shape[0]-10:node_pos_df.shape[0]]"
   ]
  },
  {
   "cell_type": "code",
   "execution_count": null,
   "metadata": {},
   "outputs": [],
   "source": []
  },
  {
   "cell_type": "code",
   "execution_count": null,
   "metadata": {},
   "outputs": [],
   "source": []
  },
  {
   "cell_type": "code",
   "execution_count": 49,
   "metadata": {},
   "outputs": [
    {
     "data": {
      "text/plain": [
       "<AxesSubplot:>"
      ]
     },
     "execution_count": 49,
     "metadata": {},
     "output_type": "execute_result"
    },
    {
     "data": {
      "image/png": "[encoded data removed]",
      "text/plain": [
       "<Figure size 1080x504 with 1 Axes>"
      ]
     },
     "metadata": {
      "needs_background": "light"
     },
     "output_type": "display_data"
    }
   ],
   "source": [
    "ax = mapa_normalizado['geometry'].plot(figsize=(15, 7))\n",
    "\n",
    "# centroids\n",
    "nodes_df[\"centroid\"].plot(ax=ax, color=\"black\")"
   ]
  },
  {
   "cell_type": "code",
   "execution_count": null,
   "metadata": {},
   "outputs": [],
   "source": []
  },
  {
   "cell_type": "markdown",
   "metadata": {},
   "source": [
    "\n",
    "# Salvando Mapa de prédios da Unicamp Normalizado (shapefile)"
   ]
  },
  {
   "cell_type": "code",
   "execution_count": 50,
   "metadata": {},
   "outputs": [
    {
     "data": {
      "text/plain": [
       "True"
      ]
     },
     "execution_count": 50,
     "metadata": {},
     "output_type": "execute_result"
    }
   ],
   "source": [
    "# verificando se não foi atribuindo um CRS anteriormente\n",
    "mapa_normalizado.crs is None"
   ]
  },
  {
   "cell_type": "code",
   "execution_count": 51,
   "metadata": {},
   "outputs": [
    {
     "data": {
      "text/plain": [
       "<Projected CRS: EPSG:31983>\n",
       "Name: SIRGAS 2000 / UTM zone 23S\n",
       "Axis Info [cartesian]:\n",
       "- E[east]: Easting (metre)\n",
       "- N[north]: Northing (metre)\n",
       "Area of Use:\n",
       "- name: Brazil - 48°W to 42°W\n",
       "- bounds: (-48.0, -33.5, -42.0, 5.13)\n",
       "Coordinate Operation:\n",
       "- name: UTM zone 23S\n",
       "- method: Transverse Mercator\n",
       "Datum: Sistema de Referencia Geocentrico para las AmericaS 2000\n",
       "- Ellipsoid: GRS 1980\n",
       "- Prime Meridian: Greenwich"
      ]
     },
     "execution_count": 51,
     "metadata": {},
     "output_type": "execute_result"
    }
   ],
   "source": [
    "# atribuindo um CRS\n",
    "mapa_normalizado = mapa_normalizado.set_crs('epsg:31983')\n",
    "mapa_normalizado.crs  "
   ]
  },
  {
   "cell_type": "code",
   "execution_count": 57,
   "metadata": {},
   "outputs": [
    {
     "name": "stderr",
     "output_type": "stream",
     "text": [
      "<ipython-input-57-ab1ecf111ccf>:2: UserWarning: Column names longer than 10 characters will be truncated when saved to ESRI Shapefile.\n",
      "  mapa_normalizado.to_file('mapa_predios_unicamp_normalizado.shp')\n"
     ]
    }
   ],
   "source": [
    "# SALVANDO MAPA NORMALIZADO DE PRÉDIOS no formato Shapefile\n",
    "mapa_normalizado.to_file('mapa_predios_unicamp_normalizado.shp')\n",
    "\n",
    "# # Testando abrir arquivo salvo\n",
    "unicamp_gdf = gpd.read_file('mapa_predios_unicamp_normalizado.shp')"
   ]
  },
  {
   "cell_type": "code",
   "execution_count": 58,
   "metadata": {},
   "outputs": [
    {
     "data": {
      "image/png": "[encoded data removed]",
      "text/plain": [
       "<Figure size 1080x504 with 1 Axes>"
      ]
     },
     "metadata": {
      "needs_background": "light"
     },
     "output_type": "display_data"
    }
   ],
   "source": [
    "ax = unicamp_gdf['geometry'].plot(figsize=(15, 7), color='purple')"
   ]
  },
  {
   "cell_type": "code",
   "execution_count": null,
   "metadata": {},
   "outputs": [],
   "source": []
  },
  {
   "cell_type": "markdown",
   "metadata": {},
   "source": [
    "# Elevação"
   ]
  },
  {
   "cell_type": "code",
   "execution_count": 59,
   "metadata": {},
   "outputs": [
    {
     "name": "stdout",
     "output_type": "stream",
     "text": [
      "DATASET SHAPE: (1171, 7)\n"
     ]
    },
    {
     "data": {
      "text/html": [
       "<div>\n",
       "<style scoped>\n",
       "    .dataframe tbody tr th:only-of-type {\n",
       "        vertical-align: middle;\n",
       "    }\n",
       "\n",
       "    .dataframe tbody tr th {\n",
       "        vertical-align: top;\n",
       "    }\n",
       "\n",
       "    .dataframe thead th {\n",
       "        text-align: right;\n",
       "    }\n",
       "</style>\n",
       "<table border=\"1\" class=\"dataframe\">\n",
       "  <thead>\n",
       "    <tr style=\"text-align: right;\">\n",
       "      <th></th>\n",
       "      <th>index</th>\n",
       "      <th>latitude</th>\n",
       "      <th>longitude</th>\n",
       "      <th>elevation</th>\n",
       "      <th>maps_lat</th>\n",
       "      <th>maps_long</th>\n",
       "      <th>resolution</th>\n",
       "    </tr>\n",
       "  </thead>\n",
       "  <tbody>\n",
       "    <tr>\n",
       "      <th>0</th>\n",
       "      <td>0</td>\n",
       "      <td>-22.816526</td>\n",
       "      <td>-47.067957</td>\n",
       "      <td>600.368958</td>\n",
       "      <td>-22.81653</td>\n",
       "      <td>-47.06796</td>\n",
       "      <td>152.703232</td>\n",
       "    </tr>\n",
       "    <tr>\n",
       "      <th>1</th>\n",
       "      <td>1</td>\n",
       "      <td>-22.825453</td>\n",
       "      <td>-47.064466</td>\n",
       "      <td>625.860535</td>\n",
       "      <td>-22.82545</td>\n",
       "      <td>-47.06447</td>\n",
       "      <td>152.703232</td>\n",
       "    </tr>\n",
       "    <tr>\n",
       "      <th>2</th>\n",
       "      <td>2</td>\n",
       "      <td>-22.816429</td>\n",
       "      <td>-47.062007</td>\n",
       "      <td>626.047119</td>\n",
       "      <td>-22.81643</td>\n",
       "      <td>-47.06201</td>\n",
       "      <td>152.703232</td>\n",
       "    </tr>\n",
       "    <tr>\n",
       "      <th>3</th>\n",
       "      <td>3</td>\n",
       "      <td>-22.827770</td>\n",
       "      <td>-47.061961</td>\n",
       "      <td>633.660645</td>\n",
       "      <td>-22.82777</td>\n",
       "      <td>-47.06196</td>\n",
       "      <td>152.703232</td>\n",
       "    </tr>\n",
       "    <tr>\n",
       "      <th>4</th>\n",
       "      <td>4</td>\n",
       "      <td>-22.827630</td>\n",
       "      <td>-47.062190</td>\n",
       "      <td>632.446960</td>\n",
       "      <td>-22.82763</td>\n",
       "      <td>-47.06219</td>\n",
       "      <td>152.703232</td>\n",
       "    </tr>\n",
       "  </tbody>\n",
       "</table>\n",
       "</div>"
      ],
      "text/plain": [
       "   index   latitude  longitude   elevation  maps_lat  maps_long  resolution\n",
       "0      0 -22.816526 -47.067957  600.368958 -22.81653  -47.06796  152.703232\n",
       "1      1 -22.825453 -47.064466  625.860535 -22.82545  -47.06447  152.703232\n",
       "2      2 -22.816429 -47.062007  626.047119 -22.81643  -47.06201  152.703232\n",
       "3      3 -22.827770 -47.061961  633.660645 -22.82777  -47.06196  152.703232\n",
       "4      4 -22.827630 -47.062190  632.446960 -22.82763  -47.06219  152.703232"
      ]
     },
     "execution_count": 59,
     "metadata": {},
     "output_type": "execute_result"
    }
   ],
   "source": [
    "# Abrindo Dataset de Elevação (Google Maps API)\n",
    "elevation_df = pd.read_csv(\"unicamp_centroids_elevation.csv\") \n",
    "print(\"DATASET SHAPE:\", elevation_df.shape)\n",
    "\n",
    "elevation_df.rename(columns={'Unnamed: 0': 'index'}, inplace=True)\n",
    "\n",
    "elevation_df.head()"
   ]
  },
  {
   "cell_type": "code",
   "execution_count": 60,
   "metadata": {},
   "outputs": [
    {
     "data": {
      "text/html": [
       "<div>\n",
       "<style scoped>\n",
       "    .dataframe tbody tr th:only-of-type {\n",
       "        vertical-align: middle;\n",
       "    }\n",
       "\n",
       "    .dataframe tbody tr th {\n",
       "        vertical-align: top;\n",
       "    }\n",
       "\n",
       "    .dataframe thead th {\n",
       "        text-align: right;\n",
       "    }\n",
       "</style>\n",
       "<table border=\"1\" class=\"dataframe\">\n",
       "  <thead>\n",
       "    <tr style=\"text-align: right;\">\n",
       "      <th></th>\n",
       "      <th>id</th>\n",
       "      <th>building_number</th>\n",
       "      <th>building_name</th>\n",
       "      <th>unit</th>\n",
       "      <th>geometry</th>\n",
       "    </tr>\n",
       "  </thead>\n",
       "  <tbody>\n",
       "    <tr>\n",
       "      <th>189</th>\n",
       "      <td>175.0</td>\n",
       "      <td>1.0</td>\n",
       "      <td>ENGª BÁSICA E NEPAM E FEEC-ELETRÔNICA E MICRO-...</td>\n",
       "      <td>REITORIA-PRG</td>\n",
       "      <td>POLYGON ((968.874 1190.621, 981.679 1170.861, ...</td>\n",
       "    </tr>\n",
       "  </tbody>\n",
       "</table>\n",
       "</div>"
      ],
      "text/plain": [
       "        id  building_number  \\\n",
       "189  175.0              1.0   \n",
       "\n",
       "                                         building_name          unit  \\\n",
       "189  ENGª BÁSICA E NEPAM E FEEC-ELETRÔNICA E MICRO-...  REITORIA-PRG   \n",
       "\n",
       "                                              geometry  \n",
       "189  POLYGON ((968.874 1190.621, 981.679 1170.861, ...  "
      ]
     },
     "execution_count": 60,
     "metadata": {},
     "output_type": "execute_result"
    }
   ],
   "source": [
    "mapa_normalizado.query('id ==' + str(175.0))"
   ]
  },
  {
   "cell_type": "code",
   "execution_count": 61,
   "metadata": {},
   "outputs": [],
   "source": [
    "# Dataset de Prédios com coletores\n",
    "building_index = {\n",
    "    \"701\":\"INOVA\", \"765\": \"BC\", \"688\": \"CBMEG\", \"600\": \"CCUEC\", \"315\": \"GASTROCENTRO\", \"539\": \"CEPETRO\",\n",
    "    \"852\": \"HEMOCENTRO\", \"219\": \"CEMEQ\", \"760\": \"CBI\", \"753\": \"CBII\", \"787\": \"CDC\", \"193\": \"DGA\",\n",
    "    \"209\": \"DGRH\", \"863\": \"DEdIC\", \"297\": \"Sergio porto\", \"867\": \"FCM\", \"790\": \"FEF\", \"880\": \"FEnf\",\n",
    "    \"674\": \"FEAGRI\", \"2\": \"FEC\", \"253\": \"FEA\", \"234\": \"FEEC\", \"286\": \"FEM\", \"396\": \"FEQ\",\n",
    "    \"1170\": \"FUNCAMP\", \"39\": \"GR\", \"212\": \"GGO\", \"115\": \"HC\", \"24\": \"IA\", \"441\": \"IB\", \"571\": \"IC\",\n",
    "    \"525\": \"IEL\", \"540\": \"IFCH\", \"399\": \"IFGW\", \"183\": \"IG-BAIXO\", \"1066\": \"IG-CIMA\", \"513\": \"IMECC\",\n",
    "    \"341\": \"IQ\", \"203\": \"PREFEITURA\", \"37\": \"RA\", \"636\": \"RS\", \"775\": \"RU\",        \n",
    "} "
   ]
  },
  {
   "cell_type": "code",
   "execution_count": 62,
   "metadata": {},
   "outputs": [],
   "source": [
    "# a = elevation_df.query('index ==' + str(701))\n",
    "# b = a['elevation'].values[0]\n",
    "# b"
   ]
  },
  {
   "cell_type": "code",
   "execution_count": 64,
   "metadata": {},
   "outputs": [
    {
     "name": "stdout",
     "output_type": "stream",
     "text": [
      "(42, 1)\n"
     ]
    }
   ],
   "source": [
    "teste_df = gpd.GeoDataFrame(columns=['elevation'])\n",
    "\n",
    "# Labeling buildings\n",
    "aux = 0\n",
    "for key, value in building_index.items():\n",
    "    building = elevation_df.query('index ==' + str(key))\n",
    "    building_n = building.copy()\n",
    "    teste_df.loc[aux, 'elevation'] = building_n['elevation'].values[0]\n",
    "    aux = aux + 1\n",
    "\n",
    "print(teste_df.shape)\n",
    "# teste_df.head()"
   ]
  },
  {
   "cell_type": "code",
   "execution_count": 66,
   "metadata": {},
   "outputs": [
    {
     "name": "stdout",
     "output_type": "stream",
     "text": [
      "(46, 1)\n"
     ]
    }
   ],
   "source": [
    "building = elevation_df.query('index ==' + str(189)) ## CCS e EB\n",
    "building_n = building.copy()\n",
    "teste_df.loc[aux, 'elevation'] = building_n['elevation'].values[0] # CCS\n",
    "aux = aux + 1\n",
    "teste_df.loc[aux, 'elevation'] = building_n['elevation'].values[0] # EB\n",
    "aux = aux + 1\n",
    "\n",
    "print(teste_df.shape)\n",
    "# teste_df.head()"
   ]
  },
  {
   "cell_type": "code",
   "execution_count": 67,
   "metadata": {},
   "outputs": [
    {
     "name": "stdout",
     "output_type": "stream",
     "text": [
      "604.0 638.0 624.0\n",
      "(49, 1)\n"
     ]
    },
    {
     "data": {
      "text/html": [
       "<div>\n",
       "<style scoped>\n",
       "    .dataframe tbody tr th:only-of-type {\n",
       "        vertical-align: middle;\n",
       "    }\n",
       "\n",
       "    .dataframe tbody tr th {\n",
       "        vertical-align: top;\n",
       "    }\n",
       "\n",
       "    .dataframe thead th {\n",
       "        text-align: right;\n",
       "    }\n",
       "</style>\n",
       "<table border=\"1\" class=\"dataframe\">\n",
       "  <thead>\n",
       "    <tr style=\"text-align: right;\">\n",
       "      <th></th>\n",
       "      <th>elevation</th>\n",
       "    </tr>\n",
       "  </thead>\n",
       "  <tbody>\n",
       "    <tr>\n",
       "      <th>0</th>\n",
       "      <td>644.45874</td>\n",
       "    </tr>\n",
       "    <tr>\n",
       "      <th>1</th>\n",
       "      <td>602.154968</td>\n",
       "    </tr>\n",
       "    <tr>\n",
       "      <th>2</th>\n",
       "      <td>652.513123</td>\n",
       "    </tr>\n",
       "    <tr>\n",
       "      <th>3</th>\n",
       "      <td>616.78894</td>\n",
       "    </tr>\n",
       "    <tr>\n",
       "      <th>4</th>\n",
       "      <td>635.025085</td>\n",
       "    </tr>\n",
       "  </tbody>\n",
       "</table>\n",
       "</div>"
      ],
      "text/plain": [
       "    elevation\n",
       "0   644.45874\n",
       "1  602.154968\n",
       "2  652.513123\n",
       "3   616.78894\n",
       "4  635.025085"
      ]
     },
     "execution_count": 67,
     "metadata": {},
     "output_type": "execute_result"
    }
   ],
   "source": [
    "# Elevação Paradas de ônibus\n",
    "# parada_RM = Point(-47.0677, -22.8242) \n",
    "# parada_AL = Point(-47.0629, -22.8319) \n",
    "# parada_VB = Point(-47.0628, -22.8275)\n",
    "\n",
    "import time\n",
    "import requests\n",
    "\n",
    "def get_point_elevation(lat, lng):\n",
    "    receive = requests.get('https://api.opentopodata.org/v1/aster30m?locations=' + str(lat) + ','+ str(lng))\n",
    "    data = receive.json()\n",
    "#     print(data['results'][0]['elevation'])\n",
    "    return float(data['results'][0]['elevation'])\n",
    "\n",
    "\n",
    "parada_RM_elev = get_point_elevation(-22.8242, -47.0677)\n",
    "time.sleep(1)\n",
    "parada_AL_elev = get_point_elevation(-22.8319, -47.0629)\n",
    "time.sleep(1)\n",
    "parada_VB_elev = get_point_elevation(-22.8275, -47.0628)\n",
    "print(parada_RM_elev, parada_AL_elev, parada_VB_elev)\n",
    "\n",
    "\n",
    "# add elevations on df\n",
    "teste_df.loc[aux, 'elevation'] = parada_RM_elev\n",
    "aux = aux + 1\n",
    "teste_df.loc[aux, 'elevation'] = parada_AL_elev\n",
    "aux = aux + 1\n",
    "teste_df.loc[aux, 'elevation'] = parada_VB_elev\n",
    "aux = aux + 1\n",
    "\n",
    "print(teste_df.shape)\n",
    "teste_df.head()"
   ]
  },
  {
   "cell_type": "code",
   "execution_count": 68,
   "metadata": {},
   "outputs": [
    {
     "data": {
      "text/html": [
       "<div>\n",
       "<style scoped>\n",
       "    .dataframe tbody tr th:only-of-type {\n",
       "        vertical-align: middle;\n",
       "    }\n",
       "\n",
       "    .dataframe tbody tr th {\n",
       "        vertical-align: top;\n",
       "    }\n",
       "\n",
       "    .dataframe thead th {\n",
       "        text-align: right;\n",
       "    }\n",
       "</style>\n",
       "<table border=\"1\" class=\"dataframe\">\n",
       "  <thead>\n",
       "    <tr style=\"text-align: right;\">\n",
       "      <th></th>\n",
       "      <th>id</th>\n",
       "      <th>name</th>\n",
       "      <th>x</th>\n",
       "      <th>y</th>\n",
       "      <th>z</th>\n",
       "      <th>elevation</th>\n",
       "    </tr>\n",
       "  </thead>\n",
       "  <tbody>\n",
       "    <tr>\n",
       "      <th>0</th>\n",
       "      <td>1321.0</td>\n",
       "      <td>INOVA</td>\n",
       "      <td>1527.405075</td>\n",
       "      <td>2180.212233</td>\n",
       "      <td>1.5</td>\n",
       "      <td>644.45874</td>\n",
       "    </tr>\n",
       "    <tr>\n",
       "      <th>1</th>\n",
       "      <td>535.0</td>\n",
       "      <td>BC</td>\n",
       "      <td>297.311734</td>\n",
       "      <td>1965.812273</td>\n",
       "      <td>1.5</td>\n",
       "      <td>602.154968</td>\n",
       "    </tr>\n",
       "    <tr>\n",
       "      <th>2</th>\n",
       "      <td>802.0</td>\n",
       "      <td>CBMEG</td>\n",
       "      <td>1535.553550</td>\n",
       "      <td>1646.180816</td>\n",
       "      <td>1.5</td>\n",
       "      <td>652.513123</td>\n",
       "    </tr>\n",
       "    <tr>\n",
       "      <th>3</th>\n",
       "      <td>845.0</td>\n",
       "      <td>CCUEC</td>\n",
       "      <td>1149.489906</td>\n",
       "      <td>1831.086023</td>\n",
       "      <td>1.5</td>\n",
       "      <td>616.78894</td>\n",
       "    </tr>\n",
       "    <tr>\n",
       "      <th>4</th>\n",
       "      <td>1037.0</td>\n",
       "      <td>GASTROCENTRO</td>\n",
       "      <td>1186.795533</td>\n",
       "      <td>667.866479</td>\n",
       "      <td>1.5</td>\n",
       "      <td>635.025085</td>\n",
       "    </tr>\n",
       "  </tbody>\n",
       "</table>\n",
       "</div>"
      ],
      "text/plain": [
       "       id          name            x            y    z   elevation\n",
       "0  1321.0         INOVA  1527.405075  2180.212233  1.5   644.45874\n",
       "1   535.0            BC   297.311734  1965.812273  1.5  602.154968\n",
       "2   802.0         CBMEG  1535.553550  1646.180816  1.5  652.513123\n",
       "3   845.0         CCUEC  1149.489906  1831.086023  1.5   616.78894\n",
       "4  1037.0  GASTROCENTRO  1186.795533   667.866479  1.5  635.025085"
      ]
     },
     "execution_count": 68,
     "metadata": {},
     "output_type": "execute_result"
    }
   ],
   "source": [
    "node_pos_df['elevation'] = teste_df['elevation']\n",
    "node_pos_df.head()"
   ]
  },
  {
   "cell_type": "code",
   "execution_count": 69,
   "metadata": {},
   "outputs": [
    {
     "data": {
      "text/html": [
       "<div>\n",
       "<style scoped>\n",
       "    .dataframe tbody tr th:only-of-type {\n",
       "        vertical-align: middle;\n",
       "    }\n",
       "\n",
       "    .dataframe tbody tr th {\n",
       "        vertical-align: top;\n",
       "    }\n",
       "\n",
       "    .dataframe thead th {\n",
       "        text-align: right;\n",
       "    }\n",
       "</style>\n",
       "<table border=\"1\" class=\"dataframe\">\n",
       "  <thead>\n",
       "    <tr style=\"text-align: right;\">\n",
       "      <th></th>\n",
       "      <th>id</th>\n",
       "      <th>name</th>\n",
       "      <th>x</th>\n",
       "      <th>y</th>\n",
       "      <th>z</th>\n",
       "      <th>elevation</th>\n",
       "    </tr>\n",
       "  </thead>\n",
       "  <tbody>\n",
       "    <tr>\n",
       "      <th>37</th>\n",
       "      <td>376.0</td>\n",
       "      <td>IQ</td>\n",
       "      <td>670.198697</td>\n",
       "      <td>1698.567029</td>\n",
       "      <td>1.5</td>\n",
       "      <td>606.811218</td>\n",
       "    </tr>\n",
       "    <tr>\n",
       "      <th>38</th>\n",
       "      <td>4.0</td>\n",
       "      <td>PREFEITURA</td>\n",
       "      <td>777.679360</td>\n",
       "      <td>1004.918245</td>\n",
       "      <td>1.5</td>\n",
       "      <td>621.810242</td>\n",
       "    </tr>\n",
       "    <tr>\n",
       "      <th>39</th>\n",
       "      <td>198.0</td>\n",
       "      <td>RA</td>\n",
       "      <td>956.600038</td>\n",
       "      <td>1298.185503</td>\n",
       "      <td>1.5</td>\n",
       "      <td>612.331543</td>\n",
       "    </tr>\n",
       "    <tr>\n",
       "      <th>40</th>\n",
       "      <td>1309.0</td>\n",
       "      <td>RS</td>\n",
       "      <td>1218.197469</td>\n",
       "      <td>2096.661066</td>\n",
       "      <td>1.5</td>\n",
       "      <td>624.28363</td>\n",
       "    </tr>\n",
       "    <tr>\n",
       "      <th>41</th>\n",
       "      <td>531.0</td>\n",
       "      <td>RU</td>\n",
       "      <td>213.981127</td>\n",
       "      <td>1827.408356</td>\n",
       "      <td>1.5</td>\n",
       "      <td>603.169128</td>\n",
       "    </tr>\n",
       "    <tr>\n",
       "      <th>42</th>\n",
       "      <td>-10001.0</td>\n",
       "      <td>CCS</td>\n",
       "      <td>955.805000</td>\n",
       "      <td>1150.583000</td>\n",
       "      <td>1.5</td>\n",
       "      <td>617.214233</td>\n",
       "    </tr>\n",
       "    <tr>\n",
       "      <th>43</th>\n",
       "      <td>-10002.0</td>\n",
       "      <td>EB</td>\n",
       "      <td>905.000000</td>\n",
       "      <td>1250.583000</td>\n",
       "      <td>1.5</td>\n",
       "      <td>617.214233</td>\n",
       "    </tr>\n",
       "    <tr>\n",
       "      <th>44</th>\n",
       "      <td>-10003.0</td>\n",
       "      <td>PO-RM</td>\n",
       "      <td>684.091527</td>\n",
       "      <td>1098.759834</td>\n",
       "      <td>1.5</td>\n",
       "      <td>617.214233</td>\n",
       "    </tr>\n",
       "    <tr>\n",
       "      <th>45</th>\n",
       "      <td>-10004.0</td>\n",
       "      <td>PO-AL</td>\n",
       "      <td>1188.779864</td>\n",
       "      <td>252.894795</td>\n",
       "      <td>1.5</td>\n",
       "      <td>617.214233</td>\n",
       "    </tr>\n",
       "    <tr>\n",
       "      <th>46</th>\n",
       "      <td>-10005.0</td>\n",
       "      <td>PO-VB</td>\n",
       "      <td>1192.235499</td>\n",
       "      <td>740.328771</td>\n",
       "      <td>1.5</td>\n",
       "      <td>604.0</td>\n",
       "    </tr>\n",
       "  </tbody>\n",
       "</table>\n",
       "</div>"
      ],
      "text/plain": [
       "         id        name            x            y    z   elevation\n",
       "37    376.0          IQ   670.198697  1698.567029  1.5  606.811218\n",
       "38      4.0  PREFEITURA   777.679360  1004.918245  1.5  621.810242\n",
       "39    198.0          RA   956.600038  1298.185503  1.5  612.331543\n",
       "40   1309.0          RS  1218.197469  2096.661066  1.5   624.28363\n",
       "41    531.0          RU   213.981127  1827.408356  1.5  603.169128\n",
       "42 -10001.0         CCS   955.805000  1150.583000  1.5  617.214233\n",
       "43 -10002.0          EB   905.000000  1250.583000  1.5  617.214233\n",
       "44 -10003.0       PO-RM   684.091527  1098.759834  1.5  617.214233\n",
       "45 -10004.0       PO-AL  1188.779864   252.894795  1.5  617.214233\n",
       "46 -10005.0       PO-VB  1192.235499   740.328771  1.5       604.0"
      ]
     },
     "execution_count": 69,
     "metadata": {},
     "output_type": "execute_result"
    }
   ],
   "source": [
    "node_pos_df.iloc[node_pos_df.shape[0]-10:node_pos_df.shape[0]]"
   ]
  },
  {
   "cell_type": "markdown",
   "metadata": {},
   "source": [
    "# Criar dataset de posicionamento de nós"
   ]
  },
  {
   "cell_type": "code",
   "execution_count": 73,
   "metadata": {},
   "outputs": [],
   "source": [
    "# salvando\n",
    "node_pos_df.to_csv(\"coletores_pos_dataset_elev.csv\", encoding='utf-8')"
   ]
  },
  {
   "cell_type": "code",
   "execution_count": 74,
   "metadata": {},
   "outputs": [
    {
     "name": "stdout",
     "output_type": "stream",
     "text": [
      "DATASET SHAPE: (47, 7)\n"
     ]
    },
    {
     "data": {
      "text/html": [
       "<div>\n",
       "<style scoped>\n",
       "    .dataframe tbody tr th:only-of-type {\n",
       "        vertical-align: middle;\n",
       "    }\n",
       "\n",
       "    .dataframe tbody tr th {\n",
       "        vertical-align: top;\n",
       "    }\n",
       "\n",
       "    .dataframe thead th {\n",
       "        text-align: right;\n",
       "    }\n",
       "</style>\n",
       "<table border=\"1\" class=\"dataframe\">\n",
       "  <thead>\n",
       "    <tr style=\"text-align: right;\">\n",
       "      <th></th>\n",
       "      <th>Unnamed: 0</th>\n",
       "      <th>id</th>\n",
       "      <th>name</th>\n",
       "      <th>x</th>\n",
       "      <th>y</th>\n",
       "      <th>z</th>\n",
       "      <th>elevation</th>\n",
       "    </tr>\n",
       "  </thead>\n",
       "  <tbody>\n",
       "    <tr>\n",
       "      <th>0</th>\n",
       "      <td>0</td>\n",
       "      <td>1321.0</td>\n",
       "      <td>INOVA</td>\n",
       "      <td>1527.405075</td>\n",
       "      <td>2180.212233</td>\n",
       "      <td>1.5</td>\n",
       "      <td>644.458740</td>\n",
       "    </tr>\n",
       "    <tr>\n",
       "      <th>1</th>\n",
       "      <td>1</td>\n",
       "      <td>535.0</td>\n",
       "      <td>BC</td>\n",
       "      <td>297.311734</td>\n",
       "      <td>1965.812273</td>\n",
       "      <td>1.5</td>\n",
       "      <td>602.154968</td>\n",
       "    </tr>\n",
       "    <tr>\n",
       "      <th>2</th>\n",
       "      <td>2</td>\n",
       "      <td>802.0</td>\n",
       "      <td>CBMEG</td>\n",
       "      <td>1535.553550</td>\n",
       "      <td>1646.180816</td>\n",
       "      <td>1.5</td>\n",
       "      <td>652.513123</td>\n",
       "    </tr>\n",
       "    <tr>\n",
       "      <th>3</th>\n",
       "      <td>3</td>\n",
       "      <td>845.0</td>\n",
       "      <td>CCUEC</td>\n",
       "      <td>1149.489906</td>\n",
       "      <td>1831.086023</td>\n",
       "      <td>1.5</td>\n",
       "      <td>616.788940</td>\n",
       "    </tr>\n",
       "    <tr>\n",
       "      <th>4</th>\n",
       "      <td>4</td>\n",
       "      <td>1037.0</td>\n",
       "      <td>GASTROCENTRO</td>\n",
       "      <td>1186.795533</td>\n",
       "      <td>667.866479</td>\n",
       "      <td>1.5</td>\n",
       "      <td>635.025085</td>\n",
       "    </tr>\n",
       "  </tbody>\n",
       "</table>\n",
       "</div>"
      ],
      "text/plain": [
       "   Unnamed: 0      id          name            x            y    z   elevation\n",
       "0           0  1321.0         INOVA  1527.405075  2180.212233  1.5  644.458740\n",
       "1           1   535.0            BC   297.311734  1965.812273  1.5  602.154968\n",
       "2           2   802.0         CBMEG  1535.553550  1646.180816  1.5  652.513123\n",
       "3           3   845.0         CCUEC  1149.489906  1831.086023  1.5  616.788940\n",
       "4           4  1037.0  GASTROCENTRO  1186.795533   667.866479  1.5  635.025085"
      ]
     },
     "execution_count": 74,
     "metadata": {},
     "output_type": "execute_result"
    }
   ],
   "source": [
    "# visualizando dataset\n",
    "# Visualizando dataset criado\n",
    "df = pd.read_csv(\"coletores_pos_dataset_elev.csv\") \n",
    "print(\"DATASET SHAPE:\", df.shape)\n",
    "df.head()"
   ]
  },
  {
   "cell_type": "code",
   "execution_count": null,
   "metadata": {},
   "outputs": [],
   "source": []
  }
 ],
 "metadata": {
  "kernelspec": {
   "display_name": "Python 3",
   "language": "python",
   "name": "python3"
  },
  "language_info": {
   "codemirror_mode": {
    "name": "ipython",
    "version": 3
   },
   "file_extension": ".py",
   "mimetype": "text/x-python",
   "name": "python",
   "nbconvert_exporter": "python",
   "pygments_lexer": "ipython3",
   "version": "3.8.11"
  }
 },
 "nbformat": 4,
 "nbformat_minor": 4
}
